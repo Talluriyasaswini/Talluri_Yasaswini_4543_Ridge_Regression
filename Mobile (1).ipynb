{
  "nbformat": 4,
  "nbformat_minor": 0,
  "metadata": {
    "colab": {
      "provenance": []
    },
    "kernelspec": {
      "name": "python3",
      "display_name": "Python 3"
    },
    "language_info": {
      "name": "python"
    }
  },
  "cells": [
    {
      "cell_type": "code",
      "execution_count": 1,
      "metadata": {
        "colab": {
          "base_uri": "https://localhost:8080/"
        },
        "id": "zs-GWEnbLJyI",
        "outputId": "7d11e667-0c03-449d-de21-330016d93959"
      },
      "outputs": [
        {
          "output_type": "stream",
          "name": "stdout",
          "text": [
            "Drive already mounted at /content/drive; to attempt to forcibly remount, call drive.mount(\"/content/drive\", force_remount=True).\n"
          ]
        }
      ],
      "source": [
        "from google.colab import drive\n",
        "drive.mount('/content/drive')"
      ]
    },
    {
      "cell_type": "code",
      "source": [
        "#importing pandas for data analysis and numpy for mathematical solving\n",
        "import pandas as pd\n",
        "import numpy as np\n",
        "#reading the data\n",
        "data = pd.read_csv('/content/drive/MyDrive/Ridge_Regression_with_5datasets/Mobile_Phone/Mobile phone price (1).csv')"
      ],
      "metadata": {
        "id": "grNdGk15LNWH"
      },
      "execution_count": 2,
      "outputs": []
    },
    {
      "cell_type": "code",
      "source": [
        "#top 5 \n",
        "data.head()"
      ],
      "metadata": {
        "colab": {
          "base_uri": "https://localhost:8080/",
          "height": 302
        },
        "id": "Dwmm7vWtLgoA",
        "outputId": "d2da87e9-3124-486e-8c28-b3a56b6f3729"
      },
      "execution_count": 3,
      "outputs": [
        {
          "output_type": "execute_result",
          "data": {
            "text/plain": [
              "     Brand              Model Storage    RAM  Screen Size (inches)  \\\n",
              "0    Apple      iPhone 13 Pro   128 GB   6 GB                  6.1   \n",
              "1  Samsung   Galaxy S21 Ultra   256 GB  12 GB                  6.8   \n",
              "2  OnePlus              9 Pro   128 GB   8 GB                  6.7   \n",
              "3   Xiaomi  Redmi Note 10 Pro   128 GB   6 GB                 6.67   \n",
              "4   Google            Pixel 6   128 GB   8 GB                  6.4   \n",
              "\n",
              "          Camera (MP)  Battery Capacity (mAh) Price ($)  \n",
              "0        12 + 12 + 12                    3095       999  \n",
              "1  108 + 10 + 10 + 12                    5000      1199  \n",
              "2     48 + 50 + 8 + 2                    4500       899  \n",
              "3      64 + 8 + 5 + 2                    5020       279  \n",
              "4           50 + 12.2                    4614       799  "
            ],
            "text/html": [
              "\n",
              "  <div id=\"df-27b145f4-465f-44cb-b725-119d1169551f\">\n",
              "    <div class=\"colab-df-container\">\n",
              "      <div>\n",
              "<style scoped>\n",
              "    .dataframe tbody tr th:only-of-type {\n",
              "        vertical-align: middle;\n",
              "    }\n",
              "\n",
              "    .dataframe tbody tr th {\n",
              "        vertical-align: top;\n",
              "    }\n",
              "\n",
              "    .dataframe thead th {\n",
              "        text-align: right;\n",
              "    }\n",
              "</style>\n",
              "<table border=\"1\" class=\"dataframe\">\n",
              "  <thead>\n",
              "    <tr style=\"text-align: right;\">\n",
              "      <th></th>\n",
              "      <th>Brand</th>\n",
              "      <th>Model</th>\n",
              "      <th>Storage</th>\n",
              "      <th>RAM</th>\n",
              "      <th>Screen Size (inches)</th>\n",
              "      <th>Camera (MP)</th>\n",
              "      <th>Battery Capacity (mAh)</th>\n",
              "      <th>Price ($)</th>\n",
              "    </tr>\n",
              "  </thead>\n",
              "  <tbody>\n",
              "    <tr>\n",
              "      <th>0</th>\n",
              "      <td>Apple</td>\n",
              "      <td>iPhone 13 Pro</td>\n",
              "      <td>128 GB</td>\n",
              "      <td>6 GB</td>\n",
              "      <td>6.1</td>\n",
              "      <td>12 + 12 + 12</td>\n",
              "      <td>3095</td>\n",
              "      <td>999</td>\n",
              "    </tr>\n",
              "    <tr>\n",
              "      <th>1</th>\n",
              "      <td>Samsung</td>\n",
              "      <td>Galaxy S21 Ultra</td>\n",
              "      <td>256 GB</td>\n",
              "      <td>12 GB</td>\n",
              "      <td>6.8</td>\n",
              "      <td>108 + 10 + 10 + 12</td>\n",
              "      <td>5000</td>\n",
              "      <td>1199</td>\n",
              "    </tr>\n",
              "    <tr>\n",
              "      <th>2</th>\n",
              "      <td>OnePlus</td>\n",
              "      <td>9 Pro</td>\n",
              "      <td>128 GB</td>\n",
              "      <td>8 GB</td>\n",
              "      <td>6.7</td>\n",
              "      <td>48 + 50 + 8 + 2</td>\n",
              "      <td>4500</td>\n",
              "      <td>899</td>\n",
              "    </tr>\n",
              "    <tr>\n",
              "      <th>3</th>\n",
              "      <td>Xiaomi</td>\n",
              "      <td>Redmi Note 10 Pro</td>\n",
              "      <td>128 GB</td>\n",
              "      <td>6 GB</td>\n",
              "      <td>6.67</td>\n",
              "      <td>64 + 8 + 5 + 2</td>\n",
              "      <td>5020</td>\n",
              "      <td>279</td>\n",
              "    </tr>\n",
              "    <tr>\n",
              "      <th>4</th>\n",
              "      <td>Google</td>\n",
              "      <td>Pixel 6</td>\n",
              "      <td>128 GB</td>\n",
              "      <td>8 GB</td>\n",
              "      <td>6.4</td>\n",
              "      <td>50 + 12.2</td>\n",
              "      <td>4614</td>\n",
              "      <td>799</td>\n",
              "    </tr>\n",
              "  </tbody>\n",
              "</table>\n",
              "</div>\n",
              "      <button class=\"colab-df-convert\" onclick=\"convertToInteractive('df-27b145f4-465f-44cb-b725-119d1169551f')\"\n",
              "              title=\"Convert this dataframe to an interactive table.\"\n",
              "              style=\"display:none;\">\n",
              "        \n",
              "  <svg xmlns=\"http://www.w3.org/2000/svg\" height=\"24px\"viewBox=\"0 0 24 24\"\n",
              "       width=\"24px\">\n",
              "    <path d=\"M0 0h24v24H0V0z\" fill=\"none\"/>\n",
              "    <path d=\"M18.56 5.44l.94 2.06.94-2.06 2.06-.94-2.06-.94-.94-2.06-.94 2.06-2.06.94zm-11 1L8.5 8.5l.94-2.06 2.06-.94-2.06-.94L8.5 2.5l-.94 2.06-2.06.94zm10 10l.94 2.06.94-2.06 2.06-.94-2.06-.94-.94-2.06-.94 2.06-2.06.94z\"/><path d=\"M17.41 7.96l-1.37-1.37c-.4-.4-.92-.59-1.43-.59-.52 0-1.04.2-1.43.59L10.3 9.45l-7.72 7.72c-.78.78-.78 2.05 0 2.83L4 21.41c.39.39.9.59 1.41.59.51 0 1.02-.2 1.41-.59l7.78-7.78 2.81-2.81c.8-.78.8-2.07 0-2.86zM5.41 20L4 18.59l7.72-7.72 1.47 1.35L5.41 20z\"/>\n",
              "  </svg>\n",
              "      </button>\n",
              "      \n",
              "  <style>\n",
              "    .colab-df-container {\n",
              "      display:flex;\n",
              "      flex-wrap:wrap;\n",
              "      gap: 12px;\n",
              "    }\n",
              "\n",
              "    .colab-df-convert {\n",
              "      background-color: #E8F0FE;\n",
              "      border: none;\n",
              "      border-radius: 50%;\n",
              "      cursor: pointer;\n",
              "      display: none;\n",
              "      fill: #1967D2;\n",
              "      height: 32px;\n",
              "      padding: 0 0 0 0;\n",
              "      width: 32px;\n",
              "    }\n",
              "\n",
              "    .colab-df-convert:hover {\n",
              "      background-color: #E2EBFA;\n",
              "      box-shadow: 0px 1px 2px rgba(60, 64, 67, 0.3), 0px 1px 3px 1px rgba(60, 64, 67, 0.15);\n",
              "      fill: #174EA6;\n",
              "    }\n",
              "\n",
              "    [theme=dark] .colab-df-convert {\n",
              "      background-color: #3B4455;\n",
              "      fill: #D2E3FC;\n",
              "    }\n",
              "\n",
              "    [theme=dark] .colab-df-convert:hover {\n",
              "      background-color: #434B5C;\n",
              "      box-shadow: 0px 1px 3px 1px rgba(0, 0, 0, 0.15);\n",
              "      filter: drop-shadow(0px 1px 2px rgba(0, 0, 0, 0.3));\n",
              "      fill: #FFFFFF;\n",
              "    }\n",
              "  </style>\n",
              "\n",
              "      <script>\n",
              "        const buttonEl =\n",
              "          document.querySelector('#df-27b145f4-465f-44cb-b725-119d1169551f button.colab-df-convert');\n",
              "        buttonEl.style.display =\n",
              "          google.colab.kernel.accessAllowed ? 'block' : 'none';\n",
              "\n",
              "        async function convertToInteractive(key) {\n",
              "          const element = document.querySelector('#df-27b145f4-465f-44cb-b725-119d1169551f');\n",
              "          const dataTable =\n",
              "            await google.colab.kernel.invokeFunction('convertToInteractive',\n",
              "                                                     [key], {});\n",
              "          if (!dataTable) return;\n",
              "\n",
              "          const docLinkHtml = 'Like what you see? Visit the ' +\n",
              "            '<a target=\"_blank\" href=https://colab.research.google.com/notebooks/data_table.ipynb>data table notebook</a>'\n",
              "            + ' to learn more about interactive tables.';\n",
              "          element.innerHTML = '';\n",
              "          dataTable['output_type'] = 'display_data';\n",
              "          await google.colab.output.renderOutput(dataTable, element);\n",
              "          const docLink = document.createElement('div');\n",
              "          docLink.innerHTML = docLinkHtml;\n",
              "          element.appendChild(docLink);\n",
              "        }\n",
              "      </script>\n",
              "    </div>\n",
              "  </div>\n",
              "  "
            ]
          },
          "metadata": {},
          "execution_count": 3
        }
      ]
    },
    {
      "cell_type": "code",
      "source": [
        "#bottom 5\n",
        "data.tail()"
      ],
      "metadata": {
        "colab": {
          "base_uri": "https://localhost:8080/",
          "height": 250
        },
        "id": "dg0vNhoLLhsW",
        "outputId": "836f5cbc-d18f-409f-f3f8-fcce576878ad"
      },
      "execution_count": 4,
      "outputs": [
        {
          "output_type": "execute_result",
          "data": {
            "text/plain": [
              "       Brand              Model Storage  RAM  Screen Size (inches)  \\\n",
              "402  Samsung   Galaxy Note20 5G      128    8                  6.7   \n",
              "403   Xiaomi      Mi 10 Lite 5G      128    6                 6.57   \n",
              "404    Apple  iPhone 12 Pro Max      128    6                  6.7   \n",
              "405     Oppo              Reno3      128    8                  6.4   \n",
              "406  Samsung    Galaxy S10 Lite      128    6                  6.7   \n",
              "\n",
              "    Camera (MP)  Battery Capacity (mAh) Price ($)  \n",
              "402    12+64+12                    4300      1049  \n",
              "403    48+8+2+2                    4160       349  \n",
              "404    12+12+12                    3687      1099  \n",
              "405   48+13+8+2                    4025       429  \n",
              "406     48+12+5                    4500       649  "
            ],
            "text/html": [
              "\n",
              "  <div id=\"df-126e334f-7fa4-4e88-a459-8726e2db1e4e\">\n",
              "    <div class=\"colab-df-container\">\n",
              "      <div>\n",
              "<style scoped>\n",
              "    .dataframe tbody tr th:only-of-type {\n",
              "        vertical-align: middle;\n",
              "    }\n",
              "\n",
              "    .dataframe tbody tr th {\n",
              "        vertical-align: top;\n",
              "    }\n",
              "\n",
              "    .dataframe thead th {\n",
              "        text-align: right;\n",
              "    }\n",
              "</style>\n",
              "<table border=\"1\" class=\"dataframe\">\n",
              "  <thead>\n",
              "    <tr style=\"text-align: right;\">\n",
              "      <th></th>\n",
              "      <th>Brand</th>\n",
              "      <th>Model</th>\n",
              "      <th>Storage</th>\n",
              "      <th>RAM</th>\n",
              "      <th>Screen Size (inches)</th>\n",
              "      <th>Camera (MP)</th>\n",
              "      <th>Battery Capacity (mAh)</th>\n",
              "      <th>Price ($)</th>\n",
              "    </tr>\n",
              "  </thead>\n",
              "  <tbody>\n",
              "    <tr>\n",
              "      <th>402</th>\n",
              "      <td>Samsung</td>\n",
              "      <td>Galaxy Note20 5G</td>\n",
              "      <td>128</td>\n",
              "      <td>8</td>\n",
              "      <td>6.7</td>\n",
              "      <td>12+64+12</td>\n",
              "      <td>4300</td>\n",
              "      <td>1049</td>\n",
              "    </tr>\n",
              "    <tr>\n",
              "      <th>403</th>\n",
              "      <td>Xiaomi</td>\n",
              "      <td>Mi 10 Lite 5G</td>\n",
              "      <td>128</td>\n",
              "      <td>6</td>\n",
              "      <td>6.57</td>\n",
              "      <td>48+8+2+2</td>\n",
              "      <td>4160</td>\n",
              "      <td>349</td>\n",
              "    </tr>\n",
              "    <tr>\n",
              "      <th>404</th>\n",
              "      <td>Apple</td>\n",
              "      <td>iPhone 12 Pro Max</td>\n",
              "      <td>128</td>\n",
              "      <td>6</td>\n",
              "      <td>6.7</td>\n",
              "      <td>12+12+12</td>\n",
              "      <td>3687</td>\n",
              "      <td>1099</td>\n",
              "    </tr>\n",
              "    <tr>\n",
              "      <th>405</th>\n",
              "      <td>Oppo</td>\n",
              "      <td>Reno3</td>\n",
              "      <td>128</td>\n",
              "      <td>8</td>\n",
              "      <td>6.4</td>\n",
              "      <td>48+13+8+2</td>\n",
              "      <td>4025</td>\n",
              "      <td>429</td>\n",
              "    </tr>\n",
              "    <tr>\n",
              "      <th>406</th>\n",
              "      <td>Samsung</td>\n",
              "      <td>Galaxy S10 Lite</td>\n",
              "      <td>128</td>\n",
              "      <td>6</td>\n",
              "      <td>6.7</td>\n",
              "      <td>48+12+5</td>\n",
              "      <td>4500</td>\n",
              "      <td>649</td>\n",
              "    </tr>\n",
              "  </tbody>\n",
              "</table>\n",
              "</div>\n",
              "      <button class=\"colab-df-convert\" onclick=\"convertToInteractive('df-126e334f-7fa4-4e88-a459-8726e2db1e4e')\"\n",
              "              title=\"Convert this dataframe to an interactive table.\"\n",
              "              style=\"display:none;\">\n",
              "        \n",
              "  <svg xmlns=\"http://www.w3.org/2000/svg\" height=\"24px\"viewBox=\"0 0 24 24\"\n",
              "       width=\"24px\">\n",
              "    <path d=\"M0 0h24v24H0V0z\" fill=\"none\"/>\n",
              "    <path d=\"M18.56 5.44l.94 2.06.94-2.06 2.06-.94-2.06-.94-.94-2.06-.94 2.06-2.06.94zm-11 1L8.5 8.5l.94-2.06 2.06-.94-2.06-.94L8.5 2.5l-.94 2.06-2.06.94zm10 10l.94 2.06.94-2.06 2.06-.94-2.06-.94-.94-2.06-.94 2.06-2.06.94z\"/><path d=\"M17.41 7.96l-1.37-1.37c-.4-.4-.92-.59-1.43-.59-.52 0-1.04.2-1.43.59L10.3 9.45l-7.72 7.72c-.78.78-.78 2.05 0 2.83L4 21.41c.39.39.9.59 1.41.59.51 0 1.02-.2 1.41-.59l7.78-7.78 2.81-2.81c.8-.78.8-2.07 0-2.86zM5.41 20L4 18.59l7.72-7.72 1.47 1.35L5.41 20z\"/>\n",
              "  </svg>\n",
              "      </button>\n",
              "      \n",
              "  <style>\n",
              "    .colab-df-container {\n",
              "      display:flex;\n",
              "      flex-wrap:wrap;\n",
              "      gap: 12px;\n",
              "    }\n",
              "\n",
              "    .colab-df-convert {\n",
              "      background-color: #E8F0FE;\n",
              "      border: none;\n",
              "      border-radius: 50%;\n",
              "      cursor: pointer;\n",
              "      display: none;\n",
              "      fill: #1967D2;\n",
              "      height: 32px;\n",
              "      padding: 0 0 0 0;\n",
              "      width: 32px;\n",
              "    }\n",
              "\n",
              "    .colab-df-convert:hover {\n",
              "      background-color: #E2EBFA;\n",
              "      box-shadow: 0px 1px 2px rgba(60, 64, 67, 0.3), 0px 1px 3px 1px rgba(60, 64, 67, 0.15);\n",
              "      fill: #174EA6;\n",
              "    }\n",
              "\n",
              "    [theme=dark] .colab-df-convert {\n",
              "      background-color: #3B4455;\n",
              "      fill: #D2E3FC;\n",
              "    }\n",
              "\n",
              "    [theme=dark] .colab-df-convert:hover {\n",
              "      background-color: #434B5C;\n",
              "      box-shadow: 0px 1px 3px 1px rgba(0, 0, 0, 0.15);\n",
              "      filter: drop-shadow(0px 1px 2px rgba(0, 0, 0, 0.3));\n",
              "      fill: #FFFFFF;\n",
              "    }\n",
              "  </style>\n",
              "\n",
              "      <script>\n",
              "        const buttonEl =\n",
              "          document.querySelector('#df-126e334f-7fa4-4e88-a459-8726e2db1e4e button.colab-df-convert');\n",
              "        buttonEl.style.display =\n",
              "          google.colab.kernel.accessAllowed ? 'block' : 'none';\n",
              "\n",
              "        async function convertToInteractive(key) {\n",
              "          const element = document.querySelector('#df-126e334f-7fa4-4e88-a459-8726e2db1e4e');\n",
              "          const dataTable =\n",
              "            await google.colab.kernel.invokeFunction('convertToInteractive',\n",
              "                                                     [key], {});\n",
              "          if (!dataTable) return;\n",
              "\n",
              "          const docLinkHtml = 'Like what you see? Visit the ' +\n",
              "            '<a target=\"_blank\" href=https://colab.research.google.com/notebooks/data_table.ipynb>data table notebook</a>'\n",
              "            + ' to learn more about interactive tables.';\n",
              "          element.innerHTML = '';\n",
              "          dataTable['output_type'] = 'display_data';\n",
              "          await google.colab.output.renderOutput(dataTable, element);\n",
              "          const docLink = document.createElement('div');\n",
              "          docLink.innerHTML = docLinkHtml;\n",
              "          element.appendChild(docLink);\n",
              "        }\n",
              "      </script>\n",
              "    </div>\n",
              "  </div>\n",
              "  "
            ]
          },
          "metadata": {},
          "execution_count": 4
        }
      ]
    },
    {
      "cell_type": "code",
      "source": [
        "#dimensions\n",
        "data.shape"
      ],
      "metadata": {
        "colab": {
          "base_uri": "https://localhost:8080/"
        },
        "id": "ULAuwVMyLi5-",
        "outputId": "c84ef098-cca1-44cc-8cac-d601e74d65c1"
      },
      "execution_count": 5,
      "outputs": [
        {
          "output_type": "execute_result",
          "data": {
            "text/plain": [
              "(407, 8)"
            ]
          },
          "metadata": {},
          "execution_count": 5
        }
      ]
    },
    {
      "cell_type": "code",
      "source": [
        "#descriptive statistics for numeric column\n",
        "data.describe()"
      ],
      "metadata": {
        "colab": {
          "base_uri": "https://localhost:8080/",
          "height": 300
        },
        "id": "ieP4o04eLmP2",
        "outputId": "ad51fad7-16a3-442a-b211-1603078d61a3"
      },
      "execution_count": 6,
      "outputs": [
        {
          "output_type": "execute_result",
          "data": {
            "text/plain": [
              "       Battery Capacity (mAh)\n",
              "count              407.000000\n",
              "mean              4676.476658\n",
              "std                797.193713\n",
              "min               1821.000000\n",
              "25%               4300.000000\n",
              "50%               5000.000000\n",
              "75%               5000.000000\n",
              "max               7000.000000"
            ],
            "text/html": [
              "\n",
              "  <div id=\"df-57edfa70-c175-4c57-80b2-da3de6eceeea\">\n",
              "    <div class=\"colab-df-container\">\n",
              "      <div>\n",
              "<style scoped>\n",
              "    .dataframe tbody tr th:only-of-type {\n",
              "        vertical-align: middle;\n",
              "    }\n",
              "\n",
              "    .dataframe tbody tr th {\n",
              "        vertical-align: top;\n",
              "    }\n",
              "\n",
              "    .dataframe thead th {\n",
              "        text-align: right;\n",
              "    }\n",
              "</style>\n",
              "<table border=\"1\" class=\"dataframe\">\n",
              "  <thead>\n",
              "    <tr style=\"text-align: right;\">\n",
              "      <th></th>\n",
              "      <th>Battery Capacity (mAh)</th>\n",
              "    </tr>\n",
              "  </thead>\n",
              "  <tbody>\n",
              "    <tr>\n",
              "      <th>count</th>\n",
              "      <td>407.000000</td>\n",
              "    </tr>\n",
              "    <tr>\n",
              "      <th>mean</th>\n",
              "      <td>4676.476658</td>\n",
              "    </tr>\n",
              "    <tr>\n",
              "      <th>std</th>\n",
              "      <td>797.193713</td>\n",
              "    </tr>\n",
              "    <tr>\n",
              "      <th>min</th>\n",
              "      <td>1821.000000</td>\n",
              "    </tr>\n",
              "    <tr>\n",
              "      <th>25%</th>\n",
              "      <td>4300.000000</td>\n",
              "    </tr>\n",
              "    <tr>\n",
              "      <th>50%</th>\n",
              "      <td>5000.000000</td>\n",
              "    </tr>\n",
              "    <tr>\n",
              "      <th>75%</th>\n",
              "      <td>5000.000000</td>\n",
              "    </tr>\n",
              "    <tr>\n",
              "      <th>max</th>\n",
              "      <td>7000.000000</td>\n",
              "    </tr>\n",
              "  </tbody>\n",
              "</table>\n",
              "</div>\n",
              "      <button class=\"colab-df-convert\" onclick=\"convertToInteractive('df-57edfa70-c175-4c57-80b2-da3de6eceeea')\"\n",
              "              title=\"Convert this dataframe to an interactive table.\"\n",
              "              style=\"display:none;\">\n",
              "        \n",
              "  <svg xmlns=\"http://www.w3.org/2000/svg\" height=\"24px\"viewBox=\"0 0 24 24\"\n",
              "       width=\"24px\">\n",
              "    <path d=\"M0 0h24v24H0V0z\" fill=\"none\"/>\n",
              "    <path d=\"M18.56 5.44l.94 2.06.94-2.06 2.06-.94-2.06-.94-.94-2.06-.94 2.06-2.06.94zm-11 1L8.5 8.5l.94-2.06 2.06-.94-2.06-.94L8.5 2.5l-.94 2.06-2.06.94zm10 10l.94 2.06.94-2.06 2.06-.94-2.06-.94-.94-2.06-.94 2.06-2.06.94z\"/><path d=\"M17.41 7.96l-1.37-1.37c-.4-.4-.92-.59-1.43-.59-.52 0-1.04.2-1.43.59L10.3 9.45l-7.72 7.72c-.78.78-.78 2.05 0 2.83L4 21.41c.39.39.9.59 1.41.59.51 0 1.02-.2 1.41-.59l7.78-7.78 2.81-2.81c.8-.78.8-2.07 0-2.86zM5.41 20L4 18.59l7.72-7.72 1.47 1.35L5.41 20z\"/>\n",
              "  </svg>\n",
              "      </button>\n",
              "      \n",
              "  <style>\n",
              "    .colab-df-container {\n",
              "      display:flex;\n",
              "      flex-wrap:wrap;\n",
              "      gap: 12px;\n",
              "    }\n",
              "\n",
              "    .colab-df-convert {\n",
              "      background-color: #E8F0FE;\n",
              "      border: none;\n",
              "      border-radius: 50%;\n",
              "      cursor: pointer;\n",
              "      display: none;\n",
              "      fill: #1967D2;\n",
              "      height: 32px;\n",
              "      padding: 0 0 0 0;\n",
              "      width: 32px;\n",
              "    }\n",
              "\n",
              "    .colab-df-convert:hover {\n",
              "      background-color: #E2EBFA;\n",
              "      box-shadow: 0px 1px 2px rgba(60, 64, 67, 0.3), 0px 1px 3px 1px rgba(60, 64, 67, 0.15);\n",
              "      fill: #174EA6;\n",
              "    }\n",
              "\n",
              "    [theme=dark] .colab-df-convert {\n",
              "      background-color: #3B4455;\n",
              "      fill: #D2E3FC;\n",
              "    }\n",
              "\n",
              "    [theme=dark] .colab-df-convert:hover {\n",
              "      background-color: #434B5C;\n",
              "      box-shadow: 0px 1px 3px 1px rgba(0, 0, 0, 0.15);\n",
              "      filter: drop-shadow(0px 1px 2px rgba(0, 0, 0, 0.3));\n",
              "      fill: #FFFFFF;\n",
              "    }\n",
              "  </style>\n",
              "\n",
              "      <script>\n",
              "        const buttonEl =\n",
              "          document.querySelector('#df-57edfa70-c175-4c57-80b2-da3de6eceeea button.colab-df-convert');\n",
              "        buttonEl.style.display =\n",
              "          google.colab.kernel.accessAllowed ? 'block' : 'none';\n",
              "\n",
              "        async function convertToInteractive(key) {\n",
              "          const element = document.querySelector('#df-57edfa70-c175-4c57-80b2-da3de6eceeea');\n",
              "          const dataTable =\n",
              "            await google.colab.kernel.invokeFunction('convertToInteractive',\n",
              "                                                     [key], {});\n",
              "          if (!dataTable) return;\n",
              "\n",
              "          const docLinkHtml = 'Like what you see? Visit the ' +\n",
              "            '<a target=\"_blank\" href=https://colab.research.google.com/notebooks/data_table.ipynb>data table notebook</a>'\n",
              "            + ' to learn more about interactive tables.';\n",
              "          element.innerHTML = '';\n",
              "          dataTable['output_type'] = 'display_data';\n",
              "          await google.colab.output.renderOutput(dataTable, element);\n",
              "          const docLink = document.createElement('div');\n",
              "          docLink.innerHTML = docLinkHtml;\n",
              "          element.appendChild(docLink);\n",
              "        }\n",
              "      </script>\n",
              "    </div>\n",
              "  </div>\n",
              "  "
            ]
          },
          "metadata": {},
          "execution_count": 6
        }
      ]
    },
    {
      "cell_type": "code",
      "source": [
        "#count,null values and dtype\n",
        "data.info()"
      ],
      "metadata": {
        "colab": {
          "base_uri": "https://localhost:8080/"
        },
        "id": "YAc12BHgLn5d",
        "outputId": "a0f539d2-00a2-4f44-b80c-4758de48891b"
      },
      "execution_count": 7,
      "outputs": [
        {
          "output_type": "stream",
          "name": "stdout",
          "text": [
            "<class 'pandas.core.frame.DataFrame'>\n",
            "RangeIndex: 407 entries, 0 to 406\n",
            "Data columns (total 8 columns):\n",
            " #   Column                  Non-Null Count  Dtype \n",
            "---  ------                  --------------  ----- \n",
            " 0   Brand                   407 non-null    object\n",
            " 1   Model                   407 non-null    object\n",
            " 2   Storage                 407 non-null    object\n",
            " 3   RAM                     407 non-null    object\n",
            " 4   Screen Size (inches)    407 non-null    object\n",
            " 5   Camera (MP)             407 non-null    object\n",
            " 6   Battery Capacity (mAh)  407 non-null    int64 \n",
            " 7   Price ($)               407 non-null    object\n",
            "dtypes: int64(1), object(7)\n",
            "memory usage: 25.6+ KB\n"
          ]
        }
      ]
    },
    {
      "cell_type": "code",
      "source": [
        "#statistics for object column\n",
        "data.describe(include=['O'])"
      ],
      "metadata": {
        "colab": {
          "base_uri": "https://localhost:8080/",
          "height": 175
        },
        "id": "acmTHj7mLpaW",
        "outputId": "ebb0945e-e4d6-4b86-e506-f85c5160c9c2"
      },
      "execution_count": 8,
      "outputs": [
        {
          "output_type": "execute_result",
          "data": {
            "text/plain": [
              "          Brand        Model Storage  RAM  Screen Size (inches)  \\\n",
              "count       407          407      407  407                  407   \n",
              "unique       16          239       13   20                   41   \n",
              "top     Samsung  Poco X3 Pro    128GB  4GB                  6.5   \n",
              "freq         79            6      125   68                  108   \n",
              "\n",
              "             Camera (MP) Price ($)  \n",
              "count                407       407  \n",
              "unique               143        89  \n",
              "top     13MP + 2MP + 2MP     $149   \n",
              "freq                  29        18  "
            ],
            "text/html": [
              "\n",
              "  <div id=\"df-3f784c95-270c-4665-a246-b631da7f42bf\">\n",
              "    <div class=\"colab-df-container\">\n",
              "      <div>\n",
              "<style scoped>\n",
              "    .dataframe tbody tr th:only-of-type {\n",
              "        vertical-align: middle;\n",
              "    }\n",
              "\n",
              "    .dataframe tbody tr th {\n",
              "        vertical-align: top;\n",
              "    }\n",
              "\n",
              "    .dataframe thead th {\n",
              "        text-align: right;\n",
              "    }\n",
              "</style>\n",
              "<table border=\"1\" class=\"dataframe\">\n",
              "  <thead>\n",
              "    <tr style=\"text-align: right;\">\n",
              "      <th></th>\n",
              "      <th>Brand</th>\n",
              "      <th>Model</th>\n",
              "      <th>Storage</th>\n",
              "      <th>RAM</th>\n",
              "      <th>Screen Size (inches)</th>\n",
              "      <th>Camera (MP)</th>\n",
              "      <th>Price ($)</th>\n",
              "    </tr>\n",
              "  </thead>\n",
              "  <tbody>\n",
              "    <tr>\n",
              "      <th>count</th>\n",
              "      <td>407</td>\n",
              "      <td>407</td>\n",
              "      <td>407</td>\n",
              "      <td>407</td>\n",
              "      <td>407</td>\n",
              "      <td>407</td>\n",
              "      <td>407</td>\n",
              "    </tr>\n",
              "    <tr>\n",
              "      <th>unique</th>\n",
              "      <td>16</td>\n",
              "      <td>239</td>\n",
              "      <td>13</td>\n",
              "      <td>20</td>\n",
              "      <td>41</td>\n",
              "      <td>143</td>\n",
              "      <td>89</td>\n",
              "    </tr>\n",
              "    <tr>\n",
              "      <th>top</th>\n",
              "      <td>Samsung</td>\n",
              "      <td>Poco X3 Pro</td>\n",
              "      <td>128GB</td>\n",
              "      <td>4GB</td>\n",
              "      <td>6.5</td>\n",
              "      <td>13MP + 2MP + 2MP</td>\n",
              "      <td>$149</td>\n",
              "    </tr>\n",
              "    <tr>\n",
              "      <th>freq</th>\n",
              "      <td>79</td>\n",
              "      <td>6</td>\n",
              "      <td>125</td>\n",
              "      <td>68</td>\n",
              "      <td>108</td>\n",
              "      <td>29</td>\n",
              "      <td>18</td>\n",
              "    </tr>\n",
              "  </tbody>\n",
              "</table>\n",
              "</div>\n",
              "      <button class=\"colab-df-convert\" onclick=\"convertToInteractive('df-3f784c95-270c-4665-a246-b631da7f42bf')\"\n",
              "              title=\"Convert this dataframe to an interactive table.\"\n",
              "              style=\"display:none;\">\n",
              "        \n",
              "  <svg xmlns=\"http://www.w3.org/2000/svg\" height=\"24px\"viewBox=\"0 0 24 24\"\n",
              "       width=\"24px\">\n",
              "    <path d=\"M0 0h24v24H0V0z\" fill=\"none\"/>\n",
              "    <path d=\"M18.56 5.44l.94 2.06.94-2.06 2.06-.94-2.06-.94-.94-2.06-.94 2.06-2.06.94zm-11 1L8.5 8.5l.94-2.06 2.06-.94-2.06-.94L8.5 2.5l-.94 2.06-2.06.94zm10 10l.94 2.06.94-2.06 2.06-.94-2.06-.94-.94-2.06-.94 2.06-2.06.94z\"/><path d=\"M17.41 7.96l-1.37-1.37c-.4-.4-.92-.59-1.43-.59-.52 0-1.04.2-1.43.59L10.3 9.45l-7.72 7.72c-.78.78-.78 2.05 0 2.83L4 21.41c.39.39.9.59 1.41.59.51 0 1.02-.2 1.41-.59l7.78-7.78 2.81-2.81c.8-.78.8-2.07 0-2.86zM5.41 20L4 18.59l7.72-7.72 1.47 1.35L5.41 20z\"/>\n",
              "  </svg>\n",
              "      </button>\n",
              "      \n",
              "  <style>\n",
              "    .colab-df-container {\n",
              "      display:flex;\n",
              "      flex-wrap:wrap;\n",
              "      gap: 12px;\n",
              "    }\n",
              "\n",
              "    .colab-df-convert {\n",
              "      background-color: #E8F0FE;\n",
              "      border: none;\n",
              "      border-radius: 50%;\n",
              "      cursor: pointer;\n",
              "      display: none;\n",
              "      fill: #1967D2;\n",
              "      height: 32px;\n",
              "      padding: 0 0 0 0;\n",
              "      width: 32px;\n",
              "    }\n",
              "\n",
              "    .colab-df-convert:hover {\n",
              "      background-color: #E2EBFA;\n",
              "      box-shadow: 0px 1px 2px rgba(60, 64, 67, 0.3), 0px 1px 3px 1px rgba(60, 64, 67, 0.15);\n",
              "      fill: #174EA6;\n",
              "    }\n",
              "\n",
              "    [theme=dark] .colab-df-convert {\n",
              "      background-color: #3B4455;\n",
              "      fill: #D2E3FC;\n",
              "    }\n",
              "\n",
              "    [theme=dark] .colab-df-convert:hover {\n",
              "      background-color: #434B5C;\n",
              "      box-shadow: 0px 1px 3px 1px rgba(0, 0, 0, 0.15);\n",
              "      filter: drop-shadow(0px 1px 2px rgba(0, 0, 0, 0.3));\n",
              "      fill: #FFFFFF;\n",
              "    }\n",
              "  </style>\n",
              "\n",
              "      <script>\n",
              "        const buttonEl =\n",
              "          document.querySelector('#df-3f784c95-270c-4665-a246-b631da7f42bf button.colab-df-convert');\n",
              "        buttonEl.style.display =\n",
              "          google.colab.kernel.accessAllowed ? 'block' : 'none';\n",
              "\n",
              "        async function convertToInteractive(key) {\n",
              "          const element = document.querySelector('#df-3f784c95-270c-4665-a246-b631da7f42bf');\n",
              "          const dataTable =\n",
              "            await google.colab.kernel.invokeFunction('convertToInteractive',\n",
              "                                                     [key], {});\n",
              "          if (!dataTable) return;\n",
              "\n",
              "          const docLinkHtml = 'Like what you see? Visit the ' +\n",
              "            '<a target=\"_blank\" href=https://colab.research.google.com/notebooks/data_table.ipynb>data table notebook</a>'\n",
              "            + ' to learn more about interactive tables.';\n",
              "          element.innerHTML = '';\n",
              "          dataTable['output_type'] = 'display_data';\n",
              "          await google.colab.output.renderOutput(dataTable, element);\n",
              "          const docLink = document.createElement('div');\n",
              "          docLink.innerHTML = docLinkHtml;\n",
              "          element.appendChild(docLink);\n",
              "        }\n",
              "      </script>\n",
              "    </div>\n",
              "  </div>\n",
              "  "
            ]
          },
          "metadata": {},
          "execution_count": 8
        }
      ]
    },
    {
      "cell_type": "code",
      "source": [
        "#for visualization\n",
        "import seaborn as sns\n",
        "import matplotlib.pyplot as plt"
      ],
      "metadata": {
        "id": "Fjbd1CMHLzfl"
      },
      "execution_count": 9,
      "outputs": []
    },
    {
      "cell_type": "code",
      "source": [
        "#to count the frequency of each unique variable\n",
        "from collections import Counter\n",
        "for i in data:\n",
        "  point = Counter(data[i].dropna().tolist()).most_common(10)\n",
        "  name = [name[0] for name in point]\n",
        "  count = [name[1] for name in point]\n",
        "  print(i)\n",
        "  plt.subplots(figsize = (15,8))\n",
        "  sns.barplot(x = name, y = count)"
      ],
      "metadata": {
        "colab": {
          "base_uri": "https://localhost:8080/",
          "height": 1000
        },
        "id": "fCx4KcFdL9R2",
        "outputId": "e63443fe-4f7e-4539-b786-8000ad5f4e3a"
      },
      "execution_count": 10,
      "outputs": [
        {
          "output_type": "stream",
          "name": "stdout",
          "text": [
            "Brand\n",
            "Model\n",
            "Storage \n",
            "RAM \n",
            "Screen Size (inches)\n",
            "Camera (MP)\n",
            "Battery Capacity (mAh)\n",
            "Price ($)\n"
          ]
        },
        {
          "output_type": "display_data",
          "data": {
            "text/plain": [
              "<Figure size 1080x576 with 1 Axes>"
            ],
            "image/png": "[encoded data removed]"
          },
          "metadata": {
            "needs_background": "light"
          }
        },
        {
          "output_type": "display_data",
          "data": {
            "text/plain": [
              "<Figure size 1080x576 with 1 Axes>"
            ],
            "image/png": "[encoded data removed]"
          },
          "metadata": {
            "needs_background": "light"
          }
        },
        {
          "output_type": "display_data",
          "data": {
            "text/plain": [
              "<Figure size 1080x576 with 1 Axes>"
            ],
            "image/png": "[encoded data removed]"
          },
          "metadata": {
            "needs_background": "light"
          }
        },
        {
          "output_type": "display_data",
          "data": {
            "text/plain": [
              "<Figure size 1080x576 with 1 Axes>"
            ],
            "image/png": "[encoded data removed]"
          },
          "metadata": {
            "needs_background": "light"
          }
        },
        {
          "output_type": "display_data",
          "data": {
            "text/plain": [
              "<Figure size 1080x576 with 1 Axes>"
            ],
            "image/png": "[encoded data removed]"
          },
          "metadata": {
            "needs_background": "light"
          }
        },
        {
          "output_type": "display_data",
          "data": {
            "text/plain": [
              "<Figure size 1080x576 with 1 Axes>"
            ],
            "image/png": "[encoded data removed]"
          },
          "metadata": {
            "needs_background": "light"
          }
        },
        {
          "output_type": "display_data",
          "data": {
            "text/plain": [
              "<Figure size 1080x576 with 1 Axes>"
            ],
            "image/png": "[encoded data removed]"
          },
          "metadata": {
            "needs_background": "light"
          }
        },
        {
          "output_type": "display_data",
          "data": {
            "text/plain": [
              "<Figure size 1080x576 with 1 Axes>"
            ],
            "image/png": "[encoded data removed]"
          },
          "metadata": {
            "needs_background": "light"
          }
        }
      ]
    },
    {
      "cell_type": "code",
      "source": [
        "#to give unique values\n",
        "print(\"storag:\",data['Storage '].unique())\n",
        "print(\"ram:\",data['RAM '].unique())\n",
        "print(\"price:\",data['Price ($)'].unique())\n",
        "print(\"Screen Size:\",data['Screen Size (inches)'].unique())"
      ],
      "metadata": {
        "colab": {
          "base_uri": "https://localhost:8080/"
        },
        "id": "FSjcD12LgCYH",
        "outputId": "af736737-ca1c-47a2-9b14-13157e7b5828"
      },
      "execution_count": 11,
      "outputs": [
        {
          "output_type": "stream",
          "name": "stdout",
          "text": [
            "storag: ['128 GB' '256 GB' '64 GB' '32 GB' '128GB' '256GB' '64GB' '32GB' '256'\n",
            " '64' '128' '512' '32']\n",
            "ram: ['6 GB' '12 GB' '8 GB' '4 GB' '3 GB' '2 GB' '4GB' '8GB' '6GB' '12GB' '3GB'\n",
            " '2GB' '5GB' '12' '3' '6' '8' '4' '16' '2']\n",
            "price: ['999' '1199' '899' '279' '799' '249' '699' '329' '449' '199' '299' '379'\n",
            " '179' '729' '599' '139' '189' '399' '259' '159' '229' '499' '129' '529'\n",
            " '369' '1099' '169' '99' '459' '239' '1299' '429' '659' '269' '359'\n",
            " '$799 ' '$399 ' '$699 ' '$329 ' '$999 ' '$549 ' '$1,299 ' '$899 ' '$449 '\n",
            " '$319 ' '$269 ' '$349 ' '$279 ' '$249 ' '$299 ' '$969 ' '$1,199 ' '$149 '\n",
            " '$139 ' '$99 ' '$199 ' '$169 ' '$499 ' '$179 ' '$219 ' '$229 ' '$239 '\n",
            " '$109 ' '$189 ' '$389 ' '$309 ' '$369 ' '$129 ' '$849 ' '$469 ' '$209 '\n",
            " '$119 ' '$339 ' '$429 ' '$159 ' '$379 ' '$289 ' '130' '749' '149' '969'\n",
            " '649' '349' '419' '1399' '1999' '119' '319' '1049']\n",
            "Screen Size: ['6.1' '6.8' '6.7' '6.67' '6.4' '6.55' '6.78' '6.43' '6.5' '6.62' '5.4'\n",
            " '6.2' '6.51' '6.6' '4.7' '6.58' '6.52' '6.44' '6.53' '6.56' '6.8 + 3.9'\n",
            " '4.5' '6.39' '5.9' '5.5' '6.81' '5.99' '6.82' '6.3' '6.22' '6' '6.35'\n",
            " '6.9' '6.76' '6.49' '6.72' '5.7' '6.47' '7.6 (unfolded)' '6.15' '6.57']\n"
          ]
        }
      ]
    },
    {
      "cell_type": "code",
      "source": [
        "#replacing\n",
        "data['Storage '] = data['Storage '].str.replace('GB','')\n",
        "data['RAM '] = data['RAM '].str.replace('GB','')\n",
        "data['Price ($)'] = data['Price ($)'].str.replace('$','')\n",
        "data['Price ($)'] = data['Price ($)'].str.replace(',','')\n",
        "data.loc[88,'Screen Size (inches)'] = '10.7'\n",
        "data.loc[373,'Screen Size (inches)'] = '7.6'"
      ],
      "metadata": {
        "id": "nP4uPIqZWfQU",
        "colab": {
          "base_uri": "https://localhost:8080/"
        },
        "outputId": "75c56d52-5c70-4964-c666-09e9b86afd43"
      },
      "execution_count": 12,
      "outputs": [
        {
          "output_type": "stream",
          "name": "stderr",
          "text": [
            "<ipython-input-12-086b5e8a2f2f>:4: FutureWarning: The default value of regex will change from True to False in a future version. In addition, single character regular expressions will *not* be treated as literal strings when regex=True.\n",
            "  data['Price ($)'] = data['Price ($)'].str.replace('$','')\n"
          ]
        }
      ]
    },
    {
      "cell_type": "code",
      "source": [
        "data['Price ($)'].unique()"
      ],
      "metadata": {
        "colab": {
          "base_uri": "https://localhost:8080/"
        },
        "id": "5BAUEVcRf7e9",
        "outputId": "ecd4d8e7-2c25-42d1-f8dd-dcb486387df6"
      },
      "execution_count": 13,
      "outputs": [
        {
          "output_type": "execute_result",
          "data": {
            "text/plain": [
              "array(['999', '1199', '899', '279', '799', '249', '699', '329', '449',\n",
              "       '199', '299', '379', '179', '729', '599', '139', '189', '399',\n",
              "       '259', '159', '229', '499', '129', '529', '369', '1099', '169',\n",
              "       '99', '459', '239', '1299', '429', '659', '269', '359', '799 ',\n",
              "       '399 ', '699 ', '329 ', '999 ', '549 ', '1299 ', '899 ', '449 ',\n",
              "       '319 ', '269 ', '349 ', '279 ', '249 ', '299 ', '969 ', '1199 ',\n",
              "       '149 ', '139 ', '99 ', '199 ', '169 ', '499 ', '179 ', '219 ',\n",
              "       '229 ', '239 ', '109 ', '189 ', '389 ', '309 ', '369 ', '129 ',\n",
              "       '849 ', '469 ', '209 ', '119 ', '339 ', '429 ', '159 ', '379 ',\n",
              "       '289 ', '130', '749', '149', '969', '649', '349', '419', '1399',\n",
              "       '1999', '119', '319', '1049'], dtype=object)"
            ]
          },
          "metadata": {},
          "execution_count": 13
        }
      ]
    },
    {
      "cell_type": "code",
      "source": [
        "split_cols = data['Camera (MP)'].str.split('+',expand=True)\n",
        "#apply () -->each element or column\n",
        "#strip()--> removes white spaces in a string.\n",
        "#strip() method is applied to each element of the DataFrame using a lambda function\n",
        "split_cols = split_cols.apply(lambda x:x.str.strip())\n",
        "data[['resolution1','resolution2','resolution3','resolution4']] = split_cols\n",
        "data = data.drop('Camera (MP)',axis=1)"
      ],
      "metadata": {
        "id": "kLQyra4tyhhJ"
      },
      "execution_count": 14,
      "outputs": []
    },
    {
      "cell_type": "code",
      "source": [
        "data.head()"
      ],
      "metadata": {
        "colab": {
          "base_uri": "https://localhost:8080/",
          "height": 372
        },
        "id": "Lv2sKuHiYTyd",
        "outputId": "0615cd92-794f-4d60-978e-9731def2baaa"
      },
      "execution_count": 15,
      "outputs": [
        {
          "output_type": "execute_result",
          "data": {
            "text/plain": [
              "     Brand              Model Storage  RAM  Screen Size (inches)  \\\n",
              "0    Apple      iPhone 13 Pro     128    6                   6.1   \n",
              "1  Samsung   Galaxy S21 Ultra     256   12                   6.8   \n",
              "2  OnePlus              9 Pro     128    8                   6.7   \n",
              "3   Xiaomi  Redmi Note 10 Pro     128    6                  6.67   \n",
              "4   Google            Pixel 6     128    8                   6.4   \n",
              "\n",
              "   Battery Capacity (mAh) Price ($) resolution1 resolution2 resolution3  \\\n",
              "0                    3095       999          12          12          12   \n",
              "1                    5000      1199         108          10          10   \n",
              "2                    4500       899          48          50           8   \n",
              "3                    5020       279          64           8           5   \n",
              "4                    4614       799          50        12.2        None   \n",
              "\n",
              "  resolution4  \n",
              "0        None  \n",
              "1          12  \n",
              "2           2  \n",
              "3           2  \n",
              "4        None  "
            ],
            "text/html": [
              "\n",
              "  <div id=\"df-5d6c4905-42cd-4e43-b0fb-0ce1d4062295\">\n",
              "    <div class=\"colab-df-container\">\n",
              "      <div>\n",
              "<style scoped>\n",
              "    .dataframe tbody tr th:only-of-type {\n",
              "        vertical-align: middle;\n",
              "    }\n",
              "\n",
              "    .dataframe tbody tr th {\n",
              "        vertical-align: top;\n",
              "    }\n",
              "\n",
              "    .dataframe thead th {\n",
              "        text-align: right;\n",
              "    }\n",
              "</style>\n",
              "<table border=\"1\" class=\"dataframe\">\n",
              "  <thead>\n",
              "    <tr style=\"text-align: right;\">\n",
              "      <th></th>\n",
              "      <th>Brand</th>\n",
              "      <th>Model</th>\n",
              "      <th>Storage</th>\n",
              "      <th>RAM</th>\n",
              "      <th>Screen Size (inches)</th>\n",
              "      <th>Battery Capacity (mAh)</th>\n",
              "      <th>Price ($)</th>\n",
              "      <th>resolution1</th>\n",
              "      <th>resolution2</th>\n",
              "      <th>resolution3</th>\n",
              "      <th>resolution4</th>\n",
              "    </tr>\n",
              "  </thead>\n",
              "  <tbody>\n",
              "    <tr>\n",
              "      <th>0</th>\n",
              "      <td>Apple</td>\n",
              "      <td>iPhone 13 Pro</td>\n",
              "      <td>128</td>\n",
              "      <td>6</td>\n",
              "      <td>6.1</td>\n",
              "      <td>3095</td>\n",
              "      <td>999</td>\n",
              "      <td>12</td>\n",
              "      <td>12</td>\n",
              "      <td>12</td>\n",
              "      <td>None</td>\n",
              "    </tr>\n",
              "    <tr>\n",
              "      <th>1</th>\n",
              "      <td>Samsung</td>\n",
              "      <td>Galaxy S21 Ultra</td>\n",
              "      <td>256</td>\n",
              "      <td>12</td>\n",
              "      <td>6.8</td>\n",
              "      <td>5000</td>\n",
              "      <td>1199</td>\n",
              "      <td>108</td>\n",
              "      <td>10</td>\n",
              "      <td>10</td>\n",
              "      <td>12</td>\n",
              "    </tr>\n",
              "    <tr>\n",
              "      <th>2</th>\n",
              "      <td>OnePlus</td>\n",
              "      <td>9 Pro</td>\n",
              "      <td>128</td>\n",
              "      <td>8</td>\n",
              "      <td>6.7</td>\n",
              "      <td>4500</td>\n",
              "      <td>899</td>\n",
              "      <td>48</td>\n",
              "      <td>50</td>\n",
              "      <td>8</td>\n",
              "      <td>2</td>\n",
              "    </tr>\n",
              "    <tr>\n",
              "      <th>3</th>\n",
              "      <td>Xiaomi</td>\n",
              "      <td>Redmi Note 10 Pro</td>\n",
              "      <td>128</td>\n",
              "      <td>6</td>\n",
              "      <td>6.67</td>\n",
              "      <td>5020</td>\n",
              "      <td>279</td>\n",
              "      <td>64</td>\n",
              "      <td>8</td>\n",
              "      <td>5</td>\n",
              "      <td>2</td>\n",
              "    </tr>\n",
              "    <tr>\n",
              "      <th>4</th>\n",
              "      <td>Google</td>\n",
              "      <td>Pixel 6</td>\n",
              "      <td>128</td>\n",
              "      <td>8</td>\n",
              "      <td>6.4</td>\n",
              "      <td>4614</td>\n",
              "      <td>799</td>\n",
              "      <td>50</td>\n",
              "      <td>12.2</td>\n",
              "      <td>None</td>\n",
              "      <td>None</td>\n",
              "    </tr>\n",
              "  </tbody>\n",
              "</table>\n",
              "</div>\n",
              "      <button class=\"colab-df-convert\" onclick=\"convertToInteractive('df-5d6c4905-42cd-4e43-b0fb-0ce1d4062295')\"\n",
              "              title=\"Convert this dataframe to an interactive table.\"\n",
              "              style=\"display:none;\">\n",
              "        \n",
              "  <svg xmlns=\"http://www.w3.org/2000/svg\" height=\"24px\"viewBox=\"0 0 24 24\"\n",
              "       width=\"24px\">\n",
              "    <path d=\"M0 0h24v24H0V0z\" fill=\"none\"/>\n",
              "    <path d=\"M18.56 5.44l.94 2.06.94-2.06 2.06-.94-2.06-.94-.94-2.06-.94 2.06-2.06.94zm-11 1L8.5 8.5l.94-2.06 2.06-.94-2.06-.94L8.5 2.5l-.94 2.06-2.06.94zm10 10l.94 2.06.94-2.06 2.06-.94-2.06-.94-.94-2.06-.94 2.06-2.06.94z\"/><path d=\"M17.41 7.96l-1.37-1.37c-.4-.4-.92-.59-1.43-.59-.52 0-1.04.2-1.43.59L10.3 9.45l-7.72 7.72c-.78.78-.78 2.05 0 2.83L4 21.41c.39.39.9.59 1.41.59.51 0 1.02-.2 1.41-.59l7.78-7.78 2.81-2.81c.8-.78.8-2.07 0-2.86zM5.41 20L4 18.59l7.72-7.72 1.47 1.35L5.41 20z\"/>\n",
              "  </svg>\n",
              "      </button>\n",
              "      \n",
              "  <style>\n",
              "    .colab-df-container {\n",
              "      display:flex;\n",
              "      flex-wrap:wrap;\n",
              "      gap: 12px;\n",
              "    }\n",
              "\n",
              "    .colab-df-convert {\n",
              "      background-color: #E8F0FE;\n",
              "      border: none;\n",
              "      border-radius: 50%;\n",
              "      cursor: pointer;\n",
              "      display: none;\n",
              "      fill: #1967D2;\n",
              "      height: 32px;\n",
              "      padding: 0 0 0 0;\n",
              "      width: 32px;\n",
              "    }\n",
              "\n",
              "    .colab-df-convert:hover {\n",
              "      background-color: #E2EBFA;\n",
              "      box-shadow: 0px 1px 2px rgba(60, 64, 67, 0.3), 0px 1px 3px 1px rgba(60, 64, 67, 0.15);\n",
              "      fill: #174EA6;\n",
              "    }\n",
              "\n",
              "    [theme=dark] .colab-df-convert {\n",
              "      background-color: #3B4455;\n",
              "      fill: #D2E3FC;\n",
              "    }\n",
              "\n",
              "    [theme=dark] .colab-df-convert:hover {\n",
              "      background-color: #434B5C;\n",
              "      box-shadow: 0px 1px 3px 1px rgba(0, 0, 0, 0.15);\n",
              "      filter: drop-shadow(0px 1px 2px rgba(0, 0, 0, 0.3));\n",
              "      fill: #FFFFFF;\n",
              "    }\n",
              "  </style>\n",
              "\n",
              "      <script>\n",
              "        const buttonEl =\n",
              "          document.querySelector('#df-5d6c4905-42cd-4e43-b0fb-0ce1d4062295 button.colab-df-convert');\n",
              "        buttonEl.style.display =\n",
              "          google.colab.kernel.accessAllowed ? 'block' : 'none';\n",
              "\n",
              "        async function convertToInteractive(key) {\n",
              "          const element = document.querySelector('#df-5d6c4905-42cd-4e43-b0fb-0ce1d4062295');\n",
              "          const dataTable =\n",
              "            await google.colab.kernel.invokeFunction('convertToInteractive',\n",
              "                                                     [key], {});\n",
              "          if (!dataTable) return;\n",
              "\n",
              "          const docLinkHtml = 'Like what you see? Visit the ' +\n",
              "            '<a target=\"_blank\" href=https://colab.research.google.com/notebooks/data_table.ipynb>data table notebook</a>'\n",
              "            + ' to learn more about interactive tables.';\n",
              "          element.innerHTML = '';\n",
              "          dataTable['output_type'] = 'display_data';\n",
              "          await google.colab.output.renderOutput(dataTable, element);\n",
              "          const docLink = document.createElement('div');\n",
              "          docLink.innerHTML = docLinkHtml;\n",
              "          element.appendChild(docLink);\n",
              "        }\n",
              "      </script>\n",
              "    </div>\n",
              "  </div>\n",
              "  "
            ]
          },
          "metadata": {},
          "execution_count": 15
        }
      ]
    },
    {
      "cell_type": "code",
      "source": [
        "print(data['resolution1'].unique())\n",
        "print(data['resolution2'].unique())\n",
        "print(data['resolution3'].unique())\n",
        "print(data['resolution4'].unique())"
      ],
      "metadata": {
        "colab": {
          "base_uri": "https://localhost:8080/"
        },
        "id": "Q-kYbmiXjhg9",
        "outputId": "9ea45c07-73f3-485b-f929-23d4bc5b82f5"
      },
      "execution_count": 16,
      "outputs": [
        {
          "output_type": "stream",
          "name": "stdout",
          "text": [
            "['12' '108' '48' '64' '50' '13' '12MP' '64MP' '50MP' '48MP' '108MP' '13MP'\n",
            " '8MP' '25MP' '12.2' '40' '16']\n",
            "['12' '10' '50' '8' '12.2' '13' '48' '2' '5' None '12MP' '8MP' '48MP'\n",
            " '16MP' '13MP' '5MP' '50MP' '2MP' '16' '20' '7' '40' '64']\n",
            "['12' '10' '8' '5' None '2' '16' '13' '12MP' '2MP' '13MP' '8MP' '5MP'\n",
            " '48MP' '16MP' '10MP' '40']\n",
            "[None '12' '2' '8' '5' '3' '2MP' '8MP' '5MP' '10MP' '3D' 'ToF' '0.3']\n"
          ]
        }
      ]
    },
    {
      "cell_type": "code",
      "source": [
        "data['resolution1'] = data['resolution1'].str.replace('MP','')\n",
        "data['resolution2'] = data['resolution2'].str.replace('MP','')\n",
        "data['resolution3'] = data['resolution3'].str.replace('MP','')\n",
        "data['resolution4'] = data['resolution4'].str.replace('MP','')\n",
        "data['resolution4'] = data['resolution4'].str.replace('D','')\n",
        "data['resolution4'] = data['resolution4'].str.replace('ToF','')"
      ],
      "metadata": {
        "id": "wnAuc8y2j0QW"
      },
      "execution_count": 17,
      "outputs": []
    },
    {
      "cell_type": "code",
      "source": [
        "#converting dtype to numeric\n",
        "data['Storage '] = pd.to_numeric(data['Storage '])\n",
        "data['RAM '] = pd.to_numeric(data['RAM ']) "
      ],
      "metadata": {
        "id": "Ncy2rMlfYUHT"
      },
      "execution_count": 18,
      "outputs": []
    },
    {
      "cell_type": "code",
      "source": [
        "data['Screen Size (inches)'] = pd.to_numeric(data['Screen Size (inches)'])\n",
        "data['Price ($)'] = pd.to_numeric(data['Price ($)'])\n",
        "data['resolution1'] = pd.to_numeric(data['resolution1'])\n",
        "data['resolution2'] = pd.to_numeric(data['resolution2'])\n",
        "data['resolution3'] = pd.to_numeric(data['resolution3'])\n",
        "data['resolution4'] = pd.to_numeric(data['resolution4'])"
      ],
      "metadata": {
        "id": "yn5NveTuYTgy"
      },
      "execution_count": 19,
      "outputs": []
    },
    {
      "cell_type": "code",
      "source": [
        "data.info()"
      ],
      "metadata": {
        "colab": {
          "base_uri": "https://localhost:8080/"
        },
        "id": "-CbUdLvwXHL7",
        "outputId": "01ad8f62-5c24-42de-985a-f0c1d32e1b84"
      },
      "execution_count": 20,
      "outputs": [
        {
          "output_type": "stream",
          "name": "stdout",
          "text": [
            "<class 'pandas.core.frame.DataFrame'>\n",
            "RangeIndex: 407 entries, 0 to 406\n",
            "Data columns (total 11 columns):\n",
            " #   Column                  Non-Null Count  Dtype  \n",
            "---  ------                  --------------  -----  \n",
            " 0   Brand                   407 non-null    object \n",
            " 1   Model                   407 non-null    object \n",
            " 2   Storage                 407 non-null    int64  \n",
            " 3   RAM                     407 non-null    int64  \n",
            " 4   Screen Size (inches)    407 non-null    float64\n",
            " 5   Battery Capacity (mAh)  407 non-null    int64  \n",
            " 6   Price ($)               407 non-null    int64  \n",
            " 7   resolution1             407 non-null    float64\n",
            " 8   resolution2             398 non-null    float64\n",
            " 9   resolution3             325 non-null    float64\n",
            " 10  resolution4             149 non-null    float64\n",
            "dtypes: float64(5), int64(4), object(2)\n",
            "memory usage: 35.1+ KB\n"
          ]
        }
      ]
    },
    {
      "cell_type": "code",
      "source": [
        "data.columns"
      ],
      "metadata": {
        "colab": {
          "base_uri": "https://localhost:8080/"
        },
        "id": "eNVz0IziQMmz",
        "outputId": "6e8030ea-15d7-4be4-92d0-6f3c154faa58"
      },
      "execution_count": 21,
      "outputs": [
        {
          "output_type": "execute_result",
          "data": {
            "text/plain": [
              "Index(['Brand', 'Model', 'Storage ', 'RAM ', 'Screen Size (inches)',\n",
              "       'Battery Capacity (mAh)', 'Price ($)', 'resolution1', 'resolution2',\n",
              "       'resolution3', 'resolution4'],\n",
              "      dtype='object')"
            ]
          },
          "metadata": {},
          "execution_count": 21
        }
      ]
    },
    {
      "cell_type": "code",
      "source": [
        "#to find the outliers using boxplot\n",
        "data.boxplot(column = ['Storage ', 'RAM ', 'Screen Size (inches)',\n",
        "       'Battery Capacity (mAh)', 'Price ($)', 'resolution1', 'resolution2',\n",
        "       'resolution3', 'resolution4'])\n",
        "plt.show()"
      ],
      "metadata": {
        "colab": {
          "base_uri": "https://localhost:8080/",
          "height": 265
        },
        "id": "HMP4h87NQKM8",
        "outputId": "f2dcec74-662b-41e8-a412-f12509b0fa93"
      },
      "execution_count": 22,
      "outputs": [
        {
          "output_type": "display_data",
          "data": {
            "text/plain": [
              "<Figure size 432x288 with 1 Axes>"
            ],
            "image/png": "[encoded data removed]"
          },
          "metadata": {
            "needs_background": "light"
          }
        }
      ]
    },
    {
      "cell_type": "code",
      "source": [
        "names= ['Storage ', 'RAM ', 'Screen Size (inches)',\n",
        "       'Battery Capacity (mAh)', 'Price ($)', 'resolution1', 'resolution2',\n",
        "       'resolution3', 'resolution4']"
      ],
      "metadata": {
        "id": "TWhkYaxa5SIz"
      },
      "execution_count": 23,
      "outputs": []
    },
    {
      "cell_type": "code",
      "source": [
        "#replacing the outliers using 'interquartile capping' \n",
        "def iqr_capping(data,col):\n",
        "  for i in col:\n",
        "\n",
        "    q1 = data[i].quantile(0.25)\n",
        "    q3 = data[i].quantile(0.75)\n",
        "\n",
        "    iqr = q3-q1\n",
        "\n",
        "    upper_whisker = q3 + (1.5*iqr)\n",
        "    lower_whisker = q1 - (1.5*iqr)\n",
        "\n",
        "    data[i] = np.where(data[i] > upper_whisker,upper_whisker,np.where(data[i] < lower_whisker,lower_whisker,data[i]))"
      ],
      "metadata": {
        "id": "jvLx_5nSP8ms"
      },
      "execution_count": 24,
      "outputs": []
    },
    {
      "cell_type": "code",
      "source": [
        "iqr_capping(data,names)"
      ],
      "metadata": {
        "id": "1qp9HPhXpHpI"
      },
      "execution_count": 25,
      "outputs": []
    },
    {
      "cell_type": "code",
      "source": [
        "data.boxplot(column = ['Storage ', 'RAM ', 'Screen Size (inches)',\n",
        "       'Battery Capacity (mAh)', 'Price ($)', 'resolution1', 'resolution2',\n",
        "       'resolution3', 'resolution4'])\n",
        "plt.show()"
      ],
      "metadata": {
        "colab": {
          "base_uri": "https://localhost:8080/",
          "height": 265
        },
        "id": "yAgdSAEbptLg",
        "outputId": "1e523694-3bec-4ddd-94c6-536c9afde630"
      },
      "execution_count": 26,
      "outputs": [
        {
          "output_type": "display_data",
          "data": {
            "text/plain": [
              "<Figure size 432x288 with 1 Axes>"
            ],
            "image/png": "[encoded data removed]"
          },
          "metadata": {
            "needs_background": "light"
          }
        }
      ]
    },
    {
      "cell_type": "code",
      "source": [
        "#object to numerical\n",
        "from sklearn.preprocessing import LabelEncoder\n",
        "for i in data.columns:\n",
        "  if data[i].dtype == 'object':\n",
        "    label_encoder = LabelEncoder()\n",
        "    data[i] = label_encoder.fit_transform(data[i])"
      ],
      "metadata": {
        "id": "p-sLUPYDtfxK"
      },
      "execution_count": 27,
      "outputs": []
    },
    {
      "cell_type": "code",
      "source": [
        "data.head()"
      ],
      "metadata": {
        "colab": {
          "base_uri": "https://localhost:8080/",
          "height": 285
        },
        "id": "jB_XpsGuRsz1",
        "outputId": "ce322c49-d887-45f6-bba2-5876048aeb8c"
      },
      "execution_count": 28,
      "outputs": [
        {
          "output_type": "execute_result",
          "data": {
            "text/plain": [
              "   Brand  Model  Storage   RAM   Screen Size (inches)  Battery Capacity (mAh)  \\\n",
              "0      0    232     128.0   6.0                 6.215                  3250.0   \n",
              "1     12    100     224.0  12.0                 6.800                  5000.0   \n",
              "2      9     19     128.0   8.0                 6.700                  4500.0   \n",
              "3     15    178     128.0   6.0                 6.670                  5020.0   \n",
              "4      4    162     128.0   8.0                 6.400                  4614.0   \n",
              "\n",
              "   Price ($)  resolution1  resolution2  resolution3  resolution4  \n",
              "0      949.0         12.0         12.0          9.5          NaN  \n",
              "1      949.0        108.0         10.0          9.5          2.0  \n",
              "2      899.0         48.0         27.0          8.0          2.0  \n",
              "3      279.0         64.0          8.0          5.0          2.0  \n",
              "4      799.0         50.0         12.2          NaN          NaN  "
            ],
            "text/html": [
              "\n",
              "  <div id=\"df-b22f6586-6c2d-473a-beb5-d7125ac18c88\">\n",
              "    <div class=\"colab-df-container\">\n",
              "      <div>\n",
              "<style scoped>\n",
              "    .dataframe tbody tr th:only-of-type {\n",
              "        vertical-align: middle;\n",
              "    }\n",
              "\n",
              "    .dataframe tbody tr th {\n",
              "        vertical-align: top;\n",
              "    }\n",
              "\n",
              "    .dataframe thead th {\n",
              "        text-align: right;\n",
              "    }\n",
              "</style>\n",
              "<table border=\"1\" class=\"dataframe\">\n",
              "  <thead>\n",
              "    <tr style=\"text-align: right;\">\n",
              "      <th></th>\n",
              "      <th>Brand</th>\n",
              "      <th>Model</th>\n",
              "      <th>Storage</th>\n",
              "      <th>RAM</th>\n",
              "      <th>Screen Size (inches)</th>\n",
              "      <th>Battery Capacity (mAh)</th>\n",
              "      <th>Price ($)</th>\n",
              "      <th>resolution1</th>\n",
              "      <th>resolution2</th>\n",
              "      <th>resolution3</th>\n",
              "      <th>resolution4</th>\n",
              "    </tr>\n",
              "  </thead>\n",
              "  <tbody>\n",
              "    <tr>\n",
              "      <th>0</th>\n",
              "      <td>0</td>\n",
              "      <td>232</td>\n",
              "      <td>128.0</td>\n",
              "      <td>6.0</td>\n",
              "      <td>6.215</td>\n",
              "      <td>3250.0</td>\n",
              "      <td>949.0</td>\n",
              "      <td>12.0</td>\n",
              "      <td>12.0</td>\n",
              "      <td>9.5</td>\n",
              "      <td>NaN</td>\n",
              "    </tr>\n",
              "    <tr>\n",
              "      <th>1</th>\n",
              "      <td>12</td>\n",
              "      <td>100</td>\n",
              "      <td>224.0</td>\n",
              "      <td>12.0</td>\n",
              "      <td>6.800</td>\n",
              "      <td>5000.0</td>\n",
              "      <td>949.0</td>\n",
              "      <td>108.0</td>\n",
              "      <td>10.0</td>\n",
              "      <td>9.5</td>\n",
              "      <td>2.0</td>\n",
              "    </tr>\n",
              "    <tr>\n",
              "      <th>2</th>\n",
              "      <td>9</td>\n",
              "      <td>19</td>\n",
              "      <td>128.0</td>\n",
              "      <td>8.0</td>\n",
              "      <td>6.700</td>\n",
              "      <td>4500.0</td>\n",
              "      <td>899.0</td>\n",
              "      <td>48.0</td>\n",
              "      <td>27.0</td>\n",
              "      <td>8.0</td>\n",
              "      <td>2.0</td>\n",
              "    </tr>\n",
              "    <tr>\n",
              "      <th>3</th>\n",
              "      <td>15</td>\n",
              "      <td>178</td>\n",
              "      <td>128.0</td>\n",
              "      <td>6.0</td>\n",
              "      <td>6.670</td>\n",
              "      <td>5020.0</td>\n",
              "      <td>279.0</td>\n",
              "      <td>64.0</td>\n",
              "      <td>8.0</td>\n",
              "      <td>5.0</td>\n",
              "      <td>2.0</td>\n",
              "    </tr>\n",
              "    <tr>\n",
              "      <th>4</th>\n",
              "      <td>4</td>\n",
              "      <td>162</td>\n",
              "      <td>128.0</td>\n",
              "      <td>8.0</td>\n",
              "      <td>6.400</td>\n",
              "      <td>4614.0</td>\n",
              "      <td>799.0</td>\n",
              "      <td>50.0</td>\n",
              "      <td>12.2</td>\n",
              "      <td>NaN</td>\n",
              "      <td>NaN</td>\n",
              "    </tr>\n",
              "  </tbody>\n",
              "</table>\n",
              "</div>\n",
              "      <button class=\"colab-df-convert\" onclick=\"convertToInteractive('df-b22f6586-6c2d-473a-beb5-d7125ac18c88')\"\n",
              "              title=\"Convert this dataframe to an interactive table.\"\n",
              "              style=\"display:none;\">\n",
              "        \n",
              "  <svg xmlns=\"http://www.w3.org/2000/svg\" height=\"24px\"viewBox=\"0 0 24 24\"\n",
              "       width=\"24px\">\n",
              "    <path d=\"M0 0h24v24H0V0z\" fill=\"none\"/>\n",
              "    <path d=\"M18.56 5.44l.94 2.06.94-2.06 2.06-.94-2.06-.94-.94-2.06-.94 2.06-2.06.94zm-11 1L8.5 8.5l.94-2.06 2.06-.94-2.06-.94L8.5 2.5l-.94 2.06-2.06.94zm10 10l.94 2.06.94-2.06 2.06-.94-2.06-.94-.94-2.06-.94 2.06-2.06.94z\"/><path d=\"M17.41 7.96l-1.37-1.37c-.4-.4-.92-.59-1.43-.59-.52 0-1.04.2-1.43.59L10.3 9.45l-7.72 7.72c-.78.78-.78 2.05 0 2.83L4 21.41c.39.39.9.59 1.41.59.51 0 1.02-.2 1.41-.59l7.78-7.78 2.81-2.81c.8-.78.8-2.07 0-2.86zM5.41 20L4 18.59l7.72-7.72 1.47 1.35L5.41 20z\"/>\n",
              "  </svg>\n",
              "      </button>\n",
              "      \n",
              "  <style>\n",
              "    .colab-df-container {\n",
              "      display:flex;\n",
              "      flex-wrap:wrap;\n",
              "      gap: 12px;\n",
              "    }\n",
              "\n",
              "    .colab-df-convert {\n",
              "      background-color: #E8F0FE;\n",
              "      border: none;\n",
              "      border-radius: 50%;\n",
              "      cursor: pointer;\n",
              "      display: none;\n",
              "      fill: #1967D2;\n",
              "      height: 32px;\n",
              "      padding: 0 0 0 0;\n",
              "      width: 32px;\n",
              "    }\n",
              "\n",
              "    .colab-df-convert:hover {\n",
              "      background-color: #E2EBFA;\n",
              "      box-shadow: 0px 1px 2px rgba(60, 64, 67, 0.3), 0px 1px 3px 1px rgba(60, 64, 67, 0.15);\n",
              "      fill: #174EA6;\n",
              "    }\n",
              "\n",
              "    [theme=dark] .colab-df-convert {\n",
              "      background-color: #3B4455;\n",
              "      fill: #D2E3FC;\n",
              "    }\n",
              "\n",
              "    [theme=dark] .colab-df-convert:hover {\n",
              "      background-color: #434B5C;\n",
              "      box-shadow: 0px 1px 3px 1px rgba(0, 0, 0, 0.15);\n",
              "      filter: drop-shadow(0px 1px 2px rgba(0, 0, 0, 0.3));\n",
              "      fill: #FFFFFF;\n",
              "    }\n",
              "  </style>\n",
              "\n",
              "      <script>\n",
              "        const buttonEl =\n",
              "          document.querySelector('#df-b22f6586-6c2d-473a-beb5-d7125ac18c88 button.colab-df-convert');\n",
              "        buttonEl.style.display =\n",
              "          google.colab.kernel.accessAllowed ? 'block' : 'none';\n",
              "\n",
              "        async function convertToInteractive(key) {\n",
              "          const element = document.querySelector('#df-b22f6586-6c2d-473a-beb5-d7125ac18c88');\n",
              "          const dataTable =\n",
              "            await google.colab.kernel.invokeFunction('convertToInteractive',\n",
              "                                                     [key], {});\n",
              "          if (!dataTable) return;\n",
              "\n",
              "          const docLinkHtml = 'Like what you see? Visit the ' +\n",
              "            '<a target=\"_blank\" href=https://colab.research.google.com/notebooks/data_table.ipynb>data table notebook</a>'\n",
              "            + ' to learn more about interactive tables.';\n",
              "          element.innerHTML = '';\n",
              "          dataTable['output_type'] = 'display_data';\n",
              "          await google.colab.output.renderOutput(dataTable, element);\n",
              "          const docLink = document.createElement('div');\n",
              "          docLink.innerHTML = docLinkHtml;\n",
              "          element.appendChild(docLink);\n",
              "        }\n",
              "      </script>\n",
              "    </div>\n",
              "  </div>\n",
              "  "
            ]
          },
          "metadata": {},
          "execution_count": 28
        }
      ]
    },
    {
      "cell_type": "code",
      "source": [
        "data.columns"
      ],
      "metadata": {
        "colab": {
          "base_uri": "https://localhost:8080/"
        },
        "id": "Br4EW0FWQ4G4",
        "outputId": "3417ce4c-b72e-4ff1-96ea-78f69343833e"
      },
      "execution_count": 29,
      "outputs": [
        {
          "output_type": "execute_result",
          "data": {
            "text/plain": [
              "Index(['Brand', 'Model', 'Storage ', 'RAM ', 'Screen Size (inches)',\n",
              "       'Battery Capacity (mAh)', 'Price ($)', 'resolution1', 'resolution2',\n",
              "       'resolution3', 'resolution4'],\n",
              "      dtype='object')"
            ]
          },
          "metadata": {},
          "execution_count": 29
        }
      ]
    },
    {
      "cell_type": "code",
      "source": [
        "#checking null values. since after splitting the camera there will be null values as some have only 2 resolutions\n",
        "data.isnull().sum()"
      ],
      "metadata": {
        "colab": {
          "base_uri": "https://localhost:8080/"
        },
        "id": "iAxph_IKRxbG",
        "outputId": "c00dec88-fe53-47bf-bc1d-e5fcbbddb175"
      },
      "execution_count": 30,
      "outputs": [
        {
          "output_type": "execute_result",
          "data": {
            "text/plain": [
              "Brand                       0\n",
              "Model                       0\n",
              "Storage                     0\n",
              "RAM                         0\n",
              "Screen Size (inches)        0\n",
              "Battery Capacity (mAh)      0\n",
              "Price ($)                   0\n",
              "resolution1                 0\n",
              "resolution2                 9\n",
              "resolution3                82\n",
              "resolution4               258\n",
              "dtype: int64"
            ]
          },
          "metadata": {},
          "execution_count": 30
        }
      ]
    },
    {
      "cell_type": "code",
      "source": [
        "data = data.fillna(0)"
      ],
      "metadata": {
        "id": "NFAtEHmAR0vd"
      },
      "execution_count": 31,
      "outputs": []
    },
    {
      "cell_type": "code",
      "source": [
        "data.isnull().sum()"
      ],
      "metadata": {
        "colab": {
          "base_uri": "https://localhost:8080/"
        },
        "id": "Tm95OG9TR6Cp",
        "outputId": "9faf4d0a-c15f-4567-c4f7-8556d9cdfad9"
      },
      "execution_count": 32,
      "outputs": [
        {
          "output_type": "execute_result",
          "data": {
            "text/plain": [
              "Brand                     0\n",
              "Model                     0\n",
              "Storage                   0\n",
              "RAM                       0\n",
              "Screen Size (inches)      0\n",
              "Battery Capacity (mAh)    0\n",
              "Price ($)                 0\n",
              "resolution1               0\n",
              "resolution2               0\n",
              "resolution3               0\n",
              "resolution4               0\n",
              "dtype: int64"
            ]
          },
          "metadata": {},
          "execution_count": 32
        }
      ]
    },
    {
      "cell_type": "code",
      "source": [
        "data['Price ($)'].head()"
      ],
      "metadata": {
        "colab": {
          "base_uri": "https://localhost:8080/"
        },
        "id": "a7g33-KBduTl",
        "outputId": "85024926-8e82-4c10-f8ea-4e9efc464789"
      },
      "execution_count": 33,
      "outputs": [
        {
          "output_type": "execute_result",
          "data": {
            "text/plain": [
              "0    949.0\n",
              "1    949.0\n",
              "2    899.0\n",
              "3    279.0\n",
              "4    799.0\n",
              "Name: Price ($), dtype: float64"
            ]
          },
          "metadata": {},
          "execution_count": 33
        }
      ]
    },
    {
      "cell_type": "code",
      "source": [
        "#to check the skewness of the data\n",
        "from scipy.stats import skew\n",
        "for i in data:\n",
        "  print(skew(data[i],axis=0))"
      ],
      "metadata": {
        "colab": {
          "base_uri": "https://localhost:8080/"
        },
        "id": "Z-3SHdlfQmgx",
        "outputId": "7a380da9-8201-4376-a66c-e2017a532819"
      },
      "execution_count": 34,
      "outputs": [
        {
          "output_type": "stream",
          "name": "stdout",
          "text": [
            "-1.0324374840757744\n",
            "0.03899320091900077\n",
            "0.4022369489510793\n",
            "0.8953358618646556\n",
            "-0.18668258835736556\n",
            "-0.1922235864911604\n",
            "1.0628937563696688\n",
            "0.39445090698918395\n",
            "1.385633094325633\n",
            "1.08390405714458\n",
            "0.5559343522449707\n"
          ]
        }
      ]
    },
    {
      "cell_type": "code",
      "source": [
        "data.columns"
      ],
      "metadata": {
        "colab": {
          "base_uri": "https://localhost:8080/"
        },
        "id": "LQ-DndT0SIyI",
        "outputId": "db4703c6-4de1-4fc2-dae4-a3fb6cbc5efb"
      },
      "execution_count": 35,
      "outputs": [
        {
          "output_type": "execute_result",
          "data": {
            "text/plain": [
              "Index(['Brand', 'Model', 'Storage ', 'RAM ', 'Screen Size (inches)',\n",
              "       'Battery Capacity (mAh)', 'Price ($)', 'resolution1', 'resolution2',\n",
              "       'resolution3', 'resolution4'],\n",
              "      dtype='object')"
            ]
          },
          "metadata": {},
          "execution_count": 35
        }
      ]
    },
    {
      "cell_type": "code",
      "source": [
        "#dealing with skewness with 'log' or 'sqrt' \n",
        "#since log transforamtion does not work with values 0 and -ve \n",
        "data['RAM '] = np.log(data['RAM '])\n",
        "data['Price ($)'] = np.log(data['Price ($)'])\n",
        "data['resolution2'] = np.sqrt(data['resolution2'])\n",
        "data['resolution3'] = np.sqrt(data['resolution3'])"
      ],
      "metadata": {
        "id": "Qlk0BbCuTvY2"
      },
      "execution_count": 36,
      "outputs": []
    },
    {
      "cell_type": "code",
      "source": [
        "for i in data:\n",
        "  print(skew(data[i],axis=0))"
      ],
      "metadata": {
        "colab": {
          "base_uri": "https://localhost:8080/"
        },
        "id": "0lf6nB8GSEuV",
        "outputId": "91a2b5ed-39f1-47cb-9872-71dad4a141d0"
      },
      "execution_count": 37,
      "outputs": [
        {
          "output_type": "stream",
          "name": "stdout",
          "text": [
            "-1.0324374840757744\n",
            "0.03899320091900077\n",
            "0.4022369489510793\n",
            "-0.04699857800776313\n",
            "-0.18668258835736556\n",
            "-0.1922235864911604\n",
            "0.28640151640285766\n",
            "0.39445090698918395\n",
            "0.1264199346335729\n",
            "-0.10774486309767858\n",
            "0.5559343522449707\n"
          ]
        }
      ]
    },
    {
      "cell_type": "code",
      "source": [
        "data['Price ($)'].head()"
      ],
      "metadata": {
        "colab": {
          "base_uri": "https://localhost:8080/"
        },
        "id": "Nug1RxYqdP-0",
        "outputId": "611a688c-e679-4d53-b95e-c13f9ce76646"
      },
      "execution_count": 38,
      "outputs": [
        {
          "output_type": "execute_result",
          "data": {
            "text/plain": [
              "0    6.855409\n",
              "1    6.855409\n",
              "2    6.801283\n",
              "3    5.631212\n",
              "4    6.683361\n",
              "Name: Price ($), dtype: float64"
            ]
          },
          "metadata": {},
          "execution_count": 38
        }
      ]
    },
    {
      "cell_type": "code",
      "source": [
        "from sklearn.model_selection import train_test_split\n",
        "X = data.drop(['Price ($)'],axis=1)\n",
        "y = data['Price ($)']\n",
        "\n",
        "X_train,X_test,y_train,y_test = train_test_split(X,y,test_size=0.2,random_state=5)\n",
        "print(X_train.shape)\n",
        "print(X_test.shape)"
      ],
      "metadata": {
        "colab": {
          "base_uri": "https://localhost:8080/"
        },
        "id": "KNINBdqc5mSk",
        "outputId": "c110b8b5-29d0-4334-e78c-61f27f814a06"
      },
      "execution_count": 39,
      "outputs": [
        {
          "output_type": "stream",
          "name": "stdout",
          "text": [
            "(325, 10)\n",
            "(82, 10)\n"
          ]
        }
      ]
    },
    {
      "cell_type": "code",
      "source": [
        "X_train.head()"
      ],
      "metadata": {
        "colab": {
          "base_uri": "https://localhost:8080/",
          "height": 285
        },
        "id": "jy6f49qO6l7w",
        "outputId": "4cfdbd88-50fa-4891-c6ea-16d32a39eda1"
      },
      "execution_count": 40,
      "outputs": [
        {
          "output_type": "execute_result",
          "data": {
            "text/plain": [
              "     Brand  Model  Storage       RAM   Screen Size (inches)  \\\n",
              "351     12    102     224.0  2.079442                 6.700   \n",
              "307      8     61     128.0  1.386294                 6.815   \n",
              "48      12     86      64.0  1.386294                 6.500   \n",
              "403     15    111     128.0  1.791759                 6.570   \n",
              "42      12     82      64.0  1.386294                 6.400   \n",
              "\n",
              "     Battery Capacity (mAh)  resolution1  resolution2  resolution3  \\\n",
              "351                  4800.0         12.0     5.196152     3.082207   \n",
              "307                  4850.0         48.0     2.236068     1.414214   \n",
              "48                   6000.0         48.0     2.236068     1.414214   \n",
              "403                  4160.0         48.0     2.828427     1.414214   \n",
              "42                   6000.0         48.0     2.828427     1.414214   \n",
              "\n",
              "     resolution4  \n",
              "351          0.0  \n",
              "307          0.0  \n",
              "48           2.0  \n",
              "403          2.0  \n",
              "42           2.0  "
            ],
            "text/html": [
              "\n",
              "  <div id=\"df-09b8f436-15b2-4b4c-a673-6d760a00c0be\">\n",
              "    <div class=\"colab-df-container\">\n",
              "      <div>\n",
              "<style scoped>\n",
              "    .dataframe tbody tr th:only-of-type {\n",
              "        vertical-align: middle;\n",
              "    }\n",
              "\n",
              "    .dataframe tbody tr th {\n",
              "        vertical-align: top;\n",
              "    }\n",
              "\n",
              "    .dataframe thead th {\n",
              "        text-align: right;\n",
              "    }\n",
              "</style>\n",
              "<table border=\"1\" class=\"dataframe\">\n",
              "  <thead>\n",
              "    <tr style=\"text-align: right;\">\n",
              "      <th></th>\n",
              "      <th>Brand</th>\n",
              "      <th>Model</th>\n",
              "      <th>Storage</th>\n",
              "      <th>RAM</th>\n",
              "      <th>Screen Size (inches)</th>\n",
              "      <th>Battery Capacity (mAh)</th>\n",
              "      <th>resolution1</th>\n",
              "      <th>resolution2</th>\n",
              "      <th>resolution3</th>\n",
              "      <th>resolution4</th>\n",
              "    </tr>\n",
              "  </thead>\n",
              "  <tbody>\n",
              "    <tr>\n",
              "      <th>351</th>\n",
              "      <td>12</td>\n",
              "      <td>102</td>\n",
              "      <td>224.0</td>\n",
              "      <td>2.079442</td>\n",
              "      <td>6.700</td>\n",
              "      <td>4800.0</td>\n",
              "      <td>12.0</td>\n",
              "      <td>5.196152</td>\n",
              "      <td>3.082207</td>\n",
              "      <td>0.0</td>\n",
              "    </tr>\n",
              "    <tr>\n",
              "      <th>307</th>\n",
              "      <td>8</td>\n",
              "      <td>61</td>\n",
              "      <td>128.0</td>\n",
              "      <td>1.386294</td>\n",
              "      <td>6.815</td>\n",
              "      <td>4850.0</td>\n",
              "      <td>48.0</td>\n",
              "      <td>2.236068</td>\n",
              "      <td>1.414214</td>\n",
              "      <td>0.0</td>\n",
              "    </tr>\n",
              "    <tr>\n",
              "      <th>48</th>\n",
              "      <td>12</td>\n",
              "      <td>86</td>\n",
              "      <td>64.0</td>\n",
              "      <td>1.386294</td>\n",
              "      <td>6.500</td>\n",
              "      <td>6000.0</td>\n",
              "      <td>48.0</td>\n",
              "      <td>2.236068</td>\n",
              "      <td>1.414214</td>\n",
              "      <td>2.0</td>\n",
              "    </tr>\n",
              "    <tr>\n",
              "      <th>403</th>\n",
              "      <td>15</td>\n",
              "      <td>111</td>\n",
              "      <td>128.0</td>\n",
              "      <td>1.791759</td>\n",
              "      <td>6.570</td>\n",
              "      <td>4160.0</td>\n",
              "      <td>48.0</td>\n",
              "      <td>2.828427</td>\n",
              "      <td>1.414214</td>\n",
              "      <td>2.0</td>\n",
              "    </tr>\n",
              "    <tr>\n",
              "      <th>42</th>\n",
              "      <td>12</td>\n",
              "      <td>82</td>\n",
              "      <td>64.0</td>\n",
              "      <td>1.386294</td>\n",
              "      <td>6.400</td>\n",
              "      <td>6000.0</td>\n",
              "      <td>48.0</td>\n",
              "      <td>2.828427</td>\n",
              "      <td>1.414214</td>\n",
              "      <td>2.0</td>\n",
              "    </tr>\n",
              "  </tbody>\n",
              "</table>\n",
              "</div>\n",
              "      <button class=\"colab-df-convert\" onclick=\"convertToInteractive('df-09b8f436-15b2-4b4c-a673-6d760a00c0be')\"\n",
              "              title=\"Convert this dataframe to an interactive table.\"\n",
              "              style=\"display:none;\">\n",
              "        \n",
              "  <svg xmlns=\"http://www.w3.org/2000/svg\" height=\"24px\"viewBox=\"0 0 24 24\"\n",
              "       width=\"24px\">\n",
              "    <path d=\"M0 0h24v24H0V0z\" fill=\"none\"/>\n",
              "    <path d=\"M18.56 5.44l.94 2.06.94-2.06 2.06-.94-2.06-.94-.94-2.06-.94 2.06-2.06.94zm-11 1L8.5 8.5l.94-2.06 2.06-.94-2.06-.94L8.5 2.5l-.94 2.06-2.06.94zm10 10l.94 2.06.94-2.06 2.06-.94-2.06-.94-.94-2.06-.94 2.06-2.06.94z\"/><path d=\"M17.41 7.96l-1.37-1.37c-.4-.4-.92-.59-1.43-.59-.52 0-1.04.2-1.43.59L10.3 9.45l-7.72 7.72c-.78.78-.78 2.05 0 2.83L4 21.41c.39.39.9.59 1.41.59.51 0 1.02-.2 1.41-.59l7.78-7.78 2.81-2.81c.8-.78.8-2.07 0-2.86zM5.41 20L4 18.59l7.72-7.72 1.47 1.35L5.41 20z\"/>\n",
              "  </svg>\n",
              "      </button>\n",
              "      \n",
              "  <style>\n",
              "    .colab-df-container {\n",
              "      display:flex;\n",
              "      flex-wrap:wrap;\n",
              "      gap: 12px;\n",
              "    }\n",
              "\n",
              "    .colab-df-convert {\n",
              "      background-color: #E8F0FE;\n",
              "      border: none;\n",
              "      border-radius: 50%;\n",
              "      cursor: pointer;\n",
              "      display: none;\n",
              "      fill: #1967D2;\n",
              "      height: 32px;\n",
              "      padding: 0 0 0 0;\n",
              "      width: 32px;\n",
              "    }\n",
              "\n",
              "    .colab-df-convert:hover {\n",
              "      background-color: #E2EBFA;\n",
              "      box-shadow: 0px 1px 2px rgba(60, 64, 67, 0.3), 0px 1px 3px 1px rgba(60, 64, 67, 0.15);\n",
              "      fill: #174EA6;\n",
              "    }\n",
              "\n",
              "    [theme=dark] .colab-df-convert {\n",
              "      background-color: #3B4455;\n",
              "      fill: #D2E3FC;\n",
              "    }\n",
              "\n",
              "    [theme=dark] .colab-df-convert:hover {\n",
              "      background-color: #434B5C;\n",
              "      box-shadow: 0px 1px 3px 1px rgba(0, 0, 0, 0.15);\n",
              "      filter: drop-shadow(0px 1px 2px rgba(0, 0, 0, 0.3));\n",
              "      fill: #FFFFFF;\n",
              "    }\n",
              "  </style>\n",
              "\n",
              "      <script>\n",
              "        const buttonEl =\n",
              "          document.querySelector('#df-09b8f436-15b2-4b4c-a673-6d760a00c0be button.colab-df-convert');\n",
              "        buttonEl.style.display =\n",
              "          google.colab.kernel.accessAllowed ? 'block' : 'none';\n",
              "\n",
              "        async function convertToInteractive(key) {\n",
              "          const element = document.querySelector('#df-09b8f436-15b2-4b4c-a673-6d760a00c0be');\n",
              "          const dataTable =\n",
              "            await google.colab.kernel.invokeFunction('convertToInteractive',\n",
              "                                                     [key], {});\n",
              "          if (!dataTable) return;\n",
              "\n",
              "          const docLinkHtml = 'Like what you see? Visit the ' +\n",
              "            '<a target=\"_blank\" href=https://colab.research.google.com/notebooks/data_table.ipynb>data table notebook</a>'\n",
              "            + ' to learn more about interactive tables.';\n",
              "          element.innerHTML = '';\n",
              "          dataTable['output_type'] = 'display_data';\n",
              "          await google.colab.output.renderOutput(dataTable, element);\n",
              "          const docLink = document.createElement('div');\n",
              "          docLink.innerHTML = docLinkHtml;\n",
              "          element.appendChild(docLink);\n",
              "        }\n",
              "      </script>\n",
              "    </div>\n",
              "  </div>\n",
              "  "
            ]
          },
          "metadata": {},
          "execution_count": 40
        }
      ]
    },
    {
      "cell_type": "code",
      "source": [
        "X_test.head()"
      ],
      "metadata": {
        "colab": {
          "base_uri": "https://localhost:8080/",
          "height": 285
        },
        "id": "tLlNoxGI6rdA",
        "outputId": "468e210d-165b-4849-a9df-306d700fe9a7"
      },
      "execution_count": 41,
      "outputs": [
        {
          "output_type": "execute_result",
          "data": {
            "text/plain": [
              "     Brand  Model  Storage       RAM   Screen Size (inches)  \\\n",
              "284     14    209      64.0  1.386294                  6.35   \n",
              "71      12     72     128.0  1.386294                  6.60   \n",
              "49      10     25      64.0  1.386294                  6.52   \n",
              "335     10    189     224.0  2.484907                  6.55   \n",
              "43      10     54     128.0  2.079442                  6.43   \n",
              "\n",
              "     Battery Capacity (mAh)  resolution1  resolution2  resolution3  \\\n",
              "284                  5000.0         13.0     2.828427     1.414214   \n",
              "71                   5000.0         48.0     2.236068     1.414214   \n",
              "49                   5000.0         13.0     1.414214     1.414214   \n",
              "335                  4000.0         48.0     3.464102     3.082207   \n",
              "43                   4310.0         64.0     2.828427     1.414214   \n",
              "\n",
              "     resolution4  \n",
              "284          0.0  \n",
              "71           0.0  \n",
              "49           0.0  \n",
              "335          0.0  \n",
              "43           2.0  "
            ],
            "text/html": [
              "\n",
              "  <div id=\"df-6f7a81c0-be19-46a4-952d-8392a68afbad\">\n",
              "    <div class=\"colab-df-container\">\n",
              "      <div>\n",
              "<style scoped>\n",
              "    .dataframe tbody tr th:only-of-type {\n",
              "        vertical-align: middle;\n",
              "    }\n",
              "\n",
              "    .dataframe tbody tr th {\n",
              "        vertical-align: top;\n",
              "    }\n",
              "\n",
              "    .dataframe thead th {\n",
              "        text-align: right;\n",
              "    }\n",
              "</style>\n",
              "<table border=\"1\" class=\"dataframe\">\n",
              "  <thead>\n",
              "    <tr style=\"text-align: right;\">\n",
              "      <th></th>\n",
              "      <th>Brand</th>\n",
              "      <th>Model</th>\n",
              "      <th>Storage</th>\n",
              "      <th>RAM</th>\n",
              "      <th>Screen Size (inches)</th>\n",
              "      <th>Battery Capacity (mAh)</th>\n",
              "      <th>resolution1</th>\n",
              "      <th>resolution2</th>\n",
              "      <th>resolution3</th>\n",
              "      <th>resolution4</th>\n",
              "    </tr>\n",
              "  </thead>\n",
              "  <tbody>\n",
              "    <tr>\n",
              "      <th>284</th>\n",
              "      <td>14</td>\n",
              "      <td>209</td>\n",
              "      <td>64.0</td>\n",
              "      <td>1.386294</td>\n",
              "      <td>6.35</td>\n",
              "      <td>5000.0</td>\n",
              "      <td>13.0</td>\n",
              "      <td>2.828427</td>\n",
              "      <td>1.414214</td>\n",
              "      <td>0.0</td>\n",
              "    </tr>\n",
              "    <tr>\n",
              "      <th>71</th>\n",
              "      <td>12</td>\n",
              "      <td>72</td>\n",
              "      <td>128.0</td>\n",
              "      <td>1.386294</td>\n",
              "      <td>6.60</td>\n",
              "      <td>5000.0</td>\n",
              "      <td>48.0</td>\n",
              "      <td>2.236068</td>\n",
              "      <td>1.414214</td>\n",
              "      <td>0.0</td>\n",
              "    </tr>\n",
              "    <tr>\n",
              "      <th>49</th>\n",
              "      <td>10</td>\n",
              "      <td>25</td>\n",
              "      <td>64.0</td>\n",
              "      <td>1.386294</td>\n",
              "      <td>6.52</td>\n",
              "      <td>5000.0</td>\n",
              "      <td>13.0</td>\n",
              "      <td>1.414214</td>\n",
              "      <td>1.414214</td>\n",
              "      <td>0.0</td>\n",
              "    </tr>\n",
              "    <tr>\n",
              "      <th>335</th>\n",
              "      <td>10</td>\n",
              "      <td>189</td>\n",
              "      <td>224.0</td>\n",
              "      <td>2.484907</td>\n",
              "      <td>6.55</td>\n",
              "      <td>4000.0</td>\n",
              "      <td>48.0</td>\n",
              "      <td>3.464102</td>\n",
              "      <td>3.082207</td>\n",
              "      <td>0.0</td>\n",
              "    </tr>\n",
              "    <tr>\n",
              "      <th>43</th>\n",
              "      <td>10</td>\n",
              "      <td>54</td>\n",
              "      <td>128.0</td>\n",
              "      <td>2.079442</td>\n",
              "      <td>6.43</td>\n",
              "      <td>4310.0</td>\n",
              "      <td>64.0</td>\n",
              "      <td>2.828427</td>\n",
              "      <td>1.414214</td>\n",
              "      <td>2.0</td>\n",
              "    </tr>\n",
              "  </tbody>\n",
              "</table>\n",
              "</div>\n",
              "      <button class=\"colab-df-convert\" onclick=\"convertToInteractive('df-6f7a81c0-be19-46a4-952d-8392a68afbad')\"\n",
              "              title=\"Convert this dataframe to an interactive table.\"\n",
              "              style=\"display:none;\">\n",
              "        \n",
              "  <svg xmlns=\"http://www.w3.org/2000/svg\" height=\"24px\"viewBox=\"0 0 24 24\"\n",
              "       width=\"24px\">\n",
              "    <path d=\"M0 0h24v24H0V0z\" fill=\"none\"/>\n",
              "    <path d=\"M18.56 5.44l.94 2.06.94-2.06 2.06-.94-2.06-.94-.94-2.06-.94 2.06-2.06.94zm-11 1L8.5 8.5l.94-2.06 2.06-.94-2.06-.94L8.5 2.5l-.94 2.06-2.06.94zm10 10l.94 2.06.94-2.06 2.06-.94-2.06-.94-.94-2.06-.94 2.06-2.06.94z\"/><path d=\"M17.41 7.96l-1.37-1.37c-.4-.4-.92-.59-1.43-.59-.52 0-1.04.2-1.43.59L10.3 9.45l-7.72 7.72c-.78.78-.78 2.05 0 2.83L4 21.41c.39.39.9.59 1.41.59.51 0 1.02-.2 1.41-.59l7.78-7.78 2.81-2.81c.8-.78.8-2.07 0-2.86zM5.41 20L4 18.59l7.72-7.72 1.47 1.35L5.41 20z\"/>\n",
              "  </svg>\n",
              "      </button>\n",
              "      \n",
              "  <style>\n",
              "    .colab-df-container {\n",
              "      display:flex;\n",
              "      flex-wrap:wrap;\n",
              "      gap: 12px;\n",
              "    }\n",
              "\n",
              "    .colab-df-convert {\n",
              "      background-color: #E8F0FE;\n",
              "      border: none;\n",
              "      border-radius: 50%;\n",
              "      cursor: pointer;\n",
              "      display: none;\n",
              "      fill: #1967D2;\n",
              "      height: 32px;\n",
              "      padding: 0 0 0 0;\n",
              "      width: 32px;\n",
              "    }\n",
              "\n",
              "    .colab-df-convert:hover {\n",
              "      background-color: #E2EBFA;\n",
              "      box-shadow: 0px 1px 2px rgba(60, 64, 67, 0.3), 0px 1px 3px 1px rgba(60, 64, 67, 0.15);\n",
              "      fill: #174EA6;\n",
              "    }\n",
              "\n",
              "    [theme=dark] .colab-df-convert {\n",
              "      background-color: #3B4455;\n",
              "      fill: #D2E3FC;\n",
              "    }\n",
              "\n",
              "    [theme=dark] .colab-df-convert:hover {\n",
              "      background-color: #434B5C;\n",
              "      box-shadow: 0px 1px 3px 1px rgba(0, 0, 0, 0.15);\n",
              "      filter: drop-shadow(0px 1px 2px rgba(0, 0, 0, 0.3));\n",
              "      fill: #FFFFFF;\n",
              "    }\n",
              "  </style>\n",
              "\n",
              "      <script>\n",
              "        const buttonEl =\n",
              "          document.querySelector('#df-6f7a81c0-be19-46a4-952d-8392a68afbad button.colab-df-convert');\n",
              "        buttonEl.style.display =\n",
              "          google.colab.kernel.accessAllowed ? 'block' : 'none';\n",
              "\n",
              "        async function convertToInteractive(key) {\n",
              "          const element = document.querySelector('#df-6f7a81c0-be19-46a4-952d-8392a68afbad');\n",
              "          const dataTable =\n",
              "            await google.colab.kernel.invokeFunction('convertToInteractive',\n",
              "                                                     [key], {});\n",
              "          if (!dataTable) return;\n",
              "\n",
              "          const docLinkHtml = 'Like what you see? Visit the ' +\n",
              "            '<a target=\"_blank\" href=https://colab.research.google.com/notebooks/data_table.ipynb>data table notebook</a>'\n",
              "            + ' to learn more about interactive tables.';\n",
              "          element.innerHTML = '';\n",
              "          dataTable['output_type'] = 'display_data';\n",
              "          await google.colab.output.renderOutput(dataTable, element);\n",
              "          const docLink = document.createElement('div');\n",
              "          docLink.innerHTML = docLinkHtml;\n",
              "          element.appendChild(docLink);\n",
              "        }\n",
              "      </script>\n",
              "    </div>\n",
              "  </div>\n",
              "  "
            ]
          },
          "metadata": {},
          "execution_count": 41
        }
      ]
    },
    {
      "cell_type": "code",
      "source": [
        "y_train.head()"
      ],
      "metadata": {
        "colab": {
          "base_uri": "https://localhost:8080/"
        },
        "id": "GV0ihJn1dKa6",
        "outputId": "b5e03bf2-4fba-401f-de6b-fe58c0c2b3c0"
      },
      "execution_count": 42,
      "outputs": [
        {
          "output_type": "execute_result",
          "data": {
            "text/plain": [
              "351    6.855409\n",
              "307    5.700444\n",
              "48     5.068904\n",
              "403    5.855072\n",
              "42     5.241747\n",
              "Name: Price ($), dtype: float64"
            ]
          },
          "metadata": {},
          "execution_count": 42
        }
      ]
    },
    {
      "cell_type": "code",
      "source": [
        "X_train = X_train.fillna(0)"
      ],
      "metadata": {
        "id": "3EheXoOm8tww"
      },
      "execution_count": 43,
      "outputs": []
    },
    {
      "cell_type": "code",
      "source": [
        "X_train.isnull().sum()"
      ],
      "metadata": {
        "colab": {
          "base_uri": "https://localhost:8080/"
        },
        "id": "vljAvG-m6uwH",
        "outputId": "330a9c75-1ca2-488f-d448-056fe7eebe60"
      },
      "execution_count": 44,
      "outputs": [
        {
          "output_type": "execute_result",
          "data": {
            "text/plain": [
              "Brand                     0\n",
              "Model                     0\n",
              "Storage                   0\n",
              "RAM                       0\n",
              "Screen Size (inches)      0\n",
              "Battery Capacity (mAh)    0\n",
              "resolution1               0\n",
              "resolution2               0\n",
              "resolution3               0\n",
              "resolution4               0\n",
              "dtype: int64"
            ]
          },
          "metadata": {},
          "execution_count": 44
        }
      ]
    },
    {
      "cell_type": "code",
      "source": [
        "X_test = X_test.fillna(0)"
      ],
      "metadata": {
        "id": "W5yxO-2S81Ev"
      },
      "execution_count": 45,
      "outputs": []
    },
    {
      "cell_type": "code",
      "source": [
        "X_test.isnull().sum()"
      ],
      "metadata": {
        "colab": {
          "base_uri": "https://localhost:8080/"
        },
        "id": "uMpFDuCz6z6X",
        "outputId": "ec95c3c5-ce53-4330-b1f1-a4e749fe273d"
      },
      "execution_count": 46,
      "outputs": [
        {
          "output_type": "execute_result",
          "data": {
            "text/plain": [
              "Brand                     0\n",
              "Model                     0\n",
              "Storage                   0\n",
              "RAM                       0\n",
              "Screen Size (inches)      0\n",
              "Battery Capacity (mAh)    0\n",
              "resolution1               0\n",
              "resolution2               0\n",
              "resolution3               0\n",
              "resolution4               0\n",
              "dtype: int64"
            ]
          },
          "metadata": {},
          "execution_count": 46
        }
      ]
    },
    {
      "cell_type": "code",
      "source": [
        "from sklearn.preprocessing import StandardScaler\n",
        "standardizer = StandardScaler()\n",
        "data = standardizer.fit(data).transform(data)"
      ],
      "metadata": {
        "id": "lOO--_zd0VFF"
      },
      "execution_count": 47,
      "outputs": []
    },
    {
      "cell_type": "code",
      "source": [
        "import time\n",
        "start_time = time.time()\n",
        "\n",
        "from sklearn.linear_model import Ridge\n",
        "from sklearn.metrics import r2_score\n",
        "from sklearn.metrics import mean_squared_error\n",
        "from sklearn.metrics import mean_absolute_error\n",
        "\n",
        "r1 = Ridge(alpha=1)\n",
        "r1.fit(X_train,y_train)\n",
        "pred_train_r1 = r1.predict(X_train)\n",
        "print('train R^2:',r2_score(y_train,pred_train_r1))\n",
        "print('train Mean Squared Error:',mean_squared_error(y_train,pred_train_r1))\n",
        "print('train Mean Absolute Error:',mean_absolute_error(y_train,pred_train_r1))\n",
        "print('-----------------------------------------')\n",
        "pred_test_r1 = r1.predict(X_test)\n",
        "print('test R^2:',r2_score(y_test,pred_test_r1))\n",
        "print('test Mean Squared Error:',mean_squared_error(y_test,pred_test_r1))\n",
        "print('test Mean Absolute Error:',mean_absolute_error(y_test,pred_test_r1))\n",
        "print('-----------------------------------------')\n",
        "\n",
        "end_time = time.time()\n",
        "execution_time = end_time - start_time\n",
        "print(\"Time taken :\", execution_time)"
      ],
      "metadata": {
        "id": "x5APx9Ihs8pW",
        "colab": {
          "base_uri": "https://localhost:8080/"
        },
        "outputId": "9b6a884c-4906-4d25-9cd4-e99a18ab2faa"
      },
      "execution_count": 48,
      "outputs": [
        {
          "output_type": "stream",
          "name": "stdout",
          "text": [
            "train R^2: 0.8780272274310555\n",
            "train Mean Squared Error: 0.04630714271618475\n",
            "train Mean Absolute Error: 0.1698585034294746\n",
            "-----------------------------------------\n",
            "test R^2: 0.8951697264347072\n",
            "test Mean Squared Error: 0.038271493068942564\n",
            "test Mean Absolute Error: 0.14978435669680862\n",
            "-----------------------------------------\n",
            "Time taken : 0.17917418479919434\n"
          ]
        }
      ]
    },
    {
      "cell_type": "code",
      "source": [
        "r1.coef_"
      ],
      "metadata": {
        "id": "WWFPna_8Lewq",
        "colab": {
          "base_uri": "https://localhost:8080/"
        },
        "outputId": "55ec68d0-8a35-47d5-c9e6-d48caf74d2d3"
      },
      "execution_count": 49,
      "outputs": [
        {
          "output_type": "execute_result",
          "data": {
            "text/plain": [
              "array([-4.40866309e-02,  9.42176192e-04,  2.58463575e-03,  4.38165835e-01,\n",
              "        2.71274134e-01, -2.20427482e-04,  4.03096780e-04,  1.56529568e-01,\n",
              "        8.73775295e-02, -3.81566827e-02])"
            ]
          },
          "metadata": {},
          "execution_count": 49
        }
      ]
    },
    {
      "cell_type": "code",
      "source": [
        "start_time = time.time()\n",
        "\n",
        "from sklearn.model_selection import GridSearchCV\n",
        "param_grid = {'alpha':[0.00001,0.001,0.01,0.1,1,10,100]}\n",
        "tuning = GridSearchCV(r1, param_grid,cv=10)\n",
        "tuning.fit(X_train,y_train)\n",
        "print(tuning.best_params_)\n",
        "\n",
        "end_time = time.time()\n",
        "execution_time = end_time - start_time\n",
        "print(\"Time taken :\", execution_time)"
      ],
      "metadata": {
        "colab": {
          "base_uri": "https://localhost:8080/"
        },
        "id": "C78VZSFx7vPJ",
        "outputId": "dcf02f91-352a-4370-b67c-1eae77989cc7"
      },
      "execution_count": 50,
      "outputs": [
        {
          "output_type": "stream",
          "name": "stdout",
          "text": [
            "{'alpha': 0.1}\n",
            "Time taken : 1.4118421077728271\n"
          ]
        }
      ]
    },
    {
      "cell_type": "code",
      "source": [
        "r1 = Ridge(alpha=tuning.best_params_['alpha'])\n",
        "r1.fit(X_train,y_train)"
      ],
      "metadata": {
        "colab": {
          "base_uri": "https://localhost:8080/",
          "height": 75
        },
        "id": "aZ7uewSU8uzY",
        "outputId": "911acd83-364c-44e4-818b-b7659853b1eb"
      },
      "execution_count": 51,
      "outputs": [
        {
          "output_type": "execute_result",
          "data": {
            "text/plain": [
              "Ridge(alpha=0.1)"
            ],
            "text/html": [
              "<style>#sk-container-id-1 {color: black;background-color: white;}#sk-container-id-1 pre{padding: 0;}#sk-container-id-1 div.sk-toggleable {background-color: white;}#sk-container-id-1 label.sk-toggleable__label {cursor: pointer;display: block;width: 100%;margin-bottom: 0;padding: 0.3em;box-sizing: border-box;text-align: center;}#sk-container-id-1 label.sk-toggleable__label-arrow:before {content: \"▸\";float: left;margin-right: 0.25em;color: #696969;}#sk-container-id-1 label.sk-toggleable__label-arrow:hover:before {color: black;}#sk-container-id-1 div.sk-estimator:hover label.sk-toggleable__label-arrow:before {color: black;}#sk-container-id-1 div.sk-toggleable__content {max-height: 0;max-width: 0;overflow: hidden;text-align: left;background-color: #f0f8ff;}#sk-container-id-1 div.sk-toggleable__content pre {margin: 0.2em;color: black;border-radius: 0.25em;background-color: #f0f8ff;}#sk-container-id-1 input.sk-toggleable__control:checked~div.sk-toggleable__content {max-height: 200px;max-width: 100%;overflow: auto;}#sk-container-id-1 input.sk-toggleable__control:checked~label.sk-toggleable__label-arrow:before {content: \"▾\";}#sk-container-id-1 div.sk-estimator input.sk-toggleable__control:checked~label.sk-toggleable__label {background-color: #d4ebff;}#sk-container-id-1 div.sk-label input.sk-toggleable__control:checked~label.sk-toggleable__label {background-color: #d4ebff;}#sk-container-id-1 input.sk-hidden--visually {border: 0;clip: rect(1px 1px 1px 1px);clip: rect(1px, 1px, 1px, 1px);height: 1px;margin: -1px;overflow: hidden;padding: 0;position: absolute;width: 1px;}#sk-container-id-1 div.sk-estimator {font-family: monospace;background-color: #f0f8ff;border: 1px dotted black;border-radius: 0.25em;box-sizing: border-box;margin-bottom: 0.5em;}#sk-container-id-1 div.sk-estimator:hover {background-color: #d4ebff;}#sk-container-id-1 div.sk-parallel-item::after {content: \"\";width: 100%;border-bottom: 1px solid gray;flex-grow: 1;}#sk-container-id-1 div.sk-label:hover label.sk-toggleable__label {background-color: #d4ebff;}#sk-container-id-1 div.sk-serial::before {content: \"\";position: absolute;border-left: 1px solid gray;box-sizing: border-box;top: 0;bottom: 0;left: 50%;z-index: 0;}#sk-container-id-1 div.sk-serial {display: flex;flex-direction: column;align-items: center;background-color: white;padding-right: 0.2em;padding-left: 0.2em;position: relative;}#sk-container-id-1 div.sk-item {position: relative;z-index: 1;}#sk-container-id-1 div.sk-parallel {display: flex;align-items: stretch;justify-content: center;background-color: white;position: relative;}#sk-container-id-1 div.sk-item::before, #sk-container-id-1 div.sk-parallel-item::before {content: \"\";position: absolute;border-left: 1px solid gray;box-sizing: border-box;top: 0;bottom: 0;left: 50%;z-index: -1;}#sk-container-id-1 div.sk-parallel-item {display: flex;flex-direction: column;z-index: 1;position: relative;background-color: white;}#sk-container-id-1 div.sk-parallel-item:first-child::after {align-self: flex-end;width: 50%;}#sk-container-id-1 div.sk-parallel-item:last-child::after {align-self: flex-start;width: 50%;}#sk-container-id-1 div.sk-parallel-item:only-child::after {width: 0;}#sk-container-id-1 div.sk-dashed-wrapped {border: 1px dashed gray;margin: 0 0.4em 0.5em 0.4em;box-sizing: border-box;padding-bottom: 0.4em;background-color: white;}#sk-container-id-1 div.sk-label label {font-family: monospace;font-weight: bold;display: inline-block;line-height: 1.2em;}#sk-container-id-1 div.sk-label-container {text-align: center;}#sk-container-id-1 div.sk-container {/* jupyter's `normalize.less` sets `[hidden] { display: none; }` but bootstrap.min.css set `[hidden] { display: none !important; }` so we also need the `!important` here to be able to override the default hidden behavior on the sphinx rendered scikit-learn.org. See: https://github.com/scikit-learn/scikit-learn/issues/21755 */display: inline-block !important;position: relative;}#sk-container-id-1 div.sk-text-repr-fallback {display: none;}</style><div id=\"sk-container-id-1\" class=\"sk-top-container\"><div class=\"sk-text-repr-fallback\"><pre>Ridge(alpha=0.1)</pre><b>In a Jupyter environment, please rerun this cell to show the HTML representation or trust the notebook. <br />On GitHub, the HTML representation is unable to render, please try loading this page with nbviewer.org.</b></div><div class=\"sk-container\" hidden><div class=\"sk-item\"><div class=\"sk-estimator sk-toggleable\"><input class=\"sk-toggleable__control sk-hidden--visually\" id=\"sk-estimator-id-1\" type=\"checkbox\" checked><label for=\"sk-estimator-id-1\" class=\"sk-toggleable__label sk-toggleable__label-arrow\">Ridge</label><div class=\"sk-toggleable__content\"><pre>Ridge(alpha=0.1)</pre></div></div></div></div></div>"
            ]
          },
          "metadata": {},
          "execution_count": 51
        }
      ]
    },
    {
      "cell_type": "code",
      "source": [
        "start_time = time.time()\n",
        "\n",
        "from sklearn.model_selection import RandomizedSearchCV\n",
        "from scipy.stats import uniform\n",
        "\n",
        "param_dist = {'alpha': uniform(0,10)}\n",
        "random = RandomizedSearchCV(r1, param_distributions = param_dist,n_iter=100,cv=5)\n",
        "random.fit(X_train,y_train)\n",
        "print('best hyperparameters:',random.best_params_)\n",
        "\n",
        "end_time = time.time()\n",
        "execution_time = end_time - start_time\n",
        "print(\"Time taken :\", execution_time)"
      ],
      "metadata": {
        "colab": {
          "base_uri": "https://localhost:8080/"
        },
        "id": "6_18fzKqFhxD",
        "outputId": "c473cc09-75eb-4126-fb16-5066bda19127"
      },
      "execution_count": 52,
      "outputs": [
        {
          "output_type": "stream",
          "name": "stdout",
          "text": [
            "best hyperparameters: {'alpha': 0.0037440898650831222}\n",
            "Time taken : 5.5535666942596436\n"
          ]
        }
      ]
    },
    {
      "cell_type": "code",
      "source": [
        "r1 = Ridge(alpha=random.best_params_['alpha'])\n",
        "r1.fit(X_train,y_train)"
      ],
      "metadata": {
        "colab": {
          "base_uri": "https://localhost:8080/",
          "height": 75
        },
        "id": "eXLSkQ9DnY3q",
        "outputId": "2917eff3-1e0e-4182-dd8f-b833da70a99d"
      },
      "execution_count": 53,
      "outputs": [
        {
          "output_type": "execute_result",
          "data": {
            "text/plain": [
              "Ridge(alpha=0.0037440898650831222)"
            ],
            "text/html": [
              "<style>#sk-container-id-2 {color: black;background-color: white;}#sk-container-id-2 pre{padding: 0;}#sk-container-id-2 div.sk-toggleable {background-color: white;}#sk-container-id-2 label.sk-toggleable__label {cursor: pointer;display: block;width: 100%;margin-bottom: 0;padding: 0.3em;box-sizing: border-box;text-align: center;}#sk-container-id-2 label.sk-toggleable__label-arrow:before {content: \"▸\";float: left;margin-right: 0.25em;color: #696969;}#sk-container-id-2 label.sk-toggleable__label-arrow:hover:before {color: black;}#sk-container-id-2 div.sk-estimator:hover label.sk-toggleable__label-arrow:before {color: black;}#sk-container-id-2 div.sk-toggleable__content {max-height: 0;max-width: 0;overflow: hidden;text-align: left;background-color: #f0f8ff;}#sk-container-id-2 div.sk-toggleable__content pre {margin: 0.2em;color: black;border-radius: 0.25em;background-color: #f0f8ff;}#sk-container-id-2 input.sk-toggleable__control:checked~div.sk-toggleable__content {max-height: 200px;max-width: 100%;overflow: auto;}#sk-container-id-2 input.sk-toggleable__control:checked~label.sk-toggleable__label-arrow:before {content: \"▾\";}#sk-container-id-2 div.sk-estimator input.sk-toggleable__control:checked~label.sk-toggleable__label {background-color: #d4ebff;}#sk-container-id-2 div.sk-label input.sk-toggleable__control:checked~label.sk-toggleable__label {background-color: #d4ebff;}#sk-container-id-2 input.sk-hidden--visually {border: 0;clip: rect(1px 1px 1px 1px);clip: rect(1px, 1px, 1px, 1px);height: 1px;margin: -1px;overflow: hidden;padding: 0;position: absolute;width: 1px;}#sk-container-id-2 div.sk-estimator {font-family: monospace;background-color: #f0f8ff;border: 1px dotted black;border-radius: 0.25em;box-sizing: border-box;margin-bottom: 0.5em;}#sk-container-id-2 div.sk-estimator:hover {background-color: #d4ebff;}#sk-container-id-2 div.sk-parallel-item::after {content: \"\";width: 100%;border-bottom: 1px solid gray;flex-grow: 1;}#sk-container-id-2 div.sk-label:hover label.sk-toggleable__label {background-color: #d4ebff;}#sk-container-id-2 div.sk-serial::before {content: \"\";position: absolute;border-left: 1px solid gray;box-sizing: border-box;top: 0;bottom: 0;left: 50%;z-index: 0;}#sk-container-id-2 div.sk-serial {display: flex;flex-direction: column;align-items: center;background-color: white;padding-right: 0.2em;padding-left: 0.2em;position: relative;}#sk-container-id-2 div.sk-item {position: relative;z-index: 1;}#sk-container-id-2 div.sk-parallel {display: flex;align-items: stretch;justify-content: center;background-color: white;position: relative;}#sk-container-id-2 div.sk-item::before, #sk-container-id-2 div.sk-parallel-item::before {content: \"\";position: absolute;border-left: 1px solid gray;box-sizing: border-box;top: 0;bottom: 0;left: 50%;z-index: -1;}#sk-container-id-2 div.sk-parallel-item {display: flex;flex-direction: column;z-index: 1;position: relative;background-color: white;}#sk-container-id-2 div.sk-parallel-item:first-child::after {align-self: flex-end;width: 50%;}#sk-container-id-2 div.sk-parallel-item:last-child::after {align-self: flex-start;width: 50%;}#sk-container-id-2 div.sk-parallel-item:only-child::after {width: 0;}#sk-container-id-2 div.sk-dashed-wrapped {border: 1px dashed gray;margin: 0 0.4em 0.5em 0.4em;box-sizing: border-box;padding-bottom: 0.4em;background-color: white;}#sk-container-id-2 div.sk-label label {font-family: monospace;font-weight: bold;display: inline-block;line-height: 1.2em;}#sk-container-id-2 div.sk-label-container {text-align: center;}#sk-container-id-2 div.sk-container {/* jupyter's `normalize.less` sets `[hidden] { display: none; }` but bootstrap.min.css set `[hidden] { display: none !important; }` so we also need the `!important` here to be able to override the default hidden behavior on the sphinx rendered scikit-learn.org. See: https://github.com/scikit-learn/scikit-learn/issues/21755 */display: inline-block !important;position: relative;}#sk-container-id-2 div.sk-text-repr-fallback {display: none;}</style><div id=\"sk-container-id-2\" class=\"sk-top-container\"><div class=\"sk-text-repr-fallback\"><pre>Ridge(alpha=0.0037440898650831222)</pre><b>In a Jupyter environment, please rerun this cell to show the HTML representation or trust the notebook. <br />On GitHub, the HTML representation is unable to render, please try loading this page with nbviewer.org.</b></div><div class=\"sk-container\" hidden><div class=\"sk-item\"><div class=\"sk-estimator sk-toggleable\"><input class=\"sk-toggleable__control sk-hidden--visually\" id=\"sk-estimator-id-2\" type=\"checkbox\" checked><label for=\"sk-estimator-id-2\" class=\"sk-toggleable__label sk-toggleable__label-arrow\">Ridge</label><div class=\"sk-toggleable__content\"><pre>Ridge(alpha=0.0037440898650831222)</pre></div></div></div></div></div>"
            ]
          },
          "metadata": {},
          "execution_count": 53
        }
      ]
    },
    {
      "cell_type": "code",
      "source": [
        "start_time = time.time()\n",
        "\n",
        "from sklearn.ensemble import AdaBoostRegressor\n",
        "r1 = Ridge(alpha=random.best_params_['alpha'])\n",
        "ada = AdaBoostRegressor(estimator=r1,n_estimators=50,learning_rate=0.001)\n",
        "ada.fit(X_train,y_train)\n",
        "train_score = ada.score(X_train,y_train)\n",
        "test_score = ada.score(X_test,y_test)\n",
        "print('train r2:',train_score)\n",
        "print('test r2:',test_score)\n",
        "\n",
        "end_time = time.time()\n",
        "execution_time = end_time - start_time\n",
        "print(\"Time taken :\", execution_time)"
      ],
      "metadata": {
        "colab": {
          "base_uri": "https://localhost:8080/"
        },
        "id": "sX50WMkjDKA2",
        "outputId": "24ef81b4-3d32-4d32-dba1-adf5570d8517"
      },
      "execution_count": 54,
      "outputs": [
        {
          "output_type": "stream",
          "name": "stdout",
          "text": [
            "train r2: 0.8783799495259074\n",
            "test r2: 0.8921544991984544\n",
            "Time taken : 0.286912202835083\n"
          ]
        }
      ]
    },
    {
      "cell_type": "code",
      "source": [
        "start_time = time.time()\n",
        "\n",
        "from xgboost import XGBRegressor\n",
        "r1 = Ridge(alpha=random.best_params_['alpha'])\n",
        "boosting = XGBRegressor()\n",
        "boosting.fit(X_train,y_train)\n",
        "price_pred_train = boosting.predict(X_train)\n",
        "\n",
        "price_pred_test = boosting.predict(X_test)\n",
        "print('train R^2:',r2_score(y_train,price_pred_train))\n",
        "print('train Mean Squared Error:',mean_squared_error(y_train,price_pred_train))\n",
        "print('train Mean Absolute Error:',mean_absolute_error(y_train,price_pred_train))\n",
        "print('-------------------------------------')\n",
        "print('test R^2:',r2_score(y_test,price_pred_test))\n",
        "print('test Mean Squared Error:',mean_squared_error(y_test,price_pred_test))\n",
        "print('test Mean Absolute Error:',mean_absolute_error(y_test,price_pred_test))\n",
        "\n",
        "end_time = time.time()\n",
        "execution_time = end_time - start_time\n",
        "print('-------------------------------------')\n",
        "print(\"Time taken :\", execution_time)"
      ],
      "metadata": {
        "id": "e9s_jB9X8-dg",
        "colab": {
          "base_uri": "https://localhost:8080/"
        },
        "outputId": "ccbf2f98-87ad-450e-cc47-b502bf339dc9"
      },
      "execution_count": 57,
      "outputs": [
        {
          "output_type": "stream",
          "name": "stdout",
          "text": [
            "train R^2: 0.9970199616921628\n",
            "train Mean Squared Error: 0.0011313759318106488\n",
            "train Mean Absolute Error: 0.01526169277985245\n",
            "-------------------------------------\n",
            "test R^2: 0.9519276810538375\n",
            "test Mean Squared Error: 0.01755026824584358\n",
            "test Mean Absolute Error: 0.08967779054351822\n",
            "-------------------------------------\n",
            "Time taken : 0.3606760501861572\n"
          ]
        }
      ]
    },
    {
      "cell_type": "code",
      "source": [
        "#price_pred_train = price_pred_train.astype(int)\n",
        "print('prediction for train:',price_pred_train)\n",
        "print('prediction for test:',price_pred_test)"
      ],
      "metadata": {
        "id": "F-4_YrsODJ8-",
        "colab": {
          "base_uri": "https://localhost:8080/"
        },
        "outputId": "03d93be8-10a7-4f93-d94c-4845808b4bef"
      },
      "execution_count": 58,
      "outputs": [
        {
          "output_type": "stream",
          "name": "stdout",
          "text": [
            "prediction for train: [6.8540177 5.700263  5.0734653 5.8520126 5.241386  5.4771423 5.711589\n",
            " 5.293036  6.85557   5.627367  5.5238686 5.6989694 6.1932244 5.8536477\n",
            " 5.627367  4.938056  5.5639434 5.2924476 4.9710274 6.8560696 6.800228\n",
            " 6.037222  5.6351733 5.694177  5.6996727 5.496513  5.519605  6.1064634\n",
            " 5.514521  6.8034196 6.854266  5.8013406 4.643026  5.010365  6.8547893\n",
            " 5.787919  5.6304426 4.933981  5.85746   5.848502  5.293036  5.769266\n",
            " 5.978671  6.1086664 6.614854  4.9644165 5.7481003 6.399989  6.6842437\n",
            " 6.8549733 5.6996727 6.55014   5.473609  5.908987  6.1086664 5.4875836\n",
            " 5.8013983 5.5230284 5.8260536 6.8554916 6.064529  5.473609  6.2110834\n",
            " 5.8013983 6.3890405 4.5931487 6.5543876 5.256387  6.8563504 4.5945783\n",
            " 6.1210465 5.3008385 5.431882  5.09653   5.09653   5.666502  6.215973\n",
            " 4.937181  6.6808715 6.8526435 6.8548875 6.854138  6.855733  6.5519123\n",
            " 6.104842  5.501847  4.935225  5.3639045 5.6274114 5.603027  5.198081\n",
            " 4.643026  5.6416917 6.7994    5.988242  4.999277  5.5844474 5.294372\n",
            " 4.981936  6.682576  4.866547  6.6176944 6.80208   5.6019936 4.981936\n",
            " 6.591983  5.711589  5.8260536 5.7481003 4.9378614 4.9358153 5.6995587\n",
            " 6.1210465 4.78082   5.5639434 5.3035297 5.696317  5.29348   5.189312\n",
            " 5.186184  5.515379  5.0011272 4.860628  5.229957  5.180319  6.5505977\n",
            " 5.3901844 5.5639434 5.069333  5.098333  5.5949273 5.988242  5.6019936\n",
            " 6.402901  5.068053  6.1048417 6.856407  6.0599456 6.2116776 6.8510075\n",
            " 5.005546  5.244383  6.8563504 6.856235  5.4322915 5.1882706 5.336188\n",
            " 5.496513  5.2948613 5.797233  5.6019936 6.2163076 6.799221  5.186184\n",
            " 6.8529    5.510908  5.989349  6.1932244 5.3639045 5.5905924 6.5468793\n",
            " 5.797233  5.429712  6.1081686 5.7033486 6.855671  6.860265  6.8576584\n",
            " 5.6328998 5.7963862 6.682785  5.240036  4.9984827 6.1210465 5.908219\n",
            " 6.850148  5.805837  5.6296897 5.773174  5.101924  5.190182  5.3381567\n",
            " 5.79421   6.591983  6.5497355 6.736094  6.213135  6.8564143 5.3065763\n",
            " 5.6329308 6.856424  5.007501  5.701237  5.388564  6.8525753 5.2916274\n",
            " 5.621663  5.9905105 6.8535047 6.1086664 6.8545494 5.3856335 4.869573\n",
            " 5.3132334 5.595021  5.068164  5.2955947 5.2911363 6.54779   5.6705227\n",
            " 6.6886    6.3951607 5.6429024 5.435153  5.476691  5.991289  5.0011272\n",
            " 5.5111923 5.6994805 4.981936  5.4006515 6.55014   5.190239  5.908987\n",
            " 5.908219  6.1210465 4.860648  5.068164  5.632653  5.00246   5.2976685\n",
            " 4.594955  5.2426414 5.264326  6.8552027 5.8536477 4.9710274 5.2914476\n",
            " 5.6999283 5.9501734 5.293036  4.9393005 5.3856335 6.549291  5.098333\n",
            " 5.9827456 6.5493817 5.068164  5.612841  5.9888854 5.3132334 5.6019936\n",
            " 5.293036  5.0128026 5.6464734 6.393879  6.6226244 5.256387  5.101924\n",
            " 5.1943803 6.8544893 5.8613214 6.6842437 5.9833145 5.003079  5.9919834\n",
            " 6.6842437 6.1040416 5.6983204 6.853629  5.291364  5.9798326 6.395857\n",
            " 4.5973463 5.190239  5.264326  5.288365  4.8580265 5.964675  5.0042405\n",
            " 6.10493   5.8544884 5.8561563 5.631525  6.54779   5.623008  6.854183\n",
            " 5.431882  5.304495  5.186305  5.6983204 6.682785  4.9644165 6.8555264\n",
            " 5.244383  4.981936  6.850917  5.256387  6.5493817 5.5309    5.128171\n",
            " 5.4290295 6.307439  6.1081686 6.1086664 5.6464734 5.666502  6.2634134\n",
            " 5.6999283 6.555108  6.211352  5.822011  5.5639434 6.0612726 5.723791\n",
            " 6.85625   5.908219  5.1825914 6.555461  5.9501734 5.798983  5.508212\n",
            " 6.1081686 5.762387  6.2110834]\n",
            "prediction for test: [5.177044  5.6304426 5.264326  6.673614  6.037222  5.4771423 5.6999283\n",
            " 5.9919834 4.5791316 5.293036  5.101924  5.9827456 5.1943803 6.1086664\n",
            " 5.595021  4.981936  4.957793  5.5639434 5.068164  6.4399652 5.627367\n",
            " 5.7141056 6.7994    5.8613214 5.293036  5.9905105 5.007501  5.6994805\n",
            " 5.436192  5.408004  5.4850087 5.180319  5.9437423 6.307439  5.868758\n",
            " 5.2291102 5.9798326 5.323895  5.330927  6.0272627 6.8552027 5.272837\n",
            " 5.244383  5.1702623 5.9919834 4.672785  5.8536477 5.7141056 5.6886544\n",
            " 5.311461  6.0255957 5.1702623 6.54779   5.0011272 5.672085  6.5387106\n",
            " 5.645156  6.593542  5.431882  6.4543595 6.402901  5.5639434 6.225972\n",
            " 4.9816694 6.5493817 6.788956  5.79421   6.6960683 6.049806  6.065873\n",
            " 5.0042405 4.643026  5.816164  6.50765   6.466456  5.0734653 6.213135\n",
            " 5.330927  5.229957  6.50765   6.2657843 5.762652 ]\n"
          ]
        }
      ]
    },
    {
      "cell_type": "code",
      "source": [],
      "metadata": {
        "id": "HbBOnTv-_SHp"
      },
      "execution_count": 56,
      "outputs": []
    },
    {
      "cell_type": "code",
      "source": [],
      "metadata": {
        "id": "2pa7alhA_SBW"
      },
      "execution_count": 56,
      "outputs": []
    },
    {
      "cell_type": "code",
      "source": [],
      "metadata": {
        "id": "6lfx3ffgkihE"
      },
      "execution_count": 56,
      "outputs": []
    }
  ]
}