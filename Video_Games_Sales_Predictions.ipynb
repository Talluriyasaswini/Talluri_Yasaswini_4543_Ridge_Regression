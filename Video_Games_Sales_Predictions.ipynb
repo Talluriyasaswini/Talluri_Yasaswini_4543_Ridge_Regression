{
  "nbformat": 4,
  "nbformat_minor": 0,
  "metadata": {
    "colab": {
      "provenance": []
    },
    "kernelspec": {
      "name": "python3",
      "display_name": "Python 3"
    },
    "language_info": {
      "name": "python"
    }
  },
  "cells": [
    {
      "cell_type": "markdown",
      "source": [
        "**PreProcessing**"
      ],
      "metadata": {
        "id": "RNUQOWFY6Cgb"
      }
    },
    {
      "cell_type": "code",
      "source": [
        "from google.colab import drive\n",
        "drive.mount('/content/drive')"
      ],
      "metadata": {
        "colab": {
          "base_uri": "https://localhost:8080/"
        },
        "id": "2Ye1s1bcFY7j",
        "outputId": "906f1d1a-0af7-4b20-8da7-83fe02a5bf6a"
      },
      "execution_count": null,
      "outputs": [
        {
          "output_type": "stream",
          "name": "stdout",
          "text": [
            "Drive already mounted at /content/drive; to attempt to forcibly remount, call drive.mount(\"/content/drive\", force_remount=True).\n"
          ]
        }
      ]
    },
    {
      "cell_type": "code",
      "source": [
        "#pandas for data analysis \n",
        "#numpy for mathematical solving\n",
        "import pandas as pd\n",
        "import numpy as np "
      ],
      "metadata": {
        "id": "MjhQ-O_wFabr"
      },
      "execution_count": null,
      "outputs": []
    },
    {
      "cell_type": "code",
      "source": [
        "#read the data\n",
        "data = pd.read_csv(\"/content/drive/MyDrive/Ridge_Regression/video_games_sales.csv\")"
      ],
      "metadata": {
        "id": "kR0WNg2sFvac"
      },
      "execution_count": null,
      "outputs": []
    },
    {
      "cell_type": "code",
      "source": [
        "#dimensions of the dataset\n",
        "data.shape"
      ],
      "metadata": {
        "colab": {
          "base_uri": "https://localhost:8080/"
        },
        "id": "KjNhjiIZ7KPg",
        "outputId": "714e7772-45f5-49b4-c0e1-3b3264ce1012"
      },
      "execution_count": null,
      "outputs": [
        {
          "output_type": "execute_result",
          "data": {
            "text/plain": [
              "(16598, 11)"
            ]
          },
          "metadata": {},
          "execution_count": 327
        }
      ]
    },
    {
      "cell_type": "code",
      "source": [
        "#splitting the data into train and test(without traget column)\n",
        "from sklearn.model_selection import train_test_split\n",
        "#shuffling the dataset, frac = 1 returns all rows\n",
        "data = data.sample(frac=1)\n",
        "\n",
        "train_data, test_data = train_test_split(data, test_size=0.2)\n",
        "#the index labels will be written as the first column\n",
        "train_data.to_csv(\"train_dataset.csv\")\n",
        "\n",
        "test_data = test_data.drop(columns=['Global_Sales'])\n",
        "test_data.to_csv(\"test_dataset.csv\")"
      ],
      "metadata": {
        "id": "JwPR1ohzPe4c"
      },
      "execution_count": null,
      "outputs": []
    },
    {
      "cell_type": "code",
      "source": [
        "train_data = pd.read_csv(\"/content/drive/MyDrive/Ridge_Regression/train_dataset.csv\")"
      ],
      "metadata": {
        "id": "orfJeCui25Ar"
      },
      "execution_count": null,
      "outputs": []
    },
    {
      "cell_type": "code",
      "source": [
        "test_data = pd.read_csv(\"/content/drive/MyDrive/Ridge_Regression/test_dataset.csv\")"
      ],
      "metadata": {
        "id": "cX75zXId3EdU"
      },
      "execution_count": null,
      "outputs": []
    },
    {
      "cell_type": "code",
      "source": [
        "#gives the dimension of the data (rows,columns)\n",
        "train_data.shape"
      ],
      "metadata": {
        "colab": {
          "base_uri": "https://localhost:8080/"
        },
        "id": "KP097PK4QxxD",
        "outputId": "732c4833-da38-407b-c769-337e99135560"
      },
      "execution_count": null,
      "outputs": [
        {
          "output_type": "execute_result",
          "data": {
            "text/plain": [
              "(13278, 11)"
            ]
          },
          "metadata": {},
          "execution_count": 331
        }
      ]
    },
    {
      "cell_type": "code",
      "source": [
        "test_data.shape"
      ],
      "metadata": {
        "colab": {
          "base_uri": "https://localhost:8080/"
        },
        "id": "Xhx90bFWTk2x",
        "outputId": "3a0c4f3c-7531-464e-8f08-a4611923ab29"
      },
      "execution_count": null,
      "outputs": [
        {
          "output_type": "execute_result",
          "data": {
            "text/plain": [
              "(3320, 10)"
            ]
          },
          "metadata": {},
          "execution_count": 332
        }
      ]
    },
    {
      "cell_type": "code",
      "source": [
        "#displays the top 5 rows\n",
        "train_data.head()"
      ],
      "metadata": {
        "colab": {
          "base_uri": "https://localhost:8080/",
          "height": 206
        },
        "id": "_FcoA-iWF3T5",
        "outputId": "7fc9ff64-11c5-457a-9b9a-048b375f39ab"
      },
      "execution_count": null,
      "outputs": [
        {
          "output_type": "execute_result",
          "data": {
            "text/plain": [
              "    Rank                           Name Platform    Year      Genre  \\\n",
              "0  15806  Kimi ni Todoke: Sodateru Omoi       DS  2009.0  Adventure   \n",
              "1  15432  Worldwide Soccer Manager 2007       PC  2006.0     Sports   \n",
              "2  15337        Hakuouki: Yuugi Roku DS       DS  2011.0  Adventure   \n",
              "3   7732               NHL FaceOff 2001      PS2  2001.0     Sports   \n",
              "4    941                     inFAMOUS 2      PS3  2011.0     Action   \n",
              "\n",
              "                     Publisher  NA_Sales  EU_Sales  JP_Sales  Other_Sales  \\\n",
              "0                    Banpresto      0.00      0.00      0.02         0.00   \n",
              "1                         Sega      0.00      0.02      0.00         0.00   \n",
              "2                 Idea Factory      0.00      0.00      0.02         0.00   \n",
              "3  Sony Computer Entertainment      0.10      0.07      0.00         0.02   \n",
              "4  Sony Computer Entertainment      1.05      0.49      0.08         0.23   \n",
              "\n",
              "   Global_Sales  \n",
              "0          0.02  \n",
              "1          0.02  \n",
              "2          0.02  \n",
              "3          0.20  \n",
              "4          1.85  "
            ],
            "text/html": [
              "\n",
              "  <div id=\"df-aebf8cee-0df1-42a5-bdfe-0fdf9792efbb\">\n",
              "    <div class=\"colab-df-container\">\n",
              "      <div>\n",
              "<style scoped>\n",
              "    .dataframe tbody tr th:only-of-type {\n",
              "        vertical-align: middle;\n",
              "    }\n",
              "\n",
              "    .dataframe tbody tr th {\n",
              "        vertical-align: top;\n",
              "    }\n",
              "\n",
              "    .dataframe thead th {\n",
              "        text-align: right;\n",
              "    }\n",
              "</style>\n",
              "<table border=\"1\" class=\"dataframe\">\n",
              "  <thead>\n",
              "    <tr style=\"text-align: right;\">\n",
              "      <th></th>\n",
              "      <th>Rank</th>\n",
              "      <th>Name</th>\n",
              "      <th>Platform</th>\n",
              "      <th>Year</th>\n",
              "      <th>Genre</th>\n",
              "      <th>Publisher</th>\n",
              "      <th>NA_Sales</th>\n",
              "      <th>EU_Sales</th>\n",
              "      <th>JP_Sales</th>\n",
              "      <th>Other_Sales</th>\n",
              "      <th>Global_Sales</th>\n",
              "    </tr>\n",
              "  </thead>\n",
              "  <tbody>\n",
              "    <tr>\n",
              "      <th>0</th>\n",
              "      <td>15806</td>\n",
              "      <td>Kimi ni Todoke: Sodateru Omoi</td>\n",
              "      <td>DS</td>\n",
              "      <td>2009.0</td>\n",
              "      <td>Adventure</td>\n",
              "      <td>Banpresto</td>\n",
              "      <td>0.00</td>\n",
              "      <td>0.00</td>\n",
              "      <td>0.02</td>\n",
              "      <td>0.00</td>\n",
              "      <td>0.02</td>\n",
              "    </tr>\n",
              "    <tr>\n",
              "      <th>1</th>\n",
              "      <td>15432</td>\n",
              "      <td>Worldwide Soccer Manager 2007</td>\n",
              "      <td>PC</td>\n",
              "      <td>2006.0</td>\n",
              "      <td>Sports</td>\n",
              "      <td>Sega</td>\n",
              "      <td>0.00</td>\n",
              "      <td>0.02</td>\n",
              "      <td>0.00</td>\n",
              "      <td>0.00</td>\n",
              "      <td>0.02</td>\n",
              "    </tr>\n",
              "    <tr>\n",
              "      <th>2</th>\n",
              "      <td>15337</td>\n",
              "      <td>Hakuouki: Yuugi Roku DS</td>\n",
              "      <td>DS</td>\n",
              "      <td>2011.0</td>\n",
              "      <td>Adventure</td>\n",
              "      <td>Idea Factory</td>\n",
              "      <td>0.00</td>\n",
              "      <td>0.00</td>\n",
              "      <td>0.02</td>\n",
              "      <td>0.00</td>\n",
              "      <td>0.02</td>\n",
              "    </tr>\n",
              "    <tr>\n",
              "      <th>3</th>\n",
              "      <td>7732</td>\n",
              "      <td>NHL FaceOff 2001</td>\n",
              "      <td>PS2</td>\n",
              "      <td>2001.0</td>\n",
              "      <td>Sports</td>\n",
              "      <td>Sony Computer Entertainment</td>\n",
              "      <td>0.10</td>\n",
              "      <td>0.07</td>\n",
              "      <td>0.00</td>\n",
              "      <td>0.02</td>\n",
              "      <td>0.20</td>\n",
              "    </tr>\n",
              "    <tr>\n",
              "      <th>4</th>\n",
              "      <td>941</td>\n",
              "      <td>inFAMOUS 2</td>\n",
              "      <td>PS3</td>\n",
              "      <td>2011.0</td>\n",
              "      <td>Action</td>\n",
              "      <td>Sony Computer Entertainment</td>\n",
              "      <td>1.05</td>\n",
              "      <td>0.49</td>\n",
              "      <td>0.08</td>\n",
              "      <td>0.23</td>\n",
              "      <td>1.85</td>\n",
              "    </tr>\n",
              "  </tbody>\n",
              "</table>\n",
              "</div>\n",
              "      <button class=\"colab-df-convert\" onclick=\"convertToInteractive('df-aebf8cee-0df1-42a5-bdfe-0fdf9792efbb')\"\n",
              "              title=\"Convert this dataframe to an interactive table.\"\n",
              "              style=\"display:none;\">\n",
              "        \n",
              "  <svg xmlns=\"http://www.w3.org/2000/svg\" height=\"24px\"viewBox=\"0 0 24 24\"\n",
              "       width=\"24px\">\n",
              "    <path d=\"M0 0h24v24H0V0z\" fill=\"none\"/>\n",
              "    <path d=\"M18.56 5.44l.94 2.06.94-2.06 2.06-.94-2.06-.94-.94-2.06-.94 2.06-2.06.94zm-11 1L8.5 8.5l.94-2.06 2.06-.94-2.06-.94L8.5 2.5l-.94 2.06-2.06.94zm10 10l.94 2.06.94-2.06 2.06-.94-2.06-.94-.94-2.06-.94 2.06-2.06.94z\"/><path d=\"M17.41 7.96l-1.37-1.37c-.4-.4-.92-.59-1.43-.59-.52 0-1.04.2-1.43.59L10.3 9.45l-7.72 7.72c-.78.78-.78 2.05 0 2.83L4 21.41c.39.39.9.59 1.41.59.51 0 1.02-.2 1.41-.59l7.78-7.78 2.81-2.81c.8-.78.8-2.07 0-2.86zM5.41 20L4 18.59l7.72-7.72 1.47 1.35L5.41 20z\"/>\n",
              "  </svg>\n",
              "      </button>\n",
              "      \n",
              "  <style>\n",
              "    .colab-df-container {\n",
              "      display:flex;\n",
              "      flex-wrap:wrap;\n",
              "      gap: 12px;\n",
              "    }\n",
              "\n",
              "    .colab-df-convert {\n",
              "      background-color: #E8F0FE;\n",
              "      border: none;\n",
              "      border-radius: 50%;\n",
              "      cursor: pointer;\n",
              "      display: none;\n",
              "      fill: #1967D2;\n",
              "      height: 32px;\n",
              "      padding: 0 0 0 0;\n",
              "      width: 32px;\n",
              "    }\n",
              "\n",
              "    .colab-df-convert:hover {\n",
              "      background-color: #E2EBFA;\n",
              "      box-shadow: 0px 1px 2px rgba(60, 64, 67, 0.3), 0px 1px 3px 1px rgba(60, 64, 67, 0.15);\n",
              "      fill: #174EA6;\n",
              "    }\n",
              "\n",
              "    [theme=dark] .colab-df-convert {\n",
              "      background-color: #3B4455;\n",
              "      fill: #D2E3FC;\n",
              "    }\n",
              "\n",
              "    [theme=dark] .colab-df-convert:hover {\n",
              "      background-color: #434B5C;\n",
              "      box-shadow: 0px 1px 3px 1px rgba(0, 0, 0, 0.15);\n",
              "      filter: drop-shadow(0px 1px 2px rgba(0, 0, 0, 0.3));\n",
              "      fill: #FFFFFF;\n",
              "    }\n",
              "  </style>\n",
              "\n",
              "      <script>\n",
              "        const buttonEl =\n",
              "          document.querySelector('#df-aebf8cee-0df1-42a5-bdfe-0fdf9792efbb button.colab-df-convert');\n",
              "        buttonEl.style.display =\n",
              "          google.colab.kernel.accessAllowed ? 'block' : 'none';\n",
              "\n",
              "        async function convertToInteractive(key) {\n",
              "          const element = document.querySelector('#df-aebf8cee-0df1-42a5-bdfe-0fdf9792efbb');\n",
              "          const dataTable =\n",
              "            await google.colab.kernel.invokeFunction('convertToInteractive',\n",
              "                                                     [key], {});\n",
              "          if (!dataTable) return;\n",
              "\n",
              "          const docLinkHtml = 'Like what you see? Visit the ' +\n",
              "            '<a target=\"_blank\" href=https://colab.research.google.com/notebooks/data_table.ipynb>data table notebook</a>'\n",
              "            + ' to learn more about interactive tables.';\n",
              "          element.innerHTML = '';\n",
              "          dataTable['output_type'] = 'display_data';\n",
              "          await google.colab.output.renderOutput(dataTable, element);\n",
              "          const docLink = document.createElement('div');\n",
              "          docLink.innerHTML = docLinkHtml;\n",
              "          element.appendChild(docLink);\n",
              "        }\n",
              "      </script>\n",
              "    </div>\n",
              "  </div>\n",
              "  "
            ]
          },
          "metadata": {},
          "execution_count": 333
        }
      ]
    },
    {
      "cell_type": "code",
      "source": [
        "#displays the bottom 5 rows\n",
        "train_data.tail()"
      ],
      "metadata": {
        "colab": {
          "base_uri": "https://localhost:8080/",
          "height": 206
        },
        "id": "o6mHAbmBQs6N",
        "outputId": "2b5f65c8-bd9c-4187-c405-ba298355fff3"
      },
      "execution_count": null,
      "outputs": [
        {
          "output_type": "execute_result",
          "data": {
            "text/plain": [
              "        Rank                                          Name Platform    Year  \\\n",
              "13273   3668                   SD Gundam G Generation Zero       PS  1999.0   \n",
              "13274  11310                       101-in-1 Sports Megamix       DS  2010.0   \n",
              "13275  10087  Shinseiki Evangelion: Koutetsu no Girlfriend      SAT  1998.0   \n",
              "13276   2190                                        Evolve      PS4  2015.0   \n",
              "13277    201                             Super Mario Bros.       GB  1999.0   \n",
              "\n",
              "           Genre             Publisher  NA_Sales  EU_Sales  JP_Sales  \\\n",
              "13273   Strategy    Namco Bandai Games      0.00      0.00      0.51   \n",
              "13274     Sports           Nordcurrent      0.08      0.00      0.00   \n",
              "13275  Adventure                  Sega      0.00      0.00      0.11   \n",
              "13276    Shooter  Take-Two Interactive      0.35      0.41      0.05   \n",
              "13277   Platform              Nintendo      3.40      1.30      0.15   \n",
              "\n",
              "       Other_Sales  Global_Sales  \n",
              "13273         0.04          0.55  \n",
              "13274         0.01          0.08  \n",
              "13275         0.00          0.11  \n",
              "13276         0.15          0.95  \n",
              "13277         0.22          5.07  "
            ],
            "text/html": [
              "\n",
              "  <div id=\"df-97b73624-e094-4d11-87d3-fbf1af73ea86\">\n",
              "    <div class=\"colab-df-container\">\n",
              "      <div>\n",
              "<style scoped>\n",
              "    .dataframe tbody tr th:only-of-type {\n",
              "        vertical-align: middle;\n",
              "    }\n",
              "\n",
              "    .dataframe tbody tr th {\n",
              "        vertical-align: top;\n",
              "    }\n",
              "\n",
              "    .dataframe thead th {\n",
              "        text-align: right;\n",
              "    }\n",
              "</style>\n",
              "<table border=\"1\" class=\"dataframe\">\n",
              "  <thead>\n",
              "    <tr style=\"text-align: right;\">\n",
              "      <th></th>\n",
              "      <th>Rank</th>\n",
              "      <th>Name</th>\n",
              "      <th>Platform</th>\n",
              "      <th>Year</th>\n",
              "      <th>Genre</th>\n",
              "      <th>Publisher</th>\n",
              "      <th>NA_Sales</th>\n",
              "      <th>EU_Sales</th>\n",
              "      <th>JP_Sales</th>\n",
              "      <th>Other_Sales</th>\n",
              "      <th>Global_Sales</th>\n",
              "    </tr>\n",
              "  </thead>\n",
              "  <tbody>\n",
              "    <tr>\n",
              "      <th>13273</th>\n",
              "      <td>3668</td>\n",
              "      <td>SD Gundam G Generation Zero</td>\n",
              "      <td>PS</td>\n",
              "      <td>1999.0</td>\n",
              "      <td>Strategy</td>\n",
              "      <td>Namco Bandai Games</td>\n",
              "      <td>0.00</td>\n",
              "      <td>0.00</td>\n",
              "      <td>0.51</td>\n",
              "      <td>0.04</td>\n",
              "      <td>0.55</td>\n",
              "    </tr>\n",
              "    <tr>\n",
              "      <th>13274</th>\n",
              "      <td>11310</td>\n",
              "      <td>101-in-1 Sports Megamix</td>\n",
              "      <td>DS</td>\n",
              "      <td>2010.0</td>\n",
              "      <td>Sports</td>\n",
              "      <td>Nordcurrent</td>\n",
              "      <td>0.08</td>\n",
              "      <td>0.00</td>\n",
              "      <td>0.00</td>\n",
              "      <td>0.01</td>\n",
              "      <td>0.08</td>\n",
              "    </tr>\n",
              "    <tr>\n",
              "      <th>13275</th>\n",
              "      <td>10087</td>\n",
              "      <td>Shinseiki Evangelion: Koutetsu no Girlfriend</td>\n",
              "      <td>SAT</td>\n",
              "      <td>1998.0</td>\n",
              "      <td>Adventure</td>\n",
              "      <td>Sega</td>\n",
              "      <td>0.00</td>\n",
              "      <td>0.00</td>\n",
              "      <td>0.11</td>\n",
              "      <td>0.00</td>\n",
              "      <td>0.11</td>\n",
              "    </tr>\n",
              "    <tr>\n",
              "      <th>13276</th>\n",
              "      <td>2190</td>\n",
              "      <td>Evolve</td>\n",
              "      <td>PS4</td>\n",
              "      <td>2015.0</td>\n",
              "      <td>Shooter</td>\n",
              "      <td>Take-Two Interactive</td>\n",
              "      <td>0.35</td>\n",
              "      <td>0.41</td>\n",
              "      <td>0.05</td>\n",
              "      <td>0.15</td>\n",
              "      <td>0.95</td>\n",
              "    </tr>\n",
              "    <tr>\n",
              "      <th>13277</th>\n",
              "      <td>201</td>\n",
              "      <td>Super Mario Bros.</td>\n",
              "      <td>GB</td>\n",
              "      <td>1999.0</td>\n",
              "      <td>Platform</td>\n",
              "      <td>Nintendo</td>\n",
              "      <td>3.40</td>\n",
              "      <td>1.30</td>\n",
              "      <td>0.15</td>\n",
              "      <td>0.22</td>\n",
              "      <td>5.07</td>\n",
              "    </tr>\n",
              "  </tbody>\n",
              "</table>\n",
              "</div>\n",
              "      <button class=\"colab-df-convert\" onclick=\"convertToInteractive('df-97b73624-e094-4d11-87d3-fbf1af73ea86')\"\n",
              "              title=\"Convert this dataframe to an interactive table.\"\n",
              "              style=\"display:none;\">\n",
              "        \n",
              "  <svg xmlns=\"http://www.w3.org/2000/svg\" height=\"24px\"viewBox=\"0 0 24 24\"\n",
              "       width=\"24px\">\n",
              "    <path d=\"M0 0h24v24H0V0z\" fill=\"none\"/>\n",
              "    <path d=\"M18.56 5.44l.94 2.06.94-2.06 2.06-.94-2.06-.94-.94-2.06-.94 2.06-2.06.94zm-11 1L8.5 8.5l.94-2.06 2.06-.94-2.06-.94L8.5 2.5l-.94 2.06-2.06.94zm10 10l.94 2.06.94-2.06 2.06-.94-2.06-.94-.94-2.06-.94 2.06-2.06.94z\"/><path d=\"M17.41 7.96l-1.37-1.37c-.4-.4-.92-.59-1.43-.59-.52 0-1.04.2-1.43.59L10.3 9.45l-7.72 7.72c-.78.78-.78 2.05 0 2.83L4 21.41c.39.39.9.59 1.41.59.51 0 1.02-.2 1.41-.59l7.78-7.78 2.81-2.81c.8-.78.8-2.07 0-2.86zM5.41 20L4 18.59l7.72-7.72 1.47 1.35L5.41 20z\"/>\n",
              "  </svg>\n",
              "      </button>\n",
              "      \n",
              "  <style>\n",
              "    .colab-df-container {\n",
              "      display:flex;\n",
              "      flex-wrap:wrap;\n",
              "      gap: 12px;\n",
              "    }\n",
              "\n",
              "    .colab-df-convert {\n",
              "      background-color: #E8F0FE;\n",
              "      border: none;\n",
              "      border-radius: 50%;\n",
              "      cursor: pointer;\n",
              "      display: none;\n",
              "      fill: #1967D2;\n",
              "      height: 32px;\n",
              "      padding: 0 0 0 0;\n",
              "      width: 32px;\n",
              "    }\n",
              "\n",
              "    .colab-df-convert:hover {\n",
              "      background-color: #E2EBFA;\n",
              "      box-shadow: 0px 1px 2px rgba(60, 64, 67, 0.3), 0px 1px 3px 1px rgba(60, 64, 67, 0.15);\n",
              "      fill: #174EA6;\n",
              "    }\n",
              "\n",
              "    [theme=dark] .colab-df-convert {\n",
              "      background-color: #3B4455;\n",
              "      fill: #D2E3FC;\n",
              "    }\n",
              "\n",
              "    [theme=dark] .colab-df-convert:hover {\n",
              "      background-color: #434B5C;\n",
              "      box-shadow: 0px 1px 3px 1px rgba(0, 0, 0, 0.15);\n",
              "      filter: drop-shadow(0px 1px 2px rgba(0, 0, 0, 0.3));\n",
              "      fill: #FFFFFF;\n",
              "    }\n",
              "  </style>\n",
              "\n",
              "      <script>\n",
              "        const buttonEl =\n",
              "          document.querySelector('#df-97b73624-e094-4d11-87d3-fbf1af73ea86 button.colab-df-convert');\n",
              "        buttonEl.style.display =\n",
              "          google.colab.kernel.accessAllowed ? 'block' : 'none';\n",
              "\n",
              "        async function convertToInteractive(key) {\n",
              "          const element = document.querySelector('#df-97b73624-e094-4d11-87d3-fbf1af73ea86');\n",
              "          const dataTable =\n",
              "            await google.colab.kernel.invokeFunction('convertToInteractive',\n",
              "                                                     [key], {});\n",
              "          if (!dataTable) return;\n",
              "\n",
              "          const docLinkHtml = 'Like what you see? Visit the ' +\n",
              "            '<a target=\"_blank\" href=https://colab.research.google.com/notebooks/data_table.ipynb>data table notebook</a>'\n",
              "            + ' to learn more about interactive tables.';\n",
              "          element.innerHTML = '';\n",
              "          dataTable['output_type'] = 'display_data';\n",
              "          await google.colab.output.renderOutput(dataTable, element);\n",
              "          const docLink = document.createElement('div');\n",
              "          docLink.innerHTML = docLinkHtml;\n",
              "          element.appendChild(docLink);\n",
              "        }\n",
              "      </script>\n",
              "    </div>\n",
              "  </div>\n",
              "  "
            ]
          },
          "metadata": {},
          "execution_count": 334
        }
      ]
    },
    {
      "cell_type": "code",
      "source": [
        "#dispalys the columns names\n",
        "train_data.columns\n"
      ],
      "metadata": {
        "colab": {
          "base_uri": "https://localhost:8080/"
        },
        "id": "jxI7NXcDQ-_l",
        "outputId": "4765c5ac-0d69-4da2-86f9-dad57fa47ce2"
      },
      "execution_count": null,
      "outputs": [
        {
          "output_type": "execute_result",
          "data": {
            "text/plain": [
              "Index(['Rank', 'Name', 'Platform', 'Year', 'Genre', 'Publisher', 'NA_Sales',\n",
              "       'EU_Sales', 'JP_Sales', 'Other_Sales', 'Global_Sales'],\n",
              "      dtype='object')"
            ]
          },
          "metadata": {},
          "execution_count": 335
        }
      ]
    },
    {
      "cell_type": "code",
      "source": [
        "#gives the datatype and nullvalues if present \n",
        "train_data.info()"
      ],
      "metadata": {
        "colab": {
          "base_uri": "https://localhost:8080/"
        },
        "id": "M6kUOgeURsoi",
        "outputId": "5407f8af-a0cf-442c-9c17-6609fa1dd8b7"
      },
      "execution_count": null,
      "outputs": [
        {
          "output_type": "stream",
          "name": "stdout",
          "text": [
            "<class 'pandas.core.frame.DataFrame'>\n",
            "RangeIndex: 13278 entries, 0 to 13277\n",
            "Data columns (total 11 columns):\n",
            " #   Column        Non-Null Count  Dtype  \n",
            "---  ------        --------------  -----  \n",
            " 0   Rank          13278 non-null  int64  \n",
            " 1   Name          13278 non-null  object \n",
            " 2   Platform      13278 non-null  object \n",
            " 3   Year          13057 non-null  float64\n",
            " 4   Genre         13278 non-null  object \n",
            " 5   Publisher     13226 non-null  object \n",
            " 6   NA_Sales      13278 non-null  float64\n",
            " 7   EU_Sales      13278 non-null  float64\n",
            " 8   JP_Sales      13278 non-null  float64\n",
            " 9   Other_Sales   13278 non-null  float64\n",
            " 10  Global_Sales  13278 non-null  float64\n",
            "dtypes: float64(6), int64(1), object(4)\n",
            "memory usage: 1.1+ MB\n"
          ]
        }
      ]
    },
    {
      "cell_type": "code",
      "source": [
        "#gives the descriptive statistics\n",
        "train_data.describe()\n",
        "#the mean and 50% has high difference and 75% and max has hing difference"
      ],
      "metadata": {
        "colab": {
          "base_uri": "https://localhost:8080/",
          "height": 300
        },
        "id": "VoobQlWz2Ery",
        "outputId": "44feedc5-d8b2-4d94-c84d-23df74565f76"
      },
      "execution_count": null,
      "outputs": [
        {
          "output_type": "execute_result",
          "data": {
            "text/plain": [
              "               Rank          Year      NA_Sales      EU_Sales      JP_Sales  \\\n",
              "count  13278.000000  13057.000000  13278.000000  13278.000000  13278.000000   \n",
              "mean    8311.163127   2006.413648      0.264001      0.146808      0.077134   \n",
              "std     4799.631750      5.806355      0.851169      0.520105      0.310705   \n",
              "min        1.000000   1980.000000      0.000000      0.000000      0.000000   \n",
              "25%     4131.250000   2003.000000      0.000000      0.000000      0.000000   \n",
              "50%     8319.500000   2007.000000      0.080000      0.020000      0.000000   \n",
              "75%    12466.750000   2010.000000      0.240000      0.110000      0.040000   \n",
              "max    16600.000000   2020.000000     41.490000     29.020000     10.220000   \n",
              "\n",
              "        Other_Sales  Global_Sales  \n",
              "count  13278.000000  13278.000000  \n",
              "mean       0.048276      0.536523  \n",
              "std        0.197249      1.605488  \n",
              "min        0.000000      0.010000  \n",
              "25%        0.000000      0.060000  \n",
              "50%        0.010000      0.170000  \n",
              "75%        0.040000      0.480000  \n",
              "max       10.570000     82.740000  "
            ],
            "text/html": [
              "\n",
              "  <div id=\"df-4e6d91d8-0888-43a1-a79c-aed3b2b7ba5c\">\n",
              "    <div class=\"colab-df-container\">\n",
              "      <div>\n",
              "<style scoped>\n",
              "    .dataframe tbody tr th:only-of-type {\n",
              "        vertical-align: middle;\n",
              "    }\n",
              "\n",
              "    .dataframe tbody tr th {\n",
              "        vertical-align: top;\n",
              "    }\n",
              "\n",
              "    .dataframe thead th {\n",
              "        text-align: right;\n",
              "    }\n",
              "</style>\n",
              "<table border=\"1\" class=\"dataframe\">\n",
              "  <thead>\n",
              "    <tr style=\"text-align: right;\">\n",
              "      <th></th>\n",
              "      <th>Rank</th>\n",
              "      <th>Year</th>\n",
              "      <th>NA_Sales</th>\n",
              "      <th>EU_Sales</th>\n",
              "      <th>JP_Sales</th>\n",
              "      <th>Other_Sales</th>\n",
              "      <th>Global_Sales</th>\n",
              "    </tr>\n",
              "  </thead>\n",
              "  <tbody>\n",
              "    <tr>\n",
              "      <th>count</th>\n",
              "      <td>13278.000000</td>\n",
              "      <td>13057.000000</td>\n",
              "      <td>13278.000000</td>\n",
              "      <td>13278.000000</td>\n",
              "      <td>13278.000000</td>\n",
              "      <td>13278.000000</td>\n",
              "      <td>13278.000000</td>\n",
              "    </tr>\n",
              "    <tr>\n",
              "      <th>mean</th>\n",
              "      <td>8311.163127</td>\n",
              "      <td>2006.413648</td>\n",
              "      <td>0.264001</td>\n",
              "      <td>0.146808</td>\n",
              "      <td>0.077134</td>\n",
              "      <td>0.048276</td>\n",
              "      <td>0.536523</td>\n",
              "    </tr>\n",
              "    <tr>\n",
              "      <th>std</th>\n",
              "      <td>4799.631750</td>\n",
              "      <td>5.806355</td>\n",
              "      <td>0.851169</td>\n",
              "      <td>0.520105</td>\n",
              "      <td>0.310705</td>\n",
              "      <td>0.197249</td>\n",
              "      <td>1.605488</td>\n",
              "    </tr>\n",
              "    <tr>\n",
              "      <th>min</th>\n",
              "      <td>1.000000</td>\n",
              "      <td>1980.000000</td>\n",
              "      <td>0.000000</td>\n",
              "      <td>0.000000</td>\n",
              "      <td>0.000000</td>\n",
              "      <td>0.000000</td>\n",
              "      <td>0.010000</td>\n",
              "    </tr>\n",
              "    <tr>\n",
              "      <th>25%</th>\n",
              "      <td>4131.250000</td>\n",
              "      <td>2003.000000</td>\n",
              "      <td>0.000000</td>\n",
              "      <td>0.000000</td>\n",
              "      <td>0.000000</td>\n",
              "      <td>0.000000</td>\n",
              "      <td>0.060000</td>\n",
              "    </tr>\n",
              "    <tr>\n",
              "      <th>50%</th>\n",
              "      <td>8319.500000</td>\n",
              "      <td>2007.000000</td>\n",
              "      <td>0.080000</td>\n",
              "      <td>0.020000</td>\n",
              "      <td>0.000000</td>\n",
              "      <td>0.010000</td>\n",
              "      <td>0.170000</td>\n",
              "    </tr>\n",
              "    <tr>\n",
              "      <th>75%</th>\n",
              "      <td>12466.750000</td>\n",
              "      <td>2010.000000</td>\n",
              "      <td>0.240000</td>\n",
              "      <td>0.110000</td>\n",
              "      <td>0.040000</td>\n",
              "      <td>0.040000</td>\n",
              "      <td>0.480000</td>\n",
              "    </tr>\n",
              "    <tr>\n",
              "      <th>max</th>\n",
              "      <td>16600.000000</td>\n",
              "      <td>2020.000000</td>\n",
              "      <td>41.490000</td>\n",
              "      <td>29.020000</td>\n",
              "      <td>10.220000</td>\n",
              "      <td>10.570000</td>\n",
              "      <td>82.740000</td>\n",
              "    </tr>\n",
              "  </tbody>\n",
              "</table>\n",
              "</div>\n",
              "      <button class=\"colab-df-convert\" onclick=\"convertToInteractive('df-4e6d91d8-0888-43a1-a79c-aed3b2b7ba5c')\"\n",
              "              title=\"Convert this dataframe to an interactive table.\"\n",
              "              style=\"display:none;\">\n",
              "        \n",
              "  <svg xmlns=\"http://www.w3.org/2000/svg\" height=\"24px\"viewBox=\"0 0 24 24\"\n",
              "       width=\"24px\">\n",
              "    <path d=\"M0 0h24v24H0V0z\" fill=\"none\"/>\n",
              "    <path d=\"M18.56 5.44l.94 2.06.94-2.06 2.06-.94-2.06-.94-.94-2.06-.94 2.06-2.06.94zm-11 1L8.5 8.5l.94-2.06 2.06-.94-2.06-.94L8.5 2.5l-.94 2.06-2.06.94zm10 10l.94 2.06.94-2.06 2.06-.94-2.06-.94-.94-2.06-.94 2.06-2.06.94z\"/><path d=\"M17.41 7.96l-1.37-1.37c-.4-.4-.92-.59-1.43-.59-.52 0-1.04.2-1.43.59L10.3 9.45l-7.72 7.72c-.78.78-.78 2.05 0 2.83L4 21.41c.39.39.9.59 1.41.59.51 0 1.02-.2 1.41-.59l7.78-7.78 2.81-2.81c.8-.78.8-2.07 0-2.86zM5.41 20L4 18.59l7.72-7.72 1.47 1.35L5.41 20z\"/>\n",
              "  </svg>\n",
              "      </button>\n",
              "      \n",
              "  <style>\n",
              "    .colab-df-container {\n",
              "      display:flex;\n",
              "      flex-wrap:wrap;\n",
              "      gap: 12px;\n",
              "    }\n",
              "\n",
              "    .colab-df-convert {\n",
              "      background-color: #E8F0FE;\n",
              "      border: none;\n",
              "      border-radius: 50%;\n",
              "      cursor: pointer;\n",
              "      display: none;\n",
              "      fill: #1967D2;\n",
              "      height: 32px;\n",
              "      padding: 0 0 0 0;\n",
              "      width: 32px;\n",
              "    }\n",
              "\n",
              "    .colab-df-convert:hover {\n",
              "      background-color: #E2EBFA;\n",
              "      box-shadow: 0px 1px 2px rgba(60, 64, 67, 0.3), 0px 1px 3px 1px rgba(60, 64, 67, 0.15);\n",
              "      fill: #174EA6;\n",
              "    }\n",
              "\n",
              "    [theme=dark] .colab-df-convert {\n",
              "      background-color: #3B4455;\n",
              "      fill: #D2E3FC;\n",
              "    }\n",
              "\n",
              "    [theme=dark] .colab-df-convert:hover {\n",
              "      background-color: #434B5C;\n",
              "      box-shadow: 0px 1px 3px 1px rgba(0, 0, 0, 0.15);\n",
              "      filter: drop-shadow(0px 1px 2px rgba(0, 0, 0, 0.3));\n",
              "      fill: #FFFFFF;\n",
              "    }\n",
              "  </style>\n",
              "\n",
              "      <script>\n",
              "        const buttonEl =\n",
              "          document.querySelector('#df-4e6d91d8-0888-43a1-a79c-aed3b2b7ba5c button.colab-df-convert');\n",
              "        buttonEl.style.display =\n",
              "          google.colab.kernel.accessAllowed ? 'block' : 'none';\n",
              "\n",
              "        async function convertToInteractive(key) {\n",
              "          const element = document.querySelector('#df-4e6d91d8-0888-43a1-a79c-aed3b2b7ba5c');\n",
              "          const dataTable =\n",
              "            await google.colab.kernel.invokeFunction('convertToInteractive',\n",
              "                                                     [key], {});\n",
              "          if (!dataTable) return;\n",
              "\n",
              "          const docLinkHtml = 'Like what you see? Visit the ' +\n",
              "            '<a target=\"_blank\" href=https://colab.research.google.com/notebooks/data_table.ipynb>data table notebook</a>'\n",
              "            + ' to learn more about interactive tables.';\n",
              "          element.innerHTML = '';\n",
              "          dataTable['output_type'] = 'display_data';\n",
              "          await google.colab.output.renderOutput(dataTable, element);\n",
              "          const docLink = document.createElement('div');\n",
              "          docLink.innerHTML = docLinkHtml;\n",
              "          element.appendChild(docLink);\n",
              "        }\n",
              "      </script>\n",
              "    </div>\n",
              "  </div>\n",
              "  "
            ]
          },
          "metadata": {},
          "execution_count": 337
        }
      ]
    },
    {
      "cell_type": "code",
      "source": [
        "#includes only the columns that have object data type\n",
        "train_data.describe(include=['O'])"
      ],
      "metadata": {
        "colab": {
          "base_uri": "https://localhost:8080/",
          "height": 175
        },
        "id": "9pDMXmhwBHkc",
        "outputId": "4b60c91b-f1e0-4a6e-a348-42584369c161"
      },
      "execution_count": null,
      "outputs": [
        {
          "output_type": "execute_result",
          "data": {
            "text/plain": [
              "                               Name Platform   Genre        Publisher\n",
              "count                         13278    13278   13278            13226\n",
              "unique                         9659       31      12              532\n",
              "top     Need for Speed: Most Wanted       DS  Action  Electronic Arts\n",
              "freq                              9     1735    2620             1073"
            ],
            "text/html": [
              "\n",
              "  <div id=\"df-7be110ce-06f2-4b9b-9e79-e44817900de2\">\n",
              "    <div class=\"colab-df-container\">\n",
              "      <div>\n",
              "<style scoped>\n",
              "    .dataframe tbody tr th:only-of-type {\n",
              "        vertical-align: middle;\n",
              "    }\n",
              "\n",
              "    .dataframe tbody tr th {\n",
              "        vertical-align: top;\n",
              "    }\n",
              "\n",
              "    .dataframe thead th {\n",
              "        text-align: right;\n",
              "    }\n",
              "</style>\n",
              "<table border=\"1\" class=\"dataframe\">\n",
              "  <thead>\n",
              "    <tr style=\"text-align: right;\">\n",
              "      <th></th>\n",
              "      <th>Name</th>\n",
              "      <th>Platform</th>\n",
              "      <th>Genre</th>\n",
              "      <th>Publisher</th>\n",
              "    </tr>\n",
              "  </thead>\n",
              "  <tbody>\n",
              "    <tr>\n",
              "      <th>count</th>\n",
              "      <td>13278</td>\n",
              "      <td>13278</td>\n",
              "      <td>13278</td>\n",
              "      <td>13226</td>\n",
              "    </tr>\n",
              "    <tr>\n",
              "      <th>unique</th>\n",
              "      <td>9659</td>\n",
              "      <td>31</td>\n",
              "      <td>12</td>\n",
              "      <td>532</td>\n",
              "    </tr>\n",
              "    <tr>\n",
              "      <th>top</th>\n",
              "      <td>Need for Speed: Most Wanted</td>\n",
              "      <td>DS</td>\n",
              "      <td>Action</td>\n",
              "      <td>Electronic Arts</td>\n",
              "    </tr>\n",
              "    <tr>\n",
              "      <th>freq</th>\n",
              "      <td>9</td>\n",
              "      <td>1735</td>\n",
              "      <td>2620</td>\n",
              "      <td>1073</td>\n",
              "    </tr>\n",
              "  </tbody>\n",
              "</table>\n",
              "</div>\n",
              "      <button class=\"colab-df-convert\" onclick=\"convertToInteractive('df-7be110ce-06f2-4b9b-9e79-e44817900de2')\"\n",
              "              title=\"Convert this dataframe to an interactive table.\"\n",
              "              style=\"display:none;\">\n",
              "        \n",
              "  <svg xmlns=\"http://www.w3.org/2000/svg\" height=\"24px\"viewBox=\"0 0 24 24\"\n",
              "       width=\"24px\">\n",
              "    <path d=\"M0 0h24v24H0V0z\" fill=\"none\"/>\n",
              "    <path d=\"M18.56 5.44l.94 2.06.94-2.06 2.06-.94-2.06-.94-.94-2.06-.94 2.06-2.06.94zm-11 1L8.5 8.5l.94-2.06 2.06-.94-2.06-.94L8.5 2.5l-.94 2.06-2.06.94zm10 10l.94 2.06.94-2.06 2.06-.94-2.06-.94-.94-2.06-.94 2.06-2.06.94z\"/><path d=\"M17.41 7.96l-1.37-1.37c-.4-.4-.92-.59-1.43-.59-.52 0-1.04.2-1.43.59L10.3 9.45l-7.72 7.72c-.78.78-.78 2.05 0 2.83L4 21.41c.39.39.9.59 1.41.59.51 0 1.02-.2 1.41-.59l7.78-7.78 2.81-2.81c.8-.78.8-2.07 0-2.86zM5.41 20L4 18.59l7.72-7.72 1.47 1.35L5.41 20z\"/>\n",
              "  </svg>\n",
              "      </button>\n",
              "      \n",
              "  <style>\n",
              "    .colab-df-container {\n",
              "      display:flex;\n",
              "      flex-wrap:wrap;\n",
              "      gap: 12px;\n",
              "    }\n",
              "\n",
              "    .colab-df-convert {\n",
              "      background-color: #E8F0FE;\n",
              "      border: none;\n",
              "      border-radius: 50%;\n",
              "      cursor: pointer;\n",
              "      display: none;\n",
              "      fill: #1967D2;\n",
              "      height: 32px;\n",
              "      padding: 0 0 0 0;\n",
              "      width: 32px;\n",
              "    }\n",
              "\n",
              "    .colab-df-convert:hover {\n",
              "      background-color: #E2EBFA;\n",
              "      box-shadow: 0px 1px 2px rgba(60, 64, 67, 0.3), 0px 1px 3px 1px rgba(60, 64, 67, 0.15);\n",
              "      fill: #174EA6;\n",
              "    }\n",
              "\n",
              "    [theme=dark] .colab-df-convert {\n",
              "      background-color: #3B4455;\n",
              "      fill: #D2E3FC;\n",
              "    }\n",
              "\n",
              "    [theme=dark] .colab-df-convert:hover {\n",
              "      background-color: #434B5C;\n",
              "      box-shadow: 0px 1px 3px 1px rgba(0, 0, 0, 0.15);\n",
              "      filter: drop-shadow(0px 1px 2px rgba(0, 0, 0, 0.3));\n",
              "      fill: #FFFFFF;\n",
              "    }\n",
              "  </style>\n",
              "\n",
              "      <script>\n",
              "        const buttonEl =\n",
              "          document.querySelector('#df-7be110ce-06f2-4b9b-9e79-e44817900de2 button.colab-df-convert');\n",
              "        buttonEl.style.display =\n",
              "          google.colab.kernel.accessAllowed ? 'block' : 'none';\n",
              "\n",
              "        async function convertToInteractive(key) {\n",
              "          const element = document.querySelector('#df-7be110ce-06f2-4b9b-9e79-e44817900de2');\n",
              "          const dataTable =\n",
              "            await google.colab.kernel.invokeFunction('convertToInteractive',\n",
              "                                                     [key], {});\n",
              "          if (!dataTable) return;\n",
              "\n",
              "          const docLinkHtml = 'Like what you see? Visit the ' +\n",
              "            '<a target=\"_blank\" href=https://colab.research.google.com/notebooks/data_table.ipynb>data table notebook</a>'\n",
              "            + ' to learn more about interactive tables.';\n",
              "          element.innerHTML = '';\n",
              "          dataTable['output_type'] = 'display_data';\n",
              "          await google.colab.output.renderOutput(dataTable, element);\n",
              "          const docLink = document.createElement('div');\n",
              "          docLink.innerHTML = docLinkHtml;\n",
              "          element.appendChild(docLink);\n",
              "        }\n",
              "      </script>\n",
              "    </div>\n",
              "  </div>\n",
              "  "
            ]
          },
          "metadata": {},
          "execution_count": 338
        }
      ]
    },
    {
      "cell_type": "markdown",
      "source": [
        "**Visualization**"
      ],
      "metadata": {
        "id": "bm1oIFmGBgFg"
      }
    },
    {
      "cell_type": "code",
      "source": [
        "#for visualisation \n",
        "import seaborn as sns\n",
        "import matplotlib.pyplot as plt"
      ],
      "metadata": {
        "id": "x9TZdllQUCdi"
      },
      "execution_count": null,
      "outputs": []
    },
    {
      "cell_type": "code",
      "source": [
        "#There is a correlation between global_sales and na,eu,jp, and other sales \n",
        "train_data.corr()"
      ],
      "metadata": {
        "colab": {
          "base_uri": "https://localhost:8080/",
          "height": 269
        },
        "id": "UubBuSnhycCi",
        "outputId": "85fde617-1542-4204-dc25-7debf08c9a4e"
      },
      "execution_count": null,
      "outputs": [
        {
          "output_type": "execute_result",
          "data": {
            "text/plain": [
              "                  Rank      Year  NA_Sales  EU_Sales  JP_Sales  Other_Sales  \\\n",
              "Rank          1.000000  0.183311 -0.383753 -0.368642 -0.264292    -0.320426   \n",
              "Year          0.183311  1.000000 -0.093340  0.003838 -0.167362     0.036446   \n",
              "NA_Sales     -0.383753 -0.093340  1.000000  0.765262  0.447386     0.624115   \n",
              "EU_Sales     -0.368642  0.003838  0.765262  1.000000  0.443383     0.705157   \n",
              "JP_Sales     -0.264292 -0.167362  0.447386  0.443383  1.000000     0.293106   \n",
              "Other_Sales  -0.320426  0.036446  0.624115  0.705157  0.293106     1.000000   \n",
              "Global_Sales -0.413161 -0.076150  0.941241  0.902003  0.610297     0.738806   \n",
              "\n",
              "              Global_Sales  \n",
              "Rank             -0.413161  \n",
              "Year             -0.076150  \n",
              "NA_Sales          0.941241  \n",
              "EU_Sales          0.902003  \n",
              "JP_Sales          0.610297  \n",
              "Other_Sales       0.738806  \n",
              "Global_Sales      1.000000  "
            ],
            "text/html": [
              "\n",
              "  <div id=\"df-b23d0dd3-00f9-4412-bb4d-f62f9267525a\">\n",
              "    <div class=\"colab-df-container\">\n",
              "      <div>\n",
              "<style scoped>\n",
              "    .dataframe tbody tr th:only-of-type {\n",
              "        vertical-align: middle;\n",
              "    }\n",
              "\n",
              "    .dataframe tbody tr th {\n",
              "        vertical-align: top;\n",
              "    }\n",
              "\n",
              "    .dataframe thead th {\n",
              "        text-align: right;\n",
              "    }\n",
              "</style>\n",
              "<table border=\"1\" class=\"dataframe\">\n",
              "  <thead>\n",
              "    <tr style=\"text-align: right;\">\n",
              "      <th></th>\n",
              "      <th>Rank</th>\n",
              "      <th>Year</th>\n",
              "      <th>NA_Sales</th>\n",
              "      <th>EU_Sales</th>\n",
              "      <th>JP_Sales</th>\n",
              "      <th>Other_Sales</th>\n",
              "      <th>Global_Sales</th>\n",
              "    </tr>\n",
              "  </thead>\n",
              "  <tbody>\n",
              "    <tr>\n",
              "      <th>Rank</th>\n",
              "      <td>1.000000</td>\n",
              "      <td>0.183311</td>\n",
              "      <td>-0.383753</td>\n",
              "      <td>-0.368642</td>\n",
              "      <td>-0.264292</td>\n",
              "      <td>-0.320426</td>\n",
              "      <td>-0.413161</td>\n",
              "    </tr>\n",
              "    <tr>\n",
              "      <th>Year</th>\n",
              "      <td>0.183311</td>\n",
              "      <td>1.000000</td>\n",
              "      <td>-0.093340</td>\n",
              "      <td>0.003838</td>\n",
              "      <td>-0.167362</td>\n",
              "      <td>0.036446</td>\n",
              "      <td>-0.076150</td>\n",
              "    </tr>\n",
              "    <tr>\n",
              "      <th>NA_Sales</th>\n",
              "      <td>-0.383753</td>\n",
              "      <td>-0.093340</td>\n",
              "      <td>1.000000</td>\n",
              "      <td>0.765262</td>\n",
              "      <td>0.447386</td>\n",
              "      <td>0.624115</td>\n",
              "      <td>0.941241</td>\n",
              "    </tr>\n",
              "    <tr>\n",
              "      <th>EU_Sales</th>\n",
              "      <td>-0.368642</td>\n",
              "      <td>0.003838</td>\n",
              "      <td>0.765262</td>\n",
              "      <td>1.000000</td>\n",
              "      <td>0.443383</td>\n",
              "      <td>0.705157</td>\n",
              "      <td>0.902003</td>\n",
              "    </tr>\n",
              "    <tr>\n",
              "      <th>JP_Sales</th>\n",
              "      <td>-0.264292</td>\n",
              "      <td>-0.167362</td>\n",
              "      <td>0.447386</td>\n",
              "      <td>0.443383</td>\n",
              "      <td>1.000000</td>\n",
              "      <td>0.293106</td>\n",
              "      <td>0.610297</td>\n",
              "    </tr>\n",
              "    <tr>\n",
              "      <th>Other_Sales</th>\n",
              "      <td>-0.320426</td>\n",
              "      <td>0.036446</td>\n",
              "      <td>0.624115</td>\n",
              "      <td>0.705157</td>\n",
              "      <td>0.293106</td>\n",
              "      <td>1.000000</td>\n",
              "      <td>0.738806</td>\n",
              "    </tr>\n",
              "    <tr>\n",
              "      <th>Global_Sales</th>\n",
              "      <td>-0.413161</td>\n",
              "      <td>-0.076150</td>\n",
              "      <td>0.941241</td>\n",
              "      <td>0.902003</td>\n",
              "      <td>0.610297</td>\n",
              "      <td>0.738806</td>\n",
              "      <td>1.000000</td>\n",
              "    </tr>\n",
              "  </tbody>\n",
              "</table>\n",
              "</div>\n",
              "      <button class=\"colab-df-convert\" onclick=\"convertToInteractive('df-b23d0dd3-00f9-4412-bb4d-f62f9267525a')\"\n",
              "              title=\"Convert this dataframe to an interactive table.\"\n",
              "              style=\"display:none;\">\n",
              "        \n",
              "  <svg xmlns=\"http://www.w3.org/2000/svg\" height=\"24px\"viewBox=\"0 0 24 24\"\n",
              "       width=\"24px\">\n",
              "    <path d=\"M0 0h24v24H0V0z\" fill=\"none\"/>\n",
              "    <path d=\"M18.56 5.44l.94 2.06.94-2.06 2.06-.94-2.06-.94-.94-2.06-.94 2.06-2.06.94zm-11 1L8.5 8.5l.94-2.06 2.06-.94-2.06-.94L8.5 2.5l-.94 2.06-2.06.94zm10 10l.94 2.06.94-2.06 2.06-.94-2.06-.94-.94-2.06-.94 2.06-2.06.94z\"/><path d=\"M17.41 7.96l-1.37-1.37c-.4-.4-.92-.59-1.43-.59-.52 0-1.04.2-1.43.59L10.3 9.45l-7.72 7.72c-.78.78-.78 2.05 0 2.83L4 21.41c.39.39.9.59 1.41.59.51 0 1.02-.2 1.41-.59l7.78-7.78 2.81-2.81c.8-.78.8-2.07 0-2.86zM5.41 20L4 18.59l7.72-7.72 1.47 1.35L5.41 20z\"/>\n",
              "  </svg>\n",
              "      </button>\n",
              "      \n",
              "  <style>\n",
              "    .colab-df-container {\n",
              "      display:flex;\n",
              "      flex-wrap:wrap;\n",
              "      gap: 12px;\n",
              "    }\n",
              "\n",
              "    .colab-df-convert {\n",
              "      background-color: #E8F0FE;\n",
              "      border: none;\n",
              "      border-radius: 50%;\n",
              "      cursor: pointer;\n",
              "      display: none;\n",
              "      fill: #1967D2;\n",
              "      height: 32px;\n",
              "      padding: 0 0 0 0;\n",
              "      width: 32px;\n",
              "    }\n",
              "\n",
              "    .colab-df-convert:hover {\n",
              "      background-color: #E2EBFA;\n",
              "      box-shadow: 0px 1px 2px rgba(60, 64, 67, 0.3), 0px 1px 3px 1px rgba(60, 64, 67, 0.15);\n",
              "      fill: #174EA6;\n",
              "    }\n",
              "\n",
              "    [theme=dark] .colab-df-convert {\n",
              "      background-color: #3B4455;\n",
              "      fill: #D2E3FC;\n",
              "    }\n",
              "\n",
              "    [theme=dark] .colab-df-convert:hover {\n",
              "      background-color: #434B5C;\n",
              "      box-shadow: 0px 1px 3px 1px rgba(0, 0, 0, 0.15);\n",
              "      filter: drop-shadow(0px 1px 2px rgba(0, 0, 0, 0.3));\n",
              "      fill: #FFFFFF;\n",
              "    }\n",
              "  </style>\n",
              "\n",
              "      <script>\n",
              "        const buttonEl =\n",
              "          document.querySelector('#df-b23d0dd3-00f9-4412-bb4d-f62f9267525a button.colab-df-convert');\n",
              "        buttonEl.style.display =\n",
              "          google.colab.kernel.accessAllowed ? 'block' : 'none';\n",
              "\n",
              "        async function convertToInteractive(key) {\n",
              "          const element = document.querySelector('#df-b23d0dd3-00f9-4412-bb4d-f62f9267525a');\n",
              "          const dataTable =\n",
              "            await google.colab.kernel.invokeFunction('convertToInteractive',\n",
              "                                                     [key], {});\n",
              "          if (!dataTable) return;\n",
              "\n",
              "          const docLinkHtml = 'Like what you see? Visit the ' +\n",
              "            '<a target=\"_blank\" href=https://colab.research.google.com/notebooks/data_table.ipynb>data table notebook</a>'\n",
              "            + ' to learn more about interactive tables.';\n",
              "          element.innerHTML = '';\n",
              "          dataTable['output_type'] = 'display_data';\n",
              "          await google.colab.output.renderOutput(dataTable, element);\n",
              "          const docLink = document.createElement('div');\n",
              "          docLink.innerHTML = docLinkHtml;\n",
              "          element.appendChild(docLink);\n",
              "        }\n",
              "      </script>\n",
              "    </div>\n",
              "  </div>\n",
              "  "
            ]
          },
          "metadata": {},
          "execution_count": 340
        }
      ]
    },
    {
      "cell_type": "code",
      "source": [
        "#to see the correlation \n",
        "sns.heatmap(train_data.corr(),annot=True)"
      ],
      "metadata": {
        "colab": {
          "base_uri": "https://localhost:8080/",
          "height": 340
        },
        "id": "9JKu-UJjyxSn",
        "outputId": "2d4e1bb9-da14-4455-817e-b95605dde2c7"
      },
      "execution_count": null,
      "outputs": [
        {
          "output_type": "execute_result",
          "data": {
            "text/plain": [
              "<AxesSubplot:>"
            ]
          },
          "metadata": {},
          "execution_count": 341
        },
        {
          "output_type": "display_data",
          "data": {
            "text/plain": [
              "<Figure size 432x288 with 2 Axes>"
            ],
            "image/png": "[encoded data removed]"
          },
          "metadata": {
            "needs_background": "light"
          }
        }
      ]
    },
    {
      "cell_type": "code",
      "source": [
        "plt.subplots(figsize = (15,8))\n",
        "sns.countplot(train_data.Platform)"
      ],
      "metadata": {
        "colab": {
          "base_uri": "https://localhost:8080/",
          "height": 604
        },
        "id": "jRsPH060usV9",
        "outputId": "14428a44-a0bb-4838-ebc0-c8ee699622b0"
      },
      "execution_count": null,
      "outputs": [
        {
          "output_type": "stream",
          "name": "stderr",
          "text": [
            "/usr/local/lib/python3.8/dist-packages/seaborn/_decorators.py:36: FutureWarning:\n",
            "\n",
            "Pass the following variable as a keyword arg: x. From version 0.12, the only valid positional argument will be `data`, and passing other arguments without an explicit keyword will result in an error or misinterpretation.\n",
            "\n"
          ]
        },
        {
          "output_type": "execute_result",
          "data": {
            "text/plain": [
              "<AxesSubplot:xlabel='Platform', ylabel='count'>"
            ]
          },
          "metadata": {},
          "execution_count": 342
        },
        {
          "output_type": "display_data",
          "data": {
            "text/plain": [
              "<Figure size 1080x576 with 1 Axes>"
            ],
            "image/png": "[encoded data removed]"
          },
          "metadata": {
            "needs_background": "light"
          }
        }
      ]
    },
    {
      "cell_type": "code",
      "source": [
        "#select 'Platform' column, drops any rows with missing values and converts the remaining values to a list\n",
        "#counter--> counts the frequency of each unique platforms\n",
        "#most common (top 10)\n",
        "from collections import Counter\n",
        "platform = Counter(train_data['Platform'].dropna().tolist()).most_common(10)\n",
        "#name[0] extracts the first element in the list\n",
        "platform_name = [name[0]for name in platform]\n",
        "platform_count = [name[1] for name in platform]\n",
        "plt.subplots (figsize = (15,8))\n",
        "sns.barplot(x= platform_name, y=platform_count)"
      ],
      "metadata": {
        "colab": {
          "base_uri": "https://localhost:8080/",
          "height": 500
        },
        "id": "SLUj7Fvmv2X9",
        "outputId": "a4d99414-a8de-4b0b-b1e8-979408ac1110"
      },
      "execution_count": null,
      "outputs": [
        {
          "output_type": "execute_result",
          "data": {
            "text/plain": [
              "<AxesSubplot:>"
            ]
          },
          "metadata": {},
          "execution_count": 343
        },
        {
          "output_type": "display_data",
          "data": {
            "text/plain": [
              "<Figure size 1080x576 with 1 Axes>"
            ],
            "image/png": "[encoded data removed]"
          },
          "metadata": {
            "needs_background": "light"
          }
        }
      ]
    },
    {
      "cell_type": "code",
      "source": [
        "plt.subplots (figsize = (20,10))\n",
        "sns.countplot(train_data.Genre)"
      ],
      "metadata": {
        "colab": {
          "base_uri": "https://localhost:8080/",
          "height": 713
        },
        "id": "oLfGBHgQvUaW",
        "outputId": "338a078d-a835-4b1c-bdda-75024eee2353"
      },
      "execution_count": null,
      "outputs": [
        {
          "output_type": "stream",
          "name": "stderr",
          "text": [
            "/usr/local/lib/python3.8/dist-packages/seaborn/_decorators.py:36: FutureWarning:\n",
            "\n",
            "Pass the following variable as a keyword arg: x. From version 0.12, the only valid positional argument will be `data`, and passing other arguments without an explicit keyword will result in an error or misinterpretation.\n",
            "\n"
          ]
        },
        {
          "output_type": "execute_result",
          "data": {
            "text/plain": [
              "<AxesSubplot:xlabel='Genre', ylabel='count'>"
            ]
          },
          "metadata": {},
          "execution_count": 344
        },
        {
          "output_type": "display_data",
          "data": {
            "text/plain": [
              "<Figure size 1440x720 with 1 Axes>"
            ],
            "image/png": "[encoded data removed]"
          },
          "metadata": {
            "needs_background": "light"
          }
        }
      ]
    },
    {
      "cell_type": "code",
      "source": [
        "genre = Counter(train_data['Genre'].dropna().tolist()).most_common(10)\n",
        "genre_name = [name[0]for name in genre]\n",
        "genre_count = [name[1] for name in genre]\n",
        "plt.subplots (figsize = (15,8))\n",
        "sns.barplot(x= genre_name, y=genre_count)"
      ],
      "metadata": {
        "colab": {
          "base_uri": "https://localhost:8080/",
          "height": 500
        },
        "id": "1ya8Y4-h1Jwo",
        "outputId": "47c7a7f3-b02e-4e63-c44a-e4123ce775cc"
      },
      "execution_count": null,
      "outputs": [
        {
          "output_type": "execute_result",
          "data": {
            "text/plain": [
              "<AxesSubplot:>"
            ]
          },
          "metadata": {},
          "execution_count": 345
        },
        {
          "output_type": "display_data",
          "data": {
            "text/plain": [
              "<Figure size 1080x576 with 1 Axes>"
            ],
            "image/png": "[encoded data removed]"
          },
          "metadata": {
            "needs_background": "light"
          }
        }
      ]
    },
    {
      "cell_type": "code",
      "source": [
        "plt.subplots (figsize = (15,10))\n",
        "sns.countplot(train_data.Publisher)"
      ],
      "metadata": {
        "colab": {
          "base_uri": "https://localhost:8080/",
          "height": 713
        },
        "id": "VdjRntSwwitK",
        "outputId": "574a5d9c-d0c1-4dfc-ada6-92a31f84b751"
      },
      "execution_count": null,
      "outputs": [
        {
          "output_type": "stream",
          "name": "stderr",
          "text": [
            "/usr/local/lib/python3.8/dist-packages/seaborn/_decorators.py:36: FutureWarning:\n",
            "\n",
            "Pass the following variable as a keyword arg: x. From version 0.12, the only valid positional argument will be `data`, and passing other arguments without an explicit keyword will result in an error or misinterpretation.\n",
            "\n"
          ]
        },
        {
          "output_type": "execute_result",
          "data": {
            "text/plain": [
              "<AxesSubplot:xlabel='Publisher', ylabel='count'>"
            ]
          },
          "metadata": {},
          "execution_count": 346
        },
        {
          "output_type": "display_data",
          "data": {
            "text/plain": [
              "<Figure size 1080x720 with 1 Axes>"
            ],
            "image/png": "[encoded data removed]"
          },
          "metadata": {
            "needs_background": "light"
          }
        }
      ]
    },
    {
      "cell_type": "code",
      "source": [
        "publisher = Counter(train_data['Publisher'].dropna().tolist()).most_common(10)\n",
        "publisher_name = [name[0]for name in publisher]\n",
        "publisher_count = [name[1] for name in publisher]\n",
        "plt.subplots (figsize = (15,8))\n",
        "sns.barplot(x= publisher_name, y=publisher_count)"
      ],
      "metadata": {
        "colab": {
          "base_uri": "https://localhost:8080/",
          "height": 500
        },
        "id": "Prr6U3Kb1cYe",
        "outputId": "6ac7e7d8-1eec-4244-9317-fb0666947db2"
      },
      "execution_count": null,
      "outputs": [
        {
          "output_type": "execute_result",
          "data": {
            "text/plain": [
              "<AxesSubplot:>"
            ]
          },
          "metadata": {},
          "execution_count": 347
        },
        {
          "output_type": "display_data",
          "data": {
            "text/plain": [
              "<Figure size 1080x576 with 1 Axes>"
            ],
            "image/png": "[encoded data removed]"
          },
          "metadata": {
            "needs_background": "light"
          }
        }
      ]
    },
    {
      "cell_type": "markdown",
      "source": [
        "**Outliers**"
      ],
      "metadata": {
        "id": "v3FrBEcME-Ib"
      }
    },
    {
      "cell_type": "code",
      "source": [
        "#to find any outliers using scatterplot\n",
        "import plotly.express as px\n",
        "fig = px.scatter(train_data, x=['NA_Sales','EU_Sales', 'JP_Sales', 'Other_Sales'],y='Global_Sales')\n",
        "fig.show()"
      ],
      "metadata": {
        "colab": {
          "base_uri": "https://localhost:8080/",
          "height": 542
        },
        "id": "nnnSKTZYvxyk",
        "outputId": "2312b8ae-059d-4b3a-8f0d-1d29938f8cbf"
      },
      "execution_count": null,
      "outputs": [
        {
          "output_type": "display_data",
          "data": {
            "text/html": [
              "<html>\n",
              "<head><meta charset=\"utf-8\" /></head>\n",
              "<body>\n",
              "    <div>            <script src=\"https://cdnjs.cloudflare.com/ajax/libs/mathjax/2.7.5/MathJax.js?config=TeX-AMS-MML_SVG\"></script><script type=\"text/javascript\">if (window.MathJax) {MathJax.Hub.Config({SVG: {font: \"STIX-Web\"}});}</script>                <script type=\"text/javascript\">window.PlotlyConfig = {MathJaxConfig: 'local'};</script>\n",
              "        <script src=\"https://cdn.plot.ly/plotly-2.8.3.min.js\"></script>                <div id=\"866686e2-7790-4036-976f-e29108f0a86c\" class=\"plotly-graph-div\" style=\"height:525px; width:100%;\"></div>            <script type=\"text/javascript\">                                    window.PLOTLYENV=window.PLOTLYENV || {};                                    if (document.getElementById(\"866686e2-7790-4036-976f-e29108f0a86c\")) {                    Plotly.newPlot(                        \"866686e2-7790-4036-976f-e29108f0a86c\",                        [{\"hovertemplate\":\"variable=NA_Sales<br>value=%{x}<br>Global_Sales=%{y}<extra></extra>\",\"legendgroup\":\"NA_Sales\",\"marker\":{\"color\":\"#636efa\",\"symbol\":\"circle\"},\"mode\":\"markers\",\"name\":\"NA_Sales\",\"showlegend\":true,\"x\":[0.0,0.0,0.0,0.1,1.05,0.06,0.02,0.05,0.29,0.22,0.21,0.34,1.29,0.0,0.14,0.15,0.21,0.08,0.0,0.13,0.0,0.09,0.06,0.0,0.37,0.23,0.0,1.3,0.08,0.17,0.01,0.06,0.02,0.63,0.15,0.01,0.15,0.13,0.28,0.07,0.07,0.01,0.02,0.1,0.04,0.44,0.63,0.19,0.26,0.07,0.1,0.01,0.56,0.0,0.0,2.49,0.11,0.08,0.03,0.0,0.04,0.15,0.06,0.05,0.21,0.0,0.0,0.02,0.03,0.07,0.05,0.0,0.26,0.26,0.22,0.0,0.0,0.15,0.22,0.0,0.1,0.07,0.0,0.11,0.0,0.0,0.05,0.21,1.65,0.04,0.0,0.09,0.0,0.0,0.0,0.53,0.0,1.48,0.0,0.73,0.0,0.0,0.0,0.14,0.0,0.02,0.01,0.0,0.0,0.0,0.02,0.1,0.09,1.15,0.01,0.55,0.22,0.02,0.12,0.38,0.7,2.22,0.48,0.01,0.25,0.34,0.13,0.03,0.0,0.0,0.35,0.08,1.11,0.0,0.15,0.35,0.0,0.76,0.0,0.2,0.14,0.0,0.01,0.52,0.43,0.0,0.0,0.0,2.53,0.0,0.0,0.04,0.05,0.1,0.03,0.01,0.01,0.33,0.0,0.17,0.31,0.0,0.01,0.08,0.03,0.05,0.14,0.06,0.0,0.0,0.0,0.03,0.12,0.03,0.0,0.1,0.02,0.02,1.16,0.0,0.14,0.03,0.0,1.76,0.21,0.62,0.23,0.15,0.0,0.0,0.03,0.09,0.0,0.0,0.04,0.14,1.55,0.01,0.0,0.0,0.0,1.76,0.28,0.73,0.23,0.02,0.13,0.71,0.14,0.06,0.0,0.92,1.13,0.35,0.02,0.09,0.14,0.0,0.11,0.0,0.17,0.41,0.09,0.27,0.19,0.12,0.0,1.44,0.22,0.0,0.0,0.1,0.0,0.02,0.13,0.1,0.07,0.08,0.0,0.11,0.34,0.96,0.24,0.99,0.0,0.0,0.09,0.95,0.16,2.71,0.0,0.0,0.0,0.03,0.94,1.68,0.92,0.12,0.07,0.0,0.25,0.17,0.04,0.0,0.21,0.32,0.01,0.18,0.0,0.0,0.19,0.0,0.39,0.0,0.0,0.31,0.0,0.0,0.17,1.53,0.16,0.24,0.04,0.0,0.07,0.89,0.07,0.0,0.16,0.07,0.0,0.07,0.0,0.02,0.05,0.0,0.0,0.15,0.01,0.22,0.3,0.25,0.26,0.06,0.67,0.14,0.08,0.1,0.36,0.0,0.14,0.16,0.0,1.81,0.42,0.2,0.17,0.13,0.0,0.0,0.0,0.12,0.45,0.35,0.01,0.18,0.14,0.52,0.07,0.0,0.05,0.4,0.35,0.36,0.19,0.0,0.62,0.0,0.22,0.09,0.0,0.0,0.7,0.43,0.94,0.22,0.12,0.1,0.37,0.09,0.12,0.31,0.15,0.2,0.14,0.06,0.0,0.17,0.0,1.35,0.13,0.19,0.37,0.08,0.17,0.35,0.08,0.04,0.0,0.0,0.99,0.05,0.0,0.18,0.08,0.0,1.06,0.14,0.09,0.14,0.0,0.85,0.19,0.17,0.06,0.05,0.08,0.84,0.17,0.14,0.17,0.05,0.06,0.0,0.0,0.19,0.16,0.45,0.18,0.06,0.03,1.42,0.27,2.14,0.0,0.1,0.43,0.0,0.0,0.0,0.0,1.96,0.0,0.1,0.57,0.15,0.19,0.12,0.0,0.0,0.0,0.16,0.24,0.05,0.29,1.13,0.11,0.0,0.0,0.12,0.0,0.3,0.03,0.0,0.0,0.19,0.12,0.47,0.02,0.02,29.08,0.04,0.24,0.01,0.01,0.0,0.39,0.0,0.0,0.06,0.12,0.49,0.17,0.0,0.55,0.0,0.0,0.0,1.49,0.0,0.07,0.02,0.09,0.29,0.12,0.04,0.22,0.06,0.0,0.06,0.59,0.0,0.01,0.16,0.18,0.03,0.34,0.1,0.36,0.11,0.0,0.04,0.0,0.16,0.05,0.05,0.49,0.0,1.13,0.23,0.01,0.0,0.0,1.01,0.29,0.82,0.0,0.12,0.0,0.0,0.0,0.0,0.19,0.13,0.03,0.0,0.0,0.01,0.05,0.0,0.95,0.0,0.58,0.0,0.0,0.19,0.0,0.2,0.03,0.12,0.0,0.0,0.48,0.0,4.98,0.0,0.03,0.11,0.08,0.0,0.11,1.75,0.01,0.2,0.69,0.28,0.21,0.02,0.2,0.9,0.0,0.11,0.88,6.82,0.14,0.0,0.07,0.23,0.17,0.01,0.07,0.0,0.13,0.0,0.04,0.23,0.1,0.0,0.17,0.0,0.44,0.0,0.02,0.47,0.14,0.25,0.0,0.0,0.26,0.0,0.29,0.19,0.14,0.02,0.05,0.0,0.0,3.79,0.05,0.54,0.0,0.08,0.13,0.12,0.76,0.0,0.0,0.0,0.19,0.0,0.0,0.21,0.91,0.18,0.08,0.1,0.13,0.0,0.0,0.0,0.0,0.03,0.0,0.09,0.32,0.07,0.12,0.09,0.08,0.3,0.28,0.08,0.0,0.14,0.74,0.02,0.28,0.1,0.0,0.0,0.33,0.0,0.51,0.37,0.07,0.43,0.12,0.12,0.95,0.0,1.06,0.0,0.21,1.98,0.07,0.0,0.64,0.02,0.54,0.0,0.03,0.0,0.35,2.6,0.06,0.18,0.1,0.06,0.0,0.18,0.0,0.0,0.03,0.05,0.0,0.0,0.03,0.32,0.05,0.08,0.72,2.32,0.14,0.0,0.55,0.47,0.0,0.16,0.0,0.07,0.03,0.26,0.91,0.1,2.41,0.0,0.31,0.31,0.04,0.0,2.66,0.0,0.83,0.0,0.0,0.15,1.07,0.11,0.24,0.66,0.04,0.36,0.17,1.11,0.0,0.0,1.22,0.03,0.0,0.11,0.15,0.01,0.16,1.78,0.0,0.09,0.12,1.28,0.02,0.0,0.0,0.0,0.0,0.91,0.51,0.04,0.13,0.02,0.58,0.04,0.02,0.0,0.06,1.1,0.92,0.25,0.04,0.73,0.33,0.0,1.0,0.32,0.08,0.01,0.21,0.03,0.02,0.03,0.0,0.0,0.1,0.32,0.47,0.07,1.09,0.0,0.0,0.0,0.05,1.0,0.06,0.0,0.0,0.13,0.13,0.09,0.0,3.78,0.28,0.11,0.0,0.04,0.0,0.14,0.12,0.06,0.0,0.15,0.02,0.11,0.01,0.07,0.4,0.0,0.0,0.38,0.06,0.07,0.1,0.0,0.0,0.08,0.05,0.0,0.02,0.3,0.0,0.24,0.12,0.18,0.03,0.02,0.0,1.22,0.38,0.0,0.1,0.19,1.19,0.08,0.0,0.0,0.35,0.05,0.1,0.39,0.26,0.08,0.24,0.59,0.59,0.07,0.0,0.08,0.0,0.15,0.14,0.0,0.21,0.0,0.04,0.18,0.0,0.24,0.06,0.02,0.0,0.35,0.11,0.0,0.0,0.09,0.0,0.34,0.0,0.12,0.0,0.05,0.68,0.0,0.0,0.03,1.12,0.0,0.31,0.0,0.24,0.12,0.0,0.23,0.0,0.03,0.76,0.0,0.08,0.0,0.11,0.15,8.52,0.24,0.0,0.09,0.26,0.0,0.01,0.06,0.02,0.4,0.08,0.1,0.0,0.0,0.0,0.0,0.0,0.17,0.07,0.02,0.64,0.01,0.06,0.0,0.2,0.26,0.0,0.14,0.0,0.0,0.1,0.43,0.03,1.52,0.14,0.75,0.13,0.17,0.05,1.15,0.27,0.29,0.05,0.02,0.12,0.16,2.93,0.0,0.09,0.09,0.07,0.0,0.08,0.09,0.05,0.45,0.42,0.0,0.77,0.19,0.38,0.0,0.03,0.0,0.24,0.05,0.59,3.66,0.06,0.0,0.07,0.0,0.15,0.0,0.15,0.04,0.01,0.04,0.0,0.07,0.0,0.09,0.05,0.33,0.06,0.03,0.23,0.0,0.03,0.01,0.74,0.19,0.15,0.37,0.0,0.17,0.12,0.0,0.38,0.02,0.0,0.0,0.02,0.0,0.0,0.0,0.0,0.05,0.02,0.0,0.12,0.05,0.85,0.0,0.02,0.04,0.24,0.1,0.0,0.0,0.0,0.09,0.78,2.18,0.0,0.0,0.08,0.32,0.08,0.46,0.11,0.0,0.09,0.0,0.09,0.0,0.05,0.29,0.07,0.05,0.0,0.09,0.0,0.0,0.17,0.53,0.72,0.0,0.0,0.58,0.71,0.0,0.2,0.35,0.07,0.3,0.0,0.0,0.11,0.13,0.0,0.0,0.51,0.01,0.06,0.15,0.0,0.0,0.42,0.16,0.0,0.06,0.0,0.1,0.21,0.12,0.05,0.0,0.54,0.0,0.0,0.3,0.15,0.09,0.0,0.13,0.09,0.08,0.0,0.06,0.48,0.88,0.0,0.0,0.01,0.0,0.0,0.0,0.19,0.0,0.0,0.17,0.04,0.0,0.0,0.0,0.72,1.06,0.0,0.0,0.43,0.0,0.08,0.05,0.88,0.22,0.13,0.36,2.74,0.11,0.0,0.04,0.0,0.16,0.17,0.06,0.15,0.04,1.08,0.06,0.0,0.24,0.0,0.0,0.07,0.32,0.01,0.6,0.39,0.0,0.0,0.13,0.11,0.15,0.07,0.12,1.42,0.8,0.16,0.08,3.21,0.0,0.08,0.04,0.03,0.25,0.09,0.01,0.0,0.0,0.0,0.0,0.18,0.35,0.12,0.0,1.3,1.43,0.51,0.07,0.5,0.09,0.2,0.0,0.1,0.01,0.61,0.4,0.19,0.11,0.47,0.15,1.15,0.92,0.0,0.0,0.45,0.1,0.18,0.28,0.39,0.12,0.24,0.05,0.23,0.2,0.05,0.01,0.0,0.32,0.0,0.59,0.01,0.02,0.17,0.04,0.09,0.21,0.27,0.0,0.0,0.0,0.19,0.01,0.03,0.0,0.37,0.03,0.13,0.0,0.22,0.02,0.15,0.1,0.43,0.18,0.37,0.05,0.44,0.0,0.35,0.43,0.08,0.09,0.25,1.38,0.08,0.45,0.45,0.0,0.0,0.1,0.03,0.29,0.0,0.04,0.11,0.46,0.0,0.02,0.26,0.0,0.29,0.03,0.0,0.0,0.01,0.0,0.09,2.52,0.05,0.04,0.0,2.53,0.16,0.02,0.0,0.0,0.34,0.04,0.0,0.0,0.0,0.0,0.01,0.12,0.0,0.04,0.0,0.19,0.0,0.75,0.12,0.0,0.12,0.01,0.16,0.05,0.67,0.09,0.19,4.23,0.24,1.06,0.0,0.19,0.46,0.03,0.12,0.02,0.2,0.23,0.11,0.29,0.16,0.29,0.09,0.07,1.68,0.0,0.0,0.17,0.03,1.54,0.09,0.34,0.13,0.02,0.19,0.17,0.03,0.19,0.01,0.21,0.81,0.07,0.09,0.01,0.0,0.31,0.03,0.04,0.14,0.0,2.23,0.0,0.0,0.05,0.22,0.06,0.28,0.47,0.02,0.04,0.07,0.0,0.0,0.0,0.0,0.05,0.08,0.0,0.0,0.11,0.07,0.03,0.24,2.57,0.5,0.06,0.0,0.23,0.04,0.09,0.08,0.09,0.05,0.0,0.0,0.0,0.24,0.17,4.0,0.05,0.01,0.0,0.03,0.12,0.82,0.1,0.09,0.31,0.2,0.0,0.0,0.02,0.02,0.1,0.08,0.0,0.28,0.31,0.12,0.04,0.0,0.18,0.01,0.59,0.04,0.19,0.06,0.82,0.19,0.01,1.26,0.07,0.0,0.0,0.23,0.41,0.0,0.2,0.0,2.1,0.13,0.08,0.02,0.17,0.06,0.12,0.17,0.1,0.0,0.35,0.28,0.04,0.0,0.07,0.06,0.01,0.0,0.25,0.0,0.28,0.0,0.13,0.47,0.05,0.02,0.41,0.0,0.15,0.1,0.08,0.0,0.08,0.03,0.48,0.47,0.01,0.0,0.53,0.92,0.07,0.12,0.27,0.05,0.26,0.12,0.17,0.2,0.0,0.0,0.05,0.26,0.0,0.02,2.71,0.06,0.25,0.18,0.06,0.22,0.0,0.1,0.09,0.07,0.13,0.0,0.0,0.13,0.0,0.1,0.31,0.0,0.0,0.0,1.78,0.0,0.0,0.0,0.0,0.03,0.24,1.22,0.0,0.11,0.16,0.0,0.12,0.05,2.89,0.0,0.0,0.13,0.09,0.0,0.0,0.14,0.44,0.0,0.01,0.0,0.0,0.1,0.01,1.17,0.35,0.25,0.0,1.05,0.0,0.03,0.03,0.1,0.0,0.08,0.11,0.15,0.0,0.13,0.08,0.0,0.01,0.0,0.04,0.0,0.22,0.0,0.22,0.27,0.1,0.31,0.09,0.25,0.0,0.15,0.02,0.0,0.26,0.2,0.12,0.02,3.51,0.55,0.42,0.01,0.01,0.04,0.0,0.0,0.14,0.16,0.01,0.0,0.69,0.03,0.0,0.19,0.0,0.15,1.04,0.58,0.0,0.18,0.06,0.08,0.12,0.0,0.13,0.0,0.19,0.12,0.47,0.0,0.02,0.21,0.06,0.0,0.08,0.15,0.04,0.09,2.28,0.33,0.16,0.0,0.02,0.13,0.32,0.22,0.12,0.59,0.05,0.0,0.32,0.3,0.04,0.08,0.0,0.07,0.69,1.18,0.06,0.61,1.25,0.06,0.0,0.0,0.15,0.01,1.54,0.03,0.36,0.13,0.0,0.05,0.01,0.0,0.04,0.27,0.11,0.33,0.0,0.36,0.22,0.0,0.28,0.26,0.13,0.08,0.0,0.1,0.34,0.0,0.56,0.31,0.02,0.1,0.01,0.0,0.64,0.36,0.05,0.08,0.0,0.83,0.21,0.2,0.06,0.5,0.01,0.11,0.06,0.58,0.31,0.46,0.0,0.11,0.01,0.02,0.13,0.73,0.09,0.15,0.0,0.12,0.04,0.01,0.31,0.19,0.0,0.0,0.05,0.02,0.53,0.16,1.78,0.0,0.36,0.14,0.3,0.28,0.49,0.15,0.18,0.28,0.24,0.0,0.36,0.09,0.0,0.07,0.07,0.0,0.08,0.39,0.03,0.0,0.4,0.14,0.79,0.0,0.01,0.0,0.15,0.15,0.07,0.22,0.0,0.15,0.0,0.1,0.15,0.37,0.94,0.43,15.85,0.0,0.35,0.66,0.52,0.21,0.93,0.0,0.13,0.15,0.73,0.17,0.06,0.18,0.09,0.07,0.03,0.0,0.31,0.0,0.0,0.05,0.0,0.03,0.1,0.13,0.0,0.0,0.02,0.02,0.04,0.0,0.1,0.0,0.1,0.01,0.38,0.0,0.0,0.0,0.0,1.11,0.04,0.0,0.48,0.45,0.14,0.18,0.16,0.1,3.01,0.93,0.0,0.18,0.12,0.08,0.05,0.0,0.0,0.21,0.39,0.06,0.0,0.0,0.01,0.11,0.07,0.0,0.0,0.15,15.75,0.0,0.0,0.05,0.0,0.04,0.17,1.01,0.13,0.0,0.24,0.41,0.0,0.03,0.3,0.25,0.95,0.0,0.01,0.1,0.0,0.0,0.85,0.01,0.02,0.36,0.1,5.98,0.33,0.02,0.0,0.06,0.02,0.17,0.71,0.46,0.0,0.31,0.03,0.0,0.0,0.06,0.22,0.09,0.07,0.0,0.25,0.06,4.89,0.0,0.0,0.12,0.08,0.0,0.05,0.0,0.1,0.0,0.29,0.19,0.06,0.17,0.06,0.14,0.12,0.15,0.2,0.12,0.0,0.0,0.14,0.76,0.0,0.0,0.11,0.19,0.07,0.0,0.91,0.02,0.0,0.11,0.31,0.04,0.0,0.04,0.07,0.0,0.35,0.1,0.08,0.15,0.04,0.11,0.11,0.0,0.0,0.0,0.04,0.28,0.0,0.0,0.46,0.05,1.02,0.03,0.58,0.06,0.3,0.0,0.02,0.0,0.09,0.06,0.32,1.51,0.13,0.0,0.03,0.13,0.05,0.0,0.87,0.05,0.0,0.0,0.0,0.16,0.21,0.0,0.51,0.07,0.35,0.0,0.0,0.08,0.0,0.0,0.11,0.64,0.29,0.38,0.08,0.54,0.0,0.0,0.05,3.13,0.03,0.0,0.57,0.0,0.26,0.29,0.0,0.35,0.02,0.04,0.01,0.25,0.03,0.11,0.0,0.16,0.25,0.15,0.08,0.24,0.07,0.13,0.35,0.05,0.11,0.0,1.32,0.0,0.03,0.0,0.77,0.24,0.19,0.17,0.6,0.02,0.0,0.17,0.0,0.05,0.0,0.08,0.5,0.0,0.06,0.52,0.24,0.0,0.06,0.11,0.39,0.37,0.0,0.06,0.34,0.17,0.0,0.0,7.97,0.05,0.42,0.0,0.09,0.73,0.01,0.0,0.47,0.62,0.09,0.28,0.0,0.02,0.02,0.45,0.9,0.36,0.19,1.38,0.02,0.13,0.04,0.2,0.08,0.0,0.01,0.01,0.0,0.01,0.2,0.05,0.03,0.13,1.79,0.01,0.0,0.12,0.06,0.06,0.29,0.49,0.0,0.08,0.0,1.02,0.0,0.33,0.08,0.25,1.87,0.0,0.22,0.0,2.23,1.77,0.0,0.0,0.27,0.17,0.54,0.0,0.0,0.0,0.55,0.0,0.01,0.8,1.5,0.14,0.0,0.79,0.03,0.03,0.0,0.0,0.0,0.0,0.09,0.05,1.1,0.11,1.55,0.0,1.67,0.0,0.0,0.07,0.0,0.0,0.05,0.25,0.0,0.01,0.12,0.0,0.04,0.0,0.18,0.06,0.29,0.0,0.42,0.0,1.0,0.09,0.0,0.06,0.0,0.0,0.02,0.0,0.26,0.13,8.25,0.36,0.01,0.1,0.29,0.01,0.0,0.09,0.16,1.54,0.01,0.2,0.01,0.23,0.0,0.0,0.13,0.28,0.04,0.13,0.1,0.0,0.18,0.0,0.22,0.32,0.0,0.0,0.1,0.35,1.63,0.07,0.0,0.46,0.15,0.0,0.12,0.12,0.15,0.81,0.06,0.04,0.19,0.07,0.14,0.21,0.25,0.0,0.03,0.06,0.04,0.15,0.14,0.39,0.09,0.0,0.29,0.39,0.1,0.0,0.1,0.1,0.0,0.05,0.03,0.1,0.68,0.16,1.41,0.08,0.0,0.04,0.0,0.0,0.27,0.06,0.6,1.1,0.06,0.03,0.05,0.67,0.0,0.0,0.39,0.15,0.0,0.12,2.08,0.0,0.16,0.0,0.07,0.05,0.04,0.16,1.25,0.14,0.28,0.05,0.0,2.17,0.15,0.0,0.07,0.07,0.0,0.97,0.0,0.0,0.0,0.14,0.56,0.04,0.14,0.06,0.06,0.03,0.07,0.08,1.48,0.0,0.07,0.82,0.32,0.0,0.06,0.0,0.04,0.82,0.0,0.13,0.13,0.54,0.32,0.15,0.18,0.01,0.0,0.0,0.14,0.05,0.0,0.08,0.12,0.68,0.87,0.0,0.16,0.63,0.0,0.0,0.17,0.51,0.04,2.03,0.26,0.39,0.03,0.03,0.06,0.04,0.08,0.0,0.49,0.04,0.26,0.06,0.17,0.13,0.17,1.26,0.0,0.05,0.65,0.08,0.01,0.0,0.6,0.0,0.12,0.06,0.15,1.41,0.02,0.03,0.0,0.01,0.01,0.0,0.09,0.39,0.41,0.21,0.11,0.0,0.88,0.0,0.34,0.02,0.04,0.66,0.05,0.04,0.03,0.37,0.39,0.0,0.14,0.13,0.0,0.03,0.03,0.2,0.08,1.13,0.12,0.01,0.15,0.0,0.0,0.06,0.13,0.0,1.66,0.75,0.13,0.2,0.02,0.11,0.0,0.13,0.08,0.0,0.0,0.0,0.0,0.0,1.45,0.0,0.61,0.72,0.08,0.25,0.0,0.11,0.18,0.0,0.0,0.11,0.0,0.0,0.0,0.12,0.19,0.11,0.08,0.0,0.12,0.04,0.18,0.45,0.1,0.15,0.09,0.14,0.01,0.17,0.05,0.05,0.04,0.48,0.73,0.0,0.0,0.76,0.13,0.0,0.15,0.1,0.0,0.14,0.01,1.29,0.04,0.76,0.0,0.2,0.05,0.01,0.0,0.04,0.07,0.03,0.16,0.03,0.0,0.1,0.22,0.14,0.0,0.12,0.06,0.12,0.05,0.0,0.32,0.14,0.0,0.08,0.53,0.07,0.0,0.27,0.08,0.0,0.0,0.08,0.18,0.01,0.22,0.07,0.02,0.0,0.1,0.1,0.0,0.03,0.18,0.08,0.12,0.97,0.31,0.1,0.31,0.46,0.23,0.1,0.0,0.0,0.46,0.0,0.04,0.22,2.29,0.08,0.02,0.01,0.23,0.0,0.0,0.0,0.11,0.0,0.0,0.46,0.0,0.06,0.35,1.57,0.07,0.07,0.06,0.36,0.1,0.0,0.34,0.13,0.0,0.03,0.07,0.17,0.0,0.27,0.63,0.06,0.12,0.05,0.18,0.03,0.23,0.19,0.06,0.12,0.11,0.07,0.0,0.02,0.1,0.04,0.15,0.13,2.6,0.02,0.0,0.04,0.1,0.33,0.09,0.08,0.1,1.94,0.23,0.41,1.19,0.0,0.0,0.0,0.06,0.2,0.39,0.09,0.26,0.05,0.37,0.01,0.0,0.15,0.12,0.0,0.41,1.29,0.39,0.0,0.07,0.14,0.0,0.0,0.6,0.46,1.58,0.0,0.0,0.0,0.22,0.0,0.0,0.0,0.0,0.26,0.27,0.25,0.06,0.73,0.04,0.88,0.17,0.0,0.0,0.73,0.0,0.21,0.18,0.15,0.4,0.0,0.01,0.1,0.41,0.0,0.44,0.17,0.01,0.11,0.08,0.0,0.26,1.68,0.23,0.22,0.14,0.0,0.0,0.25,0.85,0.15,0.26,0.0,0.0,0.4,0.0,0.09,0.68,0.0,0.08,0.0,1.02,0.03,0.04,0.38,0.21,0.7,1.96,0.23,0.0,0.23,0.56,0.32,0.0,0.03,0.0,0.0,1.19,0.0,0.02,0.03,0.0,0.4,0.03,0.0,0.0,0.0,0.18,0.13,0.78,0.0,0.0,0.0,6.05,1.06,0.17,0.0,0.0,0.07,0.0,0.0,0.49,1.98,0.0,0.05,0.0,0.01,0.07,0.09,0.0,0.06,0.07,0.07,0.02,0.59,0.0,0.47,0.11,0.02,0.12,0.0,0.13,0.05,0.11,0.0,0.01,0.0,0.12,0.07,0.11,0.0,0.0,0.12,0.4,0.0,0.18,0.0,0.01,0.0,0.0,0.11,0.32,0.0,0.0,0.0,0.05,0.37,0.06,0.0,0.11,0.26,0.0,0.1,0.0,0.03,0.0,2.06,1.2,0.14,0.28,0.0,0.06,0.0,0.03,0.0,0.21,0.51,0.04,0.05,0.0,1.11,0.85,0.71,1.4,0.0,0.0,0.0,0.0,0.1,0.05,0.04,0.06,0.24,0.07,1.0,0.0,0.21,0.0,0.1,0.0,0.08,0.0,0.37,0.43,0.3,0.0,0.06,0.0,0.09,0.02,0.28,0.0,0.03,0.07,1.84,0.16,0.31,0.14,0.11,0.13,0.0,0.11,0.0,0.22,0.07,0.18,0.01,0.08,2.43,0.74,0.22,0.07,0.0,0.47,0.03,0.07,0.42,1.17,0.0,0.13,0.52,0.13,0.1,1.94,0.0,0.56,0.04,0.0,0.0,0.88,0.04,0.51,0.02,0.01,0.2,0.0,0.02,0.0,0.0,0.0,0.04,0.12,0.06,0.06,0.86,0.11,0.0,0.01,0.0,0.06,0.08,0.42,0.36,0.11,0.25,0.04,0.11,0.16,0.04,0.65,0.0,2.79,0.0,0.18,0.15,0.16,0.0,0.1,0.06,0.03,0.06,0.45,0.05,0.39,0.03,1.88,0.0,0.02,0.0,0.67,0.0,0.05,0.02,0.0,0.24,0.04,0.18,0.89,0.09,0.0,0.03,0.33,0.12,0.06,0.65,0.37,0.13,2.79,0.33,0.0,0.1,0.1,0.06,0.0,0.24,0.14,0.0,0.54,0.09,0.52,0.0,0.12,0.12,0.08,0.01,0.0,0.41,0.13,0.49,0.1,0.56,0.48,0.0,0.36,1.73,0.02,0.48,0.04,6.72,0.67,0.05,0.07,2.07,0.07,0.0,0.0,0.0,0.84,0.0,0.09,0.46,0.38,0.17,0.02,0.0,0.32,0.02,1.19,0.02,0.08,0.33,0.6,0.0,0.36,0.0,0.63,0.0,3.06,0.0,0.43,0.02,0.8,0.08,0.15,0.0,0.36,0.45,0.2,0.03,0.05,0.24,0.0,0.0,0.02,0.0,0.03,0.0,0.0,0.0,0.19,0.0,5.8,0.03,0.57,0.08,0.64,0.2,0.13,14.59,0.14,0.14,0.05,0.07,0.13,0.03,0.12,0.04,0.0,0.0,0.09,0.0,0.0,0.56,0.05,0.0,0.25,0.37,0.04,0.0,1.33,0.12,0.26,0.0,0.0,0.0,0.0,0.0,0.73,0.0,0.18,0.0,0.0,0.02,0.07,0.03,0.05,0.0,0.06,0.07,0.06,0.64,0.11,0.0,0.0,0.0,1.17,0.04,0.05,0.0,0.13,0.05,0.01,0.07,0.02,0.1,0.2,1.0,0.18,0.38,0.16,0.31,0.38,0.0,0.06,0.0,0.08,0.11,0.13,0.0,0.06,0.0,0.66,0.0,0.0,0.34,0.0,0.14,0.3,0.81,0.47,0.0,0.17,0.27,0.33,0.0,0.26,0.02,0.0,0.1,0.12,0.1,0.1,0.0,0.12,0.0,0.06,0.25,1.0,0.39,0.25,0.33,0.0,0.99,0.41,0.0,0.0,0.36,0.3,0.11,0.85,0.0,2.1,0.0,1.26,2.66,0.05,0.08,0.58,0.8,0.0,0.01,0.01,0.02,0.06,0.0,0.0,2.38,0.01,0.21,0.0,0.07,0.18,0.07,0.72,0.04,0.0,0.17,0.0,0.34,0.09,0.33,0.11,0.0,0.06,0.0,0.12,0.08,0.13,0.02,0.22,0.73,0.0,0.0,0.0,0.0,1.35,0.07,0.05,0.34,0.0,0.2,0.1,0.06,0.13,0.0,1.27,0.37,1.98,0.1,0.25,0.0,0.03,0.01,0.35,0.51,0.08,0.0,0.21,0.0,0.04,0.01,0.03,0.0,0.0,0.05,0.0,0.02,0.07,0.13,0.07,0.16,0.0,0.22,0.19,0.02,0.14,0.06,0.21,0.17,2.11,0.0,0.0,0.0,0.25,0.41,0.08,0.38,0.04,0.0,0.0,0.0,0.05,0.14,0.4,0.12,0.11,0.11,0.12,0.21,0.12,0.0,0.0,0.57,0.14,0.18,0.0,0.0,0.02,0.0,0.11,0.0,0.05,0.17,0.05,0.0,0.13,0.0,0.0,0.0,0.0,0.27,0.06,1.2,0.0,0.07,0.0,0.36,0.06,0.08,0.0,0.0,0.27,2.21,0.12,0.06,0.01,0.25,0.0,0.13,0.2,0.05,0.2,0.11,0.95,0.0,2.96,0.21,0.42,0.01,0.66,0.25,0.28,0.0,0.44,0.05,0.12,0.0,0.13,0.0,0.72,0.28,0.3,0.02,0.71,0.1,0.03,0.1,0.1,0.13,0.09,0.07,0.04,0.43,0.0,0.14,0.1,0.13,0.05,0.44,0.12,0.02,1.53,0.18,0.11,0.0,0.09,0.09,0.49,0.86,0.01,0.1,0.22,0.0,0.24,0.0,0.03,0.0,0.0,0.63,0.21,0.24,0.0,0.14,0.69,0.0,0.51,0.06,0.0,0.0,0.14,0.03,0.09,0.11,0.04,0.05,0.02,0.0,1.13,0.15,0.0,0.0,0.06,0.68,0.12,0.11,0.07,0.03,0.0,0.0,0.65,0.0,1.87,0.1,0.0,0.09,0.16,0.19,0.04,0.14,0.02,0.04,0.0,0.0,0.06,0.74,0.13,0.0,0.0,0.0,0.06,0.0,0.0,0.28,0.44,0.0,0.0,0.11,0.03,0.05,0.0,0.16,0.0,0.13,0.09,0.09,0.0,1.82,1.58,4.21,0.13,0.52,0.4,0.18,0.17,0.05,0.02,0.0,0.1,0.5,1.3,0.27,0.6,0.21,0.39,0.0,0.0,0.0,0.04,0.13,0.0,0.06,0.0,0.02,0.21,0.47,0.01,0.19,0.06,0.0,0.26,0.03,0.04,0.15,0.26,0.0,0.0,0.14,1.06,0.0,0.08,0.11,23.2,0.06,0.0,0.06,0.47,0.04,0.02,0.21,0.0,0.1,0.48,0.1,0.14,0.0,0.16,0.0,0.1,0.02,0.09,0.02,0.29,0.0,0.07,0.16,0.0,0.0,0.51,0.0,0.95,0.15,0.12,0.0,0.0,0.0,0.19,0.11,0.0,0.07,1.19,0.0,0.02,0.5,0.87,1.31,0.48,0.0,0.1,0.35,0.0,0.05,0.0,2.63,0.28,0.11,0.12,1.18,0.0,0.1,0.12,0.77,0.01,0.1,0.41,0.11,0.05,0.65,0.02,0.18,0.0,0.09,0.08,0.01,0.9,0.0,0.29,0.0,0.0,0.0,0.1,0.04,0.32,0.37,0.38,0.07,0.0,0.11,0.01,0.01,0.05,0.0,0.04,0.34,0.28,0.0,0.05,0.41,0.01,0.0,0.0,0.07,0.18,0.0,0.11,0.33,0.03,0.18,0.07,0.0,0.18,0.69,0.0,0.02,0.04,0.15,0.0,0.52,0.03,0.0,0.02,0.0,0.49,0.12,0.25,0.02,0.52,0.43,0.16,0.05,0.35,0.02,0.11,0.0,0.0,0.09,1.19,0.0,0.0,0.0,0.58,0.73,0.0,0.15,0.19,0.0,0.02,0.05,1.68,0.0,0.33,0.16,0.0,0.01,0.23,0.0,0.13,0.09,0.25,1.25,0.07,0.07,0.0,0.04,0.0,0.05,0.0,0.1,0.05,2.66,0.23,1.81,0.04,0.0,0.16,0.18,0.02,0.0,0.16,0.02,0.14,0.0,0.07,0.49,0.0,0.0,0.25,0.04,0.51,0.0,0.33,0.18,0.0,0.12,0.0,0.02,0.08,0.04,3.92,0.0,0.26,0.06,2.47,0.05,0.14,1.26,0.0,0.12,0.18,0.0,0.06,1.67,0.08,0.0,0.14,0.7,0.2,0.41,0.4,0.48,0.71,0.0,2.08,0.14,0.0,0.03,0.28,0.0,0.0,0.08,0.0,0.02,0.08,0.19,0.05,0.0,0.09,0.0,0.06,0.0,0.29,0.0,0.34,0.59,0.13,0.06,0.0,0.0,0.0,0.04,0.6,0.0,0.12,0.14,0.33,0.0,0.0,0.25,0.34,0.9,0.0,0.13,0.23,0.06,5.17,0.04,0.0,0.04,2.3,0.43,0.05,0.0,0.06,0.0,0.05,0.0,0.3,0.07,0.14,0.26,0.0,0.29,0.49,0.03,0.0,0.86,0.81,2.09,0.0,0.42,0.0,0.0,0.04,0.55,0.08,0.16,0.08,0.0,0.09,0.28,2.0,0.12,0.09,0.0,0.01,0.08,0.0,0.0,1.73,0.41,0.28,0.24,0.2,0.65,0.56,0.0,0.05,0.21,0.01,0.02,0.01,0.06,0.0,0.17,0.0,0.0,0.24,0.03,0.65,0.05,0.0,0.0,2.54,0.0,0.0,0.0,1.52,0.3,0.12,0.1,0.1,1.05,0.9,0.04,0.22,0.33,0.4,0.24,0.0,0.05,0.51,0.44,0.0,0.42,0.1,0.01,0.0,0.03,0.0,0.14,0.0,0.11,0.0,0.13,0.0,0.0,0.0,0.0,0.0,0.11,0.3,0.0,0.1,0.14,0.03,0.07,0.07,0.19,0.01,0.02,0.0,0.11,0.0,0.0,0.38,0.06,0.08,0.1,0.21,0.14,0.0,0.01,0.0,0.31,0.54,0.62,0.0,0.3,0.0,0.41,0.0,0.0,0.06,0.13,0.46,0.22,0.01,0.25,0.04,0.72,0.04,0.26,0.07,0.02,0.0,0.0,0.0,0.0,0.05,0.06,0.02,0.09,0.0,0.87,0.11,0.0,0.0,0.0,0.32,0.19,0.0,0.92,0.78,0.51,0.06,0.0,0.03,0.46,0.28,0.01,0.16,0.03,0.0,0.07,0.0,0.79,0.09,0.08,0.22,0.77,0.3,0.08,0.0,0.15,0.59,0.07,0.0,0.09,0.0,0.3,0.1,0.77,0.09,0.03,0.03,0.0,0.1,0.02,0.48,0.09,0.06,0.13,0.0,0.02,0.06,0.0,0.23,1.56,0.22,0.02,0.41,1.7,0.54,0.0,0.06,0.45,0.46,0.02,0.52,0.09,0.49,0.12,0.06,0.02,0.42,0.0,0.89,0.01,0.0,0.61,0.0,2.3,0.42,0.05,0.0,0.0,0.0,0.1,0.74,0.05,9.0,0.0,0.03,0.19,0.3,0.04,0.0,0.11,0.0,0.0,0.43,0.3,0.06,0.6,0.53,0.0,0.23,0.03,0.18,0.0,0.0,0.0,0.27,0.16,0.01,0.05,0.0,0.02,0.25,0.13,0.0,0.03,0.0,0.05,0.0,0.11,0.19,0.06,0.01,0.0,0.33,0.0,0.02,0.15,0.03,0.2,0.09,0.24,1.59,0.0,0.88,0.0,0.01,0.8,0.0,0.4,1.05,0.02,0.1,0.59,0.08,0.39,0.0,0.0,0.17,0.0,0.35,0.42,2.8,0.64,0.0,0.07,0.0,1.48,0.0,0.95,0.43,0.67,0.06,0.04,0.15,0.09,0.95,0.0,0.1,0.02,1.3,0.05,0.18,0.77,0.11,0.08,0.0,0.35,0.29,0.53,0.0,0.0,0.38,0.13,0.03,0.01,0.08,2.15,0.0,0.08,0.0,0.24,0.08,0.0,0.0,0.21,0.0,0.36,0.0,0.08,0.01,1.84,0.0,0.08,0.0,0.0,0.0,0.0,0.51,0.08,0.0,0.0,0.07,0.19,0.0,0.14,0.1,0.18,0.01,0.16,0.41,0.03,0.06,0.0,4.99,0.12,1.12,0.22,0.29,0.06,0.05,1.07,0.1,0.01,0.27,0.0,0.06,0.0,0.49,0.13,0.0,0.4,0.11,0.0,1.75,0.13,0.08,0.07,0.19,0.09,0.25,0.19,0.21,0.24,0.74,0.39,0.14,0.01,0.32,3.1,0.0,0.19,0.0,0.09,0.02,0.14,0.08,0.0,0.02,0.0,0.01,2.18,0.33,0.51,0.43,0.09,0.01,0.39,0.76,1.45,0.24,0.11,1.23,0.0,0.15,0.12,0.11,0.0,0.0,0.22,0.05,0.07,0.0,0.09,0.0,0.02,0.38,0.02,0.0,0.0,0.02,0.13,1.05,0.07,0.0,0.01,0.0,0.13,0.55,0.11,0.0,0.25,0.08,0.01,0.17,0.13,0.14,0.06,0.0,0.77,0.0,0.07,0.0,0.0,0.19,0.36,0.06,0.0,0.28,0.57,0.01,0.11,0.07,0.18,0.01,0.0,0.03,0.38,0.03,0.16,0.06,0.0,0.0,0.0,0.08,0.09,0.02,0.0,0.01,0.24,0.0,0.16,0.24,0.04,1.3,1.06,0.62,0.53,0.08,0.0,0.09,0.12,0.04,0.0,0.0,0.35,0.03,0.12,0.11,1.2,0.06,1.67,0.16,0.03,0.0,0.07,0.12,0.31,0.1,0.0,0.03,0.44,0.18,0.46,3.0,0.37,0.0,0.56,1.09,0.0,1.57,0.04,0.0,0.17,0.06,0.13,0.0,0.23,0.0,0.05,0.11,0.03,0.05,0.72,0.01,0.27,0.14,0.43,0.07,0.0,0.02,0.13,0.45,0.01,0.0,0.02,0.03,1.02,0.21,0.15,0.01,0.75,0.0,0.0,0.02,0.02,0.0,0.02,0.0,0.0,0.0,1.93,0.99,0.27,0.04,0.06,0.09,0.05,0.07,0.0,0.03,0.0,0.1,0.32,0.0,1.22,0.08,0.08,0.0,0.32,0.0,0.02,0.49,0.29,0.0,0.08,0.04,0.28,0.03,0.17,1.03,0.78,0.56,0.0,0.12,0.19,0.05,0.04,0.0,0.13,0.59,0.0,0.0,0.17,0.35,0.86,0.0,0.07,0.0,0.16,0.0,0.09,0.26,0.09,0.38,0.14,0.03,0.2,0.03,0.01,0.82,0.37,0.07,0.82,0.22,0.1,0.15,0.0,0.05,0.53,0.22,0.4,0.24,0.48,0.1,0.25,0.0,0.03,0.0,0.38,0.05,0.68,0.34,0.48,0.4,0.71,0.28,0.08,1.97,0.43,0.23,0.27,1.61,0.04,0.0,1.26,0.0,0.05,0.0,0.04,0.05,0.28,0.0,0.0,0.1,0.04,0.2,0.05,0.46,0.0,0.0,0.05,0.1,0.05,0.09,0.09,0.06,0.23,0.12,0.24,0.09,0.35,6.16,0.06,1.22,0.05,0.08,0.79,0.0,0.36,0.25,0.29,0.37,0.32,0.05,0.57,0.13,0.0,0.0,0.0,0.0,0.0,0.01,0.09,0.1,0.0,0.0,0.0,0.44,0.0,1.07,0.09,0.0,1.44,0.15,0.0,0.67,0.17,1.54,0.16,0.29,0.02,0.52,2.77,0.19,0.26,0.0,0.42,0.0,0.13,0.05,1.65,0.0,0.22,0.0,0.14,0.11,0.01,0.0,0.94,0.0,1.04,0.01,0.25,0.0,0.56,0.0,0.25,0.4,0.02,0.0,0.02,0.0,0.0,0.0,0.17,0.06,0.07,0.01,0.0,0.45,0.07,0.33,0.03,0.18,0.0,0.12,0.58,0.08,0.04,0.61,0.0,0.03,0.0,0.06,0.0,0.0,0.32,0.16,0.13,0.22,0.24,0.0,0.03,0.17,0.11,0.0,0.0,0.0,0.0,0.36,0.11,0.0,1.72,0.12,0.18,0.99,0.29,1.66,0.01,2.58,0.0,0.14,0.55,0.0,1.55,1.12,0.0,0.33,1.53,0.03,0.0,0.0,0.02,0.0,0.0,0.01,0.1,0.14,0.02,0.2,1.27,0.6,0.73,0.0,0.0,0.0,0.02,0.0,0.68,0.45,0.09,0.0,0.96,0.03,0.0,0.0,0.2,0.09,0.06,0.0,0.0,1.76,0.14,0.02,0.05,0.05,0.09,0.1,0.89,0.0,0.03,0.02,0.0,0.0,0.05,0.08,0.08,0.0,0.51,0.07,0.1,0.16,0.04,0.78,0.87,0.47,0.02,0.3,0.04,0.02,0.0,0.93,0.0,0.0,2.72,0.38,0.0,0.0,0.14,0.11,0.2,0.92,0.2,0.93,0.25,0.42,0.05,0.0,0.13,0.39,0.07,0.95,0.09,0.0,0.04,0.0,0.0,0.1,0.0,0.1,0.0,0.0,1.25,0.27,0.01,0.02,0.22,0.32,0.07,0.25,0.05,0.11,0.1,0.0,0.19,0.06,0.1,0.0,0.24,0.04,0.56,0.17,0.02,0.07,0.4,0.0,0.63,0.25,0.38,0.6,0.19,0.01,0.0,0.0,0.04,0.58,0.03,0.0,0.65,0.09,0.88,0.0,0.01,0.0,0.14,0.04,0.05,0.21,0.0,0.0,1.43,0.07,0.13,0.68,0.28,0.02,0.13,0.86,1.89,0.35,0.31,0.0,0.4,0.0,0.0,0.11,0.08,0.06,0.01,0.0,0.24,0.02,0.34,0.04,0.0,0.07,0.67,0.1,0.0,0.09,0.1,0.12,0.12,0.0,0.0,0.04,0.06,0.35,0.03,0.46,0.16,0.04,0.0,0.51,0.34,0.1,0.07,0.1,0.0,0.0,0.21,0.02,0.02,0.28,0.28,0.1,0.0,0.08,0.0,0.0,0.1,0.05,0.87,1.61,0.0,0.05,0.03,1.25,0.0,0.04,0.2,0.34,0.0,0.17,0.22,0.22,0.0,0.91,0.02,0.13,0.01,0.24,0.9,0.14,0.08,0.04,0.23,0.19,0.07,0.0,0.34,0.25,0.02,0.0,0.59,0.46,0.58,0.0,9.43,0.44,0.1,0.26,0.0,0.0,0.19,0.0,0.66,0.13,0.0,0.39,0.12,0.23,0.15,0.06,0.54,0.2,0.0,0.23,0.54,0.06,0.0,0.89,0.05,0.84,1.85,0.17,0.09,0.35,0.05,0.82,0.65,0.16,0.63,0.0,0.21,0.0,0.0,0.07,0.0,0.07,0.0,0.0,0.02,1.16,0.0,0.01,0.05,0.91,0.36,0.24,0.0,0.18,0.02,0.08,0.01,0.0,0.0,0.11,0.08,0.0,0.64,0.0,0.09,2.47,0.1,0.3,0.12,1.31,0.04,0.0,0.0,0.0,0.0,0.0,0.0,0.68,0.09,0.41,0.14,0.0,0.17,0.0,0.0,0.23,1.11,0.0,0.16,0.17,0.03,0.36,0.14,0.04,0.0,0.12,0.08,0.0,0.01,0.0,0.0,4.14,0.01,0.05,0.28,0.0,0.01,0.62,0.0,0.0,0.93,0.0,0.01,0.44,0.23,0.0,0.16,0.35,0.0,0.15,0.16,0.0,0.14,0.07,0.03,0.0,0.0,0.12,0.0,0.06,0.08,0.06,0.39,0.22,0.25,0.04,0.0,0.07,0.0,0.0,0.05,0.0,0.0,0.99,0.05,0.29,0.56,0.16,0.52,0.0,1.4,0.36,0.12,0.0,0.34,0.13,0.31,0.09,0.32,0.05,0.13,0.16,0.09,0.47,0.59,0.79,0.0,0.21,0.0,0.09,0.12,0.0,0.02,0.15,0.0,0.08,0.13,0.02,0.0,0.0,0.0,0.52,0.16,0.12,0.35,0.1,0.02,1.34,0.04,0.32,0.02,0.0,0.14,0.01,0.12,0.13,0.09,0.07,0.27,0.06,0.37,0.0,0.23,0.36,0.02,0.37,1.85,0.26,0.23,0.0,0.02,0.02,0.0,0.0,0.0,0.0,0.17,0.02,0.0,0.23,0.0,0.44,0.0,0.42,0.12,0.0,0.04,0.31,0.0,0.0,0.24,0.0,0.06,0.0,0.45,0.11,0.27,0.08,0.09,0.16,0.0,0.14,0.0,0.35,0.92,0.03,0.02,0.0,0.4,0.0,1.15,0.1,0.04,0.08,0.3,0.03,0.07,0.02,0.0,0.0,0.52,0.0,0.0,0.03,0.0,0.57,0.0,0.32,0.0,0.13,0.12,0.0,0.02,0.06,0.17,0.23,0.09,0.89,0.0,0.09,0.09,0.02,0.0,1.21,0.09,0.16,0.21,0.0,1.98,0.04,0.0,0.0,0.0,0.0,0.05,0.96,0.0,0.79,0.0,2.85,0.66,0.63,0.05,0.76,0.03,0.16,0.12,0.14,0.08,0.2,0.43,0.16,0.22,0.09,0.9,0.28,0.07,11.27,0.04,0.04,0.01,0.06,0.0,0.29,0.12,0.0,0.13,0.24,0.06,0.32,0.1,0.13,0.41,0.0,0.0,0.11,0.13,0.36,0.07,0.0,0.43,0.11,0.47,0.1,0.11,0.0,0.08,0.23,3.36,0.25,0.0,0.19,0.03,0.0,1.43,0.15,0.05,0.25,0.28,0.06,0.17,0.38,0.52,0.08,0.24,0.14,0.08,0.03,0.01,0.38,0.49,0.05,0.41,0.61,0.0,0.02,0.0,0.0,0.15,0.15,0.0,0.1,0.22,0.0,0.15,0.1,0.32,2.45,0.46,0.72,0.45,0.0,0.11,0.51,0.36,0.69,0.01,0.0,0.23,0.78,0.05,0.19,0.27,0.16,0.02,0.0,0.0,0.1,0.03,0.08,0.12,0.03,0.12,0.39,0.09,0.0,0.0,0.0,0.28,0.0,0.0,0.14,0.1,0.67,0.04,0.0,2.11,0.0,0.0,0.09,0.0,0.4,0.16,0.09,0.02,0.0,0.21,0.0,0.0,0.04,0.26,0.0,0.06,0.39,0.0,0.0,0.09,0.04,0.05,0.0,0.0,0.0,0.0,0.5,0.75,0.15,0.35,7.28,0.0,0.19,0.0,0.47,0.54,0.03,0.03,0.0,0.15,0.02,0.33,1.94,0.32,0.0,0.14,0.22,0.12,0.0,0.0,0.0,0.11,0.14,0.0,0.28,0.05,0.1,0.1,0.05,0.19,0.01,0.0,0.05,0.09,0.08,0.0,0.0,0.32,1.03,0.0,0.16,0.2,0.0,9.63,0.25,0.0,0.16,0.04,0.08,0.0,0.09,0.0,0.0,1.15,0.0,0.0,0.2,0.0,0.11,3.25,0.01,0.03,0.0,0.02,0.46,0.0,0.36,0.0,0.0,0.5,0.09,0.0,0.0,0.0,0.0,0.23,0.02,0.0,0.1,0.0,2.45,0.08,0.23,0.0,1.03,0.1,0.0,0.21,0.0,0.11,0.33,0.0,0.09,0.48,0.31,0.74,0.0,1.78,0.05,0.56,0.19,0.01,0.09,0.61,0.25,0.32,0.0,0.02,0.0,0.06,0.0,0.11,0.07,0.15,0.0,0.0,0.16,0.0,0.06,0.0,0.0,0.2,0.0,0.0,0.0,0.17,0.0,0.27,0.05,0.05,0.0,0.53,1.58,0.0,0.05,0.08,0.09,0.05,0.0,0.02,0.0,0.04,0.0,1.97,0.13,0.19,0.01,0.0,0.0,0.2,0.03,0.11,0.05,0.02,0.22,0.0,2.12,0.0,0.22,0.2,0.0,0.02,0.0,0.0,0.0,0.04,0.08,0.01,0.0,0.0,0.1,0.08,0.0,0.46,0.0,0.0,0.25,0.0,0.14,0.05,0.07,0.12,0.0,0.0,0.0,0.56,0.04,0.0,0.25,0.0,0.12,0.32,0.08,0.19,0.02,0.22,3.18,0.03,0.0,0.21,0.07,0.0,0.0,0.02,0.0,0.0,0.06,0.14,0.61,0.01,0.01,0.0,0.0,0.16,0.1,0.44,0.17,0.04,0.0,0.01,0.16,0.19,0.2,0.05,0.0,0.0,0.0,0.07,0.32,0.0,0.03,0.15,0.04,0.11,0.2,0.35,0.0,0.28,1.74,0.05,0.86,0.07,0.52,2.26,0.0,0.2,0.25,0.08,0.06,0.06,0.04,0.0,0.16,0.02,0.0,0.0,0.16,0.14,0.0,0.0,0.0,0.06,0.1,0.06,0.0,0.0,0.0,0.01,0.01,0.41,2.55,0.32,0.0,0.04,0.02,0.0,0.18,0.11,0.06,0.01,0.01,0.0,0.0,0.0,0.01,0.03,0.14,0.03,0.07,0.6,0.11,0.0,0.47,0.0,0.0,0.24,1.56,0.0,0.54,0.09,0.13,0.18,0.93,0.0,0.12,0.0,0.0,0.23,0.14,0.3,0.03,0.03,0.0,0.0,0.0,0.67,0.0,0.0,0.0,1.37,0.18,0.11,0.0,0.01,0.35,0.13,0.22,0.26,0.03,0.0,0.1,0.02,0.09,0.16,0.01,0.03,1.82,0.02,0.0,0.0,0.16,0.12,0.0,0.1,0.33,0.92,0.21,0.0,0.1,0.19,0.04,0.6,0.0,0.08,0.08,0.0,0.09,0.05,0.38,0.02,0.04,0.0,0.0,0.0,0.1,0.0,0.0,0.11,1.27,0.09,0.01,1.7,0.31,0.0,0.27,0.0,0.0,0.09,0.63,0.0,0.02,0.0,0.07,0.03,0.0,0.0,0.15,0.21,0.07,0.0,0.44,0.0,0.42,0.28,0.22,0.65,0.17,0.06,0.0,1.71,0.0,0.0,0.0,1.4,0.0,0.31,0.4,0.59,0.15,0.26,0.03,0.35,0.16,0.0,0.42,0.0,0.28,0.04,0.01,1.15,0.09,0.33,0.92,0.05,0.05,1.44,0.58,1.04,0.13,2.82,1.17,0.01,0.03,0.02,0.02,0.12,0.0,0.88,1.23,0.72,0.43,0.22,0.36,0.02,0.0,0.0,0.1,0.0,0.15,1.96,0.09,0.11,0.0,0.19,0.67,0.98,0.11,2.93,0.08,3.7,0.59,1.27,0.72,0.44,0.0,0.17,0.05,0.0,0.4,0.08,0.24,0.0,0.0,0.21,0.06,0.0,0.15,0.08,0.0,0.92,0.59,0.03,0.49,0.0,0.0,0.0,0.15,0.01,0.0,0.06,0.47,0.02,0.04,0.04,0.13,0.08,0.34,0.06,0.0,0.2,0.35,0.0,0.04,0.0,1.35,0.04,0.15,0.14,0.0,0.0,0.12,2.47,0.86,0.0,0.0,0.41,0.29,0.04,0.0,0.01,0.0,0.1,0.15,0.0,0.0,0.0,0.06,0.0,0.68,0.02,0.16,0.27,0.0,0.25,0.01,0.86,0.2,0.0,0.0,0.14,0.16,0.0,0.0,0.03,0.19,0.45,0.29,0.19,0.04,0.07,0.03,0.0,0.0,0.0,0.67,0.11,0.0,0.0,0.0,0.05,0.21,0.0,0.0,0.45,0.05,0.03,0.1,0.14,0.0,0.23,0.0,0.05,0.02,0.0,0.7,0.22,0.08,0.3,0.17,0.11,0.03,0.94,0.15,0.25,0.1,0.0,0.38,0.08,1.55,0.32,0.33,0.46,0.01,0.14,0.06,0.54,0.66,0.11,0.01,0.51,2.04,0.31,0.36,0.18,0.02,0.2,0.25,0.0,0.48,0.38,0.23,2.12,0.53,0.11,0.44,0.0,0.02,0.37,1.05,1.44,0.0,0.39,0.05,0.0,0.7,0.55,0.26,0.0,0.13,0.03,0.0,0.03,0.14,0.52,1.5,0.0,0.02,0.07,0.02,0.09,0.07,0.06,0.09,0.0,0.0,0.0,0.36,0.04,0.61,0.0,0.7,1.09,0.06,0.6,0.48,0.0,0.09,0.1,0.11,0.03,0.14,0.52,0.17,0.05,0.13,0.05,0.0,0.0,0.0,0.28,0.0,0.95,0.0,0.2,0.09,0.69,0.14,0.0,0.06,0.08,0.0,0.4,0.41,0.79,0.21,0.14,0.01,0.92,0.04,0.01,0.0,0.08,0.91,0.06,0.11,0.0,0.0,0.0,0.24,0.39,0.05,0.12,0.26,0.37,5.39,0.68,0.76,0.0,1.26,0.07,0.35,0.03,0.02,0.16,0.18,0.0,0.37,0.0,0.52,0.31,0.24,0.51,0.01,0.07,0.0,1.43,0.0,0.0,0.11,0.0,0.0,0.09,0.12,0.02,0.42,0.0,0.0,0.0,0.04,0.01,0.0,0.8,0.29,0.3,0.0,0.82,0.38,0.01,0.0,0.72,0.03,0.0,0.18,0.07,0.81,0.01,0.0,1.38,1.03,0.04,0.12,0.0,0.05,0.01,0.11,0.1,0.0,0.0,0.05,0.08,0.09,0.0,0.0,0.05,0.0,0.13,0.0,0.13,0.0,0.03,0.23,0.06,0.85,0.0,0.09,0.35,0.0,0.46,0.5,0.45,0.06,0.47,0.47,0.26,0.33,0.03,0.02,0.08,0.04,0.05,0.18,0.0,0.0,0.42,0.27,0.01,0.05,0.72,0.0,0.0,0.78,0.12,0.02,0.02,0.0,0.13,0.01,0.05,0.0,0.3,0.01,0.03,0.0,0.32,0.05,0.0,0.0,0.0,0.0,0.04,0.38,0.43,0.06,0.0,0.0,0.13,0.0,0.11,0.29,0.09,0.11,1.75,0.15,0.4,0.15,0.23,2.0,0.05,0.13,0.04,0.13,0.07,0.36,0.08,0.0,0.09,0.0,0.0,0.05,0.19,0.27,0.0,0.43,0.05,0.13,0.25,0.0,0.0,0.0,0.47,0.07,0.0,0.15,0.43,0.17,0.07,0.07,0.01,2.01,0.02,0.0,0.12,0.36,0.14,0.64,0.0,0.03,0.08,0.1,0.0,0.08,0.0,0.0,1.0,0.08,0.0,0.26,0.0,1.32,0.38,0.03,0.69,0.0,0.0,0.34,0.74,0.08,0.09,0.07,0.12,0.11,0.27,0.12,0.12,0.23,0.02,0.0,0.11,0.07,0.0,0.18,0.0,0.03,0.1,0.03,0.08,0.14,0.0,0.22,0.0,0.0,0.0,0.25,0.0,0.0,0.08,0.0,0.08,0.01,0.04,0.06,0.05,0.0,0.0,0.0,0.0,0.19,0.09,0.25,0.0,0.14,0.11,0.0,0.05,0.01,0.14,0.03,0.0,2.29,0.2,0.04,0.0,0.0,0.0,0.18,0.4,0.0,0.04,0.04,2.14,0.0,0.0,0.03,0.0,0.03,0.0,0.0,0.22,0.12,0.05,0.0,0.77,0.08,0.02,0.18,0.29,0.0,0.24,0.07,0.16,0.2,0.06,0.03,0.0,1.33,0.0,0.37,0.08,0.21,0.09,0.0,0.0,1.04,0.03,0.41,0.31,0.16,0.0,0.0,0.04,0.0,0.0,0.0,0.0,0.07,0.27,0.0,0.22,0.26,0.0,0.37,0.0,0.29,0.02,0.11,0.05,0.13,0.03,0.0,0.55,0.0,0.23,0.0,0.26,0.02,0.27,0.07,0.23,0.05,0.1,0.15,0.15,0.11,0.25,0.28,0.0,0.07,0.0,0.0,0.31,0.0,2.62,0.04,0.02,0.02,0.31,0.04,0.0,0.24,0.16,0.03,0.0,1.9,0.0,0.04,0.0,0.0,0.09,0.13,0.97,2.26,0.05,0.07,0.24,0.16,0.05,0.0,0.05,0.18,0.14,0.0,0.0,0.15,0.24,0.12,0.18,3.64,0.04,0.02,0.15,0.0,0.0,0.11,0.03,0.04,0.0,0.0,0.0,0.53,0.02,0.0,0.0,0.0,0.15,0.0,0.09,0.05,0.0,0.0,0.02,0.07,0.48,2.09,0.02,0.47,0.01,0.14,0.17,0.01,0.34,0.13,0.06,0.0,0.09,0.11,1.49,0.32,0.09,0.0,0.06,0.5,0.07,0.06,0.34,0.68,0.21,0.0,0.04,0.59,0.07,0.0,0.1,0.09,0.18,3.36,0.0,0.24,0.0,0.05,2.21,0.12,2.15,0.0,3.14,0.13,0.13,0.08,0.08,0.53,0.28,0.17,0.0,0.5,0.0,0.0,0.0,0.0,0.03,0.21,0.07,0.2,0.0,0.18,0.01,1.99,0.0,0.0,0.01,0.08,0.09,0.47,1.05,0.56,0.0,0.03,0.64,0.05,0.35,0.0,0.0,0.09,0.0,0.0,0.01,0.12,0.04,0.32,0.16,0.04,0.0,0.29,0.0,0.01,0.09,0.1,0.5,0.54,0.0,0.26,0.23,0.49,0.1,0.27,0.02,0.82,0.14,0.25,0.18,0.0,0.04,0.0,0.05,0.02,0.45,0.0,0.07,0.03,0.04,0.49,0.05,0.24,0.02,0.28,0.03,0.2,0.0,0.08,0.0,0.35,0.32,0.08,0.72,0.09,0.18,0.07,0.11,0.0,0.21,0.09,0.12,0.0,0.06,0.0,0.29,0.35,0.56,0.0,0.12,0.21,0.04,0.0,0.0,0.13,0.29,0.72,0.1,0.04,0.0,0.0,0.29,0.23,0.49,0.14,1.05,0.61,0.05,0.13,0.0,0.86,2.2,0.57,0.0,0.0,0.28,0.35,0.07,0.1,0.52,0.19,0.0,0.0,0.05,0.08,0.75,0.2,0.0,0.06,0.0,0.46,0.06,0.0,0.01,0.02,0.07,0.11,0.67,0.22,0.01,0.08,0.05,0.15,0.0,0.35,0.0,0.06,0.24,0.0,0.44,0.07,0.09,0.15,0.16,0.24,0.01,0.46,0.0,0.24,1.52,0.0,0.65,0.0,0.0,0.0,3.68,0.03,0.1,0.0,0.07,0.08,0.03,0.0,0.0,0.0,0.04,0.37,0.35,0.34,0.16,0.45,0.27,0.06,0.21,0.16,0.03,0.0,0.1,0.33,1.01,0.52,0.05,0.01,0.21,0.06,0.04,0.41,0.1,0.06,0.0,0.23,0.24,0.0,0.03,0.42,0.02,0.49,0.04,0.0,0.25,0.16,0.15,0.07,0.55,0.07,0.0,0.34,0.04,0.11,0.0,0.19,0.0,0.0,0.0,0.02,0.05,0.04,0.41,0.3,0.57,0.02,0.0,0.12,0.0,0.1,0.1,4.15,0.07,0.06,0.0,0.1,0.13,0.11,0.49,0.57,0.07,0.0,0.0,0.27,0.0,0.13,0.38,0.0,0.08,0.26,0.0,1.1,0.27,0.02,0.12,0.11,0.12,0.01,0.26,0.03,0.15,0.0,0.14,11.38,0.05,0.41,0.01,0.0,1.57,0.0,0.01,0.24,0.28,0.29,0.09,0.11,0.01,0.03,0.16,0.13,2.84,0.0,0.0,0.08,0.07,0.2,0.0,0.06,0.0,0.05,0.85,0.07,0.0,0.32,0.0,0.0,0.38,0.13,0.2,0.0,0.0,0.54,3.03,0.02,0.44,0.06,0.0,0.0,0.59,0.62,0.62,2.04,0.11,0.17,0.2,0.01,0.0,2.12,0.14,0.0,0.0,0.1,0.3,0.04,0.28,0.06,0.3,0.06,0.08,0.0,0.29,0.39,0.05,0.08,0.0,0.45,0.0,0.03,0.0,0.02,0.33,0.08,2.03,0.16,0.0,0.22,0.54,0.22,0.02,0.2,0.05,0.2,0.07,1.15,0.08,0.07,1.49,0.0,0.03,0.01,0.0,0.08,0.56,0.09,0.22,0.0,0.23,0.0,0.0,1.36,0.0,0.43,0.0,0.0,0.12,0.09,0.11,0.12,0.48,5.57,0.0,0.0,0.16,0.13,0.44,0.12,0.0,0.15,1.14,0.13,0.0,0.13,0.05,0.0,0.13,1.03,0.3,0.05,0.0,0.12,0.01,0.03,0.0,0.04,0.02,0.09,0.02,0.09,0.01,0.0,0.07,0.09,0.1,0.41,2.65,0.21,1.0,0.0,0.11,0.14,0.0,0.66,0.19,0.26,0.04,0.88,0.02,0.0,0.0,0.03,0.18,0.1,0.06,0.0,0.67,0.16,0.0,0.0,0.0,0.01,0.11,0.0,0.44,0.09,0.12,0.83,0.0,0.01,0.02,0.21,0.0,0.08,0.0,0.0,0.0,0.08,1.82,0.42,0.26,0.4,0.25,0.0,0.1,0.08,0.08,0.0,0.0,0.17,0.0,0.09,0.0,0.17,0.05,0.0,0.07,0.12,0.0,0.07,0.02,0.04,0.08,0.12,0.05,0.84,0.0,0.14,0.28,0.0,0.17,0.02,3.06,0.25,0.12,1.74,0.0,0.23,0.02,0.07,0.06,0.33,0.48,0.03,0.24,0.54,0.06,0.0,0.23,0.06,0.02,0.01,0.0,0.08,0.1,0.0,0.18,0.0,0.12,0.14,0.0,0.18,0.08,0.0,0.72,0.33,0.05,0.55,0.0,0.0,0.0,0.44,0.36,0.16,0.8,0.01,0.13,0.0,0.01,0.29,0.1,0.0,0.11,0.05,0.0,0.09,0.0,0.15,0.0,0.0,0.04,0.09,0.05,0.0,0.34,0.26,0.0,0.3,0.0,0.0,0.31,0.0,0.24,0.26,0.0,0.93,0.02,1.43,0.0,0.13,0.35,0.07,0.03,0.0,0.71,0.11,0.09,0.0,0.1,0.09,0.1,0.03,0.05,0.09,1.37,0.17,0.1,0.04,0.03,0.17,0.42,0.52,0.0,0.09,0.17,0.07,0.0,0.0,0.5,0.0,0.04,0.53,0.0,0.02,0.7,0.02,0.58,0.0,0.03,0.0,0.0,0.0,0.39,0.0,0.0,0.0,0.03,0.0,0.09,0.52,0.18,0.01,0.0,0.07,0.13,0.0,0.68,0.0,0.0,0.0,0.14,0.07,0.0,0.09,0.01,0.34,0.15,0.99,2.03,0.04,0.05,0.1,0.18,1.22,0.01,0.0,0.01,0.15,0.0,0.11,0.21,0.1,0.04,0.03,0.0,0.06,0.15,0.0,0.1,0.0,0.03,0.46,0.3,0.0,0.0,0.07,0.01,0.13,0.21,0.13,1.4,0.11,0.0,0.11,0.06,0.0,0.27,0.08,0.0,0.22,0.16,0.19,0.12,0.23,0.4,0.0,0.4,0.38,0.48,0.11,0.0,0.0,0.0,0.01,0.15,0.0,0.02,0.0,0.11,0.0,0.06,0.03,0.05,0.11,0.08,0.27,0.07,0.23,0.26,0.06,0.0,0.0,0.13,1.72,0.14,0.11,0.06,0.0,0.15,0.48,0.0,0.11,0.78,0.02,0.0,0.3,0.19,0.59,0.02,0.0,0.87,0.02,0.01,0.26,0.13,0.34,0.63,0.03,0.0,0.09,0.0,0.0,0.05,0.08,0.0,0.0,0.0,0.0,0.18,0.71,0.05,0.01,0.26,0.3,0.07,0.18,0.06,0.27,0.0,0.4,0.03,0.05,0.13,0.0,0.01,0.07,0.0,0.59,0.0,0.0,0.0,0.58,0.0,0.15,0.58,0.0,1.52,0.06,0.48,0.0,0.04,0.38,0.0,0.7,0.13,0.02,0.42,0.11,0.18,0.0,1.02,0.32,0.0,0.12,0.0,1.48,0.14,0.0,0.06,0.23,0.0,0.45,0.32,0.05,0.06,0.4,0.01,0.0,0.0,0.15,0.06,0.5,0.03,0.11,0.08,0.09,0.07,0.1,0.31,0.05,0.02,0.0,0.2,1.33,0.04,0.0,0.15,0.06,0.01,0.29,0.0,0.15,0.0,0.0,0.18,0.0,1.38,0.0,0.06,0.34,0.08,0.14,0.0,0.01,0.0,0.0,0.13,0.0,0.04,0.43,0.0,3.11,0.18,0.29,0.49,0.15,0.1,0.65,0.86,0.0,0.0,0.01,0.0,0.16,0.0,0.09,0.0,0.0,0.12,0.12,0.06,0.15,0.05,0.15,0.0,0.0,0.0,0.63,0.04,0.14,0.36,0.01,0.0,0.15,0.13,0.0,0.02,0.5,0.13,0.09,0.01,0.13,0.1,0.0,0.07,0.63,0.46,0.21,0.02,0.52,2.29,0.24,0.15,0.16,0.94,0.05,0.02,0.18,0.0,0.13,0.15,0.02,0.08,0.17,0.02,0.01,0.66,0.68,0.15,0.0,0.08,0.0,0.08,0.0,0.0,0.0,0.15,0.0,0.29,0.84,0.0,0.07,1.28,0.5,0.22,0.15,0.19,0.07,0.0,0.1,0.4,0.0,0.27,0.21,0.07,0.64,0.12,0.0,0.0,0.3,0.17,0.0,1.03,0.0,0.0,0.31,0.05,0.04,0.0,0.17,0.01,0.14,0.14,0.02,0.07,0.1,0.34,0.0,0.01,0.0,0.1,0.15,0.0,0.0,0.03,0.06,0.12,0.19,0.47,0.0,0.09,0.09,0.06,1.73,0.46,4.75,0.03,0.27,1.93,0.96,0.14,0.33,0.38,0.0,0.47,0.0,0.0,0.0,0.05,0.0,0.08,0.09,0.06,0.08,0.0,0.11,0.0,0.05,0.12,0.54,0.01,0.18,0.0,0.14,0.0,0.1,0.04,0.19,0.0,0.05,0.14,1.36,0.1,1.04,0.8,0.08,1.07,0.0,1.08,0.18,1.57,0.58,0.15,0.38,0.0,0.14,0.39,0.01,0.02,0.13,0.12,0.06,0.06,3.74,0.27,0.18,0.17,2.91,0.0,0.02,0.08,0.27,0.81,0.44,0.1,0.86,0.05,0.04,1.46,0.0,0.26,0.19,0.6,0.1,0.08,0.13,0.11,0.0,0.01,1.98,1.84,0.03,0.0,0.02,0.53,0.39,0.0,0.03,0.04,0.3,0.0,0.11,0.13,0.44,0.1,0.0,0.02,0.14,0.16,0.09,0.98,0.09,0.07,0.35,0.0,0.06,0.33,0.0,0.0,0.0,0.19,0.29,0.23,0.22,3.83,0.0,0.0,0.08,0.05,0.0,0.16,0.0,0.05,0.87,0.18,0.0,0.0,0.6,0.01,0.37,0.0,0.05,0.2,0.0,0.0,0.0,0.0,0.02,0.26,0.3,0.0,0.13,0.0,0.04,0.17,0.03,0.06,0.42,0.0,0.03,0.09,0.02,0.4,0.11,0.0,0.04,0.0,0.06,0.18,0.09,0.0,0.0,0.29,0.0,0.46,0.12,1.97,0.16,0.2,0.76,0.01,0.06,0.0,0.0,0.03,0.0,0.41,0.05,0.05,0.11,0.65,0.0,0.11,0.0,0.02,0.57,0.2,0.0,0.01,0.38,0.12,0.08,0.02,0.11,0.13,0.19,0.05,0.06,0.0,0.0,0.02,0.0,0.0,0.06,0.0,0.0,0.06,0.0,0.0,0.43,0.03,0.39,0.09,0.02,0.64,1.26,0.96,0.54,0.16,0.26,0.09,0.82,0.0,0.14,0.0,0.0,0.14,0.21,0.11,0.53,0.63,0.12,0.09,0.11,0.03,0.12,0.3,0.0,0.11,0.0,0.0,0.01,0.13,0.27,0.02,1.73,0.0,0.09,0.0,0.02,0.16,0.22,0.03,0.0,0.22,0.12,0.08,0.0,0.06,0.15,0.29,0.0,0.0,0.08,0.45,0.1,0.06,0.5,0.16,9.07,0.02,0.05,0.08,0.07,0.04,0.1,0.0,0.15,0.05,0.04,0.0,0.0,0.15,0.11,0.15,0.26,0.06,0.01,0.16,0.25,0.0,0.24,0.0,0.25,0.0,0.13,0.02,0.0,0.03,0.09,0.08,0.03,0.0,0.08,0.0,0.0,0.09,1.07,0.1,0.05,0.27,0.0,2.1,0.08,1.61,0.02,0.08,0.51,0.39,0.18,1.18,0.05,0.44,0.0,0.21,0.13,0.0,0.3,0.09,0.36,0.13,0.06,0.06,0.0,0.07,0.12,0.08,0.0,0.04,0.03,0.0,0.01,0.0,0.0,0.06,0.0,0.07,0.5,0.04,0.35,0.61,0.63,0.0,1.53,0.0,0.04,0.06,0.1,0.2,0.25,0.08,0.21,0.25,0.08,1.27,0.05,4.02,0.55,0.07,0.0,0.0,0.03,1.35,0.28,1.7,0.09,0.01,0.18,0.0,0.02,0.14,0.0,0.04,0.0,0.5,0.09,0.0,0.17,0.46,0.93,0.0,0.0,0.04,0.27,1.48,0.02,0.54,0.08,0.0,0.31,0.2,0.0,0.85,0.28,0.0,0.08,0.06,0.24,0.0,0.32,0.28,0.11,0.04,0.2,0.56,0.49,1.18,0.56,0.33,0.06,0.31,0.0,0.0,0.0,0.03,0.12,0.0,1.25,0.1,0.0,0.33,0.14,0.0,0.0,0.07,0.11,0.02,0.99,0.14,0.21,0.0,1.36,0.07,0.24,0.0,0.04,0.0,0.05,1.94,0.0,0.0,0.06,0.13,0.03,0.1,0.0,0.34,0.04,0.0,0.0,0.5,0.01,0.14,0.33,0.58,0.49,0.0,0.01,0.04,0.0,0.01,0.09,0.01,0.2,0.15,0.5,0.02,0.0,0.0,8.94,0.05,0.09,0.13,0.0,0.0,0.0,0.0,0.08,0.0,0.22,0.24,0.13,0.12,0.05,0.0,0.0,0.0,0.54,0.0,0.33,1.09,1.24,0.07,0.12,0.35,0.13,0.09,0.15,0.06,0.17,1.36,0.34,0.15,0.0,0.06,0.14,0.03,0.05,0.0,0.0,0.0,0.07,0.03,0.09,0.02,0.01,0.73,0.01,0.0,0.0,0.07,0.17,1.24,0.0,0.29,0.0,0.42,0.16,0.26,0.0,0.01,0.0,0.02,0.01,0.21,0.03,0.26,0.81,0.04,0.0,0.0,0.0,0.0,0.0,0.0,0.12,0.0,0.3,0.16,0.04,0.08,0.32,0.09,0.65,0.0,0.0,0.0,0.9,0.14,0.0,0.02,0.11,0.08,0.05,0.4,0.38,0.13,0.12,0.0,0.23,0.06,0.04,0.07,0.05,0.3,0.14,0.4,0.3,0.0,0.27,0.03,2.03,0.07,0.2,0.0,2.99,0.47,0.16,0.03,0.24,0.0,0.32,0.09,0.1,0.09,0.0,0.36,0.02,0.0,0.78,0.0,0.04,0.35,0.53,0.02,0.17,0.26,0.28,0.0,0.03,0.08,0.01,0.05,0.27,0.13,0.07,0.0,0.01,0.1,0.0,0.13,0.15,0.11,0.02,0.07,0.0,0.0,0.77,0.15,0.01,0.0,0.1,0.0,0.29,0.09,0.4,0.42,0.03,0.0,0.02,0.06,0.11,0.0,0.07,0.11,0.0,0.11,0.0,1.26,0.01,0.05,0.09,0.04,0.0,0.11,0.72,0.09,0.19,0.09,0.0,0.06,0.08,0.85,0.03,0.05,0.02,0.0,0.28,0.23,5.99,0.0,0.0,0.11,0.34,0.0,0.0,0.0,0.78,1.01,0.0,0.06,0.0,0.08,1.03,0.26,0.0,0.12,0.0,0.0,0.0,0.03,1.0,0.0,0.12,0.37,0.51,0.07,0.0,0.06,3.88,0.13,0.0,0.06,0.33,0.1,0.18,0.0,0.07,0.44,0.0,0.06,0.26,0.13,0.09,0.69,0.05,0.08,0.1,0.46,0.0,0.19,0.26,0.01,0.0,0.07,0.0,0.08,0.03,0.03,0.12,0.0,0.01,0.0,0.17,0.5,0.14,0.49,0.01,0.27,0.16,0.05,0.0,0.05,0.0,0.16,1.24,0.09,0.11,0.14,0.14,0.12,0.0,0.09,1.45,0.03,0.47,0.11,0.09,0.1,0.08,0.21,0.17,0.17,1.45,0.0,0.03,0.15,0.0,0.0,0.15,0.09,0.0,0.04,0.13,0.0,0.35,0.02,0.49,0.02,0.81,0.12,0.0,0.21,0.0,0.0,0.05,0.01,0.35,0.14,0.32,0.08,0.17,0.0,0.07,0.41,0.08,0.1,0.3,0.13,0.05,0.12,0.44,0.58,0.49,0.0,0.57,0.27,0.01,0.0,0.04,0.0,0.06,0.0,0.06,0.06,0.87,0.0,0.01,0.06,0.07,0.0,0.23,0.13,0.79,0.39,0.03,0.14,0.0,0.0,0.31,0.47,0.0,0.29,0.04,0.15,0.0,0.04,0.06,0.0,0.03,0.13,0.11,0.21,0.0,0.0,0.0,0.0,0.03,0.41,0.0,0.1,0.04,0.62,0.04,0.0,0.59,0.0,0.0,0.67,0.0,0.02,1.26,0.05,0.09,0.63,0.48,0.11,0.03,0.03,0.0,0.0,0.18,0.0,0.3,0.04,0.74,0.32,0.29,0.0,0.42,0.41,0.0,0.08,0.01,0.15,0.76,0.13,5.77,0.05,0.07,0.0,0.0,0.0,0.0,0.1,0.0,0.2,0.64,0.0,0.12,2.33,0.0,0.0,0.0,0.12,0.16,0.07,0.18,0.0,0.14,0.08,0.0,0.12,0.36,0.22,0.08,0.23,2.57,0.01,0.0,1.49,0.0,0.25,0.28,0.99,0.17,0.14,0.06,1.0,0.0,0.09,0.78,0.51,0.0,0.06,0.01,0.13,0.0,0.3,0.0,0.06,0.09,0.11,0.02,1.9,0.0,0.93,0.19,0.02,0.53,0.0,0.0,0.0,0.01,0.08,0.85,0.0,0.03,0.34,0.0,0.01,0.06,0.0,0.08,0.22,2.97,0.0,0.01,0.05,0.0,0.0,0.0,0.09,1.78,0.0,0.46,0.03,0.0,0.17,0.05,0.0,0.13,0.22,0.0,0.25,0.01,0.0,0.04,0.16,0.11,0.25,0.02,1.72,0.05,0.09,0.42,0.29,3.27,0.54,0.0,0.78,0.0,0.0,0.08,0.0,0.09,0.0,0.22,1.47,0.0,0.0,0.11,0.07,0.18,0.11,0.28,0.0,0.0,0.37,0.21,0.0,0.14,0.18,0.16,0.19,1.25,0.61,0.02,0.71,3.49,0.1,0.0,4.18,0.26,0.17,0.12,0.0,0.41,0.12,0.0,0.03,0.0,0.14,0.27,0.37,0.13,0.14,0.0,0.0,0.0,0.0,0.03,0.0,0.11,0.33,0.0,0.01,0.05,0.0,0.13,0.0,0.0,0.22,0.3,0.05,0.21,0.0,0.06,0.32,0.0,0.12,0.04,0.0,0.19,0.56,0.2,0.07,0.0,0.01,0.14,0.08,0.13,0.24,0.27,0.55,0.18,0.29,0.24,0.09,0.1,0.05,0.0,0.09,0.0,0.1,0.0,0.07,0.02,0.0,0.04,0.0,0.05,0.11,0.04,0.24,0.03,0.28,0.02,0.0,0.0,0.05,0.4,0.17,0.72,0.16,0.26,0.86,0.08,0.0,0.06,0.04,0.05,0.03,0.15,0.05,0.02,1.54,0.09,0.33,0.31,0.38,0.01,0.3,0.07,0.07,0.44,0.18,0.52,0.26,0.25,0.0,0.02,0.04,0.0,0.06,0.05,0.04,0.27,0.03,0.33,0.0,0.03,0.13,0.22,1.47,0.0,0.0,0.0,0.0,0.35,0.12,1.55,0.05,0.14,0.01,0.09,0.44,0.04,0.1,0.7,0.02,0.0,0.0,0.0,0.49,0.0,0.01,0.11,0.1,0.05,2.03,0.28,0.63,0.0,0.0,0.13,0.07,0.31,0.0,0.53,0.41,0.03,0.0,0.1,0.29,0.0,0.18,0.04,0.26,0.0,0.25,0.47,0.11,0.02,0.16,0.02,0.0,0.07,0.09,0.0,0.27,0.52,0.01,0.12,0.0,0.06,0.0,0.0,0.03,0.0,0.07,0.44,0.01,0.0,0.02,0.01,0.0,0.41,0.66,1.02,0.08,0.03,0.05,1.08,0.08,1.09,0.22,0.0,0.09,0.0,0.12,0.18,0.3,0.0,0.11,0.0,0.63,0.69,0.0,0.42,0.06,0.0,0.31,0.0,0.0,0.0,0.0,0.0,0.05,0.01,0.08,0.09,0.03,0.0,0.64,0.14,0.0,0.07,0.0,0.06,0.1,0.0,0.19,0.51,0.1,0.0,1.33,0.04,0.71,0.04,0.08,0.13,0.02,0.33,0.09,0.0,0.0,0.0,0.06,1.06,0.0,2.13,0.09,0.25,0.0,0.34,0.15,0.37,0.25,0.06,1.63,0.0,0.04,0.31,0.22,0.06,0.05,0.0,0.26,0.01,0.02,0.32,0.01,0.0,0.37,0.0,0.83,0.25,0.08,0.12,0.47,0.33,0.21,0.06,0.02,0.02,0.0,0.11,0.21,0.02,0.68,0.05,0.0,0.15,0.28,0.0,0.51,0.12,0.0,0.37,0.07,0.08,0.47,2.04,0.0,0.04,0.0,0.32,0.09,0.15,0.08,0.18,1.24,0.42,0.18,0.45,0.02,0.49,0.06,0.08,0.06,1.21,0.0,0.13,0.0,0.0,0.08,0.05,0.02,0.99,0.22,0.08,0.08,0.15,0.12,0.23,0.18,0.39,0.23,0.0,0.0,0.0,0.0,3.02,0.22,0.93,5.54,0.06,0.2,0.0,0.0,0.48,0.0,0.81,0.26,0.07,0.52,0.25,0.0,0.12,0.72,0.07,0.1,0.04,0.0,0.07,0.08,0.01,0.06,1.4,0.48,0.02,0.0,0.0,0.11,0.89,0.0,0.15,0.14,0.0,0.65,0.01,0.08,0.0,0.04,1.07,1.0,0.42,0.0,0.0,0.31,0.37,0.0,0.16,0.02,0.0,0.46,0.13,0.01,0.1,0.78,0.02,0.21,0.03,0.1,0.71,2.56,0.03,0.0,0.18,0.14,0.04,0.07,0.18,0.08,0.44,0.14,0.02,0.0,0.21,0.2,0.0,0.07,0.08,0.0,0.47,0.0,0.25,2.71,0.22,0.07,0.0,0.04,0.49,0.11,0.0,0.21,0.04,0.0,0.07,0.22,0.0,0.0,12.78,0.17,0.08,0.01,0.0,0.0,0.23,0.0,0.13,0.03,0.05,0.06,0.23,0.12,0.0,0.18,0.0,0.0,0.0,0.14,0.28,0.13,0.0,0.0,0.1,0.19,0.09,0.4,1.84,0.13,0.04,0.49,0.05,0.04,0.0,0.44,0.27,0.09,0.0,0.09,0.93,0.01,0.2,0.08,0.69,0.0,0.07,0.07,0.23,0.61,0.0,0.36,0.02,0.35,0.01,0.15,0.06,0.55,0.36,0.08,0.3,0.01,0.0,0.04,0.21,0.0,0.0,0.4,0.14,0.56,0.07,0.09,0.0,0.07,0.13,0.14,0.06,0.0,0.01,0.14,0.0,0.12,0.0,0.24,0.0,1.2,0.23,0.09,0.45,0.06,1.45,0.16,0.0,0.08,0.45,0.0,0.31,0.21,0.15,0.16,0.68,0.0,0.35,0.02,0.22,0.02,0.61,0.05,0.5,0.0,0.2,0.04,1.12,0.8,0.03,0.13,0.03,0.0,0.33,0.2,0.38,0.09,0.0,0.05,0.11,0.1,0.03,2.36,0.16,0.22,0.1,0.0,0.13,0.0,0.02,0.05,0.0,0.43,0.22,0.0,0.0,0.07,0.08,0.01,0.06,0.02,0.0,0.08,0.02,0.82,0.51,0.0,0.19,0.47,0.0,0.07,0.37,0.71,0.33,0.14,0.0,0.74,0.09,0.0,0.39,0.05,0.07,0.17,0.41,0.04,0.0,0.0,0.03,0.3,0.05,0.26,0.0,0.0,0.14,0.03,0.07,0.08,0.0,0.12,0.09,0.08,0.11,0.12,0.15,0.31,1.23,0.34,1.61,0.0,0.25,0.25,0.37,0.42,0.03,0.03,0.04,0.03,0.17,0.14,0.09,0.0,0.0,0.41,0.0,0.3,0.4,0.15,0.0,0.12,0.11,0.09,0.01,0.0,0.08,0.38,0.0,2.8,6.99,0.0,0.0,0.0,0.0,0.55,0.04,0.0,1.12,0.32,0.22,0.1,1.09,0.1,0.11,0.0,0.0,0.0,0.03,0.39,0.0,0.02,0.03,0.07,0.13,0.17,0.17,0.12,0.3,0.05,0.05,0.07,0.22,0.16,0.0,0.0,0.22,0.0,0.0,0.02,0.0,0.13,0.0,0.3,0.1,0.5,0.0,0.26,0.31,0.19,0.78,0.05,0.45,0.23,0.02,0.07,0.06,0.0,0.13,0.16,9.54,0.28,0.0,0.59,0.09,0.35,0.06,0.07,0.0,0.11,0.05,0.0,0.01,0.11,0.02,0.17,1.05,0.1,0.59,0.08,0.37,0.03,0.08,0.03,0.07,0.47,0.77,0.05,0.05,0.04,0.03,1.57,0.1,0.05,0.39,0.12,0.0,0.09,0.0,0.39,0.0,0.04,0.01,0.0,3.98,0.12,0.01,0.0,0.33,0.65,0.06,0.0,0.0,0.2,0.3,1.2,0.16,0.05,0.02,0.16,1.48,0.0,0.04,0.54,0.0,0.0,0.3,0.25,0.0,0.37,0.0,0.13,0.72,0.0,0.0,0.0,0.0,0.0,0.27,0.08,0.19,0.34,0.14,0.0,0.0,0.24,0.35,0.41,0.34,0.0,0.03,0.05,0.14,0.0,0.04,1.0,0.1,0.0,0.0,0.01,0.04,0.0,0.18,0.05,0.07,0.0,0.0,0.04,0.08,0.05,0.4,0.18,0.0,0.0,0.79,0.14,0.46,0.1,0.15,0.83,0.05,0.04,1.99,0.38,0.05,0.07,0.31,0.05,1.59,0.0,0.21,0.1,0.13,0.15,0.23,0.0,0.01,0.04,0.09,0.09,0.08,0.08,0.04,0.22,0.02,0.42,0.0,0.02,0.0,0.45,0.09,0.0,0.61,0.96,0.0,0.4,1.41,1.08,2.32,0.0,0.0,0.22,0.06,0.14,3.23,0.04,0.01,0.0,0.14,0.15,1.4,0.52,0.75,0.3,0.08,0.11,0.02,0.12,0.22,0.02,0.23,0.0,0.34,0.0,0.05,0.79,0.15,0.27,0.3,0.04,0.19,0.0,1.54,0.63,0.17,0.01,0.74,0.87,0.0,1.74,0.3,0.0,0.41,0.3,0.05,0.0,0.0,0.35,0.0,0.0,0.1,0.34,0.11,0.07,0.0,0.02,0.0,0.0,0.01,0.0,0.16,0.02,0.03,0.0,0.0,0.5,0.11,0.1,0.0,0.57,0.0,0.5,0.21,0.0,0.0,0.0,0.08,0.16,0.09,0.0,0.0,0.0,0.0,0.17,0.13,0.06,0.06,0.55,0.3,0.06,0.0,0.08,0.0,0.32,0.27,0.05,0.2,0.0,0.97,0.05,0.09,0.0,0.12,0.2,0.21,0.16,0.11,0.02,0.0,0.0,1.15,0.11,0.03,0.0,0.16,0.05,0.6,0.09,0.14,0.07,0.0,0.18,0.05,0.0,0.0,0.04,0.22,0.04,0.48,0.06,0.11,0.19,0.4,0.03,0.0,0.0,0.0,0.0,0.11,0.51,0.0,0.12,0.12,0.07,0.1,0.0,0.1,0.0,0.03,0.01,0.0,0.03,0.13,0.05,0.03,0.04,0.03,0.0,0.45,0.27,0.01,0.0,0.1,0.02,0.0,0.0,0.02,0.0,0.0,0.31,0.0,0.83,0.01,0.0,0.0,0.0,0.16,0.21,0.0,0.0,0.0,0.23,0.08,0.62,0.01,0.52,0.06,0.11,0.0,1.23,0.0,0.1,0.11,0.01,0.28,0.0,0.0,0.0,0.06,0.1,0.52,0.0,0.0,0.81,0.14,0.41,0.09,0.22,0.0,0.04,0.09,0.02,0.08,0.26,0.08,0.11,0.0,0.01,0.0,0.03,0.27,0.0,0.0,0.0,0.0,0.23,9.67,0.0,0.22,0.15,0.47,0.09,0.42,0.18,0.0,0.04,1.86,0.42,0.01,0.01,0.03,0.0,0.01,0.0,0.44,1.7,1.32,0.04,0.0,0.39,0.01,0.0,0.0,0.07,0.52,0.0,1.07,0.0,0.03,0.0,0.02,14.97,5.84,0.09,0.03,0.0,0.0,0.02,0.04,0.0,1.46,0.42,0.02,0.25,0.13,0.0,0.03,0.0,0.0,0.36,0.2,1.69,0.0,0.18,0.21,0.05,0.16,0.15,0.0,0.19,0.2,0.0,0.2,0.05,0.0,0.05,0.05,0.29,0.13,0.16,0.12,0.44,0.16,0.07,0.11,0.08,0.02,0.24,0.09,0.0,0.0,0.18,0.94,0.06,0.85,0.33,0.06,0.63,0.12,1.09,0.14,0.13,0.0,0.08,0.0,0.05,0.0,0.12,0.05,1.21,0.0,0.56,0.08,0.0,0.04,0.11,0.01,0.22,0.05,0.0,0.02,0.06,0.35,4.34,0.0,0.41,0.0,0.0,0.32,0.01,0.04,0.0,6.76,0.12,0.02,0.03,0.0,0.44,0.0,0.63,0.26,0.05,0.21,2.42,0.11,0.01,0.72,0.11,0.03,0.0,1.09,0.04,0.26,0.0,0.0,0.0,0.16,0.26,3.5,0.16,0.44,0.04,0.24,0.28,2.71,0.1,0.02,0.3,0.35,0.0,0.46,0.33,0.0,0.16,0.04,0.03,0.0,0.0,1.27,0.99,0.04,0.02,0.0,0.25,1.43,0.23,0.02,0.29,0.08,0.27,0.03,0.11,0.15,0.25,0.74,0.71,0.14,1.32,0.4,0.0,0.0,0.01,0.2,0.37,0.0,1.76,0.0,0.22,0.06,1.08,0.02,0.0,0.02,4.26,0.52,0.06,0.08,0.0,0.15,0.33,0.12,0.02,0.02,0.07,0.18,0.0,0.07,0.0,0.0,0.81,0.24,0.0,0.0,0.88,0.31,0.0,0.49,0.11,0.19,0.23,0.0,0.0,0.07,0.07,0.01,0.1,0.01,1.65,0.0,0.43,0.04,0.21,0.08,0.0,0.04,0.93,0.1,0.0,0.14,0.0,0.43,0.0,0.15,0.73,0.04,0.0,0.05,0.05,0.44,0.04,0.08,0.01,0.0,0.26,0.42,1.48,0.0,0.13,0.0,0.3,0.0,0.0,0.45,0.02,0.17,0.0,0.06,1.14,0.2,0.04,0.96,0.2,0.06,0.13,0.97,0.06,1.96,0.65,0.0,0.18,9.03,0.01,0.11,0.16,0.23,0.89,0.2,26.93,0.0,0.26,0.12,0.23,0.0,0.04,0.0,0.0,0.18,0.07,0.0,0.08,0.11,0.0,0.0,0.35,0.0,0.17,0.27,2.11,0.06,0.0,0.0,0.17,0.31,0.58,0.33,0.47,0.06,0.2,0.0,0.04,0.0,0.16,0.11,0.03,0.38,0.0,0.05,0.15,0.04,0.0,0.0,0.01,0.07,0.0,0.33,0.0,0.09,0.07,0.18,0.27,0.08,0.45,0.0,0.09,0.94,0.07,0.1,0.39,0.0,0.06,0.0,0.02,0.04,0.24,0.05,0.14,0.0,0.06,0.0,0.16,0.15,0.29,0.41,0.09,0.02,1.15,0.14,0.06,0.0,0.08,0.05,0.0,0.03,0.04,0.06,0.03,0.19,0.72,0.0,0.19,0.0,0.0,0.0,0.19,0.01,0.5,0.08,0.02,0.02,0.16,0.0,0.2,0.01,0.22,0.39,0.15,0.04,0.9,0.0,0.0,0.0,0.0,0.0,0.26,0.08,0.86,0.0,0.0,0.0,0.0,0.08,0.28,0.08,0.17,0.04,0.2,0.02,0.0,0.07,0.0,0.06,0.1,0.0,0.0,0.0,0.19,0.0,0.17,0.17,0.02,0.45,0.06,0.19,0.43,0.0,0.09,0.0,0.04,0.21,0.02,0.18,0.29,0.07,0.29,0.05,0.0,0.24,0.03,0.0,0.3,0.6,0.25,0.2,1.45,0.14,0.2,0.0,0.0,0.02,0.0,0.08,0.22,0.02,1.06,0.0,0.01,0.0,0.55,0.51,0.21,0.11,0.99,0.51,0.08,0.0,0.13,0.0,0.45,0.05,0.0,0.0,0.23,0.0,0.0,0.18,0.0,0.25,3.38,0.11,0.29,0.0,0.2,0.04,3.54,0.01,0.0,0.04,0.12,0.08,0.81,0.0,2.31,0.0,0.0,0.0,0.0,0.13,0.02,0.11,0.22,0.06,0.31,0.24,0.14,0.06,0.07,0.02,0.55,0.1,0.08,0.5,0.03,0.02,0.04,0.06,0.54,0.08,0.0,1.2,0.0,0.02,0.37,0.46,0.0,0.0,0.0,0.01,0.14,0.04,0.28,0.15,0.0,0.0,0.15,0.0,0.2,0.0,0.04,0.36,0.44,0.2,0.16,0.0,1.01,0.01,0.01,0.0,1.69,0.0,0.0,0.04,0.44,0.01,0.07,0.67,0.85,0.0,1.06,0.04,0.77,0.0,0.0,0.06,0.01,0.55,0.02,0.01,0.15,0.32,0.11,0.04,0.08,0.0,0.31,0.0,0.13,0.06,0.4,0.07,1.29,0.21,0.08,0.1,0.06,0.0,0.0,0.01,0.03,0.47,0.11,0.17,0.5,0.07,0.19,1.22,0.0,0.07,0.19,0.25,0.04,0.18,0.27,0.0,0.66,0.23,0.69,0.04,0.05,0.0,0.0,0.27,0.14,0.0,0.84,1.03,0.0,0.01,1.48,1.57,1.06,0.0,0.0,0.0,0.34,0.0,0.0,0.04,2.33,0.21,0.17,0.91,0.0,0.0,0.0,0.5,1.02,0.0,0.08,0.22,1.39,0.0,0.71,0.72,0.0,0.14,2.57,0.2,0.03,0.24,0.0,0.41,0.13,0.08,0.0,0.04,0.0,0.28,1.01,0.36,0.0,0.2,0.07,0.31,0.0,0.45,0.0,0.05,0.03,0.0,0.09,0.17,0.14,0.42,0.0,0.08,0.13,0.07,0.0,0.2,0.0,4.79,0.6,0.14,0.19,0.36,0.11,0.0,0.09,0.01,0.5,0.04,0.0,0.0,0.36,0.44,0.05,0.03,0.31,0.07,0.0,0.1,0.12,0.11,0.73,0.24,0.13,0.42,0.02,2.31,0.0,2.75,0.01,0.24,0.19,0.52,0.01,0.12,0.0,0.1,0.2,0.12,0.0,0.0,0.6,0.0,0.0,0.09,0.17,0.43,0.0,0.0,0.0,0.13,0.53,0.1,0.0,0.0,0.0,0.0,0.03,0.06,0.0,0.51,0.28,0.23,0.13,0.09,0.1,0.04,0.79,0.0,0.03,0.38,0.0,0.0,0.08,0.48,0.09,0.22,0.0,0.0,0.28,0.0,0.0,0.05,0.12,1.2,0.0,0.35,0.0,0.03,0.0,0.04,0.13,0.0,0.46,0.61,0.06,0.13,0.18,0.0,0.0,0.06,2.03,0.38,0.1,0.24,0.36,0.04,0.02,0.03,0.05,0.0,0.2,0.73,0.39,0.0,0.14,0.15,0.06,0.14,0.0,0.0,0.14,0.02,0.0,0.24,0.07,0.1,0.0,0.0,0.61,0.32,0.17,0.0,0.19,0.03,0.0,0.36,0.2,0.11,0.02,0.3,0.0,0.06,0.11,0.12,0.33,0.94,0.18,0.07,0.15,0.0,0.18,0.02,0.33,0.0,0.0,0.0,0.05,0.0,0.0,0.13,6.91,0.0,0.22,0.51,0.01,0.14,0.04,0.0,0.51,0.0,0.0,0.02,0.0,0.0,0.15,0.02,0.0,0.0,0.02,0.0,0.03,0.19,1.65,0.67,0.0,0.11,0.84,0.0,0.11,0.7,0.0,0.31,0.12,0.52,0.4,0.34,0.15,0.39,0.15,0.18,0.14,0.57,0.07,0.0,0.11,0.2,0.07,0.58,0.22,0.0,0.08,0.24,0.32,0.37,0.0,0.0,0.0,0.0,0.08,0.24,0.18,0.0,0.0,1.92,0.0,0.0,0.0,0.0,0.25,0.12,0.32,0.0,0.03,2.06,0.12,1.22,0.1,0.49,0.0,0.1,0.81,0.0,0.0,0.0,0.0,0.05,0.14,0.08,0.0,0.04,0.0,0.24,0.07,0.91,0.22,0.04,1.07,0.91,0.11,0.0,0.05,0.13,0.0,0.05,0.04,0.48,0.05,0.06,0.0,0.24,0.04,0.22,0.78,0.1,2.55,0.0,0.46,0.0,0.03,0.0,0.43,0.06,0.13,0.29,0.05,0.07,0.0,0.53,0.1,0.21,0.09,0.0,0.0,0.03,0.09,0.0,0.0,0.47,0.05,0.06,0.46,0.05,0.11,0.04,0.0,0.0,0.0,0.49,0.46,0.0,0.0,0.36,0.0,0.31,0.0,0.04,0.0,0.89,0.14,0.0,0.24,1.34,0.0,0.03,0.0,0.04,0.02,0.1,0.0,1.83,1.13,0.11,0.13,0.62,0.0,0.06,0.19,0.17,0.09,0.05,0.46,0.03,0.21,0.0,0.43,0.58,0.0,0.07,0.0,0.13,0.03,0.17,0.38,0.13,0.08,0.0,0.52,0.24,0.0,0.03,0.13,0.08,0.01,0.02,0.04,0.08,0.0,0.23,0.94,0.27,0.52,0.11,3.44,0.95,0.05,1.16,0.0,0.37,0.15,0.31,0.27,0.37,0.01,0.0,0.04,0.8,0.04,0.14,0.03,0.0,0.59,0.0,1.42,0.01,0.4,0.07,0.06,0.0,0.0,0.0,0.01,0.85,0.0,0.0,0.0,0.0,0.0,0.07,0.0,0.11,0.18,0.2,0.08,0.0,0.29,0.12,0.03,0.23,0.0,0.2,0.46,0.0,0.0,0.03,0.01,0.25,1.0,0.02,1.05,0.0,0.0,0.18,0.0,0.01,0.0,0.0,0.07,0.0,0.48,1.66,0.87,0.05,0.04,0.0,0.02,0.79,0.13,0.0,0.21,0.3,1.53,0.0,0.02,0.43,0.27,0.05,1.59,2.07,0.04,0.0,0.01,0.23,0.11,0.43,0.56,0.11,0.19,0.26,0.0,0.13,0.0,1.46,3.28,0.0,0.01,0.08,0.0,1.44,0.21,0.03,0.39,0.11,2.67,0.06,0.01,0.03,0.1,0.02,0.35,0.63,0.0,0.1,0.08,0.13,0.0,0.09,0.35,0.28,0.14,0.0,0.0,0.74,0.14,0.01,0.0,0.0,0.03,0.21,0.01,0.0,0.0,0.15,0.06,0.02,0.01,0.14,0.01,0.0,0.1,0.08,0.29,0.1,0.0,0.58,0.11,0.0,0.04,0.34,1.91,0.0,41.49,0.34,0.0,0.0,0.0,0.09,0.0,0.0,0.73,0.0,0.0,0.54,0.0,0.0,0.02,0.0,0.02,0.15,0.0,0.0,0.07,2.38,0.0,0.11,0.08,0.06,0.34,0.86,0.24,0.1,0.33,0.17,0.19,1.38,0.0,0.0,0.0,0.37,0.03,0.19,0.06,0.15,0.0,0.3,0.0,0.0,0.44,0.01,0.04,0.47,0.0,0.0,0.04,0.0,0.03,0.0,0.29,0.88,0.02,0.72,0.21,0.54,0.04,0.31,0.59,0.0,0.0,0.1,0.11,0.0,0.0,0.0,0.21,0.0,0.0,0.01,1.06,0.0,0.11,0.15,0.0,1.63,0.0,0.55,0.1,0.05,0.09,0.87,0.04,0.0,1.87,0.76,0.19,0.92,0.46,0.02,0.0,0.01,0.0,0.0,0.14,0.14,0.04,1.15,0.01,0.0,0.03,0.05,0.04,0.41,1.37,3.81,0.09,0.07,0.87,0.07,0.25,0.0,2.91,0.25,0.08,0.11,0.12,0.69,0.0,0.07,0.0,0.03,1.33,0.11,0.52,0.07,0.0,0.33,0.02,0.08,0.09,0.09,0.67,0.06,0.07,0.01,0.05,0.07,0.01,0.06,0.13,0.0,0.02,0.26,0.0,0.22,0.84,0.06,0.08,0.34,0.24,0.0,0.26,0.17,0.16,0.19,0.0,0.64,0.13,0.15,0.24,0.03,0.08,0.16,1.6,0.0,0.21,0.45,0.15,0.0,1.18,0.08,0.58,0.1,0.0,0.0,0.07,0.0,0.0,0.57,0.09,0.29,0.23,0.0,0.99,0.0,0.15,0.0,0.24,0.1,0.0,0.0,0.0,0.26,0.18,0.29,0.07,0.06,0.11,0.0,0.0,0.06,0.34,0.17,0.31,0.18,0.0,0.07,4.01,0.1,0.0,0.23,0.0,0.21,0.0,0.0,0.0,0.07,0.19,0.19,0.04,0.18,0.08,0.16,0.0,0.02,0.0,0.18,1.89,0.24,0.02,0.99,0.0,0.17,0.12,0.28,0.26,0.02,0.08,0.01,0.0,0.36,0.47,0.08,0.0,0.45,0.38,0.05,0.09,0.04,0.87,0.09,0.0,0.12,0.32,0.28,2.55,0.04,0.07,0.0,0.0,0.0,0.0,0.05,0.05,0.0,0.05,0.26,0.6,0.04,0.52,0.04,1.64,2.64,0.49,0.0,0.0,1.47,0.1,0.04,0.04,0.25,0.0,0.03,0.0,0.0,0.14,0.0,0.1,0.22,0.0,0.17,0.5,0.09,0.0,0.09,0.05,0.01,0.0,0.0,0.17,0.74,0.12,0.01,1.16,0.96,0.67,0.85,0.0,0.12,0.0,0.07,0.0,0.32,0.38,0.11,0.08,0.6,0.0,0.01,0.14,0.22,0.0,2.35,0.16,0.0,2.9,0.0,0.0,1.44,0.19,0.15,0.0,0.27,0.0,0.04,0.36,0.06,0.0,0.19,0.07,0.19,0.33,0.0,0.17,0.08,0.27,0.33,0.03,0.15,1.07,0.12,0.07,0.07,0.09,0.1,0.11,0.04,0.0,0.45,0.0,0.0,0.02,0.0,0.0,0.0,0.0,0.08,0.21,0.01,0.23,0.02,0.09,0.0,0.09,0.08,0.95,0.17,0.19,0.0,0.13,0.59,0.04,0.25,0.07,0.04,0.0,0.0,0.44,0.0,2.13,0.32,0.03,0.14,0.32,0.0,0.0,0.18,0.0,0.24,0.36,0.0,0.1,0.2,0.12,0.3,0.0,1.19,0.1,2.49,0.22,0.0,0.07,0.45,0.0,0.15,0.0,0.07,0.07,0.2,0.13,0.0,0.05,0.05,0.0,0.0,0.16,0.05,0.01,0.34,1.22,0.03,0.65,0.06,0.13,0.82,0.0,0.08,1.2,0.64,0.1,0.15,0.17,0.0,0.08,0.0,0.0,0.0,0.0,0.72,0.09,0.1,1.07,0.07,0.02,0.03,0.18,0.55,0.08,1.01,0.07,0.04,0.22,1.37,0.07,0.0,0.48,0.0,0.42,0.25,0.02,0.13,0.04,0.05,0.12,0.08,0.87,2.19,0.0,0.0,0.24,0.04,0.99,0.12,0.29,0.01,0.0,0.39,0.07,0.36,0.1,0.0,0.82,0.32,0.05,0.08,0.77,0.0,1.22,0.38,0.04,0.0,0.21,0.45,0.0,0.0,0.0,0.0,0.0,0.16,0.36,0.62,0.0,0.17,0.0,0.01,0.15,0.08,0.0,0.03,0.0,0.19,0.0,0.04,0.03,0.0,0.0,0.04,0.03,0.0,0.0,0.0,0.6,0.65,0.0,0.0,0.01,0.17,0.72,0.1,0.0,0.2,0.0,0.18,0.0,0.0,1.41,0.0,0.0,0.07,0.13,0.01,0.0,0.02,0.36,0.26,0.0,0.05,0.19,0.03,0.0,0.15,0.07,0.37,0.15,0.03,0.95,0.24,0.04,0.0,0.0,0.04,0.0,0.14,0.45,0.53,0.06,0.0,0.0,0.0,0.03,0.46,3.8,0.26,0.05,0.12,0.0,0.0,0.0,0.04,0.0,0.32,0.45,0.26,0.0,0.5,0.0,0.29,0.04,0.0,0.06,0.23,0.59,0.08,0.03,0.0,0.02,0.1,0.06,0.02,0.16,1.2,0.01,0.59,0.04,0.0,0.1,0.81,0.2,0.14,0.01,0.27,0.02,0.08,0.06,0.06,0.0,0.02,0.17,0.01,0.02,0.69,0.03,0.0,0.16,0.3,0.12,0.04,0.02,0.0,0.8,0.02,0.0,0.1,0.83,0.12,0.19,0.0,0.07,0.09,0.0,0.02,0.05,0.0,0.0,0.46,0.07,0.04,0.32,0.08,0.06,0.0,0.68,0.08,0.62,0.0,0.0,0.28,0.21,0.08,0.05,0.41,0.11,0.0,0.02,0.0,0.01,0.0,0.0,0.0,0.36,0.08,0.48,0.05,0.0,0.28,0.0,1.4,0.51,0.0,0.0,0.14,0.0,0.0,0.27,0.13,0.0,0.02,0.61,0.21,0.0,0.04,0.01,0.0,0.02,0.14,0.33,0.05,0.14,0.01,0.09,0.85,0.22,0.03,0.33,0.16,0.24,0.41,0.0,0.02,0.12,0.08,0.1,0.0,0.0,0.0,0.51,0.19,0.05,2.26,0.12,0.0,0.07,0.12,0.88,0.27,0.0,0.0,0.0,0.02,0.09,0.05,0.0,0.07,0.14,0.0,0.0,0.04,0.22,0.2,0.11,0.45,0.0,0.0,0.44,0.07,0.15,0.0,0.35,0.0,0.0,0.0,0.0,0.04,0.71,0.06,1.59,0.02,0.08,0.31,0.39,0.18,0.09,0.11,0.0,0.01,0.0,0.0,0.0,0.01,0.04,0.0,0.02,0.27,0.16,0.0,0.0,0.0,0.04,0.09,0.03,0.0,0.11,0.14,0.68,0.09,0.19,0.08,0.43,0.04,0.0,0.06,0.0,0.0,0.0,0.43,0.0,0.0,0.12,0.2,0.33,0.0,0.0,0.0,0.0,0.15,0.04,0.12,0.14,0.0,0.08,0.17,0.0,0.0,0.04,0.0,0.0,0.12,0.01,0.02,0.04,0.05,0.06,0.0,0.01,1.48,0.08,0.0,0.13,0.0,0.68,0.02,0.0,0.0,0.08,0.04,0.07,0.44,0.42,0.03,0.03,0.23,0.16,0.04,0.02,0.25,0.02,0.05,0.61,0.56,0.03,0.02,0.0,0.12,0.0,0.2,0.02,0.15,0.06,0.47,0.04,0.24,0.52,0.03,0.03,0.12,0.46,0.0,0.0,0.06,0.0,0.24,0.06,0.08,0.0,0.66,0.34,1.08,0.0,0.0,0.0,0.19,0.08,1.67,0.03,0.35,0.1,0.06,0.0,0.0,0.0,3.54,0.35,0.03,0.96,0.06,0.02,0.07,0.07,0.17,0.06,0.0,0.47,0.12,0.47,0.23,0.11,0.0,0.03,0.46,0.02,0.0,0.15,0.06,0.79,0.0,0.0,0.01,0.0,0.05,0.83,0.0,0.0,0.05,0.65,0.04,0.0,0.0,0.02,0.1,0.01,0.22,0.06,0.58,0.32,0.18,0.0,0.04,0.0,0.0,0.2,0.0,0.15,0.13,0.2,0.0,0.02,0.22,0.27,0.04,0.29,0.2,0.02,0.01,0.08,0.24,0.0,0.05,0.0,0.0,0.22,0.0,0.0,0.04,0.0,0.04,0.11,0.94,0.0,0.05,1.58,0.27,0.08,0.02,0.0,0.07,0.25,0.0,0.03,0.39,0.0,0.89,0.01,0.03,0.07,0.18,0.0,0.09,0.26,0.08,0.52,1.89,0.0,0.0,0.12,0.05,0.02,0.02,0.13,0.05,0.1,0.0,0.11,0.05,0.0,0.05,0.05,0.08,0.72,0.35,0.04,0.32,8.41,0.2,5.55,0.0,0.1,0.13,0.28,6.75,0.0,0.0,0.13,0.68,0.14,0.59,0.13,0.2,0.18,0.02,0.0,0.0,0.0,1.22,0.4,0.01,0.1,0.38,0.33,0.01,0.29,0.19,1.33,0.05,0.13,0.14,0.28,0.0,0.31,0.0,0.04,0.08,0.42,0.03,0.01,0.15,0.0,0.03,0.34,0.0,0.04,0.3,1.03,0.28,0.0,0.27,0.02,0.07,0.0,0.01,0.02,0.12,0.06,0.22,0.68,0.2,0.13,0.04,0.11,0.09,0.07,0.3,0.0,0.0,0.21,0.86,0.0,0.07,0.17,0.04,0.0,0.47,2.91,0.02,0.18,0.05,0.0,0.0,0.0,0.0,0.0,0.0,0.01,0.0,0.12,0.02,0.08,0.89,0.0,0.23,0.37,0.07,0.33,0.96,0.07,0.09,0.01,0.0,0.09,0.11,0.61,0.47,0.0,0.1,0.0,0.0,0.13,0.0,0.24,0.0,0.06,0.24,0.11,0.96,0.08,0.86,0.16,0.0,0.44,0.03,0.04,0.05,0.04,0.02,0.43,0.11,0.25,0.0,0.0,0.05,0.16,0.17,0.06,0.0,0.1,0.19,0.06,0.6,0.16,0.03,0.3,0.12,0.0,0.0,9.09,0.06,0.37,0.0,1.63,1.89,0.02,0.13,0.29,0.11,0.0,0.0,0.12,0.01,0.03,0.01,0.1,0.11,0.0,2.38,0.0,0.04,0.1,0.02,0.0,2.45,0.0,0.06,0.0,0.06,0.4,0.14,0.29,0.15,0.0,0.05,0.02,0.0,0.07,0.0,0.04,0.25,0.2,0.03,0.06,0.02,0.04,0.02,0.75,0.05,0.2,0.24,0.0,0.03,0.18,0.37,0.0,0.0,0.09,0.0,0.04,0.0,0.02,0.0,0.17,0.0,0.06,2.25,0.01,0.03,0.17,0.18,0.11,0.0,0.0,0.09,0.05,2.2,0.0,0.45,0.0,0.45,0.0,0.01,0.07,0.18,0.01,2.67,1.1,0.0,0.25,0.05,0.09,0.12,0.73,0.58,0.66,0.0,1.9,0.19,0.0,0.43,0.07,0.0,0.9,0.0,0.21,0.49,1.3,0.01,0.08,0.34,0.18,0.01,2.06,0.13,0.0,0.12,0.03,0.0,0.0,0.13,0.05,0.06,1.27,0.0,0.0,0.33,0.35,0.05,0.01,0.03,0.08,0.23,3.27,0.03,0.09,0.33,0.0,0.19,0.09,0.0,0.24,0.41,6.42,0.41,0.05,0.07,0.09,0.11,0.93,0.25,0.08,0.43,0.02,0.61,0.0,0.01,0.0,0.0,0.0,0.0,0.0,0.06,0.72,0.48,0.17,0.16,0.77,0.43,0.0,0.31,1.24,0.13,0.13,0.0,0.22,0.09,0.1,0.08,0.11,0.24,0.67,0.02,0.19,0.0,0.32,0.03,0.04,0.03,0.03,0.72,0.11,0.13,0.0,0.13,0.16,1.79,0.23,0.64,0.16,0.0,0.0,0.05,0.01,0.84,0.16,0.07,0.0,0.67,0.0,0.67,0.15,0.49,0.53,0.08,0.32,0.14,0.21,0.07,0.0,0.0,0.01,0.08,0.0,0.11,0.85,0.06,0.49,0.1,0.08,0.08,0.05,0.42,0.0,1.41,0.11,0.62,0.0,0.0,0.21,0.72,0.4,0.0,0.19,0.17,0.0,0.4,0.18,0.03,0.78,0.06,0.53,0.71,0.0,0.05,0.0,1.23,1.19,1.27,0.27,0.71,0.0,0.03,0.03,0.16,0.11,0.0,0.09,0.61,0.06,0.07,0.46,0.14,0.0,0.53,0.08,0.0,0.37,0.23,0.14,0.09,0.0,0.1,0.06,0.0,0.06,0.17,0.0,0.02,0.02,0.13,0.0,0.03,0.0,0.0,0.0,0.14,0.03,0.03,0.0,0.0,0.0,0.11,1.88,2.28,0.19,0.01,0.02,3.13,0.0,0.08,0.63,0.14,0.0,0.28,0.0,0.02,0.29,0.26,0.21,0.04,0.0,0.78,0.12,0.06,0.09,0.0,0.03,0.06,0.09,0.94,0.04,0.18,0.0,0.0,0.16,0.12,0.0,0.0,0.0,0.01,0.63,0.12,0.03,0.0,1.43,0.16,0.22,0.07,0.44,0.97,0.09,0.02,0.03,0.18,0.0,0.05,0.2,0.14,0.41,0.0,1.07,0.15,0.04,0.21,0.06,0.0,0.59,0.0,0.0,1.02,0.0,0.23,0.11,0.07,0.02,0.0,0.07,0.01,0.23,0.04,0.06,0.0,0.1,0.0,0.07,0.53,0.0,0.0,0.02,0.05,0.17,0.07,0.11,0.02,0.04,0.05,0.1,1.56,0.08,0.22,0.0,0.18,0.16,0.29,0.0,0.0,0.2,0.0,0.11,0.09,0.18,0.52,9.81,0.04,0.0,0.11,0.13,0.04,0.11,0.0,0.06,0.12,0.16,0.63,0.16,0.02,0.19,0.06,0.23,0.9,0.11,0.0,0.0,0.05,0.45,0.25,0.24,0.18,0.0,0.0,0.1,0.19,0.0,0.0,0.07,0.15,0.0,0.0,0.07,0.0,2.07,1.11,0.0,0.27,0.03,0.05,0.69,0.0,0.32,0.0,0.73,0.23,0.0,0.17,0.49,0.0,0.0,0.01,0.09,0.04,1.9,0.03,0.24,0.06,0.1,0.2,0.08,0.71,0.04,0.0,0.13,0.25,0.37,0.06,0.0,0.28,1.73,0.0,0.92,0.01,1.09,0.01,0.0,0.1,0.0,0.0,0.02,0.07,0.18,0.69,0.0,0.2,0.28,0.21,0.06,0.0,0.03,0.21,0.26,0.07,0.65,0.0,0.05,0.09,0.0,0.31,0.12,0.0,0.0,0.0,0.0,0.0,0.16,0.0,1.26,0.23,0.0,0.27,0.06,0.13,0.16,4.05,0.17,0.14,0.22,0.11,1.01,0.11,0.0,1.85,0.04,0.21,0.28,0.0,0.03,0.04,0.02,0.0,0.0,0.04,0.12,0.0,0.21,0.0,0.16,0.08,0.53,0.04,0.34,0.0,0.18,0.0,0.0,0.15,0.01,0.1,0.0,0.16,0.29,0.09,0.16,0.04,0.02,0.03,0.2,0.13,0.07,0.0,0.16,0.0,0.36,0.0,0.7,0.09,0.0,0.0,0.09,0.3,0.02,0.84,0.46,0.0,0.12,0.26,0.0,0.35,0.06,0.39,0.0,0.03,0.3,0.09,0.0,0.01,0.18,0.11,0.08,0.22,0.3,0.0,0.0,0.0,0.06,0.04,0.14,0.02,0.27,0.04,0.26,0.23,0.79,0.03,0.3,0.04,0.13,0.11,0.08,0.27,0.06,0.1,0.37,0.1,0.49,0.05,0.56,0.06,0.89,0.03,0.0,0.0,0.28,0.03,0.06,0.0,0.37,1.15,0.7,0.0,0.08,0.23,5.08,0.0,0.18,0.0,4.12,0.0,0.13,0.07,0.05,0.05,0.0,2.82,0.06,0.13,0.0,0.46,0.11,0.0,0.0,0.08,0.0,0.05,0.42,0.03,0.1,0.0,0.03,0.0,0.11,1.07,0.0,0.06,0.0,0.1,0.25,0.05,0.42,0.74,0.34,0.07,0.22,0.0,0.13,0.13,0.29,0.19,0.09,0.19,0.09,0.0,0.03,0.0,0.01,0.0,0.04,0.0,0.0,0.05,0.29,0.29,0.0,0.09,0.34,0.06,0.06,1.04,0.35,0.07,0.71,0.08,0.03,0.0,0.05,0.19,0.22,0.0,0.11,0.28,0.0,1.04,0.11,1.18,0.19,0.83,0.13,0.07,0.06,0.0,0.0,0.06,0.0,0.62,0.0,0.0,0.0,0.0,0.61,0.0,0.37,0.18,0.21,0.02,0.09,0.0,0.29,0.24,1.54,0.02,0.0,0.07,0.0,0.45,1.86,0.0,0.28,0.54,0.77,0.0,0.12,0.21,0.63,0.0,0.11,0.01,0.0,0.64,0.0,0.96,0.0,0.09,0.09,1.08,0.18,0.0,0.09,0.14,0.0,0.0,2.08,0.17,0.02,0.14,0.07,0.12,0.26,1.03,0.02,0.02,0.06,0.23,0.0,0.0,0.11,0.78,0.0,0.16,0.0,0.05,0.06,0.14,0.21,0.31,0.11,0.79,1.34,0.0,0.02,0.08,0.15,0.0,0.0,0.0,0.07,0.1,0.0,0.0,0.1,0.21,0.04,0.0,0.07,0.05,0.06,0.09,0.14,0.04,0.0,0.0,0.11,0.18,0.06,0.06,0.03,3.22,0.04,0.22,0.13,0.0,0.9,0.07,0.66,0.14,0.18,0.0,1.87,0.34,0.01,0.09,0.0,0.88,0.0,0.06,0.96,0.95,0.42,0.19,0.03,0.26,0.0,0.0,0.39,0.2,0.12,0.11,0.07,0.0,0.09,0.07,0.21,0.03,0.2,0.06,0.11,0.3,0.2,1.25,0.0,0.72,0.1,0.0,0.32,0.69,0.14,0.01,0.09,0.09,0.12,0.26,0.05,0.03,0.09,7.03,0.04,0.0,0.0,0.09,0.0,0.36,0.29,0.0,0.0,0.13,0.18,0.29,0.0,0.11,0.07,0.1,0.02,0.07,0.0,0.0,0.1,0.15,0.31,0.09,0.25,0.24,0.05,0.19,0.0,0.2,0.17,0.08,0.09,0.01,0.07,0.05,0.0,0.0,0.1,0.15,0.0,0.17,0.14,0.11,0.25,0.0,0.05,0.03,0.0,1.18,0.02,0.09,0.67,0.09,0.0,0.38,0.17,0.0,0.07,0.01,0.21,0.36,0.36,0.0,2.05,0.03,0.19,0.11,0.01,0.0,0.19,0.0,0.0,0.55,0.31,0.0,0.77,0.01,0.26,0.11,0.1,0.0,0.05,0.4,0.0,0.07,0.1,0.45,1.81,0.0,0.0,0.48,0.11,0.0,0.79,0.53,0.05,0.19,0.06,0.16,0.01,0.02,0.88,0.57,0.29,0.33,0.03,0.0,0.03,0.06,0.82,1.28,0.91,0.06,0.78,0.03,0.62,0.04,0.04,0.06,0.0,0.0,0.0,0.43,0.05,0.07,0.05,1.47,0.14,0.03,0.0,0.07,0.47,0.0,0.0,0.0,0.75,0.19,0.51,0.31,0.21,0.33,0.06,0.09,0.03,0.18,0.0,0.0,0.11,0.21,0.01,0.14,0.15,0.01,0.0,0.07,0.0,0.02,0.73,0.0,0.63,2.01,0.1,0.04,0.02,0.95,0.03,0.05,0.12,0.93,0.0,0.04,0.18,0.2,0.08,0.13,0.0,0.0,0.08,0.12,0.29,0.06,0.03,0.45,0.03,0.05,0.24,3.81,0.33,0.0,0.06,0.18,0.0,0.0,0.09,0.0,0.05,0.05,0.14,0.0,0.49,0.01,0.22,0.07,0.04,0.09,0.16,0.01,0.13,0.0,0.12,0.1,0.04,0.0,0.03,0.94,0.11,0.37,2.56,0.0,0.19,1.44,0.0,0.35,0.03,0.0,0.0,0.09,0.08,0.0,0.01,0.14,0.06,0.37,0.11,0.01,0.0,0.29,0.0,0.15,0.0,0.0,0.08,0.37,0.01,0.13,0.06,0.39,0.02,0.0,0.08,0.08,0.08,0.71,0.0,0.07,0.17,0.07,0.0,0.11,0.1,0.02,0.06,0.02,0.09,0.01,0.16,0.19,0.0,0.0,5.89,0.0,0.01,0.0,0.14,0.03,0.0,0.0,0.02,0.06,0.21,0.18,1.33,0.53,0.03,0.31,1.0,0.0,2.03,0.11,0.03,0.09,0.19,0.0,0.0,0.03,0.0,0.0,4.09,0.51,0.17,0.25,0.46,0.16,0.23,0.19,0.0,0.16,0.09,0.02,0.0,0.0,0.08,0.0,0.0,0.0,0.04,0.69,0.0,0.01,0.0,0.0,0.0,0.0,0.17,0.13,0.31,0.0,0.0,0.13,0.64,0.0,0.06,0.1,0.0,0.08,1.07,0.0,0.04,0.13,0.15,0.0,0.0,0.34,1.93,0.0,0.0,0.17,0.29,0.0,0.0,0.11,0.0,0.0,0.17,0.01,0.0,0.23,0.0,0.0,0.07,0.0,0.02,0.18,0.02,0.06,0.0,0.0,0.06,0.0,0.55,0.3,0.0,0.01,0.13,0.0,0.0,0.1,0.06,0.62,0.0,0.0,0.21,0.39,0.74,0.0,0.36,0.0,0.0,0.0,0.13,0.0,0.19,0.0,0.0,0.0,0.32,0.27,0.09,0.0,0.04,0.59,0.0,0.04,0.15,0.1,0.16,0.17,0.17,0.0,0.62,0.14,0.11,0.58,1.56,0.11,0.0,0.09,0.99,0.01,0.0,0.1,0.28,2.13,0.0,0.0,0.73,0.0,0.02,0.03,0.3,0.0,0.42,0.04,0.38,0.09,0.06,0.03,0.16,0.0,0.0,0.26,0.02,0.36,0.09,0.02,0.26,0.0,0.13,0.1,0.1,0.12,1.07,0.01,0.17,1.41,0.12,0.57,0.01,0.36,0.2,1.14,0.04,0.46,1.62,0.0,0.07,0.0,0.0,0.09,0.07,0.0,0.04,0.01,0.07,0.0,0.0,0.24,0.2,0.05,0.35,0.0,0.14,0.04,0.13,0.0,0.32,0.11,0.08,0.02,0.15,0.99,0.08,0.0,0.03,0.2,0.11,0.0,0.0,0.0,0.08,0.0,0.35,3.4],\"xaxis\":\"x\",\"y\":[0.02,0.02,0.02,0.2,1.85,0.07,0.02,0.11,0.4,0.42,0.57,0.4,3.12,0.02,0.15,0.53,0.53,0.11,0.21,0.3,0.07,0.8,0.12,0.14,0.71,0.47,0.03,1.95,0.11,0.34,0.02,0.07,0.04,1.28,0.2,0.01,0.27,0.14,0.56,0.08,0.13,0.01,0.04,0.13,0.24,0.52,0.92,0.2,0.62,0.11,0.3,0.03,0.59,0.03,0.06,5.65,0.12,0.17,0.04,0.11,0.05,0.97,0.06,0.72,0.46,0.17,0.68,0.03,0.07,0.14,0.07,0.08,0.4,0.28,0.4,0.04,0.22,0.38,0.44,0.06,1.57,0.13,0.73,0.6,0.02,0.03,0.59,0.37,4.12,0.08,0.03,0.22,0.13,0.1,0.3,1.09,0.15,1.93,0.41,0.99,0.14,0.06,0.06,0.16,0.05,0.04,0.01,0.01,0.02,0.77,0.02,0.2,0.1,1.93,1.2,1.12,0.35,0.12,0.17,0.49,0.76,2.94,0.62,0.26,0.51,0.61,0.38,0.05,0.03,0.07,0.72,0.11,1.76,0.54,0.27,0.91,0.16,1.55,0.04,0.24,0.16,0.13,0.01,0.92,0.77,0.04,0.02,0.01,3.65,0.23,0.03,0.05,0.1,0.18,0.04,0.02,0.03,0.88,0.05,0.19,0.6,0.27,0.02,0.11,0.13,0.07,0.15,0.13,0.02,1.05,0.02,0.06,0.15,0.04,0.44,0.13,0.03,0.02,1.77,1.2,0.29,0.1,0.02,3.2,0.28,1.28,0.72,0.19,0.02,0.07,0.06,0.11,0.17,0.09,0.08,0.54,1.55,0.02,0.28,0.23,0.01,2.02,0.57,1.29,0.31,0.02,0.15,1.42,0.25,0.06,0.18,1.23,1.22,0.38,0.12,0.28,0.26,0.16,0.14,0.11,0.34,0.73,0.15,0.58,0.22,0.87,0.12,1.64,0.55,0.06,0.02,0.19,0.03,0.61,0.14,0.11,0.13,0.16,0.09,0.14,0.44,1.43,0.41,2.7,0.02,0.04,0.18,1.57,0.22,4.48,0.09,0.04,0.1,0.03,1.67,2.11,4.31,0.13,0.09,0.02,0.31,0.3,0.05,0.01,0.28,0.42,0.02,1.96,0.02,0.03,0.71,0.07,0.52,0.03,0.02,0.63,0.04,0.05,0.19,1.93,0.48,0.38,0.05,0.08,0.08,1.09,0.16,0.14,0.47,0.08,0.81,0.13,0.03,0.03,0.06,0.08,0.03,0.19,0.18,0.46,0.33,0.4,0.64,0.11,1.38,0.42,2.9,0.11,0.45,0.15,0.15,0.21,0.03,1.82,0.79,4.47,0.22,0.17,0.02,0.12,0.02,0.16,0.63,0.76,0.02,0.29,0.18,0.9,0.09,0.02,0.07,0.82,0.93,0.64,0.21,0.02,0.98,0.03,0.62,0.36,0.24,0.09,1.48,0.77,1.52,0.33,0.27,0.19,0.4,0.1,0.13,0.55,0.19,0.27,0.8,0.06,0.02,0.24,0.03,3.19,0.17,0.38,0.46,0.09,0.52,0.58,0.24,0.04,0.02,0.01,1.19,0.16,0.19,0.49,0.09,0.08,8.24,0.15,0.1,0.18,0.28,1.76,0.35,0.22,0.09,0.24,0.54,1.16,0.37,0.23,0.78,0.09,0.11,0.02,0.04,0.2,0.18,1.15,0.24,0.21,0.15,1.94,1.05,3.53,0.02,0.21,0.75,0.02,0.67,0.06,0.03,4.47,0.05,0.1,0.91,0.59,0.24,0.16,0.12,0.03,0.06,0.17,0.33,0.1,0.54,1.67,0.12,0.04,0.02,0.38,0.02,0.32,0.06,0.01,0.06,0.4,0.13,0.85,0.03,0.04,40.24,0.05,0.26,0.02,0.02,0.05,0.42,0.26,0.06,0.08,0.16,0.56,0.35,0.03,1.28,0.02,0.02,0.14,2.71,0.07,0.15,0.03,0.18,0.76,1.07,0.06,0.69,0.13,0.22,0.07,1.9,0.02,0.02,0.22,0.27,0.05,0.56,0.2,0.65,0.11,0.04,0.05,1.41,0.79,0.06,0.79,0.71,0.62,3.42,0.26,0.01,0.02,0.02,1.62,0.36,0.96,0.02,0.17,0.02,0.02,0.06,0.35,0.3,0.3,0.05,0.08,0.37,0.02,0.1,0.51,2.3,0.11,1.47,0.1,0.01,0.34,0.01,0.24,0.24,0.17,0.24,0.1,0.62,0.01,6.43,0.05,0.29,0.23,0.1,0.01,0.22,2.91,0.02,0.69,0.84,0.56,0.29,0.03,0.41,0.97,0.09,0.17,0.98,8.49,0.36,0.04,0.14,0.64,0.24,0.07,0.08,0.01,0.18,0.05,0.04,0.48,0.2,0.02,0.31,0.02,1.52,0.12,0.02,2.98,0.22,0.31,0.03,0.1,0.29,0.11,0.6,0.22,0.18,0.29,0.07,0.86,0.05,4.16,0.07,1.07,0.01,0.17,0.16,0.61,1.17,0.04,0.02,0.03,0.24,0.09,0.01,0.44,1.67,0.52,0.09,0.14,1.21,0.17,0.1,0.07,0.09,0.07,0.01,0.19,0.56,0.09,0.24,0.18,0.09,0.58,0.31,0.1,0.06,0.15,1.37,0.04,0.43,0.21,0.12,0.39,0.67,0.01,0.92,0.48,0.08,0.88,0.14,0.15,1.41,0.03,1.65,0.02,0.27,5.13,0.07,0.02,1.19,0.02,1.26,0.19,0.21,0.02,0.54,3.0,0.08,0.24,0.13,0.08,0.07,0.2,0.01,0.03,0.04,0.07,0.08,0.02,0.03,0.96,0.11,0.32,1.2,5.19,0.48,0.12,0.77,1.36,0.02,0.21,0.03,0.09,0.04,0.28,1.04,0.12,5.99,0.12,0.64,0.56,0.15,0.03,3.52,0.13,1.74,0.41,0.03,0.16,1.77,0.23,0.55,1.61,0.08,0.39,0.23,2.04,0.02,0.05,1.31,0.06,0.05,0.13,0.31,0.01,0.17,4.55,0.01,0.24,0.25,2.2,0.02,0.03,0.05,0.01,0.05,2.29,0.61,0.07,0.14,0.02,3.17,0.41,0.02,0.09,0.36,1.69,1.61,0.64,0.04,2.06,0.36,0.02,1.75,0.68,0.14,0.03,0.62,0.14,0.03,0.05,0.09,0.05,0.14,0.81,1.25,0.13,1.96,0.44,0.02,0.05,0.08,1.8,0.09,0.09,0.03,0.14,0.16,0.25,0.08,7.58,0.94,0.15,0.1,0.06,0.3,0.39,0.48,0.11,0.02,0.38,0.02,0.14,0.05,0.31,0.62,0.27,0.07,0.79,0.09,0.08,0.21,0.08,0.01,0.15,0.07,0.28,0.03,0.75,1.14,0.33,0.24,1.52,0.04,0.02,0.01,5.26,0.68,0.02,0.32,0.21,1.39,0.08,0.03,0.02,0.63,0.07,0.11,0.7,0.66,0.15,0.27,1.67,1.07,0.08,0.03,0.09,0.03,0.2,0.28,0.02,0.27,0.08,0.12,0.19,0.03,0.49,0.13,0.03,0.01,0.37,0.15,0.03,0.03,0.1,0.14,0.63,0.02,0.16,0.23,0.08,0.95,0.02,0.23,0.04,1.86,0.01,0.4,0.32,1.35,0.13,0.02,0.25,1.28,0.05,1.35,0.08,0.11,0.03,0.23,0.32,13.51,0.26,0.71,0.53,0.65,0.32,0.33,0.12,0.04,1.2,0.09,0.21,0.02,0.22,0.02,0.05,0.06,0.23,0.08,0.03,0.77,0.02,0.06,0.02,0.22,0.51,0.05,0.15,0.03,0.01,0.12,0.57,0.05,1.64,0.23,0.79,0.14,0.24,0.05,2.06,0.29,0.62,0.12,0.05,0.16,0.22,6.83,0.02,0.42,0.1,0.07,0.03,0.08,0.1,0.09,0.53,0.54,0.31,0.83,0.38,0.91,0.01,0.12,0.01,0.3,0.05,2.19,5.83,0.1,0.02,0.07,0.07,0.34,0.49,0.31,0.05,0.02,0.05,0.02,0.12,0.15,0.14,0.05,1.01,0.26,0.05,0.28,0.04,0.03,0.02,0.79,0.44,0.52,0.52,0.14,0.19,0.21,0.06,0.4,2.81,0.07,0.14,0.02,0.13,0.19,0.12,0.02,0.05,0.02,0.01,0.13,0.06,1.73,0.01,0.04,0.05,0.5,0.11,0.07,0.03,0.02,0.37,1.31,5.34,0.02,0.01,0.23,0.91,0.11,0.52,0.12,0.02,0.27,0.02,0.12,0.01,0.15,0.54,0.07,0.06,0.06,0.29,0.07,0.02,0.3,0.58,0.98,0.11,0.22,1.04,2.06,0.07,0.23,0.59,0.1,0.53,0.32,0.07,0.12,0.15,0.02,0.07,0.67,0.01,0.08,0.31,0.49,0.03,0.57,0.22,0.45,0.13,0.07,0.19,0.43,0.3,0.06,0.66,0.8,0.06,0.06,0.55,0.2,0.19,0.02,0.16,0.12,0.15,0.06,0.08,0.87,0.95,0.15,0.03,0.02,0.01,0.16,0.03,0.36,0.03,0.11,0.36,0.09,0.03,0.03,0.59,0.82,1.54,0.12,0.04,0.46,0.06,0.08,0.06,4.2,0.23,0.15,0.51,4.84,0.16,0.19,0.08,0.08,0.24,0.2,0.08,0.22,0.09,2.34,0.06,0.03,0.5,0.19,0.02,0.15,0.88,0.03,0.83,0.7,0.05,0.01,0.18,0.14,0.17,0.08,0.22,4.1,1.64,0.19,0.31,5.13,0.18,0.14,0.05,0.04,0.27,0.09,0.02,0.05,0.02,0.01,0.02,0.19,0.42,0.22,0.02,3.69,2.75,1.05,0.14,3.27,0.12,0.23,0.02,0.21,0.01,1.76,0.48,0.23,0.14,0.95,0.41,1.4,1.11,0.02,0.1,1.02,0.13,0.35,1.06,0.53,0.13,0.3,0.1,0.39,0.37,0.11,0.13,0.17,0.7,0.05,0.99,0.78,0.02,0.21,0.04,0.33,0.42,0.41,0.07,0.03,0.03,0.44,0.02,0.11,0.06,0.41,0.04,0.15,1.15,0.28,0.03,0.33,0.2,0.77,0.32,0.6,0.16,0.88,0.06,0.37,1.16,0.15,0.17,0.31,2.36,0.1,1.28,1.1,0.42,0.03,0.14,0.04,0.38,0.02,0.07,0.14,1.19,0.18,0.13,0.54,0.3,1.0,0.04,0.08,0.1,0.02,0.05,0.13,2.83,0.2,0.04,0.19,2.86,0.17,0.03,0.03,0.02,0.46,0.18,0.21,0.42,0.05,0.05,0.09,0.16,0.08,0.08,0.03,0.21,0.76,0.81,0.14,0.03,0.21,0.02,0.18,0.06,1.08,0.19,0.39,11.33,0.31,1.92,0.12,0.82,0.5,0.03,0.15,0.03,0.21,0.42,0.34,1.23,0.25,0.64,0.38,0.15,1.75,0.03,0.19,0.18,0.04,1.63,0.11,0.49,0.26,0.02,0.31,0.3,0.04,0.24,0.12,0.22,1.46,0.09,0.11,0.02,0.1,0.31,0.07,0.06,0.26,0.55,3.63,0.04,0.44,0.05,0.24,0.08,0.89,0.59,0.04,0.18,0.09,0.04,0.11,0.15,0.03,0.26,0.12,0.44,0.03,0.18,0.27,0.06,0.3,6.41,1.37,0.13,0.03,0.25,0.05,0.14,0.88,0.12,0.09,0.07,0.01,0.49,0.26,0.22,4.31,0.09,0.02,0.02,0.07,0.21,1.12,0.13,0.1,0.34,0.25,0.18,0.02,0.04,0.02,0.14,0.17,0.02,0.56,0.74,0.13,0.06,0.15,0.19,0.02,1.2,0.05,0.2,0.11,0.89,0.25,0.01,1.36,0.25,0.07,0.03,1.51,0.78,0.01,0.35,0.13,5.15,0.17,0.49,0.03,0.23,0.06,0.13,0.22,0.19,0.21,0.38,0.3,0.09,0.13,0.14,0.08,0.02,0.02,0.34,0.04,0.57,0.05,0.24,0.51,0.17,0.03,0.44,0.04,0.19,0.3,0.15,0.17,0.11,0.05,0.94,1.08,0.01,0.01,1.04,1.1,0.1,0.45,0.36,0.09,0.9,0.15,0.21,0.41,0.36,0.03,0.06,0.67,0.03,0.02,6.9,0.33,0.25,0.36,0.24,0.4,0.12,0.33,0.12,0.07,0.14,0.3,0.02,0.24,0.05,0.11,1.11,0.02,0.31,0.05,2.67,0.25,0.1,0.01,0.08,3.22,0.31,1.31,0.62,0.2,0.28,0.03,0.13,0.08,4.9,0.02,0.1,0.14,0.17,0.01,0.06,0.22,0.59,0.33,0.05,0.03,0.03,0.22,0.01,1.25,0.58,0.65,0.05,1.12,0.04,0.08,0.22,0.94,0.02,0.16,0.23,0.41,0.31,0.54,0.11,0.05,0.02,0.12,0.09,0.19,0.24,0.06,0.24,0.46,0.21,0.55,0.16,0.36,0.07,0.16,0.02,0.01,1.44,0.4,0.2,0.03,7.27,1.0,0.47,0.02,0.01,0.1,0.01,0.08,0.15,0.17,0.02,0.09,1.7,0.04,0.02,0.26,0.05,0.31,2.58,0.61,0.02,0.2,0.13,0.09,0.22,0.08,0.15,0.01,0.2,0.17,0.5,0.09,0.03,0.29,0.1,0.06,0.1,0.47,0.05,0.15,2.37,0.67,0.25,0.06,0.17,0.27,0.4,0.48,0.13,2.62,0.06,0.03,0.89,1.0,0.08,0.11,0.01,0.15,2.36,3.92,0.06,0.82,2.77,0.11,0.05,0.04,0.16,0.01,2.1,0.03,0.62,0.14,0.04,0.19,0.01,0.03,0.05,0.5,0.14,0.67,0.05,0.93,0.39,0.4,0.75,0.29,0.17,0.17,0.42,0.5,0.48,0.02,0.97,0.33,0.04,0.19,0.02,0.03,0.85,0.38,0.09,0.18,0.27,1.19,0.43,0.25,0.1,0.9,0.01,0.12,0.08,1.54,0.42,0.83,0.04,0.14,0.02,0.02,0.26,0.8,0.09,0.19,0.01,0.21,0.06,0.01,0.4,0.39,1.17,0.02,0.11,0.03,0.59,0.33,3.18,0.08,0.63,0.33,0.34,0.3,0.87,0.27,0.23,0.51,1.24,0.03,0.45,0.09,0.51,0.22,0.09,0.03,0.09,0.55,0.04,0.05,0.81,0.28,1.55,0.29,0.04,0.14,0.29,0.17,0.07,0.25,0.01,0.28,0.03,0.24,0.19,0.96,1.58,0.46,35.82,0.22,0.42,1.16,0.93,0.36,1.51,0.02,0.17,0.21,1.02,0.21,0.07,0.51,0.5,0.08,0.04,0.09,0.49,0.24,0.02,0.07,0.24,0.22,0.1,0.35,0.03,0.2,0.05,0.04,0.09,0.04,0.27,0.2,0.19,0.04,0.79,0.12,0.01,0.01,0.02,8.49,0.05,0.4,1.01,0.98,0.26,0.36,0.21,0.15,11.66,1.21,0.01,1.19,0.16,0.16,0.06,0.05,0.04,0.28,0.56,0.09,0.05,0.01,0.02,0.14,0.08,0.04,0.02,0.3,33.0,0.02,0.03,0.06,0.02,0.04,0.31,1.21,0.2,0.01,0.58,0.51,0.02,0.04,0.47,1.83,1.34,0.03,0.01,0.37,0.06,0.02,1.54,0.03,0.03,0.41,0.13,12.73,0.4,0.02,0.03,0.07,0.11,0.23,1.63,0.52,0.03,0.59,0.04,0.06,0.1,0.08,0.27,0.12,0.26,0.05,0.46,0.23,10.79,0.03,0.59,0.12,0.14,0.15,0.1,0.03,0.13,0.02,0.78,0.22,0.07,0.18,0.21,0.22,0.14,0.39,0.63,0.21,0.01,0.03,0.18,2.63,0.33,0.03,0.12,0.24,0.09,0.08,1.68,0.09,0.03,0.18,1.35,0.06,0.16,0.05,0.11,0.23,0.61,0.18,0.11,0.3,0.05,0.12,0.15,0.13,0.27,0.23,0.04,0.34,0.01,0.04,0.85,0.07,1.64,0.04,0.92,0.08,0.62,0.01,0.03,0.01,0.12,0.06,0.45,2.16,0.17,0.09,0.04,0.18,0.08,0.03,1.04,0.07,0.03,0.03,0.02,0.21,0.33,0.11,1.33,0.11,0.85,0.05,0.08,0.08,0.11,0.21,0.14,1.5,0.9,0.83,0.08,0.68,0.08,0.02,0.07,5.72,0.28,0.09,0.71,0.02,0.46,0.4,0.38,1.51,0.06,0.05,0.02,0.57,0.03,0.16,0.99,0.17,0.27,0.3,0.1,0.43,0.08,0.16,0.39,0.17,0.13,0.02,2.81,0.09,0.04,0.03,1.08,0.31,0.41,0.41,0.84,0.03,0.13,0.19,0.04,0.1,0.06,0.09,1.15,0.57,0.07,0.94,0.27,0.12,0.07,0.31,0.7,0.92,0.11,0.07,0.41,0.35,0.03,0.02,12.14,0.06,0.45,0.04,0.1,1.31,0.57,0.01,0.88,1.7,0.17,0.58,0.16,0.02,0.1,0.49,1.65,0.48,0.26,1.45,0.02,0.16,0.05,0.23,0.32,0.12,0.01,0.03,0.03,0.01,0.55,0.11,0.08,0.25,3.15,0.06,0.01,0.17,0.07,0.11,0.59,1.06,0.08,0.1,0.01,1.08,0.03,0.97,0.15,0.35,4.68,0.04,0.44,0.08,4.25,2.1,0.47,0.02,0.31,0.18,0.64,0.03,0.19,0.03,1.08,0.03,0.09,1.61,1.61,0.58,0.05,1.75,0.03,0.05,0.1,0.11,0.02,0.04,2.87,0.05,1.28,0.14,3.44,0.28,6.67,0.02,0.04,0.13,0.05,0.05,0.07,0.47,0.63,0.02,0.15,0.02,0.05,0.02,0.39,0.13,0.31,0.49,0.56,0.02,2.38,0.11,0.05,0.07,0.29,0.2,0.65,0.04,0.46,0.15,13.73,0.98,0.19,0.11,0.57,0.02,0.04,0.26,0.17,2.39,0.02,0.21,1.59,0.52,0.03,0.07,0.26,0.57,0.08,0.17,0.27,0.01,0.29,0.01,0.23,0.39,0.09,0.27,0.14,0.72,3.34,0.16,0.62,0.52,0.16,0.05,0.19,0.13,0.22,0.9,0.06,0.13,0.39,0.07,0.19,0.22,0.33,0.17,0.05,0.06,0.06,0.18,0.15,0.92,0.1,0.21,0.39,0.95,0.2,0.06,0.11,0.13,0.31,0.05,0.03,0.13,1.22,0.33,4.24,0.11,0.02,0.05,0.09,0.42,0.55,0.07,1.23,1.81,0.07,0.29,0.07,1.13,0.1,0.05,0.39,0.16,1.21,1.14,3.62,0.05,0.2,0.09,0.07,0.06,0.04,0.74,2.03,0.19,0.34,0.06,0.02,3.09,0.19,0.04,0.12,0.09,0.1,1.41,0.72,0.04,0.04,0.73,0.82,0.05,0.28,0.07,0.1,0.05,0.08,0.16,2.25,0.24,0.13,1.48,0.91,0.45,0.06,0.02,0.05,1.43,0.02,0.14,0.14,1.16,0.88,0.27,0.32,0.02,0.05,0.04,0.15,0.05,0.15,0.15,0.13,1.54,1.86,0.04,0.42,0.73,0.01,0.03,0.35,1.39,0.04,4.21,0.6,0.65,0.04,0.03,0.1,0.09,0.17,0.02,0.53,0.05,0.44,0.4,0.18,0.18,0.31,1.95,0.03,0.06,1.0,0.09,0.02,0.03,0.88,0.67,0.29,0.08,0.18,1.7,0.02,0.04,0.03,0.02,0.08,0.96,0.12,0.8,0.5,0.5,0.16,0.11,0.99,0.42,0.41,0.02,0.05,0.79,0.09,0.05,0.03,0.61,1.16,0.23,0.15,0.29,0.17,0.05,0.04,0.22,0.08,2.54,0.13,0.06,0.3,0.02,0.03,0.18,0.14,0.01,3.54,0.9,0.14,0.21,0.05,0.35,0.12,0.26,1.0,0.02,0.09,0.01,0.01,0.06,2.94,0.62,1.85,0.77,0.27,0.3,0.23,0.15,0.42,0.18,0.01,0.12,0.02,0.06,0.03,0.13,0.24,0.19,0.09,0.03,0.13,0.08,0.19,0.49,0.13,0.2,0.19,0.28,0.02,0.79,0.06,0.24,0.05,0.87,0.87,0.07,0.07,0.82,0.17,0.3,0.2,0.1,0.03,0.25,0.02,1.35,0.05,1.36,0.05,0.75,0.21,0.01,0.37,0.04,0.14,0.06,0.38,0.03,0.02,0.14,0.39,0.16,0.26,0.4,0.16,0.13,0.09,0.03,0.66,0.24,0.02,0.1,1.08,0.07,0.03,0.56,0.08,0.54,0.07,0.29,0.61,0.02,0.29,0.12,0.02,0.22,0.11,0.17,0.03,0.03,0.63,0.09,0.15,1.06,1.1,0.13,1.06,0.51,0.25,0.11,0.16,0.13,0.52,0.89,0.05,0.28,3.9,0.26,0.02,0.02,1.13,0.33,0.01,0.37,0.21,0.07,0.11,0.51,0.07,0.07,0.44,3.0,0.08,0.07,0.23,0.42,0.11,0.04,0.37,0.24,0.11,0.04,1.42,0.35,0.04,0.56,0.87,0.16,0.24,0.34,0.32,0.04,0.65,0.2,0.16,0.14,0.23,0.12,0.03,0.02,0.1,0.07,0.21,0.23,4.6,0.04,0.03,0.13,0.11,0.67,0.18,0.14,0.13,3.49,0.32,0.5,1.41,0.08,0.02,0.14,0.06,0.65,1.78,0.19,0.47,0.05,0.87,0.01,0.18,0.45,0.25,0.06,1.01,2.18,0.61,0.2,0.38,0.37,0.06,0.52,0.78,0.75,2.31,0.03,0.04,0.36,0.55,0.16,0.13,0.03,0.02,0.53,0.48,0.48,0.08,0.78,0.05,3.45,0.22,0.02,0.21,2.04,0.42,0.25,0.36,0.27,0.71,0.11,0.01,0.21,1.05,0.01,1.27,0.36,0.02,0.13,0.8,0.13,0.43,2.78,0.92,1.35,0.2,1.15,0.03,0.36,1.58,0.21,0.45,0.03,0.02,0.57,0.26,0.13,1.17,0.02,0.08,0.04,2.38,0.05,0.29,0.43,1.01,0.85,5.11,0.48,0.07,0.64,1.26,0.45,0.15,0.06,0.19,0.19,1.77,0.01,0.03,0.05,0.04,0.73,0.08,0.01,0.13,0.01,0.19,0.18,1.16,0.27,0.03,0.8,10.26,1.73,0.33,0.1,0.11,0.08,0.06,0.02,1.27,2.79,0.12,0.09,0.11,0.02,0.08,0.14,0.01,0.27,0.14,0.08,0.03,3.5,0.04,0.91,0.11,0.03,0.19,0.12,0.27,0.08,0.45,0.15,0.17,0.05,0.13,0.09,0.22,0.01,0.06,0.15,0.43,0.16,0.42,0.01,0.22,0.11,0.03,0.23,0.58,0.05,0.04,0.03,0.09,0.56,0.06,0.03,0.14,0.53,0.03,0.15,0.03,0.06,0.03,2.2,2.14,0.16,0.57,0.07,0.19,1.25,0.05,0.05,0.43,1.16,0.05,0.06,0.03,1.52,1.77,1.14,4.14,0.04,0.28,0.02,0.12,0.21,0.06,0.04,0.08,0.36,0.14,1.27,0.07,0.43,0.04,0.62,0.02,0.11,0.02,1.45,0.46,0.9,0.06,0.13,0.02,0.11,0.03,0.31,0.15,0.06,6.28,2.9,0.29,0.4,0.2,0.11,0.16,0.03,0.12,0.09,0.3,0.1,0.2,0.02,0.1,5.2,1.4,0.3,0.09,0.06,0.73,0.03,0.1,0.45,2.1,0.15,0.84,0.55,0.27,0.14,4.67,0.18,1.19,0.07,1.13,0.09,1.58,0.06,0.95,0.08,0.02,0.21,0.01,0.02,0.02,0.65,0.02,0.07,0.25,0.08,0.13,1.92,0.37,0.12,0.01,0.09,0.35,0.09,0.89,1.52,0.12,0.45,0.07,0.15,0.39,0.07,0.71,0.01,5.01,1.84,0.19,0.24,0.2,0.11,0.13,0.18,0.03,0.06,0.8,0.09,0.55,0.04,3.16,0.48,0.02,0.04,0.92,0.02,0.05,0.04,0.1,0.48,0.05,0.39,1.07,0.17,0.1,0.04,0.71,0.24,0.08,0.79,0.75,0.14,6.6,0.42,0.46,0.2,0.13,0.12,0.08,0.39,0.28,0.03,0.59,0.2,0.73,2.65,0.21,0.15,0.16,1.09,0.01,1.0,0.14,0.54,0.17,0.72,0.63,0.12,0.51,3.41,0.03,1.25,0.04,10.21,0.72,0.05,0.09,2.4,0.14,0.02,0.06,0.76,1.34,0.06,0.12,0.61,0.76,0.3,0.04,0.6,0.43,0.02,1.53,0.05,0.13,0.46,5.08,0.13,0.43,0.1,0.68,0.05,4.62,0.11,0.78,0.03,0.95,0.18,0.24,0.03,1.08,0.93,0.33,0.04,0.05,0.49,0.06,0.03,0.03,0.02,0.22,0.16,0.04,0.42,0.39,0.17,8.09,0.05,1.16,0.17,1.13,0.36,0.27,28.62,0.21,0.19,0.11,0.22,0.14,0.04,0.21,0.08,0.1,0.01,0.13,0.04,0.01,0.64,0.06,0.03,0.36,0.67,0.05,0.23,2.73,0.13,0.6,0.06,0.3,0.32,0.26,0.11,1.87,0.51,0.39,0.01,0.01,0.02,0.08,0.06,0.09,0.14,0.15,0.12,0.13,1.31,0.12,0.09,0.01,0.02,3.51,0.04,0.06,0.06,0.24,0.05,0.01,0.17,0.02,0.19,0.27,1.29,0.52,1.03,0.2,0.55,0.46,0.35,0.07,0.02,0.1,0.57,0.18,0.04,0.11,0.2,5.84,0.17,0.28,0.38,0.25,0.29,1.23,1.05,0.87,0.06,0.31,0.39,0.46,0.33,0.33,0.02,0.01,0.12,0.16,0.15,0.11,0.08,0.23,0.02,0.58,0.48,1.66,0.42,0.31,0.36,0.04,1.25,0.48,0.03,0.04,0.49,0.41,0.21,1.72,0.16,2.4,0.05,1.79,5.08,0.08,0.09,1.58,1.38,0.01,0.02,0.02,0.03,0.08,0.04,0.05,3.0,0.01,0.42,0.12,0.19,0.25,0.07,1.32,0.1,0.02,0.18,0.08,0.62,0.09,0.46,0.14,0.03,0.18,0.02,0.13,0.45,0.59,0.03,0.23,1.89,0.33,0.37,0.06,0.56,2.11,0.09,0.05,0.58,0.39,0.4,0.12,0.08,0.16,0.23,3.23,0.51,2.85,0.17,0.54,0.03,0.05,0.01,0.63,2.25,0.57,0.2,0.25,0.2,0.05,0.01,0.07,0.11,0.02,0.09,0.04,0.05,0.12,0.19,0.12,0.24,0.03,0.5,0.3,0.02,0.27,0.12,0.75,0.22,3.51,0.06,0.26,0.03,0.5,0.95,0.12,0.77,0.05,0.08,0.07,0.08,0.06,0.28,0.46,0.25,0.15,0.21,0.22,0.23,0.15,0.15,0.04,0.95,0.15,0.25,0.17,0.08,0.03,0.03,0.11,0.07,0.1,0.24,0.07,0.02,0.32,1.43,0.19,0.44,0.01,0.48,0.06,1.48,0.27,0.24,0.12,0.74,0.06,0.11,0.04,0.07,0.53,2.54,0.16,0.08,0.03,0.64,0.13,0.14,0.4,0.06,0.74,0.14,1.18,0.23,10.77,0.36,0.54,0.02,0.71,0.52,0.47,0.06,1.04,0.07,0.19,0.04,0.15,0.13,1.22,0.41,0.53,0.02,1.33,0.17,0.04,0.1,1.07,0.34,0.19,0.14,0.04,0.78,0.06,0.28,0.13,0.38,0.06,0.57,0.13,0.03,2.64,0.19,0.13,0.03,0.46,0.17,0.57,3.42,0.01,0.13,0.29,0.26,0.5,0.29,0.05,1.07,0.08,1.66,0.38,0.26,0.04,0.18,2.68,0.03,0.68,0.06,0.22,0.19,0.25,0.06,0.21,0.14,0.05,0.06,0.02,0.11,2.47,0.19,0.04,0.02,0.32,2.06,0.16,0.19,0.13,0.12,0.18,0.4,0.95,0.08,2.86,0.21,0.07,0.18,0.32,0.25,0.27,0.33,0.12,0.07,0.11,0.11,0.07,1.2,0.21,0.36,0.33,0.05,0.1,0.42,0.36,0.34,0.53,0.11,0.01,0.23,0.06,0.15,0.03,0.17,0.12,0.64,0.1,0.1,0.06,3.77,1.67,4.5,0.18,1.1,0.5,0.19,0.18,0.06,0.04,0.69,0.25,0.98,1.6,0.54,0.76,0.6,0.54,0.06,0.04,0.03,0.14,0.16,0.41,0.13,1.4,0.03,0.42,1.14,0.01,1.6,0.08,0.01,0.51,0.04,0.15,0.3,0.32,0.12,0.06,0.28,2.21,0.03,0.08,0.23,30.26,0.06,0.15,0.1,0.65,0.17,0.03,0.3,0.29,0.14,1.65,0.11,0.25,0.02,0.67,0.03,0.33,0.09,0.24,0.03,0.36,0.01,0.19,0.19,0.02,0.01,0.55,0.02,3.24,0.21,0.13,0.02,0.05,0.5,0.21,0.15,0.11,0.08,2.26,0.03,0.18,0.96,2.92,1.83,0.8,0.26,0.15,0.46,0.09,0.06,0.88,6.03,0.53,0.15,0.15,1.63,0.02,0.13,0.13,1.2,0.01,0.11,0.75,0.14,0.07,1.01,0.03,0.23,0.2,0.12,0.1,0.05,1.33,0.05,0.39,0.06,0.07,0.05,0.2,0.05,0.42,0.66,0.41,0.15,0.14,0.13,0.02,0.02,0.28,0.01,0.08,0.44,0.31,0.66,0.09,0.5,0.04,0.04,0.04,2.28,0.27,0.02,0.19,0.67,0.26,0.22,0.07,0.01,0.23,1.47,0.09,0.15,0.04,0.16,0.17,0.81,0.04,0.08,0.03,0.07,1.08,0.21,0.27,0.03,0.84,0.5,0.22,0.1,0.42,0.04,0.16,0.28,0.04,0.16,1.25,0.16,0.15,0.03,0.63,0.97,0.06,0.23,0.26,0.35,0.02,0.18,4.05,0.01,0.46,0.21,0.14,0.29,1.7,0.04,0.14,0.19,0.27,1.66,0.07,0.12,0.11,0.06,0.02,0.12,0.05,0.21,0.11,4.41,0.77,2.02,0.08,0.01,0.22,0.2,0.3,0.01,0.17,0.04,0.2,0.14,0.11,0.58,0.05,0.17,0.29,0.18,0.88,0.28,0.47,0.37,0.02,1.22,0.07,0.02,0.23,0.07,6.24,0.04,0.27,0.06,6.3,0.08,0.25,2.42,0.08,0.78,0.27,0.31,0.18,1.68,0.46,0.07,0.29,1.42,0.25,0.74,0.72,0.94,0.87,0.01,3.98,0.39,0.05,0.06,0.3,0.03,0.16,0.12,0.26,0.03,0.09,0.22,0.07,0.06,0.16,0.02,0.12,0.02,0.31,0.03,0.53,0.64,0.26,0.08,0.03,0.06,0.01,0.06,2.51,0.09,0.13,0.45,0.66,0.03,0.18,0.34,0.39,1.33,0.05,0.43,0.29,0.09,14.35,0.04,0.02,0.08,5.24,1.4,0.06,0.06,0.07,0.11,0.09,0.01,0.63,0.09,0.29,0.68,0.04,0.6,1.0,0.06,0.02,1.76,1.46,3.48,0.04,0.45,0.04,0.03,0.05,0.89,0.09,0.29,0.63,0.03,0.12,0.56,2.63,0.13,0.22,0.01,0.02,0.11,0.02,0.26,2.38,0.53,0.49,0.48,0.25,1.0,1.12,0.02,0.08,0.23,0.01,0.04,0.01,0.08,1.05,0.24,0.03,0.02,0.27,0.03,0.7,0.1,0.02,0.03,5.57,0.12,1.26,0.05,2.43,0.67,0.25,0.18,0.2,1.39,1.19,0.05,0.32,0.59,0.63,0.38,0.06,0.47,0.89,0.49,0.05,0.45,0.11,0.03,0.25,0.06,0.03,0.15,0.01,0.28,0.14,0.16,0.06,0.11,0.01,0.02,0.01,0.12,2.28,0.02,0.2,0.24,0.06,0.08,0.14,0.23,0.06,0.03,0.81,0.21,0.02,0.05,0.77,0.17,0.51,0.14,0.24,0.18,4.87,0.02,0.02,0.34,0.73,0.79,0.07,0.63,0.04,0.45,0.07,0.01,0.1,0.19,0.87,0.44,0.02,0.43,0.05,0.93,0.08,0.29,0.14,0.03,0.02,0.02,0.01,0.01,0.06,0.29,0.02,0.1,0.09,1.92,0.12,0.02,0.01,0.08,0.4,0.39,0.19,1.92,1.0,1.02,0.23,0.01,0.04,0.8,0.76,0.01,0.53,0.05,0.04,0.13,0.28,1.61,0.18,0.1,0.63,1.91,0.96,0.09,0.03,0.2,0.68,0.15,0.03,0.33,0.02,0.76,0.11,1.08,0.22,0.06,0.04,0.05,0.1,0.02,0.52,0.15,0.06,0.24,0.02,0.08,0.1,0.02,0.4,1.89,0.26,0.03,0.44,5.08,0.69,0.03,0.09,1.67,0.87,0.03,1.06,0.12,0.99,0.15,0.12,0.04,0.71,0.04,2.06,0.04,0.03,1.28,0.06,2.4,0.51,0.05,0.1,0.02,0.04,0.2,1.33,0.1,23.1,0.02,0.06,0.51,0.32,0.04,0.33,0.15,0.14,0.01,1.24,0.32,0.07,1.09,0.58,0.11,0.45,0.03,0.24,0.08,0.49,0.02,0.74,0.22,0.02,0.06,0.02,0.27,0.45,0.14,0.06,0.05,0.03,0.07,0.38,0.15,0.2,0.08,0.02,2.18,0.4,0.15,0.02,0.58,0.05,0.41,0.09,0.26,2.65,0.06,3.15,0.29,0.01,1.69,0.1,0.56,1.3,0.05,0.11,1.74,0.12,0.42,0.09,0.02,0.35,0.1,0.42,0.55,7.6,0.99,0.01,0.81,0.05,2.39,0.04,1.11,1.37,0.73,0.1,0.04,0.25,0.19,2.3,0.05,0.21,0.3,4.2,0.07,0.4,0.83,0.14,0.36,0.06,0.71,0.51,0.69,0.02,0.96,0.5,0.3,0.03,0.01,0.1,3.19,0.4,0.1,0.05,0.95,0.09,0.02,0.03,0.62,0.03,1.1,0.06,0.11,0.09,2.49,0.09,0.17,0.09,0.21,0.01,0.15,1.02,0.17,0.01,0.04,0.08,0.4,0.03,0.29,0.11,0.71,0.01,0.22,0.45,0.05,0.08,0.47,10.69,0.33,4.03,0.25,0.38,0.07,0.1,1.15,0.13,0.01,0.29,0.02,0.06,0.38,0.87,0.33,0.03,0.82,0.18,0.12,2.9,0.29,0.11,0.07,0.57,0.09,0.33,0.25,0.22,0.65,1.17,1.06,0.25,0.02,1.11,6.72,0.01,0.46,0.04,0.11,0.1,0.41,0.09,0.61,0.03,0.09,0.02,2.37,0.82,1.0,0.81,0.1,0.01,0.42,1.39,2.04,0.46,0.17,1.68,0.12,0.16,0.16,0.12,0.11,0.06,0.38,0.06,0.09,0.03,0.19,0.15,0.02,0.69,0.02,0.01,0.11,0.02,0.27,2.81,0.08,0.02,0.01,0.42,0.59,1.2,0.12,0.12,0.33,0.13,0.02,0.32,0.9,0.2,0.14,0.05,1.56,0.03,0.12,0.03,0.07,0.44,0.96,0.06,0.03,0.41,0.94,0.15,0.22,0.1,0.21,0.01,0.01,0.03,0.4,0.03,0.7,0.07,0.32,0.23,0.11,0.08,0.21,0.02,0.05,0.03,0.28,1.35,0.2,0.84,0.06,2.88,1.32,0.98,0.69,0.31,0.11,0.1,0.15,0.04,0.02,0.01,0.42,0.06,0.18,0.14,2.04,0.08,2.99,0.28,0.03,0.01,0.08,0.31,0.57,0.21,0.03,0.05,0.47,0.27,0.83,4.24,0.51,0.05,1.15,1.65,0.14,2.32,0.06,0.34,0.29,0.08,0.3,0.01,0.32,0.1,0.06,0.15,0.03,0.1,1.32,0.11,0.38,0.25,0.77,0.12,0.28,0.04,0.17,0.65,0.03,0.15,0.02,0.03,1.76,0.22,0.2,0.01,1.32,0.01,0.08,0.05,0.03,0.08,0.02,0.15,0.02,0.05,2.32,1.05,0.32,0.04,0.07,0.13,0.07,0.1,0.19,0.04,0.02,0.21,0.42,0.05,1.69,0.17,0.11,0.78,0.68,0.06,0.02,0.68,0.75,0.2,0.16,0.05,0.52,0.03,0.3,1.06,0.97,1.0,0.03,0.17,0.21,0.07,0.04,0.03,0.2,1.56,0.36,0.49,0.18,0.37,1.0,0.18,0.15,0.07,0.21,0.01,0.2,0.94,0.15,0.45,0.25,0.03,0.36,0.04,0.01,0.98,1.45,0.09,2.13,0.4,0.27,0.64,0.15,0.14,0.77,0.27,1.47,0.26,0.87,0.2,0.59,0.11,0.06,0.09,0.9,0.07,1.19,0.5,0.51,0.85,1.14,0.3,0.09,5.42,0.54,1.36,0.33,2.99,0.05,0.01,1.54,0.36,0.09,0.24,0.11,0.06,0.51,0.04,0.02,0.13,0.04,0.39,0.35,0.64,0.05,0.3,0.06,0.11,0.09,0.22,0.54,0.08,0.32,0.29,0.26,0.1,0.71,11.52,0.29,1.34,0.06,0.35,1.08,0.04,0.39,0.5,0.52,0.44,0.85,0.08,1.16,0.18,0.36,0.06,0.1,0.54,0.01,0.02,0.17,0.15,0.04,0.14,0.07,0.61,0.13,2.27,0.1,0.03,2.78,0.35,0.01,0.93,0.18,2.88,0.27,0.37,0.03,0.94,6.83,0.38,0.3,0.07,0.54,0.05,0.18,0.06,2.31,0.02,0.3,0.09,0.2,0.23,0.01,0.02,1.75,0.37,2.13,0.02,0.27,0.09,1.0,0.52,0.52,0.45,0.03,0.37,0.02,0.38,0.05,0.13,0.66,0.11,0.1,0.02,0.03,0.81,0.09,0.46,0.06,0.24,0.32,0.15,0.63,0.08,0.25,1.02,0.02,0.04,0.05,0.08,0.07,0.18,0.42,0.2,0.15,0.34,0.26,0.24,0.05,0.65,0.15,0.23,0.2,0.05,0.02,0.41,0.15,0.19,3.07,0.51,0.29,1.62,0.4,1.74,0.02,8.06,0.04,0.34,1.23,0.12,2.45,2.27,0.01,1.03,3.88,0.07,0.08,3.19,0.02,0.23,0.03,0.01,0.33,0.19,0.04,0.3,2.22,0.72,1.44,0.04,0.05,0.25,0.1,0.1,1.04,1.11,0.17,0.15,3.73,0.04,1.11,0.03,0.5,0.1,0.12,0.18,0.03,2.57,0.21,0.03,0.07,0.07,0.11,0.2,0.97,0.02,0.35,0.03,0.03,0.02,0.11,0.09,0.14,0.18,0.9,0.44,0.24,0.33,0.09,4.21,1.08,0.51,0.02,0.88,0.05,0.02,0.07,1.0,0.03,0.03,5.43,0.99,0.31,0.02,0.29,0.14,0.49,1.23,0.25,1.64,0.29,0.8,0.19,0.01,0.2,0.42,0.1,1.59,0.17,0.04,0.05,0.01,0.17,0.12,0.02,0.2,0.01,0.03,2.37,0.38,0.01,0.07,0.29,0.34,0.09,0.67,0.06,0.27,0.58,0.02,0.35,0.06,0.11,0.12,0.41,0.07,0.61,0.19,0.06,0.1,1.6,0.02,1.38,0.27,0.49,1.52,0.23,0.07,0.08,0.33,0.07,0.78,0.04,0.09,1.51,0.19,1.23,0.45,0.28,0.05,0.45,0.08,0.22,0.41,0.07,0.11,2.41,0.08,0.23,3.14,0.43,0.03,0.23,1.19,3.07,0.37,0.33,0.04,0.53,0.06,0.01,0.22,0.14,0.13,0.07,0.09,1.37,0.02,0.51,0.08,0.06,0.09,0.93,0.14,0.01,0.12,0.85,0.16,0.16,0.08,0.07,0.07,0.08,0.53,0.07,0.64,0.17,0.07,0.01,0.8,0.61,0.31,0.14,0.17,0.01,0.03,0.42,0.05,0.98,0.34,0.57,0.12,0.2,0.12,0.11,0.08,0.2,0.19,1.21,3.61,0.06,0.09,0.06,1.98,0.08,0.07,0.44,0.39,0.02,0.36,0.45,0.46,0.03,1.05,0.23,0.16,0.03,0.69,1.62,0.17,0.1,0.05,0.47,0.37,0.14,0.81,0.59,0.64,0.02,0.01,2.08,0.67,1.04,0.33,20.81,0.52,0.11,0.29,0.04,0.07,0.46,0.04,0.9,0.37,0.03,0.7,0.33,0.26,0.27,0.08,0.97,0.22,0.02,0.66,0.58,0.06,0.16,2.0,0.09,6.69,4.96,0.25,0.23,0.61,0.07,2.02,0.87,0.23,0.67,0.01,0.43,0.01,0.27,0.11,0.07,0.17,0.03,0.07,0.03,2.38,0.08,0.02,0.09,3.12,0.47,0.27,0.05,0.25,0.03,0.34,0.02,0.23,1.0,0.14,0.14,0.02,1.41,0.04,0.16,6.96,0.14,0.62,0.38,2.57,0.09,0.02,0.29,0.05,0.05,0.04,0.02,1.56,0.76,1.72,0.32,0.02,0.21,0.18,0.01,0.58,2.28,0.04,0.17,0.31,0.03,1.41,0.71,0.1,0.05,0.14,0.1,0.54,1.2,0.11,0.02,6.91,0.02,0.05,0.38,0.11,0.02,2.25,0.67,1.1,1.67,0.12,0.01,0.83,0.3,0.02,0.17,0.71,0.37,0.28,0.43,0.01,0.47,0.15,0.04,0.17,0.79,0.15,0.01,0.17,0.16,0.08,0.59,0.45,0.27,0.05,0.03,0.2,0.24,3.44,0.1,0.01,0.08,2.89,0.11,0.38,1.15,0.89,0.86,0.04,2.26,0.41,0.13,0.19,1.93,0.14,0.34,0.12,0.32,0.07,0.46,0.21,0.12,0.62,0.62,2.08,0.02,0.43,0.04,0.19,0.86,0.06,0.04,0.34,0.01,0.09,0.14,0.02,0.03,0.05,0.04,0.81,0.18,0.21,0.48,0.12,0.02,2.27,0.08,0.79,0.04,0.23,0.2,0.02,0.13,0.23,0.33,0.49,1.22,0.28,0.76,0.03,0.27,0.44,0.04,0.51,2.69,0.47,0.29,0.13,0.02,0.07,0.03,0.01,0.02,0.11,0.2,0.07,0.34,1.78,0.07,0.61,0.04,0.71,0.17,0.73,0.07,0.38,0.1,0.02,0.4,0.39,0.07,0.03,0.57,0.12,0.66,0.09,0.11,0.25,0.02,0.19,0.02,0.49,4.0,0.06,0.03,0.55,0.44,0.03,1.59,0.1,0.06,0.09,0.49,0.04,0.11,0.14,0.02,0.02,1.05,0.04,0.17,0.07,0.01,0.68,0.15,0.51,0.06,0.17,0.22,0.01,0.03,0.08,0.2,0.47,0.12,1.88,0.65,1.04,0.4,0.12,0.41,2.18,0.19,0.21,0.24,0.07,3.76,0.32,0.04,0.05,0.02,0.3,0.06,2.97,0.02,1.23,0.27,7.23,1.21,1.12,0.05,1.19,0.04,0.29,0.22,0.28,0.15,0.26,1.33,0.3,0.29,0.1,1.55,0.59,0.38,31.37,0.06,0.14,0.1,0.08,0.1,1.46,0.52,0.03,0.26,0.31,0.08,0.73,1.18,0.18,0.5,0.2,0.09,0.12,0.24,0.4,0.09,0.15,0.53,0.12,0.75,0.32,0.22,0.03,0.14,0.31,5.0,0.27,0.04,0.23,0.05,0.08,1.52,0.18,0.07,0.52,0.5,0.29,0.21,0.65,0.58,0.14,0.36,0.37,0.09,0.04,0.02,0.78,1.94,0.1,0.54,0.87,0.06,0.02,0.03,0.05,0.23,0.16,0.06,0.11,0.54,0.07,0.19,0.13,0.58,4.09,0.91,0.87,0.8,0.39,0.29,0.66,0.75,0.89,0.05,0.19,0.57,3.11,0.09,0.8,0.95,0.18,0.04,0.05,0.03,0.11,0.07,0.09,0.13,1.4,0.32,0.56,0.1,0.11,0.09,0.04,0.31,0.04,0.01,0.15,0.16,0.74,0.35,0.03,2.56,0.08,0.07,0.1,0.02,0.43,0.28,0.09,0.02,0.01,0.77,0.03,0.02,0.05,0.56,0.08,0.08,0.42,0.03,0.98,0.18,0.06,0.07,0.16,0.53,0.51,0.02,1.52,1.09,0.21,0.39,7.81,0.08,0.44,0.08,1.04,0.76,0.05,0.12,0.02,0.16,0.02,0.36,3.03,0.53,0.02,0.26,0.23,0.17,0.01,0.47,0.21,0.15,0.19,0.06,0.32,0.2,0.87,0.1,0.07,0.65,0.02,0.02,0.11,0.09,0.15,0.1,0.36,0.35,1.1,0.06,0.17,0.33,0.02,16.38,0.31,0.08,0.32,0.11,0.08,0.29,0.11,0.01,0.06,2.65,0.04,0.19,0.28,0.01,0.14,6.59,0.02,0.03,0.04,0.02,0.5,0.03,0.76,0.08,0.18,1.04,0.16,0.01,0.03,0.02,0.14,0.29,0.04,0.36,0.12,0.1,4.22,0.09,0.29,0.14,1.44,0.18,0.03,0.43,0.03,0.14,0.36,0.14,0.12,1.18,0.53,0.9,0.26,3.63,0.06,0.98,0.25,0.02,0.1,1.22,0.34,0.38,0.01,0.03,0.09,0.08,1.1,0.45,0.09,0.19,0.01,0.04,0.32,0.03,0.13,0.16,0.3,0.63,0.02,0.06,0.04,0.4,0.29,0.29,0.06,0.07,0.01,0.95,1.68,0.02,0.1,0.11,0.19,0.13,0.02,0.06,0.09,0.04,0.05,2.18,0.18,0.21,0.02,0.17,0.07,0.36,0.03,0.15,0.18,0.02,0.63,0.01,3.84,0.08,0.29,0.37,0.11,0.02,0.06,0.02,0.07,0.05,0.17,0.08,0.03,0.1,0.19,0.14,0.06,0.84,0.02,0.09,3.26,0.04,0.19,0.06,0.07,0.3,0.43,0.03,0.02,1.3,0.09,0.17,0.34,0.08,0.49,0.34,0.11,0.23,0.1,0.4,6.03,0.17,0.3,0.25,0.13,0.02,0.05,0.24,0.04,0.27,0.18,0.39,0.73,0.86,0.06,0.04,0.02,0.32,0.13,1.0,0.39,0.04,0.13,0.01,0.17,0.21,0.26,0.22,0.05,0.01,0.03,0.09,0.75,0.02,0.04,0.19,0.2,0.63,0.23,0.38,0.05,0.38,5.36,0.06,1.33,0.1,0.55,3.46,0.02,0.21,0.6,0.16,0.07,0.12,0.04,0.03,0.25,0.08,0.13,0.36,0.42,0.18,0.38,0.05,0.01,0.08,0.26,0.11,0.06,0.01,0.02,0.01,0.08,0.78,6.39,0.34,0.03,0.08,0.02,0.02,0.2,0.22,0.1,0.04,0.01,0.05,0.19,0.12,0.01,0.03,0.3,0.07,0.08,1.17,0.23,0.05,1.41,0.05,0.46,0.3,2.65,0.47,1.11,0.12,0.18,0.71,2.12,0.06,0.22,0.01,0.05,0.63,0.19,0.99,0.03,0.04,0.04,0.4,0.23,2.25,0.05,0.04,0.12,2.85,0.19,0.19,0.38,0.01,0.47,0.23,0.31,1.14,0.05,0.01,0.14,0.03,0.66,0.26,0.06,0.08,2.95,0.02,0.11,0.08,0.17,0.18,0.06,0.4,0.68,1.44,0.43,0.16,0.11,0.24,0.06,1.22,0.01,0.12,0.18,0.47,0.27,0.06,0.4,0.02,0.05,0.03,0.08,0.02,0.1,0.02,0.16,0.12,1.33,0.17,0.02,2.56,0.83,0.02,0.49,0.58,0.01,0.1,1.36,0.02,0.03,0.02,0.09,0.13,0.03,0.03,0.16,0.42,0.1,0.03,0.56,0.07,0.9,0.35,0.3,1.17,0.19,0.2,0.01,2.22,0.04,0.05,0.03,3.77,0.02,0.4,0.72,1.56,0.16,0.54,0.03,0.63,0.2,0.03,0.79,0.05,0.88,0.07,0.1,2.48,0.29,0.36,1.53,0.3,0.12,2.67,1.38,1.47,0.17,4.39,1.46,0.02,0.09,0.03,0.03,0.12,0.03,0.97,1.76,1.46,0.61,0.25,1.12,0.07,0.01,0.11,0.11,0.02,0.34,2.82,0.1,0.23,0.4,0.5,1.21,1.69,0.26,5.2,0.17,6.34,1.62,1.76,1.2,1.1,0.04,0.24,0.05,0.12,0.55,0.13,0.26,0.3,0.51,0.42,0.07,0.12,0.33,0.1,0.14,1.44,0.62,0.04,0.63,0.07,0.02,0.07,0.35,0.4,0.01,0.07,0.77,0.03,0.04,0.05,0.16,0.14,0.93,0.08,0.05,0.4,0.55,0.41,0.05,0.13,1.67,0.06,0.24,0.15,0.02,0.03,0.13,3.36,1.66,0.16,0.06,1.19,0.31,0.05,0.02,0.02,0.39,0.19,0.17,0.05,0.03,0.22,0.08,0.31,1.31,0.09,0.28,0.55,0.21,0.62,0.03,0.92,0.21,0.03,0.04,0.19,0.22,0.01,0.04,0.05,0.2,0.51,0.31,0.48,0.04,0.1,0.07,0.03,0.09,0.02,0.72,0.12,1.15,0.03,0.25,0.15,0.98,0.07,0.06,1.23,0.05,0.21,0.13,0.19,0.02,0.53,0.24,0.05,0.05,0.13,0.87,0.31,0.11,0.61,0.18,0.38,0.05,1.86,0.32,0.5,0.12,0.02,0.39,0.15,2.52,0.4,1.44,0.85,0.03,0.17,0.06,1.1,1.5,0.12,0.03,0.71,4.16,0.43,0.39,0.31,0.14,0.22,0.51,0.02,1.08,1.4,0.29,2.44,0.68,0.13,0.49,0.05,0.06,0.41,2.28,3.81,0.12,0.68,0.18,0.28,1.35,0.64,0.44,0.2,0.56,0.03,0.33,0.05,0.47,1.25,3.28,0.35,0.15,0.12,0.03,0.11,0.08,0.09,0.37,0.02,0.03,0.05,0.84,0.05,1.09,0.04,1.17,1.95,0.11,1.55,0.8,0.02,0.11,0.29,0.15,0.08,0.23,1.04,0.2,0.07,0.36,0.31,0.52,0.02,0.29,0.36,0.01,1.73,0.04,0.21,0.45,1.32,0.59,0.02,0.37,0.08,0.02,0.43,1.18,1.43,0.63,0.33,0.03,2.09,0.06,0.02,0.04,0.14,1.43,0.07,0.38,0.04,0.02,0.17,0.3,0.43,0.12,0.28,1.1,0.58,7.46,1.11,1.22,0.09,1.59,0.09,0.62,0.11,0.02,1.04,0.25,0.01,0.47,0.02,0.57,0.43,0.38,0.93,0.43,0.31,0.02,2.91,0.13,0.02,0.14,0.1,0.21,0.12,0.13,0.03,0.48,0.59,0.07,0.05,0.04,0.07,0.34,1.64,0.36,0.39,0.02,1.36,0.68,0.07,0.11,1.76,0.05,0.12,0.25,0.15,1.43,0.04,0.07,4.02,1.12,0.09,0.13,0.06,0.07,0.01,0.14,0.2,0.02,0.05,0.09,0.1,0.16,0.07,0.81,0.11,0.01,0.18,0.03,0.18,0.3,0.04,0.47,0.13,1.24,0.13,0.11,0.89,0.15,0.64,1.18,0.8,0.06,0.69,0.55,0.72,0.4,0.04,0.03,0.13,0.06,0.1,0.6,0.02,0.09,0.67,0.34,0.01,0.06,1.74,0.02,0.02,0.94,0.14,0.03,0.07,0.02,0.33,0.01,0.1,0.03,0.69,0.01,0.06,0.14,0.45,0.05,0.02,0.1,0.1,0.05,0.04,0.48,0.88,0.08,0.12,0.05,0.15,0.02,0.41,0.4,0.12,0.15,2.05,0.2,0.84,0.51,0.31,2.65,0.09,0.18,0.05,0.14,0.15,0.99,0.33,0.08,0.16,0.02,0.14,0.06,0.38,0.79,0.06,1.07,0.07,0.17,0.53,0.23,0.02,0.23,0.5,0.29,0.09,0.16,0.63,0.23,0.23,0.13,0.03,3.58,0.02,0.02,0.17,0.59,0.17,1.58,0.01,0.06,0.11,0.14,0.26,0.12,0.07,0.07,1.35,0.1,0.13,0.28,0.02,1.62,0.87,0.04,0.82,0.03,0.12,1.39,1.97,0.15,0.27,0.09,0.15,0.15,0.47,0.24,0.25,0.35,0.03,0.03,0.16,0.1,0.04,0.36,0.04,0.04,0.22,0.05,0.08,0.19,0.02,0.25,0.02,0.02,0.46,0.45,0.03,0.01,0.08,0.54,0.15,0.03,0.26,0.08,0.1,0.07,0.26,0.07,0.02,0.24,0.15,0.28,0.02,0.28,0.14,0.48,0.16,0.14,0.29,0.05,0.09,4.63,0.81,0.05,0.03,0.1,0.03,0.27,0.72,0.01,0.09,0.07,3.52,0.32,0.03,0.07,0.04,0.05,0.12,0.03,0.79,0.13,0.1,0.02,0.96,0.16,0.03,0.39,0.82,0.03,0.26,0.08,0.32,0.26,0.07,0.03,0.03,1.83,0.02,0.76,0.09,0.37,0.45,0.13,1.35,2.96,0.03,1.2,1.32,0.2,0.01,0.01,0.09,0.12,0.03,0.03,0.45,0.1,0.5,0.04,0.45,0.53,0.23,0.67,0.59,0.65,0.03,0.12,0.11,0.16,0.32,0.1,0.73,0.08,0.24,0.19,0.53,0.04,1.01,0.15,0.41,0.1,0.14,0.26,1.16,0.15,0.28,0.69,0.03,0.09,0.13,0.04,0.61,0.16,5.47,0.08,0.99,0.03,0.55,0.06,0.11,0.33,0.21,0.04,0.23,3.53,0.29,0.05,0.44,0.67,0.12,0.23,1.45,3.2,0.06,0.09,0.26,0.34,0.11,0.13,0.07,0.2,0.24,0.05,0.56,0.71,0.3,0.25,0.51,6.4,0.07,0.03,0.2,0.07,0.02,0.15,0.06,0.09,0.05,0.04,0.02,0.74,0.04,0.12,0.1,0.4,0.23,0.1,0.11,0.16,0.02,0.02,0.04,0.08,0.7,2.86,0.02,0.66,0.02,0.41,0.24,0.41,0.41,0.23,0.08,0.01,0.14,0.22,2.39,1.64,0.21,0.02,0.2,1.15,0.07,0.2,0.68,1.27,0.23,0.02,0.26,2.13,0.09,0.06,0.13,0.15,0.24,4.14,0.02,0.41,0.07,0.06,3.83,0.24,2.62,0.05,5.49,0.16,0.14,0.1,0.09,1.45,0.58,1.0,0.01,0.6,0.25,0.02,0.23,0.1,0.06,0.45,0.14,0.4,0.03,0.23,0.02,2.13,0.01,0.11,0.06,0.15,0.12,1.1,1.6,1.24,0.2,0.06,0.7,0.07,0.53,0.07,1.26,0.19,0.28,0.02,0.01,4.06,0.06,0.54,0.19,0.47,0.26,0.71,0.11,0.02,0.12,0.18,0.6,0.86,0.02,0.34,0.3,0.79,0.11,0.55,0.03,1.09,0.16,0.51,0.32,0.01,0.06,0.02,0.1,0.02,1.04,0.02,0.15,0.05,0.07,0.98,0.09,0.4,0.04,0.33,0.05,0.28,0.11,0.1,0.02,0.67,0.37,0.14,1.32,0.21,0.27,0.16,0.17,0.04,0.23,0.12,0.48,0.02,0.13,0.46,0.37,0.48,1.93,0.1,0.37,0.24,0.25,0.02,0.04,0.41,0.32,1.91,0.12,0.05,0.97,0.41,0.3,0.27,2.39,0.18,1.78,1.72,0.06,0.18,0.01,2.65,4.33,0.83,0.14,0.12,0.58,0.38,0.11,0.14,2.14,0.39,0.11,0.14,0.08,0.11,1.5,0.41,0.23,0.09,0.02,3.4,0.13,0.05,0.03,0.03,0.1,0.23,0.76,0.46,0.01,0.09,0.09,0.2,0.01,0.37,0.01,0.07,0.76,0.81,1.01,0.08,0.45,0.29,0.32,0.61,0.02,0.49,0.03,0.42,2.25,0.19,1.24,0.22,0.1,0.08,7.13,0.03,0.11,0.02,0.1,0.19,0.07,0.03,0.03,0.06,0.07,0.8,2.0,0.7,0.19,1.27,0.29,0.66,0.58,0.44,0.04,0.25,0.19,0.51,1.69,0.66,0.07,0.02,0.23,0.06,0.08,0.56,0.13,0.11,0.19,1.06,0.26,0.3,0.13,0.84,0.02,1.26,0.09,0.02,0.52,0.18,0.22,0.11,0.71,0.12,0.03,0.61,0.07,0.11,0.09,0.34,1.45,0.01,0.32,0.03,0.06,0.12,0.74,0.92,1.42,0.19,0.04,0.15,0.05,0.2,0.21,6.76,0.08,0.06,0.02,0.13,0.32,0.13,1.7,1.17,0.07,0.03,0.09,0.36,0.1,0.33,0.38,0.02,0.16,0.35,0.02,1.24,0.33,0.02,0.25,0.33,0.13,0.03,0.28,0.04,0.19,0.25,0.21,30.01,0.13,0.65,0.02,0.05,2.96,0.01,0.04,0.28,0.32,0.68,0.1,0.16,0.03,0.04,0.27,0.46,3.5,0.01,0.03,0.11,0.07,0.27,0.5,0.09,0.02,0.07,1.53,0.2,0.14,0.4,0.05,0.03,1.16,0.34,0.29,0.03,0.02,0.7,4.34,0.03,0.93,0.08,0.07,0.03,3.49,0.82,1.12,2.08,0.19,0.18,0.64,0.02,0.02,3.87,0.19,0.02,0.06,0.13,0.74,0.07,0.39,0.13,0.58,0.12,0.11,0.27,0.52,0.68,0.05,0.14,0.03,1.26,0.1,0.04,0.02,0.02,0.45,0.48,2.59,1.17,0.02,0.67,0.95,0.29,0.02,0.27,0.05,0.33,0.1,1.42,0.1,0.09,3.7,0.4,0.04,0.07,0.15,0.1,0.78,0.14,0.4,0.02,0.47,0.01,0.36,3.27,0.13,0.48,0.05,0.02,1.42,0.14,0.14,1.1,0.58,15.32,0.03,0.05,0.44,0.27,0.61,0.51,0.14,0.19,2.32,0.29,0.03,0.14,0.07,0.14,0.18,1.9,0.32,0.07,0.04,0.15,0.28,0.03,0.17,0.05,0.04,0.12,0.03,0.12,0.02,0.14,0.1,0.11,0.57,0.45,4.08,0.42,1.5,0.05,0.33,0.54,0.24,0.72,0.21,0.27,0.07,1.59,0.02,0.04,0.47,0.04,0.41,0.11,0.1,1.45,1.56,0.17,0.14,0.1,0.02,0.03,0.22,0.03,0.48,0.16,0.27,2.12,0.03,1.32,0.03,0.36,0.02,0.11,0.04,0.07,0.27,1.23,3.42,0.74,0.47,0.81,0.27,0.01,0.14,0.13,0.51,0.01,0.13,0.4,0.06,0.1,0.01,0.34,0.06,0.11,0.15,0.15,0.01,0.15,0.04,0.04,0.11,0.28,0.08,1.55,0.03,0.51,0.31,1.27,0.2,0.03,5.0,0.27,0.24,2.39,0.04,0.46,0.43,0.15,0.12,0.61,0.53,0.08,0.27,0.7,0.13,0.04,0.29,0.08,0.05,0.03,0.22,0.11,0.26,0.01,0.55,0.17,0.19,0.47,0.44,0.39,0.11,0.03,1.28,0.93,0.08,0.78,0.02,0.02,0.01,1.06,0.84,0.32,1.43,0.02,0.19,0.05,0.02,0.31,0.14,0.12,0.12,0.07,0.04,1.19,0.04,1.35,0.02,0.06,0.05,0.09,0.05,0.05,0.78,0.53,0.17,0.32,0.09,0.01,0.65,0.02,0.34,0.55,0.02,1.98,0.03,1.52,0.03,0.17,0.65,0.09,0.12,0.11,0.93,0.13,0.11,0.04,0.21,0.49,0.11,0.03,0.33,0.13,1.88,0.24,0.11,0.19,0.03,0.23,0.51,1.2,0.03,0.21,0.19,0.1,0.07,0.05,0.53,0.06,0.7,0.57,0.06,0.03,0.95,0.07,0.69,0.26,0.06,0.08,0.02,0.12,0.71,0.05,0.03,0.1,0.06,0.33,0.35,0.85,0.41,0.01,0.06,0.09,0.54,0.07,1.22,0.08,0.02,0.02,0.17,0.13,0.08,0.2,0.02,0.55,0.16,1.5,3.76,0.05,0.06,0.17,0.21,2.27,0.12,0.18,0.02,0.2,0.33,0.14,0.45,0.13,0.08,0.06,0.7,0.09,0.56,0.01,0.11,1.3,0.04,0.82,0.47,0.19,0.04,0.12,0.03,0.26,0.23,0.27,3.02,0.12,0.53,0.5,0.23,0.04,0.56,0.16,0.12,0.39,0.32,0.25,0.6,0.36,0.45,0.02,0.55,0.63,0.76,0.78,0.24,0.01,0.09,0.01,0.3,0.03,0.02,0.53,0.28,0.04,0.27,0.25,0.2,0.14,0.17,0.56,0.11,0.3,0.41,0.07,0.02,0.03,0.14,2.48,0.18,0.2,0.07,0.03,0.27,0.95,0.06,0.2,1.3,0.03,0.1,0.55,0.39,1.07,0.08,0.36,1.58,0.02,0.51,0.53,0.16,0.7,1.13,0.06,0.47,0.09,0.13,0.23,0.06,0.1,0.11,0.28,0.27,0.17,0.4,2.04,0.06,0.02,0.35,0.42,0.08,0.39,0.07,0.56,0.04,0.48,0.04,0.07,0.14,0.03,0.07,0.12,0.12,0.87,0.01,0.06,0.02,1.16,0.03,0.26,0.61,0.04,2.72,0.1,0.53,0.08,0.05,0.47,0.05,1.72,0.23,0.03,0.86,0.13,0.19,0.03,1.46,0.45,0.01,0.27,0.07,3.19,0.15,0.73,0.08,0.47,0.22,0.58,0.64,0.07,0.07,0.97,0.07,0.07,0.01,0.16,0.09,0.7,0.07,0.12,0.16,0.12,0.1,0.19,0.34,0.05,0.17,0.05,0.23,2.97,0.17,0.14,0.16,0.1,0.01,0.55,0.02,0.16,0.08,0.01,0.23,0.02,2.28,0.25,0.09,0.42,0.1,0.19,0.03,0.02,0.08,0.05,0.24,0.04,0.06,1.67,0.04,6.27,0.4,0.5,1.5,0.21,0.26,0.71,1.36,0.09,0.23,0.03,0.03,0.24,0.04,0.09,0.04,0.02,0.13,0.17,0.07,0.16,0.05,0.17,0.04,0.03,0.02,0.81,0.1,0.15,0.73,0.05,0.2,0.58,0.17,0.04,0.03,0.9,1.22,0.1,0.02,0.15,0.25,0.05,0.07,1.26,0.93,0.38,0.13,1.2,2.5,0.54,0.48,0.33,1.03,0.06,0.03,1.03,0.06,0.26,0.21,0.02,0.26,0.33,0.04,0.01,1.18,0.74,0.18,0.02,0.11,0.03,0.1,0.16,0.21,0.02,0.62,0.03,0.74,0.9,0.02,0.14,4.2,0.7,0.24,0.2,0.26,0.08,0.61,0.19,0.67,0.02,0.58,0.28,0.13,1.73,0.13,0.07,0.01,0.87,0.71,0.02,1.1,0.04,0.46,0.47,0.05,0.05,0.06,0.31,0.01,0.25,0.25,0.02,0.14,0.2,0.6,0.12,0.01,0.12,0.13,0.18,0.09,0.02,0.03,0.12,0.22,0.24,0.57,0.08,0.13,0.1,0.12,4.35,1.46,20.22,0.22,0.56,2.48,1.38,0.15,0.42,0.88,0.02,0.52,0.02,0.01,0.37,0.07,0.14,0.09,0.1,0.11,0.31,0.04,0.21,0.22,0.06,0.37,2.15,0.02,0.29,0.15,0.33,0.03,0.11,0.08,0.31,0.09,0.07,0.15,1.69,0.31,1.29,1.62,0.08,1.55,1.37,2.29,0.41,3.56,0.82,0.17,1.19,0.03,0.19,0.69,0.02,0.3,0.17,0.13,0.07,0.09,6.51,0.35,0.25,0.45,8.05,0.02,0.03,0.14,0.5,1.13,0.89,0.21,1.54,0.1,0.08,2.38,0.17,1.08,0.34,3.63,0.22,0.09,0.17,0.12,0.4,0.01,3.53,1.97,0.11,0.07,0.05,0.69,0.46,0.09,0.07,0.07,0.61,1.51,0.13,0.42,0.47,0.14,0.03,0.05,0.33,0.16,0.09,1.57,0.14,0.36,0.66,0.06,0.12,0.82,0.03,0.02,0.07,0.26,0.62,0.46,0.6,7.31,0.14,0.03,0.12,0.07,0.11,0.17,0.04,0.12,0.94,0.51,0.03,0.05,0.64,0.01,0.66,0.05,0.06,0.87,0.6,0.05,0.12,0.03,0.04,0.33,0.33,0.17,0.19,0.06,0.04,0.9,0.06,0.07,0.93,0.03,0.07,0.37,0.09,0.56,0.12,0.01,0.08,0.03,0.14,0.33,0.1,0.07,0.02,0.37,0.01,0.85,0.13,3.91,0.32,0.28,1.64,0.03,0.19,0.01,0.05,0.06,0.02,0.83,0.07,0.09,0.15,0.84,0.08,0.16,0.05,0.08,1.02,0.41,0.07,0.03,1.4,0.15,0.15,0.02,0.5,0.15,0.45,0.06,0.22,0.03,0.32,0.04,0.09,0.18,0.29,0.22,0.03,0.08,0.03,0.07,0.6,0.03,0.55,0.1,0.04,0.79,1.85,1.74,1.17,0.49,0.44,0.11,1.67,0.01,0.15,0.03,0.06,0.16,0.23,0.36,1.3,1.42,0.24,0.1,0.15,0.03,0.14,0.34,0.02,0.16,0.86,0.02,0.05,0.17,0.55,0.02,1.82,0.02,0.18,0.91,0.03,0.2,0.42,0.05,0.31,0.33,0.13,0.11,0.05,0.07,0.17,0.34,0.02,0.03,0.1,1.1,0.2,0.1,1.39,0.17,24.76,0.04,0.07,0.17,0.39,0.09,0.33,0.2,0.21,0.07,0.08,0.04,0.25,0.33,0.22,0.2,0.52,0.12,0.01,0.17,0.39,0.21,0.32,0.05,1.23,0.02,0.14,0.05,0.04,0.07,0.12,0.11,0.08,0.08,0.12,0.02,0.48,0.11,1.28,0.11,0.05,0.28,0.03,2.47,0.11,1.72,0.02,0.09,1.04,0.54,0.21,1.27,0.1,0.79,0.08,0.24,0.45,0.16,0.72,0.27,0.74,0.27,0.12,0.11,0.19,0.08,0.15,0.11,0.01,0.09,0.03,0.02,0.06,0.1,0.2,0.1,1.05,0.15,1.16,0.04,0.52,1.49,2.11,0.05,1.84,0.05,0.05,0.09,4.39,0.24,0.27,0.1,0.29,0.27,0.29,2.33,0.05,10.95,0.58,0.07,0.04,0.01,0.04,1.42,0.56,4.21,0.11,0.04,0.19,0.02,0.03,0.15,0.19,0.08,0.02,0.61,0.16,0.45,1.53,1.04,1.8,0.11,1.5,0.06,0.34,1.59,0.03,0.65,0.09,0.03,0.64,0.22,0.15,1.18,0.49,0.01,0.17,0.33,0.41,0.01,0.66,0.58,0.24,0.04,0.36,1.03,1.38,3.18,0.61,0.6,0.11,0.42,0.07,0.01,0.02,0.05,0.25,0.02,2.7,0.21,0.03,1.44,0.19,0.1,0.14,0.13,0.12,0.03,1.97,0.18,0.47,0.03,1.46,0.1,1.39,0.19,0.06,0.1,0.37,1.94,0.17,0.02,0.08,2.5,0.06,0.14,0.04,0.41,0.05,0.2,0.12,0.61,0.18,0.15,0.81,0.91,0.66,0.02,0.01,0.06,0.03,0.01,0.19,0.05,0.42,0.2,0.65,0.03,1.25,0.02,22.72,0.06,0.18,0.51,0.03,0.03,0.06,0.02,0.16,0.11,0.28,0.3,0.35,0.14,0.06,0.03,0.01,0.2,1.29,0.05,0.46,1.67,1.82,0.09,0.33,0.43,0.15,0.11,0.16,0.14,0.51,2.96,2.19,0.17,0.24,0.07,0.28,0.04,0.05,0.16,0.05,0.19,0.1,0.21,0.09,0.07,0.01,3.2,0.02,0.02,0.04,0.15,0.76,1.38,0.04,2.79,0.04,0.84,0.62,0.46,3.67,0.05,0.04,0.08,0.04,0.38,0.07,0.52,1.67,0.34,0.08,0.25,0.18,0.03,0.05,0.07,0.92,0.04,0.36,0.39,0.04,0.1,0.65,0.11,3.36,0.07,0.05,0.28,2.61,0.28,0.02,0.02,0.28,0.11,0.1,0.54,0.57,0.17,0.28,0.03,0.4,0.1,0.2,0.21,0.06,0.3,0.24,0.62,0.35,0.03,0.38,0.03,3.38,0.08,0.67,0.08,4.76,0.57,0.23,0.13,0.43,0.29,0.6,0.18,0.21,0.12,0.01,0.49,0.02,0.03,0.94,0.11,0.08,0.42,0.78,0.04,0.2,0.3,0.84,0.36,0.03,0.35,0.01,0.08,1.36,0.26,0.11,0.1,0.88,0.11,0.41,0.17,0.19,0.11,0.03,0.09,0.17,0.31,0.81,0.56,0.02,0.03,0.13,0.02,0.51,0.13,0.56,1.22,0.11,0.01,0.27,0.07,0.55,0.12,0.07,0.32,0.04,0.23,0.01,1.76,0.02,0.19,0.19,0.06,0.17,0.22,1.12,0.11,0.27,0.16,0.05,0.48,0.25,1.11,0.05,0.05,0.02,0.28,0.58,0.29,10.55,0.04,0.17,0.24,0.44,0.07,0.13,0.09,1.16,2.28,0.22,0.09,0.03,0.1,2.22,0.33,0.02,0.3,0.03,0.08,0.08,0.16,1.49,0.02,0.14,0.51,0.92,0.09,0.03,0.13,9.49,0.26,0.05,0.12,0.36,0.11,0.19,0.02,0.11,0.46,0.02,0.12,0.46,0.29,0.28,1.02,0.11,0.11,3.87,1.14,0.04,0.6,0.49,0.01,0.05,0.12,0.04,0.16,0.04,0.07,0.25,0.04,0.01,3.33,0.3,0.57,0.15,1.79,0.02,0.5,0.17,0.07,0.62,0.07,0.01,3.85,1.45,0.37,0.12,0.25,0.27,0.24,0.17,0.41,3.33,0.03,0.52,0.54,0.12,0.2,0.09,0.27,0.18,0.4,1.52,0.05,0.04,0.2,0.21,1.09,0.27,0.13,0.02,0.04,0.27,0.06,1.09,0.04,1.0,0.29,1.66,0.13,0.01,0.59,0.08,0.02,3.63,0.02,0.68,0.26,0.35,0.11,0.19,0.01,0.64,0.71,0.11,0.13,0.71,0.19,0.06,0.24,0.56,1.63,0.64,0.07,4.82,0.4,0.07,0.02,0.04,0.14,0.06,0.03,0.1,0.08,0.92,0.29,0.01,0.11,0.2,0.07,0.31,0.17,0.94,0.7,0.04,0.2,0.21,0.2,0.36,0.64,0.04,0.54,0.06,0.32,0.04,0.05,0.08,0.06,0.28,0.18,0.15,0.28,0.03,0.01,0.55,1.1,0.05,0.47,0.01,0.1,0.06,0.72,0.05,0.32,1.68,0.45,0.03,0.82,0.28,0.04,2.09,0.05,0.12,0.92,0.75,0.14,0.04,0.05,0.01,0.08,0.26,0.44,0.55,0.18,0.89,0.65,0.4,0.21,0.45,0.57,0.04,0.09,0.01,0.2,1.92,0.14,14.24,0.1,0.15,0.12,0.09,0.01,0.05,0.19,0.03,0.26,0.69,0.09,0.34,3.22,0.05,0.32,0.12,0.14,0.28,0.29,0.36,0.01,0.44,0.08,0.12,0.49,0.74,0.23,0.4,0.41,4.09,0.01,0.24,1.6,0.13,0.34,0.44,1.26,0.19,0.66,0.11,1.93,0.3,0.1,1.05,0.92,0.01,0.07,0.02,0.18,0.15,0.62,0.69,0.11,0.18,0.16,0.04,3.36,0.19,2.45,0.24,0.14,0.58,0.04,0.02,0.14,0.22,0.32,2.31,0.05,0.03,0.7,0.04,0.02,0.2,0.03,0.1,0.26,5.58,0.47,0.01,0.06,0.03,0.02,0.02,0.52,4.58,0.01,0.94,0.1,0.36,0.22,0.1,0.61,0.24,0.28,0.08,0.37,0.01,0.01,0.05,0.17,0.46,0.35,0.02,3.21,0.07,0.28,0.48,0.66,7.16,1.64,0.22,1.63,0.41,0.04,0.1,0.02,0.12,0.5,0.3,3.32,0.05,0.23,0.15,0.09,0.55,0.11,0.69,0.27,0.02,0.43,0.22,0.1,0.29,0.23,0.2,0.25,1.71,1.72,0.03,1.54,4.98,0.13,0.18,4.53,0.72,0.31,2.99,0.01,0.64,0.22,0.06,0.06,0.07,0.16,0.57,0.76,0.17,0.3,0.37,0.04,0.04,0.1,0.07,0.01,0.12,0.48,0.07,0.01,0.06,0.51,0.16,0.1,0.03,0.32,0.45,0.06,0.26,0.01,0.08,0.78,0.01,0.28,0.08,0.4,0.25,0.65,0.26,0.12,0.02,0.02,0.28,0.15,0.17,0.44,0.9,0.71,0.32,0.31,0.5,0.23,0.35,0.06,0.04,0.17,0.09,0.45,0.02,0.17,0.02,0.18,0.05,0.01,0.21,0.23,0.05,0.27,0.13,2.25,0.04,0.14,0.01,0.05,0.54,0.2,1.23,0.2,0.28,1.36,0.16,0.12,0.21,0.04,0.06,0.03,0.89,0.16,0.06,1.65,0.19,0.47,0.43,2.28,0.02,0.41,0.1,0.09,0.48,0.37,1.06,0.34,0.34,0.07,0.04,0.06,0.29,0.08,0.05,0.05,0.67,0.05,0.6,0.06,0.12,0.15,0.46,2.21,0.08,0.02,0.04,0.02,0.49,0.21,4.57,0.07,0.22,0.01,0.28,1.02,1.59,0.21,1.14,0.25,0.01,0.36,0.21,2.01,0.28,0.02,0.21,0.77,0.05,2.37,1.08,0.75,0.29,0.04,0.14,0.09,0.35,0.09,1.07,0.55,0.04,0.02,0.52,0.32,0.15,0.38,0.06,0.42,0.07,0.27,5.5,0.16,0.09,0.26,0.03,0.01,0.09,0.35,0.03,0.61,2.0,0.3,0.3,0.01,0.06,0.01,0.13,0.04,0.02,0.15,0.88,0.02,0.05,0.02,0.02,0.05,0.9,0.71,1.09,0.11,0.04,0.05,1.33,0.08,1.83,0.23,0.02,0.11,0.01,0.14,0.24,0.32,0.04,0.23,0.09,1.09,1.3,0.3,0.5,0.08,0.04,0.56,0.45,0.01,0.01,0.3,0.06,0.09,0.02,0.09,0.1,0.07,0.17,2.13,0.2,0.14,0.1,0.01,0.12,0.31,0.02,0.33,0.75,0.18,0.8,3.89,0.07,0.79,0.07,0.09,0.15,0.03,1.04,0.1,0.02,0.14,0.03,0.1,1.76,0.55,3.28,0.16,0.44,0.16,0.47,0.26,0.77,0.52,0.09,2.41,0.1,0.04,0.4,0.54,0.07,0.1,0.02,0.39,0.01,0.19,0.4,0.04,0.07,1.48,0.07,1.85,0.33,0.14,0.15,0.61,0.61,0.23,0.07,0.02,0.46,0.47,0.34,0.38,0.02,0.8,0.09,0.07,0.31,0.56,0.07,0.54,0.21,0.04,0.52,0.13,0.17,1.48,2.38,0.17,0.06,0.01,0.55,0.11,0.41,0.11,0.43,2.77,0.54,0.25,0.52,0.04,0.97,0.09,0.16,0.09,1.5,0.25,0.26,0.02,0.26,0.1,0.06,0.02,2.09,0.38,0.08,0.11,0.19,0.38,0.41,0.2,1.02,0.35,0.06,0.03,0.03,0.19,5.31,0.43,2.59,13.46,0.21,0.46,0.02,0.03,0.53,0.03,0.87,0.38,0.08,1.06,0.5,0.12,0.25,0.78,0.11,0.2,0.07,1.7,0.12,0.24,0.49,0.29,2.85,1.18,0.03,0.03,0.07,0.19,2.08,0.2,0.28,0.38,0.41,1.17,0.02,0.09,0.03,0.05,1.4,1.2,0.88,0.07,0.19,0.42,0.39,0.07,0.29,0.04,0.07,0.94,0.21,0.04,0.11,1.66,0.04,0.24,0.05,0.25,3.64,2.76,0.06,0.03,0.36,0.18,0.08,0.1,0.44,0.11,0.82,0.31,0.08,2.79,0.41,0.25,0.04,0.14,0.45,0.03,0.5,0.04,0.33,5.13,0.51,0.18,0.19,0.04,1.19,0.11,0.26,0.26,0.11,0.14,0.08,0.23,0.02,0.31,20.61,0.22,0.16,0.01,0.01,0.13,0.41,0.01,0.14,0.04,0.06,0.07,0.59,0.16,0.03,0.72,0.02,0.25,0.01,0.18,0.32,0.26,0.17,0.02,0.21,0.38,0.25,0.6,2.09,0.18,0.05,0.56,0.07,0.13,0.03,1.15,0.36,0.31,0.73,0.1,1.77,0.01,0.28,0.09,0.82,0.06,0.08,0.13,0.47,0.74,0.02,0.41,0.03,0.81,0.08,0.3,0.19,0.7,0.51,0.11,0.46,0.02,0.01,0.54,0.38,0.02,0.03,0.51,0.28,0.61,0.07,0.1,0.3,0.09,0.21,0.25,0.1,0.06,0.01,0.62,0.58,0.17,0.06,0.43,0.05,2.78,0.32,0.12,0.55,0.08,2.21,0.27,0.3,0.09,0.64,0.29,0.44,1.13,0.27,0.18,0.81,0.01,0.47,0.03,0.68,0.03,1.29,1.26,1.03,0.53,0.34,0.08,1.78,1.72,0.13,0.19,0.07,0.06,0.37,0.3,0.62,0.13,0.04,0.06,0.25,0.11,0.06,2.53,0.17,0.64,0.35,0.2,0.27,0.07,0.02,0.1,0.01,0.56,0.45,0.08,0.01,0.36,0.13,0.02,0.27,0.03,0.07,0.1,0.03,0.87,1.17,0.31,0.25,0.97,0.02,0.08,0.66,1.53,0.61,0.15,0.03,0.95,0.1,0.12,0.41,0.07,0.08,0.55,0.44,0.04,0.04,0.08,0.05,0.33,0.08,0.29,0.03,0.06,0.25,0.14,0.21,0.14,0.04,0.24,0.18,0.08,0.54,0.13,0.31,0.85,3.54,1.04,2.11,0.04,0.49,0.28,0.84,0.48,0.06,0.05,0.05,0.04,0.74,0.2,0.32,0.07,0.05,0.45,0.05,0.37,0.55,0.19,0.06,0.13,0.16,0.18,0.02,0.07,0.17,0.69,0.02,5.92,13.1,0.02,0.04,0.08,0.03,0.66,0.07,0.35,1.2,0.84,0.4,0.18,2.23,0.2,0.29,0.09,0.1,0.09,0.32,0.79,0.05,0.03,0.05,0.14,0.14,0.31,0.32,0.16,0.75,0.09,0.06,0.12,0.53,0.93,1.15,0.26,0.29,0.47,0.02,0.08,0.04,0.16,0.02,0.38,0.1,1.22,0.32,0.29,0.33,0.25,2.68,0.06,0.92,0.4,0.02,0.1,0.06,0.19,0.27,0.33,17.28,4.77,0.03,1.2,0.14,0.48,0.07,0.07,0.07,0.14,0.07,0.11,0.02,0.12,0.05,0.26,1.88,0.12,1.35,0.16,0.57,0.04,0.11,0.04,0.2,1.08,1.34,0.06,0.05,0.08,0.07,2.03,0.12,0.07,0.57,0.24,0.06,0.1,0.01,0.47,0.02,0.07,0.04,0.09,4.91,0.13,0.02,0.11,0.44,0.69,0.07,0.03,0.1,0.42,0.33,1.97,0.21,0.07,0.03,0.21,1.73,0.04,0.05,0.73,0.05,0.02,0.44,0.51,0.01,0.47,0.4,0.23,0.78,0.1,0.06,0.44,0.04,0.03,0.29,0.1,0.38,0.39,0.15,0.01,0.01,0.26,0.63,0.63,0.41,0.01,0.04,0.07,0.29,0.15,0.04,1.23,0.11,0.02,0.03,0.04,0.04,0.48,0.65,0.08,0.08,0.02,0.14,0.04,0.16,0.06,1.18,0.19,0.15,0.03,1.35,0.15,0.84,0.14,0.31,0.94,0.09,0.17,3.31,0.4,0.05,0.08,0.56,0.06,1.77,0.08,0.37,0.16,0.18,0.2,0.41,0.01,0.01,0.05,0.17,0.19,0.1,0.18,0.05,0.4,0.03,0.74,0.02,0.3,0.03,0.91,0.19,0.13,0.99,5.15,0.05,0.72,1.94,1.48,4.07,0.1,0.04,0.57,0.07,0.28,6.82,0.05,0.05,0.06,2.15,0.16,3.07,2.31,0.97,0.47,0.14,0.29,0.04,0.17,1.87,0.03,0.99,0.26,1.21,0.16,0.1,6.59,0.31,0.57,0.46,0.05,0.39,1.07,2.07,0.73,0.23,0.04,1.64,1.39,0.04,2.8,0.62,0.03,1.12,0.6,0.32,0.81,0.04,0.52,0.02,0.02,0.11,0.37,0.11,0.14,0.02,0.09,0.33,0.08,0.01,0.07,0.18,0.03,0.05,0.17,0.04,0.55,0.19,0.14,0.02,1.04,0.06,0.92,0.58,0.04,0.04,0.02,0.09,0.35,0.18,0.16,0.02,0.02,0.05,0.24,0.16,0.12,0.06,0.58,0.53,0.08,0.01,0.17,0.3,0.34,0.38,0.06,0.41,0.2,1.02,0.3,0.18,0.02,0.24,0.87,0.3,0.2,0.38,0.04,0.01,0.57,1.73,0.12,0.1,0.15,0.2,0.2,1.63,0.15,0.29,0.13,0.01,0.35,0.06,0.15,0.01,0.04,0.76,0.07,0.86,0.09,0.18,0.34,0.6,0.08,0.02,0.06,0.03,0.39,0.18,2.28,0.02,0.16,0.16,0.1,0.11,1.15,0.2,0.01,0.03,0.02,0.09,0.03,0.27,0.09,0.09,0.07,0.09,0.02,0.47,0.56,0.02,0.02,0.19,0.12,0.01,0.01,0.02,0.03,0.02,0.38,0.1,1.46,0.01,0.03,0.05,0.2,0.64,0.42,0.04,0.12,0.13,0.47,0.12,1.05,0.09,0.7,0.08,0.19,0.05,2.05,0.08,0.12,0.15,0.03,0.31,0.02,0.3,0.05,0.16,0.19,0.86,0.27,0.01,0.89,0.18,0.44,0.12,0.45,0.05,0.05,0.09,0.04,0.14,0.47,0.15,0.17,0.02,0.03,0.06,0.07,0.4,0.02,0.05,0.23,0.02,0.25,14.64,0.03,0.24,0.31,0.85,0.27,0.98,0.33,0.16,0.05,3.17,0.75,0.02,0.02,0.06,0.01,0.01,0.11,0.61,3.13,2.8,0.8,0.02,0.43,0.05,0.07,0.09,0.12,1.79,1.45,2.39,0.65,0.05,0.08,0.02,21.82,9.52,0.09,0.03,0.1,0.01,0.02,0.04,0.49,4.23,0.79,0.17,0.46,0.28,0.08,0.05,0.02,0.04,0.95,0.71,1.74,0.08,0.25,0.26,0.11,0.23,0.2,0.01,0.39,0.29,0.03,0.28,0.3,0.03,0.05,0.47,0.47,0.22,0.17,0.17,0.64,0.29,0.11,0.13,0.13,0.05,0.57,0.13,0.01,0.23,1.11,1.92,0.11,1.43,1.13,0.7,2.07,0.17,1.53,0.16,0.17,0.72,0.14,0.66,0.09,0.36,0.38,1.09,2.54,0.08,0.67,0.08,0.02,0.05,0.16,0.89,0.33,0.06,0.07,0.05,0.07,0.64,6.36,0.08,0.43,0.01,0.01,0.64,0.01,0.07,0.08,11.02,0.14,0.02,0.04,0.04,0.8,0.05,2.08,0.8,0.07,0.58,4.61,0.21,0.02,1.55,0.12,0.06,0.36,1.41,0.05,0.44,0.03,0.04,0.05,0.37,0.26,6.81,0.21,0.67,0.05,1.77,0.53,4.45,0.11,0.03,0.57,0.43,0.03,0.49,0.76,0.1,0.24,0.06,0.03,0.53,0.1,2.78,1.13,0.18,0.1,0.06,0.27,3.38,0.46,0.03,0.33,0.1,0.36,0.04,0.36,0.31,1.35,0.85,1.25,0.15,2.83,0.48,0.02,0.02,0.01,0.36,0.49,0.02,2.94,0.15,0.63,0.06,1.67,0.2,0.01,0.04,5.23,0.59,0.08,0.13,0.06,0.3,0.47,0.25,0.02,0.06,0.38,0.24,0.01,0.17,0.01,0.18,1.31,0.32,0.01,0.06,2.22,0.43,0.02,0.75,0.14,0.21,0.4,0.13,0.08,0.1,0.07,0.01,0.18,0.01,2.83,0.21,0.46,0.07,0.28,0.08,0.14,0.15,1.46,0.14,0.21,0.18,0.07,0.47,0.03,0.55,2.05,0.16,0.02,0.09,0.05,0.61,0.08,0.12,0.02,0.7,1.92,0.9,2.67,0.04,0.15,0.11,0.45,0.06,0.31,0.92,0.03,0.34,0.03,0.08,1.91,0.23,0.05,1.66,0.46,0.19,0.23,1.16,0.31,3.52,0.84,0.02,0.24,14.76,0.69,0.22,0.41,0.3,1.33,0.27,28.31,0.04,0.46,0.29,0.32,0.07,0.07,0.02,0.19,0.46,0.1,0.03,0.1,0.23,0.01,0.02,0.71,0.15,0.75,0.95,4.25,0.07,0.03,0.02,0.35,0.61,0.62,0.36,0.52,0.07,0.3,0.5,0.45,0.17,0.74,0.12,0.06,0.58,0.04,0.05,0.2,0.05,0.38,0.48,0.04,0.14,2.09,0.46,0.02,0.09,0.12,0.56,0.58,0.16,0.54,0.16,0.19,1.46,0.08,0.13,0.96,0.05,0.11,0.24,0.04,0.08,0.27,0.07,0.28,0.01,0.06,0.89,0.27,2.56,0.76,0.63,0.12,0.03,2.48,0.3,0.07,0.04,0.09,0.09,0.12,0.08,0.04,0.13,0.06,0.38,0.78,0.07,0.27,0.04,0.09,0.01,0.21,0.09,0.56,0.2,0.12,0.06,0.24,0.06,0.48,0.04,1.81,0.89,0.26,0.05,1.68,0.05,0.02,0.32,0.07,0.03,0.85,0.16,1.5,0.01,0.04,0.53,0.01,0.18,0.31,0.11,0.39,0.04,0.42,0.02,0.62,0.13,0.02,0.11,0.12,0.1,0.06,0.54,0.44,0.06,0.62,0.2,0.03,1.3,0.06,0.46,0.58,0.06,0.11,0.11,0.05,0.57,0.03,0.26,0.33,0.59,0.52,0.17,0.08,0.27,0.06,0.02,0.96,2.15,0.46,0.25,3.02,0.19,0.4,0.07,0.07,0.1,0.02,0.1,0.29,0.02,3.82,0.04,0.02,0.06,0.75,0.71,0.3,0.23,1.7,1.15,0.16,0.03,0.45,0.24,1.78,0.09,0.03,0.14,0.41,0.3,0.1,0.32,0.08,0.44,4.17,0.13,0.87,0.2,0.28,0.04,8.76,0.1,0.1,0.04,0.24,0.09,1.35,0.03,2.62,0.02,0.14,0.01,0.02,0.16,0.03,0.35,0.28,0.08,0.44,0.26,0.15,0.09,0.19,0.03,0.68,0.21,0.09,0.66,0.03,0.02,0.05,0.07,1.1,0.26,0.01,2.11,0.12,0.02,0.76,0.75,0.06,0.31,0.32,0.03,0.46,0.05,0.32,0.16,0.02,0.26,0.3,0.03,0.23,0.02,0.05,0.74,1.23,0.59,0.32,0.66,1.25,0.02,0.02,0.02,1.95,0.06,0.06,0.06,0.85,0.02,0.09,0.71,1.27,0.37,1.93,0.04,2.0,0.01,0.07,0.08,0.02,1.0,0.03,0.01,0.3,1.17,0.15,0.07,0.11,0.16,0.55,0.21,0.15,0.07,0.56,0.09,2.49,0.22,0.11,0.13,0.06,0.03,0.28,0.02,0.04,0.75,1.45,0.22,1.38,0.13,0.59,1.96,0.03,0.14,0.68,0.51,0.06,1.56,0.35,0.15,1.12,0.25,1.21,0.04,0.08,0.01,0.02,0.83,0.18,0.28,1.12,1.34,0.03,0.02,2.0,3.07,2.2,0.42,0.01,0.02,0.66,0.03,0.02,0.05,3.65,0.97,0.35,1.86,0.04,0.06,0.17,1.96,1.41,0.02,0.13,0.42,2.35,1.09,1.29,0.91,0.01,0.15,4.79,0.32,0.03,0.33,0.05,0.75,0.38,0.24,0.02,0.05,0.43,0.3,1.07,0.54,0.05,0.53,0.07,0.75,0.32,0.48,0.12,0.06,0.04,0.11,0.16,0.86,0.33,0.91,0.12,0.16,0.54,0.12,0.01,0.27,0.17,7.37,0.89,0.28,0.39,0.39,0.12,0.14,0.13,0.02,1.13,0.36,0.04,0.02,0.41,0.51,0.11,0.04,0.58,0.16,0.11,0.11,0.2,0.16,0.88,0.6,0.23,0.45,0.02,4.94,0.17,4.31,0.01,0.59,0.27,0.57,0.02,0.17,0.02,0.14,0.49,0.13,0.03,0.04,0.72,0.04,0.63,0.17,0.22,0.7,0.06,0.81,0.02,0.18,0.57,0.2,0.01,0.04,0.03,0.01,0.05,0.12,0.02,0.99,0.51,0.29,0.27,0.11,0.11,0.08,1.61,0.41,0.04,0.46,0.15,0.02,0.16,0.82,0.09,0.24,0.09,0.14,0.5,0.11,0.26,0.06,0.13,2.06,0.02,0.62,0.03,0.06,0.01,0.05,0.27,0.25,1.5,0.86,0.08,0.52,0.26,0.03,0.02,0.08,2.88,1.68,0.13,0.82,0.4,0.06,0.02,0.06,0.1,0.06,0.4,1.52,0.43,0.02,0.27,0.16,0.06,0.76,0.12,0.03,0.39,0.03,0.1,0.47,0.3,0.13,0.1,0.04,1.24,0.58,0.21,0.72,0.94,0.03,0.03,0.43,0.28,0.19,0.02,0.33,0.05,0.09,0.14,0.46,0.59,2.1,0.25,0.18,0.29,0.04,0.36,0.03,0.36,0.03,0.09,0.16,0.08,0.02,0.07,0.35,11.89,0.01,0.39,1.11,0.03,0.18,0.05,0.02,0.57,0.07,0.02,0.02,0.02,0.11,0.21,0.03,0.09,0.01,0.03,0.19,0.06,0.23,3.66,3.89,0.02,0.29,1.83,0.04,0.22,1.25,0.02,0.44,0.17,1.18,0.44,0.45,0.17,0.43,0.16,0.45,0.19,0.76,0.09,0.11,0.73,0.41,0.14,1.27,0.24,0.08,0.09,0.25,0.42,0.76,0.34,1.2,0.14,0.17,0.11,0.26,0.32,0.03,0.06,3.08,0.58,0.08,0.2,0.13,0.29,0.15,0.38,0.29,0.07,3.17,0.22,4.01,0.29,0.89,0.03,0.28,2.41,0.11,0.04,0.06,0.1,0.1,0.29,0.19,0.13,0.07,0.01,1.09,0.14,2.12,0.6,0.08,2.35,1.82,0.25,0.02,0.05,0.33,0.1,0.11,0.08,1.44,0.28,0.07,0.39,0.49,0.09,0.25,1.14,0.11,4.44,0.04,0.5,0.01,0.05,0.05,0.6,0.09,0.17,0.31,0.05,0.13,0.02,1.08,0.15,0.7,0.18,0.31,0.03,0.1,0.11,0.02,0.6,0.82,0.07,0.09,0.89,0.06,0.13,0.08,0.02,0.01,0.2,0.63,0.54,0.01,0.08,0.89,0.05,0.33,0.6,0.07,0.03,1.42,0.28,0.26,0.98,1.86,0.08,0.03,0.63,0.05,0.03,0.11,0.13,2.93,2.52,0.22,0.17,1.86,0.01,0.12,0.38,0.24,0.11,0.11,0.47,0.05,0.28,0.03,0.79,0.62,0.01,0.08,1.45,0.42,0.8,0.35,0.53,0.14,0.12,0.08,1.06,0.27,0.02,0.06,0.16,0.09,0.02,0.03,0.14,0.25,0.01,0.71,1.69,0.34,1.32,0.16,15.3,1.14,0.07,2.05,0.02,0.41,0.15,0.39,0.32,0.7,0.02,0.06,0.08,1.42,0.06,0.2,0.45,0.54,0.74,0.06,2.23,0.01,0.44,0.08,0.13,0.01,0.01,0.11,0.02,0.93,0.29,0.08,0.1,0.26,0.01,0.13,0.04,0.14,0.24,0.36,0.09,0.03,0.36,0.17,0.05,0.31,0.93,0.22,0.85,0.01,0.05,0.03,0.01,0.35,1.49,0.02,1.25,0.02,0.19,0.48,0.02,0.01,0.03,0.41,0.08,0.01,0.57,1.8,2.44,0.05,0.04,0.06,0.05,1.44,0.19,0.01,0.38,0.5,2.63,0.17,0.04,0.78,0.35,0.07,3.69,2.94,0.07,0.08,0.02,0.32,0.37,1.48,1.01,0.12,0.2,0.45,0.19,0.78,0.2,2.68,5.55,0.05,0.04,0.3,0.23,3.33,0.41,0.04,0.71,0.15,4.42,0.13,0.04,0.03,0.18,0.02,0.44,0.68,0.02,0.11,0.14,0.14,0.09,0.76,0.51,0.3,0.16,0.09,0.02,1.09,0.33,0.02,0.06,0.03,0.03,0.59,0.03,0.03,0.02,0.21,0.2,0.03,0.01,0.16,0.03,0.01,0.13,0.1,0.58,0.22,0.21,0.65,0.14,0.04,0.04,0.7,3.05,0.01,82.74,0.41,0.06,0.01,0.03,0.19,0.03,0.03,0.94,0.39,0.14,1.05,0.02,0.02,0.15,0.02,0.02,0.31,0.06,0.03,0.08,3.6,0.03,0.14,0.17,0.06,0.38,0.92,0.5,0.11,0.36,0.22,0.33,2.48,0.24,0.06,0.26,2.58,0.03,0.25,0.06,0.21,1.01,0.54,0.24,0.03,0.53,0.02,0.15,0.76,0.01,0.03,0.06,0.05,0.03,0.02,0.5,1.58,0.02,1.27,0.33,1.01,0.05,0.76,1.22,0.02,0.02,0.28,0.14,0.04,0.04,0.01,0.27,0.2,0.14,0.01,1.58,0.35,0.28,0.59,0.1,2.69,0.2,0.91,0.11,0.11,0.12,0.93,0.27,0.11,3.65,1.66,0.21,1.19,0.61,0.03,0.03,0.02,0.02,0.01,0.15,0.26,0.06,1.47,0.12,0.28,0.04,0.07,0.47,0.41,1.86,8.42,0.17,0.08,1.33,0.09,0.27,0.01,8.33,0.48,0.11,0.17,0.16,2.41,0.05,0.34,0.01,0.04,1.63,0.26,0.97,0.54,0.13,0.42,0.02,0.09,0.14,0.12,1.73,0.15,0.1,0.08,0.22,0.15,0.01,0.07,0.19,0.02,0.02,0.59,0.02,0.45,0.9,0.2,0.17,0.44,0.56,0.04,0.41,0.18,0.23,0.26,0.04,1.09,0.24,0.16,0.43,0.04,0.15,0.35,2.17,0.19,0.61,0.67,0.23,0.17,1.35,0.14,1.22,0.14,0.03,0.04,0.08,0.02,0.16,1.31,0.57,0.34,0.24,0.69,1.71,0.09,0.2,0.03,0.52,0.24,0.34,0.08,0.3,0.45,0.24,0.6,0.07,0.26,0.23,0.1,0.57,0.08,0.62,0.35,0.4,0.28,0.04,0.25,6.31,0.25,0.02,0.58,0.07,0.34,0.19,0.04,0.01,0.07,0.2,0.8,0.06,0.43,0.21,1.06,0.04,0.04,0.01,0.19,4.58,0.57,0.03,1.37,0.22,0.45,0.16,0.32,0.36,0.02,0.19,0.01,0.1,0.46,0.51,0.19,0.06,0.49,0.6,0.07,0.18,0.05,3.84,0.13,0.12,0.12,0.53,0.56,12.27,0.07,0.17,0.05,0.01,0.08,0.2,0.58,0.07,0.07,0.05,0.68,0.65,0.16,1.11,0.05,3.5,6.5,2.52,0.14,0.01,2.05,0.12,0.06,0.05,0.27,0.04,0.06,1.42,0.02,0.5,0.01,0.14,0.24,0.11,0.22,0.69,0.17,0.05,0.23,0.06,0.02,0.22,0.17,0.33,0.99,0.22,0.01,2.09,1.06,1.35,0.91,0.07,0.13,0.11,0.14,0.76,0.38,0.52,0.12,0.11,0.89,0.09,0.02,0.27,0.28,0.02,4.06,0.49,0.01,7.72,0.76,0.03,1.53,0.47,0.34,0.02,0.5,0.06,0.05,0.5,0.08,0.02,0.27,0.07,0.22,0.59,0.1,0.31,0.1,0.36,0.55,0.04,0.17,1.3,0.54,0.13,0.09,0.1,0.13,0.12,0.11,0.02,0.71,0.02,0.05,0.03,0.02,0.02,0.08,0.26,0.14,0.43,0.01,0.41,0.02,0.15,0.05,0.18,0.09,1.99,0.19,0.57,0.02,0.17,1.71,0.05,0.96,0.08,0.13,0.06,0.03,0.9,0.01,4.1,0.34,0.06,0.37,0.84,0.05,0.8,0.36,0.25,0.63,0.39,0.02,0.16,0.36,0.25,2.79,0.08,1.5,0.11,5.19,0.27,0.49,0.08,1.16,0.02,2.2,0.03,0.14,0.16,0.22,0.16,0.12,0.06,0.15,0.02,0.05,0.38,0.2,0.01,1.7,3.52,0.04,0.9,0.24,0.14,1.68,0.58,0.1,2.01,1.08,0.24,0.34,0.38,0.05,0.12,0.36,0.89,0.3,0.02,1.47,0.19,0.11,1.52,0.13,0.03,0.03,0.76,0.92,0.11,1.13,0.08,0.09,0.55,1.69,0.14,0.15,0.67,0.06,0.89,0.27,0.04,0.27,0.11,0.07,0.24,0.12,1.01,2.79,0.05,0.03,0.45,0.04,1.62,0.21,0.41,0.02,0.01,0.8,0.1,0.45,0.33,0.02,1.17,0.38,0.11,0.13,0.97,0.02,1.67,0.6,0.2,0.2,0.23,0.48,0.02,0.02,0.1,0.04,0.02,0.21,0.39,0.89,0.02,0.2,0.2,0.06,0.48,0.15,0.07,0.05,0.06,0.39,0.02,0.05,0.06,0.07,0.02,0.04,0.25,0.08,0.08,0.18,0.68,1.16,0.02,0.02,0.13,0.35,0.96,0.14,0.12,0.28,0.01,0.89,0.13,0.02,2.1,0.01,0.02,0.14,0.72,0.01,0.09,0.02,0.65,0.63,0.03,0.1,1.05,0.05,0.05,0.28,0.18,0.46,0.25,0.06,1.47,0.36,0.05,0.23,0.02,0.05,2.28,0.25,0.92,0.71,0.06,0.15,0.26,0.01,0.03,0.5,11.98,0.45,0.07,0.12,0.41,0.2,0.2,0.12,0.28,0.57,1.47,0.34,0.02,0.71,0.06,0.46,0.09,0.02,0.12,0.32,1.22,0.1,0.03,0.01,0.02,0.18,0.06,0.03,0.19,1.5,0.63,0.93,0.07,0.02,0.11,1.46,0.27,0.16,0.01,0.49,0.04,0.11,0.07,0.08,0.08,0.02,0.23,0.01,0.03,0.83,0.03,0.04,0.21,0.61,0.53,0.04,0.16,0.6,1.55,0.04,0.03,0.19,1.54,0.16,0.22,0.04,0.13,0.1,0.02,0.03,0.1,0.08,0.04,0.5,0.08,0.06,0.68,0.27,0.08,0.31,0.91,0.14,0.83,0.2,0.14,1.02,0.42,0.16,0.08,0.84,0.25,0.11,0.05,0.02,0.01,0.28,0.04,0.02,0.58,0.09,2.17,0.1,0.05,0.5,0.27,1.54,0.94,0.05,0.05,0.2,0.09,0.08,0.28,0.24,0.04,0.04,0.79,0.35,0.03,0.05,0.01,0.22,0.02,0.49,1.11,0.05,0.17,0.02,0.1,1.58,0.39,0.04,0.42,0.17,0.76,0.43,0.01,0.04,0.22,0.11,0.12,0.02,0.06,0.04,0.56,0.26,0.06,3.83,0.81,0.33,0.09,0.24,1.71,0.29,0.06,0.14,0.23,0.04,0.12,0.26,0.26,0.09,0.15,0.01,0.01,0.05,0.48,0.42,0.15,0.8,0.03,0.01,1.64,0.43,0.66,0.2,0.65,0.1,0.03,0.09,0.23,0.05,1.38,0.22,2.82,0.02,0.09,0.43,1.29,0.19,0.3,0.11,0.07,0.02,0.03,0.02,0.07,0.03,0.05,0.27,0.03,0.3,0.18,0.08,0.02,0.04,0.05,0.1,0.04,0.04,0.28,0.28,1.23,0.1,0.21,0.11,0.47,0.09,0.01,0.12,0.02,0.09,0.01,0.66,0.06,0.41,0.63,0.25,0.39,0.1,0.03,0.01,0.02,0.2,0.09,0.33,0.16,0.05,0.13,0.53,0.02,0.02,0.04,0.02,0.01,0.15,0.67,0.02,0.05,0.06,0.13,0.22,0.02,2.07,0.53,0.13,0.16,0.22,1.03,0.03,0.06,0.04,0.1,0.06,0.13,1.14,0.46,0.11,0.05,0.73,0.45,0.1,0.12,0.68,0.03,0.06,2.9,0.84,1.32,0.66,0.04,0.26,0.04,0.41,0.02,0.16,0.08,1.46,0.06,0.47,0.69,0.12,0.05,0.16,1.37,0.63,0.11,0.11,0.01,0.28,0.07,0.16,0.01,1.21,0.37,3.38,0.06,0.19,0.45,0.27,0.14,2.38,0.04,0.66,0.18,0.16,0.32,0.02,0.32,6.11,0.38,0.03,1.94,0.09,0.03,0.14,0.08,0.34,0.33,0.11,0.66,0.33,0.59,0.3,0.24,0.02,0.03,0.54,0.17,0.02,0.18,0.08,1.69,0.05,0.1,0.01,0.01,0.05,1.83,0.02,0.25,0.11,1.34,0.06,0.04,0.08,0.05,0.43,0.01,0.3,0.08,1.56,0.4,0.41,0.03,0.05,0.06,0.02,0.28,0.05,0.23,0.24,0.27,0.08,0.19,0.58,1.08,0.04,0.59,0.22,0.03,0.02,0.09,0.67,0.22,0.25,0.11,0.05,0.44,0.59,0.03,0.06,0.03,0.05,0.11,1.73,0.01,0.07,2.97,0.29,0.12,0.02,0.06,0.09,0.34,0.17,0.06,0.42,0.06,1.42,0.02,0.03,0.08,0.19,0.13,0.13,0.33,0.23,0.72,3.27,0.02,0.33,0.13,0.11,0.09,0.04,0.26,0.09,0.12,0.39,0.22,0.15,0.08,0.07,0.05,0.27,1.07,0.72,0.06,0.35,16.15,0.28,9.87,0.07,0.18,0.27,2.57,13.04,0.38,0.02,0.26,1.08,0.15,1.23,0.26,0.21,0.23,0.03,0.21,0.03,0.14,1.49,1.32,0.01,0.26,0.96,0.65,0.01,0.33,0.25,1.85,0.1,0.4,0.22,0.58,0.13,0.66,0.07,0.05,0.09,0.46,0.06,0.01,0.27,0.01,0.05,0.4,0.04,0.08,0.33,1.21,0.37,0.15,0.31,0.02,0.08,0.33,0.01,0.03,0.13,0.07,0.86,0.84,0.22,0.14,0.04,0.23,0.1,0.08,0.41,0.02,0.26,0.27,1.45,0.44,0.13,0.31,0.17,2.68,0.96,4.88,0.04,0.24,0.06,0.01,0.02,0.03,0.02,0.13,0.01,0.03,0.01,0.17,0.03,0.11,2.79,0.06,0.32,0.62,0.08,0.41,1.03,0.12,0.1,0.11,0.03,0.13,0.23,1.26,0.87,0.02,0.2,0.12,0.03,0.29,0.01,0.3,0.02,0.11,0.48,0.15,2.37,0.08,1.19,0.29,0.02,0.63,0.03,0.05,0.1,0.05,0.04,0.47,0.12,0.5,0.02,0.09,0.09,0.24,0.36,0.07,0.06,0.11,0.27,0.11,1.37,0.24,0.03,0.42,0.13,0.04,0.02,22.0,0.08,0.56,0.11,2.11,3.15,0.16,0.17,0.6,0.12,0.17,0.17,0.16,0.94,0.05,0.02,0.11,0.12,1.12,2.69,0.13,0.06,0.11,0.14,0.06,6.05,0.05,0.08,0.11,0.07,0.56,0.16,0.31,0.38,0.04,0.09,0.03,0.1,0.09,0.02,0.05,0.86,0.25,0.03,0.07,0.02,0.05,0.02,1.45,0.06,0.22,0.42,0.07,0.98,0.21,0.4,0.17,0.02,0.19,0.06,0.13,0.01,0.03,0.25,1.07,0.05,0.08,4.19,0.02,0.03,0.28,0.37,0.16,0.01,0.09,0.13,0.27,3.5,0.3,1.19,0.06,0.81,0.01,0.26,0.19,0.19,0.1,3.99,1.93,0.02,1.88,0.09,0.1,0.23,1.32,1.59,1.35,0.02,5.17,0.25,0.04,0.47,0.09,0.07,1.14,0.01,0.37,0.53,1.51,0.04,0.09,1.01,0.31,0.03,3.04,0.15,0.19,0.2,0.05,0.02,0.02,0.24,0.06,0.08,2.42,0.03,0.03,0.73,0.65,0.06,0.03,0.16,0.11,0.36,6.73,0.06,0.19,0.59,0.04,0.24,0.12,0.02,0.48,0.63,18.36,0.49,0.06,0.09,0.09,0.12,1.46,0.33,0.1,1.38,0.02,0.91,0.16,0.02,0.03,0.01,0.08,0.14,0.06,0.06,1.0,0.64,0.4,0.28,2.4,0.54,0.02,0.63,2.3,0.14,0.22,0.01,0.83,0.09,0.1,0.11,0.23,0.34,0.93,0.03,0.35,0.01,0.96,0.04,0.22,0.07,0.11,1.49,0.12,0.14,0.17,0.19,0.29,8.49,0.46,1.15,0.24,0.1,0.13,0.08,0.01,4.19,0.54,0.14,0.54,0.75,0.4,1.06,0.16,1.74,1.46,0.09,0.54,0.25,0.22,0.08,0.03,0.28,0.09,0.1,0.12,0.19,1.86,0.06,0.53,0.13,0.15,0.08,0.07,0.44,0.03,2.77,0.15,1.04,0.36,0.12,0.55,0.77,0.6,0.09,0.21,0.26,0.33,0.96,0.37,0.07,1.21,0.58,1.08,1.11,0.55,0.09,0.23,2.29,2.24,2.17,0.76,2.89,0.62,0.05,0.04,0.32,0.19,0.02,0.17,1.1,0.06,0.1,1.38,0.28,0.02,1.76,1.07,0.05,0.64,0.31,0.33,0.24,0.09,0.14,0.07,0.14,0.09,0.35,0.02,0.02,0.03,0.26,0.01,1.17,0.1,1.86,0.01,0.19,0.03,0.03,0.5,0.04,0.02,0.19,5.95,4.05,0.24,0.04,0.02,6.96,0.09,0.1,1.29,0.17,0.01,0.58,0.06,0.03,1.24,0.53,0.29,0.05,0.02,1.09,0.36,0.08,0.1,0.05,0.04,0.08,0.13,1.25,0.05,0.35,0.02,0.05,0.24,0.17,0.04,0.01,0.1,0.07,1.46,0.21,0.05,0.22,1.71,0.22,0.68,0.09,1.05,1.41,0.13,1.26,0.12,0.21,0.55,0.1,0.42,0.29,0.44,0.03,1.56,0.19,0.05,0.42,0.07,0.12,1.06,0.01,0.19,1.19,0.32,0.5,0.14,0.07,0.09,0.02,0.08,0.14,0.56,0.08,0.07,0.19,0.19,0.01,0.09,0.72,0.02,0.04,0.02,0.06,0.37,0.09,0.2,0.02,0.45,0.05,0.13,3.39,0.21,0.47,0.22,0.31,0.22,0.31,0.03,0.02,0.33,0.05,0.17,0.1,0.56,0.56,23.42,0.06,0.21,0.23,0.13,0.08,0.15,0.04,0.13,0.18,0.29,1.77,0.2,0.02,0.33,0.06,0.42,2.11,0.24,0.03,0.15,0.07,0.5,0.35,0.33,0.31,0.12,0.06,0.32,0.22,0.01,0.02,0.08,0.16,0.02,0.02,0.08,1.56,2.41,2.08,0.08,0.35,0.42,0.06,1.23,0.1,0.36,0.03,1.92,0.47,0.21,0.21,0.67,0.05,0.96,0.01,0.1,0.04,3.34,0.03,0.83,0.11,0.13,0.28,0.11,1.97,0.07,0.07,0.38,0.27,0.43,0.12,0.06,0.67,4.7,0.15,1.33,0.01,1.94,0.01,0.11,0.14,0.05,0.02,0.03,0.49,0.24,1.74,0.03,0.41,0.66,1.89,0.12,0.32,0.05,0.41,0.44,0.07,1.06,0.49,0.07,0.17,0.03,0.64,0.21,0.14,0.16,0.01,0.2,0.03,0.2,0.06,1.51,0.3,0.04,0.29,0.07,0.16,0.23,6.24,0.21,0.18,0.5,0.13,2.99,0.12,0.01,3.02,0.05,0.44,0.3,0.08,0.03,0.05,0.03,0.03,0.13,0.06,0.76,0.02,0.28,0.03,0.92,0.13,0.58,0.04,0.55,0.01,0.2,0.04,0.01,0.48,0.06,0.23,0.07,0.26,0.31,0.13,0.38,0.46,0.02,0.05,0.28,0.37,0.12,0.08,0.23,0.06,0.74,0.1,1.35,0.15,0.01,0.02,0.52,1.05,0.05,1.51,0.52,0.02,0.14,0.29,0.07,0.41,0.2,0.71,0.12,0.04,0.62,0.3,0.01,0.03,0.2,0.12,0.1,0.34,0.32,0.03,0.35,0.03,0.06,0.05,0.2,0.05,0.94,0.07,0.28,0.47,1.96,0.26,0.37,0.05,0.34,0.15,0.09,0.48,0.27,0.2,0.73,0.14,0.66,0.05,1.3,0.2,1.45,0.04,0.27,0.23,0.6,0.14,0.08,0.05,0.39,3.32,0.94,0.12,0.14,0.39,10.42,0.04,0.2,0.2,6.95,0.02,0.26,0.08,0.26,0.05,0.02,7.84,0.18,0.14,0.02,0.63,0.12,0.01,0.11,0.14,0.09,0.06,0.45,0.05,0.15,0.05,0.03,0.17,0.22,2.62,0.03,0.08,0.23,0.14,0.5,0.09,0.6,0.89,0.4,0.09,0.24,0.09,0.17,0.22,0.57,0.25,0.11,0.67,0.1,0.27,0.66,0.04,0.07,0.03,0.32,0.04,0.09,0.38,1.09,0.6,0.06,0.24,0.82,0.07,0.09,2.06,0.63,0.13,2.05,0.1,0.05,0.26,0.19,0.32,0.75,0.04,0.15,0.85,0.05,2.19,0.2,1.68,0.42,1.16,0.29,0.08,0.08,0.02,0.18,0.12,0.24,1.33,0.06,0.19,0.19,0.03,1.13,0.14,0.97,0.2,0.68,0.02,0.12,0.03,0.51,0.49,2.9,0.03,0.39,0.07,0.01,1.03,2.6,0.09,0.29,1.23,0.91,0.01,0.22,0.46,2.61,0.07,0.21,0.04,0.08,0.82,0.03,1.09,0.01,0.34,0.32,1.91,0.22,0.02,0.12,0.2,0.02,0.18,4.64,0.35,0.04,0.4,0.09,0.24,0.37,1.92,0.03,0.02,0.12,0.31,1.15,0.03,0.56,1.47,0.4,0.2,0.02,0.05,0.08,0.15,0.3,1.77,0.12,0.85,3.43,0.02,0.03,0.17,0.32,0.02,0.13,0.12,0.1,0.18,0.08,0.83,0.13,0.54,0.08,0.02,0.09,0.08,0.11,0.1,0.18,0.05,0.06,0.02,0.12,0.19,0.12,0.11,0.04,5.12,0.05,0.29,0.14,0.02,1.68,0.18,1.19,0.16,0.2,0.02,2.84,0.42,0.04,0.11,0.01,3.23,0.11,0.13,1.69,1.6,0.82,0.21,0.03,0.53,0.05,0.04,0.54,0.42,0.15,0.12,0.08,0.01,0.1,0.09,0.23,0.04,0.21,0.11,0.22,0.42,0.22,1.75,0.04,0.77,0.2,0.05,0.56,0.94,0.16,0.02,0.31,0.09,0.14,0.28,0.3,0.08,0.6,9.88,0.08,0.19,0.1,0.11,0.08,0.44,0.41,0.02,0.01,0.46,0.34,0.96,0.09,0.5,0.12,0.11,0.02,0.08,0.05,0.09,0.11,0.19,0.37,0.56,0.33,0.42,0.11,0.72,0.09,0.27,0.43,0.09,0.11,0.01,0.07,0.07,0.04,0.04,0.1,0.27,0.03,0.64,0.16,0.32,0.69,0.15,0.08,0.14,0.02,1.51,0.03,0.13,1.07,0.43,0.04,0.98,0.92,0.44,0.22,0.02,0.52,0.39,0.76,0.02,3.61,0.05,0.49,0.12,0.07,0.03,0.26,0.44,0.06,0.66,0.36,0.32,1.32,0.01,0.6,0.24,0.17,0.11,0.16,2.85,0.01,0.2,0.34,0.92,2.49,0.42,0.05,0.67,0.23,0.65,1.22,1.08,0.1,0.39,0.25,0.43,0.02,0.04,1.06,1.66,0.59,0.58,0.06,0.02,0.03,0.15,1.49,2.83,1.55,0.13,6.9,0.04,0.9,0.06,0.07,0.06,0.1,0.31,0.59,0.87,0.05,0.09,0.22,2.03,0.28,0.04,0.01,0.09,0.95,0.07,0.01,0.13,2.07,0.21,1.1,0.42,0.27,0.61,0.06,0.16,0.05,0.53,0.03,0.01,0.12,0.25,0.67,0.15,0.31,0.02,0.06,0.14,0.04,0.03,1.32,0.07,1.36,2.2,1.26,0.06,0.02,1.94,0.32,0.07,0.25,3.87,0.09,1.44,0.25,0.4,0.13,0.14,0.07,0.02,0.1,0.43,0.58,0.08,0.05,0.5,0.06,0.1,0.36,5.12,0.54,0.02,0.19,1.06,0.01,0.08,0.1,0.08,0.07,0.07,0.2,0.07,0.67,0.02,0.24,0.08,0.05,0.12,0.41,0.01,0.35,0.45,0.15,0.2,0.07,0.02,0.04,1.03,0.11,0.52,4.83,0.02,0.41,2.44,0.19,0.99,0.06,0.05,0.05,0.16,0.1,0.19,0.01,0.16,0.11,0.42,0.12,0.02,0.79,0.38,0.29,0.16,0.05,0.26,0.26,0.4,0.03,0.15,0.18,0.56,0.02,0.07,0.17,0.11,0.39,1.6,0.05,0.07,0.24,0.14,0.09,0.17,0.15,0.03,0.08,0.2,0.13,0.04,0.22,0.27,0.05,0.09,14.64,0.01,0.02,0.05,0.33,0.05,0.02,0.12,0.02,0.11,0.24,0.19,1.47,1.1,0.06,0.75,1.8,0.09,3.02,0.17,0.06,0.1,0.25,0.02,0.01,0.04,0.04,0.03,9.59,1.46,0.19,0.51,1.6,0.19,0.26,0.4,0.19,0.42,0.2,0.02,0.14,0.07,0.08,0.02,0.02,0.04,0.07,1.32,0.02,0.01,0.1,0.03,0.02,0.08,0.22,0.26,1.14,0.06,0.01,0.16,1.31,0.02,0.13,0.47,0.01,0.09,2.43,0.16,0.07,0.18,0.23,0.02,0.08,0.42,2.25,0.07,0.05,0.19,0.34,0.05,0.32,0.22,0.01,0.03,0.37,0.01,0.01,0.64,0.1,0.26,0.08,0.19,0.2,0.19,0.04,0.06,0.04,0.02,0.1,0.03,0.69,0.68,0.05,0.02,0.23,0.01,0.03,0.13,0.06,0.95,0.19,0.03,0.38,0.83,1.27,0.11,0.6,0.01,0.04,0.72,0.17,0.01,0.42,0.04,0.13,0.02,0.72,1.3,0.11,0.15,0.04,1.04,0.02,0.05,0.2,0.14,0.16,0.23,0.18,0.45,1.47,0.16,0.14,1.17,2.42,0.23,0.02,0.13,1.19,0.02,1.45,0.24,0.68,3.67,0.02,0.43,0.81,0.02,0.02,0.09,0.4,0.06,0.45,0.08,0.77,0.25,0.06,0.04,0.74,0.02,0.02,0.53,0.02,0.52,0.13,0.02,0.48,0.23,0.5,0.14,0.11,0.19,1.41,0.01,0.21,1.51,0.33,1.07,0.05,0.42,0.25,3.78,0.07,0.64,5.3,0.02,0.13,0.08,0.02,0.19,0.09,0.27,0.07,0.02,0.13,0.03,0.05,0.56,0.27,0.09,1.76,0.03,0.17,0.04,0.17,0.14,0.81,0.14,0.11,0.04,0.2,1.05,0.14,0.11,0.04,0.22,0.14,0.01,0.1,0.55,0.08,0.11,0.95,5.07],\"yaxis\":\"y\",\"type\":\"scattergl\"},{\"hovertemplate\":\"variable=EU_Sales<br>value=%{x}<br>Global_Sales=%{y}<extra></extra>\",\"legendgroup\":\"EU_Sales\",\"marker\":{\"color\":\"#EF553B\",\"symbol\":\"circle\"},\"mode\":\"markers\",\"name\":\"EU_Sales\",\"showlegend\":true,\"x\":[0.0,0.02,0.0,0.07,0.49,0.0,0.01,0.04,0.08,0.13,0.22,0.03,1.27,0.0,0.0,0.07,0.27,0.03,0.0,0.14,0.06,0.33,0.05,0.0,0.26,0.18,0.02,0.49,0.02,0.13,0.0,0.0,0.02,0.49,0.04,0.0,0.1,0.0,0.21,0.0,0.05,0.0,0.01,0.04,0.14,0.04,0.27,0.0,0.2,0.03,0.07,0.02,0.0,0.0,0.0,2.05,0.0,0.06,0.0,0.0,0.0,0.14,0.0,0.04,0.17,0.0,0.59,0.0,0.04,0.06,0.01,0.08,0.1,0.0,0.15,0.0,0.0,0.2,0.17,0.0,0.18,0.05,0.0,0.14,0.0,0.0,0.09,0.12,0.61,0.03,0.0,0.09,0.0,0.0,0.0,0.42,0.0,0.39,0.0,0.15,0.0,0.05,0.04,0.01,0.0,0.01,0.0,0.0,0.0,0.0,0.0,0.09,0.0,0.61,0.88,0.43,0.03,0.02,0.04,0.1,0.01,0.51,0.13,0.2,0.21,0.23,0.17,0.02,0.0,0.0,0.28,0.02,0.48,0.0,0.1,0.27,0.0,0.59,0.0,0.02,0.01,0.0,0.0,0.28,0.29,0.0,0.02,0.0,0.81,0.0,0.0,0.0,0.04,0.06,0.01,0.0,0.01,0.44,0.04,0.0,0.22,0.0,0.01,0.03,0.08,0.02,0.01,0.05,0.0,0.0,0.0,0.02,0.01,0.0,0.0,0.03,0.01,0.0,0.45,0.0,0.11,0.06,0.02,1.21,0.06,0.49,0.31,0.03,0.0,0.0,0.02,0.02,0.0,0.0,0.03,0.11,0.0,0.01,0.0,0.0,0.01,0.09,0.22,0.44,0.07,0.0,0.0,0.57,0.09,0.0,0.0,0.2,0.05,0.0,0.07,0.07,0.1,0.0,0.03,0.0,0.14,0.28,0.06,0.11,0.01,0.52,0.0,0.15,0.28,0.05,0.02,0.06,0.0,0.02,0.0,0.0,0.06,0.07,0.0,0.03,0.08,0.37,0.13,0.48,0.0,0.03,0.07,0.11,0.05,1.51,0.0,0.0,0.0,0.0,0.57,0.31,2.93,0.0,0.02,0.02,0.03,0.11,0.0,0.01,0.06,0.08,0.0,0.23,0.0,0.02,0.53,0.0,0.11,0.0,0.0,0.25,0.0,0.05,0.01,0.24,0.18,0.07,0.0,0.06,0.0,0.03,0.05,0.0,0.11,0.0,0.0,0.05,0.0,0.01,0.0,0.0,0.02,0.04,0.14,0.18,0.02,0.07,0.2,0.04,0.53,0.05,1.24,0.0,0.08,0.0,0.0,0.05,0.03,0.0,0.03,0.14,0.02,0.03,0.0,0.0,0.0,0.03,0.17,0.24,0.0,0.09,0.04,0.26,0.01,0.0,0.02,0.33,0.42,0.23,0.0,0.0,0.13,0.0,0.23,0.17,0.0,0.0,0.35,0.29,0.45,0.01,0.11,0.07,0.03,0.0,0.0,0.21,0.04,0.06,0.32,0.0,0.0,0.06,0.03,0.6,0.03,0.15,0.04,0.0,0.11,0.18,0.15,0.0,0.0,0.01,0.04,0.03,0.0,0.12,0.0,0.0,5.05,0.0,0.0,0.04,0.17,0.31,0.12,0.04,0.02,0.0,0.33,0.27,0.13,0.06,0.0,0.04,0.04,0.02,0.0,0.0,0.0,0.51,0.05,0.1,0.08,0.4,0.66,1.08,0.0,0.08,0.26,0.0,0.66,0.0,0.0,1.69,0.0,0.0,0.26,0.38,0.05,0.02,0.0,0.0,0.0,0.0,0.09,0.04,0.21,0.32,0.0,0.0,0.0,0.05,0.0,0.02,0.02,0.01,0.05,0.15,0.0,0.32,0.0,0.01,3.58,0.01,0.0,0.0,0.01,0.04,0.0,0.0,0.0,0.02,0.02,0.02,0.15,0.0,0.59,0.0,0.0,0.0,0.93,0.0,0.06,0.01,0.07,0.39,0.64,0.02,0.38,0.05,0.0,0.01,0.92,0.0,0.01,0.06,0.06,0.01,0.15,0.08,0.24,0.0,0.03,0.0,0.47,0.52,0.0,0.3,0.13,0.0,2.07,0.01,0.0,0.0,0.02,0.11,0.05,0.07,0.02,0.04,0.01,0.0,0.0,0.0,0.07,0.03,0.01,0.0,0.0,0.0,0.02,0.0,1.06,0.0,0.55,0.0,0.0,0.13,0.0,0.02,0.16,0.05,0.0,0.0,0.12,0.0,1.3,0.0,0.02,0.1,0.02,0.0,0.09,0.45,0.01,0.36,0.03,0.21,0.06,0.01,0.16,0.05,0.0,0.05,0.0,1.53,0.11,0.0,0.03,0.09,0.06,0.02,0.0,0.0,0.04,0.0,0.0,0.18,0.08,0.0,0.12,0.0,0.69,0.0,0.0,1.0,0.0,0.04,0.0,0.0,0.0,0.04,0.23,0.01,0.04,0.02,0.01,0.0,0.04,0.27,0.0,0.42,0.01,0.07,0.03,0.11,0.36,0.0,0.0,0.0,0.05,0.0,0.01,0.15,0.3,0.14,0.0,0.04,0.7,0.0,0.0,0.0,0.0,0.03,0.01,0.07,0.19,0.02,0.09,0.04,0.0,0.22,0.0,0.02,0.0,0.0,0.5,0.02,0.03,0.07,0.0,0.0,0.28,0.0,0.35,0.03,0.0,0.34,0.01,0.03,0.34,0.0,0.38,0.0,0.05,2.23,0.0,0.02,0.24,0.0,0.05,0.0,0.13,0.01,0.14,0.21,0.02,0.05,0.03,0.02,0.0,0.0,0.01,0.0,0.0,0.01,0.07,0.02,0.0,0.33,0.04,0.15,0.43,1.3,0.28,0.05,0.2,0.51,0.01,0.04,0.0,0.01,0.01,0.02,0.1,0.01,2.28,0.0,0.24,0.21,0.0,0.02,0.5,0.0,0.63,0.0,0.03,0.0,0.45,0.09,0.22,0.27,0.03,0.01,0.06,0.27,0.02,0.0,0.07,0.02,0.0,0.01,0.12,0.0,0.0,1.87,0.0,0.08,0.1,0.68,0.0,0.0,0.0,0.0,0.04,1.25,0.05,0.03,0.0,0.0,0.51,0.21,0.0,0.0,0.04,0.48,0.53,0.29,0.0,0.97,0.01,0.0,0.54,0.0,0.05,0.01,0.14,0.03,0.0,0.02,0.08,0.05,0.03,0.35,0.53,0.05,0.65,0.0,0.0,0.0,0.03,0.68,0.02,0.0,0.0,0.01,0.03,0.12,0.0,2.17,0.53,0.04,0.0,0.02,0.0,0.17,0.06,0.04,0.02,0.11,0.0,0.03,0.04,0.04,0.2,0.0,0.0,0.34,0.02,0.0,0.03,0.0,0.0,0.06,0.02,0.0,0.0,0.21,0.51,0.09,0.09,0.06,0.0,0.0,0.01,2.48,0.26,0.0,0.14,0.01,0.16,0.0,0.0,0.0,0.24,0.02,0.0,0.25,0.01,0.06,0.01,0.95,0.4,0.0,0.03,0.0,0.02,0.04,0.11,0.0,0.05,0.0,0.03,0.0,0.0,0.2,0.05,0.01,0.0,0.0,0.03,0.03,0.02,0.0,0.0,0.23,0.0,0.03,0.21,0.03,0.25,0.0,0.0,0.01,0.69,0.0,0.08,0.0,0.04,0.0,0.0,0.01,0.0,0.02,0.36,0.0,0.03,0.02,0.09,0.04,3.63,0.0,0.0,0.32,0.23,0.0,0.28,0.04,0.01,0.39,0.0,0.08,0.02,0.17,0.0,0.0,0.0,0.05,0.0,0.01,0.02,0.0,0.0,0.0,0.0,0.21,0.0,0.0,0.0,0.0,0.02,0.12,0.01,0.1,0.07,0.03,0.0,0.06,0.0,0.77,0.0,0.26,0.01,0.0,0.03,0.06,2.75,0.02,0.25,0.0,0.0,0.0,0.0,0.0,0.04,0.02,0.08,0.0,0.0,0.13,0.37,0.0,0.03,0.01,0.03,0.0,1.07,1.63,0.04,0.02,0.0,0.0,0.16,0.0,0.12,0.01,0.0,0.0,0.0,0.0,0.13,0.04,0.0,0.48,0.05,0.02,0.02,0.0,0.0,0.0,0.04,0.2,0.07,0.11,0.0,0.0,0.08,0.0,0.02,2.79,0.06,0.12,0.0,0.0,0.0,0.0,0.0,0.0,0.0,0.01,0.0,0.0,0.66,0.0,0.02,0.01,0.19,0.0,0.07,0.0,0.01,0.07,0.45,0.96,0.01,0.01,0.13,0.4,0.03,0.02,0.0,0.01,0.12,0.02,0.02,0.0,0.02,0.17,0.0,0.0,0.05,0.14,0.0,0.0,0.11,0.01,0.19,0.0,0.2,0.39,0.52,0.0,0.0,0.14,0.03,0.2,0.0,0.0,0.01,0.0,0.0,0.06,0.11,0.0,0.02,0.12,0.0,0.0,0.11,0.06,0.0,0.05,0.0,0.07,0.16,0.13,0.0,0.0,0.19,0.05,0.05,0.21,0.04,0.07,0.0,0.01,0.0,0.02,0.0,0.01,0.37,0.04,0.0,0.03,0.0,0.0,0.0,0.0,0.11,0.02,0.0,0.14,0.03,0.0,0.03,0.0,0.02,0.35,0.0,0.04,0.03,0.06,0.0,0.02,2.3,0.0,0.0,0.03,1.36,0.04,0.18,0.03,0.0,0.06,0.02,0.02,0.02,0.03,0.7,0.0,0.0,0.19,0.0,0.0,0.06,0.26,0.01,0.22,0.25,0.0,0.0,0.04,0.02,0.01,0.0,0.04,0.51,0.63,0.02,0.05,1.53,0.16,0.05,0.01,0.01,0.0,0.0,0.01,0.0,0.0,0.0,0.0,0.0,0.06,0.08,0.02,1.51,0.54,0.4,0.05,1.59,0.03,0.01,0.01,0.08,0.0,0.87,0.02,0.02,0.01,0.36,0.06,0.2,0.04,0.0,0.0,0.46,0.01,0.14,0.65,0.1,0.0,0.04,0.03,0.06,0.14,0.04,0.09,0.0,0.31,0.0,0.31,0.77,0.0,0.04,0.0,0.08,0.16,0.08,0.0,0.0,0.0,0.1,0.0,0.08,0.0,0.01,0.01,0.01,0.0,0.06,0.01,0.13,0.08,0.27,0.12,0.08,0.09,0.3,0.0,0.02,0.52,0.06,0.07,0.06,0.74,0.02,0.46,0.33,0.0,0.0,0.03,0.01,0.08,0.0,0.02,0.02,0.31,0.0,0.09,0.2,0.0,0.19,0.01,0.0,0.0,0.0,0.04,0.03,0.09,0.11,0.0,0.0,0.16,0.0,0.01,0.0,0.02,0.11,0.03,0.15,0.0,0.04,0.04,0.07,0.04,0.0,0.03,0.0,0.0,0.0,0.0,0.0,0.0,0.07,0.01,0.0,0.0,0.3,0.08,0.15,3.37,0.05,0.67,0.0,0.41,0.03,0.0,0.02,0.01,0.0,0.02,0.15,0.17,0.07,0.33,0.23,0.06,0.04,0.0,0.0,0.0,0.01,0.02,0.01,0.13,0.1,0.0,0.1,0.12,0.01,0.05,0.0,0.0,0.55,0.02,0.02,0.01,0.09,0.0,0.0,0.01,0.05,0.0,0.68,0.03,0.0,0.0,0.0,0.02,0.47,0.11,0.02,0.01,0.02,0.03,0.0,0.0,0.02,0.15,0.0,0.0,0.0,0.05,0.07,0.02,0.06,1.58,0.78,0.05,0.0,0.0,0.01,0.0,0.11,0.01,0.03,0.0,0.0,0.0,0.0,0.04,0.26,0.04,0.01,0.0,0.03,0.08,0.26,0.03,0.0,0.0,0.05,0.15,0.0,0.02,0.0,0.03,0.07,0.0,0.22,0.11,0.0,0.02,0.0,0.0,0.0,0.46,0.01,0.0,0.04,0.01,0.05,0.0,0.08,0.14,0.0,0.02,1.16,0.3,0.0,0.08,0.0,0.74,0.04,0.35,0.01,0.03,0.0,0.0,0.04,0.07,0.0,0.02,0.01,0.03,0.0,0.0,0.02,0.0,0.01,0.07,0.0,0.0,0.04,0.09,0.0,0.07,0.01,0.0,0.0,0.04,0.0,0.05,0.0,0.03,0.02,0.36,0.4,0.0,0.0,0.46,0.09,0.02,0.28,0.08,0.04,0.43,0.02,0.02,0.1,0.0,0.03,0.0,0.21,0.0,0.0,3.02,0.15,0.0,0.14,0.13,0.14,0.0,0.11,0.02,0.0,0.0,0.0,0.02,0.08,0.0,0.0,0.57,0.0,0.0,0.04,0.64,0.0,0.0,0.0,0.0,0.0,0.07,0.0,0.0,0.07,0.11,0.03,0.0,0.03,1.54,0.02,0.0,0.0,0.07,0.0,0.0,0.05,0.13,0.0,0.0,0.0,0.03,0.08,0.0,0.07,0.03,0.09,0.0,0.06,0.0,0.04,0.18,0.07,0.01,0.06,0.09,0.22,0.0,0.37,0.02,0.04,0.01,0.0,0.03,0.16,0.0,0.0,0.01,0.16,0.08,0.21,0.06,0.08,0.0,0.0,0.0,0.01,0.07,0.15,0.05,0.01,3.03,0.38,0.01,0.0,0.0,0.05,0.0,0.0,0.0,0.0,0.01,0.08,0.83,0.0,0.0,0.07,0.04,0.11,1.24,0.02,0.02,0.0,0.05,0.01,0.08,0.0,0.0,0.01,0.0,0.05,0.03,0.0,0.0,0.08,0.03,0.0,0.01,0.16,0.01,0.06,0.02,0.24,0.06,0.05,0.12,0.11,0.07,0.2,0.0,1.79,0.01,0.0,0.42,0.24,0.03,0.0,0.01,0.06,0.14,1.96,0.0,0.19,1.15,0.04,0.0,0.0,0.0,0.0,0.44,0.0,0.2,0.0,0.0,0.11,0.0,0.0,0.01,0.11,0.03,0.25,0.0,0.45,0.14,0.0,0.29,0.0,0.04,0.06,0.0,0.35,0.13,0.02,0.33,0.0,0.02,0.07,0.0,0.0,0.18,0.0,0.04,0.09,0.0,0.14,0.18,0.03,0.04,0.34,0.0,0.0,0.02,0.87,0.09,0.31,0.03,0.01,0.01,0.0,0.1,0.01,0.0,0.04,0.0,0.08,0.0,0.0,0.08,0.15,0.0,0.02,0.04,0.01,0.02,0.13,1.12,0.0,0.21,0.0,0.01,0.0,0.33,0.1,0.05,0.19,0.19,0.0,0.06,0.0,0.0,0.06,0.02,0.0,0.0,0.15,0.01,0.0,0.31,0.11,0.44,0.0,0.02,0.0,0.07,0.01,0.0,0.02,0.0,0.11,0.0,0.12,0.02,0.49,0.49,0.03,12.88,0.0,0.03,0.39,0.35,0.02,0.15,0.01,0.02,0.04,0.26,0.04,0.0,0.01,0.07,0.0,0.01,0.0,0.1,0.19,0.01,0.02,0.0,0.13,0.0,0.16,0.0,0.0,0.02,0.01,0.03,0.04,0.0,0.0,0.06,0.02,0.3,0.0,0.0,0.0,0.01,6.06,0.0,0.0,0.44,0.44,0.09,0.14,0.05,0.04,0.01,0.24,0.0,0.64,0.0,0.06,0.02,0.04,0.0,0.06,0.15,0.02,0.04,0.01,0.01,0.03,0.0,0.0,0.0,0.01,11.01,0.0,0.0,0.01,0.02,0.0,0.12,0.04,0.02,0.0,0.05,0.09,0.0,0.01,0.03,0.07,0.21,0.03,0.0,0.17,0.0,0.0,0.58,0.01,0.0,0.02,0.04,4.44,0.01,0.0,0.0,0.0,0.07,0.05,0.48,0.05,0.0,0.22,0.01,0.0,0.0,0.02,0.03,0.03,0.05,0.0,0.09,0.04,2.99,0.03,0.0,0.0,0.05,0.0,0.04,0.0,0.03,0.0,0.3,0.02,0.0,0.0,0.14,0.03,0.0,0.18,0.37,0.07,0.0,0.0,0.02,1.1,0.0,0.0,0.0,0.05,0.02,0.0,0.55,0.01,0.0,0.06,0.89,0.01,0.0,0.01,0.02,0.0,0.15,0.07,0.02,0.12,0.01,0.0,0.03,0.0,0.0,0.0,0.0,0.03,0.0,0.0,0.29,0.01,0.48,0.0,0.26,0.02,0.24,0.01,0.0,0.01,0.03,0.0,0.11,0.47,0.04,0.0,0.01,0.04,0.02,0.03,0.03,0.02,0.02,0.0,0.01,0.04,0.09,0.0,0.17,0.03,0.43,0.0,0.0,0.0,0.0,0.0,0.03,0.58,0.52,0.37,0.0,0.11,0.0,0.01,0.02,1.94,0.21,0.0,0.13,0.0,0.17,0.06,0.01,0.03,0.0,0.01,0.01,0.27,0.01,0.04,0.8,0.0,0.0,0.12,0.02,0.16,0.0,0.03,0.01,0.04,0.0,0.0,1.19,0.06,0.0,0.0,0.29,0.05,0.15,0.15,0.22,0.01,0.0,0.01,0.0,0.04,0.0,0.01,0.16,0.0,0.01,0.36,0.0,0.0,0.0,0.17,0.27,0.39,0.0,0.0,0.01,0.13,0.02,0.0,2.83,0.01,0.02,0.0,0.0,0.5,0.45,0.01,0.22,0.21,0.07,0.25,0.0,0.0,0.01,0.0,0.11,0.11,0.07,0.05,0.0,0.03,0.0,0.02,0.06,0.0,0.0,0.01,0.02,0.0,0.25,0.01,0.03,0.1,1.06,0.04,0.01,0.04,0.0,0.04,0.23,0.39,0.07,0.02,0.0,0.0,0.03,0.6,0.06,0.07,1.12,0.0,0.17,0.06,1.34,0.13,0.0,0.01,0.01,0.0,0.02,0.0,0.0,0.0,0.43,0.0,0.01,0.38,0.0,0.4,0.0,0.14,0.0,0.01,0.0,0.0,0.01,0.0,2.43,0.0,0.14,0.03,1.27,0.0,2.78,0.0,0.0,0.05,0.0,0.0,0.02,0.17,0.0,0.0,0.02,0.0,0.01,0.02,0.14,0.05,0.0,0.45,0.12,0.0,0.76,0.02,0.03,0.01,0.0,0.17,0.01,0.0,0.16,0.01,4.3,0.46,0.16,0.0,0.22,0.0,0.0,0.02,0.0,0.63,0.0,0.01,1.58,0.24,0.0,0.0,0.1,0.19,0.03,0.03,0.13,0.0,0.08,0.0,0.0,0.01,0.0,0.0,0.03,0.3,1.53,0.04,0.04,0.01,0.0,0.0,0.04,0.0,0.06,0.05,0.0,0.01,0.15,0.0,0.05,0.01,0.07,0.0,0.02,0.0,0.02,0.02,0.0,0.09,0.01,0.0,0.08,0.4,0.08,0.0,0.0,0.03,0.0,0.0,0.0,0.03,0.46,0.12,2.02,0.02,0.02,0.01,0.0,0.0,0.21,0.0,0.47,0.51,0.0,0.02,0.01,0.3,0.0,0.0,0.0,0.0,0.0,0.1,0.83,0.0,0.04,0.0,0.0,0.01,0.0,0.06,0.61,0.05,0.01,0.01,0.0,0.28,0.03,0.03,0.05,0.02,0.0,0.37,0.69,0.03,0.03,0.09,0.11,0.01,0.11,0.0,0.04,0.01,0.0,0.06,0.25,0.0,0.05,0.59,0.43,0.0,0.0,0.0,0.0,0.23,0.02,0.0,0.0,0.51,0.06,0.1,0.12,0.0,0.0,0.0,0.0,0.0,0.0,0.06,0.0,0.43,0.52,0.0,0.12,0.05,0.01,0.03,0.13,0.62,0.0,1.27,0.28,0.2,0.01,0.0,0.04,0.04,0.07,0.0,0.0,0.0,0.14,0.3,0.0,0.05,0.12,0.61,0.0,0.02,0.14,0.01,0.01,0.02,0.21,0.0,0.12,0.02,0.03,0.05,0.0,0.0,0.02,0.01,0.05,0.0,0.03,0.31,0.02,0.2,0.0,0.0,0.05,0.0,0.04,0.0,0.0,0.02,0.03,0.0,0.01,0.16,0.27,0.22,0.0,0.13,0.15,0.02,0.01,0.0,0.0,0.87,0.0,0.02,0.11,0.02,0.02,0.1,0.0,0.0,1.58,0.03,0.0,0.0,0.03,0.17,0.0,0.1,0.9,0.0,0.0,0.0,0.01,0.06,1.11,0.0,0.59,0.04,0.11,0.0,0.0,0.03,0.14,0.0,0.0,0.0,0.0,0.0,0.0,0.0,0.05,0.06,0.0,0.0,0.0,0.03,0.0,0.0,0.03,0.04,0.07,0.11,0.01,0.51,0.01,0.0,0.01,0.33,0.03,0.0,0.0,0.05,0.03,0.0,0.04,0.0,0.02,0.09,0.0,0.03,0.01,0.47,0.0,0.43,0.11,0.0,0.33,0.0,0.06,0.02,0.16,0.0,0.0,0.03,0.15,0.0,0.21,0.23,0.07,0.0,0.04,0.03,0.25,0.05,0.0,0.02,0.41,0.0,0.02,0.23,0.0,0.0,0.0,0.17,0.27,0.01,0.04,0.03,0.0,0.0,0.0,0.07,0.03,0.0,0.06,0.0,0.03,0.01,0.22,0.04,0.5,0.01,0.0,0.0,0.0,0.0,0.0,0.0,0.0,0.04,1.17,0.15,0.0,0.0,0.05,0.0,0.0,0.0,0.08,0.0,0.0,0.02,0.0,0.0,0.08,1.02,0.0,0.0,0.05,0.03,0.0,0.0,0.0,0.09,0.0,0.0,0.04,0.13,0.03,0.21,0.17,0.05,0.09,0.03,0.12,0.01,0.15,0.0,0.1,0.01,0.1,0.04,0.0,0.0,0.0,0.03,0.05,0.09,0.99,0.01,0.03,0.02,0.0,0.05,0.08,0.05,0.03,1.22,0.08,0.02,0.17,0.0,0.02,0.0,0.0,0.14,1.01,0.07,0.18,0.0,0.3,0.0,0.0,0.13,0.09,0.0,0.36,0.04,0.18,0.19,0.05,0.18,0.0,0.0,0.16,0.22,0.64,0.0,0.0,0.0,0.24,0.0,0.0,0.0,0.02,0.2,0.18,0.18,0.02,0.04,0.0,1.75,0.04,0.0,0.0,1.09,0.0,0.01,0.14,0.1,0.27,0.0,0.0,0.08,0.47,0.01,0.3,0.14,0.0,0.0,0.46,0.0,0.1,0.74,0.46,0.05,0.05,0.0,0.0,0.1,0.65,0.06,0.15,0.0,0.0,0.12,0.0,0.03,0.1,0.0,0.0,0.0,0.97,0.01,0.21,0.03,0.61,0.06,1.43,0.19,0.0,0.33,0.57,0.12,0.0,0.02,0.0,0.0,0.29,0.0,0.01,0.02,0.04,0.15,0.04,0.01,0.0,0.01,0.0,0.04,0.28,0.0,0.0,0.0,3.15,0.52,0.12,0.0,0.0,0.0,0.05,0.0,0.38,0.7,0.0,0.04,0.0,0.0,0.0,0.0,0.0,0.16,0.06,0.0,0.01,1.83,0.0,0.3,0.0,0.01,0.05,0.0,0.12,0.02,0.26,0.0,0.12,0.04,0.0,0.01,0.04,0.0,0.0,0.02,0.0,0.14,0.17,0.01,0.0,0.0,0.02,0.09,0.22,0.0,0.0,0.02,0.04,0.02,0.0,0.03,0.03,0.21,0.0,0.04,0.0,0.02,0.02,0.12,0.84,0.0,0.22,0.0,0.05,0.0,0.01,0.0,0.16,0.54,0.01,0.01,0.0,0.31,0.76,0.38,1.86,0.03,0.0,0.0,0.0,0.08,0.0,0.0,0.02,0.09,0.05,0.16,0.0,0.16,0.03,0.23,0.02,0.0,0.0,0.9,0.0,0.49,0.0,0.05,0.0,0.02,0.01,0.0,0.0,0.02,6.21,0.8,0.11,0.08,0.05,0.0,0.02,0.02,0.0,0.0,0.06,0.02,0.0,0.0,0.01,2.15,0.52,0.08,0.02,0.0,0.14,0.0,0.02,0.02,0.72,0.0,0.48,0.0,0.1,0.04,1.95,0.0,0.36,0.01,0.0,0.08,0.26,0.01,0.31,0.05,0.01,0.0,0.01,0.0,0.0,0.0,0.0,0.02,0.09,0.01,0.05,0.87,0.19,0.0,0.0,0.07,0.21,0.0,0.16,0.9,0.0,0.17,0.03,0.02,0.15,0.03,0.0,0.0,1.89,1.1,0.0,0.06,0.02,0.0,0.01,0.03,0.0,0.0,0.3,0.04,0.15,0.01,0.98,0.43,0.0,0.0,0.08,0.01,0.0,0.02,0.03,0.18,0.01,0.17,0.03,0.02,0.0,0.0,0.07,0.09,0.02,0.03,0.29,0.0,2.61,0.08,0.0,0.08,0.02,0.04,0.08,0.11,0.11,0.03,0.0,0.09,0.15,0.0,0.07,0.01,0.06,0.97,0.0,0.1,0.0,0.02,0.07,0.15,0.13,0.1,0.13,0.69,0.01,0.53,0.0,2.63,0.0,0.0,0.02,0.08,0.05,0.0,0.0,0.0,0.22,0.0,0.02,0.13,0.24,0.11,0.01,0.0,0.09,0.0,0.29,0.03,0.03,0.09,3.29,0.0,0.01,0.0,0.01,0.0,1.12,0.0,0.3,0.0,0.03,0.0,0.07,0.03,0.64,0.06,0.05,0.0,0.0,0.19,0.0,0.0,0.0,0.0,0.12,0.0,0.0,0.0,0.17,0.0,2.01,0.02,0.08,0.07,0.39,0.14,0.1,7.06,0.04,0.04,0.04,0.1,0.0,0.0,0.08,0.03,0.0,0.01,0.03,0.0,0.0,0.02,0.0,0.0,0.06,0.25,0.01,0.22,0.31,0.0,0.24,0.0,0.0,0.0,0.0,0.0,0.62,0.0,0.14,0.01,0.01,0.0,0.0,0.02,0.04,0.0,0.08,0.05,0.04,0.5,0.0,0.07,0.01,0.0,0.5,0.0,0.0,0.0,0.09,0.0,0.0,0.08,0.0,0.07,0.06,0.17,0.08,0.12,0.04,0.21,0.03,0.0,0.0,0.02,0.02,0.08,0.05,0.03,0.0,0.0,0.69,0.0,0.0,0.01,0.0,0.1,0.64,0.11,0.32,0.0,0.12,0.08,0.12,0.25,0.0,0.0,0.0,0.01,0.03,0.04,0.01,0.0,0.09,0.0,0.3,0.07,0.3,0.0,0.06,0.02,0.0,0.13,0.07,0.03,0.0,0.09,0.08,0.08,0.66,0.0,0.24,0.04,0.39,2.01,0.02,0.0,0.44,0.43,0.0,0.01,0.0,0.01,0.02,0.0,0.0,0.32,0.0,0.16,0.0,0.11,0.07,0.0,0.5,0.05,0.02,0.0,0.0,0.17,0.0,0.12,0.03,0.0,0.09,0.0,0.01,0.18,0.22,0.01,0.0,0.91,0.0,0.0,0.0,0.0,0.56,0.02,0.0,0.17,0.0,0.15,0.01,0.01,0.02,0.0,1.33,0.11,0.55,0.04,0.23,0.02,0.02,0.01,0.24,0.51,0.37,0.0,0.02,0.0,0.01,0.0,0.03,0.08,0.0,0.03,0.04,0.02,0.05,0.05,0.05,0.05,0.0,0.12,0.09,0.0,0.11,0.05,0.0,0.04,0.94,0.05,0.0,0.0,0.19,0.43,0.0,0.29,0.0,0.0,0.0,0.0,0.01,0.12,0.03,0.1,0.03,0.08,0.08,0.0,0.03,0.0,0.04,0.3,0.0,0.07,0.0,0.0,0.01,0.0,0.0,0.0,0.04,0.06,0.02,0.02,0.14,0.0,0.0,0.0,0.0,0.18,0.0,0.25,0.0,0.14,0.0,0.28,0.0,0.02,0.03,0.0,0.21,0.12,0.0,0.01,0.01,0.28,0.0,0.0,0.15,0.0,0.22,0.02,0.15,0.0,4.88,0.09,0.11,0.01,0.0,0.2,0.17,0.04,0.12,0.02,0.0,0.0,0.02,0.0,0.29,0.1,0.03,0.0,0.48,0.01,0.01,0.0,0.63,0.18,0.07,0.05,0.0,0.3,0.05,0.11,0.03,0.21,0.0,0.11,0.0,0.01,0.87,0.0,0.0,0.0,0.24,0.06,0.04,0.0,0.0,0.03,0.06,0.0,0.19,0.1,0.02,0.98,0.0,0.66,0.15,0.0,0.0,0.04,1.41,0.0,0.15,0.0,0.0,0.0,0.1,0.02,0.0,0.01,0.01,0.01,0.0,0.09,0.36,0.02,0.0,0.02,0.08,0.46,0.03,0.06,0.05,0.02,0.0,0.0,0.22,0.07,0.77,0.08,0.0,0.07,0.12,0.05,0.05,0.15,0.03,0.03,0.1,0.09,0.0,0.03,0.04,0.0,0.0,0.0,0.04,0.0,0.0,0.03,0.02,0.0,0.0,0.09,0.02,0.06,0.0,0.0,0.0,0.07,0.0,0.0,0.0,1.24,0.05,0.24,0.05,0.4,0.09,0.0,0.0,0.0,0.02,0.2,0.11,0.19,0.23,0.21,0.09,0.14,0.14,0.05,0.0,0.0,0.07,0.02,0.0,0.05,0.0,0.01,0.16,0.26,0.0,0.02,0.01,0.01,0.19,0.01,0.03,0.12,0.03,0.1,0.05,0.11,0.82,0.0,0.0,0.09,2.26,0.0,0.0,0.03,0.17,0.03,0.01,0.08,0.0,0.04,0.68,0.0,0.08,0.01,0.36,0.0,0.15,0.01,0.11,0.01,0.04,0.0,0.08,0.0,0.0,0.0,0.0,0.0,1.3,0.05,0.0,0.0,0.0,0.0,0.01,0.03,0.07,0.0,0.84,0.0,0.13,0.28,1.06,0.49,0.28,0.0,0.03,0.06,0.0,0.0,0.82,1.74,0.19,0.03,0.03,0.34,0.0,0.03,0.0,0.31,0.0,0.0,0.21,0.03,0.01,0.22,0.0,0.05,0.2,0.0,0.02,0.03,0.38,0.0,0.08,0.0,0.0,0.04,0.08,0.01,0.08,0.25,0.0,0.06,0.1,0.01,0.0,0.01,0.04,0.0,0.03,0.09,0.0,0.0,0.03,0.01,0.0,0.0,0.0,2.0,0.08,0.0,0.07,0.2,0.11,0.02,0.0,0.01,0.05,0.2,0.0,0.03,0.0,0.0,0.0,0.21,0.01,0.0,0.01,0.0,0.35,0.08,0.0,0.01,0.25,0.03,0.06,0.04,0.05,0.01,0.04,0.0,0.0,0.03,0.05,0.0,0.0,0.02,0.04,0.21,0.0,0.01,0.06,0.0,0.0,0.1,1.51,0.01,0.12,0.04,0.0,0.12,0.24,0.04,0.0,0.07,0.0,0.15,0.0,0.04,0.03,0.01,0.0,0.05,0.01,0.08,0.04,1.29,0.32,0.05,0.03,0.0,0.06,0.0,0.24,0.0,0.0,0.01,0.05,0.0,0.03,0.02,0.04,0.0,0.02,0.13,0.28,0.0,0.12,0.14,0.02,0.75,0.0,0.0,0.13,0.03,1.78,0.0,0.01,0.0,0.83,0.03,0.09,0.61,0.06,0.56,0.08,0.0,0.09,0.0,0.1,0.0,0.11,0.54,0.01,0.27,0.27,0.3,0.11,0.0,1.35,0.05,0.0,0.03,0.0,0.0,0.0,0.02,0.0,0.01,0.0,0.01,0.02,0.0,0.03,0.0,0.05,0.0,0.0,0.0,0.17,0.0,0.1,0.02,0.03,0.0,0.01,0.01,1.31,0.0,0.0,0.26,0.25,0.02,0.0,0.09,0.02,0.31,0.05,0.21,0.06,0.03,4.05,0.0,0.0,0.03,2.46,0.7,0.0,0.0,0.0,0.0,0.03,0.0,0.23,0.01,0.11,0.33,0.0,0.23,0.33,0.02,0.0,0.67,0.46,1.02,0.0,0.03,0.0,0.02,0.0,0.25,0.0,0.1,0.12,0.0,0.02,0.22,0.47,0.0,0.08,0.0,0.01,0.0,0.0,0.0,0.46,0.11,0.17,0.18,0.05,0.15,0.24,0.01,0.02,0.0,0.0,0.02,0.01,0.01,0.0,0.05,0.0,0.0,0.01,0.0,0.0,0.04,0.0,0.0,1.95,0.0,1.15,0.0,0.82,0.29,0.1,0.07,0.08,0.17,0.2,0.01,0.08,0.22,0.17,0.11,0.0,0.3,0.29,0.02,0.0,0.0,0.0,0.01,0.23,0.0,0.0,0.0,0.0,0.01,0.0,0.0,0.05,0.0,0.0,0.0,0.0,0.0,1.27,0.0,0.08,0.09,0.02,0.0,0.05,0.01,0.04,0.01,0.0,0.08,0.0,0.0,0.29,0.04,0.05,0.01,0.0,0.04,0.0,0.0,0.0,0.01,0.16,0.11,0.0,0.23,0.0,0.01,0.0,0.0,0.03,0.0,0.29,0.17,0.0,0.06,0.0,0.19,0.03,0.0,0.06,0.0,0.0,0.0,0.0,0.0,0.0,0.05,0.0,0.0,0.0,0.85,0.0,0.0,0.01,0.0,0.07,0.17,0.0,0.53,0.18,0.4,0.05,0.0,0.0,0.25,0.39,0.0,0.28,0.02,0.0,0.05,0.0,0.62,0.07,0.02,0.2,0.78,0.54,0.0,0.0,0.04,0.04,0.06,0.0,0.13,0.0,0.37,0.0,0.29,0.08,0.02,0.01,0.0,0.0,0.0,0.0,0.0,0.0,0.06,0.0,0.05,0.03,0.01,0.14,0.15,0.01,0.0,0.03,2.02,0.13,0.02,0.02,1.02,0.31,0.01,0.4,0.03,0.07,0.01,0.05,0.02,0.22,0.0,0.57,0.03,0.0,0.56,0.0,0.1,0.02,0.0,0.0,0.01,0.03,0.02,0.5,0.03,6.18,0.02,0.02,0.23,0.0,0.0,0.0,0.03,0.0,0.0,0.48,0.0,0.0,0.41,0.02,0.0,0.06,0.01,0.06,0.0,0.0,0.01,0.25,0.05,0.0,0.0,0.0,0.02,0.17,0.0,0.0,0.02,0.0,0.02,0.0,0.04,0.0,0.02,0.0,0.0,0.01,0.0,0.0,0.37,0.01,0.16,0.0,0.01,0.8,0.0,0.97,0.0,0.0,0.52,0.0,0.15,0.2,0.02,0.0,0.75,0.03,0.0,0.0,0.0,0.13,0.0,0.01,0.11,3.3,0.28,0.01,0.05,0.04,0.71,0.0,0.14,0.67,0.0,0.04,0.0,0.07,0.09,0.54,0.0,0.08,0.01,2.07,0.02,0.19,0.0,0.0,0.06,0.0,0.21,0.17,0.14,0.0,0.0,0.1,0.08,0.01,0.0,0.02,0.77,0.0,0.01,0.0,0.43,0.0,0.0,0.0,0.22,0.0,0.53,0.0,0.02,0.06,0.56,0.0,0.07,0.0,0.0,0.01,0.0,0.4,0.07,0.0,0.0,0.0,0.15,0.03,0.11,0.0,0.01,0.0,0.06,0.0,0.01,0.02,0.29,3.69,0.04,2.12,0.01,0.05,0.0,0.04,0.07,0.01,0.0,0.0,0.02,0.0,0.0,0.33,0.1,0.0,0.33,0.01,0.0,0.86,0.12,0.02,0.0,0.15,0.0,0.05,0.05,0.01,0.0,0.38,0.41,0.1,0.0,0.58,2.3,0.01,0.19,0.0,0.01,0.07,0.23,0.0,0.0,0.01,0.0,0.0,0.01,0.35,0.27,0.3,0.01,0.0,0.0,0.48,0.42,0.18,0.02,0.3,0.0,0.0,0.04,0.0,0.0,0.0,0.12,0.01,0.02,0.0,0.07,0.0,0.01,0.26,0.0,0.01,0.0,0.0,0.1,1.25,0.01,0.02,0.0,0.28,0.35,0.17,0.0,0.0,0.07,0.04,0.01,0.12,0.0,0.05,0.03,0.0,0.6,0.0,0.05,0.02,0.0,0.07,0.28,0.0,0.02,0.1,0.33,0.11,0.08,0.03,0.0,0.0,0.01,0.0,0.01,0.0,0.13,0.0,0.26,0.0,0.0,0.0,0.03,0.0,0.0,0.01,0.02,1.04,0.04,0.16,0.01,1.27,0.08,0.27,0.14,0.2,0.0,0.0,0.02,0.0,0.0,0.01,0.01,0.0,0.04,0.03,0.48,0.02,1.18,0.11,0.0,0.01,0.01,0.14,0.21,0.08,0.0,0.02,0.0,0.06,0.31,1.11,0.14,0.04,0.44,0.38,0.02,0.56,0.02,0.0,0.1,0.02,0.06,0.01,0.08,0.0,0.01,0.03,0.0,0.02,0.44,0.01,0.1,0.09,0.29,0.04,0.0,0.01,0.03,0.14,0.01,0.0,0.0,0.0,0.47,0.0,0.04,0.0,0.45,0.0,0.0,0.02,0.0,0.0,0.0,0.0,0.0,0.0,0.14,0.05,0.02,0.0,0.0,0.03,0.02,0.02,0.0,0.01,0.0,0.03,0.09,0.0,0.34,0.07,0.02,0.0,0.25,0.0,0.01,0.18,0.37,0.0,0.06,0.01,0.07,0.0,0.12,0.02,0.03,0.38,0.0,0.05,0.0,0.02,0.0,0.0,0.06,0.75,0.0,0.0,0.0,0.0,0.04,0.16,0.06,0.06,0.04,0.0,0.08,0.29,0.06,0.01,0.09,0.0,0.14,0.0,0.0,0.05,0.47,0.02,0.37,0.15,0.11,0.12,0.0,0.08,0.22,0.05,0.72,0.0,0.33,0.08,0.25,0.0,0.02,0.0,0.29,0.02,0.14,0.12,0.03,0.07,0.16,0.0,0.01,2.51,0.1,0.04,0.01,0.51,0.0,0.0,0.07,0.31,0.03,0.23,0.01,0.01,0.19,0.03,0.02,0.03,0.0,0.15,0.19,0.17,0.0,0.0,0.01,0.0,0.03,0.1,0.06,0.02,0.09,0.15,0.0,0.0,0.27,3.4,0.05,0.05,0.0,0.06,0.18,0.04,0.02,0.2,0.2,0.01,0.25,0.03,0.44,0.05,0.0,0.0,0.08,0.0,0.0,0.01,0.07,0.04,0.03,0.0,0.0,0.16,0.0,0.92,0.0,0.02,0.83,0.11,0.0,0.25,0.0,1.07,0.09,0.07,0.01,0.35,2.8,0.15,0.02,0.0,0.11,0.0,0.0,0.0,0.46,0.0,0.08,0.0,0.05,0.09,0.0,0.0,0.34,0.0,0.81,0.01,0.0,0.0,0.38,0.0,0.19,0.03,0.01,0.0,0.0,0.35,0.0,0.0,0.13,0.04,0.02,0.0,0.03,0.31,0.02,0.12,0.02,0.05,0.0,0.02,0.0,0.0,0.15,0.32,0.0,0.01,0.04,0.01,0.0,0.0,0.08,0.04,0.0,0.09,0.0,0.0,0.02,0.04,0.03,0.0,0.0,0.0,0.0,0.03,0.03,0.0,1.21,0.27,0.05,0.41,0.11,0.04,0.0,3.9,0.0,0.15,0.55,0.0,0.54,0.39,0.0,0.51,1.61,0.03,0.0,0.0,0.0,0.0,0.0,0.0,0.08,0.04,0.01,0.0,0.62,0.02,0.5,0.03,0.04,0.21,0.07,0.05,0.27,0.31,0.07,0.0,2.0,0.0,0.0,0.03,0.22,0.01,0.04,0.0,0.0,0.56,0.06,0.01,0.01,0.02,0.02,0.08,0.01,0.02,0.02,0.01,0.0,0.0,0.04,0.0,0.05,0.0,0.29,0.05,0.12,0.13,0.04,2.55,0.12,0.03,0.0,0.22,0.0,0.0,0.0,0.0,0.0,0.03,1.87,0.5,0.0,0.02,0.11,0.03,0.23,0.08,0.05,0.63,0.01,0.24,0.11,0.01,0.06,0.0,0.03,0.5,0.05,0.0,0.01,0.01,0.0,0.01,0.02,0.08,0.0,0.0,0.86,0.07,0.0,0.04,0.06,0.02,0.02,0.26,0.0,0.11,0.41,0.02,0.13,0.0,0.0,0.0,0.1,0.03,0.0,0.0,0.04,0.02,0.99,0.0,0.58,0.0,0.06,0.63,0.02,0.04,0.0,0.0,0.02,0.04,0.01,0.0,0.71,0.07,0.33,0.0,0.22,0.0,0.09,0.03,0.03,0.16,0.0,0.08,0.76,0.0,0.06,0.0,0.14,0.01,0.06,0.32,0.91,0.0,0.0,0.03,0.11,0.0,0.0,0.09,0.05,0.05,0.02,0.0,0.7,0.0,0.13,0.03,0.06,0.02,0.25,0.04,0.0,0.02,0.65,0.04,0.04,0.0,0.0,0.03,0.02,0.1,0.03,0.17,0.0,0.03,0.0,0.22,0.2,0.07,0.05,0.04,0.0,0.03,0.16,0.02,0.53,0.0,0.22,0.02,0.19,0.02,0.0,0.0,0.08,0.13,0.32,1.5,0.0,0.02,0.02,0.58,0.0,0.03,0.14,0.02,0.01,0.01,0.03,0.11,0.03,0.11,0.14,0.02,0.01,0.33,0.61,0.01,0.01,0.0,0.18,0.03,0.05,0.0,0.13,0.25,0.0,0.01,0.99,0.18,0.4,0.0,0.4,0.04,0.0,0.0,0.0,0.0,0.19,0.0,0.12,0.08,0.03,0.26,0.18,0.01,0.1,0.02,0.37,0.01,0.0,0.27,0.0,0.0,0.0,0.45,0.04,4.32,1.2,0.01,0.0,0.21,0.01,0.98,0.19,0.05,0.03,0.0,0.17,0.0,0.0,0.03,0.0,0.09,0.02,0.04,0.0,0.91,0.0,0.0,0.03,1.0,0.09,0.0,0.0,0.04,0.01,0.06,0.01,0.0,0.0,0.03,0.02,0.0,0.63,0.0,0.05,3.15,0.04,0.24,0.22,0.74,0.01,0.0,0.0,0.0,0.0,0.0,0.01,0.38,0.03,0.98,0.02,0.02,0.04,0.0,0.0,0.29,0.98,0.0,0.01,0.12,0.0,0.45,0.37,0.03,0.0,0.0,0.02,0.0,0.24,0.0,0.02,2.21,0.01,0.0,0.08,0.0,0.01,0.44,0.58,0.84,0.52,0.0,0.0,0.31,0.04,0.01,0.0,0.27,0.0,0.11,0.2,0.0,0.28,0.07,0.0,0.0,0.0,0.03,0.01,0.04,0.06,0.02,0.02,0.17,0.02,0.01,0.0,0.08,0.0,0.0,0.04,0.01,0.0,0.32,0.04,0.08,0.44,0.11,0.26,0.04,0.54,0.03,0.01,0.0,0.26,0.0,0.0,0.02,0.01,0.02,0.25,0.05,0.02,0.13,0.03,0.94,0.0,0.19,0.0,0.07,0.63,0.0,0.01,0.15,0.0,0.0,0.0,0.0,0.02,0.0,0.0,0.21,0.0,0.08,0.09,0.01,0.01,0.62,0.03,0.2,0.01,0.19,0.05,0.0,0.0,0.02,0.16,0.05,0.08,0.04,0.29,0.0,0.02,0.01,0.0,0.14,0.64,0.18,0.06,0.12,0.01,0.05,0.0,0.0,0.0,0.0,0.01,0.01,0.0,0.03,0.06,0.16,0.03,0.23,0.05,0.0,0.03,0.03,0.0,0.02,0.12,0.0,0.01,0.0,0.1,0.0,0.25,0.0,0.01,0.06,0.0,0.05,0.0,0.13,1.78,0.02,0.0,0.0,0.0,0.0,0.36,0.0,0.01,0.0,0.12,0.01,0.03,0.1,0.0,0.0,0.51,0.04,0.0,0.03,0.01,0.02,0.0,0.04,0.0,0.03,0.08,0.0,0.0,0.01,0.01,0.16,0.02,0.69,0.05,0.06,0.04,0.06,0.0,0.78,0.07,0.04,0.01,0.0,1.47,0.06,0.0,0.04,0.0,0.0,0.01,1.72,0.01,0.27,0.0,2.93,0.43,0.37,0.0,0.38,0.01,0.11,0.08,0.11,0.06,0.05,0.4,0.1,0.06,0.0,0.53,0.21,0.0,8.89,0.02,0.01,0.06,0.02,0.0,0.19,0.08,0.02,0.0,0.06,0.02,0.34,0.0,0.04,0.02,0.03,0.0,0.0,0.09,0.01,0.0,0.0,0.09,0.0,0.19,0.02,0.09,0.0,0.05,0.07,1.36,0.0,0.04,0.02,0.01,0.0,0.05,0.02,0.01,0.2,0.19,0.0,0.04,0.22,0.02,0.05,0.07,0.15,0.0,0.0,0.01,0.24,1.26,0.04,0.11,0.19,0.0,0.0,0.0,0.0,0.06,0.0,0.0,0.0,0.05,0.0,0.03,0.01,0.22,1.26,0.38,0.03,0.3,0.32,0.03,0.1,0.28,0.18,0.04,0.0,0.28,2.02,0.04,0.39,0.51,0.0,0.02,0.0,0.03,0.0,0.03,0.0,0.0,1.05,0.13,0.08,0.0,0.0,0.0,0.03,0.01,0.03,0.0,0.01,0.04,0.01,0.01,0.0,0.23,0.0,0.0,0.0,0.02,0.02,0.1,0.0,0.0,0.01,0.14,0.0,0.0,0.01,0.04,0.0,0.02,0.0,0.0,0.92,0.07,0.02,0.01,0.0,0.0,0.42,0.01,0.72,0.18,0.06,0.0,0.45,0.0,0.09,0.07,0.34,0.2,0.01,0.05,0.02,0.0,0.0,0.0,0.8,0.19,0.0,0.1,0.0,0.05,0.0,0.0,0.16,0.04,0.03,0.0,0.02,0.13,0.59,0.0,0.02,0.15,0.0,0.0,0.04,0.0,0.06,0.0,0.0,0.0,0.06,0.05,0.0,0.09,0.0,5.31,0.04,0.0,0.12,0.05,0.0,0.0,0.02,0.0,0.0,1.11,0.0,0.0,0.07,0.0,0.03,1.84,0.01,0.0,0.0,0.0,0.03,0.0,0.38,0.0,0.0,0.2,0.06,0.0,0.03,0.0,0.12,0.06,0.02,0.0,0.02,0.0,1.02,0.0,0.06,0.0,0.32,0.07,0.0,0.16,0.0,0.01,0.0,0.0,0.03,0.25,0.19,0.03,0.0,1.42,0.0,0.1,0.05,0.0,0.0,0.27,0.07,0.01,0.0,0.01,0.08,0.02,0.0,0.22,0.02,0.02,0.0,0.0,0.12,0.0,0.04,0.0,0.0,0.4,0.02,0.0,0.0,0.16,0.0,0.0,0.01,0.01,0.01,0.36,0.06,0.0,0.04,0.02,0.07,0.03,0.02,0.01,0.0,0.0,0.0,0.07,0.05,0.0,0.01,0.0,0.0,0.14,0.0,0.03,0.1,0.0,0.34,0.01,1.44,0.0,0.06,0.12,0.0,0.0,0.0,0.02,0.0,0.0,0.06,0.04,0.0,0.0,0.06,0.05,0.06,0.32,0.0,0.0,0.19,0.03,0.04,0.01,0.0,0.12,0.0,0.0,0.01,0.38,0.04,0.16,0.07,0.0,0.1,0.02,0.02,0.01,0.07,0.15,1.83,0.12,0.27,0.02,0.05,0.0,0.0,0.21,0.0,0.0,0.09,0.18,0.07,0.72,0.04,0.0,0.0,0.12,0.02,0.38,0.14,0.0,0.0,0.0,0.0,0.01,0.05,0.04,0.04,0.0,0.02,0.02,0.18,0.0,0.01,0.04,0.08,0.03,0.01,0.0,0.0,0.01,1.24,0.01,0.36,0.03,0.03,0.89,0.0,0.0,0.28,0.06,0.0,0.04,0.0,0.0,0.04,0.01,0.0,0.0,0.18,0.04,0.0,0.0,0.01,0.02,0.13,0.04,0.0,0.0,0.0,0.0,0.06,0.29,1.56,0.02,0.0,0.02,0.01,0.02,0.0,0.08,0.03,0.02,0.0,0.04,0.0,0.0,0.0,0.01,0.11,0.02,0.0,0.31,0.09,0.0,0.64,0.04,0.0,0.03,0.88,0.41,0.46,0.03,0.04,0.08,0.97,0.0,0.08,0.0,0.0,0.29,0.02,0.23,0.0,0.01,0.0,0.0,0.0,0.41,0.0,0.03,0.0,1.34,0.0,0.07,0.0,0.0,0.1,0.09,0.06,0.75,0.01,0.0,0.03,0.01,0.44,0.07,0.0,0.05,0.71,0.0,0.0,0.0,0.0,0.04,0.0,0.2,0.26,0.38,0.17,0.0,0.0,0.05,0.01,0.46,0.0,0.02,0.02,0.0,0.15,0.0,0.02,0.0,0.0,0.0,0.0,0.0,0.0,0.02,0.0,0.0,0.05,0.06,0.01,0.59,0.37,0.0,0.18,0.0,0.0,0.0,0.66,0.0,0.01,0.02,0.01,0.08,0.0,0.03,0.0,0.16,0.02,0.0,0.08,0.0,0.33,0.02,0.08,0.44,0.0,0.03,0.0,0.32,0.0,0.0,0.0,1.4,0.02,0.08,0.27,0.14,0.0,0.2,0.01,0.24,0.02,0.0,0.25,0.0,0.33,0.03,0.08,1.14,0.07,0.0,0.41,0.16,0.07,1.09,0.18,0.37,0.02,1.05,0.2,0.01,0.01,0.01,0.01,0.0,0.0,0.02,0.46,0.56,0.16,0.01,0.33,0.04,0.0,0.0,0.0,0.0,0.13,0.67,0.0,0.09,0.0,0.15,0.46,0.52,0.09,1.25,0.07,1.97,0.85,0.42,0.37,0.46,0.0,0.06,0.0,0.0,0.13,0.04,0.0,0.0,0.0,0.16,0.0,0.0,0.14,0.01,0.12,0.4,0.02,0.01,0.09,0.06,0.01,0.0,0.05,0.32,0.01,0.0,0.23,0.01,0.0,0.0,0.03,0.05,0.44,0.02,0.0,0.15,0.16,0.0,0.01,0.0,0.09,0.02,0.06,0.01,0.0,0.02,0.0,0.76,0.64,0.13,0.0,0.66,0.0,0.0,0.02,0.0,0.0,0.07,0.01,0.04,0.0,0.0,0.02,0.0,0.49,0.06,0.11,0.21,0.0,0.23,0.01,0.0,0.0,0.0,0.0,0.05,0.06,0.0,0.0,0.02,0.0,0.02,0.0,0.27,0.0,0.0,0.03,0.0,0.0,0.0,0.04,0.0,1.12,0.0,0.0,0.08,0.62,0.0,0.0,0.64,0.0,0.12,0.03,0.05,0.0,0.2,0.0,0.0,0.01,0.1,0.11,0.08,0.02,0.24,0.0,0.08,0.01,0.44,0.12,0.19,0.01,0.01,0.01,0.06,0.75,0.07,0.74,0.31,0.01,0.01,0.0,0.21,0.52,0.0,0.01,0.18,0.48,0.12,0.0,0.1,0.0,0.0,0.2,0.02,0.32,0.86,0.06,0.25,0.14,0.0,0.01,0.0,0.03,0.0,0.77,1.37,0.0,0.23,0.11,0.0,0.58,0.04,0.15,0.2,0.09,0.0,0.0,0.01,0.25,0.56,1.28,0.0,0.0,0.03,0.01,0.01,0.0,0.02,0.21,0.0,0.0,0.0,0.32,0.01,0.37,0.0,0.37,0.77,0.04,0.51,0.25,0.02,0.01,0.03,0.03,0.04,0.06,0.06,0.01,0.02,0.02,0.19,0.0,0.0,0.0,0.07,0.0,0.7,0.0,0.0,0.33,0.52,0.37,0.0,0.2,0.0,0.0,0.02,0.07,0.54,0.35,0.03,0.01,0.94,0.01,0.01,0.0,0.04,0.39,0.0,0.13,0.0,0.02,0.0,0.03,0.01,0.04,0.1,0.1,0.15,1.18,0.38,0.3,0.0,0.12,0.02,0.24,0.07,0.01,0.58,0.07,0.0,0.05,0.0,0.01,0.11,0.06,0.09,0.36,0.06,0.02,1.13,0.0,0.02,0.0,0.0,0.0,0.03,0.0,0.01,0.03,0.0,0.0,0.0,0.0,0.04,0.0,0.05,0.06,0.08,0.0,0.42,0.26,0.01,0.0,0.69,0.02,0.0,0.07,0.02,0.48,0.0,0.01,1.87,0.0,0.01,0.0,0.05,0.01,0.0,0.01,0.08,0.0,0.04,0.04,0.02,0.06,0.0,0.0,0.04,0.0,0.05,0.0,0.04,0.25,0.01,0.18,0.05,0.03,0.0,0.01,0.38,0.0,0.17,0.18,0.3,0.0,0.17,0.04,0.36,0.01,0.0,0.0,0.03,0.02,0.03,0.19,0.0,0.0,0.18,0.06,0.0,0.01,0.89,0.02,0.0,0.03,0.02,0.0,0.01,0.02,0.15,0.0,0.04,0.02,0.32,0.0,0.02,0.0,0.12,0.0,0.0,0.0,0.1,0.0,0.0,0.01,0.33,0.02,0.0,0.0,0.0,0.0,0.08,0.11,0.02,0.04,0.25,0.04,0.27,0.12,0.07,0.5,0.03,0.0,0.0,0.0,0.06,0.46,0.18,0.07,0.06,0.0,0.11,0.02,0.15,0.2,0.05,0.44,0.02,0.02,0.07,0.0,0.0,0.09,0.0,0.05,0.08,0.0,0.14,0.05,0.11,0.04,0.01,1.35,0.0,0.0,0.05,0.08,0.03,0.76,0.0,0.02,0.02,0.03,0.0,0.02,0.0,0.0,0.21,0.02,0.0,0.0,0.0,0.09,0.4,0.0,0.03,0.02,0.0,0.42,0.95,0.06,0.06,0.02,0.03,0.03,0.06,0.09,0.09,0.0,0.0,0.0,0.04,0.0,0.0,0.14,0.0,0.0,0.0,0.02,0.0,0.03,0.0,0.01,0.01,0.01,0.35,0.16,0.03,0.01,0.0,0.05,0.06,0.01,0.18,0.02,0.04,0.0,0.0,0.0,0.02,0.05,0.04,0.01,0.0,0.11,0.03,0.48,0.02,0.1,0.12,0.02,0.0,1.97,0.26,0.0,0.0,0.0,0.0,0.08,0.27,0.0,0.03,0.0,1.21,0.28,0.02,0.03,0.0,0.0,0.0,0.02,0.32,0.0,0.04,0.02,0.15,0.06,0.01,0.04,0.4,0.0,0.0,0.01,0.12,0.05,0.0,0.01,0.0,0.4,0.0,0.29,0.0,0.12,0.02,0.0,0.0,1.37,0.0,0.6,0.04,0.01,0.01,0.0,0.03,0.0,0.03,0.0,0.0,0.02,0.19,0.0,0.17,0.2,0.0,0.25,0.0,0.22,0.0,0.0,0.04,0.0,0.24,0.0,0.17,0.03,0.0,0.0,0.2,0.01,0.53,0.06,0.02,0.04,0.02,0.08,0.68,0.03,0.0,0.35,0.0,0.02,0.0,0.04,0.24,0.0,1.64,0.03,0.88,0.01,0.21,0.01,0.09,0.09,0.04,0.0,0.0,1.13,0.0,0.01,0.0,0.0,0.02,0.09,0.34,0.72,0.01,0.02,0.0,0.13,0.04,0.0,0.01,0.01,0.09,0.0,0.0,0.39,0.04,0.1,0.24,1.2,0.03,0.01,0.04,0.0,0.02,0.03,0.02,0.04,0.0,0.0,0.0,0.2,0.01,0.0,0.0,0.0,0.04,0.08,0.01,0.04,0.0,0.0,0.01,0.0,0.19,0.63,0.0,0.17,0.0,0.07,0.01,0.39,0.01,0.09,0.02,0.01,0.03,0.08,0.81,0.02,0.03,0.01,0.02,0.52,0.0,0.05,0.26,0.16,0.01,0.0,0.03,1.16,0.02,0.0,0.03,0.04,0.05,0.21,0.0,0.13,0.0,0.0,0.96,0.09,0.12,0.0,1.24,0.03,0.0,0.01,0.0,0.76,0.22,0.78,0.01,0.02,0.0,0.0,0.0,0.0,0.02,0.21,0.05,0.16,0.0,0.05,0.01,0.12,0.01,0.0,0.04,0.06,0.03,0.52,0.44,0.22,0.0,0.02,0.0,0.01,0.13,0.0,1.01,0.07,0.0,0.02,0.0,2.26,0.01,0.17,0.01,0.03,0.0,0.25,0.0,0.01,0.02,0.06,0.02,0.06,0.0,0.07,0.07,0.19,0.0,0.18,0.01,0.17,0.01,0.19,0.11,0.01,0.01,0.02,0.04,0.0,0.3,0.0,0.06,0.02,0.03,0.26,0.0,0.14,0.01,0.03,0.01,0.07,0.03,0.02,0.0,0.22,0.03,0.05,0.42,0.07,0.06,0.06,0.04,0.0,0.0,0.03,0.25,0.0,0.02,0.0,0.07,0.13,0.89,0.0,0.21,0.02,0.19,0.0,0.0,0.09,0.0,0.16,0.01,0.01,0.0,0.0,0.0,0.04,1.49,0.04,0.57,0.18,0.01,0.04,0.01,1.11,0.58,0.2,0.0,0.0,0.22,0.0,0.02,0.03,1.03,0.15,0.0,0.0,0.02,0.0,0.53,0.16,0.0,0.02,0.0,2.28,0.07,0.04,0.01,0.0,0.02,0.09,0.04,0.17,0.0,0.0,0.04,0.04,0.0,0.0,0.0,0.0,0.44,0.0,0.46,0.0,0.26,0.01,0.12,0.17,0.01,0.03,0.03,0.15,0.46,0.0,0.41,0.0,0.0,0.0,1.75,0.0,0.0,0.02,0.02,0.02,0.03,0.03,0.02,0.0,0.02,0.35,1.31,0.26,0.02,0.56,0.02,0.03,0.3,0.0,0.01,0.01,0.07,0.13,0.53,0.13,0.02,0.01,0.0,0.0,0.03,0.11,0.01,0.04,0.0,0.59,0.01,0.0,0.09,0.21,0.0,0.52,0.03,0.0,0.2,0.0,0.06,0.03,0.14,0.05,0.0,0.23,0.03,0.0,0.07,0.13,0.0,0.0,0.3,0.01,0.01,0.06,0.28,0.33,0.12,0.13,0.0,0.03,0.0,0.08,0.08,1.92,0.0,0.0,0.0,0.03,0.12,0.01,1.12,0.45,0.0,0.0,0.07,0.06,0.08,0.0,0.0,0.02,0.06,0.08,0.0,0.04,0.04,0.0,0.1,0.08,0.0,0.0,0.0,0.01,0.04,0.0,0.0,9.23,0.04,0.11,0.0,0.0,0.04,0.0,0.02,0.02,0.03,0.38,0.0,0.04,0.0,0.0,0.08,0.1,0.39,0.01,0.0,0.02,0.0,0.07,0.0,0.02,0.0,0.02,0.58,0.11,0.0,0.05,0.0,0.0,0.52,0.17,0.07,0.0,0.0,0.14,0.91,0.01,0.34,0.02,0.0,0.0,2.36,0.13,0.4,0.04,0.05,0.0,0.26,0.0,0.02,1.14,0.03,0.0,0.0,0.0,0.12,0.03,0.1,0.05,0.18,0.05,0.02,0.0,0.19,0.23,0.0,0.05,0.0,0.68,0.0,0.01,0.02,0.0,0.12,0.36,0.21,0.11,0.0,0.28,0.28,0.05,0.0,0.07,0.0,0.09,0.02,0.08,0.02,0.02,0.73,0.0,0.01,0.05,0.0,0.02,0.21,0.03,0.15,0.0,0.21,0.0,0.0,1.13,0.0,0.02,0.0,0.0,0.0,0.03,0.01,0.75,0.02,3.28,0.02,0.0,0.03,0.1,0.16,0.33,0.0,0.03,0.54,0.13,0.0,0.0,0.01,0.0,0.05,0.75,0.0,0.01,0.03,0.03,0.16,0.0,0.0,0.0,0.02,0.03,0.01,0.03,0.0,0.0,0.03,0.01,0.12,0.01,1.06,0.16,0.36,0.0,0.14,0.32,0.18,0.0,0.0,0.02,0.02,0.6,0.0,0.0,0.0,0.0,0.17,0.0,0.0,0.0,0.17,0.0,0.0,0.0,0.0,0.01,0.08,0.0,0.0,0.05,0.01,0.33,0.0,0.13,0.01,0.08,0.01,0.03,0.0,0.0,0.0,1.02,1.07,0.16,0.18,0.31,0.0,0.01,0.03,0.03,0.28,0.01,0.0,0.17,0.0,0.0,0.0,0.13,0.01,0.0,0.06,0.03,0.0,0.06,0.01,0.0,0.02,0.02,0.03,0.56,0.0,0.25,0.0,0.0,0.02,0.0,1.18,0.0,0.09,0.48,0.0,0.18,0.34,0.06,0.05,0.23,0.0,0.0,0.01,0.14,0.05,0.03,0.0,0.02,0.02,0.01,0.0,0.02,0.01,0.0,0.21,0.0,0.03,0.11,0.0,0.16,0.01,0.0,0.45,0.16,0.03,0.15,0.0,0.01,0.0,0.44,0.28,0.13,0.54,0.0,0.0,0.04,0.0,0.0,0.04,0.0,0.0,0.01,0.0,0.84,0.0,0.04,0.0,0.0,0.01,0.0,0.0,0.0,0.35,0.2,0.0,0.0,0.0,0.0,0.28,0.0,0.09,0.08,0.02,0.27,0.01,0.05,0.0,0.03,0.18,0.02,0.07,0.0,0.2,0.01,0.02,0.03,0.08,0.29,0.0,0.0,0.04,0.03,0.44,0.06,0.01,0.13,0.0,0.06,0.05,0.59,0.03,0.0,0.01,0.02,0.0,0.0,0.0,0.0,0.03,0.0,0.0,0.01,0.17,0.0,0.02,0.0,0.02,0.0,0.0,0.0,0.09,0.04,0.03,0.0,0.02,0.0,0.2,0.25,0.19,0.0,0.0,0.01,0.24,0.0,0.46,0.0,0.0,0.02,0.01,0.05,0.0,0.09,0.01,0.18,0.0,0.32,1.56,0.01,0.0,0.06,0.01,0.1,0.09,0.0,0.01,0.04,0.0,0.03,0.16,0.03,0.03,0.02,0.0,0.01,0.35,0.0,0.0,0.0,0.0,0.21,0.08,0.0,0.0,0.05,0.01,0.1,0.0,0.1,1.07,0.0,0.0,0.25,0.04,0.0,0.21,0.06,0.0,0.15,0.12,0.05,0.37,0.1,0.02,0.0,0.12,0.19,0.2,0.43,0.0,0.0,0.0,0.0,0.13,0.0,0.0,0.0,0.09,0.04,0.05,0.17,0.05,0.01,0.07,0.05,0.02,0.06,0.12,0.0,0.0,0.0,0.0,0.44,0.04,0.08,0.0,0.0,0.1,0.38,0.0,0.07,0.4,0.0,0.01,0.19,0.15,0.4,0.06,0.0,0.56,0.0,0.26,0.2,0.0,0.27,0.43,0.02,0.0,0.0,0.0,0.19,0.0,0.02,0.0,0.0,0.0,0.08,0.15,1.02,0.0,0.01,0.08,0.11,0.0,0.17,0.01,0.21,0.04,0.02,0.01,0.0,0.0,0.02,0.04,0.05,0.0,0.2,0.0,0.0,0.0,0.45,0.0,0.1,0.0,0.03,0.94,0.04,0.0,0.0,0.0,0.08,0.0,0.83,0.07,0.01,0.33,0.01,0.0,0.0,0.38,0.12,0.0,0.12,0.06,1.01,0.0,0.0,0.01,0.17,0.0,0.12,0.25,0.02,0.0,0.44,0.04,0.0,0.0,0.0,0.02,0.19,0.03,0.0,0.06,0.03,0.03,0.07,0.01,0.0,0.01,0.0,0.01,1.12,0.1,0.0,0.0,0.03,0.0,0.15,0.0,0.0,0.0,0.01,0.03,0.01,0.8,0.0,0.02,0.07,0.01,0.04,0.0,0.01,0.07,0.0,0.02,0.0,0.01,0.67,0.0,2.8,0.17,0.16,0.78,0.05,0.04,0.0,0.27,0.0,0.0,0.02,0.0,0.06,0.0,0.0,0.0,0.02,0.0,0.04,0.0,0.0,0.0,0.01,0.0,0.0,0.0,0.16,0.05,0.0,0.28,0.03,0.0,0.39,0.03,0.0,0.01,0.34,0.07,0.0,0.01,0.0,0.1,0.0,0.0,0.51,0.36,0.15,0.05,0.49,0.02,0.23,0.14,0.13,0.02,0.01,0.01,0.0,0.0,0.1,0.04,0.01,0.06,0.13,0.01,0.0,0.45,0.0,0.02,0.0,0.02,0.0,0.01,0.0,0.0,0.02,0.42,0.03,0.32,0.05,0.0,0.03,1.83,0.18,0.0,0.04,0.06,0.0,0.57,0.05,0.21,0.01,0.06,0.06,0.05,0.68,0.0,0.06,0.01,0.2,0.4,0.0,0.06,0.0,0.0,0.1,0.0,0.01,0.0,0.12,0.0,0.1,0.08,0.0,0.05,0.09,0.2,0.0,0.0,0.0,0.03,0.02,0.0,0.0,0.0,0.05,0.08,0.03,0.02,0.03,0.03,0.0,0.05,1.73,0.83,9.26,0.02,0.21,0.34,0.37,0.0,0.03,0.41,0.0,0.0,0.0,0.0,0.32,0.01,0.0,0.0,0.0,0.04,0.15,0.0,0.07,0.19,0.0,0.19,1.16,0.01,0.09,0.0,0.14,0.0,0.0,0.03,0.09,0.07,0.02,0.0,0.18,0.15,0.14,0.63,0.0,0.36,0.0,0.75,0.12,1.79,0.22,0.01,0.35,0.0,0.04,0.26,0.01,0.26,0.03,0.0,0.0,0.02,0.93,0.07,0.07,0.21,2.07,0.02,0.01,0.05,0.04,0.3,0.28,0.08,0.52,0.04,0.03,0.54,0.03,0.69,0.13,2.46,0.04,0.0,0.03,0.0,0.0,0.0,1.14,0.11,0.02,0.0,0.02,0.14,0.02,0.08,0.03,0.03,0.23,0.0,0.01,0.19,0.03,0.03,0.0,0.02,0.16,0.0,0.0,0.53,0.03,0.25,0.23,0.05,0.05,0.34,0.0,0.02,0.06,0.06,0.28,0.18,0.25,2.19,0.0,0.02,0.03,0.01,0.0,0.0,0.0,0.04,0.0,0.21,0.0,0.0,0.0,0.0,0.25,0.0,0.0,0.44,0.0,0.0,0.1,0.0,0.02,0.06,0.0,0.0,0.04,0.05,0.0,0.13,0.02,0.0,0.41,0.0,0.03,0.07,0.06,0.15,0.0,0.0,0.03,0.0,0.0,0.12,0.0,0.05,0.0,0.07,0.0,0.26,0.0,0.76,0.14,0.07,0.72,0.01,0.09,0.0,0.0,0.03,0.01,0.32,0.01,0.04,0.03,0.17,0.0,0.03,0.05,0.05,0.39,0.16,0.0,0.0,0.08,0.03,0.06,0.0,0.08,0.0,0.13,0.0,0.04,0.02,0.0,0.01,0.0,0.0,0.16,0.0,0.02,0.02,0.0,0.06,0.16,0.0,0.14,0.0,0.02,0.03,0.18,0.61,0.49,0.3,0.13,0.01,0.65,0.0,0.0,0.0,0.0,0.01,0.0,0.09,0.64,0.38,0.1,0.0,0.03,0.01,0.01,0.02,0.02,0.04,0.0,0.02,0.03,0.04,0.21,0.0,0.07,0.0,0.07,0.0,0.01,0.04,0.09,0.02,0.0,0.08,0.0,0.02,0.04,0.0,0.01,0.02,0.0,0.0,0.02,0.53,0.08,0.02,0.6,0.0,11.0,0.0,0.02,0.07,0.23,0.03,0.18,0.0,0.04,0.01,0.03,0.0,0.0,0.15,0.09,0.04,0.15,0.05,0.0,0.0,0.06,0.0,0.05,0.05,0.7,0.02,0.0,0.02,0.0,0.04,0.03,0.02,0.05,0.0,0.03,0.0,0.0,0.02,0.16,0.0,0.0,0.01,0.0,0.2,0.02,0.03,0.0,0.0,0.4,0.01,0.01,0.08,0.04,0.3,0.06,0.0,0.21,0.14,0.15,0.01,0.3,0.1,0.05,0.04,0.0,0.0,0.02,0.02,0.0,0.03,0.0,0.0,0.04,0.0,0.0,0.02,0.0,0.06,0.39,0.0,0.12,0.73,0.21,0.04,0.05,0.04,0.01,0.0,2.39,0.02,0.0,0.02,0.06,0.0,0.03,0.86,0.0,3.87,0.02,0.0,0.0,0.0,0.0,0.05,0.21,2.27,0.01,0.02,0.0,0.0,0.01,0.0,0.15,0.03,0.02,0.02,0.06,0.0,1.26,0.47,0.59,0.08,0.0,0.01,0.04,0.09,0.01,0.02,0.0,0.0,0.24,0.0,0.14,0.31,0.17,0.01,0.06,0.04,0.12,0.01,0.25,0.22,0.0,0.0,0.14,0.33,0.56,0.87,0.0,0.22,0.04,0.1,0.0,0.01,0.0,0.02,0.09,0.02,0.53,0.08,0.0,0.79,0.05,0.0,0.0,0.01,0.0,0.01,0.8,0.04,0.16,0.0,0.08,0.03,0.18,0.0,0.01,0.0,0.19,0.0,0.0,0.0,0.02,0.07,0.02,0.03,0.0,0.01,0.0,0.0,0.0,0.07,0.15,0.0,0.35,0.24,0.14,0.0,0.0,0.02,0.0,0.0,0.07,0.03,0.16,0.05,0.11,0.01,0.0,0.0,8.03,0.0,0.0,0.1,0.02,0.0,0.0,0.02,0.06,0.0,0.03,0.06,0.18,0.0,0.01,0.0,0.01,0.0,0.27,0.0,0.12,0.49,0.43,0.02,0.03,0.04,0.01,0.01,0.0,0.07,0.02,1.15,0.97,0.0,0.0,0.0,0.11,0.01,0.0,0.15,0.0,0.16,0.03,0.02,0.0,0.0,0.0,0.1,0.0,0.02,0.0,0.06,0.11,0.04,0.0,0.2,0.03,0.22,0.13,0.17,0.0,0.03,0.04,0.01,0.03,0.14,0.03,0.2,0.59,0.03,0.0,0.0,0.0,0.0,0.0,0.0,0.08,0.0,0.03,0.13,0.0,0.02,0.25,0.02,1.61,0.0,0.0,0.0,1.22,0.11,0.0,0.0,0.14,0.03,0.04,0.03,0.15,0.04,0.12,0.02,0.15,0.04,0.05,0.12,0.01,0.0,0.07,0.2,0.01,0.02,0.1,0.0,1.03,0.0,0.34,0.0,1.31,0.02,0.05,0.02,0.16,0.0,0.23,0.07,0.03,0.02,0.0,0.11,0.0,0.0,0.03,0.0,0.03,0.01,0.19,0.02,0.02,0.01,0.37,0.0,0.0,0.23,0.0,0.03,0.08,0.06,0.03,0.0,0.79,0.0,0.0,0.04,0.04,0.0,0.01,0.0,0.0,0.0,0.0,0.12,0.01,0.02,0.02,0.0,0.18,0.02,0.15,0.47,0.02,0.0,0.17,0.0,0.05,0.03,0.0,0.07,0.0,0.09,0.0,0.47,0.01,0.12,0.07,0.02,0.0,0.08,0.3,0.02,0.05,0.06,0.0,0.4,0.13,0.23,0.02,0.0,0.01,0.0,0.22,0.06,2.15,0.03,0.0,0.01,0.09,0.0,0.0,0.07,0.28,0.9,0.0,0.0,0.03,0.01,0.98,0.07,0.01,0.13,0.0,0.07,0.0,0.01,0.36,0.0,0.0,0.11,0.33,0.01,0.0,0.05,3.42,0.1,0.0,0.05,0.01,0.0,0.0,0.0,0.03,0.0,0.01,0.05,0.15,0.1,0.16,0.04,0.05,0.02,0.0,0.17,0.0,0.11,0.15,0.0,0.04,0.05,0.0,0.07,0.01,0.03,0.09,0.0,0.0,0.99,0.09,0.03,0.0,0.96,0.01,0.18,0.0,0.02,0.0,0.01,0.0,1.89,0.17,0.18,0.01,0.1,0.1,0.09,0.0,0.23,1.29,0.0,0.0,0.27,0.02,0.07,0.0,0.05,0.0,0.2,0.04,0.0,0.01,0.05,0.0,0.0,0.1,0.03,0.0,0.0,0.1,0.0,0.52,0.01,0.38,0.22,0.63,0.0,0.0,0.24,0.0,0.01,0.0,0.0,0.22,0.1,0.0,0.02,0.0,0.0,0.43,0.23,0.02,0.03,0.29,0.05,0.0,0.07,0.11,0.81,0.09,0.0,3.14,0.01,0.05,0.0,0.0,0.0,0.0,0.02,0.04,0.02,0.0,0.0,0.0,0.04,0.05,0.0,0.07,0.04,0.03,0.27,0.01,0.05,0.0,0.0,0.04,0.15,0.0,0.08,0.02,0.04,0.0,0.01,0.01,0.0,0.01,0.05,0.03,0.06,0.0,0.0,0.0,0.0,0.01,0.02,0.0,0.0,0.01,0.04,0.0,0.0,0.24,0.0,0.0,0.07,0.0,0.01,0.6,0.0,0.03,0.2,0.24,0.03,0.0,0.02,0.0,0.0,0.07,0.0,0.17,0.03,0.03,0.25,0.11,0.18,0.0,0.15,0.0,0.0,0.0,0.03,0.96,0.0,5.81,0.02,0.06,0.1,0.0,0.0,0.0,0.07,0.0,0.05,0.0,0.0,0.18,0.3,0.04,0.0,0.04,0.0,0.11,0.18,0.14,0.0,0.2,0.0,0.0,0.23,0.3,0.01,0.26,0.14,1.52,0.0,0.0,0.09,0.0,0.09,0.12,0.22,0.01,0.38,0.04,0.72,0.0,0.0,0.26,0.35,0.0,0.01,0.0,0.05,0.0,0.24,0.0,0.04,0.07,0.04,0.01,0.67,0.0,0.12,0.05,0.1,0.0,0.0,0.0,0.0,0.19,0.06,1.06,0.0,0.0,0.27,0.0,0.0,0.04,0.0,0.02,0.03,0.69,0.0,0.01,0.01,0.0,0.02,0.0,0.37,1.39,0.0,0.36,0.04,0.0,0.04,0.04,0.04,0.09,0.06,0.0,0.05,0.0,0.0,0.01,0.0,0.28,0.09,0.0,1.33,0.01,0.06,0.03,0.14,2.22,0.88,0.0,0.25,0.0,0.0,0.0,0.02,0.03,0.0,0.06,1.39,0.0,0.0,0.03,0.02,0.27,0.0,0.31,0.0,0.0,0.02,0.0,0.0,0.12,0.03,0.03,0.05,0.39,0.78,0.01,0.22,0.01,0.03,0.14,0.26,0.19,0.12,1.26,0.01,0.17,0.04,0.0,0.02,0.0,0.01,0.24,0.29,0.02,0.1,0.0,0.0,0.03,0.0,0.03,0.0,0.0,0.11,0.0,0.0,0.02,0.46,0.03,0.0,0.0,0.08,0.11,0.01,0.0,0.01,0.02,0.36,0.0,0.11,0.03,0.0,0.05,0.04,0.03,0.04,0.01,0.01,0.11,0.06,0.04,0.17,0.36,0.14,0.12,0.02,0.19,0.01,0.18,0.0,0.0,0.06,0.0,0.02,0.01,0.02,0.0,0.0,0.01,0.0,0.1,0.09,0.01,0.0,0.08,0.79,0.01,0.12,0.0,0.0,0.12,0.02,0.38,0.03,0.0,0.45,0.06,0.0,0.0,0.0,0.0,0.0,0.63,0.1,0.03,0.1,0.07,0.1,0.11,0.07,0.01,0.11,0.02,0.02,0.01,0.12,0.41,0.07,0.07,0.06,0.02,0.01,0.0,0.02,0.0,0.01,0.32,0.01,0.23,0.0,0.09,0.01,0.17,0.55,0.07,0.0,0.0,0.01,0.13,0.08,1.15,0.02,0.07,0.0,0.14,0.4,1.1,0.08,0.39,0.22,0.0,0.0,0.0,1.27,0.0,0.0,0.07,0.08,0.0,0.13,0.59,0.11,0.0,0.03,0.0,0.02,0.02,0.0,0.01,0.11,0.01,0.0,0.07,0.0,0.0,0.14,0.02,0.05,0.0,0.02,0.57,0.03,0.05,0.05,0.01,0.01,0.02,0.07,0.0,0.1,0.16,0.23,0.14,0.0,0.0,0.01,0.0,0.01,0.0,0.06,0.36,0.0,0.05,0.0,0.0,0.0,0.43,0.0,0.02,0.02,0.0,0.0,0.24,0.0,0.54,0.0,0.0,0.02,0.0,0.01,0.05,0.02,0.0,0.09,0.08,0.36,0.48,0.0,0.02,0.01,0.0,0.11,0.0,0.01,0.0,0.0,0.0,0.04,0.0,0.0,0.0,0.03,0.0,0.07,0.04,0.04,0.02,0.0,0.04,0.18,0.02,0.11,0.17,0.07,0.0,1.71,0.03,0.02,0.02,0.0,0.01,0.01,0.37,0.0,0.0,0.0,0.03,0.04,0.54,0.0,0.92,0.06,0.17,0.0,0.09,0.03,0.19,0.2,0.02,0.22,0.0,0.0,0.06,0.23,0.0,0.04,0.0,0.11,0.0,0.01,0.04,0.02,0.0,0.69,0.0,0.82,0.07,0.03,0.03,0.12,0.21,0.0,0.0,0.01,0.38,0.45,0.17,0.14,0.0,0.09,0.04,0.06,0.12,0.22,0.0,0.0,0.08,0.0,0.14,0.04,0.08,0.37,0.15,0.12,0.01,0.0,0.16,0.01,0.12,0.03,0.09,1.2,0.09,0.05,0.04,0.01,0.18,0.02,0.06,0.02,0.14,0.0,0.1,0.0,0.0,0.01,0.0,0.0,0.63,0.12,0.0,0.03,0.04,0.2,0.16,0.0,0.12,0.07,0.06,0.01,0.0,0.0,1.12,0.18,1.12,5.82,0.05,0.15,0.02,0.03,0.01,0.0,0.05,0.09,0.0,0.41,0.19,0.0,0.1,0.05,0.03,0.07,0.03,0.0,0.05,0.07,0.45,0.2,1.14,0.49,0.01,0.03,0.06,0.05,1.08,0.0,0.1,0.15,0.0,0.44,0.0,0.0,0.0,0.0,0.28,0.04,0.38,0.0,0.17,0.09,0.02,0.0,0.11,0.01,0.0,0.36,0.07,0.03,0.0,0.61,0.02,0.02,0.01,0.01,1.8,0.17,0.03,0.03,0.12,0.02,0.03,0.03,0.22,0.02,0.3,0.12,0.01,0.0,0.08,0.05,0.0,0.05,0.22,0.0,0.03,0.0,0.07,0.61,0.17,0.08,0.0,0.0,0.49,0.0,0.24,0.02,0.02,0.0,0.0,0.0,0.02,0.29,3.75,0.05,0.06,0.0,0.01,0.0,0.15,0.0,0.0,0.01,0.01,0.0,0.11,0.03,0.0,0.38,0.0,0.0,0.0,0.04,0.01,0.1,0.0,0.02,0.08,0.15,0.14,0.13,0.12,0.05,0.01,0.02,0.02,0.03,0.0,0.46,0.08,0.19,0.0,0.0,0.57,0.0,0.08,0.01,0.11,0.05,0.0,0.05,0.18,0.1,0.0,0.02,0.01,0.27,0.05,0.06,0.11,0.1,0.09,0.02,0.12,0.0,0.01,0.01,0.14,0.0,0.0,0.1,0.11,0.0,0.0,0.0,0.0,0.02,0.06,0.09,0.04,0.0,0.0,0.14,0.0,0.04,0.0,0.14,0.0,0.98,0.08,0.03,0.02,0.01,0.55,0.08,0.0,0.0,0.1,0.0,0.12,0.21,0.1,0.01,0.12,0.0,0.07,0.01,0.3,0.01,0.47,0.03,0.39,0.0,0.03,0.03,0.58,0.21,0.08,0.05,0.03,0.0,0.0,0.0,0.22,0.03,0.0,0.01,0.09,0.0,0.02,0.14,0.0,0.32,0.2,0.0,0.1,0.0,0.0,0.04,0.01,0.11,0.17,0.06,0.0,0.19,0.04,0.0,0.04,0.0,0.0,0.01,0.01,0.0,0.51,0.0,0.01,0.37,0.0,0.0,0.25,0.65,0.03,0.0,0.0,0.19,0.0,0.0,0.0,0.01,0.01,0.33,0.0,0.0,0.0,0.0,0.01,0.0,0.02,0.0,0.0,0.0,0.09,0.11,0.09,0.01,0.0,0.1,0.0,0.0,0.39,0.0,0.12,0.0,1.77,0.48,0.27,0.0,0.01,0.0,0.34,0.02,0.02,0.0,0.0,0.0,0.41,0.04,0.16,0.06,0.0,0.01,0.04,0.06,0.13,0.03,0.0,0.0,0.03,0.07,0.0,0.0,0.07,0.26,0.02,2.05,4.51,0.0,0.03,0.0,0.0,0.02,0.03,0.0,0.05,0.0,0.12,0.07,0.85,0.08,0.07,0.0,0.0,0.0,0.24,0.07,0.0,0.01,0.02,0.0,0.0,0.07,0.04,0.02,0.24,0.03,0.01,0.01,0.16,0.58,0.0,0.0,0.06,0.0,0.0,0.05,0.0,0.02,0.0,0.08,0.0,0.53,0.0,0.01,0.0,0.05,0.75,0.01,0.35,0.13,0.0,0.02,0.0,0.0,0.12,0.13,3.44,3.75,0.0,0.46,0.0,0.11,0.0,0.0,0.0,0.02,0.02,0.0,0.0,0.0,0.02,0.06,0.54,0.01,0.57,0.06,0.15,0.0,0.03,0.0,0.1,0.41,0.07,0.01,0.0,0.03,0.03,0.18,0.01,0.01,0.16,0.09,0.06,0.0,0.0,0.02,0.0,0.02,0.02,0.0,0.26,0.0,0.01,0.0,0.1,0.04,0.0,0.0,0.09,0.16,0.0,0.59,0.04,0.01,0.0,0.05,0.2,0.0,0.01,0.16,0.0,0.01,0.11,0.19,0.0,0.04,0.0,0.08,0.0,0.09,0.05,0.0,0.04,0.0,0.0,0.01,0.15,0.02,0.0,0.0,0.0,0.0,0.24,0.16,0.01,0.0,0.01,0.01,0.11,0.13,0.0,0.14,0.0,0.0,0.02,0.02,0.0,0.48,0.14,0.02,0.0,0.0,0.11,0.0,0.06,0.0,0.49,0.0,0.0,0.0,0.34,0.01,0.3,0.02,0.13,0.04,0.03,0.11,1.05,0.0,0.0,0.0,0.21,0.01,0.03,0.0,0.13,0.05,0.04,0.05,0.15,0.0,0.0,0.0,0.06,0.07,0.02,0.09,0.0,0.08,0.01,0.19,0.0,0.23,0.02,0.35,0.07,0.0,0.3,2.02,0.0,0.27,0.42,0.2,0.04,0.0,0.03,0.02,0.01,0.11,2.35,0.01,0.03,0.0,0.03,0.0,0.99,0.45,0.19,0.13,0.05,0.15,0.01,0.04,1.47,0.01,0.65,0.0,0.49,0.0,0.04,4.29,0.12,0.25,0.01,0.01,0.15,0.0,0.46,0.04,0.05,0.02,0.26,0.38,0.03,0.8,0.0,0.0,0.06,0.23,0.04,0.0,0.03,0.12,0.02,0.0,0.0,0.0,0.0,0.0,0.02,0.07,0.29,0.07,0.0,0.06,0.0,0.01,0.02,0.0,0.0,0.01,0.07,0.04,0.0,0.35,0.05,0.32,0.31,0.03,0.0,0.0,0.0,0.16,0.07,0.0,0.01,0.01,0.0,0.05,0.02,0.05,0.0,0.03,0.2,0.02,0.0,0.07,0.0,0.0,0.1,0.01,0.16,0.0,0.03,0.05,0.07,0.02,0.1,0.15,0.08,0.04,0.23,0.02,0.0,0.0,0.44,0.0,0.06,0.0,0.04,0.13,0.73,0.04,0.11,0.05,0.01,0.14,0.01,0.0,0.0,0.0,0.47,0.03,0.33,0.02,0.06,0.13,0.1,0.04,0.0,0.0,0.0,0.0,0.02,0.12,0.0,0.02,0.03,0.03,0.0,1.14,0.08,0.0,0.01,0.0,0.08,0.0,0.1,0.03,0.01,0.03,0.04,0.0,0.02,0.23,0.0,0.0,0.07,0.02,0.0,0.01,0.0,0.02,0.01,0.03,0.0,0.48,0.0,0.0,0.0,0.0,0.35,0.16,0.0,0.0,0.12,0.18,0.03,0.32,0.06,0.01,0.01,0.07,0.0,0.64,0.0,0.01,0.03,0.01,0.0,0.0,0.0,0.01,0.05,0.07,0.16,0.0,0.0,0.0,0.04,0.0,0.02,0.17,0.0,0.0,0.0,0.02,0.05,0.18,0.06,0.04,0.0,0.01,0.0,0.03,0.1,0.02,0.0,0.16,0.0,0.0,3.73,0.0,0.0,0.04,0.32,0.01,0.38,0.12,0.0,0.0,1.02,0.26,0.0,0.0,0.02,0.0,0.0,0.03,0.16,1.25,1.06,0.33,0.0,0.0,0.01,0.0,0.0,0.02,0.88,0.0,0.87,0.0,0.02,0.0,0.0,4.94,2.89,0.0,0.0,0.0,0.0,0.01,0.0,0.0,0.0,0.21,0.02,0.17,0.1,0.0,0.02,0.0,0.0,0.45,0.05,0.04,0.0,0.05,0.05,0.05,0.01,0.04,0.0,0.15,0.08,0.0,0.08,0.16,0.02,0.0,0.04,0.13,0.06,0.0,0.04,0.1,0.11,0.03,0.02,0.0,0.02,0.16,0.03,0.01,0.0,0.13,0.73,0.04,0.46,0.37,0.5,0.42,0.04,0.15,0.0,0.03,0.0,0.05,0.0,0.04,0.0,0.0,0.04,0.57,0.0,0.06,0.0,0.0,0.0,0.04,0.79,0.01,0.0,0.0,0.02,0.0,0.24,1.35,0.0,0.0,0.0,0.01,0.25,0.0,0.03,0.0,3.1,0.0,0.0,0.01,0.0,0.19,0.04,1.02,0.36,0.01,0.27,0.91,0.08,0.0,0.54,0.0,0.03,0.26,0.28,0.0,0.14,0.0,0.0,0.0,0.0,0.0,2.64,0.05,0.16,0.0,0.09,0.17,1.29,0.01,0.01,0.17,0.05,0.0,0.0,0.32,0.0,0.06,0.01,0.0,0.0,0.1,0.97,0.12,0.11,0.06,0.05,0.0,0.94,0.18,0.01,0.01,0.02,0.08,0.01,0.17,0.12,0.76,0.04,0.19,0.0,1.08,0.02,0.01,0.0,0.0,0.11,0.11,0.0,0.69,0.0,0.27,0.0,0.45,0.01,0.0,0.02,0.26,0.03,0.02,0.03,0.0,0.11,0.12,0.09,0.0,0.03,0.05,0.05,0.0,0.07,0.01,0.0,0.38,0.07,0.01,0.0,1.03,0.12,0.0,0.16,0.03,0.0,0.15,0.0,0.01,0.02,0.0,0.0,0.07,0.0,0.86,0.0,0.0,0.03,0.06,0.0,0.0,0.08,0.4,0.04,0.0,0.04,0.0,0.01,0.0,0.2,0.92,0.09,0.0,0.03,0.0,0.16,0.03,0.03,0.0,0.0,0.16,0.37,0.92,0.03,0.0,0.0,0.11,0.05,0.0,0.35,0.01,0.13,0.0,0.01,0.57,0.0,0.01,0.12,0.03,0.02,0.09,0.04,0.02,1.33,0.17,0.0,0.05,4.28,0.61,0.09,0.18,0.06,0.31,0.06,0.63,0.0,0.17,0.14,0.08,0.0,0.03,0.02,0.0,0.23,0.02,0.0,0.01,0.09,0.0,0.0,0.27,0.0,0.39,0.21,1.11,0.0,0.0,0.01,0.13,0.24,0.03,0.0,0.01,0.0,0.03,0.0,0.03,0.0,0.3,0.01,0.02,0.12,0.04,0.0,0.0,0.01,0.0,0.0,0.03,0.05,0.0,0.12,0.0,0.0,0.05,0.09,0.26,0.06,0.02,0.0,0.07,0.4,0.0,0.01,0.0,0.0,0.03,0.0,0.01,0.03,0.0,0.01,0.11,0.01,0.0,0.68,0.0,0.0,0.32,0.19,0.02,0.01,0.85,0.07,0.0,0.0,0.0,0.04,0.0,0.04,0.0,0.05,0.02,0.15,0.0,0.06,0.07,0.03,0.0,0.0,0.0,0.06,0.02,0.0,0.09,0.03,0.06,0.0,0.24,0.02,0.21,0.24,0.08,0.01,0.64,0.0,0.02,0.0,0.0,0.02,0.1,0.06,0.48,0.0,0.03,0.0,0.0,0.08,0.0,0.03,0.15,0.0,0.16,0.01,0.0,0.05,0.01,0.04,0.0,0.0,0.0,0.0,0.21,0.0,0.34,0.01,0.0,0.57,0.0,0.23,0.09,0.0,0.0,0.0,0.0,0.23,0.01,0.07,0.02,0.46,0.2,0.04,0.0,0.01,0.02,0.0,0.44,1.41,0.12,0.03,1.13,0.03,0.15,0.0,0.0,0.02,0.0,0.02,0.06,0.0,1.93,0.0,0.01,0.04,0.14,0.19,0.08,0.09,0.42,0.2,0.06,0.0,0.16,0.24,0.94,0.03,0.0,0.0,0.16,0.0,0.08,0.12,0.0,0.17,0.44,0.0,0.4,0.02,0.08,0.0,1.24,0.02,0.0,0.0,0.09,0.0,0.29,0.0,0.14,0.0,0.0,0.0,0.02,0.03,0.0,0.2,0.05,0.02,0.12,0.0,0.0,0.02,0.03,0.01,0.04,0.08,0.0,0.08,0.0,0.0,0.01,0.0,0.33,0.15,0.0,0.62,0.0,0.01,0.04,0.21,0.0,0.0,0.0,0.02,0.11,0.0,0.01,0.0,0.0,0.0,0.11,0.03,0.02,0.01,0.0,0.28,0.41,0.22,0.12,0.0,0.04,0.0,0.01,0.0,0.2,0.0,0.0,0.01,0.27,0.01,0.02,0.02,0.37,0.0,0.6,0.0,0.85,0.0,0.0,0.02,0.0,0.38,0.01,0.0,0.11,0.64,0.04,0.02,0.02,0.0,0.0,0.0,0.01,0.0,0.15,0.01,0.97,0.01,0.02,0.03,0.0,0.03,0.0,0.01,0.01,0.21,0.08,0.04,0.32,0.05,0.31,0.57,0.0,0.05,0.43,0.2,0.01,0.64,0.07,0.0,0.4,0.02,0.48,0.0,0.01,0.01,0.0,0.21,0.04,0.0,0.2,0.27,0.0,0.0,0.3,0.62,0.91,0.0,0.0,0.0,0.22,0.03,0.02,0.0,0.97,0.31,0.14,0.71,0.0,0.05,0.0,0.5,0.34,0.0,0.04,0.05,0.48,0.0,0.2,0.17,0.01,0.0,1.57,0.06,0.0,0.09,0.04,0.22,0.04,0.0,0.0,0.01,0.0,0.0,0.0,0.0,0.05,0.2,0.0,0.31,0.0,0.0,0.0,0.01,0.01,0.0,0.06,0.13,0.1,0.34,0.0,0.03,0.29,0.03,0.0,0.06,0.0,1.9,0.19,0.11,0.15,0.0,0.0,0.0,0.03,0.01,0.41,0.03,0.0,0.0,0.02,0.04,0.04,0.01,0.19,0.02,0.09,0.0,0.06,0.04,0.1,0.25,0.09,0.0,0.0,1.73,0.14,1.18,0.01,0.28,0.07,0.01,0.01,0.05,0.0,0.04,0.23,0.0,0.0,0.0,0.02,0.0,0.0,0.06,0.04,0.2,0.0,0.0,0.0,0.04,0.0,0.08,0.0,0.04,0.0,0.0,0.02,0.04,0.0,0.39,0.03,0.04,0.1,0.02,0.0,0.01,0.68,0.0,0.01,0.01,0.0,0.0,0.06,0.26,0.0,0.0,0.0,0.0,0.19,0.0,0.0,0.0,0.0,0.63,0.0,0.21,0.0,0.02,0.0,0.01,0.1,0.0,0.1,0.0,0.02,0.0,0.07,0.03,0.0,0.02,0.72,0.87,0.03,0.28,0.01,0.0,0.0,0.02,0.04,0.0,0.15,0.52,0.01,0.0,0.11,0.0,0.0,0.48,0.0,0.0,0.19,0.01,0.0,0.16,0.05,0.02,0.0,0.0,0.48,0.22,0.03,0.0,0.06,0.0,0.02,0.01,0.07,0.07,0.0,0.0,0.0,0.01,0.03,0.29,0.22,0.07,0.04,0.09,0.1,0.0,0.14,0.01,0.0,0.03,0.0,0.0,0.02,0.0,0.0,0.05,2.85,0.01,0.13,0.42,0.0,0.02,0.0,0.0,0.02,0.0,0.0,0.0,0.0,0.1,0.04,0.01,0.0,0.0,0.0,0.0,0.02,0.02,1.22,0.49,0.0,0.08,0.76,0.0,0.09,0.47,0.0,0.12,0.05,0.24,0.01,0.1,0.01,0.01,0.0,0.22,0.04,0.02,0.01,0.0,0.51,0.16,0.05,0.4,0.01,0.0,0.0,0.0,0.08,0.29,0.0,0.0,0.0,0.0,0.03,0.0,0.11,0.0,0.0,0.45,0.0,0.06,0.0,0.0,0.03,0.03,0.03,0.25,0.03,0.56,0.07,0.28,0.15,0.34,0.02,0.12,0.76,0.0,0.0,0.0,0.0,0.04,0.11,0.09,0.0,0.03,0.01,0.55,0.06,0.05,0.24,0.03,1.05,0.74,0.11,0.0,0.0,0.15,0.0,0.05,0.03,0.77,0.04,0.0,0.0,0.18,0.03,0.01,0.03,0.0,1.11,0.0,0.01,0.01,0.02,0.0,0.16,0.02,0.03,0.0,0.0,0.04,0.0,0.41,0.04,0.18,0.07,0.0,0.0,0.02,0.0,0.0,0.0,0.28,0.01,0.02,0.17,0.0,0.0,0.03,0.0,0.0,0.17,0.13,0.06,0.01,0.0,0.43,0.0,0.0,0.0,0.02,0.0,0.4,0.11,0.0,0.54,0.37,0.0,0.0,0.0,0.01,0.01,0.0,0.0,0.8,1.12,0.07,0.03,0.42,0.0,0.05,0.15,0.04,0.01,0.04,0.01,0.01,0.06,0.0,0.27,0.03,0.0,0.0,0.0,0.21,0.02,0.14,0.14,0.0,0.03,0.0,0.41,0.0,0.0,0.02,0.01,0.0,0.01,0.01,0.09,0.03,0.0,0.15,0.64,0.02,0.43,0.02,5.36,0.04,0.02,0.06,0.02,0.01,0.0,0.01,0.02,0.14,0.01,0.0,0.03,0.41,0.01,0.05,0.03,0.0,0.12,0.0,0.61,0.0,0.0,0.0,0.05,0.0,0.0,0.0,0.01,0.01,0.0,0.0,0.09,0.0,0.01,0.05,0.04,0.02,0.05,0.13,0.0,0.0,0.06,0.04,0.01,0.07,0.0,0.0,0.32,0.0,0.04,0.0,0.0,0.09,0.43,0.0,0.16,0.02,0.0,0.24,0.0,0.0,0.0,0.0,0.01,0.0,0.08,0.0,0.98,0.0,0.0,0.05,0.02,0.53,0.05,0.0,0.14,0.1,0.82,0.0,0.01,0.29,0.07,0.02,1.61,0.77,0.03,0.0,0.0,0.04,0.18,0.88,0.38,0.0,0.0,0.15,0.0,0.42,0.0,0.98,1.65,0.0,0.02,0.19,0.0,1.01,0.16,0.01,0.27,0.03,1.35,0.06,0.02,0.0,0.06,0.0,0.08,0.02,0.01,0.0,0.05,0.0,0.0,0.43,0.12,0.0,0.0,0.0,0.02,0.26,0.12,0.0,0.0,0.0,0.0,0.17,0.01,0.0,0.01,0.04,0.12,0.0,0.0,0.0,0.01,0.0,0.03,0.01,0.19,0.1,0.0,0.0,0.02,0.04,0.0,0.27,0.84,0.01,29.02,0.01,0.0,0.0,0.0,0.07,0.02,0.0,0.19,0.0,0.1,0.4,0.0,0.0,0.01,0.0,0.0,0.12,0.0,0.03,0.0,0.67,0.0,0.03,0.07,0.0,0.02,0.0,0.19,0.01,0.0,0.04,0.11,0.85,0.0,0.0,0.0,0.27,0.0,0.05,0.0,0.05,0.93,0.2,0.0,0.02,0.02,0.0,0.05,0.18,0.0,0.0,0.02,0.04,0.0,0.0,0.16,0.6,0.0,0.03,0.0,0.35,0.0,0.24,0.46,0.01,0.02,0.08,0.03,0.0,0.0,0.01,0.06,0.0,0.0,0.0,0.37,0.0,0.1,0.34,0.1,0.52,0.0,0.28,0.0,0.04,0.03,0.05,0.19,0.0,1.13,0.7,0.0,0.23,0.1,0.01,0.03,0.0,0.02,0.0,0.0,0.1,0.02,0.2,0.0,0.0,0.01,0.01,0.33,0.0,0.41,2.3,0.06,0.0,0.35,0.02,0.02,0.0,1.86,0.06,0.02,0.02,0.03,0.0,0.04,0.03,0.01,0.01,0.14,0.1,0.37,0.4,0.13,0.09,0.0,0.0,0.04,0.03,0.66,0.01,0.02,0.01,0.13,0.06,0.0,0.01,0.05,0.0,0.0,0.22,0.01,0.17,0.0,0.13,0.07,0.09,0.28,0.03,0.11,0.0,0.06,0.06,0.04,0.28,0.09,0.0,0.16,0.0,0.05,0.1,0.46,0.0,0.29,0.17,0.05,0.0,0.01,0.05,0.16,0.03,0.02,0.0,0.01,0.0,0.0,0.67,0.4,0.03,0.0,0.0,0.64,0.0,0.04,0.0,0.09,0.09,0.0,0.0,0.0,0.14,0.05,0.22,0.0,0.18,0.09,0.0,0.0,0.02,0.23,0.13,0.08,0.08,0.03,0.13,1.26,0.04,0.0,0.16,0.0,0.1,0.0,0.0,0.01,0.0,0.0,0.5,0.01,0.07,0.04,0.67,0.04,0.01,0.01,0.0,1.99,0.24,0.01,0.33,0.0,0.13,0.04,0.02,0.1,0.0,0.09,0.0,0.0,0.08,0.01,0.07,0.05,0.0,0.16,0.01,0.07,0.01,1.57,0.03,0.0,0.0,0.19,0.21,3.52,0.03,0.0,0.0,0.0,0.06,0.0,0.02,0.02,0.0,0.0,0.29,0.04,0.03,0.35,0.0,0.38,2.56,0.0,0.12,0.01,0.48,0.01,0.02,0.0,0.0,0.0,0.02,0.21,0.0,0.02,0.0,0.04,0.01,0.09,0.03,0.18,0.06,0.0,0.0,0.01,0.0,0.07,0.16,0.06,0.21,0.08,0.0,0.65,0.02,0.37,0.0,0.0,0.0,0.0,0.05,0.0,0.03,0.11,0.0,0.03,0.22,0.0,0.0,0.1,0.06,0.0,1.28,0.17,0.0,2.83,0.0,0.0,0.05,0.23,0.11,0.0,0.15,0.0,0.0,0.13,0.02,0.0,0.07,0.0,0.01,0.21,0.0,0.12,0.02,0.08,0.22,0.0,0.01,0.04,0.32,0.04,0.02,0.0,0.01,0.01,0.01,0.0,0.24,0.0,0.0,0.01,0.01,0.02,0.0,0.0,0.05,0.17,0.0,0.16,0.0,0.04,0.0,0.07,0.0,0.64,0.01,0.31,0.01,0.04,0.87,0.01,0.56,0.0,0.05,0.05,0.0,0.35,0.0,1.5,0.02,0.02,0.17,0.33,0.03,0.0,0.14,0.0,0.34,0.01,0.0,0.0,0.13,0.1,1.47,0.06,0.07,0.0,0.98,0.03,0.0,0.0,0.58,0.01,0.0,0.0,0.05,0.07,0.0,0.03,0.0,0.0,0.09,0.02,0.0,0.05,0.11,0.0,1.08,1.66,0.01,0.22,0.06,0.0,0.64,0.53,0.0,0.62,0.34,0.09,0.16,0.18,0.04,0.03,0.0,0.0,0.0,0.0,0.41,0.07,0.0,0.39,0.05,0.0,0.0,0.12,0.21,0.03,0.1,0.01,0.03,0.08,0.28,0.06,0.0,0.18,0.05,0.36,0.0,0.02,0.12,0.06,0.01,0.09,0.03,0.12,0.22,0.04,0.02,0.16,0.0,0.04,0.05,0.09,0.01,0.01,0.22,0.01,0.08,0.17,0.0,0.23,0.01,0.06,0.02,0.1,0.02,0.39,0.15,0.12,0.0,0.0,0.03,0.02,0.0,0.0,0.0,0.0,0.05,0.0,0.24,0.0,0.01,0.0,0.04,0.27,0.05,0.0,0.02,0.05,0.15,0.02,0.01,0.02,0.06,0.0,0.0,0.14,0.0,0.0,0.0,0.03,0.44,0.0,0.02,0.1,0.13,0.17,0.04,0.0,0.08,0.0,0.59,0.0,0.0,0.51,0.01,0.0,0.05,0.5,0.0,0.08,0.0,0.25,0.29,0.0,0.0,0.13,0.02,0.0,0.06,0.03,0.05,0.04,0.02,0.4,0.09,0.01,0.0,0.0,0.0,0.0,0.09,0.27,0.15,0.0,0.0,0.07,0.0,0.0,0.0,5.81,0.14,0.02,0.0,0.0,0.0,0.0,0.07,0.0,0.24,0.4,0.07,0.02,0.14,0.0,0.13,0.05,0.0,0.05,0.04,0.46,0.02,0.0,0.01,0.0,0.07,0.0,0.01,0.02,0.27,0.45,0.3,0.03,0.01,0.01,0.55,0.06,0.0,0.0,0.16,0.01,0.03,0.0,0.02,0.07,0.0,0.05,0.0,0.0,0.03,0.01,0.03,0.04,0.23,0.26,0.0,0.09,0.0,0.53,0.01,0.03,0.04,0.44,0.03,0.02,0.0,0.05,0.0,0.0,0.01,0.04,0.07,0.04,0.0,0.0,0.02,0.13,0.14,0.02,0.0,0.15,0.05,0.18,0.0,0.12,0.21,0.16,0.06,0.01,0.32,0.04,0.0,0.03,0.0,0.0,0.0,0.03,0.0,0.1,0.0,0.11,0.04,0.0,0.17,0.0,0.02,0.26,0.04,0.0,0.02,0.0,0.06,0.0,0.09,0.0,0.02,0.16,0.1,0.03,0.01,0.0,0.0,0.01,0.3,0.07,0.0,0.01,0.01,0.0,0.58,0.15,0.01,0.09,0.0,0.46,0.02,0.01,0.01,0.08,0.02,0.0,0.02,0.0,0.0,0.0,0.06,0.01,0.48,0.58,0.0,0.02,0.1,0.34,0.0,0.0,0.0,0.0,0.01,0.02,0.16,0.01,0.01,0.0,0.0,0.01,0.01,0.21,0.16,0.04,0.28,0.03,0.0,0.89,0.05,0.35,0.0,0.25,0.0,0.0,0.0,0.12,0.0,0.53,0.13,1.05,0.0,0.0,0.11,0.02,0.0,0.12,0.0,0.0,0.0,0.0,0.0,0.0,0.02,0.0,0.0,0.01,0.0,0.0,0.0,0.0,0.0,0.0,0.0,0.0,0.0,0.11,0.11,0.47,0.0,0.0,0.02,0.0,0.03,0.0,0.04,0.0,0.0,0.0,0.2,0.05,0.0,0.09,0.05,0.02,0.0,0.0,0.0,0.02,0.04,0.03,0.15,0.0,0.0,0.04,0.26,0.0,0.0,0.0,0.0,0.01,0.03,0.64,0.01,0.01,0.0,0.05,0.0,0.01,0.39,0.29,0.0,0.03,0.0,0.31,0.01,0.0,0.03,0.02,0.01,0.04,0.34,0.0,0.06,0.01,0.41,0.24,0.03,0.07,0.17,0.01,0.02,1.85,0.11,1.16,0.52,0.0,0.01,0.0,0.16,0.0,0.0,0.02,0.65,0.02,0.15,0.09,0.07,0.02,0.04,0.62,0.0,0.0,0.04,0.01,0.02,0.0,0.06,0.0,0.17,0.0,1.35,0.06,0.0,0.06,0.07,0.04,0.61,0.01,0.24,0.06,0.05,0.0,0.0,0.0,1.9,0.02,0.0,0.38,0.02,0.01,0.03,0.01,0.13,0.04,0.0,0.17,0.13,0.11,0.06,0.08,0.0,0.0,0.03,0.02,0.02,0.0,0.02,0.71,0.0,0.0,0.0,0.0,0.0,0.06,0.0,0.0,0.04,0.51,0.02,0.0,0.0,0.02,0.07,0.0,0.06,0.02,0.44,0.07,0.19,0.0,0.01,0.0,0.0,0.03,0.04,0.01,0.09,0.06,0.0,0.13,0.17,0.59,0.0,0.22,0.0,0.01,0.01,0.01,0.31,0.0,0.03,0.0,0.0,0.17,0.53,0.02,0.01,0.0,0.0,0.0,0.62,0.0,0.01,1.01,0.0,0.02,0.0,0.0,0.02,0.09,0.0,0.02,0.0,0.0,0.22,0.01,0.0,0.0,0.01,0.0,0.03,0.05,0.1,0.19,1.05,0.0,0.0,0.0,0.05,0.02,0.02,0.01,0.03,0.02,0.0,0.08,0.08,0.0,0.02,0.0,0.0,0.06,0.31,0.02,0.0,5.49,0.07,1.94,0.0,0.07,0.1,1.68,2.61,0.0,0.0,0.07,0.18,0.0,0.57,0.1,0.0,0.05,0.01,0.19,0.0,0.11,0.0,0.36,0.0,0.08,0.25,0.22,0.0,0.01,0.05,0.49,0.03,0.2,0.0,0.22,0.0,0.24,0.0,0.01,0.0,0.0,0.02,0.0,0.1,0.0,0.01,0.03,0.0,0.03,0.0,0.14,0.08,0.0,0.01,0.0,0.0,0.0,0.0,0.0,0.0,0.0,0.34,0.0,0.01,0.0,0.0,0.09,0.0,0.01,0.11,0.0,0.25,0.05,0.46,0.0,0.05,0.12,0.12,0.0,0.37,0.99,0.01,0.03,0.01,0.0,0.01,0.0,0.02,0.0,0.01,0.01,0.0,0.05,0.0,0.02,1.43,0.0,0.08,0.22,0.0,0.07,0.07,0.04,0.0,0.09,0.0,0.04,0.09,0.42,0.31,0.0,0.07,0.0,0.0,0.1,0.01,0.04,0.0,0.04,0.15,0.03,1.08,0.0,0.27,0.11,0.02,0.13,0.0,0.01,0.04,0.0,0.02,0.0,0.0,0.19,0.02,0.0,0.04,0.05,0.16,0.01,0.0,0.0,0.07,0.04,0.01,0.07,0.0,0.11,0.0,0.0,0.02,8.59,0.02,0.14,0.0,0.33,0.99,0.03,0.03,0.23,0.0,0.0,0.0,0.03,0.71,0.02,0.0,0.0,0.01,1.12,0.12,0.0,0.01,0.0,0.01,0.0,2.01,0.03,0.02,0.0,0.01,0.14,0.01,0.02,0.17,0.0,0.03,0.0,0.0,0.02,0.0,0.01,0.45,0.04,0.0,0.01,0.0,0.0,0.0,0.49,0.0,0.0,0.16,0.0,0.43,0.01,0.02,0.0,0.0,0.07,0.05,0.03,0.0,0.01,0.0,0.12,0.0,0.02,1.47,0.01,0.0,0.09,0.14,0.04,0.0,0.0,0.03,0.2,0.97,0.0,0.47,0.03,0.08,0.0,0.0,0.06,0.0,0.08,0.89,0.56,0.02,0.12,0.03,0.0,0.08,0.5,0.46,0.45,0.0,1.83,0.04,0.0,0.01,0.02,0.05,0.23,0.0,0.13,0.03,0.09,0.02,0.0,0.28,0.01,0.01,0.64,0.01,0.0,0.05,0.01,0.0,0.02,0.09,0.01,0.02,0.32,0.0,0.02,0.32,0.23,0.01,0.02,0.1,0.03,0.09,2.25,0.02,0.07,0.22,0.0,0.05,0.02,0.0,0.18,0.16,4.52,0.01,0.02,0.02,0.0,0.0,0.24,0.07,0.02,0.57,0.0,0.26,0.1,0.0,0.02,0.0,0.0,0.0,0.05,0.0,0.21,0.15,0.19,0.06,0.18,0.1,0.02,0.24,0.85,0.0,0.07,0.0,0.15,0.0,0.0,0.02,0.09,0.0,0.25,0.0,0.13,0.01,0.06,0.0,0.0,0.03,0.07,0.38,0.0,0.0,0.0,0.05,0.11,3.53,0.14,0.43,0.06,0.0,0.0,0.02,0.01,2.79,0.35,0.0,0.06,0.03,0.0,0.29,0.0,0.88,0.58,0.0,0.17,0.09,0.0,0.0,0.0,0.23,0.07,0.01,0.0,0.0,0.71,0.0,0.03,0.03,0.0,0.0,0.02,0.02,0.0,1.12,0.03,0.33,0.32,0.0,0.16,0.05,0.15,0.0,0.0,0.07,0.0,0.36,0.14,0.03,0.4,0.04,0.41,0.06,0.0,0.04,0.0,0.68,0.71,0.68,0.15,1.51,0.0,0.01,0.0,0.12,0.07,0.0,0.07,0.42,0.0,0.03,0.34,0.11,0.0,0.12,0.9,0.0,0.21,0.07,0.14,0.0,0.08,0.03,0.0,0.0,0.02,0.13,0.0,0.01,0.01,0.1,0.0,1.06,0.0,1.37,0.0,0.04,0.0,0.01,0.0,0.03,0.01,0.07,0.0,1.55,0.0,0.03,0.0,2.07,0.0,0.01,0.49,0.02,0.0,0.22,0.0,0.01,0.19,0.2,0.08,0.01,0.0,0.29,0.2,0.02,0.0,0.0,0.0,0.02,0.02,0.17,0.0,0.14,0.0,0.0,0.0,0.04,0.0,0.0,0.0,0.05,0.59,0.08,0.02,0.0,0.16,0.06,0.33,0.0,0.49,0.34,0.03,1.13,0.05,0.02,0.0,0.0,0.19,0.0,0.0,0.03,0.4,0.04,0.01,0.12,0.01,0.1,0.4,0.0,0.0,0.13,0.0,0.21,0.03,0.0,0.05,0.0,0.0,0.1,0.18,0.03,0.01,0.0,0.07,0.01,0.02,0.17,0.0,0.0,0.0,0.01,0.15,0.02,0.08,0.0,0.26,0.0,0.03,1.47,0.08,0.0,0.0,0.1,0.01,0.0,0.0,0.0,0.1,0.0,0.04,0.0,0.36,0.02,7.57,0.01,0.0,0.09,0.0,0.03,0.03,0.04,0.05,0.03,0.11,0.06,0.03,0.0,0.13,0.0,0.15,0.45,0.1,0.02,0.14,0.01,0.01,0.09,0.07,0.12,0.0,0.0,0.17,0.01,0.0,0.02,0.0,0.0,0.01,0.0,0.0,0.0,0.26,0.71,0.0,0.07,0.2,0.0,0.47,0.09,0.02,0.02,0.97,0.18,0.0,0.04,0.16,0.0,0.0,0.0,0.01,0.0,1.14,0.0,0.19,0.04,0.03,0.08,0.02,0.58,0.03,0.0,0.2,0.0,0.0,0.03,0.0,0.3,2.19,0.13,0.35,0.0,0.15,0.0,0.0,0.03,0.0,0.0,0.01,0.26,0.05,0.89,0.02,0.16,0.02,0.3,0.04,0.0,0.01,0.12,0.12,0.0,0.3,0.0,0.0,0.07,0.0,0.17,0.0,0.0,0.0,0.01,0.0,0.03,0.0,0.0,0.05,0.06,0.0,0.0,0.0,0.03,0.06,1.62,0.04,0.03,0.24,0.01,1.41,0.0,0.0,1.04,0.01,0.17,0.0,0.0,0.0,0.0,0.01,0.0,0.0,0.01,0.53,0.02,0.06,0.0,0.2,0.04,0.0,0.0,0.01,0.01,0.0,0.0,0.0,0.27,0.04,0.11,0.0,0.06,0.0,0.03,0.15,0.16,0.0,0.02,0.07,0.17,0.04,0.07,0.06,0.0,0.28,0.0,0.5,0.06,0.0,0.02,0.32,0.48,0.02,0.54,0.02,0.02,0.01,0.01,0.0,0.02,0.05,0.27,0.0,0.01,0.26,0.11,0.0,0.01,0.0,0.0,0.02,0.11,0.0,0.03,0.0,0.0,0.0,0.01,0.04,0.03,0.5,0.02,0.0,0.18,0.03,0.15,0.01,0.01,0.15,0.03,0.0,0.17,0.0,0.04,0.0,0.04,0.15,0.0,0.44,0.08,0.44,0.01,0.0,0.03,0.25,0.0,0.02,0.0,0.0,1.17,0.2,0.0,0.05,0.12,3.11,0.03,0.0,0.0,1.77,0.0,0.1,0.0,0.19,0.0,0.02,1.78,0.11,0.0,0.0,0.09,0.0,0.0,0.0,0.05,0.0,0.0,0.0,0.02,0.04,0.0,0.0,0.0,0.09,1.06,0.0,0.02,0.0,0.04,0.19,0.03,0.16,0.03,0.03,0.02,0.0,0.07,0.04,0.03,0.23,0.05,0.02,0.13,0.0,0.0,0.0,0.0,0.04,0.0,0.18,0.0,0.02,0.04,0.52,0.23,0.0,0.13,0.04,0.02,0.02,0.8,0.22,0.05,0.83,0.0,0.01,0.0,0.12,0.08,0.17,0.0,0.04,0.47,0.05,0.72,0.08,0.27,0.17,0.28,0.11,0.0,0.02,0.0,0.0,0.04,0.0,0.5,0.0,0.0,0.16,0.0,0.43,0.0,0.32,0.0,0.36,0.0,0.03,0.0,0.17,0.19,1.14,0.01,0.36,0.0,0.0,0.47,0.55,0.07,0.0,0.06,0.11,0.01,0.08,0.2,0.84,0.0,0.08,0.02,0.0,0.17,0.0,0.04,0.01,0.21,0.17,0.66,0.04,0.02,0.03,0.05,0.02,0.0,2.04,0.13,0.02,0.19,0.02,0.09,0.1,0.8,0.01,0.01,0.05,0.05,0.0,0.0,0.08,0.5,0.0,0.02,0.0,0.0,0.02,0.0,0.08,0.54,0.0,0.0,1.54,0.0,0.01,0.06,0.14,0.0,0.0,0.0,0.02,0.07,0.0,0.0,0.02,0.13,0.03,0.02,0.01,0.02,0.04,0.0,0.02,0.0,0.05,0.0,0.0,0.0,0.05,0.04,0.0,1.69,0.0,0.06,0.0,0.0,0.47,0.08,0.45,0.01,0.0,0.0,0.57,0.04,0.03,0.02,0.0,2.11,0.0,0.02,0.44,0.48,0.1,0.0,0.0,0.2,0.04,0.03,0.1,0.16,0.03,0.0,0.02,0.0,0.0,0.02,0.0,0.01,0.0,0.04,0.01,0.11,0.0,0.46,0.04,0.04,0.08,0.0,0.18,0.17,0.01,0.01,0.13,0.0,0.0,0.0,0.04,0.04,0.26,1.98,0.03,0.0,0.0,0.0,0.07,0.01,0.07,0.02,0.01,0.1,0.13,0.34,0.0,0.07,0.04,0.0,0.0,0.0,0.0,0.0,0.0,0.04,0.01,0.02,0.07,0.16,0.04,0.46,0.0,0.04,0.0,0.0,0.01,0.0,0.0,0.01,0.04,0.0,0.0,0.09,0.0,0.39,0.0,0.15,0.2,0.0,0.03,0.01,0.0,0.27,0.01,0.03,0.3,0.07,0.03,0.39,0.65,0.06,0.06,0.01,0.21,0.0,0.31,0.0,1.4,0.02,0.21,0.0,0.05,0.03,0.06,0.0,0.0,0.02,0.02,0.27,0.3,0.0,0.0,0.1,0.04,0.01,0.0,1.98,0.0,0.1,0.02,0.35,0.52,0.0,0.04,0.17,0.09,0.5,0.31,0.43,0.04,0.15,0.16,0.19,0.0,0.01,0.04,0.73,0.22,0.22,0.02,0.0,0.0,0.04,0.52,1.05,0.57,0.05,4.32,0.01,0.24,0.02,0.03,0.0,0.0,0.0,0.0,0.33,0.0,0.0,0.14,0.4,0.11,0.01,0.0,0.0,0.4,0.0,0.0,0.0,0.54,0.0,0.12,0.09,0.05,0.13,0.0,0.06,0.01,0.0,0.03,0.0,0.01,0.02,0.53,0.0,0.12,0.0,0.0,0.05,0.03,0.01,0.16,0.0,0.58,0.02,0.02,0.01,0.0,0.74,0.0,0.02,0.11,1.94,0.07,1.08,0.07,0.15,0.02,0.0,0.0,0.0,0.02,0.07,0.22,0.02,0.01,0.01,0.02,0.04,0.09,0.63,0.03,0.0,0.11,0.81,0.01,0.0,0.0,0.06,0.02,0.02,0.05,0.0,0.13,0.0,0.01,0.0,0.01,0.02,0.17,0.0,0.18,0.0,0.03,0.08,0.02,0.0,0.01,0.01,0.0,0.14,1.68,0.0,0.18,0.73,0.0,0.52,0.02,0.04,0.0,0.06,0.02,0.0,0.0,0.0,0.04,0.02,0.0,0.01,0.0,0.08,0.0,0.0,0.0,0.0,0.03,0.0,0.01,0.0,0.07,0.15,0.0,0.0,0.07,0.02,0.26,0.48,0.04,0.0,0.06,0.05,0.0,0.04,0.0,0.01,0.01,0.15,0.03,0.02,0.06,0.07,0.0,0.0,5.04,0.0,0.01,0.0,0.01,0.02,0.0,0.0,0.0,0.04,0.01,0.0,0.03,0.4,0.02,0.32,0.03,0.0,0.47,0.02,0.02,0.0,0.05,0.0,0.0,0.01,0.02,0.0,3.73,0.75,0.0,0.2,0.96,0.02,0.0,0.14,0.0,0.11,0.0,0.0,0.01,0.06,0.0,0.02,0.0,0.04,0.02,0.38,0.01,0.0,0.0,0.0,0.0,0.0,0.04,0.1,0.59,0.0,0.01,0.01,0.5,0.0,0.05,0.22,0.0,0.01,1.19,0.0,0.03,0.04,0.06,0.01,0.0,0.07,0.15,0.06,0.0,0.01,0.02,0.0,0.0,0.09,0.0,0.02,0.13,0.0,0.01,0.35,0.0,0.0,0.0,0.15,0.06,0.0,0.02,0.0,0.0,0.0,0.04,0.0,0.08,0.33,0.0,0.0,0.09,0.0,0.0,0.03,0.0,0.24,0.0,0.0,0.14,0.26,0.4,0.08,0.19,0.0,0.0,0.0,0.03,0.01,0.16,0.03,0.0,0.0,0.22,0.02,0.0,0.09,0.0,0.35,0.02,0.01,0.04,0.04,0.0,0.05,0.0,0.0,0.18,0.01,0.03,0.47,0.61,0.09,0.0,0.03,0.16,0.01,1.13,0.12,0.22,1.18,0.02,0.38,0.03,0.0,0.0,0.05,0.03,0.0,0.0,0.03,0.29,0.04,0.0,0.01,0.45,0.02,0.0,0.2,0.0,0.04,0.02,0.01,0.11,0.0,0.05,0.03,0.0,0.03,0.15,0.0,0.04,0.06,0.17,0.39,0.03,0.03,0.05,1.91,0.02,0.17,0.77,0.02,0.05,0.07,0.0,0.07,0.02,0.0,0.03,0.0,0.04,0.0,0.0,0.26,0.06,0.04,1.07,0.0,0.02,0.0,0.04,0.0,0.4,0.03,0.03,0.01,0.03,0.05,0.05,0.0,0.0,0.0,0.02,0.01,0.0,0.0,0.0,0.0,0.41,1.3],\"xaxis\":\"x\",\"y\":[0.02,0.02,0.02,0.2,1.85,0.07,0.02,0.11,0.4,0.42,0.57,0.4,3.12,0.02,0.15,0.53,0.53,0.11,0.21,0.3,0.07,0.8,0.12,0.14,0.71,0.47,0.03,1.95,0.11,0.34,0.02,0.07,0.04,1.28,0.2,0.01,0.27,0.14,0.56,0.08,0.13,0.01,0.04,0.13,0.24,0.52,0.92,0.2,0.62,0.11,0.3,0.03,0.59,0.03,0.06,5.65,0.12,0.17,0.04,0.11,0.05,0.97,0.06,0.72,0.46,0.17,0.68,0.03,0.07,0.14,0.07,0.08,0.4,0.28,0.4,0.04,0.22,0.38,0.44,0.06,1.57,0.13,0.73,0.6,0.02,0.03,0.59,0.37,4.12,0.08,0.03,0.22,0.13,0.1,0.3,1.09,0.15,1.93,0.41,0.99,0.14,0.06,0.06,0.16,0.05,0.04,0.01,0.01,0.02,0.77,0.02,0.2,0.1,1.93,1.2,1.12,0.35,0.12,0.17,0.49,0.76,2.94,0.62,0.26,0.51,0.61,0.38,0.05,0.03,0.07,0.72,0.11,1.76,0.54,0.27,0.91,0.16,1.55,0.04,0.24,0.16,0.13,0.01,0.92,0.77,0.04,0.02,0.01,3.65,0.23,0.03,0.05,0.1,0.18,0.04,0.02,0.03,0.88,0.05,0.19,0.6,0.27,0.02,0.11,0.13,0.07,0.15,0.13,0.02,1.05,0.02,0.06,0.15,0.04,0.44,0.13,0.03,0.02,1.77,1.2,0.29,0.1,0.02,3.2,0.28,1.28,0.72,0.19,0.02,0.07,0.06,0.11,0.17,0.09,0.08,0.54,1.55,0.02,0.28,0.23,0.01,2.02,0.57,1.29,0.31,0.02,0.15,1.42,0.25,0.06,0.18,1.23,1.22,0.38,0.12,0.28,0.26,0.16,0.14,0.11,0.34,0.73,0.15,0.58,0.22,0.87,0.12,1.64,0.55,0.06,0.02,0.19,0.03,0.61,0.14,0.11,0.13,0.16,0.09,0.14,0.44,1.43,0.41,2.7,0.02,0.04,0.18,1.57,0.22,4.48,0.09,0.04,0.1,0.03,1.67,2.11,4.31,0.13,0.09,0.02,0.31,0.3,0.05,0.01,0.28,0.42,0.02,1.96,0.02,0.03,0.71,0.07,0.52,0.03,0.02,0.63,0.04,0.05,0.19,1.93,0.48,0.38,0.05,0.08,0.08,1.09,0.16,0.14,0.47,0.08,0.81,0.13,0.03,0.03,0.06,0.08,0.03,0.19,0.18,0.46,0.33,0.4,0.64,0.11,1.38,0.42,2.9,0.11,0.45,0.15,0.15,0.21,0.03,1.82,0.79,4.47,0.22,0.17,0.02,0.12,0.02,0.16,0.63,0.76,0.02,0.29,0.18,0.9,0.09,0.02,0.07,0.82,0.93,0.64,0.21,0.02,0.98,0.03,0.62,0.36,0.24,0.09,1.48,0.77,1.52,0.33,0.27,0.19,0.4,0.1,0.13,0.55,0.19,0.27,0.8,0.06,0.02,0.24,0.03,3.19,0.17,0.38,0.46,0.09,0.52,0.58,0.24,0.04,0.02,0.01,1.19,0.16,0.19,0.49,0.09,0.08,8.24,0.15,0.1,0.18,0.28,1.76,0.35,0.22,0.09,0.24,0.54,1.16,0.37,0.23,0.78,0.09,0.11,0.02,0.04,0.2,0.18,1.15,0.24,0.21,0.15,1.94,1.05,3.53,0.02,0.21,0.75,0.02,0.67,0.06,0.03,4.47,0.05,0.1,0.91,0.59,0.24,0.16,0.12,0.03,0.06,0.17,0.33,0.1,0.54,1.67,0.12,0.04,0.02,0.38,0.02,0.32,0.06,0.01,0.06,0.4,0.13,0.85,0.03,0.04,40.24,0.05,0.26,0.02,0.02,0.05,0.42,0.26,0.06,0.08,0.16,0.56,0.35,0.03,1.28,0.02,0.02,0.14,2.71,0.07,0.15,0.03,0.18,0.76,1.07,0.06,0.69,0.13,0.22,0.07,1.9,0.02,0.02,0.22,0.27,0.05,0.56,0.2,0.65,0.11,0.04,0.05,1.41,0.79,0.06,0.79,0.71,0.62,3.42,0.26,0.01,0.02,0.02,1.62,0.36,0.96,0.02,0.17,0.02,0.02,0.06,0.35,0.3,0.3,0.05,0.08,0.37,0.02,0.1,0.51,2.3,0.11,1.47,0.1,0.01,0.34,0.01,0.24,0.24,0.17,0.24,0.1,0.62,0.01,6.43,0.05,0.29,0.23,0.1,0.01,0.22,2.91,0.02,0.69,0.84,0.56,0.29,0.03,0.41,0.97,0.09,0.17,0.98,8.49,0.36,0.04,0.14,0.64,0.24,0.07,0.08,0.01,0.18,0.05,0.04,0.48,0.2,0.02,0.31,0.02,1.52,0.12,0.02,2.98,0.22,0.31,0.03,0.1,0.29,0.11,0.6,0.22,0.18,0.29,0.07,0.86,0.05,4.16,0.07,1.07,0.01,0.17,0.16,0.61,1.17,0.04,0.02,0.03,0.24,0.09,0.01,0.44,1.67,0.52,0.09,0.14,1.21,0.17,0.1,0.07,0.09,0.07,0.01,0.19,0.56,0.09,0.24,0.18,0.09,0.58,0.31,0.1,0.06,0.15,1.37,0.04,0.43,0.21,0.12,0.39,0.67,0.01,0.92,0.48,0.08,0.88,0.14,0.15,1.41,0.03,1.65,0.02,0.27,5.13,0.07,0.02,1.19,0.02,1.26,0.19,0.21,0.02,0.54,3.0,0.08,0.24,0.13,0.08,0.07,0.2,0.01,0.03,0.04,0.07,0.08,0.02,0.03,0.96,0.11,0.32,1.2,5.19,0.48,0.12,0.77,1.36,0.02,0.21,0.03,0.09,0.04,0.28,1.04,0.12,5.99,0.12,0.64,0.56,0.15,0.03,3.52,0.13,1.74,0.41,0.03,0.16,1.77,0.23,0.55,1.61,0.08,0.39,0.23,2.04,0.02,0.05,1.31,0.06,0.05,0.13,0.31,0.01,0.17,4.55,0.01,0.24,0.25,2.2,0.02,0.03,0.05,0.01,0.05,2.29,0.61,0.07,0.14,0.02,3.17,0.41,0.02,0.09,0.36,1.69,1.61,0.64,0.04,2.06,0.36,0.02,1.75,0.68,0.14,0.03,0.62,0.14,0.03,0.05,0.09,0.05,0.14,0.81,1.25,0.13,1.96,0.44,0.02,0.05,0.08,1.8,0.09,0.09,0.03,0.14,0.16,0.25,0.08,7.58,0.94,0.15,0.1,0.06,0.3,0.39,0.48,0.11,0.02,0.38,0.02,0.14,0.05,0.31,0.62,0.27,0.07,0.79,0.09,0.08,0.21,0.08,0.01,0.15,0.07,0.28,0.03,0.75,1.14,0.33,0.24,1.52,0.04,0.02,0.01,5.26,0.68,0.02,0.32,0.21,1.39,0.08,0.03,0.02,0.63,0.07,0.11,0.7,0.66,0.15,0.27,1.67,1.07,0.08,0.03,0.09,0.03,0.2,0.28,0.02,0.27,0.08,0.12,0.19,0.03,0.49,0.13,0.03,0.01,0.37,0.15,0.03,0.03,0.1,0.14,0.63,0.02,0.16,0.23,0.08,0.95,0.02,0.23,0.04,1.86,0.01,0.4,0.32,1.35,0.13,0.02,0.25,1.28,0.05,1.35,0.08,0.11,0.03,0.23,0.32,13.51,0.26,0.71,0.53,0.65,0.32,0.33,0.12,0.04,1.2,0.09,0.21,0.02,0.22,0.02,0.05,0.06,0.23,0.08,0.03,0.77,0.02,0.06,0.02,0.22,0.51,0.05,0.15,0.03,0.01,0.12,0.57,0.05,1.64,0.23,0.79,0.14,0.24,0.05,2.06,0.29,0.62,0.12,0.05,0.16,0.22,6.83,0.02,0.42,0.1,0.07,0.03,0.08,0.1,0.09,0.53,0.54,0.31,0.83,0.38,0.91,0.01,0.12,0.01,0.3,0.05,2.19,5.83,0.1,0.02,0.07,0.07,0.34,0.49,0.31,0.05,0.02,0.05,0.02,0.12,0.15,0.14,0.05,1.01,0.26,0.05,0.28,0.04,0.03,0.02,0.79,0.44,0.52,0.52,0.14,0.19,0.21,0.06,0.4,2.81,0.07,0.14,0.02,0.13,0.19,0.12,0.02,0.05,0.02,0.01,0.13,0.06,1.73,0.01,0.04,0.05,0.5,0.11,0.07,0.03,0.02,0.37,1.31,5.34,0.02,0.01,0.23,0.91,0.11,0.52,0.12,0.02,0.27,0.02,0.12,0.01,0.15,0.54,0.07,0.06,0.06,0.29,0.07,0.02,0.3,0.58,0.98,0.11,0.22,1.04,2.06,0.07,0.23,0.59,0.1,0.53,0.32,0.07,0.12,0.15,0.02,0.07,0.67,0.01,0.08,0.31,0.49,0.03,0.57,0.22,0.45,0.13,0.07,0.19,0.43,0.3,0.06,0.66,0.8,0.06,0.06,0.55,0.2,0.19,0.02,0.16,0.12,0.15,0.06,0.08,0.87,0.95,0.15,0.03,0.02,0.01,0.16,0.03,0.36,0.03,0.11,0.36,0.09,0.03,0.03,0.59,0.82,1.54,0.12,0.04,0.46,0.06,0.08,0.06,4.2,0.23,0.15,0.51,4.84,0.16,0.19,0.08,0.08,0.24,0.2,0.08,0.22,0.09,2.34,0.06,0.03,0.5,0.19,0.02,0.15,0.88,0.03,0.83,0.7,0.05,0.01,0.18,0.14,0.17,0.08,0.22,4.1,1.64,0.19,0.31,5.13,0.18,0.14,0.05,0.04,0.27,0.09,0.02,0.05,0.02,0.01,0.02,0.19,0.42,0.22,0.02,3.69,2.75,1.05,0.14,3.27,0.12,0.23,0.02,0.21,0.01,1.76,0.48,0.23,0.14,0.95,0.41,1.4,1.11,0.02,0.1,1.02,0.13,0.35,1.06,0.53,0.13,0.3,0.1,0.39,0.37,0.11,0.13,0.17,0.7,0.05,0.99,0.78,0.02,0.21,0.04,0.33,0.42,0.41,0.07,0.03,0.03,0.44,0.02,0.11,0.06,0.41,0.04,0.15,1.15,0.28,0.03,0.33,0.2,0.77,0.32,0.6,0.16,0.88,0.06,0.37,1.16,0.15,0.17,0.31,2.36,0.1,1.28,1.1,0.42,0.03,0.14,0.04,0.38,0.02,0.07,0.14,1.19,0.18,0.13,0.54,0.3,1.0,0.04,0.08,0.1,0.02,0.05,0.13,2.83,0.2,0.04,0.19,2.86,0.17,0.03,0.03,0.02,0.46,0.18,0.21,0.42,0.05,0.05,0.09,0.16,0.08,0.08,0.03,0.21,0.76,0.81,0.14,0.03,0.21,0.02,0.18,0.06,1.08,0.19,0.39,11.33,0.31,1.92,0.12,0.82,0.5,0.03,0.15,0.03,0.21,0.42,0.34,1.23,0.25,0.64,0.38,0.15,1.75,0.03,0.19,0.18,0.04,1.63,0.11,0.49,0.26,0.02,0.31,0.3,0.04,0.24,0.12,0.22,1.46,0.09,0.11,0.02,0.1,0.31,0.07,0.06,0.26,0.55,3.63,0.04,0.44,0.05,0.24,0.08,0.89,0.59,0.04,0.18,0.09,0.04,0.11,0.15,0.03,0.26,0.12,0.44,0.03,0.18,0.27,0.06,0.3,6.41,1.37,0.13,0.03,0.25,0.05,0.14,0.88,0.12,0.09,0.07,0.01,0.49,0.26,0.22,4.31,0.09,0.02,0.02,0.07,0.21,1.12,0.13,0.1,0.34,0.25,0.18,0.02,0.04,0.02,0.14,0.17,0.02,0.56,0.74,0.13,0.06,0.15,0.19,0.02,1.2,0.05,0.2,0.11,0.89,0.25,0.01,1.36,0.25,0.07,0.03,1.51,0.78,0.01,0.35,0.13,5.15,0.17,0.49,0.03,0.23,0.06,0.13,0.22,0.19,0.21,0.38,0.3,0.09,0.13,0.14,0.08,0.02,0.02,0.34,0.04,0.57,0.05,0.24,0.51,0.17,0.03,0.44,0.04,0.19,0.3,0.15,0.17,0.11,0.05,0.94,1.08,0.01,0.01,1.04,1.1,0.1,0.45,0.36,0.09,0.9,0.15,0.21,0.41,0.36,0.03,0.06,0.67,0.03,0.02,6.9,0.33,0.25,0.36,0.24,0.4,0.12,0.33,0.12,0.07,0.14,0.3,0.02,0.24,0.05,0.11,1.11,0.02,0.31,0.05,2.67,0.25,0.1,0.01,0.08,3.22,0.31,1.31,0.62,0.2,0.28,0.03,0.13,0.08,4.9,0.02,0.1,0.14,0.17,0.01,0.06,0.22,0.59,0.33,0.05,0.03,0.03,0.22,0.01,1.25,0.58,0.65,0.05,1.12,0.04,0.08,0.22,0.94,0.02,0.16,0.23,0.41,0.31,0.54,0.11,0.05,0.02,0.12,0.09,0.19,0.24,0.06,0.24,0.46,0.21,0.55,0.16,0.36,0.07,0.16,0.02,0.01,1.44,0.4,0.2,0.03,7.27,1.0,0.47,0.02,0.01,0.1,0.01,0.08,0.15,0.17,0.02,0.09,1.7,0.04,0.02,0.26,0.05,0.31,2.58,0.61,0.02,0.2,0.13,0.09,0.22,0.08,0.15,0.01,0.2,0.17,0.5,0.09,0.03,0.29,0.1,0.06,0.1,0.47,0.05,0.15,2.37,0.67,0.25,0.06,0.17,0.27,0.4,0.48,0.13,2.62,0.06,0.03,0.89,1.0,0.08,0.11,0.01,0.15,2.36,3.92,0.06,0.82,2.77,0.11,0.05,0.04,0.16,0.01,2.1,0.03,0.62,0.14,0.04,0.19,0.01,0.03,0.05,0.5,0.14,0.67,0.05,0.93,0.39,0.4,0.75,0.29,0.17,0.17,0.42,0.5,0.48,0.02,0.97,0.33,0.04,0.19,0.02,0.03,0.85,0.38,0.09,0.18,0.27,1.19,0.43,0.25,0.1,0.9,0.01,0.12,0.08,1.54,0.42,0.83,0.04,0.14,0.02,0.02,0.26,0.8,0.09,0.19,0.01,0.21,0.06,0.01,0.4,0.39,1.17,0.02,0.11,0.03,0.59,0.33,3.18,0.08,0.63,0.33,0.34,0.3,0.87,0.27,0.23,0.51,1.24,0.03,0.45,0.09,0.51,0.22,0.09,0.03,0.09,0.55,0.04,0.05,0.81,0.28,1.55,0.29,0.04,0.14,0.29,0.17,0.07,0.25,0.01,0.28,0.03,0.24,0.19,0.96,1.58,0.46,35.82,0.22,0.42,1.16,0.93,0.36,1.51,0.02,0.17,0.21,1.02,0.21,0.07,0.51,0.5,0.08,0.04,0.09,0.49,0.24,0.02,0.07,0.24,0.22,0.1,0.35,0.03,0.2,0.05,0.04,0.09,0.04,0.27,0.2,0.19,0.04,0.79,0.12,0.01,0.01,0.02,8.49,0.05,0.4,1.01,0.98,0.26,0.36,0.21,0.15,11.66,1.21,0.01,1.19,0.16,0.16,0.06,0.05,0.04,0.28,0.56,0.09,0.05,0.01,0.02,0.14,0.08,0.04,0.02,0.3,33.0,0.02,0.03,0.06,0.02,0.04,0.31,1.21,0.2,0.01,0.58,0.51,0.02,0.04,0.47,1.83,1.34,0.03,0.01,0.37,0.06,0.02,1.54,0.03,0.03,0.41,0.13,12.73,0.4,0.02,0.03,0.07,0.11,0.23,1.63,0.52,0.03,0.59,0.04,0.06,0.1,0.08,0.27,0.12,0.26,0.05,0.46,0.23,10.79,0.03,0.59,0.12,0.14,0.15,0.1,0.03,0.13,0.02,0.78,0.22,0.07,0.18,0.21,0.22,0.14,0.39,0.63,0.21,0.01,0.03,0.18,2.63,0.33,0.03,0.12,0.24,0.09,0.08,1.68,0.09,0.03,0.18,1.35,0.06,0.16,0.05,0.11,0.23,0.61,0.18,0.11,0.3,0.05,0.12,0.15,0.13,0.27,0.23,0.04,0.34,0.01,0.04,0.85,0.07,1.64,0.04,0.92,0.08,0.62,0.01,0.03,0.01,0.12,0.06,0.45,2.16,0.17,0.09,0.04,0.18,0.08,0.03,1.04,0.07,0.03,0.03,0.02,0.21,0.33,0.11,1.33,0.11,0.85,0.05,0.08,0.08,0.11,0.21,0.14,1.5,0.9,0.83,0.08,0.68,0.08,0.02,0.07,5.72,0.28,0.09,0.71,0.02,0.46,0.4,0.38,1.51,0.06,0.05,0.02,0.57,0.03,0.16,0.99,0.17,0.27,0.3,0.1,0.43,0.08,0.16,0.39,0.17,0.13,0.02,2.81,0.09,0.04,0.03,1.08,0.31,0.41,0.41,0.84,0.03,0.13,0.19,0.04,0.1,0.06,0.09,1.15,0.57,0.07,0.94,0.27,0.12,0.07,0.31,0.7,0.92,0.11,0.07,0.41,0.35,0.03,0.02,12.14,0.06,0.45,0.04,0.1,1.31,0.57,0.01,0.88,1.7,0.17,0.58,0.16,0.02,0.1,0.49,1.65,0.48,0.26,1.45,0.02,0.16,0.05,0.23,0.32,0.12,0.01,0.03,0.03,0.01,0.55,0.11,0.08,0.25,3.15,0.06,0.01,0.17,0.07,0.11,0.59,1.06,0.08,0.1,0.01,1.08,0.03,0.97,0.15,0.35,4.68,0.04,0.44,0.08,4.25,2.1,0.47,0.02,0.31,0.18,0.64,0.03,0.19,0.03,1.08,0.03,0.09,1.61,1.61,0.58,0.05,1.75,0.03,0.05,0.1,0.11,0.02,0.04,2.87,0.05,1.28,0.14,3.44,0.28,6.67,0.02,0.04,0.13,0.05,0.05,0.07,0.47,0.63,0.02,0.15,0.02,0.05,0.02,0.39,0.13,0.31,0.49,0.56,0.02,2.38,0.11,0.05,0.07,0.29,0.2,0.65,0.04,0.46,0.15,13.73,0.98,0.19,0.11,0.57,0.02,0.04,0.26,0.17,2.39,0.02,0.21,1.59,0.52,0.03,0.07,0.26,0.57,0.08,0.17,0.27,0.01,0.29,0.01,0.23,0.39,0.09,0.27,0.14,0.72,3.34,0.16,0.62,0.52,0.16,0.05,0.19,0.13,0.22,0.9,0.06,0.13,0.39,0.07,0.19,0.22,0.33,0.17,0.05,0.06,0.06,0.18,0.15,0.92,0.1,0.21,0.39,0.95,0.2,0.06,0.11,0.13,0.31,0.05,0.03,0.13,1.22,0.33,4.24,0.11,0.02,0.05,0.09,0.42,0.55,0.07,1.23,1.81,0.07,0.29,0.07,1.13,0.1,0.05,0.39,0.16,1.21,1.14,3.62,0.05,0.2,0.09,0.07,0.06,0.04,0.74,2.03,0.19,0.34,0.06,0.02,3.09,0.19,0.04,0.12,0.09,0.1,1.41,0.72,0.04,0.04,0.73,0.82,0.05,0.28,0.07,0.1,0.05,0.08,0.16,2.25,0.24,0.13,1.48,0.91,0.45,0.06,0.02,0.05,1.43,0.02,0.14,0.14,1.16,0.88,0.27,0.32,0.02,0.05,0.04,0.15,0.05,0.15,0.15,0.13,1.54,1.86,0.04,0.42,0.73,0.01,0.03,0.35,1.39,0.04,4.21,0.6,0.65,0.04,0.03,0.1,0.09,0.17,0.02,0.53,0.05,0.44,0.4,0.18,0.18,0.31,1.95,0.03,0.06,1.0,0.09,0.02,0.03,0.88,0.67,0.29,0.08,0.18,1.7,0.02,0.04,0.03,0.02,0.08,0.96,0.12,0.8,0.5,0.5,0.16,0.11,0.99,0.42,0.41,0.02,0.05,0.79,0.09,0.05,0.03,0.61,1.16,0.23,0.15,0.29,0.17,0.05,0.04,0.22,0.08,2.54,0.13,0.06,0.3,0.02,0.03,0.18,0.14,0.01,3.54,0.9,0.14,0.21,0.05,0.35,0.12,0.26,1.0,0.02,0.09,0.01,0.01,0.06,2.94,0.62,1.85,0.77,0.27,0.3,0.23,0.15,0.42,0.18,0.01,0.12,0.02,0.06,0.03,0.13,0.24,0.19,0.09,0.03,0.13,0.08,0.19,0.49,0.13,0.2,0.19,0.28,0.02,0.79,0.06,0.24,0.05,0.87,0.87,0.07,0.07,0.82,0.17,0.3,0.2,0.1,0.03,0.25,0.02,1.35,0.05,1.36,0.05,0.75,0.21,0.01,0.37,0.04,0.14,0.06,0.38,0.03,0.02,0.14,0.39,0.16,0.26,0.4,0.16,0.13,0.09,0.03,0.66,0.24,0.02,0.1,1.08,0.07,0.03,0.56,0.08,0.54,0.07,0.29,0.61,0.02,0.29,0.12,0.02,0.22,0.11,0.17,0.03,0.03,0.63,0.09,0.15,1.06,1.1,0.13,1.06,0.51,0.25,0.11,0.16,0.13,0.52,0.89,0.05,0.28,3.9,0.26,0.02,0.02,1.13,0.33,0.01,0.37,0.21,0.07,0.11,0.51,0.07,0.07,0.44,3.0,0.08,0.07,0.23,0.42,0.11,0.04,0.37,0.24,0.11,0.04,1.42,0.35,0.04,0.56,0.87,0.16,0.24,0.34,0.32,0.04,0.65,0.2,0.16,0.14,0.23,0.12,0.03,0.02,0.1,0.07,0.21,0.23,4.6,0.04,0.03,0.13,0.11,0.67,0.18,0.14,0.13,3.49,0.32,0.5,1.41,0.08,0.02,0.14,0.06,0.65,1.78,0.19,0.47,0.05,0.87,0.01,0.18,0.45,0.25,0.06,1.01,2.18,0.61,0.2,0.38,0.37,0.06,0.52,0.78,0.75,2.31,0.03,0.04,0.36,0.55,0.16,0.13,0.03,0.02,0.53,0.48,0.48,0.08,0.78,0.05,3.45,0.22,0.02,0.21,2.04,0.42,0.25,0.36,0.27,0.71,0.11,0.01,0.21,1.05,0.01,1.27,0.36,0.02,0.13,0.8,0.13,0.43,2.78,0.92,1.35,0.2,1.15,0.03,0.36,1.58,0.21,0.45,0.03,0.02,0.57,0.26,0.13,1.17,0.02,0.08,0.04,2.38,0.05,0.29,0.43,1.01,0.85,5.11,0.48,0.07,0.64,1.26,0.45,0.15,0.06,0.19,0.19,1.77,0.01,0.03,0.05,0.04,0.73,0.08,0.01,0.13,0.01,0.19,0.18,1.16,0.27,0.03,0.8,10.26,1.73,0.33,0.1,0.11,0.08,0.06,0.02,1.27,2.79,0.12,0.09,0.11,0.02,0.08,0.14,0.01,0.27,0.14,0.08,0.03,3.5,0.04,0.91,0.11,0.03,0.19,0.12,0.27,0.08,0.45,0.15,0.17,0.05,0.13,0.09,0.22,0.01,0.06,0.15,0.43,0.16,0.42,0.01,0.22,0.11,0.03,0.23,0.58,0.05,0.04,0.03,0.09,0.56,0.06,0.03,0.14,0.53,0.03,0.15,0.03,0.06,0.03,2.2,2.14,0.16,0.57,0.07,0.19,1.25,0.05,0.05,0.43,1.16,0.05,0.06,0.03,1.52,1.77,1.14,4.14,0.04,0.28,0.02,0.12,0.21,0.06,0.04,0.08,0.36,0.14,1.27,0.07,0.43,0.04,0.62,0.02,0.11,0.02,1.45,0.46,0.9,0.06,0.13,0.02,0.11,0.03,0.31,0.15,0.06,6.28,2.9,0.29,0.4,0.2,0.11,0.16,0.03,0.12,0.09,0.3,0.1,0.2,0.02,0.1,5.2,1.4,0.3,0.09,0.06,0.73,0.03,0.1,0.45,2.1,0.15,0.84,0.55,0.27,0.14,4.67,0.18,1.19,0.07,1.13,0.09,1.58,0.06,0.95,0.08,0.02,0.21,0.01,0.02,0.02,0.65,0.02,0.07,0.25,0.08,0.13,1.92,0.37,0.12,0.01,0.09,0.35,0.09,0.89,1.52,0.12,0.45,0.07,0.15,0.39,0.07,0.71,0.01,5.01,1.84,0.19,0.24,0.2,0.11,0.13,0.18,0.03,0.06,0.8,0.09,0.55,0.04,3.16,0.48,0.02,0.04,0.92,0.02,0.05,0.04,0.1,0.48,0.05,0.39,1.07,0.17,0.1,0.04,0.71,0.24,0.08,0.79,0.75,0.14,6.6,0.42,0.46,0.2,0.13,0.12,0.08,0.39,0.28,0.03,0.59,0.2,0.73,2.65,0.21,0.15,0.16,1.09,0.01,1.0,0.14,0.54,0.17,0.72,0.63,0.12,0.51,3.41,0.03,1.25,0.04,10.21,0.72,0.05,0.09,2.4,0.14,0.02,0.06,0.76,1.34,0.06,0.12,0.61,0.76,0.3,0.04,0.6,0.43,0.02,1.53,0.05,0.13,0.46,5.08,0.13,0.43,0.1,0.68,0.05,4.62,0.11,0.78,0.03,0.95,0.18,0.24,0.03,1.08,0.93,0.33,0.04,0.05,0.49,0.06,0.03,0.03,0.02,0.22,0.16,0.04,0.42,0.39,0.17,8.09,0.05,1.16,0.17,1.13,0.36,0.27,28.62,0.21,0.19,0.11,0.22,0.14,0.04,0.21,0.08,0.1,0.01,0.13,0.04,0.01,0.64,0.06,0.03,0.36,0.67,0.05,0.23,2.73,0.13,0.6,0.06,0.3,0.32,0.26,0.11,1.87,0.51,0.39,0.01,0.01,0.02,0.08,0.06,0.09,0.14,0.15,0.12,0.13,1.31,0.12,0.09,0.01,0.02,3.51,0.04,0.06,0.06,0.24,0.05,0.01,0.17,0.02,0.19,0.27,1.29,0.52,1.03,0.2,0.55,0.46,0.35,0.07,0.02,0.1,0.57,0.18,0.04,0.11,0.2,5.84,0.17,0.28,0.38,0.25,0.29,1.23,1.05,0.87,0.06,0.31,0.39,0.46,0.33,0.33,0.02,0.01,0.12,0.16,0.15,0.11,0.08,0.23,0.02,0.58,0.48,1.66,0.42,0.31,0.36,0.04,1.25,0.48,0.03,0.04,0.49,0.41,0.21,1.72,0.16,2.4,0.05,1.79,5.08,0.08,0.09,1.58,1.38,0.01,0.02,0.02,0.03,0.08,0.04,0.05,3.0,0.01,0.42,0.12,0.19,0.25,0.07,1.32,0.1,0.02,0.18,0.08,0.62,0.09,0.46,0.14,0.03,0.18,0.02,0.13,0.45,0.59,0.03,0.23,1.89,0.33,0.37,0.06,0.56,2.11,0.09,0.05,0.58,0.39,0.4,0.12,0.08,0.16,0.23,3.23,0.51,2.85,0.17,0.54,0.03,0.05,0.01,0.63,2.25,0.57,0.2,0.25,0.2,0.05,0.01,0.07,0.11,0.02,0.09,0.04,0.05,0.12,0.19,0.12,0.24,0.03,0.5,0.3,0.02,0.27,0.12,0.75,0.22,3.51,0.06,0.26,0.03,0.5,0.95,0.12,0.77,0.05,0.08,0.07,0.08,0.06,0.28,0.46,0.25,0.15,0.21,0.22,0.23,0.15,0.15,0.04,0.95,0.15,0.25,0.17,0.08,0.03,0.03,0.11,0.07,0.1,0.24,0.07,0.02,0.32,1.43,0.19,0.44,0.01,0.48,0.06,1.48,0.27,0.24,0.12,0.74,0.06,0.11,0.04,0.07,0.53,2.54,0.16,0.08,0.03,0.64,0.13,0.14,0.4,0.06,0.74,0.14,1.18,0.23,10.77,0.36,0.54,0.02,0.71,0.52,0.47,0.06,1.04,0.07,0.19,0.04,0.15,0.13,1.22,0.41,0.53,0.02,1.33,0.17,0.04,0.1,1.07,0.34,0.19,0.14,0.04,0.78,0.06,0.28,0.13,0.38,0.06,0.57,0.13,0.03,2.64,0.19,0.13,0.03,0.46,0.17,0.57,3.42,0.01,0.13,0.29,0.26,0.5,0.29,0.05,1.07,0.08,1.66,0.38,0.26,0.04,0.18,2.68,0.03,0.68,0.06,0.22,0.19,0.25,0.06,0.21,0.14,0.05,0.06,0.02,0.11,2.47,0.19,0.04,0.02,0.32,2.06,0.16,0.19,0.13,0.12,0.18,0.4,0.95,0.08,2.86,0.21,0.07,0.18,0.32,0.25,0.27,0.33,0.12,0.07,0.11,0.11,0.07,1.2,0.21,0.36,0.33,0.05,0.1,0.42,0.36,0.34,0.53,0.11,0.01,0.23,0.06,0.15,0.03,0.17,0.12,0.64,0.1,0.1,0.06,3.77,1.67,4.5,0.18,1.1,0.5,0.19,0.18,0.06,0.04,0.69,0.25,0.98,1.6,0.54,0.76,0.6,0.54,0.06,0.04,0.03,0.14,0.16,0.41,0.13,1.4,0.03,0.42,1.14,0.01,1.6,0.08,0.01,0.51,0.04,0.15,0.3,0.32,0.12,0.06,0.28,2.21,0.03,0.08,0.23,30.26,0.06,0.15,0.1,0.65,0.17,0.03,0.3,0.29,0.14,1.65,0.11,0.25,0.02,0.67,0.03,0.33,0.09,0.24,0.03,0.36,0.01,0.19,0.19,0.02,0.01,0.55,0.02,3.24,0.21,0.13,0.02,0.05,0.5,0.21,0.15,0.11,0.08,2.26,0.03,0.18,0.96,2.92,1.83,0.8,0.26,0.15,0.46,0.09,0.06,0.88,6.03,0.53,0.15,0.15,1.63,0.02,0.13,0.13,1.2,0.01,0.11,0.75,0.14,0.07,1.01,0.03,0.23,0.2,0.12,0.1,0.05,1.33,0.05,0.39,0.06,0.07,0.05,0.2,0.05,0.42,0.66,0.41,0.15,0.14,0.13,0.02,0.02,0.28,0.01,0.08,0.44,0.31,0.66,0.09,0.5,0.04,0.04,0.04,2.28,0.27,0.02,0.19,0.67,0.26,0.22,0.07,0.01,0.23,1.47,0.09,0.15,0.04,0.16,0.17,0.81,0.04,0.08,0.03,0.07,1.08,0.21,0.27,0.03,0.84,0.5,0.22,0.1,0.42,0.04,0.16,0.28,0.04,0.16,1.25,0.16,0.15,0.03,0.63,0.97,0.06,0.23,0.26,0.35,0.02,0.18,4.05,0.01,0.46,0.21,0.14,0.29,1.7,0.04,0.14,0.19,0.27,1.66,0.07,0.12,0.11,0.06,0.02,0.12,0.05,0.21,0.11,4.41,0.77,2.02,0.08,0.01,0.22,0.2,0.3,0.01,0.17,0.04,0.2,0.14,0.11,0.58,0.05,0.17,0.29,0.18,0.88,0.28,0.47,0.37,0.02,1.22,0.07,0.02,0.23,0.07,6.24,0.04,0.27,0.06,6.3,0.08,0.25,2.42,0.08,0.78,0.27,0.31,0.18,1.68,0.46,0.07,0.29,1.42,0.25,0.74,0.72,0.94,0.87,0.01,3.98,0.39,0.05,0.06,0.3,0.03,0.16,0.12,0.26,0.03,0.09,0.22,0.07,0.06,0.16,0.02,0.12,0.02,0.31,0.03,0.53,0.64,0.26,0.08,0.03,0.06,0.01,0.06,2.51,0.09,0.13,0.45,0.66,0.03,0.18,0.34,0.39,1.33,0.05,0.43,0.29,0.09,14.35,0.04,0.02,0.08,5.24,1.4,0.06,0.06,0.07,0.11,0.09,0.01,0.63,0.09,0.29,0.68,0.04,0.6,1.0,0.06,0.02,1.76,1.46,3.48,0.04,0.45,0.04,0.03,0.05,0.89,0.09,0.29,0.63,0.03,0.12,0.56,2.63,0.13,0.22,0.01,0.02,0.11,0.02,0.26,2.38,0.53,0.49,0.48,0.25,1.0,1.12,0.02,0.08,0.23,0.01,0.04,0.01,0.08,1.05,0.24,0.03,0.02,0.27,0.03,0.7,0.1,0.02,0.03,5.57,0.12,1.26,0.05,2.43,0.67,0.25,0.18,0.2,1.39,1.19,0.05,0.32,0.59,0.63,0.38,0.06,0.47,0.89,0.49,0.05,0.45,0.11,0.03,0.25,0.06,0.03,0.15,0.01,0.28,0.14,0.16,0.06,0.11,0.01,0.02,0.01,0.12,2.28,0.02,0.2,0.24,0.06,0.08,0.14,0.23,0.06,0.03,0.81,0.21,0.02,0.05,0.77,0.17,0.51,0.14,0.24,0.18,4.87,0.02,0.02,0.34,0.73,0.79,0.07,0.63,0.04,0.45,0.07,0.01,0.1,0.19,0.87,0.44,0.02,0.43,0.05,0.93,0.08,0.29,0.14,0.03,0.02,0.02,0.01,0.01,0.06,0.29,0.02,0.1,0.09,1.92,0.12,0.02,0.01,0.08,0.4,0.39,0.19,1.92,1.0,1.02,0.23,0.01,0.04,0.8,0.76,0.01,0.53,0.05,0.04,0.13,0.28,1.61,0.18,0.1,0.63,1.91,0.96,0.09,0.03,0.2,0.68,0.15,0.03,0.33,0.02,0.76,0.11,1.08,0.22,0.06,0.04,0.05,0.1,0.02,0.52,0.15,0.06,0.24,0.02,0.08,0.1,0.02,0.4,1.89,0.26,0.03,0.44,5.08,0.69,0.03,0.09,1.67,0.87,0.03,1.06,0.12,0.99,0.15,0.12,0.04,0.71,0.04,2.06,0.04,0.03,1.28,0.06,2.4,0.51,0.05,0.1,0.02,0.04,0.2,1.33,0.1,23.1,0.02,0.06,0.51,0.32,0.04,0.33,0.15,0.14,0.01,1.24,0.32,0.07,1.09,0.58,0.11,0.45,0.03,0.24,0.08,0.49,0.02,0.74,0.22,0.02,0.06,0.02,0.27,0.45,0.14,0.06,0.05,0.03,0.07,0.38,0.15,0.2,0.08,0.02,2.18,0.4,0.15,0.02,0.58,0.05,0.41,0.09,0.26,2.65,0.06,3.15,0.29,0.01,1.69,0.1,0.56,1.3,0.05,0.11,1.74,0.12,0.42,0.09,0.02,0.35,0.1,0.42,0.55,7.6,0.99,0.01,0.81,0.05,2.39,0.04,1.11,1.37,0.73,0.1,0.04,0.25,0.19,2.3,0.05,0.21,0.3,4.2,0.07,0.4,0.83,0.14,0.36,0.06,0.71,0.51,0.69,0.02,0.96,0.5,0.3,0.03,0.01,0.1,3.19,0.4,0.1,0.05,0.95,0.09,0.02,0.03,0.62,0.03,1.1,0.06,0.11,0.09,2.49,0.09,0.17,0.09,0.21,0.01,0.15,1.02,0.17,0.01,0.04,0.08,0.4,0.03,0.29,0.11,0.71,0.01,0.22,0.45,0.05,0.08,0.47,10.69,0.33,4.03,0.25,0.38,0.07,0.1,1.15,0.13,0.01,0.29,0.02,0.06,0.38,0.87,0.33,0.03,0.82,0.18,0.12,2.9,0.29,0.11,0.07,0.57,0.09,0.33,0.25,0.22,0.65,1.17,1.06,0.25,0.02,1.11,6.72,0.01,0.46,0.04,0.11,0.1,0.41,0.09,0.61,0.03,0.09,0.02,2.37,0.82,1.0,0.81,0.1,0.01,0.42,1.39,2.04,0.46,0.17,1.68,0.12,0.16,0.16,0.12,0.11,0.06,0.38,0.06,0.09,0.03,0.19,0.15,0.02,0.69,0.02,0.01,0.11,0.02,0.27,2.81,0.08,0.02,0.01,0.42,0.59,1.2,0.12,0.12,0.33,0.13,0.02,0.32,0.9,0.2,0.14,0.05,1.56,0.03,0.12,0.03,0.07,0.44,0.96,0.06,0.03,0.41,0.94,0.15,0.22,0.1,0.21,0.01,0.01,0.03,0.4,0.03,0.7,0.07,0.32,0.23,0.11,0.08,0.21,0.02,0.05,0.03,0.28,1.35,0.2,0.84,0.06,2.88,1.32,0.98,0.69,0.31,0.11,0.1,0.15,0.04,0.02,0.01,0.42,0.06,0.18,0.14,2.04,0.08,2.99,0.28,0.03,0.01,0.08,0.31,0.57,0.21,0.03,0.05,0.47,0.27,0.83,4.24,0.51,0.05,1.15,1.65,0.14,2.32,0.06,0.34,0.29,0.08,0.3,0.01,0.32,0.1,0.06,0.15,0.03,0.1,1.32,0.11,0.38,0.25,0.77,0.12,0.28,0.04,0.17,0.65,0.03,0.15,0.02,0.03,1.76,0.22,0.2,0.01,1.32,0.01,0.08,0.05,0.03,0.08,0.02,0.15,0.02,0.05,2.32,1.05,0.32,0.04,0.07,0.13,0.07,0.1,0.19,0.04,0.02,0.21,0.42,0.05,1.69,0.17,0.11,0.78,0.68,0.06,0.02,0.68,0.75,0.2,0.16,0.05,0.52,0.03,0.3,1.06,0.97,1.0,0.03,0.17,0.21,0.07,0.04,0.03,0.2,1.56,0.36,0.49,0.18,0.37,1.0,0.18,0.15,0.07,0.21,0.01,0.2,0.94,0.15,0.45,0.25,0.03,0.36,0.04,0.01,0.98,1.45,0.09,2.13,0.4,0.27,0.64,0.15,0.14,0.77,0.27,1.47,0.26,0.87,0.2,0.59,0.11,0.06,0.09,0.9,0.07,1.19,0.5,0.51,0.85,1.14,0.3,0.09,5.42,0.54,1.36,0.33,2.99,0.05,0.01,1.54,0.36,0.09,0.24,0.11,0.06,0.51,0.04,0.02,0.13,0.04,0.39,0.35,0.64,0.05,0.3,0.06,0.11,0.09,0.22,0.54,0.08,0.32,0.29,0.26,0.1,0.71,11.52,0.29,1.34,0.06,0.35,1.08,0.04,0.39,0.5,0.52,0.44,0.85,0.08,1.16,0.18,0.36,0.06,0.1,0.54,0.01,0.02,0.17,0.15,0.04,0.14,0.07,0.61,0.13,2.27,0.1,0.03,2.78,0.35,0.01,0.93,0.18,2.88,0.27,0.37,0.03,0.94,6.83,0.38,0.3,0.07,0.54,0.05,0.18,0.06,2.31,0.02,0.3,0.09,0.2,0.23,0.01,0.02,1.75,0.37,2.13,0.02,0.27,0.09,1.0,0.52,0.52,0.45,0.03,0.37,0.02,0.38,0.05,0.13,0.66,0.11,0.1,0.02,0.03,0.81,0.09,0.46,0.06,0.24,0.32,0.15,0.63,0.08,0.25,1.02,0.02,0.04,0.05,0.08,0.07,0.18,0.42,0.2,0.15,0.34,0.26,0.24,0.05,0.65,0.15,0.23,0.2,0.05,0.02,0.41,0.15,0.19,3.07,0.51,0.29,1.62,0.4,1.74,0.02,8.06,0.04,0.34,1.23,0.12,2.45,2.27,0.01,1.03,3.88,0.07,0.08,3.19,0.02,0.23,0.03,0.01,0.33,0.19,0.04,0.3,2.22,0.72,1.44,0.04,0.05,0.25,0.1,0.1,1.04,1.11,0.17,0.15,3.73,0.04,1.11,0.03,0.5,0.1,0.12,0.18,0.03,2.57,0.21,0.03,0.07,0.07,0.11,0.2,0.97,0.02,0.35,0.03,0.03,0.02,0.11,0.09,0.14,0.18,0.9,0.44,0.24,0.33,0.09,4.21,1.08,0.51,0.02,0.88,0.05,0.02,0.07,1.0,0.03,0.03,5.43,0.99,0.31,0.02,0.29,0.14,0.49,1.23,0.25,1.64,0.29,0.8,0.19,0.01,0.2,0.42,0.1,1.59,0.17,0.04,0.05,0.01,0.17,0.12,0.02,0.2,0.01,0.03,2.37,0.38,0.01,0.07,0.29,0.34,0.09,0.67,0.06,0.27,0.58,0.02,0.35,0.06,0.11,0.12,0.41,0.07,0.61,0.19,0.06,0.1,1.6,0.02,1.38,0.27,0.49,1.52,0.23,0.07,0.08,0.33,0.07,0.78,0.04,0.09,1.51,0.19,1.23,0.45,0.28,0.05,0.45,0.08,0.22,0.41,0.07,0.11,2.41,0.08,0.23,3.14,0.43,0.03,0.23,1.19,3.07,0.37,0.33,0.04,0.53,0.06,0.01,0.22,0.14,0.13,0.07,0.09,1.37,0.02,0.51,0.08,0.06,0.09,0.93,0.14,0.01,0.12,0.85,0.16,0.16,0.08,0.07,0.07,0.08,0.53,0.07,0.64,0.17,0.07,0.01,0.8,0.61,0.31,0.14,0.17,0.01,0.03,0.42,0.05,0.98,0.34,0.57,0.12,0.2,0.12,0.11,0.08,0.2,0.19,1.21,3.61,0.06,0.09,0.06,1.98,0.08,0.07,0.44,0.39,0.02,0.36,0.45,0.46,0.03,1.05,0.23,0.16,0.03,0.69,1.62,0.17,0.1,0.05,0.47,0.37,0.14,0.81,0.59,0.64,0.02,0.01,2.08,0.67,1.04,0.33,20.81,0.52,0.11,0.29,0.04,0.07,0.46,0.04,0.9,0.37,0.03,0.7,0.33,0.26,0.27,0.08,0.97,0.22,0.02,0.66,0.58,0.06,0.16,2.0,0.09,6.69,4.96,0.25,0.23,0.61,0.07,2.02,0.87,0.23,0.67,0.01,0.43,0.01,0.27,0.11,0.07,0.17,0.03,0.07,0.03,2.38,0.08,0.02,0.09,3.12,0.47,0.27,0.05,0.25,0.03,0.34,0.02,0.23,1.0,0.14,0.14,0.02,1.41,0.04,0.16,6.96,0.14,0.62,0.38,2.57,0.09,0.02,0.29,0.05,0.05,0.04,0.02,1.56,0.76,1.72,0.32,0.02,0.21,0.18,0.01,0.58,2.28,0.04,0.17,0.31,0.03,1.41,0.71,0.1,0.05,0.14,0.1,0.54,1.2,0.11,0.02,6.91,0.02,0.05,0.38,0.11,0.02,2.25,0.67,1.1,1.67,0.12,0.01,0.83,0.3,0.02,0.17,0.71,0.37,0.28,0.43,0.01,0.47,0.15,0.04,0.17,0.79,0.15,0.01,0.17,0.16,0.08,0.59,0.45,0.27,0.05,0.03,0.2,0.24,3.44,0.1,0.01,0.08,2.89,0.11,0.38,1.15,0.89,0.86,0.04,2.26,0.41,0.13,0.19,1.93,0.14,0.34,0.12,0.32,0.07,0.46,0.21,0.12,0.62,0.62,2.08,0.02,0.43,0.04,0.19,0.86,0.06,0.04,0.34,0.01,0.09,0.14,0.02,0.03,0.05,0.04,0.81,0.18,0.21,0.48,0.12,0.02,2.27,0.08,0.79,0.04,0.23,0.2,0.02,0.13,0.23,0.33,0.49,1.22,0.28,0.76,0.03,0.27,0.44,0.04,0.51,2.69,0.47,0.29,0.13,0.02,0.07,0.03,0.01,0.02,0.11,0.2,0.07,0.34,1.78,0.07,0.61,0.04,0.71,0.17,0.73,0.07,0.38,0.1,0.02,0.4,0.39,0.07,0.03,0.57,0.12,0.66,0.09,0.11,0.25,0.02,0.19,0.02,0.49,4.0,0.06,0.03,0.55,0.44,0.03,1.59,0.1,0.06,0.09,0.49,0.04,0.11,0.14,0.02,0.02,1.05,0.04,0.17,0.07,0.01,0.68,0.15,0.51,0.06,0.17,0.22,0.01,0.03,0.08,0.2,0.47,0.12,1.88,0.65,1.04,0.4,0.12,0.41,2.18,0.19,0.21,0.24,0.07,3.76,0.32,0.04,0.05,0.02,0.3,0.06,2.97,0.02,1.23,0.27,7.23,1.21,1.12,0.05,1.19,0.04,0.29,0.22,0.28,0.15,0.26,1.33,0.3,0.29,0.1,1.55,0.59,0.38,31.37,0.06,0.14,0.1,0.08,0.1,1.46,0.52,0.03,0.26,0.31,0.08,0.73,1.18,0.18,0.5,0.2,0.09,0.12,0.24,0.4,0.09,0.15,0.53,0.12,0.75,0.32,0.22,0.03,0.14,0.31,5.0,0.27,0.04,0.23,0.05,0.08,1.52,0.18,0.07,0.52,0.5,0.29,0.21,0.65,0.58,0.14,0.36,0.37,0.09,0.04,0.02,0.78,1.94,0.1,0.54,0.87,0.06,0.02,0.03,0.05,0.23,0.16,0.06,0.11,0.54,0.07,0.19,0.13,0.58,4.09,0.91,0.87,0.8,0.39,0.29,0.66,0.75,0.89,0.05,0.19,0.57,3.11,0.09,0.8,0.95,0.18,0.04,0.05,0.03,0.11,0.07,0.09,0.13,1.4,0.32,0.56,0.1,0.11,0.09,0.04,0.31,0.04,0.01,0.15,0.16,0.74,0.35,0.03,2.56,0.08,0.07,0.1,0.02,0.43,0.28,0.09,0.02,0.01,0.77,0.03,0.02,0.05,0.56,0.08,0.08,0.42,0.03,0.98,0.18,0.06,0.07,0.16,0.53,0.51,0.02,1.52,1.09,0.21,0.39,7.81,0.08,0.44,0.08,1.04,0.76,0.05,0.12,0.02,0.16,0.02,0.36,3.03,0.53,0.02,0.26,0.23,0.17,0.01,0.47,0.21,0.15,0.19,0.06,0.32,0.2,0.87,0.1,0.07,0.65,0.02,0.02,0.11,0.09,0.15,0.1,0.36,0.35,1.1,0.06,0.17,0.33,0.02,16.38,0.31,0.08,0.32,0.11,0.08,0.29,0.11,0.01,0.06,2.65,0.04,0.19,0.28,0.01,0.14,6.59,0.02,0.03,0.04,0.02,0.5,0.03,0.76,0.08,0.18,1.04,0.16,0.01,0.03,0.02,0.14,0.29,0.04,0.36,0.12,0.1,4.22,0.09,0.29,0.14,1.44,0.18,0.03,0.43,0.03,0.14,0.36,0.14,0.12,1.18,0.53,0.9,0.26,3.63,0.06,0.98,0.25,0.02,0.1,1.22,0.34,0.38,0.01,0.03,0.09,0.08,1.1,0.45,0.09,0.19,0.01,0.04,0.32,0.03,0.13,0.16,0.3,0.63,0.02,0.06,0.04,0.4,0.29,0.29,0.06,0.07,0.01,0.95,1.68,0.02,0.1,0.11,0.19,0.13,0.02,0.06,0.09,0.04,0.05,2.18,0.18,0.21,0.02,0.17,0.07,0.36,0.03,0.15,0.18,0.02,0.63,0.01,3.84,0.08,0.29,0.37,0.11,0.02,0.06,0.02,0.07,0.05,0.17,0.08,0.03,0.1,0.19,0.14,0.06,0.84,0.02,0.09,3.26,0.04,0.19,0.06,0.07,0.3,0.43,0.03,0.02,1.3,0.09,0.17,0.34,0.08,0.49,0.34,0.11,0.23,0.1,0.4,6.03,0.17,0.3,0.25,0.13,0.02,0.05,0.24,0.04,0.27,0.18,0.39,0.73,0.86,0.06,0.04,0.02,0.32,0.13,1.0,0.39,0.04,0.13,0.01,0.17,0.21,0.26,0.22,0.05,0.01,0.03,0.09,0.75,0.02,0.04,0.19,0.2,0.63,0.23,0.38,0.05,0.38,5.36,0.06,1.33,0.1,0.55,3.46,0.02,0.21,0.6,0.16,0.07,0.12,0.04,0.03,0.25,0.08,0.13,0.36,0.42,0.18,0.38,0.05,0.01,0.08,0.26,0.11,0.06,0.01,0.02,0.01,0.08,0.78,6.39,0.34,0.03,0.08,0.02,0.02,0.2,0.22,0.1,0.04,0.01,0.05,0.19,0.12,0.01,0.03,0.3,0.07,0.08,1.17,0.23,0.05,1.41,0.05,0.46,0.3,2.65,0.47,1.11,0.12,0.18,0.71,2.12,0.06,0.22,0.01,0.05,0.63,0.19,0.99,0.03,0.04,0.04,0.4,0.23,2.25,0.05,0.04,0.12,2.85,0.19,0.19,0.38,0.01,0.47,0.23,0.31,1.14,0.05,0.01,0.14,0.03,0.66,0.26,0.06,0.08,2.95,0.02,0.11,0.08,0.17,0.18,0.06,0.4,0.68,1.44,0.43,0.16,0.11,0.24,0.06,1.22,0.01,0.12,0.18,0.47,0.27,0.06,0.4,0.02,0.05,0.03,0.08,0.02,0.1,0.02,0.16,0.12,1.33,0.17,0.02,2.56,0.83,0.02,0.49,0.58,0.01,0.1,1.36,0.02,0.03,0.02,0.09,0.13,0.03,0.03,0.16,0.42,0.1,0.03,0.56,0.07,0.9,0.35,0.3,1.17,0.19,0.2,0.01,2.22,0.04,0.05,0.03,3.77,0.02,0.4,0.72,1.56,0.16,0.54,0.03,0.63,0.2,0.03,0.79,0.05,0.88,0.07,0.1,2.48,0.29,0.36,1.53,0.3,0.12,2.67,1.38,1.47,0.17,4.39,1.46,0.02,0.09,0.03,0.03,0.12,0.03,0.97,1.76,1.46,0.61,0.25,1.12,0.07,0.01,0.11,0.11,0.02,0.34,2.82,0.1,0.23,0.4,0.5,1.21,1.69,0.26,5.2,0.17,6.34,1.62,1.76,1.2,1.1,0.04,0.24,0.05,0.12,0.55,0.13,0.26,0.3,0.51,0.42,0.07,0.12,0.33,0.1,0.14,1.44,0.62,0.04,0.63,0.07,0.02,0.07,0.35,0.4,0.01,0.07,0.77,0.03,0.04,0.05,0.16,0.14,0.93,0.08,0.05,0.4,0.55,0.41,0.05,0.13,1.67,0.06,0.24,0.15,0.02,0.03,0.13,3.36,1.66,0.16,0.06,1.19,0.31,0.05,0.02,0.02,0.39,0.19,0.17,0.05,0.03,0.22,0.08,0.31,1.31,0.09,0.28,0.55,0.21,0.62,0.03,0.92,0.21,0.03,0.04,0.19,0.22,0.01,0.04,0.05,0.2,0.51,0.31,0.48,0.04,0.1,0.07,0.03,0.09,0.02,0.72,0.12,1.15,0.03,0.25,0.15,0.98,0.07,0.06,1.23,0.05,0.21,0.13,0.19,0.02,0.53,0.24,0.05,0.05,0.13,0.87,0.31,0.11,0.61,0.18,0.38,0.05,1.86,0.32,0.5,0.12,0.02,0.39,0.15,2.52,0.4,1.44,0.85,0.03,0.17,0.06,1.1,1.5,0.12,0.03,0.71,4.16,0.43,0.39,0.31,0.14,0.22,0.51,0.02,1.08,1.4,0.29,2.44,0.68,0.13,0.49,0.05,0.06,0.41,2.28,3.81,0.12,0.68,0.18,0.28,1.35,0.64,0.44,0.2,0.56,0.03,0.33,0.05,0.47,1.25,3.28,0.35,0.15,0.12,0.03,0.11,0.08,0.09,0.37,0.02,0.03,0.05,0.84,0.05,1.09,0.04,1.17,1.95,0.11,1.55,0.8,0.02,0.11,0.29,0.15,0.08,0.23,1.04,0.2,0.07,0.36,0.31,0.52,0.02,0.29,0.36,0.01,1.73,0.04,0.21,0.45,1.32,0.59,0.02,0.37,0.08,0.02,0.43,1.18,1.43,0.63,0.33,0.03,2.09,0.06,0.02,0.04,0.14,1.43,0.07,0.38,0.04,0.02,0.17,0.3,0.43,0.12,0.28,1.1,0.58,7.46,1.11,1.22,0.09,1.59,0.09,0.62,0.11,0.02,1.04,0.25,0.01,0.47,0.02,0.57,0.43,0.38,0.93,0.43,0.31,0.02,2.91,0.13,0.02,0.14,0.1,0.21,0.12,0.13,0.03,0.48,0.59,0.07,0.05,0.04,0.07,0.34,1.64,0.36,0.39,0.02,1.36,0.68,0.07,0.11,1.76,0.05,0.12,0.25,0.15,1.43,0.04,0.07,4.02,1.12,0.09,0.13,0.06,0.07,0.01,0.14,0.2,0.02,0.05,0.09,0.1,0.16,0.07,0.81,0.11,0.01,0.18,0.03,0.18,0.3,0.04,0.47,0.13,1.24,0.13,0.11,0.89,0.15,0.64,1.18,0.8,0.06,0.69,0.55,0.72,0.4,0.04,0.03,0.13,0.06,0.1,0.6,0.02,0.09,0.67,0.34,0.01,0.06,1.74,0.02,0.02,0.94,0.14,0.03,0.07,0.02,0.33,0.01,0.1,0.03,0.69,0.01,0.06,0.14,0.45,0.05,0.02,0.1,0.1,0.05,0.04,0.48,0.88,0.08,0.12,0.05,0.15,0.02,0.41,0.4,0.12,0.15,2.05,0.2,0.84,0.51,0.31,2.65,0.09,0.18,0.05,0.14,0.15,0.99,0.33,0.08,0.16,0.02,0.14,0.06,0.38,0.79,0.06,1.07,0.07,0.17,0.53,0.23,0.02,0.23,0.5,0.29,0.09,0.16,0.63,0.23,0.23,0.13,0.03,3.58,0.02,0.02,0.17,0.59,0.17,1.58,0.01,0.06,0.11,0.14,0.26,0.12,0.07,0.07,1.35,0.1,0.13,0.28,0.02,1.62,0.87,0.04,0.82,0.03,0.12,1.39,1.97,0.15,0.27,0.09,0.15,0.15,0.47,0.24,0.25,0.35,0.03,0.03,0.16,0.1,0.04,0.36,0.04,0.04,0.22,0.05,0.08,0.19,0.02,0.25,0.02,0.02,0.46,0.45,0.03,0.01,0.08,0.54,0.15,0.03,0.26,0.08,0.1,0.07,0.26,0.07,0.02,0.24,0.15,0.28,0.02,0.28,0.14,0.48,0.16,0.14,0.29,0.05,0.09,4.63,0.81,0.05,0.03,0.1,0.03,0.27,0.72,0.01,0.09,0.07,3.52,0.32,0.03,0.07,0.04,0.05,0.12,0.03,0.79,0.13,0.1,0.02,0.96,0.16,0.03,0.39,0.82,0.03,0.26,0.08,0.32,0.26,0.07,0.03,0.03,1.83,0.02,0.76,0.09,0.37,0.45,0.13,1.35,2.96,0.03,1.2,1.32,0.2,0.01,0.01,0.09,0.12,0.03,0.03,0.45,0.1,0.5,0.04,0.45,0.53,0.23,0.67,0.59,0.65,0.03,0.12,0.11,0.16,0.32,0.1,0.73,0.08,0.24,0.19,0.53,0.04,1.01,0.15,0.41,0.1,0.14,0.26,1.16,0.15,0.28,0.69,0.03,0.09,0.13,0.04,0.61,0.16,5.47,0.08,0.99,0.03,0.55,0.06,0.11,0.33,0.21,0.04,0.23,3.53,0.29,0.05,0.44,0.67,0.12,0.23,1.45,3.2,0.06,0.09,0.26,0.34,0.11,0.13,0.07,0.2,0.24,0.05,0.56,0.71,0.3,0.25,0.51,6.4,0.07,0.03,0.2,0.07,0.02,0.15,0.06,0.09,0.05,0.04,0.02,0.74,0.04,0.12,0.1,0.4,0.23,0.1,0.11,0.16,0.02,0.02,0.04,0.08,0.7,2.86,0.02,0.66,0.02,0.41,0.24,0.41,0.41,0.23,0.08,0.01,0.14,0.22,2.39,1.64,0.21,0.02,0.2,1.15,0.07,0.2,0.68,1.27,0.23,0.02,0.26,2.13,0.09,0.06,0.13,0.15,0.24,4.14,0.02,0.41,0.07,0.06,3.83,0.24,2.62,0.05,5.49,0.16,0.14,0.1,0.09,1.45,0.58,1.0,0.01,0.6,0.25,0.02,0.23,0.1,0.06,0.45,0.14,0.4,0.03,0.23,0.02,2.13,0.01,0.11,0.06,0.15,0.12,1.1,1.6,1.24,0.2,0.06,0.7,0.07,0.53,0.07,1.26,0.19,0.28,0.02,0.01,4.06,0.06,0.54,0.19,0.47,0.26,0.71,0.11,0.02,0.12,0.18,0.6,0.86,0.02,0.34,0.3,0.79,0.11,0.55,0.03,1.09,0.16,0.51,0.32,0.01,0.06,0.02,0.1,0.02,1.04,0.02,0.15,0.05,0.07,0.98,0.09,0.4,0.04,0.33,0.05,0.28,0.11,0.1,0.02,0.67,0.37,0.14,1.32,0.21,0.27,0.16,0.17,0.04,0.23,0.12,0.48,0.02,0.13,0.46,0.37,0.48,1.93,0.1,0.37,0.24,0.25,0.02,0.04,0.41,0.32,1.91,0.12,0.05,0.97,0.41,0.3,0.27,2.39,0.18,1.78,1.72,0.06,0.18,0.01,2.65,4.33,0.83,0.14,0.12,0.58,0.38,0.11,0.14,2.14,0.39,0.11,0.14,0.08,0.11,1.5,0.41,0.23,0.09,0.02,3.4,0.13,0.05,0.03,0.03,0.1,0.23,0.76,0.46,0.01,0.09,0.09,0.2,0.01,0.37,0.01,0.07,0.76,0.81,1.01,0.08,0.45,0.29,0.32,0.61,0.02,0.49,0.03,0.42,2.25,0.19,1.24,0.22,0.1,0.08,7.13,0.03,0.11,0.02,0.1,0.19,0.07,0.03,0.03,0.06,0.07,0.8,2.0,0.7,0.19,1.27,0.29,0.66,0.58,0.44,0.04,0.25,0.19,0.51,1.69,0.66,0.07,0.02,0.23,0.06,0.08,0.56,0.13,0.11,0.19,1.06,0.26,0.3,0.13,0.84,0.02,1.26,0.09,0.02,0.52,0.18,0.22,0.11,0.71,0.12,0.03,0.61,0.07,0.11,0.09,0.34,1.45,0.01,0.32,0.03,0.06,0.12,0.74,0.92,1.42,0.19,0.04,0.15,0.05,0.2,0.21,6.76,0.08,0.06,0.02,0.13,0.32,0.13,1.7,1.17,0.07,0.03,0.09,0.36,0.1,0.33,0.38,0.02,0.16,0.35,0.02,1.24,0.33,0.02,0.25,0.33,0.13,0.03,0.28,0.04,0.19,0.25,0.21,30.01,0.13,0.65,0.02,0.05,2.96,0.01,0.04,0.28,0.32,0.68,0.1,0.16,0.03,0.04,0.27,0.46,3.5,0.01,0.03,0.11,0.07,0.27,0.5,0.09,0.02,0.07,1.53,0.2,0.14,0.4,0.05,0.03,1.16,0.34,0.29,0.03,0.02,0.7,4.34,0.03,0.93,0.08,0.07,0.03,3.49,0.82,1.12,2.08,0.19,0.18,0.64,0.02,0.02,3.87,0.19,0.02,0.06,0.13,0.74,0.07,0.39,0.13,0.58,0.12,0.11,0.27,0.52,0.68,0.05,0.14,0.03,1.26,0.1,0.04,0.02,0.02,0.45,0.48,2.59,1.17,0.02,0.67,0.95,0.29,0.02,0.27,0.05,0.33,0.1,1.42,0.1,0.09,3.7,0.4,0.04,0.07,0.15,0.1,0.78,0.14,0.4,0.02,0.47,0.01,0.36,3.27,0.13,0.48,0.05,0.02,1.42,0.14,0.14,1.1,0.58,15.32,0.03,0.05,0.44,0.27,0.61,0.51,0.14,0.19,2.32,0.29,0.03,0.14,0.07,0.14,0.18,1.9,0.32,0.07,0.04,0.15,0.28,0.03,0.17,0.05,0.04,0.12,0.03,0.12,0.02,0.14,0.1,0.11,0.57,0.45,4.08,0.42,1.5,0.05,0.33,0.54,0.24,0.72,0.21,0.27,0.07,1.59,0.02,0.04,0.47,0.04,0.41,0.11,0.1,1.45,1.56,0.17,0.14,0.1,0.02,0.03,0.22,0.03,0.48,0.16,0.27,2.12,0.03,1.32,0.03,0.36,0.02,0.11,0.04,0.07,0.27,1.23,3.42,0.74,0.47,0.81,0.27,0.01,0.14,0.13,0.51,0.01,0.13,0.4,0.06,0.1,0.01,0.34,0.06,0.11,0.15,0.15,0.01,0.15,0.04,0.04,0.11,0.28,0.08,1.55,0.03,0.51,0.31,1.27,0.2,0.03,5.0,0.27,0.24,2.39,0.04,0.46,0.43,0.15,0.12,0.61,0.53,0.08,0.27,0.7,0.13,0.04,0.29,0.08,0.05,0.03,0.22,0.11,0.26,0.01,0.55,0.17,0.19,0.47,0.44,0.39,0.11,0.03,1.28,0.93,0.08,0.78,0.02,0.02,0.01,1.06,0.84,0.32,1.43,0.02,0.19,0.05,0.02,0.31,0.14,0.12,0.12,0.07,0.04,1.19,0.04,1.35,0.02,0.06,0.05,0.09,0.05,0.05,0.78,0.53,0.17,0.32,0.09,0.01,0.65,0.02,0.34,0.55,0.02,1.98,0.03,1.52,0.03,0.17,0.65,0.09,0.12,0.11,0.93,0.13,0.11,0.04,0.21,0.49,0.11,0.03,0.33,0.13,1.88,0.24,0.11,0.19,0.03,0.23,0.51,1.2,0.03,0.21,0.19,0.1,0.07,0.05,0.53,0.06,0.7,0.57,0.06,0.03,0.95,0.07,0.69,0.26,0.06,0.08,0.02,0.12,0.71,0.05,0.03,0.1,0.06,0.33,0.35,0.85,0.41,0.01,0.06,0.09,0.54,0.07,1.22,0.08,0.02,0.02,0.17,0.13,0.08,0.2,0.02,0.55,0.16,1.5,3.76,0.05,0.06,0.17,0.21,2.27,0.12,0.18,0.02,0.2,0.33,0.14,0.45,0.13,0.08,0.06,0.7,0.09,0.56,0.01,0.11,1.3,0.04,0.82,0.47,0.19,0.04,0.12,0.03,0.26,0.23,0.27,3.02,0.12,0.53,0.5,0.23,0.04,0.56,0.16,0.12,0.39,0.32,0.25,0.6,0.36,0.45,0.02,0.55,0.63,0.76,0.78,0.24,0.01,0.09,0.01,0.3,0.03,0.02,0.53,0.28,0.04,0.27,0.25,0.2,0.14,0.17,0.56,0.11,0.3,0.41,0.07,0.02,0.03,0.14,2.48,0.18,0.2,0.07,0.03,0.27,0.95,0.06,0.2,1.3,0.03,0.1,0.55,0.39,1.07,0.08,0.36,1.58,0.02,0.51,0.53,0.16,0.7,1.13,0.06,0.47,0.09,0.13,0.23,0.06,0.1,0.11,0.28,0.27,0.17,0.4,2.04,0.06,0.02,0.35,0.42,0.08,0.39,0.07,0.56,0.04,0.48,0.04,0.07,0.14,0.03,0.07,0.12,0.12,0.87,0.01,0.06,0.02,1.16,0.03,0.26,0.61,0.04,2.72,0.1,0.53,0.08,0.05,0.47,0.05,1.72,0.23,0.03,0.86,0.13,0.19,0.03,1.46,0.45,0.01,0.27,0.07,3.19,0.15,0.73,0.08,0.47,0.22,0.58,0.64,0.07,0.07,0.97,0.07,0.07,0.01,0.16,0.09,0.7,0.07,0.12,0.16,0.12,0.1,0.19,0.34,0.05,0.17,0.05,0.23,2.97,0.17,0.14,0.16,0.1,0.01,0.55,0.02,0.16,0.08,0.01,0.23,0.02,2.28,0.25,0.09,0.42,0.1,0.19,0.03,0.02,0.08,0.05,0.24,0.04,0.06,1.67,0.04,6.27,0.4,0.5,1.5,0.21,0.26,0.71,1.36,0.09,0.23,0.03,0.03,0.24,0.04,0.09,0.04,0.02,0.13,0.17,0.07,0.16,0.05,0.17,0.04,0.03,0.02,0.81,0.1,0.15,0.73,0.05,0.2,0.58,0.17,0.04,0.03,0.9,1.22,0.1,0.02,0.15,0.25,0.05,0.07,1.26,0.93,0.38,0.13,1.2,2.5,0.54,0.48,0.33,1.03,0.06,0.03,1.03,0.06,0.26,0.21,0.02,0.26,0.33,0.04,0.01,1.18,0.74,0.18,0.02,0.11,0.03,0.1,0.16,0.21,0.02,0.62,0.03,0.74,0.9,0.02,0.14,4.2,0.7,0.24,0.2,0.26,0.08,0.61,0.19,0.67,0.02,0.58,0.28,0.13,1.73,0.13,0.07,0.01,0.87,0.71,0.02,1.1,0.04,0.46,0.47,0.05,0.05,0.06,0.31,0.01,0.25,0.25,0.02,0.14,0.2,0.6,0.12,0.01,0.12,0.13,0.18,0.09,0.02,0.03,0.12,0.22,0.24,0.57,0.08,0.13,0.1,0.12,4.35,1.46,20.22,0.22,0.56,2.48,1.38,0.15,0.42,0.88,0.02,0.52,0.02,0.01,0.37,0.07,0.14,0.09,0.1,0.11,0.31,0.04,0.21,0.22,0.06,0.37,2.15,0.02,0.29,0.15,0.33,0.03,0.11,0.08,0.31,0.09,0.07,0.15,1.69,0.31,1.29,1.62,0.08,1.55,1.37,2.29,0.41,3.56,0.82,0.17,1.19,0.03,0.19,0.69,0.02,0.3,0.17,0.13,0.07,0.09,6.51,0.35,0.25,0.45,8.05,0.02,0.03,0.14,0.5,1.13,0.89,0.21,1.54,0.1,0.08,2.38,0.17,1.08,0.34,3.63,0.22,0.09,0.17,0.12,0.4,0.01,3.53,1.97,0.11,0.07,0.05,0.69,0.46,0.09,0.07,0.07,0.61,1.51,0.13,0.42,0.47,0.14,0.03,0.05,0.33,0.16,0.09,1.57,0.14,0.36,0.66,0.06,0.12,0.82,0.03,0.02,0.07,0.26,0.62,0.46,0.6,7.31,0.14,0.03,0.12,0.07,0.11,0.17,0.04,0.12,0.94,0.51,0.03,0.05,0.64,0.01,0.66,0.05,0.06,0.87,0.6,0.05,0.12,0.03,0.04,0.33,0.33,0.17,0.19,0.06,0.04,0.9,0.06,0.07,0.93,0.03,0.07,0.37,0.09,0.56,0.12,0.01,0.08,0.03,0.14,0.33,0.1,0.07,0.02,0.37,0.01,0.85,0.13,3.91,0.32,0.28,1.64,0.03,0.19,0.01,0.05,0.06,0.02,0.83,0.07,0.09,0.15,0.84,0.08,0.16,0.05,0.08,1.02,0.41,0.07,0.03,1.4,0.15,0.15,0.02,0.5,0.15,0.45,0.06,0.22,0.03,0.32,0.04,0.09,0.18,0.29,0.22,0.03,0.08,0.03,0.07,0.6,0.03,0.55,0.1,0.04,0.79,1.85,1.74,1.17,0.49,0.44,0.11,1.67,0.01,0.15,0.03,0.06,0.16,0.23,0.36,1.3,1.42,0.24,0.1,0.15,0.03,0.14,0.34,0.02,0.16,0.86,0.02,0.05,0.17,0.55,0.02,1.82,0.02,0.18,0.91,0.03,0.2,0.42,0.05,0.31,0.33,0.13,0.11,0.05,0.07,0.17,0.34,0.02,0.03,0.1,1.1,0.2,0.1,1.39,0.17,24.76,0.04,0.07,0.17,0.39,0.09,0.33,0.2,0.21,0.07,0.08,0.04,0.25,0.33,0.22,0.2,0.52,0.12,0.01,0.17,0.39,0.21,0.32,0.05,1.23,0.02,0.14,0.05,0.04,0.07,0.12,0.11,0.08,0.08,0.12,0.02,0.48,0.11,1.28,0.11,0.05,0.28,0.03,2.47,0.11,1.72,0.02,0.09,1.04,0.54,0.21,1.27,0.1,0.79,0.08,0.24,0.45,0.16,0.72,0.27,0.74,0.27,0.12,0.11,0.19,0.08,0.15,0.11,0.01,0.09,0.03,0.02,0.06,0.1,0.2,0.1,1.05,0.15,1.16,0.04,0.52,1.49,2.11,0.05,1.84,0.05,0.05,0.09,4.39,0.24,0.27,0.1,0.29,0.27,0.29,2.33,0.05,10.95,0.58,0.07,0.04,0.01,0.04,1.42,0.56,4.21,0.11,0.04,0.19,0.02,0.03,0.15,0.19,0.08,0.02,0.61,0.16,0.45,1.53,1.04,1.8,0.11,1.5,0.06,0.34,1.59,0.03,0.65,0.09,0.03,0.64,0.22,0.15,1.18,0.49,0.01,0.17,0.33,0.41,0.01,0.66,0.58,0.24,0.04,0.36,1.03,1.38,3.18,0.61,0.6,0.11,0.42,0.07,0.01,0.02,0.05,0.25,0.02,2.7,0.21,0.03,1.44,0.19,0.1,0.14,0.13,0.12,0.03,1.97,0.18,0.47,0.03,1.46,0.1,1.39,0.19,0.06,0.1,0.37,1.94,0.17,0.02,0.08,2.5,0.06,0.14,0.04,0.41,0.05,0.2,0.12,0.61,0.18,0.15,0.81,0.91,0.66,0.02,0.01,0.06,0.03,0.01,0.19,0.05,0.42,0.2,0.65,0.03,1.25,0.02,22.72,0.06,0.18,0.51,0.03,0.03,0.06,0.02,0.16,0.11,0.28,0.3,0.35,0.14,0.06,0.03,0.01,0.2,1.29,0.05,0.46,1.67,1.82,0.09,0.33,0.43,0.15,0.11,0.16,0.14,0.51,2.96,2.19,0.17,0.24,0.07,0.28,0.04,0.05,0.16,0.05,0.19,0.1,0.21,0.09,0.07,0.01,3.2,0.02,0.02,0.04,0.15,0.76,1.38,0.04,2.79,0.04,0.84,0.62,0.46,3.67,0.05,0.04,0.08,0.04,0.38,0.07,0.52,1.67,0.34,0.08,0.25,0.18,0.03,0.05,0.07,0.92,0.04,0.36,0.39,0.04,0.1,0.65,0.11,3.36,0.07,0.05,0.28,2.61,0.28,0.02,0.02,0.28,0.11,0.1,0.54,0.57,0.17,0.28,0.03,0.4,0.1,0.2,0.21,0.06,0.3,0.24,0.62,0.35,0.03,0.38,0.03,3.38,0.08,0.67,0.08,4.76,0.57,0.23,0.13,0.43,0.29,0.6,0.18,0.21,0.12,0.01,0.49,0.02,0.03,0.94,0.11,0.08,0.42,0.78,0.04,0.2,0.3,0.84,0.36,0.03,0.35,0.01,0.08,1.36,0.26,0.11,0.1,0.88,0.11,0.41,0.17,0.19,0.11,0.03,0.09,0.17,0.31,0.81,0.56,0.02,0.03,0.13,0.02,0.51,0.13,0.56,1.22,0.11,0.01,0.27,0.07,0.55,0.12,0.07,0.32,0.04,0.23,0.01,1.76,0.02,0.19,0.19,0.06,0.17,0.22,1.12,0.11,0.27,0.16,0.05,0.48,0.25,1.11,0.05,0.05,0.02,0.28,0.58,0.29,10.55,0.04,0.17,0.24,0.44,0.07,0.13,0.09,1.16,2.28,0.22,0.09,0.03,0.1,2.22,0.33,0.02,0.3,0.03,0.08,0.08,0.16,1.49,0.02,0.14,0.51,0.92,0.09,0.03,0.13,9.49,0.26,0.05,0.12,0.36,0.11,0.19,0.02,0.11,0.46,0.02,0.12,0.46,0.29,0.28,1.02,0.11,0.11,3.87,1.14,0.04,0.6,0.49,0.01,0.05,0.12,0.04,0.16,0.04,0.07,0.25,0.04,0.01,3.33,0.3,0.57,0.15,1.79,0.02,0.5,0.17,0.07,0.62,0.07,0.01,3.85,1.45,0.37,0.12,0.25,0.27,0.24,0.17,0.41,3.33,0.03,0.52,0.54,0.12,0.2,0.09,0.27,0.18,0.4,1.52,0.05,0.04,0.2,0.21,1.09,0.27,0.13,0.02,0.04,0.27,0.06,1.09,0.04,1.0,0.29,1.66,0.13,0.01,0.59,0.08,0.02,3.63,0.02,0.68,0.26,0.35,0.11,0.19,0.01,0.64,0.71,0.11,0.13,0.71,0.19,0.06,0.24,0.56,1.63,0.64,0.07,4.82,0.4,0.07,0.02,0.04,0.14,0.06,0.03,0.1,0.08,0.92,0.29,0.01,0.11,0.2,0.07,0.31,0.17,0.94,0.7,0.04,0.2,0.21,0.2,0.36,0.64,0.04,0.54,0.06,0.32,0.04,0.05,0.08,0.06,0.28,0.18,0.15,0.28,0.03,0.01,0.55,1.1,0.05,0.47,0.01,0.1,0.06,0.72,0.05,0.32,1.68,0.45,0.03,0.82,0.28,0.04,2.09,0.05,0.12,0.92,0.75,0.14,0.04,0.05,0.01,0.08,0.26,0.44,0.55,0.18,0.89,0.65,0.4,0.21,0.45,0.57,0.04,0.09,0.01,0.2,1.92,0.14,14.24,0.1,0.15,0.12,0.09,0.01,0.05,0.19,0.03,0.26,0.69,0.09,0.34,3.22,0.05,0.32,0.12,0.14,0.28,0.29,0.36,0.01,0.44,0.08,0.12,0.49,0.74,0.23,0.4,0.41,4.09,0.01,0.24,1.6,0.13,0.34,0.44,1.26,0.19,0.66,0.11,1.93,0.3,0.1,1.05,0.92,0.01,0.07,0.02,0.18,0.15,0.62,0.69,0.11,0.18,0.16,0.04,3.36,0.19,2.45,0.24,0.14,0.58,0.04,0.02,0.14,0.22,0.32,2.31,0.05,0.03,0.7,0.04,0.02,0.2,0.03,0.1,0.26,5.58,0.47,0.01,0.06,0.03,0.02,0.02,0.52,4.58,0.01,0.94,0.1,0.36,0.22,0.1,0.61,0.24,0.28,0.08,0.37,0.01,0.01,0.05,0.17,0.46,0.35,0.02,3.21,0.07,0.28,0.48,0.66,7.16,1.64,0.22,1.63,0.41,0.04,0.1,0.02,0.12,0.5,0.3,3.32,0.05,0.23,0.15,0.09,0.55,0.11,0.69,0.27,0.02,0.43,0.22,0.1,0.29,0.23,0.2,0.25,1.71,1.72,0.03,1.54,4.98,0.13,0.18,4.53,0.72,0.31,2.99,0.01,0.64,0.22,0.06,0.06,0.07,0.16,0.57,0.76,0.17,0.3,0.37,0.04,0.04,0.1,0.07,0.01,0.12,0.48,0.07,0.01,0.06,0.51,0.16,0.1,0.03,0.32,0.45,0.06,0.26,0.01,0.08,0.78,0.01,0.28,0.08,0.4,0.25,0.65,0.26,0.12,0.02,0.02,0.28,0.15,0.17,0.44,0.9,0.71,0.32,0.31,0.5,0.23,0.35,0.06,0.04,0.17,0.09,0.45,0.02,0.17,0.02,0.18,0.05,0.01,0.21,0.23,0.05,0.27,0.13,2.25,0.04,0.14,0.01,0.05,0.54,0.2,1.23,0.2,0.28,1.36,0.16,0.12,0.21,0.04,0.06,0.03,0.89,0.16,0.06,1.65,0.19,0.47,0.43,2.28,0.02,0.41,0.1,0.09,0.48,0.37,1.06,0.34,0.34,0.07,0.04,0.06,0.29,0.08,0.05,0.05,0.67,0.05,0.6,0.06,0.12,0.15,0.46,2.21,0.08,0.02,0.04,0.02,0.49,0.21,4.57,0.07,0.22,0.01,0.28,1.02,1.59,0.21,1.14,0.25,0.01,0.36,0.21,2.01,0.28,0.02,0.21,0.77,0.05,2.37,1.08,0.75,0.29,0.04,0.14,0.09,0.35,0.09,1.07,0.55,0.04,0.02,0.52,0.32,0.15,0.38,0.06,0.42,0.07,0.27,5.5,0.16,0.09,0.26,0.03,0.01,0.09,0.35,0.03,0.61,2.0,0.3,0.3,0.01,0.06,0.01,0.13,0.04,0.02,0.15,0.88,0.02,0.05,0.02,0.02,0.05,0.9,0.71,1.09,0.11,0.04,0.05,1.33,0.08,1.83,0.23,0.02,0.11,0.01,0.14,0.24,0.32,0.04,0.23,0.09,1.09,1.3,0.3,0.5,0.08,0.04,0.56,0.45,0.01,0.01,0.3,0.06,0.09,0.02,0.09,0.1,0.07,0.17,2.13,0.2,0.14,0.1,0.01,0.12,0.31,0.02,0.33,0.75,0.18,0.8,3.89,0.07,0.79,0.07,0.09,0.15,0.03,1.04,0.1,0.02,0.14,0.03,0.1,1.76,0.55,3.28,0.16,0.44,0.16,0.47,0.26,0.77,0.52,0.09,2.41,0.1,0.04,0.4,0.54,0.07,0.1,0.02,0.39,0.01,0.19,0.4,0.04,0.07,1.48,0.07,1.85,0.33,0.14,0.15,0.61,0.61,0.23,0.07,0.02,0.46,0.47,0.34,0.38,0.02,0.8,0.09,0.07,0.31,0.56,0.07,0.54,0.21,0.04,0.52,0.13,0.17,1.48,2.38,0.17,0.06,0.01,0.55,0.11,0.41,0.11,0.43,2.77,0.54,0.25,0.52,0.04,0.97,0.09,0.16,0.09,1.5,0.25,0.26,0.02,0.26,0.1,0.06,0.02,2.09,0.38,0.08,0.11,0.19,0.38,0.41,0.2,1.02,0.35,0.06,0.03,0.03,0.19,5.31,0.43,2.59,13.46,0.21,0.46,0.02,0.03,0.53,0.03,0.87,0.38,0.08,1.06,0.5,0.12,0.25,0.78,0.11,0.2,0.07,1.7,0.12,0.24,0.49,0.29,2.85,1.18,0.03,0.03,0.07,0.19,2.08,0.2,0.28,0.38,0.41,1.17,0.02,0.09,0.03,0.05,1.4,1.2,0.88,0.07,0.19,0.42,0.39,0.07,0.29,0.04,0.07,0.94,0.21,0.04,0.11,1.66,0.04,0.24,0.05,0.25,3.64,2.76,0.06,0.03,0.36,0.18,0.08,0.1,0.44,0.11,0.82,0.31,0.08,2.79,0.41,0.25,0.04,0.14,0.45,0.03,0.5,0.04,0.33,5.13,0.51,0.18,0.19,0.04,1.19,0.11,0.26,0.26,0.11,0.14,0.08,0.23,0.02,0.31,20.61,0.22,0.16,0.01,0.01,0.13,0.41,0.01,0.14,0.04,0.06,0.07,0.59,0.16,0.03,0.72,0.02,0.25,0.01,0.18,0.32,0.26,0.17,0.02,0.21,0.38,0.25,0.6,2.09,0.18,0.05,0.56,0.07,0.13,0.03,1.15,0.36,0.31,0.73,0.1,1.77,0.01,0.28,0.09,0.82,0.06,0.08,0.13,0.47,0.74,0.02,0.41,0.03,0.81,0.08,0.3,0.19,0.7,0.51,0.11,0.46,0.02,0.01,0.54,0.38,0.02,0.03,0.51,0.28,0.61,0.07,0.1,0.3,0.09,0.21,0.25,0.1,0.06,0.01,0.62,0.58,0.17,0.06,0.43,0.05,2.78,0.32,0.12,0.55,0.08,2.21,0.27,0.3,0.09,0.64,0.29,0.44,1.13,0.27,0.18,0.81,0.01,0.47,0.03,0.68,0.03,1.29,1.26,1.03,0.53,0.34,0.08,1.78,1.72,0.13,0.19,0.07,0.06,0.37,0.3,0.62,0.13,0.04,0.06,0.25,0.11,0.06,2.53,0.17,0.64,0.35,0.2,0.27,0.07,0.02,0.1,0.01,0.56,0.45,0.08,0.01,0.36,0.13,0.02,0.27,0.03,0.07,0.1,0.03,0.87,1.17,0.31,0.25,0.97,0.02,0.08,0.66,1.53,0.61,0.15,0.03,0.95,0.1,0.12,0.41,0.07,0.08,0.55,0.44,0.04,0.04,0.08,0.05,0.33,0.08,0.29,0.03,0.06,0.25,0.14,0.21,0.14,0.04,0.24,0.18,0.08,0.54,0.13,0.31,0.85,3.54,1.04,2.11,0.04,0.49,0.28,0.84,0.48,0.06,0.05,0.05,0.04,0.74,0.2,0.32,0.07,0.05,0.45,0.05,0.37,0.55,0.19,0.06,0.13,0.16,0.18,0.02,0.07,0.17,0.69,0.02,5.92,13.1,0.02,0.04,0.08,0.03,0.66,0.07,0.35,1.2,0.84,0.4,0.18,2.23,0.2,0.29,0.09,0.1,0.09,0.32,0.79,0.05,0.03,0.05,0.14,0.14,0.31,0.32,0.16,0.75,0.09,0.06,0.12,0.53,0.93,1.15,0.26,0.29,0.47,0.02,0.08,0.04,0.16,0.02,0.38,0.1,1.22,0.32,0.29,0.33,0.25,2.68,0.06,0.92,0.4,0.02,0.1,0.06,0.19,0.27,0.33,17.28,4.77,0.03,1.2,0.14,0.48,0.07,0.07,0.07,0.14,0.07,0.11,0.02,0.12,0.05,0.26,1.88,0.12,1.35,0.16,0.57,0.04,0.11,0.04,0.2,1.08,1.34,0.06,0.05,0.08,0.07,2.03,0.12,0.07,0.57,0.24,0.06,0.1,0.01,0.47,0.02,0.07,0.04,0.09,4.91,0.13,0.02,0.11,0.44,0.69,0.07,0.03,0.1,0.42,0.33,1.97,0.21,0.07,0.03,0.21,1.73,0.04,0.05,0.73,0.05,0.02,0.44,0.51,0.01,0.47,0.4,0.23,0.78,0.1,0.06,0.44,0.04,0.03,0.29,0.1,0.38,0.39,0.15,0.01,0.01,0.26,0.63,0.63,0.41,0.01,0.04,0.07,0.29,0.15,0.04,1.23,0.11,0.02,0.03,0.04,0.04,0.48,0.65,0.08,0.08,0.02,0.14,0.04,0.16,0.06,1.18,0.19,0.15,0.03,1.35,0.15,0.84,0.14,0.31,0.94,0.09,0.17,3.31,0.4,0.05,0.08,0.56,0.06,1.77,0.08,0.37,0.16,0.18,0.2,0.41,0.01,0.01,0.05,0.17,0.19,0.1,0.18,0.05,0.4,0.03,0.74,0.02,0.3,0.03,0.91,0.19,0.13,0.99,5.15,0.05,0.72,1.94,1.48,4.07,0.1,0.04,0.57,0.07,0.28,6.82,0.05,0.05,0.06,2.15,0.16,3.07,2.31,0.97,0.47,0.14,0.29,0.04,0.17,1.87,0.03,0.99,0.26,1.21,0.16,0.1,6.59,0.31,0.57,0.46,0.05,0.39,1.07,2.07,0.73,0.23,0.04,1.64,1.39,0.04,2.8,0.62,0.03,1.12,0.6,0.32,0.81,0.04,0.52,0.02,0.02,0.11,0.37,0.11,0.14,0.02,0.09,0.33,0.08,0.01,0.07,0.18,0.03,0.05,0.17,0.04,0.55,0.19,0.14,0.02,1.04,0.06,0.92,0.58,0.04,0.04,0.02,0.09,0.35,0.18,0.16,0.02,0.02,0.05,0.24,0.16,0.12,0.06,0.58,0.53,0.08,0.01,0.17,0.3,0.34,0.38,0.06,0.41,0.2,1.02,0.3,0.18,0.02,0.24,0.87,0.3,0.2,0.38,0.04,0.01,0.57,1.73,0.12,0.1,0.15,0.2,0.2,1.63,0.15,0.29,0.13,0.01,0.35,0.06,0.15,0.01,0.04,0.76,0.07,0.86,0.09,0.18,0.34,0.6,0.08,0.02,0.06,0.03,0.39,0.18,2.28,0.02,0.16,0.16,0.1,0.11,1.15,0.2,0.01,0.03,0.02,0.09,0.03,0.27,0.09,0.09,0.07,0.09,0.02,0.47,0.56,0.02,0.02,0.19,0.12,0.01,0.01,0.02,0.03,0.02,0.38,0.1,1.46,0.01,0.03,0.05,0.2,0.64,0.42,0.04,0.12,0.13,0.47,0.12,1.05,0.09,0.7,0.08,0.19,0.05,2.05,0.08,0.12,0.15,0.03,0.31,0.02,0.3,0.05,0.16,0.19,0.86,0.27,0.01,0.89,0.18,0.44,0.12,0.45,0.05,0.05,0.09,0.04,0.14,0.47,0.15,0.17,0.02,0.03,0.06,0.07,0.4,0.02,0.05,0.23,0.02,0.25,14.64,0.03,0.24,0.31,0.85,0.27,0.98,0.33,0.16,0.05,3.17,0.75,0.02,0.02,0.06,0.01,0.01,0.11,0.61,3.13,2.8,0.8,0.02,0.43,0.05,0.07,0.09,0.12,1.79,1.45,2.39,0.65,0.05,0.08,0.02,21.82,9.52,0.09,0.03,0.1,0.01,0.02,0.04,0.49,4.23,0.79,0.17,0.46,0.28,0.08,0.05,0.02,0.04,0.95,0.71,1.74,0.08,0.25,0.26,0.11,0.23,0.2,0.01,0.39,0.29,0.03,0.28,0.3,0.03,0.05,0.47,0.47,0.22,0.17,0.17,0.64,0.29,0.11,0.13,0.13,0.05,0.57,0.13,0.01,0.23,1.11,1.92,0.11,1.43,1.13,0.7,2.07,0.17,1.53,0.16,0.17,0.72,0.14,0.66,0.09,0.36,0.38,1.09,2.54,0.08,0.67,0.08,0.02,0.05,0.16,0.89,0.33,0.06,0.07,0.05,0.07,0.64,6.36,0.08,0.43,0.01,0.01,0.64,0.01,0.07,0.08,11.02,0.14,0.02,0.04,0.04,0.8,0.05,2.08,0.8,0.07,0.58,4.61,0.21,0.02,1.55,0.12,0.06,0.36,1.41,0.05,0.44,0.03,0.04,0.05,0.37,0.26,6.81,0.21,0.67,0.05,1.77,0.53,4.45,0.11,0.03,0.57,0.43,0.03,0.49,0.76,0.1,0.24,0.06,0.03,0.53,0.1,2.78,1.13,0.18,0.1,0.06,0.27,3.38,0.46,0.03,0.33,0.1,0.36,0.04,0.36,0.31,1.35,0.85,1.25,0.15,2.83,0.48,0.02,0.02,0.01,0.36,0.49,0.02,2.94,0.15,0.63,0.06,1.67,0.2,0.01,0.04,5.23,0.59,0.08,0.13,0.06,0.3,0.47,0.25,0.02,0.06,0.38,0.24,0.01,0.17,0.01,0.18,1.31,0.32,0.01,0.06,2.22,0.43,0.02,0.75,0.14,0.21,0.4,0.13,0.08,0.1,0.07,0.01,0.18,0.01,2.83,0.21,0.46,0.07,0.28,0.08,0.14,0.15,1.46,0.14,0.21,0.18,0.07,0.47,0.03,0.55,2.05,0.16,0.02,0.09,0.05,0.61,0.08,0.12,0.02,0.7,1.92,0.9,2.67,0.04,0.15,0.11,0.45,0.06,0.31,0.92,0.03,0.34,0.03,0.08,1.91,0.23,0.05,1.66,0.46,0.19,0.23,1.16,0.31,3.52,0.84,0.02,0.24,14.76,0.69,0.22,0.41,0.3,1.33,0.27,28.31,0.04,0.46,0.29,0.32,0.07,0.07,0.02,0.19,0.46,0.1,0.03,0.1,0.23,0.01,0.02,0.71,0.15,0.75,0.95,4.25,0.07,0.03,0.02,0.35,0.61,0.62,0.36,0.52,0.07,0.3,0.5,0.45,0.17,0.74,0.12,0.06,0.58,0.04,0.05,0.2,0.05,0.38,0.48,0.04,0.14,2.09,0.46,0.02,0.09,0.12,0.56,0.58,0.16,0.54,0.16,0.19,1.46,0.08,0.13,0.96,0.05,0.11,0.24,0.04,0.08,0.27,0.07,0.28,0.01,0.06,0.89,0.27,2.56,0.76,0.63,0.12,0.03,2.48,0.3,0.07,0.04,0.09,0.09,0.12,0.08,0.04,0.13,0.06,0.38,0.78,0.07,0.27,0.04,0.09,0.01,0.21,0.09,0.56,0.2,0.12,0.06,0.24,0.06,0.48,0.04,1.81,0.89,0.26,0.05,1.68,0.05,0.02,0.32,0.07,0.03,0.85,0.16,1.5,0.01,0.04,0.53,0.01,0.18,0.31,0.11,0.39,0.04,0.42,0.02,0.62,0.13,0.02,0.11,0.12,0.1,0.06,0.54,0.44,0.06,0.62,0.2,0.03,1.3,0.06,0.46,0.58,0.06,0.11,0.11,0.05,0.57,0.03,0.26,0.33,0.59,0.52,0.17,0.08,0.27,0.06,0.02,0.96,2.15,0.46,0.25,3.02,0.19,0.4,0.07,0.07,0.1,0.02,0.1,0.29,0.02,3.82,0.04,0.02,0.06,0.75,0.71,0.3,0.23,1.7,1.15,0.16,0.03,0.45,0.24,1.78,0.09,0.03,0.14,0.41,0.3,0.1,0.32,0.08,0.44,4.17,0.13,0.87,0.2,0.28,0.04,8.76,0.1,0.1,0.04,0.24,0.09,1.35,0.03,2.62,0.02,0.14,0.01,0.02,0.16,0.03,0.35,0.28,0.08,0.44,0.26,0.15,0.09,0.19,0.03,0.68,0.21,0.09,0.66,0.03,0.02,0.05,0.07,1.1,0.26,0.01,2.11,0.12,0.02,0.76,0.75,0.06,0.31,0.32,0.03,0.46,0.05,0.32,0.16,0.02,0.26,0.3,0.03,0.23,0.02,0.05,0.74,1.23,0.59,0.32,0.66,1.25,0.02,0.02,0.02,1.95,0.06,0.06,0.06,0.85,0.02,0.09,0.71,1.27,0.37,1.93,0.04,2.0,0.01,0.07,0.08,0.02,1.0,0.03,0.01,0.3,1.17,0.15,0.07,0.11,0.16,0.55,0.21,0.15,0.07,0.56,0.09,2.49,0.22,0.11,0.13,0.06,0.03,0.28,0.02,0.04,0.75,1.45,0.22,1.38,0.13,0.59,1.96,0.03,0.14,0.68,0.51,0.06,1.56,0.35,0.15,1.12,0.25,1.21,0.04,0.08,0.01,0.02,0.83,0.18,0.28,1.12,1.34,0.03,0.02,2.0,3.07,2.2,0.42,0.01,0.02,0.66,0.03,0.02,0.05,3.65,0.97,0.35,1.86,0.04,0.06,0.17,1.96,1.41,0.02,0.13,0.42,2.35,1.09,1.29,0.91,0.01,0.15,4.79,0.32,0.03,0.33,0.05,0.75,0.38,0.24,0.02,0.05,0.43,0.3,1.07,0.54,0.05,0.53,0.07,0.75,0.32,0.48,0.12,0.06,0.04,0.11,0.16,0.86,0.33,0.91,0.12,0.16,0.54,0.12,0.01,0.27,0.17,7.37,0.89,0.28,0.39,0.39,0.12,0.14,0.13,0.02,1.13,0.36,0.04,0.02,0.41,0.51,0.11,0.04,0.58,0.16,0.11,0.11,0.2,0.16,0.88,0.6,0.23,0.45,0.02,4.94,0.17,4.31,0.01,0.59,0.27,0.57,0.02,0.17,0.02,0.14,0.49,0.13,0.03,0.04,0.72,0.04,0.63,0.17,0.22,0.7,0.06,0.81,0.02,0.18,0.57,0.2,0.01,0.04,0.03,0.01,0.05,0.12,0.02,0.99,0.51,0.29,0.27,0.11,0.11,0.08,1.61,0.41,0.04,0.46,0.15,0.02,0.16,0.82,0.09,0.24,0.09,0.14,0.5,0.11,0.26,0.06,0.13,2.06,0.02,0.62,0.03,0.06,0.01,0.05,0.27,0.25,1.5,0.86,0.08,0.52,0.26,0.03,0.02,0.08,2.88,1.68,0.13,0.82,0.4,0.06,0.02,0.06,0.1,0.06,0.4,1.52,0.43,0.02,0.27,0.16,0.06,0.76,0.12,0.03,0.39,0.03,0.1,0.47,0.3,0.13,0.1,0.04,1.24,0.58,0.21,0.72,0.94,0.03,0.03,0.43,0.28,0.19,0.02,0.33,0.05,0.09,0.14,0.46,0.59,2.1,0.25,0.18,0.29,0.04,0.36,0.03,0.36,0.03,0.09,0.16,0.08,0.02,0.07,0.35,11.89,0.01,0.39,1.11,0.03,0.18,0.05,0.02,0.57,0.07,0.02,0.02,0.02,0.11,0.21,0.03,0.09,0.01,0.03,0.19,0.06,0.23,3.66,3.89,0.02,0.29,1.83,0.04,0.22,1.25,0.02,0.44,0.17,1.18,0.44,0.45,0.17,0.43,0.16,0.45,0.19,0.76,0.09,0.11,0.73,0.41,0.14,1.27,0.24,0.08,0.09,0.25,0.42,0.76,0.34,1.2,0.14,0.17,0.11,0.26,0.32,0.03,0.06,3.08,0.58,0.08,0.2,0.13,0.29,0.15,0.38,0.29,0.07,3.17,0.22,4.01,0.29,0.89,0.03,0.28,2.41,0.11,0.04,0.06,0.1,0.1,0.29,0.19,0.13,0.07,0.01,1.09,0.14,2.12,0.6,0.08,2.35,1.82,0.25,0.02,0.05,0.33,0.1,0.11,0.08,1.44,0.28,0.07,0.39,0.49,0.09,0.25,1.14,0.11,4.44,0.04,0.5,0.01,0.05,0.05,0.6,0.09,0.17,0.31,0.05,0.13,0.02,1.08,0.15,0.7,0.18,0.31,0.03,0.1,0.11,0.02,0.6,0.82,0.07,0.09,0.89,0.06,0.13,0.08,0.02,0.01,0.2,0.63,0.54,0.01,0.08,0.89,0.05,0.33,0.6,0.07,0.03,1.42,0.28,0.26,0.98,1.86,0.08,0.03,0.63,0.05,0.03,0.11,0.13,2.93,2.52,0.22,0.17,1.86,0.01,0.12,0.38,0.24,0.11,0.11,0.47,0.05,0.28,0.03,0.79,0.62,0.01,0.08,1.45,0.42,0.8,0.35,0.53,0.14,0.12,0.08,1.06,0.27,0.02,0.06,0.16,0.09,0.02,0.03,0.14,0.25,0.01,0.71,1.69,0.34,1.32,0.16,15.3,1.14,0.07,2.05,0.02,0.41,0.15,0.39,0.32,0.7,0.02,0.06,0.08,1.42,0.06,0.2,0.45,0.54,0.74,0.06,2.23,0.01,0.44,0.08,0.13,0.01,0.01,0.11,0.02,0.93,0.29,0.08,0.1,0.26,0.01,0.13,0.04,0.14,0.24,0.36,0.09,0.03,0.36,0.17,0.05,0.31,0.93,0.22,0.85,0.01,0.05,0.03,0.01,0.35,1.49,0.02,1.25,0.02,0.19,0.48,0.02,0.01,0.03,0.41,0.08,0.01,0.57,1.8,2.44,0.05,0.04,0.06,0.05,1.44,0.19,0.01,0.38,0.5,2.63,0.17,0.04,0.78,0.35,0.07,3.69,2.94,0.07,0.08,0.02,0.32,0.37,1.48,1.01,0.12,0.2,0.45,0.19,0.78,0.2,2.68,5.55,0.05,0.04,0.3,0.23,3.33,0.41,0.04,0.71,0.15,4.42,0.13,0.04,0.03,0.18,0.02,0.44,0.68,0.02,0.11,0.14,0.14,0.09,0.76,0.51,0.3,0.16,0.09,0.02,1.09,0.33,0.02,0.06,0.03,0.03,0.59,0.03,0.03,0.02,0.21,0.2,0.03,0.01,0.16,0.03,0.01,0.13,0.1,0.58,0.22,0.21,0.65,0.14,0.04,0.04,0.7,3.05,0.01,82.74,0.41,0.06,0.01,0.03,0.19,0.03,0.03,0.94,0.39,0.14,1.05,0.02,0.02,0.15,0.02,0.02,0.31,0.06,0.03,0.08,3.6,0.03,0.14,0.17,0.06,0.38,0.92,0.5,0.11,0.36,0.22,0.33,2.48,0.24,0.06,0.26,2.58,0.03,0.25,0.06,0.21,1.01,0.54,0.24,0.03,0.53,0.02,0.15,0.76,0.01,0.03,0.06,0.05,0.03,0.02,0.5,1.58,0.02,1.27,0.33,1.01,0.05,0.76,1.22,0.02,0.02,0.28,0.14,0.04,0.04,0.01,0.27,0.2,0.14,0.01,1.58,0.35,0.28,0.59,0.1,2.69,0.2,0.91,0.11,0.11,0.12,0.93,0.27,0.11,3.65,1.66,0.21,1.19,0.61,0.03,0.03,0.02,0.02,0.01,0.15,0.26,0.06,1.47,0.12,0.28,0.04,0.07,0.47,0.41,1.86,8.42,0.17,0.08,1.33,0.09,0.27,0.01,8.33,0.48,0.11,0.17,0.16,2.41,0.05,0.34,0.01,0.04,1.63,0.26,0.97,0.54,0.13,0.42,0.02,0.09,0.14,0.12,1.73,0.15,0.1,0.08,0.22,0.15,0.01,0.07,0.19,0.02,0.02,0.59,0.02,0.45,0.9,0.2,0.17,0.44,0.56,0.04,0.41,0.18,0.23,0.26,0.04,1.09,0.24,0.16,0.43,0.04,0.15,0.35,2.17,0.19,0.61,0.67,0.23,0.17,1.35,0.14,1.22,0.14,0.03,0.04,0.08,0.02,0.16,1.31,0.57,0.34,0.24,0.69,1.71,0.09,0.2,0.03,0.52,0.24,0.34,0.08,0.3,0.45,0.24,0.6,0.07,0.26,0.23,0.1,0.57,0.08,0.62,0.35,0.4,0.28,0.04,0.25,6.31,0.25,0.02,0.58,0.07,0.34,0.19,0.04,0.01,0.07,0.2,0.8,0.06,0.43,0.21,1.06,0.04,0.04,0.01,0.19,4.58,0.57,0.03,1.37,0.22,0.45,0.16,0.32,0.36,0.02,0.19,0.01,0.1,0.46,0.51,0.19,0.06,0.49,0.6,0.07,0.18,0.05,3.84,0.13,0.12,0.12,0.53,0.56,12.27,0.07,0.17,0.05,0.01,0.08,0.2,0.58,0.07,0.07,0.05,0.68,0.65,0.16,1.11,0.05,3.5,6.5,2.52,0.14,0.01,2.05,0.12,0.06,0.05,0.27,0.04,0.06,1.42,0.02,0.5,0.01,0.14,0.24,0.11,0.22,0.69,0.17,0.05,0.23,0.06,0.02,0.22,0.17,0.33,0.99,0.22,0.01,2.09,1.06,1.35,0.91,0.07,0.13,0.11,0.14,0.76,0.38,0.52,0.12,0.11,0.89,0.09,0.02,0.27,0.28,0.02,4.06,0.49,0.01,7.72,0.76,0.03,1.53,0.47,0.34,0.02,0.5,0.06,0.05,0.5,0.08,0.02,0.27,0.07,0.22,0.59,0.1,0.31,0.1,0.36,0.55,0.04,0.17,1.3,0.54,0.13,0.09,0.1,0.13,0.12,0.11,0.02,0.71,0.02,0.05,0.03,0.02,0.02,0.08,0.26,0.14,0.43,0.01,0.41,0.02,0.15,0.05,0.18,0.09,1.99,0.19,0.57,0.02,0.17,1.71,0.05,0.96,0.08,0.13,0.06,0.03,0.9,0.01,4.1,0.34,0.06,0.37,0.84,0.05,0.8,0.36,0.25,0.63,0.39,0.02,0.16,0.36,0.25,2.79,0.08,1.5,0.11,5.19,0.27,0.49,0.08,1.16,0.02,2.2,0.03,0.14,0.16,0.22,0.16,0.12,0.06,0.15,0.02,0.05,0.38,0.2,0.01,1.7,3.52,0.04,0.9,0.24,0.14,1.68,0.58,0.1,2.01,1.08,0.24,0.34,0.38,0.05,0.12,0.36,0.89,0.3,0.02,1.47,0.19,0.11,1.52,0.13,0.03,0.03,0.76,0.92,0.11,1.13,0.08,0.09,0.55,1.69,0.14,0.15,0.67,0.06,0.89,0.27,0.04,0.27,0.11,0.07,0.24,0.12,1.01,2.79,0.05,0.03,0.45,0.04,1.62,0.21,0.41,0.02,0.01,0.8,0.1,0.45,0.33,0.02,1.17,0.38,0.11,0.13,0.97,0.02,1.67,0.6,0.2,0.2,0.23,0.48,0.02,0.02,0.1,0.04,0.02,0.21,0.39,0.89,0.02,0.2,0.2,0.06,0.48,0.15,0.07,0.05,0.06,0.39,0.02,0.05,0.06,0.07,0.02,0.04,0.25,0.08,0.08,0.18,0.68,1.16,0.02,0.02,0.13,0.35,0.96,0.14,0.12,0.28,0.01,0.89,0.13,0.02,2.1,0.01,0.02,0.14,0.72,0.01,0.09,0.02,0.65,0.63,0.03,0.1,1.05,0.05,0.05,0.28,0.18,0.46,0.25,0.06,1.47,0.36,0.05,0.23,0.02,0.05,2.28,0.25,0.92,0.71,0.06,0.15,0.26,0.01,0.03,0.5,11.98,0.45,0.07,0.12,0.41,0.2,0.2,0.12,0.28,0.57,1.47,0.34,0.02,0.71,0.06,0.46,0.09,0.02,0.12,0.32,1.22,0.1,0.03,0.01,0.02,0.18,0.06,0.03,0.19,1.5,0.63,0.93,0.07,0.02,0.11,1.46,0.27,0.16,0.01,0.49,0.04,0.11,0.07,0.08,0.08,0.02,0.23,0.01,0.03,0.83,0.03,0.04,0.21,0.61,0.53,0.04,0.16,0.6,1.55,0.04,0.03,0.19,1.54,0.16,0.22,0.04,0.13,0.1,0.02,0.03,0.1,0.08,0.04,0.5,0.08,0.06,0.68,0.27,0.08,0.31,0.91,0.14,0.83,0.2,0.14,1.02,0.42,0.16,0.08,0.84,0.25,0.11,0.05,0.02,0.01,0.28,0.04,0.02,0.58,0.09,2.17,0.1,0.05,0.5,0.27,1.54,0.94,0.05,0.05,0.2,0.09,0.08,0.28,0.24,0.04,0.04,0.79,0.35,0.03,0.05,0.01,0.22,0.02,0.49,1.11,0.05,0.17,0.02,0.1,1.58,0.39,0.04,0.42,0.17,0.76,0.43,0.01,0.04,0.22,0.11,0.12,0.02,0.06,0.04,0.56,0.26,0.06,3.83,0.81,0.33,0.09,0.24,1.71,0.29,0.06,0.14,0.23,0.04,0.12,0.26,0.26,0.09,0.15,0.01,0.01,0.05,0.48,0.42,0.15,0.8,0.03,0.01,1.64,0.43,0.66,0.2,0.65,0.1,0.03,0.09,0.23,0.05,1.38,0.22,2.82,0.02,0.09,0.43,1.29,0.19,0.3,0.11,0.07,0.02,0.03,0.02,0.07,0.03,0.05,0.27,0.03,0.3,0.18,0.08,0.02,0.04,0.05,0.1,0.04,0.04,0.28,0.28,1.23,0.1,0.21,0.11,0.47,0.09,0.01,0.12,0.02,0.09,0.01,0.66,0.06,0.41,0.63,0.25,0.39,0.1,0.03,0.01,0.02,0.2,0.09,0.33,0.16,0.05,0.13,0.53,0.02,0.02,0.04,0.02,0.01,0.15,0.67,0.02,0.05,0.06,0.13,0.22,0.02,2.07,0.53,0.13,0.16,0.22,1.03,0.03,0.06,0.04,0.1,0.06,0.13,1.14,0.46,0.11,0.05,0.73,0.45,0.1,0.12,0.68,0.03,0.06,2.9,0.84,1.32,0.66,0.04,0.26,0.04,0.41,0.02,0.16,0.08,1.46,0.06,0.47,0.69,0.12,0.05,0.16,1.37,0.63,0.11,0.11,0.01,0.28,0.07,0.16,0.01,1.21,0.37,3.38,0.06,0.19,0.45,0.27,0.14,2.38,0.04,0.66,0.18,0.16,0.32,0.02,0.32,6.11,0.38,0.03,1.94,0.09,0.03,0.14,0.08,0.34,0.33,0.11,0.66,0.33,0.59,0.3,0.24,0.02,0.03,0.54,0.17,0.02,0.18,0.08,1.69,0.05,0.1,0.01,0.01,0.05,1.83,0.02,0.25,0.11,1.34,0.06,0.04,0.08,0.05,0.43,0.01,0.3,0.08,1.56,0.4,0.41,0.03,0.05,0.06,0.02,0.28,0.05,0.23,0.24,0.27,0.08,0.19,0.58,1.08,0.04,0.59,0.22,0.03,0.02,0.09,0.67,0.22,0.25,0.11,0.05,0.44,0.59,0.03,0.06,0.03,0.05,0.11,1.73,0.01,0.07,2.97,0.29,0.12,0.02,0.06,0.09,0.34,0.17,0.06,0.42,0.06,1.42,0.02,0.03,0.08,0.19,0.13,0.13,0.33,0.23,0.72,3.27,0.02,0.33,0.13,0.11,0.09,0.04,0.26,0.09,0.12,0.39,0.22,0.15,0.08,0.07,0.05,0.27,1.07,0.72,0.06,0.35,16.15,0.28,9.87,0.07,0.18,0.27,2.57,13.04,0.38,0.02,0.26,1.08,0.15,1.23,0.26,0.21,0.23,0.03,0.21,0.03,0.14,1.49,1.32,0.01,0.26,0.96,0.65,0.01,0.33,0.25,1.85,0.1,0.4,0.22,0.58,0.13,0.66,0.07,0.05,0.09,0.46,0.06,0.01,0.27,0.01,0.05,0.4,0.04,0.08,0.33,1.21,0.37,0.15,0.31,0.02,0.08,0.33,0.01,0.03,0.13,0.07,0.86,0.84,0.22,0.14,0.04,0.23,0.1,0.08,0.41,0.02,0.26,0.27,1.45,0.44,0.13,0.31,0.17,2.68,0.96,4.88,0.04,0.24,0.06,0.01,0.02,0.03,0.02,0.13,0.01,0.03,0.01,0.17,0.03,0.11,2.79,0.06,0.32,0.62,0.08,0.41,1.03,0.12,0.1,0.11,0.03,0.13,0.23,1.26,0.87,0.02,0.2,0.12,0.03,0.29,0.01,0.3,0.02,0.11,0.48,0.15,2.37,0.08,1.19,0.29,0.02,0.63,0.03,0.05,0.1,0.05,0.04,0.47,0.12,0.5,0.02,0.09,0.09,0.24,0.36,0.07,0.06,0.11,0.27,0.11,1.37,0.24,0.03,0.42,0.13,0.04,0.02,22.0,0.08,0.56,0.11,2.11,3.15,0.16,0.17,0.6,0.12,0.17,0.17,0.16,0.94,0.05,0.02,0.11,0.12,1.12,2.69,0.13,0.06,0.11,0.14,0.06,6.05,0.05,0.08,0.11,0.07,0.56,0.16,0.31,0.38,0.04,0.09,0.03,0.1,0.09,0.02,0.05,0.86,0.25,0.03,0.07,0.02,0.05,0.02,1.45,0.06,0.22,0.42,0.07,0.98,0.21,0.4,0.17,0.02,0.19,0.06,0.13,0.01,0.03,0.25,1.07,0.05,0.08,4.19,0.02,0.03,0.28,0.37,0.16,0.01,0.09,0.13,0.27,3.5,0.3,1.19,0.06,0.81,0.01,0.26,0.19,0.19,0.1,3.99,1.93,0.02,1.88,0.09,0.1,0.23,1.32,1.59,1.35,0.02,5.17,0.25,0.04,0.47,0.09,0.07,1.14,0.01,0.37,0.53,1.51,0.04,0.09,1.01,0.31,0.03,3.04,0.15,0.19,0.2,0.05,0.02,0.02,0.24,0.06,0.08,2.42,0.03,0.03,0.73,0.65,0.06,0.03,0.16,0.11,0.36,6.73,0.06,0.19,0.59,0.04,0.24,0.12,0.02,0.48,0.63,18.36,0.49,0.06,0.09,0.09,0.12,1.46,0.33,0.1,1.38,0.02,0.91,0.16,0.02,0.03,0.01,0.08,0.14,0.06,0.06,1.0,0.64,0.4,0.28,2.4,0.54,0.02,0.63,2.3,0.14,0.22,0.01,0.83,0.09,0.1,0.11,0.23,0.34,0.93,0.03,0.35,0.01,0.96,0.04,0.22,0.07,0.11,1.49,0.12,0.14,0.17,0.19,0.29,8.49,0.46,1.15,0.24,0.1,0.13,0.08,0.01,4.19,0.54,0.14,0.54,0.75,0.4,1.06,0.16,1.74,1.46,0.09,0.54,0.25,0.22,0.08,0.03,0.28,0.09,0.1,0.12,0.19,1.86,0.06,0.53,0.13,0.15,0.08,0.07,0.44,0.03,2.77,0.15,1.04,0.36,0.12,0.55,0.77,0.6,0.09,0.21,0.26,0.33,0.96,0.37,0.07,1.21,0.58,1.08,1.11,0.55,0.09,0.23,2.29,2.24,2.17,0.76,2.89,0.62,0.05,0.04,0.32,0.19,0.02,0.17,1.1,0.06,0.1,1.38,0.28,0.02,1.76,1.07,0.05,0.64,0.31,0.33,0.24,0.09,0.14,0.07,0.14,0.09,0.35,0.02,0.02,0.03,0.26,0.01,1.17,0.1,1.86,0.01,0.19,0.03,0.03,0.5,0.04,0.02,0.19,5.95,4.05,0.24,0.04,0.02,6.96,0.09,0.1,1.29,0.17,0.01,0.58,0.06,0.03,1.24,0.53,0.29,0.05,0.02,1.09,0.36,0.08,0.1,0.05,0.04,0.08,0.13,1.25,0.05,0.35,0.02,0.05,0.24,0.17,0.04,0.01,0.1,0.07,1.46,0.21,0.05,0.22,1.71,0.22,0.68,0.09,1.05,1.41,0.13,1.26,0.12,0.21,0.55,0.1,0.42,0.29,0.44,0.03,1.56,0.19,0.05,0.42,0.07,0.12,1.06,0.01,0.19,1.19,0.32,0.5,0.14,0.07,0.09,0.02,0.08,0.14,0.56,0.08,0.07,0.19,0.19,0.01,0.09,0.72,0.02,0.04,0.02,0.06,0.37,0.09,0.2,0.02,0.45,0.05,0.13,3.39,0.21,0.47,0.22,0.31,0.22,0.31,0.03,0.02,0.33,0.05,0.17,0.1,0.56,0.56,23.42,0.06,0.21,0.23,0.13,0.08,0.15,0.04,0.13,0.18,0.29,1.77,0.2,0.02,0.33,0.06,0.42,2.11,0.24,0.03,0.15,0.07,0.5,0.35,0.33,0.31,0.12,0.06,0.32,0.22,0.01,0.02,0.08,0.16,0.02,0.02,0.08,1.56,2.41,2.08,0.08,0.35,0.42,0.06,1.23,0.1,0.36,0.03,1.92,0.47,0.21,0.21,0.67,0.05,0.96,0.01,0.1,0.04,3.34,0.03,0.83,0.11,0.13,0.28,0.11,1.97,0.07,0.07,0.38,0.27,0.43,0.12,0.06,0.67,4.7,0.15,1.33,0.01,1.94,0.01,0.11,0.14,0.05,0.02,0.03,0.49,0.24,1.74,0.03,0.41,0.66,1.89,0.12,0.32,0.05,0.41,0.44,0.07,1.06,0.49,0.07,0.17,0.03,0.64,0.21,0.14,0.16,0.01,0.2,0.03,0.2,0.06,1.51,0.3,0.04,0.29,0.07,0.16,0.23,6.24,0.21,0.18,0.5,0.13,2.99,0.12,0.01,3.02,0.05,0.44,0.3,0.08,0.03,0.05,0.03,0.03,0.13,0.06,0.76,0.02,0.28,0.03,0.92,0.13,0.58,0.04,0.55,0.01,0.2,0.04,0.01,0.48,0.06,0.23,0.07,0.26,0.31,0.13,0.38,0.46,0.02,0.05,0.28,0.37,0.12,0.08,0.23,0.06,0.74,0.1,1.35,0.15,0.01,0.02,0.52,1.05,0.05,1.51,0.52,0.02,0.14,0.29,0.07,0.41,0.2,0.71,0.12,0.04,0.62,0.3,0.01,0.03,0.2,0.12,0.1,0.34,0.32,0.03,0.35,0.03,0.06,0.05,0.2,0.05,0.94,0.07,0.28,0.47,1.96,0.26,0.37,0.05,0.34,0.15,0.09,0.48,0.27,0.2,0.73,0.14,0.66,0.05,1.3,0.2,1.45,0.04,0.27,0.23,0.6,0.14,0.08,0.05,0.39,3.32,0.94,0.12,0.14,0.39,10.42,0.04,0.2,0.2,6.95,0.02,0.26,0.08,0.26,0.05,0.02,7.84,0.18,0.14,0.02,0.63,0.12,0.01,0.11,0.14,0.09,0.06,0.45,0.05,0.15,0.05,0.03,0.17,0.22,2.62,0.03,0.08,0.23,0.14,0.5,0.09,0.6,0.89,0.4,0.09,0.24,0.09,0.17,0.22,0.57,0.25,0.11,0.67,0.1,0.27,0.66,0.04,0.07,0.03,0.32,0.04,0.09,0.38,1.09,0.6,0.06,0.24,0.82,0.07,0.09,2.06,0.63,0.13,2.05,0.1,0.05,0.26,0.19,0.32,0.75,0.04,0.15,0.85,0.05,2.19,0.2,1.68,0.42,1.16,0.29,0.08,0.08,0.02,0.18,0.12,0.24,1.33,0.06,0.19,0.19,0.03,1.13,0.14,0.97,0.2,0.68,0.02,0.12,0.03,0.51,0.49,2.9,0.03,0.39,0.07,0.01,1.03,2.6,0.09,0.29,1.23,0.91,0.01,0.22,0.46,2.61,0.07,0.21,0.04,0.08,0.82,0.03,1.09,0.01,0.34,0.32,1.91,0.22,0.02,0.12,0.2,0.02,0.18,4.64,0.35,0.04,0.4,0.09,0.24,0.37,1.92,0.03,0.02,0.12,0.31,1.15,0.03,0.56,1.47,0.4,0.2,0.02,0.05,0.08,0.15,0.3,1.77,0.12,0.85,3.43,0.02,0.03,0.17,0.32,0.02,0.13,0.12,0.1,0.18,0.08,0.83,0.13,0.54,0.08,0.02,0.09,0.08,0.11,0.1,0.18,0.05,0.06,0.02,0.12,0.19,0.12,0.11,0.04,5.12,0.05,0.29,0.14,0.02,1.68,0.18,1.19,0.16,0.2,0.02,2.84,0.42,0.04,0.11,0.01,3.23,0.11,0.13,1.69,1.6,0.82,0.21,0.03,0.53,0.05,0.04,0.54,0.42,0.15,0.12,0.08,0.01,0.1,0.09,0.23,0.04,0.21,0.11,0.22,0.42,0.22,1.75,0.04,0.77,0.2,0.05,0.56,0.94,0.16,0.02,0.31,0.09,0.14,0.28,0.3,0.08,0.6,9.88,0.08,0.19,0.1,0.11,0.08,0.44,0.41,0.02,0.01,0.46,0.34,0.96,0.09,0.5,0.12,0.11,0.02,0.08,0.05,0.09,0.11,0.19,0.37,0.56,0.33,0.42,0.11,0.72,0.09,0.27,0.43,0.09,0.11,0.01,0.07,0.07,0.04,0.04,0.1,0.27,0.03,0.64,0.16,0.32,0.69,0.15,0.08,0.14,0.02,1.51,0.03,0.13,1.07,0.43,0.04,0.98,0.92,0.44,0.22,0.02,0.52,0.39,0.76,0.02,3.61,0.05,0.49,0.12,0.07,0.03,0.26,0.44,0.06,0.66,0.36,0.32,1.32,0.01,0.6,0.24,0.17,0.11,0.16,2.85,0.01,0.2,0.34,0.92,2.49,0.42,0.05,0.67,0.23,0.65,1.22,1.08,0.1,0.39,0.25,0.43,0.02,0.04,1.06,1.66,0.59,0.58,0.06,0.02,0.03,0.15,1.49,2.83,1.55,0.13,6.9,0.04,0.9,0.06,0.07,0.06,0.1,0.31,0.59,0.87,0.05,0.09,0.22,2.03,0.28,0.04,0.01,0.09,0.95,0.07,0.01,0.13,2.07,0.21,1.1,0.42,0.27,0.61,0.06,0.16,0.05,0.53,0.03,0.01,0.12,0.25,0.67,0.15,0.31,0.02,0.06,0.14,0.04,0.03,1.32,0.07,1.36,2.2,1.26,0.06,0.02,1.94,0.32,0.07,0.25,3.87,0.09,1.44,0.25,0.4,0.13,0.14,0.07,0.02,0.1,0.43,0.58,0.08,0.05,0.5,0.06,0.1,0.36,5.12,0.54,0.02,0.19,1.06,0.01,0.08,0.1,0.08,0.07,0.07,0.2,0.07,0.67,0.02,0.24,0.08,0.05,0.12,0.41,0.01,0.35,0.45,0.15,0.2,0.07,0.02,0.04,1.03,0.11,0.52,4.83,0.02,0.41,2.44,0.19,0.99,0.06,0.05,0.05,0.16,0.1,0.19,0.01,0.16,0.11,0.42,0.12,0.02,0.79,0.38,0.29,0.16,0.05,0.26,0.26,0.4,0.03,0.15,0.18,0.56,0.02,0.07,0.17,0.11,0.39,1.6,0.05,0.07,0.24,0.14,0.09,0.17,0.15,0.03,0.08,0.2,0.13,0.04,0.22,0.27,0.05,0.09,14.64,0.01,0.02,0.05,0.33,0.05,0.02,0.12,0.02,0.11,0.24,0.19,1.47,1.1,0.06,0.75,1.8,0.09,3.02,0.17,0.06,0.1,0.25,0.02,0.01,0.04,0.04,0.03,9.59,1.46,0.19,0.51,1.6,0.19,0.26,0.4,0.19,0.42,0.2,0.02,0.14,0.07,0.08,0.02,0.02,0.04,0.07,1.32,0.02,0.01,0.1,0.03,0.02,0.08,0.22,0.26,1.14,0.06,0.01,0.16,1.31,0.02,0.13,0.47,0.01,0.09,2.43,0.16,0.07,0.18,0.23,0.02,0.08,0.42,2.25,0.07,0.05,0.19,0.34,0.05,0.32,0.22,0.01,0.03,0.37,0.01,0.01,0.64,0.1,0.26,0.08,0.19,0.2,0.19,0.04,0.06,0.04,0.02,0.1,0.03,0.69,0.68,0.05,0.02,0.23,0.01,0.03,0.13,0.06,0.95,0.19,0.03,0.38,0.83,1.27,0.11,0.6,0.01,0.04,0.72,0.17,0.01,0.42,0.04,0.13,0.02,0.72,1.3,0.11,0.15,0.04,1.04,0.02,0.05,0.2,0.14,0.16,0.23,0.18,0.45,1.47,0.16,0.14,1.17,2.42,0.23,0.02,0.13,1.19,0.02,1.45,0.24,0.68,3.67,0.02,0.43,0.81,0.02,0.02,0.09,0.4,0.06,0.45,0.08,0.77,0.25,0.06,0.04,0.74,0.02,0.02,0.53,0.02,0.52,0.13,0.02,0.48,0.23,0.5,0.14,0.11,0.19,1.41,0.01,0.21,1.51,0.33,1.07,0.05,0.42,0.25,3.78,0.07,0.64,5.3,0.02,0.13,0.08,0.02,0.19,0.09,0.27,0.07,0.02,0.13,0.03,0.05,0.56,0.27,0.09,1.76,0.03,0.17,0.04,0.17,0.14,0.81,0.14,0.11,0.04,0.2,1.05,0.14,0.11,0.04,0.22,0.14,0.01,0.1,0.55,0.08,0.11,0.95,5.07],\"yaxis\":\"y\",\"type\":\"scattergl\"},{\"hovertemplate\":\"variable=JP_Sales<br>value=%{x}<br>Global_Sales=%{y}<extra></extra>\",\"legendgroup\":\"JP_Sales\",\"marker\":{\"color\":\"#00cc96\",\"symbol\":\"circle\"},\"mode\":\"markers\",\"name\":\"JP_Sales\",\"showlegend\":true,\"x\":[0.02,0.0,0.02,0.0,0.08,0.0,0.0,0.0,0.0,0.04,0.05,0.0,0.06,0.02,0.0,0.27,0.0,0.0,0.21,0.0,0.0,0.2,0.0,0.14,0.01,0.0,0.0,0.0,0.0,0.0,0.0,0.0,0.0,0.0,0.0,0.0,0.0,0.0,0.0,0.0,0.0,0.0,0.0,0.0,0.01,0.0,0.0,0.0,0.07,0.0,0.1,0.0,0.0,0.03,0.06,0.16,0.0,0.0,0.0,0.1,0.0,0.63,0.0,0.61,0.01,0.17,0.0,0.0,0.0,0.0,0.0,0.0,0.0,0.0,0.0,0.04,0.22,0.0,0.0,0.06,0.12,0.0,0.73,0.33,0.02,0.03,0.42,0.0,1.76,0.0,0.03,0.0,0.13,0.1,0.3,0.0,0.15,0.0,0.4,0.0,0.14,0.0,0.0,0.0,0.05,0.0,0.0,0.01,0.02,0.77,0.0,0.0,0.0,0.0,0.31,0.0,0.08,0.06,0.0,0.0,0.0,0.06,0.0,0.0,0.0,0.0,0.03,0.0,0.03,0.07,0.0,0.0,0.0,0.54,0.0,0.21,0.16,0.0,0.04,0.0,0.0,0.13,0.0,0.0,0.0,0.04,0.0,0.01,0.06,0.23,0.03,0.0,0.0,0.0,0.0,0.0,0.0,0.01,0.0,0.0,0.03,0.27,0.0,0.0,0.0,0.0,0.0,0.0,0.02,1.05,0.02,0.0,0.0,0.0,0.43,0.0,0.0,0.0,0.0,1.2,0.0,0.0,0.0,0.07,0.0,0.0,0.0,0.0,0.02,0.07,0.0,0.0,0.17,0.09,0.0,0.25,0.0,0.0,0.28,0.23,0.0,0.0,0.0,0.0,0.0,0.0,0.01,0.0,0.0,0.0,0.18,0.07,0.0,0.0,0.01,0.1,0.0,0.16,0.0,0.11,0.0,0.0,0.0,0.14,0.0,0.0,0.12,0.0,0.0,0.0,0.0,0.0,0.03,0.57,0.0,0.0,0.0,0.0,0.09,0.0,0.0,0.0,0.0,1.09,0.02,0.0,0.0,0.46,0.0,0.03,0.09,0.04,0.1,0.0,0.0,0.02,0.01,0.0,0.0,0.0,0.0,0.0,0.0,0.0,0.0,0.0,0.0,1.53,0.02,0.0,0.0,0.07,0.0,0.03,0.02,0.0,0.04,0.0,0.0,0.0,0.05,0.0,0.0,0.0,0.0,0.01,0.03,0.14,0.18,0.0,0.81,0.0,0.03,0.0,0.0,0.08,0.0,0.0,0.0,0.0,0.0,0.07,0.09,0.0,0.0,0.22,1.13,0.0,0.0,0.14,0.0,0.0,0.0,0.0,0.3,4.1,0.02,0.0,0.02,0.12,0.02,0.0,0.0,0.07,0.0,0.0,0.0,0.0,0.0,0.02,0.0,0.01,0.02,0.0,0.0,0.02,0.21,0.03,0.08,0.05,0.23,0.09,0.39,0.0,0.0,0.08,0.02,0.0,0.0,0.0,0.0,0.0,0.0,0.0,0.22,0.0,0.02,0.0,0.0,0.8,0.0,0.0,0.0,0.0,0.2,0.0,0.0,0.0,0.02,0.0,0.0,0.06,0.19,0.16,0.0,0.08,0.13,0.0,0.0,0.0,0.09,0.56,0.01,0.0,0.0,0.18,0.01,0.0,0.0,0.0,0.0,0.0,0.0,0.0,0.04,0.0,0.0,0.0,0.0,0.01,0.01,0.0,0.0,0.02,0.02,0.0,0.0,0.02,0.0,0.06,0.03,0.08,0.05,0.0,0.0,0.0,0.0,0.0,0.12,0.03,0.06,0.0,0.0,0.0,0.0,0.0,0.0,0.04,0.02,0.2,0.02,0.0,0.0,0.0,0.0,0.0,0.0,0.0,0.0,0.0,6.81,0.0,0.0,0.0,0.0,0.0,0.0,0.26,0.06,0.0,0.0,0.0,0.0,0.03,0.0,0.02,0.02,0.14,0.02,0.07,0.0,0.0,0.0,0.0,0.05,0.0,0.0,0.0,0.22,0.0,0.06,0.02,0.0,0.0,0.0,0.0,0.01,0.0,0.0,0.0,0.0,0.0,0.77,0.0,0.0,0.29,0.07,0.62,0.0,0.0,0.0,0.02,0.0,0.45,0.0,0.0,0.0,0.0,0.0,0.02,0.06,0.35,0.0,0.11,0.0,0.08,0.36,0.0,0.02,0.51,0.0,0.11,0.06,0.09,0.01,0.0,0.01,0.0,0.0,0.0,0.24,0.1,0.0,0.01,0.08,0.05,0.22,0.0,0.0,0.01,0.0,0.62,0.0,0.0,0.06,0.0,0.0,0.0,0.0,0.0,0.09,0.0,0.0,0.05,0.08,0.04,0.02,0.27,0.0,0.04,0.0,0.01,0.0,0.05,0.0,0.0,0.0,0.02,0.0,0.02,0.0,0.12,0.0,1.39,0.07,0.0,0.03,0.1,0.0,0.06,0.0,0.0,0.0,0.25,0.0,0.86,0.0,0.0,0.0,0.0,0.0,0.0,0.0,0.34,0.0,0.04,0.02,0.03,0.0,0.09,0.0,0.0,0.42,0.16,0.0,0.0,0.01,0.17,0.1,0.07,0.09,0.0,0.0,0.0,0.0,0.0,0.0,0.0,0.0,0.02,0.01,0.0,0.06,0.0,0.01,0.0,0.1,0.0,0.12,0.37,0.0,0.01,0.0,0.04,0.0,0.0,0.0,0.0,0.0,0.03,0.15,0.02,0.0,0.13,0.0,0.0,0.29,0.0,0.62,0.19,0.0,0.0,0.0,0.01,0.0,0.0,0.0,0.0,0.07,0.0,0.0,0.03,0.0,0.0,0.0,0.0,0.0,0.15,0.01,0.0,0.01,1.27,0.0,0.06,0.0,0.28,0.0,0.0,0.03,0.0,0.0,0.0,0.0,0.0,0.28,0.12,0.0,0.0,0.1,0.0,0.05,0.13,0.02,0.41,0.0,0.0,0.01,0.0,0.0,0.65,0.0,0.0,0.0,0.53,0.0,0.05,0.0,0.0,0.05,0.0,0.0,0.0,0.0,0.07,0.01,0.06,0.0,0.02,0.0,0.03,0.05,0.01,0.0,0.0,0.0,0.0,0.0,0.0,1.93,0.05,0.0,0.09,0.23,0.04,0.03,0.0,0.0,0.02,0.0,0.02,0.03,0.34,0.0,0.0,0.23,0.07,0.01,0.0,0.0,0.0,0.0,0.0,0.03,0.0,0.02,0.44,0.02,0.05,0.0,0.0,0.0,0.09,0.03,0.0,0.0,0.0,0.08,1.31,0.0,0.0,0.1,0.0,0.3,0.0,0.27,0.0,0.0,0.1,0.0,0.0,0.0,0.17,0.0,0.27,0.07,0.0,0.0,0.0,0.06,0.08,0.01,0.0,0.0,0.28,0.0,0.2,0.0,0.0,0.0,1.27,0.0,0.0,0.0,1.03,0.0,0.02,0.02,0.0,0.0,0.0,0.03,0.02,0.0,0.0,0.0,0.0,0.13,0.0,0.0,0.03,0.0,0.0,0.0,0.0,0.0,0.0,0.0,0.02,0.0,0.08,0.03,0.0,0.03,0.0,0.0,0.0,0.01,0.0,0.0,0.0,0.0,0.0,0.14,0.0,0.02,0.0,0.0,0.0,0.0,0.02,0.23,0.0,0.03,0.01,0.0,0.32,1.03,0.0,0.02,0.0,1.28,0.0,0.05,0.08,0.0,0.0,0.0,0.1,0.08,0.01,0.71,0.0,0.05,0.32,0.0,0.0,0.0,0.36,0.0,0.0,0.0,0.0,0.02,0.05,0.06,0.0,0.0,0.0,0.0,0.0,0.0,0.02,0.0,0.0,0.05,0.0,0.03,0.01,0.0,0.0,0.0,0.0,0.0,0.0,0.0,0.0,0.0,0.04,0.0,0.0,0.05,0.02,0.0,0.0,0.17,0.0,0.02,0.0,0.0,0.03,0.0,0.0,0.0,0.0,0.0,0.26,0.0,0.0,0.0,0.01,0.05,0.0,0.0,0.0,0.07,0.0,0.0,0.0,0.0,0.07,0.0,0.49,0.0,0.0,0.0,0.0,0.02,0.04,0.0,0.0,0.0,0.02,0.14,0.0,0.0,0.04,0.0,0.0,0.0,0.0,0.28,0.0,0.13,0.0,0.0,0.06,0.0,0.0,0.0,0.0,0.0,0.13,0.19,0.12,0.02,0.0,0.0,0.0,0.0,0.0,0.0,0.01,0.0,0.0,0.0,0.0,0.0,0.03,0.0,0.18,0.0,2.0,0.0,0.0,0.0,0.04,0.0,0.0,0.0,0.0,0.02,0.0,0.0,0.01,0.0,0.04,0.0,0.0,0.0,0.01,0.07,0.02,0.0,0.0,0.0,0.11,0.0,0.0,0.74,0.07,0.0,0.0,0.0,0.0,0.32,0.07,0.0,0.01,0.02,0.0,0.0,0.0,0.0,0.0,0.46,0.03,0.02,0.0,0.45,0.0,0.07,0.0,0.0,0.0,0.01,0.64,0.0,0.0,0.0,0.0,0.0,0.0,0.02,0.0,0.03,0.04,0.06,0.0,0.0,0.0,0.14,0.0,0.0,0.01,0.16,0.03,0.0,0.0,0.1,0.0,0.0,0.03,0.0,0.59,0.0,0.01,0.12,0.0,0.0,0.0,0.0,0.0,0.2,0.0,0.0,0.07,0.12,0.0,0.0,0.0,0.08,0.0,0.0,0.0,0.03,0.0,0.34,0.0,0.03,0.0,0.19,0.02,0.0,0.12,0.0,0.0,0.0,0.05,0.01,0.0,0.0,0.0,0.0,0.05,2.1,0.0,0.0,0.14,0.01,0.0,0.0,0.0,0.0,0.0,0.0,0.0,0.05,0.02,0.01,0.02,0.0,0.0,0.0,0.0,0.27,0.71,0.0,0.0,0.31,0.0,0.0,0.0,0.0,0.0,0.02,0.0,0.0,0.0,0.0,0.0,0.0,0.0,0.02,0.09,0.0,0.0,0.0,0.0,0.0,0.0,0.0,0.0,0.09,0.0,0.0,0.0,0.16,0.0,0.05,0.0,0.0,0.0,0.0,0.0,0.14,0.0,0.0,0.07,0.03,0.03,0.11,0.0,0.0,0.06,0.0,0.0,0.0,1.15,0.0,0.0,0.0,0.0,0.0,0.0,0.14,0.0,0.09,0.06,0.0,0.02,0.0,0.0,0.0,0.02,0.0,0.17,0.29,0.42,0.03,0.0,0.0,0.0,0.02,0.0,0.0,0.33,0.18,0.0,0.0,0.3,0.46,0.0,0.08,0.1,0.0,0.0,0.0,0.0,0.01,0.0,0.19,0.0,0.0,0.0,0.03,0.0,0.0,0.11,0.01,0.42,0.0,0.0,0.0,0.0,0.08,0.01,0.03,0.0,0.76,0.0,0.0,0.03,0.0,0.0,0.0,0.0,0.0,0.0,0.0,3.08,0.0,0.0,0.12,0.0,0.0,0.0,0.0,0.0,0.0,0.16,0.0,0.75,0.0,0.0,0.0,0.0,0.0,0.03,0.19,0.0,0.0,0.0,0.0,0.0,0.0,0.0,0.0,0.0,0.0,0.0,0.1,0.0,0.0,0.0,0.0,0.0,0.0,0.0,0.04,0.0,0.07,0.55,0.66,0.0,0.44,0.0,0.0,0.0,0.0,0.0,0.0,0.13,0.0,0.0,0.11,0.14,0.0,0.0,0.03,0.44,0.03,0.0,0.12,0.0,0.0,2.06,0.01,0.0,0.03,0.0,0.0,0.04,0.62,0.0,0.0,0.07,0.01,0.49,0.0,0.0,0.0,0.0,0.0,0.02,0.0,0.0,0.0,0.0,0.0,0.0,0.0,0.0,0.02,0.0,0.0,0.01,0.0,0.02,0.0,0.3,0.0,0.0,0.15,0.0,0.0,0.0,0.0,0.0,0.0,0.0,0.0,0.0,0.0,0.0,0.07,0.0,0.0,0.0,0.01,0.04,0.13,2.2,0.0,0.0,0.0,0.0,0.0,0.0,0.0,0.0,0.21,0.0,0.0,0.0,0.13,0.06,0.0,0.0,0.0,0.0,0.04,0.27,0.0,0.0,0.0,0.02,0.0,0.0,0.04,0.0,0.19,0.0,0.17,0.0,0.0,0.02,0.13,0.0,0.01,0.0,0.0,0.0,0.0,0.0,0.0,0.03,0.0,0.0,0.08,0.36,0.0,0.0,0.11,0.03,0.0,0.08,0.07,0.0,0.0,0.0,0.0,0.11,0.06,0.0,0.0,0.0,0.3,0.0,0.0,0.05,0.0,0.03,0.02,0.31,0.0,0.0,0.23,0.1,0.01,0.08,3.18,0.0,0.0,0.58,0.0,0.0,0.0,0.01,0.0,0.0,0.0,0.1,0.0,0.0,0.01,0.06,0.01,0.0,0.33,0.04,0.03,0.0,0.0,0.0,0.0,0.17,0.3,0.05,0.0,0.04,0.0,0.0,0.71,0.0,0.0,0.0,0.0,0.31,0.0,0.0,0.0,0.0,0.11,0.0,0.0,0.0,0.06,0.0,0.0,0.0,0.0,0.0,0.0,0.07,0.0,0.0,0.0,1.09,0.0,0.0,0.0,0.0,0.0,0.0,0.0,0.0,0.0,0.01,0.08,0.0,0.0,0.0,0.0,0.0,0.0,0.02,0.0,0.0,0.02,0.03,0.0,0.0,0.0,0.0,0.0,0.0,0.07,0.0,0.0,0.0,0.0,0.0,0.09,0.0,0.0,0.0,0.06,0.0,0.09,0.0,0.0,0.08,0.0,0.0,0.0,0.0,0.0,0.0,0.01,0.0,0.01,0.0,0.03,0.01,0.38,0.0,0.03,0.0,0.0,1.48,0.08,0.0,0.0,0.07,0.0,0.05,0.04,0.0,0.0,0.04,0.0,0.0,0.0,0.04,0.0,0.0,0.03,0.0,0.07,0.0,0.0,0.05,0.02,0.0,0.4,0.0,0.0,0.0,0.0,0.42,0.0,0.0,0.0,0.0,0.0,0.0,0.0,0.0,0.03,0.0,0.0,0.0,0.0,0.27,0.0,0.0,0.0,0.0,0.0,0.0,0.0,0.0,0.0,0.0,0.0,0.0,0.0,0.0,0.0,0.0,0.0,0.0,0.0,0.01,0.0,0.01,0.0,0.0,0.0,1.17,0.0,0.0,0.0,0.0,0.0,0.09,0.08,0.01,0.18,0.0,0.0,0.0,0.0,0.0,0.0,0.75,0.03,0.0,0.0,0.48,0.08,0.0,0.03,0.0,0.0,0.0,0.05,0.0,0.0,0.19,0.29,0.0,0.14,0.05,0.0,0.0,0.0,0.01,0.0,0.03,0.0,0.0,0.0,0.0,0.0,3.79,0.22,0.0,0.0,0.0,0.11,0.42,0.0,0.0,0.0,0.01,0.0,0.0,0.3,0.32,0.0,0.0,0.09,0.05,0.0,0.0,0.0,0.24,0.02,0.0,0.01,0.03,0.2,0.0,0.0,0.0,0.0,0.16,0.2,0.0,0.0,0.03,0.12,0.01,0.01,0.0,0.06,0.0,0.4,0.0,0.0,0.0,0.0,0.0,0.0,1.1,0.0,0.01,0.27,0.03,0.0,0.0,0.0,0.04,0.0,0.0,0.0,0.0,0.0,0.0,0.0,0.0,0.04,0.02,0.12,3.28,0.02,0.03,0.0,0.0,0.0,0.0,0.0,0.05,0.01,0.26,0.0,0.02,0.0,0.1,1.49,0.01,0.0,0.0,0.0,0.06,0.02,0.0,0.0,0.0,0.0,0.0,0.48,0.0,0.0,0.03,0.0,0.0,0.0,0.32,0.0,0.03,0.0,0.0,0.06,0.1,0.0,0.0,0.0,0.13,0.05,0.12,0.12,2.13,0.0,0.56,0.0,0.0,0.15,0.0,0.03,0.0,0.02,0.12,0.0,0.0,0.0,0.0,0.05,0.0,0.0,0.0,0.0,0.01,0.03,0.0,0.12,0.33,0.03,0.0,0.0,0.0,0.08,0.04,0.05,0.03,0.0,0.01,0.0,0.16,0.0,0.0,0.23,0.0,0.0,0.0,0.0,0.0,0.0,0.0,0.13,0.27,0.23,0.0,0.0,0.01,0.04,0.02,0.0,0.0,0.0,0.0,0.0,0.0,0.0,0.0,0.0,0.0,0.0,0.0,0.0,0.0,0.09,0.0,0.0,0.0,0.0,0.0,0.0,0.0,0.03,0.0,0.0,0.0,0.11,0.58,0.0,0.0,0.05,0.08,0.0,0.11,0.21,0.0,0.05,0.0,0.0,0.0,0.0,0.08,0.0,0.0,0.07,0.0,0.09,0.0,0.02,0.0,0.01,0.37,0.0,0.03,0.0,0.0,0.0,0.0,0.0,0.0,0.0,0.0,0.0,0.0,0.0,0.0,0.0,0.0,0.06,0.0,0.02,0.0,0.01,0.0,0.03,0.0,0.0,0.0,0.0,0.0,0.0,0.13,0.0,0.04,0.0,0.06,0.0,0.46,0.57,0.0,0.0,0.0,0.12,0.0,0.0,0.0,0.0,0.11,0.0,0.0,0.0,0.0,0.02,0.13,0.0,0.0,0.04,0.0,0.0,0.0,0.0,0.12,0.79,0.0,0.0,0.16,0.0,0.07,0.0,0.6,0.0,0.0,0.0,0.0,0.0,0.0,0.0,0.15,0.12,0.0,0.0,0.0,0.0,0.02,0.04,0.01,0.0,0.0,0.0,0.0,0.0,0.0,0.0,0.0,0.0,0.0,0.0,0.01,0.0,0.0,0.0,0.0,0.0,1.32,0.04,0.0,0.0,0.07,0.02,0.47,0.0,0.0,0.0,0.0,0.03,0.19,0.03,0.0,0.03,0.07,0.3,0.0,0.0,0.05,0.8,0.0,0.0,0.1,0.11,0.0,0.04,0.12,0.0,0.0,0.0,0.33,0.28,1.6,0.02,0.04,0.0,0.05,0.05,0.0,0.01,0.63,0.0,0.0,0.02,0.0,0.0,0.0,0.0,0.0,0.0,0.0,0.02,0.26,0.0,0.0,0.0,0.29,0.0,0.58,0.04,0.0,0.0,0.07,0.0,0.0,0.0,0.0,0.0,0.04,0.0,0.0,0.0,0.0,0.0,0.0,0.0,0.03,0.07,0.0,0.0,0.0,0.0,0.0,0.01,0.0,0.01,0.0,0.01,0.09,0.27,0.0,0.0,0.0,0.03,0.57,0.02,0.0,0.05,0.0,0.0,0.0,0.0,0.0,0.06,0.0,0.0,0.0,0.0,0.0,0.17,0.0,0.0,0.0,0.0,0.0,0.43,0.0,0.21,0.0,0.0,0.0,0.06,0.0,0.0,0.31,0.0,0.0,0.0,0.0,0.0,0.1,0.0,0.0,0.0,0.09,0.42,0.0,0.0,0.0,0.12,0.0,0.21,0.0,0.0,0.1,0.05,0.0,0.0,1.2,0.88,0.46,0.05,0.0,0.09,0.0,0.0,0.0,0.5,0.13,0.0,0.03,0.0,0.02,0.55,0.0,0.0,0.0,0.0,0.1,0.03,0.0,0.0,0.0,0.46,0.0,0.0,0.0,0.0,0.0,0.01,0.0,0.0,0.46,0.24,0.0,0.0,0.0,0.45,0.0,0.02,0.0,0.35,0.0,0.0,0.0,0.0,0.0,0.0,0.0,0.0,0.05,0.04,0.0,0.0,0.15,0.0,0.0,0.29,0.41,0.04,0.11,0.0,0.0,0.0,0.0,0.0,0.0,0.62,0.0,0.0,0.0,0.0,0.0,0.0,0.0,0.02,0.0,0.0,0.0,0.0,0.0,0.0,0.0,0.0,0.03,0.0,0.21,0.0,0.0,0.0,0.0,0.67,0.0,0.0,0.0,0.0,0.0,0.0,0.0,0.0,0.0,0.96,0.0,0.0,0.03,0.0,0.04,0.11,0.0,0.39,0.0,0.0,0.0,0.0,0.0,0.0,0.0,0.01,0.43,0.0,0.0,0.0,0.0,0.0,0.0,0.0,0.0,0.29,0.0,0.03,0.0,0.0,0.0,0.0,0.0,0.01,0.12,0.0,0.0,0.0,0.0,0.0,0.12,0.0,0.02,0.02,0.09,0.01,0.0,0.0,0.04,0.62,0.55,0.0,0.0,0.02,0.23,0.0,0.05,0.18,0.01,0.0,0.02,0.06,0.03,0.0,0.0,0.01,0.0,0.03,0.0,0.0,0.0,0.0,0.0,0.0,0.0,0.0,0.0,0.0,0.0,0.18,0.0,0.0,0.0,0.07,0.07,0.0,0.0,0.3,0.0,0.0,0.0,0.0,0.0,0.0,0.0,0.0,0.05,0.01,0.01,0.0,0.0,0.0,0.0,0.0,0.0,0.0,0.02,0.0,0.0,0.0,0.0,0.0,0.0,0.0,0.0,0.0,0.0,0.01,0.02,0.0,0.0,0.0,0.0,0.0,0.0,0.54,0.07,0.0,0.0,0.0,0.0,0.0,0.0,0.22,0.0,0.0,0.0,0.0,0.34,0.0,0.0,0.0,0.45,0.0,0.05,0.0,0.0,0.0,0.16,0.13,0.02,0.89,0.0,0.0,0.01,0.0,0.0,0.0,0.84,0.33,0.01,0.37,0.0,0.07,0.11,0.0,0.07,0.0,0.0,0.0,0.0,0.0,0.1,0.0,0.0,0.04,0.0,0.0,0.11,0.0,1.3,0.0,0.0,0.0,0.0,0.03,0.0,0.23,0.0,0.0,0.2,0.0,0.0,0.0,0.01,0.01,0.03,0.0,0.0,0.0,0.0,0.0,0.89,0.0,0.0,0.05,0.0,0.25,0.0,0.0,0.0,0.02,0.0,0.0,0.0,0.08,0.0,0.14,0.0,0.22,0.02,0.0,0.0,0.0,0.09,0.0,0.18,0.09,0.0,0.06,0.03,0.73,0.0,0.0,0.25,0.0,0.06,0.52,0.0,0.01,0.0,0.03,0.04,0.36,0.03,0.16,0.13,0.03,0.0,0.0,0.0,0.0,0.0,0.0,0.0,0.1,0.0,0.02,0.21,0.0,0.42,0.0,0.0,0.0,0.0,0.11,0.0,0.0,0.0,0.0,0.47,0.0,0.0,0.0,0.0,0.13,0.07,0.0,0.05,1.06,0.0,1.15,0.03,0.0,0.0,0.0,0.0,0.03,0.02,0.0,0.26,0.0,0.39,0.02,0.0,0.04,0.0,0.0,0.0,0.0,0.0,0.0,1.08,0.01,0.07,0.0,0.0,0.0,0.15,0.0,0.18,0.18,0.24,0.01,0.0,0.0,0.0,0.17,0.0,0.0,0.13,0.0,0.0,0.0,0.07,0.26,0.03,0.8,0.0,0.01,0.01,0.1,0.11,0.0,0.0,0.02,0.26,0.0,0.12,0.0,0.11,0.0,0.0,0.04,0.01,0.0,0.0,0.0,0.0,0.73,0.04,0.0,0.0,0.0,0.0,0.12,0.0,0.0,0.0,0.15,0.0,0.0,0.0,0.0,0.06,0.01,0.06,0.0,0.0,0.0,0.03,0.0,0.0,0.11,0.0,0.0,0.0,0.05,0.04,0.0,0.0,0.14,0.0,0.0,0.0,0.0,0.03,0.0,0.03,0.0,0.0,0.0,0.0,0.0,0.0,0.07,0.07,1.25,0.0,0.05,0.0,0.0,0.0,0.0,0.03,0.06,0.0,0.0,0.11,0.0,0.28,0.02,0.12,0.0,0.0,0.0,0.0,0.0,0.0,0.0,0.07,0.0,0.0,0.22,0.0,0.01,0.02,0.0,0.0,0.0,0.05,0.0,0.02,0.0,0.0,0.0,0.15,0.0,0.0,0.04,0.0,0.0,0.0,0.0,0.0,0.0,0.0,0.09,0.0,0.0,0.0,0.0,0.0,0.0,0.08,0.0,0.0,0.06,0.02,0.0,0.0,0.0,0.0,0.15,0.04,0.0,0.0,0.0,0.08,0.18,0.19,0.0,1.06,0.0,0.34,0.0,0.01,0.0,0.0,0.0,0.0,0.0,0.02,0.65,0.02,0.0,0.0,0.0,0.0,0.01,0.0,0.12,0.0,0.0,0.0,0.0,0.3,0.0,0.0,0.0,0.0,0.01,0.0,0.0,0.0,0.01,0.0,0.42,0.0,0.01,0.01,0.11,0.0,0.07,0.0,0.0,0.0,0.0,0.0,0.0,0.0,0.0,0.0,0.04,0.0,0.0,0.0,0.0,0.06,0.0,0.0,0.01,0.0,0.06,0.1,0.0,0.27,0.0,0.0,0.0,0.0,0.0,0.17,0.0,0.46,0.0,0.0,0.0,0.0,0.0,0.0,0.0,0.0,0.0,0.0,2.65,0.0,0.02,0.0,0.0,0.01,0.47,0.0,0.0,0.0,0.0,0.0,0.0,0.0,0.59,0.0,0.01,0.0,0.04,0.0,0.0,0.0,0.0,0.0,0.02,0.06,0.76,0.24,0.06,0.0,0.0,0.08,0.0,0.0,0.6,0.0,0.0,0.0,0.0,0.0,0.0,0.06,0.13,0.0,0.1,0.0,0.05,0.0,0.11,0.0,0.0,0.0,0.07,0.0,0.0,0.0,0.42,0.05,0.0,0.0,0.0,0.06,0.03,0.0,0.02,0.0,0.16,0.04,0.42,0.0,0.17,0.13,0.0,0.5,0.0,0.0,0.0,0.0,4.7,0.0,0.0,0.02,0.0,0.0,0.0,0.0,0.0,0.1,0.0,0.0,0.04,0.01,0.01,0.0,0.03,0.0,0.0,0.0,0.0,1.04,0.0,0.0,0.06,0.3,0.3,0.26,0.11,0.4,0.51,0.04,0.0,0.0,0.0,0.0,0.0,0.0,0.14,0.0,0.0,0.0,0.0,0.0,0.0,0.0,0.02,1.75,0.0,0.0,0.06,0.0,0.0,0.0,0.0,0.0,0.0,0.0,0.02,0.22,0.51,0.0,0.0,0.02,0.32,0.0,0.0,0.0,0.35,0.0,0.0,0.05,0.2,4.35,0.16,0.28,0.0,0.23,0.0,0.07,0.0,0.0,0.05,0.0,0.01,0.0,0.0,0.03,0.0,0.01,0.0,0.0,0.0,0.0,0.08,0.0,0.02,0.19,0.13,0.31,0.0,0.0,0.0,0.04,0.1,0.0,0.0,0.04,0.02,0.0,0.0,0.0,0.12,0.0,0.01,0.08,0.0,0.0,0.0,0.44,0.01,0.01,0.0,0.0,0.0,0.0,0.04,0.05,0.0,0.0,0.0,0.12,0.0,0.0,0.0,0.01,0.0,0.0,0.0,0.08,0.0,0.0,0.0,0.0,0.03,0.0,0.02,0.0,0.15,0.01,0.0,0.0,0.03,0.31,0.37,0.06,0.56,0.0,0.0,0.0,0.02,0.39,0.0,0.0,0.0,0.0,0.23,0.12,0.0,0.0,0.0,0.0,0.0,0.0,0.0,0.0,0.91,0.0,0.2,0.0,0.2,0.0,0.0,0.0,0.0,0.02,0.0,0.0,0.0,0.0,0.0,0.0,0.0,0.03,0.11,0.0,0.0,0.0,0.0,0.0,0.0,0.12,0.0,0.25,0.03,0.0,0.0,0.03,0.0,0.0,0.08,0.07,0.08,0.0,0.0,0.0,0.0,0.0,0.0,0.0,0.0,0.0,0.09,0.0,0.0,0.0,0.0,0.16,0.08,0.0,0.03,0.0,0.07,0.0,0.0,0.0,0.0,0.0,1.39,0.19,0.43,0.01,0.0,0.0,0.02,0.27,0.0,0.12,0.0,0.0,0.0,0.0,0.07,0.0,0.0,0.03,0.0,0.0,0.0,0.13,0.0,0.0,0.0,0.24,0.0,0.0,0.23,0.81,0.01,0.0,0.0,0.0,0.0,0.0,0.01,0.45,0.0,0.06,0.04,0.0,0.13,0.0,0.0,0.16,0.0,0.0,0.05,0.0,0.0,0.0,0.0,0.01,0.0,0.0,0.0,0.0,0.0,0.0,0.0,0.0,0.0,0.0,0.0,0.0,0.0,0.0,0.03,0.0,0.0,0.0,2.55,0.0,0.0,0.0,0.26,0.0,0.17,0.0,0.0,0.08,0.11,0.0,0.0,0.04,0.0,0.04,0.03,0.0,0.0,0.22,0.19,0.0,0.0,0.11,0.0,0.0,0.0,0.0,0.0,0.92,0.02,0.04,0.0,0.16,0.79,0.0,0.0,0.0,0.07,0.18,0.4,0.0,0.0,0.0,0.0,0.07,0.0,0.0,0.0,0.16,0.0,0.05,0.0,0.0,0.0,0.0,0.36,0.03,0.36,0.29,0.05,0.0,0.42,0.36,0.0,0.0,0.11,0.01,0.0,0.0,0.02,0.03,0.0,0.12,0.0,0.0,0.0,0.06,0.47,0.0,0.0,0.0,0.04,0.0,0.0,0.0,0.0,0.0,0.42,0.0,0.28,0.0,0.0,0.02,0.21,0.0,0.0,0.04,0.03,0.0,0.0,0.41,0.0,1.39,0.0,0.0,0.35,0.0,1.36,0.0,0.0,0.0,0.0,0.05,0.0,0.0,0.0,0.0,0.0,0.05,0.03,0.0,0.0,4.22,0.0,0.15,0.0,0.0,0.09,0.0,0.0,0.29,0.0,0.33,0.0,0.0,0.0,0.0,0.03,0.0,0.05,0.0,0.0,0.0,0.01,0.0,0.02,0.02,0.01,0.0,0.02,0.77,0.0,0.0,0.02,0.05,0.5,0.0,0.0,0.02,0.0,0.0,0.03,0.0,0.04,0.73,0.0,0.0,0.26,0.0,0.0,0.09,0.0,0.0,0.83,0.02,0.0,0.0,0.0,0.02,0.0,0.0,0.0,0.0,0.0,0.0,0.0,0.0,0.05,0.0,0.0,0.0,0.03,0.0,0.0,0.01,0.05,0.0,0.06,0.07,0.0,0.0,0.0,0.0,0.0,0.0,0.0,0.0,0.0,0.0,0.0,0.17,0.01,0.0,0.0,0.0,0.66,0.0,0.0,0.02,0.04,0.04,0.02,0.0,0.02,0.0,0.0,0.1,0.0,0.0,0.0,0.0,0.49,0.09,0.08,0.0,0.0,0.17,0.0,0.0,0.08,0.0,0.07,0.09,0.0,0.0,0.0,0.0,0.0,0.0,0.0,0.0,0.0,0.0,0.28,0.04,0.04,0.0,0.16,0.15,0.0,0.0,0.0,0.06,0.06,0.0,0.35,0.0,0.0,0.51,0.0,0.0,0.0,0.14,0.12,0.0,0.0,0.0,0.0,0.0,0.03,0.0,0.0,0.08,0.0,0.02,0.0,0.04,0.0,0.0,0.01,0.03,0.01,0.0,0.01,0.0,0.01,0.0,0.01,0.0,0.0,0.0,0.14,0.0,0.0,0.0,0.17,0.0,0.0,0.01,0.26,0.0,0.0,0.0,0.11,0.07,0.0,0.0,0.0,0.03,0.04,0.0,0.0,2.87,0.0,0.0,0.46,0.0,0.0,0.0,0.3,0.0,0.0,0.23,0.07,0.0,0.0,0.03,0.0,0.0,0.08,0.0,0.01,0.0,0.16,0.05,0.0,0.0,0.03,0.16,0.0,0.26,0.0,0.0,0.0,0.0,0.06,0.03,0.02,0.0,0.02,0.0,0.03,0.0,0.0,0.0,0.0,0.0,0.06,0.0,0.0,0.08,0.09,0.0,0.0,0.0,0.0,0.18,0.0,0.0,0.0,0.0,0.01,0.0,0.0,4.34,0.0,0.02,0.0,0.2,0.01,0.0,0.06,0.0,0.11,0.0,0.01,0.01,0.0,0.0,0.03,0.04,0.0,0.02,0.0,0.02,0.0,0.04,0.04,0.04,0.0,0.04,0.0,0.0,0.01,0.0,0.0,0.0,0.03,0.0,0.0,0.02,0.0,0.0,0.01,0.0,0.03,0.02,0.26,0.02,0.0,0.0,0.0,0.0,0.19,0.3,0.0,0.0,0.0,0.0,0.0,0.0,0.0,0.92,0.0,0.03,0.02,0.0,0.0,0.0,0.0,0.02,0.03,0.21,0.12,0.0,0.05,0.0,0.01,0.0,0.0,0.0,0.15,0.0,0.0,0.0,0.0,0.0,0.0,0.06,0.01,0.01,0.0,0.05,0.0,0.0,0.0,0.0,0.02,0.03,0.0,0.01,0.0,0.13,0.0,0.0,0.11,0.01,0.02,0.01,0.0,0.46,0.02,0.0,0.0,0.0,0.0,0.0,0.0,0.0,0.0,0.81,0.0,0.02,0.05,0.0,0.04,0.35,0.01,0.01,0.0,4.87,0.0,0.02,0.0,0.0,0.0,0.07,0.0,0.04,0.0,0.07,0.01,0.0,0.04,0.0,0.0,0.0,0.07,0.0,0.0,0.0,0.0,0.0,0.0,0.02,0.02,0.01,0.01,0.0,0.15,0.0,0.0,0.09,0.0,0.0,0.02,0.0,0.08,0.0,0.0,0.19,0.41,0.03,0.0,0.09,0.01,0.0,0.02,0.0,0.0,0.0,0.0,0.04,0.0,0.28,0.0,0.0,0.0,0.16,0.04,0.0,0.0,0.03,0.0,0.0,0.0,0.03,0.08,0.02,0.03,0.0,0.0,0.01,0.0,0.0,0.05,0.0,0.0,0.0,0.03,0.0,0.0,0.02,0.0,0.0,0.0,0.0,0.0,0.0,0.0,0.0,0.16,0.0,0.0,0.0,0.0,0.02,0.0,0.0,0.0,0.39,0.01,0.0,0.0,0.0,0.04,0.46,0.0,0.03,0.0,0.06,0.0,0.0,0.0,0.1,0.0,0.0,0.07,0.0,0.0,7.2,0.0,0.0,0.0,0.0,0.0,0.33,0.0,0.14,0.01,0.05,0.0,0.0,0.0,0.0,0.11,0.16,0.0,0.0,0.08,0.49,0.0,0.14,0.0,0.0,0.0,0.02,0.22,0.0,0.0,0.06,0.0,0.03,0.0,0.36,0.0,0.0,0.0,0.0,2.17,0.0,0.15,0.0,0.0,0.0,0.0,0.0,0.0,0.0,0.06,0.88,0.27,0.0,0.07,0.1,0.0,0.0,0.0,0.0,0.13,0.0,0.0,0.09,0.02,0.0,0.1,0.0,0.0,0.14,0.0,0.0,0.63,0.0,0.0,0.04,0.0,0.02,0.0,0.0,0.0,0.0,0.0,0.62,0.05,0.0,0.0,0.18,0.0,0.0,0.0,0.0,0.21,0.06,0.0,0.01,0.0,0.02,0.96,0.0,0.07,0.0,0.0,0.0,0.01,0.4,0.0,0.05,0.18,0.0,0.02,0.03,0.11,0.03,0.0,0.06,0.0,0.0,0.0,0.09,0.0,0.09,0.21,0.0,0.14,0.0,0.0,0.01,0.04,0.0,0.0,0.0,0.0,0.0,0.5,0.0,0.0,0.0,0.0,0.0,0.0,0.38,0.16,0.1,0.0,0.0,0.0,0.0,0.0,0.0,0.0,0.0,0.0,0.0,0.36,0.0,0.08,0.03,0.0,0.05,0.05,0.0,0.0,0.0,0.0,0.17,0.0,0.0,0.0,0.0,0.0,0.02,0.1,0.0,0.0,0.04,0.28,0.0,0.0,0.04,0.0,0.0,0.0,0.0,0.61,0.0,0.09,0.0,0.0,0.0,0.05,0.01,0.0,0.0,0.0,0.02,0.01,0.0,0.03,0.0,0.12,0.0,0.0,0.0,0.11,0.06,0.0,0.0,0.0,0.03,0.0,0.15,0.0,0.0,0.0,0.0,0.11,0.0,0.0,0.03,0.0,0.0,0.0,0.0,0.0,0.42,0.0,0.12,0.0,0.0,0.0,0.0,0.77,0.0,0.03,0.05,0.0,0.03,0.0,0.0,0.04,0.12,0.22,0.0,0.0,0.0,0.0,0.0,0.0,0.0,0.01,0.0,0.0,0.0,0.0,0.0,0.36,0.0,0.0,0.23,0.11,0.0,0.08,0.0,0.05,0.0,0.0,0.0,0.0,0.39,0.0,0.0,0.0,0.0,0.0,0.0,0.11,0.0,0.0,0.0,0.02,0.0,0.0,0.02,0.0,0.0,0.29,0.0,0.0,0.0,0.0,0.0,0.0,0.0,0.0,0.0,0.03,0.0,0.0,0.0,0.0,0.05,0.0,0.0,0.0,0.02,0.0,0.0,0.0,0.34,0.0,0.0,0.07,0.0,0.0,0.09,0.0,0.0,0.0,0.02,0.04,0.09,0.0,0.0,0.0,0.0,0.28,0.0,0.0,0.0,0.0,0.15,0.0,0.0,0.2,0.0,0.0,0.0,0.0,0.01,0.08,0.0,0.0,0.08,0.0,0.15,0.02,0.05,0.0,0.0,0.0,0.0,0.0,0.0,0.0,0.0,0.19,0.0,0.02,0.06,0.0,0.05,0.04,0.0,0.0,0.78,0.0,0.06,0.0,0.0,0.0,0.2,0.0,0.0,0.16,0.0,0.0,0.0,0.03,0.0,0.03,0.0,0.0,0.0,0.0,0.03,0.0,0.01,0.36,0.49,0.0,0.0,0.01,0.0,0.0,0.0,0.0,0.01,0.0,0.33,0.0,0.0,0.0,0.0,0.0,0.0,0.0,0.0,0.54,0.0,0.89,0.0,0.0,0.34,0.14,0.0,0.0,0.0,0.02,0.0,0.0,0.0,0.0,0.11,0.0,0.09,0.15,0.0,0.35,0.0,0.0,0.37,0.25,0.0,0.0,0.0,0.0,0.0,0.02,0.8,0.0,0.01,0.0,0.0,0.0,0.0,0.04,0.0,0.0,0.0,0.0,0.0,0.0,0.0,0.03,0.0,0.05,0.3,0.0,0.0,0.0,0.0,0.35,0.0,0.0,0.0,0.0,0.0,0.0,1.2,0.16,0.05,0.0,0.19,0.03,0.0,0.0,0.01,0.0,0.0,0.2,0.0,0.0,0.0,0.35,0.06,0.0,0.54,0.01,0.0,0.0,0.0,0.0,0.14,0.07,0.0,0.13,0.04,0.0,0.0,0.26,0.05,0.01,0.0,0.0,0.0,0.0,0.0,0.0,0.0,0.19,0.0,0.0,0.07,0.0,0.05,0.04,0.0,0.1,0.02,0.0,0.09,0.0,0.0,0.0,0.02,0.21,0.37,0.0,0.0,0.0,0.09,0.0,0.52,0.02,0.0,0.0,0.35,0.0,0.0,0.05,0.13,0.3,0.0,0.0,0.0,0.0,0.0,0.0,0.0,0.0,0.0,0.32,0.0,0.0,0.0,0.0,0.01,0.02,0.0,0.0,0.0,0.07,0.18,0.0,0.0,0.0,0.0,0.0,0.23,0.0,0.4,0.0,0.23,0.2,0.05,0.02,0.0,0.0,0.19,0.0,0.06,0.03,0.0,0.0,0.0,0.0,0.66,0.04,0.0,0.0,0.12,0.05,0.64,0.01,0.01,0.06,0.0,0.08,3.19,0.0,0.23,0.03,0.0,0.12,0.0,0.0,0.08,0.18,0.0,0.0,0.0,0.0,0.0,0.0,0.03,0.0,0.29,0.0,0.15,0.21,0.0,1.1,0.0,0.0,0.0,0.0,0.18,0.02,0.03,0.0,0.0,0.0,0.0,0.0,0.0,0.0,0.0,0.28,0.0,0.03,0.02,0.0,0.0,0.0,0.0,0.0,0.3,0.0,0.0,0.0,0.04,0.0,0.0,0.0,0.3,0.0,0.0,0.07,0.0,0.03,0.0,0.0,0.0,0.31,0.0,0.0,0.0,0.0,0.0,0.0,0.0,0.0,0.07,0.0,0.0,0.0,0.0,0.0,0.0,0.0,0.04,0.0,0.0,0.17,0.0,0.0,0.0,0.01,0.03,0.01,0.0,0.0,0.0,0.0,0.0,0.0,0.05,0.0,0.0,0.01,0.0,0.0,0.0,0.0,0.12,0.0,0.0,0.0,0.0,0.0,0.0,0.0,0.02,0.0,0.0,0.0,0.03,0.0,0.0,0.08,0.31,0.0,0.11,0.0,0.09,0.0,0.0,0.0,0.42,0.0,0.05,0.19,0.0,0.12,0.0,0.07,0.0,0.0,0.0,0.02,0.0,0.0,0.0,0.0,0.0,0.04,0.0,0.0,0.0,0.0,0.06,0.01,0.0,0.0,0.0,0.02,0.09,0.16,0.0,0.0,0.0,0.0,0.0,0.0,0.0,0.01,0.0,0.0,0.0,0.0,0.08,0.07,0.0,0.0,0.0,0.0,0.0,0.0,0.0,0.01,0.0,0.0,0.13,0.0,0.0,0.01,0.0,0.0,0.0,0.19,0.02,0.0,0.0,0.0,0.0,0.11,0.08,0.0,0.0,0.0,0.1,0.06,0.0,0.0,0.0,0.08,0.0,0.06,0.0,0.0,0.16,0.0,0.07,0.0,0.0,0.0,0.0,0.0,0.0,0.0,0.0,0.0,0.0,0.0,0.13,0.0,0.81,0.11,0.0,0.0,0.0,0.13,0.0,0.0,0.33,0.41,0.0,0.0,0.0,0.04,0.07,0.0,0.04,0.04,0.15,0.0,0.0,0.0,0.0,0.0,0.0,0.0,0.0,0.02,0.0,0.0,0.0,0.16,0.53,0.0,0.11,1.54,0.0,0.13,0.0,0.0,0.04,0.0,0.0,0.0,0.01,0.0,0.01,0.27,0.0,0.07,0.0,0.0,0.02,0.0,0.0,0.08,0.0,0.0,1.03,0.0,0.0,0.05,0.0,0.0,0.19,0.0,0.23,1.0,0.0,0.03,0.02,0.0,0.04,0.0,0.24,0.0,0.0,0.0,0.31,0.04,0.02,0.29,0.05,0.05,0.04,0.0,0.44,0.62,0.0,0.15,0.0,0.0,0.18,0.01,0.0,0.0,0.04,0.0,0.0,0.0,0.32,0.0,0.02,0.05,0.0,0.0,0.5,0.86,0.11,0.0,0.0,0.0,0.0,0.0,0.11,0.0,1.06,0.0,0.0,0.0,0.12,0.0,0.0,0.0,0.0,0.0,0.0,0.35,0.0,0.0,0.01,0.0,0.0,0.0,0.17,0.74,0.0,0.0,0.05,0.0,0.0,0.13,0.0,0.0,0.0,0.03,0.03,0.23,3.44,0.0,0.0,0.08,1.38,0.0,0.0,0.0,0.56,0.0,0.0,0.02,0.0,0.0,0.19,1.3,0.0,0.0,0.0,0.0,0.0,0.0,0.0,0.0,0.0,0.0,0.0,0.02,0.0,0.04,0.0,0.0,0.06,0.0,0.0,0.01,0.0,0.0,0.0,0.0,0.05,0.04,0.0,0.0,0.0,0.0,0.0,0.0,0.0,0.0,0.21,0.0,0.0,0.0,0.0,0.0,0.08,0.01,0.35,0.85,0.15,0.0,0.03,0.0,0.0,0.02,0.0,0.01,0.0,0.0,0.0,0.0,0.0,0.03,0.01,0.02,0.11,0.0,0.05,0.32,1.49,0.0,0.0,0.0,0.0,0.0,0.73,0.0,0.0,0.1,0.0,0.01,0.39,0.0,0.03,0.0,0.0,0.0,0.0,0.0,0.0,0.02,0.0,0.02,0.0,0.92,0.0,0.0,0.55,0.0,0.03,0.04,0.0,0.0,0.0,0.03,0.0,0.0,0.0,0.02,0.02,0.0,0.0,0.16,0.0,0.0,0.0,0.15,0.11,0.06,0.0,0.0,0.01,0.0,0.0,0.0,0.01,0.0,0.09,0.0,0.83,0.24,0.01,0.41,0.01,0.0,0.0,0.0,0.07,0.0,0.2,0.04,0.0,0.02,0.3,0.0,0.0,0.0,0.12,0.27,0.35,0.0,0.02,0.0,0.0,0.0,0.0,0.0,0.0,0.0,0.0,0.32,0.0,0.0,0.0,0.0,0.0,0.31,10.22,0.0,0.08,0.0,0.0,0.1,0.89,0.28,0.0,0.1,0.0,0.0,0.0,1.08,0.0,0.0,0.16,0.09,0.0,0.0,0.0,0.02,0.15,0.0,0.0,0.0,0.0,0.0,0.03,0.0,0.0,0.07,0.0,0.0,0.0,0.0,0.08,0.0,0.0,0.0,0.0,0.0,0.22,0.0,0.0,0.0,0.0,0.0,0.03,0.0,0.0,0.0,0.0,0.01,0.0,0.0,0.0,0.06,0.0,0.03,0.05,0.0,0.0,0.06,0.0,0.24,0.07,0.0,0.0,0.0,0.01,0.0,0.0,0.0,0.0,0.0,0.0,0.0,0.0,0.0,0.19,0.0,0.0,0.0,0.0,0.0,0.0,0.0,0.05,0.0,0.0,0.0,0.0,0.0,0.02,0.0,0.02,0.0,0.11,0.09,0.0,0.0,0.0,0.01,0.0,0.0,0.0,0.3,0.03,0.0,0.08,0.07,0.0,0.0,0.0,0.0,0.0,0.0,0.0,0.38,0.03,0.02,0.0,0.24,0.08,0.0,0.0,0.03,0.0,0.0,0.0,0.0,0.16,0.53,0.0,0.0,0.04,0.0,0.0,0.0,0.0,0.08,0.08,0.0,0.0,0.0,0.0,0.02,0.0,0.0,0.0,0.0,0.02,0.0,0.02,0.0,0.0,0.0,0.01,0.44,0.0,0.0,0.0,0.06,0.0,0.0,0.0,0.0,0.0,0.26,0.0,0.02,0.0,0.0,0.0,0.1,0.34,0.0,0.0,0.0,0.0,0.0,0.02,0.06,0.0,0.08,0.0,0.0,0.0,0.29,0.0,0.01,0.06,0.0,0.04,0.19,0.0,0.01,0.0,1.03,0.0,0.0,0.04,0.0,0.0,0.03,0.0,0.08,0.18,0.31,0.0,0.01,0.0,0.02,0.0,0.0,0.0,0.33,0.0,0.1,0.0,0.0,0.0,0.14,0.0,0.0,0.03,0.0,0.03,0.0,0.0,0.13,0.0,0.36,0.0,0.01,0.26,0.05,0.0,0.27,0.0,0.0,0.0,0.27,0.0,0.0,0.01,0.0,0.0,0.0,1.1,0.0,0.0,0.0,0.01,0.04,0.0,0.03,0.01,0.16,0.3,0.0,0.0,0.06,0.04,0.0,0.29,0.0,0.0,0.0,0.0,0.0,0.0,0.02,0.0,0.0,0.0,0.04,0.0,0.02,0.09,0.0,0.05,0.0,0.0,0.0,0.0,0.17,0.07,0.0,0.0,0.0,0.0,0.0,0.0,0.0,0.22,0.08,0.0,0.0,0.11,0.0,0.06,0.0,0.07,0.0,0.0,0.02,0.03,0.1,0.01,0.0,0.0,0.0,0.02,0.09,2.78,0.0,0.0,0.0,0.0,0.0,0.43,0.03,0.0,0.28,0.0,0.0,0.0,0.08,0.24,0.0,0.0,0.0,0.0,0.0,0.78,0.0,0.0,0.0,0.0,0.02,0.05,0.0,0.04,0.27,0.0,0.0,0.0,0.12,0.0,0.04,0.02,0.0,0.0,0.0,0.03,0.0,0.13,0.0,0.0,0.0,0.0,0.12,0.0,0.01,0.0,0.0,0.19,0.02,0.0,0.0,0.05,0.15,0.0,0.0,0.05,0.06,1.87,0.0,0.0,0.0,0.0,0.0,0.02,0.0,0.0,0.0,0.0,0.0,0.0,0.03,0.05,0.04,0.13,0.36,0.0,0.0,0.38,0.05,0.0,0.0,0.0,0.0,0.06,0.01,0.02,0.0,0.0,0.0,1.29,0.0,0.03,0.02,0.0,0.0,0.0,0.0,0.0,0.0,0.0,0.0,0.19,0.12,0.0,0.0,0.0,0.0,0.0,0.15,0.0,0.05,0.06,0.0,0.46,0.0,0.0,0.0,0.0,0.0,0.0,0.41,0.02,0.06,0.0,0.01,0.05,0.01,0.0,0.38,0.0,0.0,0.04,0.4,0.23,1.05,0.05,0.0,0.12,0.0,0.0,0.0,0.38,0.0,0.0,0.0,0.0,0.0,0.0,0.01,0.0,0.0,0.03,0.0,0.05,0.0,0.15,0.0,0.11,0.08,0.0,0.0,0.06,0.02,0.0,0.0,0.0,0.15,0.0,0.0,0.0,0.0,0.01,0.01,0.07,0.47,0.0,0.0,0.0,0.0,0.0,0.03,0.08,0.02,0.0,0.0,0.16,0.0,0.0,0.0,0.0,0.21,0.0,0.02,0.0,0.58,0.01,0.0,0.0,0.02,0.0,0.0,0.0,0.0,0.03,0.0,0.0,0.0,0.0,0.03,0.0,0.07,0.0,0.03,0.0,0.0,0.0,0.08,0.01,0.02,0.04,0.05,0.03,0.1,0.0,0.0,0.0,0.81,0.0,0.0,0.0,0.0,0.0,0.03,0.0,0.05,0.13,0.0,0.0,0.06,0.11,0.0,0.0,0.05,0.0,0.0,0.59,0.0,0.0,0.13,0.04,0.0,0.04,0.0,0.0,0.0,0.03,0.0,0.0,0.0,0.0,0.0,0.28,0.0,0.01,0.11,0.0,0.02,0.0,0.1,0.0,0.0,0.4,0.12,0.0,0.0,0.03,0.83,0.0,0.09,0.02,0.0,0.01,0.01,0.04,0.0,0.0,0.12,0.0,0.0,0.0,0.3,0.51,0.0,0.0,0.12,0.0,0.0,0.0,0.0,0.0,0.0,0.0,0.0,0.0,0.07,0.14,0.0,0.0,0.0,0.0,0.0,0.0,0.0,0.0,0.0,0.0,0.0,0.05,0.0,0.0,0.41,0.0,0.12,0.0,0.0,0.0,0.0,0.02,0.0,0.0,0.0,0.01,0.0,0.06,0.0,0.0,0.01,0.0,0.0,0.36,0.0,0.0,0.0,0.03,0.22,0.0,0.31,0.0,0.0,0.0,0.0,0.21,0.0,0.0,0.0,0.0,0.03,0.04,0.0,0.0,0.01,0.04,0.0,0.0,0.0,0.0,0.01,0.0,0.01,0.0,0.03,0.09,0.02,0.0,0.0,0.0,0.03,0.25,0.0,0.0,0.07,0.06,0.0,0.0,0.0,0.0,0.0,0.02,0.01,0.24,0.0,0.01,0.0,0.0,0.0,0.0,0.0,0.0,0.17,0.0,0.39,0.0,0.0,0.0,0.0,0.0,0.0,0.16,0.0,0.05,0.0,0.0,0.0,0.0,0.31,0.15,0.0,0.0,0.0,1.57,0.0,0.0,0.0,0.13,0.0,0.0,0.0,0.2,0.0,0.0,0.0,0.0,0.0,0.0,0.05,0.0,0.0,0.1,0.73,0.12,0.0,0.0,0.28,0.0,0.0,0.0,0.0,0.27,0.0,0.33,0.01,0.0,0.0,0.05,0.35,0.13,0.0,0.0,0.0,0.0,0.0,0.0,0.02,0.03,0.05,0.03,0.0,0.0,0.04,0.0,0.0,0.0,0.21,0.0,0.0,0.0,0.14,0.0,0.0,0.0,0.41,0.0,0.0,0.16,0.03,0.52,0.02,0.29,0.0,0.01,0.0,0.04,0.0,0.0,0.0,0.0,0.02,0.0,0.0,0.02,0.0,0.04,0.0,0.0,0.0,0.0,0.0,0.0,0.0,0.04,0.0,0.0,0.0,0.11,0.04,0.0,0.17,0.0,0.0,0.0,0.03,0.72,0.0,0.7,0.0,0.12,0.09,0.0,0.0,0.0,0.0,0.0,0.0,0.0,0.01,0.0,0.02,0.0,0.0,0.07,0.32,0.0,0.16,0.0,0.05,0.13,0.0,0.0,0.1,0.21,0.0,0.0,0.0,0.0,0.55,0.07,0.05,0.0,0.0,0.34,0.76,0.0,0.0,0.02,0.0,0.0,0.05,0.11,0.04,0.0,0.12,0.0,0.05,0.0,0.03,0.06,0.12,0.01,0.03,0.0,0.0,0.0,0.0,0.0,0.0,0.02,0.0,0.0,0.0,0.0,0.07,0.75,0.0,0.01,0.0,0.03,0.0,0.0,0.0,0.0,0.0,0.22,0.13,0.0,0.01,0.15,0.0,0.44,0.0,0.0,0.0,0.0,0.0,0.0,0.0,0.0,0.02,0.0,0.0,0.2,0.02,0.09,0.01,0.0,0.0,0.0,0.04,0.0,0.02,0.0,0.0,0.0,0.04,0.0,0.0,0.0,0.0,0.0,0.0,0.0,0.0,0.13,0.0,0.0,0.02,0.1,0.0,0.05,0.0,0.07,0.0,0.0,0.12,0.05,0.0,0.02,0.19,0.0,0.0,0.0,0.0,0.0,0.05,0.2,0.0,0.12,0.0,0.0,0.0,0.0,0.0,0.0,0.0,0.0,0.0,0.02,0.0,0.0,0.0,0.27,0.0,0.0,0.0,0.0,0.17,0.23,0.02,0.11,0.0,0.15,0.0,0.0,0.0,0.0,0.0,0.0,0.0,0.06,0.0,0.02,0.0,0.14,0.0,0.0,0.01,0.0,0.0,0.0,0.26,0.01,0.07,0.07,0.0,0.0,0.13,0.0,0.02,0.0,0.0,0.0,0.0,0.0,0.12,0.54,0.0,0.0,0.11,0.0,0.0,0.0,0.08,0.0,0.0,0.09,0.0,0.03,0.0,0.02,0.04,0.0,0.04,0.0,0.11,0.0,0.0,0.0,0.02,0.0,0.0,0.0,0.0,0.0,0.0,0.0,0.0,0.48,0.0,0.0,0.0,0.0,0.0,0.07,0.25,0.07,0.0,0.0,0.0,0.0,0.02,0.0,0.0,0.0,0.08,0.0,0.0,0.0,0.09,0.13,0.3,0.0,0.03,0.1,0.03,0.0,0.0,0.01,0.0,0.03,0.01,0.0,0.0,0.0,0.04,0.01,0.12,0.0,0.17,0.0,0.0,0.0,0.0,0.0,0.0,0.15,0.0,0.03,0.0,0.0,0.0,0.0,0.0,0.0,0.03,0.03,0.02,0.0,0.01,0.01,0.0,0.13,1.26,0.06,0.0,0.0,0.96,0.0,0.0,0.01,0.0,0.12,0.0,0.03,0.45,0.0,0.0,0.04,0.0,0.0,0.23,0.0,0.59,0.0,0.0,0.0,0.0,0.02,0.0,0.1,0.0,0.04,0.0,0.19,0.0,0.0,0.0,0.0,0.0,0.0,0.0,0.0,0.01,0.0,0.0,0.0,0.03,0.0,0.13,0.0,0.0,0.16,0.99,0.0,0.0,0.0,0.0,0.0,0.0,0.0,0.0,0.0,0.23,0.1,0.28,0.0,0.44,0.67,0.0,0.0,0.0,0.12,0.0,0.0,0.0,0.0,0.0,0.13,0.0,0.0,0.0,0.05,0.56,0.01,0.0,0.0,0.0,1.49,0.0,0.0,0.0,0.07,0.0,0.0,0.0,0.0,0.05,0.04,0.02,0.0,0.0,0.12,0.1,0.4,0.0,0.0,0.0,0.06,0.02,0.02,0.0,0.0,0.0,0.03,0.0,0.0,0.0,0.15,0.04,0.0,0.0,0.0,0.0,0.0,0.0,0.0,0.0,1.27,0.08,0.0,0.1,0.0,0.0,0.08,0.0,0.41,0.0,0.02,0.18,0.06,0.0,0.06,0.0,0.0,0.0,0.01,0.02,0.0,0.07,0.0,0.54,0.0,0.0,0.05,0.91,0.0,0.0,0.0,0.0,0.0,0.0,0.0,0.0,0.0,0.23,0.02,0.23,0.1,0.0,0.0,0.0,0.0,0.03,0.0,0.0,0.0,0.0,0.11,0.0,0.0,0.0,0.0,0.06,0.43,0.2,0.0,0.0,0.0,0.0,0.07,0.0,0.0,0.28,0.0,0.0,0.9,0.0,0.0,0.0,0.39,0.26,0.06,0.11,0.0,0.0,0.0,0.0,0.21,0.02,0.0,0.0,0.01,0.0,0.06,0.0,0.01,0.0,0.0,0.0,0.0,0.0,0.0,0.0,0.0,0.22,0.02,0.0,0.0,0.0,0.16,0.03,0.0,0.0,0.0,0.0,0.0,0.06,0.0,0.02,0.0,0.0,0.0,0.0,0.03,0.0,0.0,0.0,0.04,0.0,0.0,0.0,0.02,0.04,0.46,0.0,0.0,0.1,0.1,0.0,0.0,0.0,0.02,0.04,0.16,0.0,1.01,0.0,0.0,0.97,0.41,0.0,0.0,0.05,0.0,0.03,0.0,0.0,0.0,0.0,0.01,1.38,0.0,0.14,0.12,0.0,0.0,0.02,0.0,0.0,0.0,0.11,0.14,0.0,0.03,0.09,0.0,0.23,0.0,0.02,0.05,0.0,0.0,0.0,0.0,0.0,0.0,0.0,0.0,0.0,0.0,0.0,0.0,0.01,0.0,0.01,0.0,0.0,0.76,0.01,0.0,0.05,0.1,0.0,0.14,0.0,0.0,0.0,0.0,0.2,0.19,0.0,0.22,0.1,0.08,1.42,0.0,0.0,0.0,0.0,0.06,0.0,0.0,0.0,0.06,0.0,0.0,0.02,0.0,0.0,0.05,0.0,0.55,0.0,0.26,0.0,0.24,0.0,0.0,0.01,0.0,0.0,0.0,0.0,0.0,0.0,0.0,0.0,0.0,0.19,0.03,0.0,0.29,0.0,0.11,0.0,0.03,0.0,0.02,0.0,0.0,0.0,0.0,0.0,0.0,0.03,0.0,0.0,0.0,0.0,0.0,1.44,0.01,0.0,0.0,0.0,0.0,0.0,0.21,0.71,0.0,0.04,0.0,0.05,0.0,0.0,0.06,0.0,0.0,0.02,0.0,0.0,0.0,0.0,0.0,0.0,0.03,0.0,0.0,0.0,0.19,0.0,0.0,0.0,0.0,0.02,0.0,0.0,0.0,0.0,0.1,0.01,0.02,0.0,0.0,0.0,0.25,0.06,6.5,0.02,0.12,0.0,0.05,1.19,0.01,0.0,0.0,0.0,0.0,0.0,0.0,0.01,0.0,0.0,0.2,0.03,0.0,0.03,0.0,0.0,0.0,0.5,0.0,0.02,0.0,0.0,0.0,0.14,0.0,0.05,0.03,0.01,0.0,0.0,0.03,0.02,0.0,0.26,0.0,0.0,0.0,0.07,0.03,0.04,0.0,0.0,0.0,0.0,0.0,0.11,0.0,0.0,0.1,0.0,0.02,0.06,0.01,0.24,0.0,0.0,0.0,0.0,0.0,0.0,0.26,0.0,0.0,0.0,0.0,0.03,0.0,0.1,0.0,0.0,0.0,0.0,0.0,0.0,0.83,0.02,0.0,0.0,0.02,0.0,0.0,0.0,0.0,0.0,0.0,0.0,0.0,1.38,0.4,0.0,0.0,0.15,0.0,0.0,0.0,0.0,0.02,0.0,0.01,0.33,0.46,0.13,0.0,0.05,0.02,1.3,0.0,0.0,0.0,0.0,5.65,0.0,0.05,0.15,0.0,0.0,0.0,0.14,0.0,0.47,0.0,0.03,0.0,0.0,0.14,0.0,0.03,0.0,0.0,0.0,0.0,0.09,0.0,0.16,0.0,0.0,0.0,0.0,0.0,0.0,0.14,0.0,0.0,0.29,0.0,0.04,0.0,0.09,0.05,0.0,0.0,0.0,0.0,0.0,0.0,0.0,0.0,0.0,0.04,0.47,0.0,0.0,0.0,0.03,1.44,0.69,0.0,0.14,0.1,0.02,0.0,0.0,0.03,0.0,0.0,0.0,0.92,0.03,0.0,0.0,0.04,0.0,0.0,0.04,0.07,0.27,0.0,0.06,0.15,0.0,0.0,0.0,0.0,0.0,0.0,0.0,0.0,0.13,0.0,0.06,0.0,0.01,0.0,0.0,0.11,0.0,0.0,0.01,0.0,0.0,0.0,0.0,0.0,0.0,0.0,0.03,0.02,0.0,1.27,0.0,0.01,0.29,0.0,0.0,0.0,0.04,0.0,0.0,0.0,0.0,0.0,0.0,0.05,0.0,0.0,0.0,0.0,0.04,0.0,0.0,0.0,0.22,0.0,0.14,0.01,0.07,0.17,0.01,0.19,0.44,0.0,0.01,0.03,0.0,0.36,0.0,0.03,0.02,0.0,0.01,0.0,0.14,0.0,0.0,0.0,0.06,0.0,0.0,0.0,0.0,0.12,0.0,0.0,0.04,0.11,0.04,1.07,0.02,0.06,0.0,0.0,0.0,0.05,0.0,0.0,0.17,0.0,0.09,0.01,0.0,0.02,0.0,0.13,0.0,0.75,0.0,0.0,0.03,0.0,0.0,0.0,0.0,0.1,0.0,0.0,0.0,0.0,0.0,0.0,0.0,0.0,0.23,0.0,0.0,0.0,0.0,0.0,0.0,0.0,0.0,0.0,0.0,0.1,0.0,0.0,0.07,0.05,0.0,0.06,0.58,0.0,0.06,0.0,0.0,0.05,0.0,0.26,0.0,0.08,0.02,0.12,0.17,0.0,0.0,0.1,0.0,0.3,0.0,0.0,0.0,0.0,0.06,0.0,0.1,0.07,0.0,0.08,0.02,0.0,0.0,0.0,0.08,0.0,0.0,0.0,0.0,0.11,0.0,0.0,0.0,0.0,0.0,0.91,0.0,0.18,0.0,0.0,0.33,0.0,0.02,0.0,0.0,0.0,0.7,0.01,0.0,0.01,0.0,1.29,0.0,0.0,0.07,0.19,0.04,0.0,0.0,0.0,0.0,0.0,0.08,0.0,0.53,0.01,0.12,0.04,0.0,0.0,0.12,0.0,0.0,0.0,0.0,0.0,0.0,0.02,0.0,0.0,0.01,0.0,0.24,0.01,0.09,0.0,0.0,0.03,0.0,0.53,0.04,0.0,0.14,0.0,0.09,0.0,0.0,0.22,0.02,0.0,0.0,0.0,0.02,0.03,0.0,0.05,0.0,0.0,0.0,0.03,0.0,0.0,0.06,0.0,0.0,0.0,0.09,0.0,0.0,0.0,0.0,0.36,0.0,0.0,0.22,0.0,0.01,0.0,0.0,0.0,0.46,0.0,0.13,0.0,0.0,0.0,0.11,0.28,0.27,0.08,0.0,0.0,0.0,0.0,0.0,0.0,0.0,0.0,0.0,0.0,0.0,0.0,0.0,0.01,0.0,0.0,0.0,0.0,0.11,0.0,0.01,0.06,0.02,0.0,0.03,0.0,0.0,0.0,0.02,0.0,0.0,0.08,0.0,0.0,0.05,0.0,0.0,0.0,0.0,0.0,0.0,0.03,0.0,0.0,0.01,0.0,0.0,0.04,0.0,0.73,0.0,0.0,0.22,0.0,0.0,0.0,0.0,0.0,0.0,0.07,0.01,0.0,0.0,0.0,0.0,0.0,0.0,0.0,0.0,0.0,0.0,0.0,0.12,0.05,0.0,0.08,0.0,0.14,0.0,0.0,0.0,0.04,0.02,0.0,0.08,0.0,0.0,0.0,0.0,0.25,0.0,0.0,0.0,0.0,0.03,0.0,0.0,0.05,0.04,0.04,0.0,0.42,0.04,0.02,0.0,0.0,0.0,0.0,0.11,0.0,0.02,0.09,0.23,0.0,0.03,0.0,0.04,0.0,0.04,0.0,0.0,0.0,0.0,0.0,0.0,0.0,0.04,0.03,0.02,0.0,0.0,0.0,0.0,0.0,0.2,0.0,0.0,0.04,0.0,0.0,1.0,0.0,0.0,0.0,0.0,0.05,0.0,0.0,0.0,0.0,0.04,0.0,0.0,0.0,0.17,0.0,0.0,0.0,0.0,0.85,0.06,0.0,0.0,0.0,0.11,0.0,0.0,0.0,0.0,0.0,0.0,0.02,0.0,0.03,0.0,0.16,0.21,0.0,0.0,0.0,0.01,0.0,0.02,0.02,0.57,0.0,0.0,0.0,0.0,0.0,0.04,0.03,0.01,0.0,0.22,0.0,0.0,0.14,0.0,0.0,0.0,0.3,0.0,0.02,0.0,0.04,0.46,0.03,0.0,0.0,0.06,0.0,0.0,0.0,0.0,0.0,0.0,0.0,0.0,0.12,0.0,0.12,0.0,0.0,0.09,0.02,0.0,0.0,0.0,0.0,0.0,0.04,0.0,0.0,0.0,0.14,0.0,4.16,0.17,0.0,0.0,0.0,0.0,0.04,0.01,0.02,0.01,0.02,0.01,0.0,0.0,0.14,0.0,0.0,0.0,0.06,0.04,0.0,0.0,0.0,0.0,0.13,0.0,0.0,0.15,0.02,0.03,0.0,0.0,0.0,0.0,0.0,0.0,0.0,0.0,0.0,0.01,0.0,0.0,1.37,0.15,0.06,0.0,0.0,0.0,0.38,0.03,0.0,0.0,0.0,0.0,0.0,0.0,0.0,0.0,1.69,0.0,0.0,0.0,2.73,0.0,0.0,0.0,0.17,0.0,0.0,0.0,0.01,0.0,0.0,0.01,0.14,0.0,0.0,0.05,0.06,0.0,0.0,0.0,0.39,0.0,0.01,0.0,0.05,0.07,0.0,0.0,0.01,0.0,0.0,0.0,0.0,1.51,0.0,0.0,0.0,0.0,0.03,0.0,0.0,0.0,0.0,0.0,0.0,0.0,0.03,0.0,0.0,0.09,0.03,0.0,0.0,0.0,0.0,0.0,0.04,0.6,0.14,0.0,0.0,0.0,0.11,0.0,0.04,0.02,0.0,0.0,0.03,0.05,0.0,0.0,0.0,0.05,0.0,0.0,0.56,0.05,0.0,0.03,0.0,0.0,0.0,0.17,0.0,0.0,0.0,0.55,0.0,0.0,0.0,0.03,0.0,0.19,0.0,0.0,0.0,0.01,0.0,0.03,0.08,0.0,0.0,0.0,0.02,0.0,0.01,0.01,0.0,1.07,0.0,0.0,0.0,0.0,0.0,0.01,0.05,0.0,0.0,0.0,0.0,0.0,0.0,0.0,0.08,0.0,0.0,0.0,0.0,0.0,0.07,0.02,0.03,0.0,0.0,0.0,0.28,0.0,0.07,0.0,0.1,0.0,0.32,0.0,0.08,0.18,0.02,0.22,0.0,0.0,0.03,0.0,0.0,0.0,0.0,0.0,0.0,0.02,0.35,0.01,0.01,0.0,0.01,0.0,0.0,0.01,0.0,0.03,0.06,0.0,0.0,0.14,0.02,0.35,0.0,0.0,0.0,0.0,0.0,0.0,0.0,0.0,0.86,0.0,0.0,0.0,0.0,0.0,0.0,0.02,0.0,0.91,0.0,0.0,0.04,0.0,0.29,0.0,0.0,0.0,0.0,0.0,0.0,0.0,0.02,0.03,0.0,0.01,0.0,0.02,0.07,0.0,1.93,0.02,0.0,0.0,0.01,0.0,0.0,0.2,0.0,0.0,0.0,0.04,0.25,0.0,0.0,0.0,0.01,0.0,0.0,0.0,0.05,0.21,0.0,0.0,0.03,0.0,0.0,0.0,0.04,0.0,0.0,0.0,0.0,0.08,0.0,0.02,0.48,0.0,0.0,0.0,0.0,0.0,0.03,0.0,0.0,0.0,0.0,0.0,0.0,0.1,0.0,0.0,0.0,0.0,0.0,0.0,0.07,0.0,0.2,0.15,0.0,0.0,0.0,0.0,0.19,0.0,0.0,0.0,0.01,0.0,0.0,0.02,0.0,0.1,0.2,0.0,1.04,0.0,0.02,0.0,0.0,0.0,1.13,0.0,0.0,0.0,0.0,0.02,1.05,0.0,0.0,0.0,0.0,0.0,0.17,0.0,0.0,2.54,0.0,0.0,0.04,0.01,0.0,0.0,0.0,0.0,0.0,0.0,0.0,0.02,0.0,0.0,0.0,0.0,0.0,0.0,0.0,0.45,0.0,0.0,0.21,0.0,1.5,0.0,0.0,0.0,0.0,0.0,0.0,0.03,0.0,0.0,0.0,0.0,0.0,0.0,0.0,0.21,0.0,0.0,0.0,0.0,0.12,0.0,0.0,0.01,0.0,0.93,0.0,0.0,0.0,0.0,0.07,0.0,0.02,0.0,0.0,0.0,0.87,0.0,0.03,0.08,0.0,0.1,0.14,0.04,0.0,0.0,0.0,0.0,0.04,0.03,0.0,0.0,0.91,0.19,0.0,0.1,0.02,0.0,0.17,0.02,0.0,0.26,0.0,0.0,0.04,0.0,0.0,0.2,0.12,0.0,0.0,0.0,0.0,0.01,0.0,0.02,0.0,0.0,0.03,0.0,0.0,0.0,0.0,0.0,0.0,0.0,1.25,0.02,3.6,0.0,0.07,0.25,0.0,0.03,0.06,0.0,0.0,0.11,0.0,0.0,0.0,0.0,0.0,0.03,0.0,0.2,0.45,0.05,0.0,0.02,0.03,0.0,0.16,0.0,0.0,0.0,0.0,0.0,0.3,0.04,0.55,0.0,0.24,0.0,0.0,0.0,0.0,0.0,0.05,0.0,0.0,0.15,0.0,0.05,0.0,2.35,0.0,0.0,0.04,0.0,0.43,0.0,0.04,2.13,0.0,0.1,0.29,0.0,3.67,0.0,0.0,0.04,0.0,0.0,0.0,0.0,0.01,0.25,0.08,0.25,0.18,0.03,0.05,0.06,0.66,0.04,0.0,0.06,0.0,0.0,0.0,0.0,0.82,0.07,0.05,0.28,0.04,0.0,0.02,0.0,0.0,0.0,0.0,0.08,0.0,0.0,0.01,0.0,0.0,0.0,0.1,0.0,0.0,0.0,0.01,0.0,0.01,0.0,0.0,0.0,0.0,0.0,0.0,0.08,0.04,0.0,0.0,0.07,0.0,0.29,0.0,0.0,0.07,0.0,0.01,0.0,0.0,0.03,0.0,0.11,0.0,0.0,0.0,0.0,0.0,0.0,0.03,0.36,0.0,0.0,0.0,0.0,1.0,0.05,0.0,0.1,0.0,0.0,0.41,0.0,0.0,0.0,0.0,0.02,0.17,0.31,0.0,0.26,0.0,0.0,0.0,0.02,0.0,0.0,0.0,0.15,0.06,0.01,0.0,0.0,0.36,0.09,0.0,0.12,0.04,0.0,0.01,0.0,0.0,0.0,0.0,0.0,0.17,0.0,0.01,0.0,0.0,0.0,0.05,0.0,0.0,0.0,0.0,0.0,0.0,0.28,0.0,0.0,2.12,0.0,0.17,0.12,0.0,0.07,0.13,0.0,0.0,0.0,0.22,0.02,0.0,0.0,0.0,0.0,0.0,0.0,0.03,0.0,0.08,0.11,0.0,0.02,0.0,0.0,0.01,0.0,0.03,0.0,1.69,0.0,0.05,0.0,0.0,0.0,0.0,0.02,0.0,0.0,0.0,0.0,0.0,0.04,0.0,0.22,0.0,0.0,3.77,0.48,0.04,0.25,0.05,0.0,0.0,0.0,0.04,0.0,0.0,0.0,0.0,0.04,0.0,2.32,0.0,0.0,0.0,0.07,0.0,0.0,0.0,0.0,0.62,0.0,0.01,1.12,0.03,0.01,0.0,0.0,0.0,0.0,0.17,0.0,0.12,0.0,0.0,0.02,0.0,0.0,0.0,0.0,0.0,0.0,0.0,0.05,0.0,0.0,0.21,1.02,0.0,0.0,0.02,0.0,0.0,0.06,0.0,0.0,0.0,0.05,0.0,0.0,0.01,0.0,0.08,0.0,0.64,0.0,0.01,0.0,0.0,0.0,0.0,0.01,0.0,0.0,0.0,0.0,0.0,0.0,0.0,0.0,0.0,0.0,0.01,0.07,0.04,0.09,0.0,0.02,0.0,0.13,0.0,0.0,0.0,0.0,0.0,0.29,0.0,0.0,0.05,0.06,0.0,0.0,0.0,0.0,0.0,0.0,0.21,0.2,0.0,0.0,0.04,0.16,0.0,0.13,0.04,0.0,0.0,0.06,0.23,0.0,0.0,0.0,0.03,0.01,0.55,1.1,0.0,0.0,0.01,0.0,0.01,0.0,0.0,0.32,0.82,0.42,0.03,0.0,0.28,0.0,0.05,0.0,0.0,0.02,0.0,0.0,0.01,0.0,0.01,0.08,0.0,0.44,0.0,0.1,0.0,0.0,0.0,0.0,0.0,0.0,0.04,0.0,0.0,0.0,0.0,0.0,0.35,0.03,0.01,0.0,0.09,0.01,0.05,0.0,0.03,0.0,0.0,0.09,0.0,0.0,0.0,0.3,0.06,0.0,0.0,0.0,0.0,0.01,0.03,0.0,0.12,0.07,0.02,0.0,0.0,0.0,0.0,0.0,0.24,0.0,0.13,0.0,0.0,0.0,0.0,0.0,0.0,0.0,0.3,0.0,0.0,0.0,0.01,0.0,0.0,0.0,0.14,0.0,0.69,0.0,0.0,0.0,0.0,0.73,0.19,1.34,0.0,0.0,0.0,0.04,0.02,0.14,0.0,0.16,0.09,0.05,0.0,0.0,0.04,0.0,0.09,0.03,0.0,0.0,1.81,0.47,0.0,0.0,0.03,0.0,0.02,0.0,1.1,0.01,0.0,0.01,0.36,0.0,0.0,0.0,0.0,0.0,0.08,0.0,0.0,0.01,0.0,0.0,0.0,0.0,0.0,0.0,0.0,0.1,0.0,0.19,1.4,0.0,0.22,0.56,0.41,0.04,0.0,0.0,0.0,0.5,0.0,0.03,0.05,0.21,0.0,0.0,0.0,0.0,0.05,0.26,0.02,0.0,0.0,0.1,0.0,0.0,0.0,0.0,0.0,0.06,0.0,0.52,0.01,0.0,0.0,0.01,0.22,0.0,1.16,0.0,0.0,0.05,0.06,0.0,0.07,0.0,0.0,0.0,0.0,0.01,0.37,0.04,0.0,0.1,0.0,0.01,0.0,0.01,0.07,0.0,0.0,0.0,0.0,0.09,0.03,0.0,0.0,0.0,0.02,0.0,0.0,0.0,0.01,0.0,0.0,0.4,0.0,0.0,0.0,0.0,0.0,0.0,0.0,0.0,0.0,0.0,0.05,0.0,0.0,0.0,0.0,0.12,0.0,0.0,0.04,0.0,0.06,0.32,0.0,0.06,0.0,0.18,0.0,0.01,0.04,0.0,0.0,0.0,0.0,0.87,0.0,0.0,0.01,0.0,0.0,0.0,0.0,0.0,0.0,0.0,0.0,0.11,0.13,0.0,0.0,0.0,0.0,0.0,0.0,0.0,0.0,0.0,0.0,0.01,0.0,0.0,0.0,0.0,0.0,0.04,0.0,0.0,0.0,0.0,0.0,0.0,0.27,0.0,0.0,0.0,0.0,0.0,0.0,0.06,0.0,0.0,0.0,0.0,0.0,0.02,0.04,0.0,0.0,0.0,1.44,0.0,0.0,0.0,0.0,0.0,0.32,0.0,0.01,0.0,0.01,0.36,0.2,0.0,0.28,0.0,0.0,0.56,0.0,0.0,0.0,0.0,0.29,0.0,0.0,0.0,0.0,0.09,0.0,0.0,0.0,0.02,0.31,0.0,0.15,0.0,0.0,0.06,0.07,0.0,4.13,0.0,0.0,0.04,0.0,0.0,0.0,0.16,0.03,0.22,1.29,0.0,0.0,0.01,0.0,0.0,0.13,0.0,0.02,0.0,0.0,0.0,0.0,0.0,0.0,0.05,0.01,0.0,0.0,0.0,0.0,0.0,0.0,0.0,0.02,0.0,0.02,0.0,0.01,0.0,0.0,0.0,0.04,0.0,0.0,0.0,0.0,0.3,0.0,0.0,0.04,0.13,0.45,0.0,0.01,0.3,0.06,0.0,0.0,0.0,0.0,0.0,0.17,1.35,0.0,0.1,0.0,0.01,0.0,0.0,0.0,0.0,0.0,0.0,0.8,0.13,0.0,0.0,0.0,0.0,0.0,0.0,0.26,0.0,0.02,0.13,0.0,0.0,0.0,0.55,0.0,0.0,0.0,0.15,0.0,0.06,0.11,0.0,0.0,0.51,0.1,0.0,0.0,0.0,0.0,0.0,0.02,0.0,0.0,0.16,0.01,0.0,0.07,0.28,0.07,0.0,0.0,0.03,0.0,0.0,0.0,0.0,0.0,0.0,0.01,0.0,0.0,0.0,0.0,0.0,0.0,0.0,0.0,0.0,0.07,0.0,0.0,0.04,0.0,0.0,0.0,0.52,0.0,0.03,0.0,0.01,0.03,0.0,0.11,0.0,0.14,0.04,0.0,0.0,0.0,0.0,0.29,0.0,0.0,0.0,0.1,0.25,0.0,0.02,0.26,0.0,0.0,0.0,0.29,0.0,0.0,0.0,0.0,0.0,0.0,0.0,0.49,0.0,0.0,0.01,0.03,0.18,1.01,0.0,0.08,0.49,0.08,0.06,0.0,0.0,0.0,0.03,0.0,0.0,0.0,0.0,0.0,0.12,0.0,0.0,0.0,0.0,0.0,1.69,0.0,0.06,0.0,0.0,0.0,0.01,0.0,0.0,0.0,0.0,0.0,0.2,0.0,0.0,0.41,0.0,0.01,0.0,0.03,0.0,0.0,0.0,0.0,0.07,0.0,0.0,0.0,0.07,0.0,0.0,0.07,0.0,0.0,0.0,0.0,0.06,0.0,0.0,0.01,0.12,0.4,0.0,0.0,0.0,0.0,0.0,0.0,0.0,0.0,0.0,0.0,0.0,0.05,2.78,0.09,0.0,0.04,0.0,0.1,0.03,0.0,0.04,0.0,1.7,0.05,0.0,0.19,0.0,0.0,0.0,0.0,0.0,0.04,0.14,0.0,0.0,0.0,0.0,3.54,0.0,0.0,0.0,0.0,0.13,0.0,0.01,0.0,0.0,0.0,0.0,0.23,0.0,0.03,0.02,0.02,0.25,0.01,0.0,0.0,0.0,0.17,0.0,0.0,0.0,0.0,0.0,0.01,0.0,0.0,0.0,0.0,0.04,0.03,0.06,0.0,0.0,0.73,0.0,0.14,0.0,0.0,0.0,0.0,0.0,0.0,0.0,0.0,0.0,0.02,0.0,0.0,0.09,0.0,0.06,0.0,0.0,0.02,0.0,0.0,0.0,0.0,0.48,0.0,0.02,0.03,0.0,0.0,0.0,0.0,0.0,0.3,0.0,0.0,0.0,0.0,0.06,0.0,0.27,0.55,0.0,0.06,0.0,0.05,0.17,0.0,0.0,0.0,0.0,0.02,0.0,0.3,0.0,0.04,0.28,0.0,0.62,0.0,0.0,0.0,0.01,0.0,0.0,0.04,0.0,0.11,1.1,0.0,0.49,0.09,0.0,0.0,0.55,0.0,0.0,0.0,0.06,0.0,0.08,0.0,0.0,0.04,0.0,0.03,0.0,0.0,0.0,0.0,0.0,0.0,0.2,0.0,0.07,0.0,0.0,0.0,0.0,0.0,0.01,0.01,0.0,0.0,0.0,0.14,0.0,0.07,0.0,0.0,0.0,0.01,0.31,0.03,0.0,0.02,0.0,0.0,0.01,0.21,0.0,0.03,0.0,0.0,0.12,0.0,0.0,0.0,0.0,0.0,0.0,0.04,0.08,0.0,0.0,0.0,0.0,0.03,0.06,0.0,0.0,0.0,0.03,0.04,0.0,0.07,0.0,0.0,0.0,0.0,0.0,0.05,0.02,0.05,0.04,0.0,0.0,0.0,0.0,0.0,0.01,0.0,0.0,0.0,0.02,0.02,0.0,0.05,0.0,0.0,0.0,0.0,0.0,0.06,0.0,0.0,0.0,0.0,0.07,0.0,0.0,0.0,0.17,0.3,0.02,0.0,0.08,0.03,0.0,0.0,0.35,0.0,0.52,0.0,0.0,0.0,0.0,0.08,0.08,0.1,0.09,0.0,0.32,0.05,0.0,0.0,0.06,0.0,0.04,0.08,0.0,0.13,0.0,0.0,0.0,0.04,0.0,1.07,0.24,0.0,0.47,0.02,0.0,0.04,0.0,0.02,0.0,0.0,0.0,0.32,0.0,0.0,0.0,0.89,0.0,0.0,0.0,0.0,0.0,0.0,0.19,0.0,0.0,3.84,0.06,0.03,0.0,0.04,0.0,0.0,0.0,0.07,0.0,0.0,0.11,0.0,0.0,0.0,0.0,0.03,0.0,0.05,0.0,0.0,0.0,0.0,0.0,0.0,0.03,0.43,0.0,0.0,0.0,0.0,0.0,0.0,0.0,0.0,0.0,0.0,0.0,0.01,0.0,0.02,0.0,0.0,0.09,0.01,0.0,0.0,0.11,0.0,0.0,0.0,0.03,0.0,0.0,0.0,0.0,0.0,0.0,0.0,0.0,0.0,0.04,0.0,0.0,0.05,0.0,0.0,0.0,0.01,0.03,0.38,0.0,0.0,0.0,0.0,0.41,0.0,0.03,0.0,0.0,0.0,0.0,0.0,0.01,0.01,0.0,0.0,0.0,0.0,0.01,0.0,0.0,0.0,0.0,0.0,0.0,0.0,0.02,0.0,0.0,0.0,0.0,0.29,0.0,0.0,0.02,0.0,0.0,0.0,0.0,0.0,0.0,0.15,0.03,0.08,0.0,0.0,0.0,0.0,0.0,0.0,0.0,0.05,0.0,0.0,0.0,0.0,0.0,0.0,0.08,0.0,0.0,0.0,0.0,0.0,0.01,0.0,0.0,0.0,0.0,0.0,0.0,0.0,0.08,0.0,0.0,0.02,0.0,0.0,0.0,0.0,0.13,0.0,1.89,0.05,0.0,0.03,0.0,0.04,0.09,0.0,0.0,0.0,0.0,0.94,0.0,0.0,0.06,1.98,0.0,0.46,1.21,0.0,0.0,0.0,0.0,0.0,0.0,0.04,0.0,0.0,0.26,0.28,0.16,0.0,0.05,0.0,0.0,0.12,0.0,0.0,1.0,0.0,0.0,0.0,0.0,0.61,0.0,0.0,0.0,0.32,0.03,0.63,0.0,0.21,0.81,0.0,0.0,0.0,0.02,0.0,0.0,0.0,0.06,0.0,0.0,0.0,0.0,0.0,0.0,0.0,0.0,0.0,0.17,0.04,0.0,0.0,0.0,0.02,0.02,0.0,0.0,0.0,0.0,0.04,0.02,0.0,0.0,0.0,0.15,0.0,0.0,0.05,0.0,0.0,0.0,0.0,0.0,0.0,0.0,0.01,0.0,0.3,0.0,0.0,0.0,0.0,0.2,0.0,0.17,0.0,0.0,0.0,0.45,0.0,0.0,0.0,0.0,0.01,0.57,0.0,0.0,0.0,0.15,0.0,0.0,0.02,0.0,0.0,0.0,0.0,0.0,0.0,0.15,0.01,0.0,0.0,0.0,0.0,0.0,0.0,0.0,0.09,0.0,0.02,0.06,0.03,0.39,0.05,1.63,0.02,0.0,0.0,0.0,0.0,0.0,0.0,0.01,0.0,0.0,0.0,0.0,0.0,0.0,0.05,0.0,0.0,0.02,0.0,0.0,0.0,0.02,0.0,0.06,0.01,0.0,0.0,0.0,0.0,0.0,0.1,0.02,0.0,0.03,0.05,0.2,0.01,0.0,0.04,0.12,0.0,0.0,0.0,0.0,0.0,0.12,0.0,0.0,0.05,0.0,0.08,0.0,0.0,0.0,0.0,0.02,0.3,0.04,0.04,0.0,0.08,0.27,0.01,0.01,0.0,0.0,0.0,0.0,0.05,0.0,0.0,0.0,0.0,0.0,0.0,0.0,0.02,0.0,0.06,0.0,0.0,0.0,0.05,0.0,0.02,0.0,0.11,0.03,0.0,0.1,0.0,0.0,0.0,0.0,0.15,0.0,0.0,0.0,0.0,0.0,0.0,0.01,0.0,0.07,0.0,0.02,0.04,0.26,0.02,0.0,0.03,0.07,0.09,0.0,0.06,1.45,0.04,0.65,0.0,0.08,0.0,0.24,0.01,0.0,0.0,0.1,0.01,0.0,0.0,0.49,0.83,0.08,0.12,0.0,0.0,0.08,0.0,0.02,0.04,0.0,0.44,0.0,0.08,0.0,0.0,0.0,0.0,0.0,0.01,0.0,0.0,0.03,0.0,0.0,0.0,0.0,0.38,0.0,0.0,0.0,0.0,0.04,0.0,0.0,0.0,0.05,0.0,0.13,0.0,0.0,0.23,0.73,0.0,0.0,0.0,0.37,0.0,0.75,0.0,0.25,0.01,0.0,0.7,0.0,0.66,0.0,0.35,0.0,0.84,0.7,0.08,0.0,0.0,0.02,0.0,0.0,0.0,0.08,0.0,0.07,0.0,0.0,0.0,0.06,0.07,0.0,0.01,0.0,0.0,0.0,0.0,0.08,0.14,0.0,0.0,0.0,0.04,0.03,0.0,0.05,0.04,0.0,0.0,1.15,0.0,0.0,0.04,0.0,0.0,0.0,0.0,0.0,0.0,0.03,0.04,0.05,0.0,0.0,0.0,0.0,0.0,0.0,1.33,0.0,0.02,0.0,0.0,0.04,0.0,0.03,0.0,0.0,0.1,0.0,0.0,0.0,0.49,0.0,0.07,0.0,0.0,0.0,0.0,0.0,0.74,0.0,0.0,0.0,0.0,0.0,0.0,0.0,0.0,0.08,0.0,0.31,0.0,0.04,0.0,0.0,0.02,0.0,0.0,0.0,0.02,0.12,0.15,0.01,0.0,0.0,0.16,0.01,0.0,0.01,0.0,0.0,0.0,0.06,0.0,0.0,0.0,0.0,0.0,0.25,0.0,0.01,0.0,0.0,0.18,0.0,0.0,0.0,0.06,0.0,0.0,0.02,0.0,0.0,0.0,0.0,0.13,0.07,0.0,0.0,0.0,0.0,0.0,0.05,0.21,0.0,0.0,0.0,0.0,0.14,0.0,0.02,0.0,0.2,0.0,0.06,0.0,0.03,0.14,0.04,0.0,0.02,0.0,0.0,0.0,0.0,0.0,0.0,0.7,1.46,0.01,0.01,0.0,0.0,0.11,0.0,0.0,0.31,0.0,0.0,0.0,0.03,0.0,0.0,0.0,0.0,0.54,0.21,0.1,0.0,0.0,0.13,0.0,0.0,0.02,0.0,0.13,0.02,0.0,0.0,0.0,0.01,0.0,0.28,0.04,0.0,0.0,0.0,0.07,0.0,0.0,0.18,0.0,0.0,0.03,0.0,0.0,0.01,0.02,0.0,0.14,0.0,0.41,0.72,0.0,0.03,0.0,0.0,0.0,0.0,0.0,0.0,0.0,0.05,0.5,0.36,0.17,0.25,0.0,0.0,0.0,0.0,0.0,0.03,0.0,0.38,0.45,0.0,0.0,1.96,0.0,0.02,0.0,0.0,0.22,0.0,0.0,0.0,0.16,0.0,0.0,0.0,0.0,0.53,0.05,0.0,0.24,0.0,0.0,0.0,0.0,0.0,0.0,0.0,0.0,0.1,2.41,0.01,0.0,0.0,0.0,0.1,0.07,0.0,0.04,0.0,0.0,0.12,0.0,0.0,0.0,0.0,0.0,0.0,0.0,0.0,0.0,0.09,0.01,0.0,0.0,0.0,0.11,0.0,0.0,0.0,0.06,0.0,0.0,1.35,0.21,0.0,0.0,0.0,0.05,0.0,0.3,0.07,0.0,0.44,0.0,0.0,0.01,0.0,0.53,0.01,0.0,0.0,0.0,0.0,0.0,0.0,0.0,0.62,0.0,0.0,0.0,0.01,0.1,0.06,0.54,0.0,0.06,0.02,0.0,0.0,0.06,0.0,0.0,0.0,0.06,0.02,0.11,0.0,0.0,0.0,0.0,0.0,0.0,0.0,0.07,0.08,0.0,0.0,0.02,0.0,0.0,0.0,0.0,0.07,0.0,0.0,0.07,0.07,0.06,0.02,0.0,0.0,0.0,0.41,0.04,0.0,0.0,0.0,0.0,0.0,0.0,0.14,0.41,0.0,0.03,0.13,0.0,0.06,0.0,0.03,0.14,0.0,0.3,0.0,0.0,0.08,0.0,0.31,0.0,0.02,0.0,0.0,0.0,3.81,0.06,0.1,0.0,0.0,0.0,0.11,0.03,0.01,0.02,0.14,0.01,0.0,0.0,0.0,0.0,0.0,0.0,0.0,0.0,0.0,0.0,0.08,0.0,0.04,0.0,0.0,0.0,0.0,0.0,0.0,0.0,0.01,0.0,0.01,0.0,0.12,0.0,0.0,0.01,0.06,0.26,0.32,0.0,0.17,0.0,0.0,0.0,0.02,0.26,0.0,0.0,0.0,0.0,0.0,0.0,0.21,0.08,0.0,0.66,0.03,0.0,0.0,0.02,0.0,0.06,0.06,0.0,0.01,0.0,0.0,0.0,0.0,0.37,0.2,0.0,0.01,0.0,0.07,0.0,0.0,0.0,0.0,0.0,0.0,0.04,0.0,0.0,0.0,0.16,0.21,0.2,0.0,0.0,0.0,0.0,0.0,0.0,0.0,0.0,0.0,0.0,0.28,0.0,0.0,0.01,1.24,0.0,0.49,0.0,0.0,0.02,0.03,0.0,0.0,0.0,0.0,0.49,0.0,0.15,0.0,0.0,0.01,0.0,0.0,0.0,0.02,0.28,0.0,0.27,0.01,0.0,0.03,0.0,0.0,0.55,0.0,0.42,0.01,0.02,0.0,0.0,0.0,0.0,0.0,0.28,0.0,0.0,0.04,0.0,0.17,0.63,0.0,0.02,0.0,0.13,0.4,1.07,0.24,0.0,0.0,0.0,0.44,0.03,0.0,0.0,0.0,0.01,0.19,0.16,0.02,0.0,0.43,0.0,0.0,0.0,0.0,0.0,0.0,0.01,0.32,0.0,0.12,0.0,0.0,0.1,0.0,0.51,0.01,0.0,0.12,0.03,0.01,0.0,0.01,0.0,0.17,0.0,0.0,0.0,0.0,0.0,0.0,0.14,0.0,0.0,0.06,0.27,0.04,0.02,0.0,0.0,0.0,0.0,0.02,0.06,0.0,0.0,0.0,0.0,0.0,0.0,0.0,0.0,0.0,0.12,0.0,0.0,0.0,0.0,0.0,0.0,0.0,0.0,0.02,0.0,0.01,0.0,0.03,0.04,0.0,0.04,0.63,0.0,0.0,0.0,0.06,0.81,0.02,0.0,0.0,0.0,0.01,0.0,0.03,0.01,0.0,0.0,0.02,0.0,0.17,0.0,0.0,0.0,0.0,0.03,0.01,0.39,0.0,0.0,0.15,0.02,0.0,0.0,0.0,0.0,0.09,0.14,0.0,0.11,0.25,0.0,0.0,0.04,0.02,0.0,0.03,0.0,0.01,0.0,0.0,0.25,0.92,0.2,0.0,0.0,0.0,0.0,0.02,0.0,0.02,0.33,0.0,0.19,0.0,0.0,0.0,0.0,0.0,0.06,0.0,0.15,0.0,0.02,0.0,0.0,0.0,0.0,0.12,0.03,0.0,0.0,0.1,0.04,0.15,0.0,0.1,0.04,0.0,0.0,0.0,0.67,0.63,0.0,0.0,0.0,0.0,0.0,0.0,0.0,0.05,0.01,0.0,0.0,0.0,1.05,0.0,0.0,0.01,0.04,0.0,0.01,0.0,0.0,0.09,0.16,0.0,0.02,0.07,0.14,1.91,0.0,0.0,0.0,0.02,0.0,0.0,0.02,0.0,0.07,0.02,0.0,0.02,0.0,0.0,0.0,0.08,0.01,0.0,0.19,0.0,0.0,0.0,2.62,0.02,0.07,0.0,0.04,0.0,0.0,0.02,0.0,0.0,0.38,0.02,0.0,0.0,0.0,0.0,0.0,0.0,0.07,0.0,0.11,0.01,0.0,0.0,0.21,0.0,0.08,0.0,0.0,0.0,0.0,0.34,1.2,0.13,0.16,0.0,0.0,0.0,0.03,0.06,0.64,0.58,0.0,0.2,0.13,0.0,0.0,0.0,0.0,0.0,0.38,0.0,2.46,0.01,0.0,0.0,0.02,0.7,0.11,0.04,0.06,0.1,0.0,0.0,0.0,0.13,0.0,0.0,0.0,0.0,1.07,0.0,0.0,0.0,0.07,0.0,0.02,0.0,0.0,0.1,0.0,0.0,0.0,0.17,0.0,0.34,0.03,0.0,0.0,0.2,0.0,0.46,0.04,0.0,0.0,0.0,0.05,0.0,0.0,0.0,0.0,0.0,0.01,0.02,0.0,0.0,0.22,0.0,0.31,0.03,0.04,0.01,0.02,0.56,0.0,0.0,0.0,0.24,0.0,0.0,0.0,0.02,0.01,0.0,0.0,0.0,0.0,0.08,0.0,0.05,0.0,0.6,0.0,0.03,0.0,0.0,0.26,0.01,0.0,0.08,0.0,0.63,0.0,0.0,0.0,0.13,0.03,0.06,0.0,0.0,0.69,0.01,0.0,0.0,0.01,0.0,0.0,0.0,0.0,0.0,0.03,0.01,0.0,0.01,0.0,1.45,0.0,0.74,0.0,0.0,0.0,0.0,0.08,0.0,0.0,0.02,0.0,0.0,0.0,0.0,0.0,0.0,0.12,0.01,0.29,0.0,0.02,0.18,0.02,5.32,0.0,0.0,0.83,0.0,0.0,0.0,0.03,0.0,0.17,0.0,0.06,0.0,0.02,0.0,0.0,0.38,0.54,0.0,0.06,0.0,0.0,0.0,0.0,0.0,0.01,0.01,0.11,0.0,0.0,0.29,0.08,0.0,0.26,0.0,0.0,0.0,0.0,0.0,0.0,0.0,0.03,0.0,0.0,0.0,0.0,0.93,0.0,0.0,0.01,0.0,0.0,0.0,0.0,0.0,0.0,0.0,0.0,0.19,0.0,0.02,0.0,0.03,0.41,0.0,0.01,0.0,0.01,0.0,0.0,0.0,0.0,0.0,0.0,0.0,0.01,0.0,0.08,0.04,0.17,0.0,0.0,0.0,0.0,0.08,0.05,0.0,0.08,0.0,0.02,0.02,0.0,0.0,0.0,0.0,0.0,0.19,0.13,0.2,0.0,0.07,0.05,0.0,0.0,0.23,0.57,0.0,0.0,0.0,0.0,0.01,0.0,0.0,0.0,0.0,0.0,0.0,0.0,0.0,0.0,0.0,0.0,0.09,0.11,0.0,0.0,0.0,0.09,0.0,0.0,0.0,0.0,0.06,0.03,0.0,0.16,0.0,0.03,0.0,0.0,0.0,0.0,0.0,0.0,0.0,0.01,0.0,0.0,0.07,0.0,0.21,0.0,0.0,0.0,0.0,0.0,0.0,0.0,3.77,0.0,0.06,0.01,0.03,0.0,0.0,0.03,0.0,0.39,0.0,0.0,0.02,0.02,0.12,0.02,0.0,0.0,0.06,0.0,0.0,0.46,0.03,0.0,0.0,0.0,0.0,0.0,0.0,0.0,0.0,0.0,0.0,0.0,0.24,0.06,0.26,1.75,0.0,0.0,0.0,0.0,0.0,0.0,0.24,0.0,0.0,0.0,0.04,0.0,0.01,0.03,0.0,0.0,0.0,0.02,0.0,0.0,0.0,0.0,0.1,0.02,0.0,0.13,0.01,0.02,0.0,0.07,0.0,0.04,0.04,0.0,0.0,0.2,0.14,0.0,0.0,0.35,0.02,0.0,0.0,0.35,0.2,0.0,0.0,0.0,0.0,0.0,0.0,0.11,0.55,0.02,0.0,0.0,0.0,0.0,0.0,0.0,0.0,0.01,0.0,0.0,0.0,0.0,0.11,0.28,0.0,0.0,0.0,0.0,0.04,1.58,0.0,0.0,0.07,0.0,0.0,0.01,3.14,0.11,0.0,0.02,0.0,0.04,0.0,0.0,0.0,0.0,0.0,0.01,0.0,0.0,0.0,0.0,0.0,0.0,0.0,0.0,0.12,0.07,0.0,0.05,0.0,0.0,0.0,0.0,0.0,0.02,0.0,0.0,0.01,0.0,0.0,0.0,0.0,0.0,0.0,0.0,0.0,0.0,0.0,0.0,0.0,0.04,0.0,0.0,0.0,0.0,0.0,0.07,0.08,0.19,0.01,0.0,0.0,0.17,0.06,0.0,0.46,0.0,0.0,0.04,0.0,0.02,0.12,0.0,0.0,0.0,0.0,0.69,0.0,0.09,0.0,0.03,0.19,0.01,0.34,0.08,0.28,0.0,0.0,0.0,0.0,0.0,0.0,0.1,0.57,0.0,0.0,0.0,0.0,0.0,0.0,0.0,0.87,0.1,0.02,0.16,0.07,0.0,0.19,0.04,0.0,0.0,0.0,0.0,0.0,0.17,0.07,0.0,0.0,0.0,0.0,0.0,0.22,0.01,0.0,0.0,0.22,0.06,0.0,0.0,0.0,0.0,0.0,0.0,0.1,0.0,0.0,0.0,0.0,0.0,0.0,0.0,0.0,0.0,1.05,0.0,0.12,0.0,0.0,0.0,5.33,0.0,0.08,0.05,0.01,0.0,0.2,0.5,0.0,0.07,0.0,0.02,0.0,0.08,0.0,0.0,1.42,0.16,0.52,0.0,0.0,0.05,0.0,0.0,0.0,0.0,0.04,0.0,1.18,0.02,0.32,0.01,0.0,0.0,0.0,0.0,0.0,0.0,0.05,0.12,0.0,0.0,0.13,0.0,0.09,0.0,0.0,0.0,0.08,0.01,0.13,0.0,0.07,0.0,0.11,0.0,0.71,0.0,0.0,0.0,0.0,0.05,0.09,0.0,0.0,0.0,0.02,0.03,0.13,0.01,0.24,0.76,0.03,0.0,0.0,0.03,0.02,0.04,0.06,0.0,0.0,0.0,0.02,0.0,0.0,0.0,0.0,0.1,0.0,0.0,0.0,0.0,0.0,0.0,0.02,0.0,0.0,0.0,0.0,0.0,0.0,0.06,0.02,0.0,0.02,0.05,0.0,0.0,0.0,0.08,0.25,0.0,0.0,0.0,0.0,0.0,0.0,0.05,0.0,0.0,0.27,0.0,0.0,0.0,0.0,0.0,0.0,0.0,0.0,0.01,0.0,0.03,0.0,0.01,0.05,0.0,0.0,0.0,0.05,0.0,0.75,0.0,0.25,0.0,0.0,0.02,0.04,0.0,0.0,0.68,0.0,0.05,0.0,1.57,0.0,0.49,0.0,0.0,0.0,2.05,0.03,0.0,0.0,0.0,0.0,0.12,0.0,0.0,0.0,0.05,0.12,0.0,0.0,0.03,0.27,0.0,0.0,0.11,0.0,0.0,0.0,0.0,0.0,0.0,0.0,0.0,0.0,0.0,0.0,0.36,0.89,0.3,0.02,0.14,0.0,0.0,0.0,0.0,0.0,0.0,0.42,0.0,0.0,0.0,0.0,0.0,0.24,0.03,0.0,0.15,0.0,0.0,0.04,0.0,0.0,0.0,0.0,0.0,0.0,0.0,0.0,0.0,0.0,0.0,0.0,0.0,0.49,0.02,0.0,0.0,0.0,0.13,0.02,0.0,0.0,0.02,0.0,0.0,0.0,0.03,0.0,0.0,0.0,0.0,0.0,0.18,0.0,0.0,0.0,0.02,0.1,0.04,0.02,0.0,0.0,0.0,0.02,0.0,0.2,0.0,0.0,0.0,0.07,0.0,0.0,0.0,0.0,0.0,0.0,0.0,0.02,0.0,0.0,0.08,0.08,0.18,0.0,0.0,0.02,0.0,0.0,0.0,0.0,0.0,0.12,0.0,0.01,0.01,0.13,0.02,0.01,0.0,0.02,0.0,0.0,0.0,0.0,0.0,0.0,0.0,0.03,0.03,0.66,0.0,0.05,0.05,0.05,0.0,0.06,0.0,0.0,0.0,0.0,0.23,0.02,0.0,2.28,0.0,0.11,0.0,0.0,0.14,0.17,0.01,0.0,0.0,0.36,0.01,0.0,0.0,0.41,0.2,0.2,0.0,0.28,0.0,0.44,0.0,0.0,0.0,0.06,0.0,0.0,0.02,0.0,0.02,0.01,0.0,0.0,0.0,0.0,0.0,0.0,0.0,0.0,0.02,0.03,0.0,0.0,0.0,0.0,0.0,0.0,0.0,0.0,0.02,0.0,0.0,0.0,0.0,0.0,0.0,0.0,0.0,0.0,0.0,0.0,0.0,0.0,0.0,0.02,0.0,0.0,0.6,0.0,0.0,0.0,0.04,0.08,0.0,0.0,0.04,0.0,0.0,0.02,0.0,0.0,0.0,0.0,0.0,0.0,0.0,0.18,0.0,0.0,0.29,0.0,0.0,0.01,0.2,0.0,0.45,0.0,0.0,0.0,0.0,0.1,0.11,0.0,0.02,0.0,0.28,0.0,0.02,0.06,0.0,1.56,0.0,0.05,0.0,0.27,0.02,0.09,0.0,0.05,0.02,0.09,0.0,0.0,0.0,0.04,0.0,0.0,0.0,0.0,0.0,0.0,0.22,0.0,0.0,0.7,0.0,0.0,0.0,0.0,0.0,0.0,0.0,0.0,0.0,0.0,0.0,0.0,0.0,0.0,0.0,0.01,0.0,0.06,0.04,0.0,0.0,0.0,0.81,0.03,0.33,0.0,0.0,0.32,0.0,0.06,0.14,0.23,0.0,0.0,0.0,0.25,0.0,0.0,0.01,0.0,0.0,0.0,0.0,0.0,0.0,0.0,0.01,0.05,0.29,0.0,0.2,0.0,0.1,0.03,0.09,0.09,0.0,0.0,0.0,0.04,0.0,0.0,0.0,0.85,0.0,0.06,0.0,0.07,0.0,0.03,0.02,0.07,0.0,0.0,0.27,0.0,0.0,0.0,0.08,0.02,0.04,0.0,0.0,0.0,0.04,0.01,0.0,0.0,0.0,0.0,0.0,0.0,0.0,0.01,0.0,0.02,0.09,0.01,0.0,0.0,0.41,0.38,0.0,0.0,0.1,0.03,0.01,0.0,0.0,0.0,0.0,0.0,0.05,0.0,0.0,0.02,0.02,0.0,0.02,0.0,0.0,0.0,0.0,0.0,0.0,0.0,0.22,0.0,0.0,0.0,0.13,0.0,0.22,0.0,0.0,0.06,0.0,0.0,0.0,0.0,0.25,0.0,0.0,0.0,0.01,0.0,0.01,0.0,0.22,0.0,0.0,0.11,0.13,0.02,0.0,0.04,0.0,0.04,0.0,0.0,0.0,0.0,0.06,0.0,0.0,0.01,0.0,0.0,0.0,0.06,0.59,0.11,0.0,0.0,0.0,0.0,0.0,0.01,0.35,0.0,0.48,0.0,0.19,0.0,0.0,0.0,0.03,0.0,0.0,0.0,0.02,0.32,0.02,0.32,0.07,0.0,0.0,0.55,0.0,0.0,0.02,0.0,0.0,0.22,0.11,0.0,0.06,0.0,0.0,0.02,0.02,0.0,0.01,0.12,0.0,0.02,0.0,0.01,0.05,0.1,0.0,0.01,0.0,0.93,0.02,0.25,0.0,0.0,0.0,0.04,0.08,0.0,0.24,0.0,0.0,0.0,0.33,0.0,0.0,0.03,0.0,0.06,0.02,0.03,0.0,0.04,0.0,0.0,0.08,0.0,0.14,0.01,0.0,0.0,0.0,0.0,0.0,0.0,0.01,0.22,0.15,0.1,0.05,0.0,0.0,0.0,0.0,0.03,0.0,0.0,0.1,0.01,0.0,0.0,0.0,0.0,0.0,0.06,0.0,0.0,0.17,0.0,0.0,0.06,0.22,0.0,0.0,0.0,0.0,0.13,0.0,0.0,0.03,0.0,0.02,0.02,0.31,0.0,0.0,0.04,0.0,0.11,0.0,0.0,0.39,0.0,0.0,0.08,0.0,0.0,0.19,0.21,0.0,0.0,0.0,0.47,0.0,2.23,0.07,0.0,0.0,0.33,2.66,0.36,0.02,0.0,0.19,0.0,0.0,0.0,0.0,0.0,0.0,0.0,0.03,0.0,0.0,0.4,0.0,0.05,0.26,0.0,0.0,0.0,0.0,0.0,0.0,0.0,0.08,0.0,0.13,0.01,0.07,0.0,0.0,0.0,0.0,0.0,0.0,0.01,0.0,0.0,0.04,0.0,0.0,0.0,0.0,0.15,0.01,0.0,0.0,0.33,0.0,0.0,0.0,0.0,0.18,0.0,0.0,0.0,0.0,0.0,0.0,0.0,0.0,0.02,0.0,0.0,0.0,0.44,0.0,0.0,0.0,2.68,0.0,0.89,0.0,0.0,0.0,0.01,0.0,0.03,0.0,0.13,0.0,0.0,0.01,0.0,0.0,0.0,0.0,0.06,0.0,0.0,0.0,0.0,0.0,0.0,0.0,0.0,0.03,0.0,0.0,0.13,0.0,0.02,0.0,0.12,0.03,0.03,0.0,0.0,0.02,0.0,0.0,0.0,0.04,0.0,0.01,0.0,0.0,0.0,0.0,0.0,0.0,0.0,0.0,0.0,0.0,0.0,0.0,0.09,0.0,0.0,0.0,0.0,0.06,0.0,0.0,0.0,0.0,0.0,0.0,0.0,0.0,0.04,0.0,2.53,0.0,0.0,0.11,0.0,0.03,0.11,0.0,0.0,0.0,0.16,0.17,0.0,0.01,0.0,0.0,0.0,0.0,0.0,0.0,0.13,0.0,0.0,0.1,0.06,0.87,0.02,0.0,0.11,0.0,0.0,0.0,0.0,0.0,0.04,0.0,0.0,0.1,0.0,0.02,0.0,0.01,0.0,0.0,0.0,0.0,0.0,0.0,0.01,0.0,0.0,0.0,0.07,0.51,0.0,0.0,0.17,0.02,0.0,0.0,0.04,0.01,0.0,0.24,0.71,0.05,0.0,0.04,0.0,0.0,0.0,0.0,0.0,0.01,0.09,0.0,0.0,0.02,0.3,0.0,0.03,0.27,0.01,0.25,0.04,0.0,0.0,0.05,0.0,0.0,1.48,0.0,0.0,0.0,0.0,0.34,0.04,0.02,0.95,0.0,0.04,0.0,0.0,0.01,0.0,0.01,0.0,0.0,0.0,0.0,0.0,0.1,0.1,0.0,0.12,0.0,0.19,0.0,0.0,0.02,0.0,0.0,0.0,0.0,0.78,0.03,0.0,0.0,0.0,0.0,0.0,0.0,0.0,0.01,0.21,0.0,0.0,0.0,0.04,0.0,0.0,0.02,0.0,0.0,6.04,0.0,0.0,0.0,0.0,0.0,0.25,0.0,0.0,0.15,0.0,0.0,0.02,0.0,0.0,0.01,0.08,0.13,0.0,0.0,0.0,0.0,0.0,0.0,1.42,0.0,0.0,0.0,0.0,0.0,0.0,0.01,0.4,0.0,0.0,0.0,0.0,0.09,0.0,0.0,0.0,0.0,0.57,0.0,0.17,0.0,0.0,0.36,0.0,0.0,0.17,0.0,0.0,2.49,0.0,0.0,0.0,0.1,0.13,0.0,0.0,0.02,0.0,0.06,0.0,0.0,0.4,0.01,0.0,0.06,0.0,0.0,0.0,0.0,0.0,0.0,0.03,0.0,0.0,0.0,0.12,0.0,0.13,0.0,0.0,0.0,0.04,0.0,0.0,0.0,0.03,0.0,0.0,0.0,0.0,0.12,0.12,0.0,0.0,0.09,0.0,0.0,0.33,0.13,0.0,0.0,0.0,0.47,0.0,0.0,0.52,0.0,0.23,0.04,0.22,0.01,0.3,0.06,0.62,0.0,0.0,0.0,0.0,0.02,0.0,0.0,0.0,0.0,0.38,0.0,0.02,1.09,0.04,0.05,0.0,0.0,0.0,0.13,0.0,0.0,0.0,0.14,0.0,0.0,0.02,0.0,0.0,0.0,0.01,0.0,0.1,0.0,0.01,0.0,0.0,0.0,0.46,0.0,0.0,0.0,2.33,0.16,0.03,0.0,0.0,1.27,0.09,0.0,0.0,0.0,0.01,0.0,0.06,0.0,0.67,0.0,0.0,0.0,0.02,0.0,0.0,0.0,0.0,0.05,0.0,0.0,0.01,0.02,0.0,0.0,0.02,0.05,0.06,0.0,0.04,0.01,0.1,0.0,0.03,0.0,0.0,0.22,0.0,0.0,0.0,0.01,0.0,0.0,0.0,0.01,0.02,0.0,0.55,0.05,0.0,0.14,0.0,0.0,0.0,0.0,0.0,0.03,0.0,0.0,0.0,0.01,0.19,0.04,0.32,0.01,0.0,0.0,0.0,0.02,0.0,0.0,0.09,0.0,0.0,0.19,0.0,0.0,0.0,0.0,0.02,0.04,0.0,0.0,0.0,0.0,0.0,0.0,0.0,0.0,0.0,0.19,0.03,0.22,0.22,0.0,0.03,0.0,0.03,0.02,0.0,0.05,0.0,0.0,0.0,0.0,4.13,0.0,0.21,0.0,0.0,0.0,0.0,0.0,0.0,0.0,0.0,1.03,0.0,0.0,0.0,0.0,0.0,0.63,0.0,0.0,0.0,0.0,0.0,0.0,0.0,0.0,0.12,0.06,0.0,0.0,0.01,0.0,0.0,0.0,0.0,0.02,0.0,1.56,0.0,0.0,0.08,0.0,0.1,0.0,0.0,0.0,0.0,0.0,0.01,0.0,0.21,0.0,0.0,0.05,0.9,0.0,0.0,0.0,0.01,0.0,0.34,0.0,0.0,0.0,0.0,0.51,0.0,0.07,0.0,0.0,0.03,0.0,0.06,0.0,0.0,0.0,0.01,0.0,0.65,0.0,0.11,0.0,0.05,0.02,0.0,0.09,0.0,0.03,0.0,0.0,0.33,1.33,0.0,0.32,0.0,0.04,0.0,0.0,0.01,0.49,0.02,0.0,0.02,0.07,0.08,0.14,0.16,0.0,0.2,0.0,0.03,0.06,0.0,0.0,0.04,0.0,0.0,0.0,0.0,0.07,0.0,0.0,0.0,0.0,0.05,0.0,0.01,0.0,0.0,0.0,0.0,0.08,0.0,0.0,0.0,0.03,0.13,0.0,0.0,0.0,0.0,0.03,0.53,0.0,0.0,0.0,0.15,0.0,0.0,0.04,0.01,0.0,0.0,0.0,0.07,0.04,0.0,0.0,0.02,0.24,0.0,0.0,0.0,0.0,0.0,0.0,0.0,0.06,0.0,0.1,0.02,0.0,0.01,0.0,0.0,0.12,0.0,0.0,0.0,0.0,0.0,0.0,0.07,0.01,0.07,0.0,0.12,0.0,0.0,0.06,0.01,0.0,0.0,0.0,0.0,0.0,0.0,0.0,0.35,0.03,0.0,0.0,0.0,0.0,0.0,0.0,0.0,0.0,1.05,0.0,0.02,0.0,0.0,0.0,0.0,0.0,0.2,0.04,0.32,0.0,0.0,0.0,0.09,0.05,0.0,0.0,0.26,0.18,0.0,0.11,0.0,0.05,0.0,0.76,0.0,0.12,0.0,0.0,1.25,0.0,0.0,0.2,0.87,0.02,0.0,0.01,0.0,0.0,0.0,2.69,0.0,0.0,0.02,0.0,0.0,0.01,0.11,0.0,0.09,0.0,0.0,0.0,0.0,0.05,0.0,0.17,0.0,0.24,0.03,0.0,0.23,0.0,0.0,0.0,0.0,0.0,0.01,0.0,0.0,0.0,0.0,0.04,0.0,0.0,0.0,0.31,0.0,0.25,0.62,0.04,0.0,0.03,0.0,0.04,0.0,0.28,0.08,0.0,0.06,0.0,0.36,0.0,0.0,0.01,0.0,0.0,0.15,0.0,0.0,0.26,0.0,0.03,0.3,0.04,0.0,0.0,0.0,0.3,0.0,0.17,0.03,0.0,0.0,0.0,0.0,0.02,0.18,0.0,0.23,0.01,0.06,0.19,0.0,0.03,0.0,0.14,0.15,0.0,0.0,0.0,0.0,0.03,0.0,0.0,0.0,0.0,0.0,0.0,0.01,0.0,0.11,0.0,0.0,0.62,0.0,0.0,0.0,0.0,0.96,0.07,0.0,0.0,0.08,0.0,0.03,0.0,0.0,0.0,0.0,0.0,0.0,0.0,0.0,0.0,0.0,0.18,0.06,0.0,0.0,0.0,0.0,0.0,0.0,0.0,0.0,0.0,0.0,0.0,1.15,0.03,0.34,0.03,0.37,0.0,0.02,0.0,0.0,0.0,0.0,0.84,0.0,0.0,0.17,0.02,0.0,0.0,0.0,0.02,0.13,0.12,0.0,0.0,0.08,0.83,0.0,0.13,0.0,0.0,0.0,0.0,0.0,0.0,0.01,0.0,0.0,0.02,0.0,0.0,0.0,0.0,0.0,0.0,0.0,0.0,0.0,0.02,0.0,0.01,0.0,0.0,0.0,0.02,0.11,0.01,0.0,0.0,0.01,0.0,0.11,0.05,0.08,0.01,0.28,0.0,0.0,0.0,0.0,0.0,0.01,0.0,0.0,0.0,0.0,0.01,0.0,0.0,0.0,0.0,0.0,0.0,0.0,0.0,0.0,0.0,0.0,0.0,0.0,0.05,0.0,0.0,0.0,0.0,0.01,0.0,0.0,0.0,0.19,0.0,0.23,0.08,0.0,0.19,0.1,0.0,0.0,0.0,0.0,0.0,0.0,0.15,0.0,0.2,0.09,0.29,0.0,0.0,0.0,0.0,0.05,0.09,0.0,0.0,0.0,0.45,0.0,0.0,0.0,0.0,0.09,0.0,0.0,0.0,0.0,0.0,0.0,0.0,0.0,0.04,0.0,0.0,0.03,0.0,0.0,0.0,0.18,0.15,0.0,0.09,0.02,0.0,0.0,0.0,0.0,0.25,0.0,0.06,0.0,0.0,0.07,0.0,0.0,0.0,0.01,0.02,0.0,0.0,0.01,0.0,0.0,0.0,0.0,0.44,0.06,0.0,0.0,0.0,0.09,0.0,0.31,0.0,0.0,0.09,0.09,0.05,0.01,0.0,0.0,0.0,0.0,0.39,0.0,0.0,0.0,0.0,0.08,0.01,0.0,0.0,0.0,0.0,0.0,0.0,0.0,0.06,0.0,0.0,0.0,0.02,0.0,0.05,0.01,0.07,0.0,0.0,0.07,0.0,0.0,0.0,0.0,0.0,0.1,0.31,0.59,0.0,0.0,0.01,0.0,0.0,0.0,0.0,0.01,0.0,0.0,0.06,0.01,0.13,0.54,0.0,0.45,0.0,0.0,0.11,0.0,0.0,0.0,0.33,0.0,0.01,0.0,0.0,0.0,0.0,0.0,0.0,0.06,0.0,0.0,0.0,0.4,0.07,0.01,0.0,1.12,0.0,0.0,0.0,0.0,0.0,0.0,0.31,0.0,0.0,0.0,0.0,0.03,0.0,0.07,0.02,0.0,0.21,0.0,0.0,0.0,0.0,0.0,0.0,0.01,0.0,0.15,0.02,0.0,0.0,0.0,0.08,0.0,0.0,0.0,0.0,0.0,0.07,0.0,0.0,0.0,0.0,0.0,0.0,0.02,0.0,0.0,0.42,0.0,0.0,0.0,0.02,0.0,0.0,0.0,0.0,0.0,0.02,0.0,0.04,0.19,0.04,0.0,0.0,0.05,0.0,0.0,0.19,0.0,0.0,0.0,0.0,0.0,0.0,0.74,0.0,0.27,0.0,0.05,0.26,0.14,0.0,0.0,0.01,0.03,0.0,0.0,0.07,0.0,0.0,0.0,0.3,0.0,0.0,0.0,0.0,0.09,0.0,0.01,0.0,0.0,0.0,0.0,0.0,0.0,0.0,0.05,0.09,3.12,0.01,0.0,0.05,0.16,0.0,0.02,0.12,0.0,0.0,0.0,0.0,0.01,0.0,0.0,0.0,0.0,0.09,0.45,0.03,0.0,0.0,0.0,0.02,0.01,0.0,0.0,0.03,0.38,0.07,0.0,0.0,0.09,0.0,0.0,0.04,0.19,0.12,0.09,0.0,0.13,0.0,0.0,0.0,0.02,0.0,0.0,0.02,0.0,0.0,0.1,0.03,0.02,0.08,0.0,0.0,0.02,0.06,0.0,0.0,0.0,0.02,0.0,0.02,0.01,0.0,0.0,0.16,0.0,0.0,0.0,0.0,0.08,0.0,0.0,0.0,0.05,0.0,0.0,0.05,0.32,0.0,0.01,0.0,0.02,0.0,0.0,0.0,0.1,0.26,0.0,0.0,0.11,0.0,0.0,0.0,0.04,0.02,0.0,0.03,0.0,0.0,0.05,0.0,0.0,0.01,0.03,0.0,0.0,0.0,0.19,0.03,0.0,0.12,0.0,0.02,0.0,0.01,0.04,0.72,0.0,0.0,0.0,0.0,0.13,0.02,0.08,0.0,0.01,0.04,0.0,0.01,0.0,0.0,0.0,0.0,0.0,0.0,0.0,0.45,0.65,0.0,0.0,0.01,0.02,0.0,0.02,0.0,0.0,0.0,0.0,0.0,0.11,0.01,0.0,0.0,0.0,0.02,0.0,0.0,0.04,0.06,0.0,0.0,0.0,0.1,0.0,0.0,0.0,0.0,0.02,0.0,0.0,0.08,0.0,0.0,0.06,0.23,0.31,0.0,0.0,0.03,0.0,0.0,0.0,0.0,0.0,0.02,0.0,0.0,0.0,0.27,0.0,0.0,2.78,0.0,0.0,0.0,0.02,0.0,0.0,0.25,0.0,0.0,0.0,0.03,0.05,0.0,0.0,0.0,0.02,0.03,0.0,0.0,0.0,0.14,0.0,0.0,0.0,0.0,0.0,0.0,0.0,0.11,0.0,0.0,0.0,0.0,0.1,0.51,0.0,0.11,0.05,0.15],\"xaxis\":\"x\",\"y\":[0.02,0.02,0.02,0.2,1.85,0.07,0.02,0.11,0.4,0.42,0.57,0.4,3.12,0.02,0.15,0.53,0.53,0.11,0.21,0.3,0.07,0.8,0.12,0.14,0.71,0.47,0.03,1.95,0.11,0.34,0.02,0.07,0.04,1.28,0.2,0.01,0.27,0.14,0.56,0.08,0.13,0.01,0.04,0.13,0.24,0.52,0.92,0.2,0.62,0.11,0.3,0.03,0.59,0.03,0.06,5.65,0.12,0.17,0.04,0.11,0.05,0.97,0.06,0.72,0.46,0.17,0.68,0.03,0.07,0.14,0.07,0.08,0.4,0.28,0.4,0.04,0.22,0.38,0.44,0.06,1.57,0.13,0.73,0.6,0.02,0.03,0.59,0.37,4.12,0.08,0.03,0.22,0.13,0.1,0.3,1.09,0.15,1.93,0.41,0.99,0.14,0.06,0.06,0.16,0.05,0.04,0.01,0.01,0.02,0.77,0.02,0.2,0.1,1.93,1.2,1.12,0.35,0.12,0.17,0.49,0.76,2.94,0.62,0.26,0.51,0.61,0.38,0.05,0.03,0.07,0.72,0.11,1.76,0.54,0.27,0.91,0.16,1.55,0.04,0.24,0.16,0.13,0.01,0.92,0.77,0.04,0.02,0.01,3.65,0.23,0.03,0.05,0.1,0.18,0.04,0.02,0.03,0.88,0.05,0.19,0.6,0.27,0.02,0.11,0.13,0.07,0.15,0.13,0.02,1.05,0.02,0.06,0.15,0.04,0.44,0.13,0.03,0.02,1.77,1.2,0.29,0.1,0.02,3.2,0.28,1.28,0.72,0.19,0.02,0.07,0.06,0.11,0.17,0.09,0.08,0.54,1.55,0.02,0.28,0.23,0.01,2.02,0.57,1.29,0.31,0.02,0.15,1.42,0.25,0.06,0.18,1.23,1.22,0.38,0.12,0.28,0.26,0.16,0.14,0.11,0.34,0.73,0.15,0.58,0.22,0.87,0.12,1.64,0.55,0.06,0.02,0.19,0.03,0.61,0.14,0.11,0.13,0.16,0.09,0.14,0.44,1.43,0.41,2.7,0.02,0.04,0.18,1.57,0.22,4.48,0.09,0.04,0.1,0.03,1.67,2.11,4.31,0.13,0.09,0.02,0.31,0.3,0.05,0.01,0.28,0.42,0.02,1.96,0.02,0.03,0.71,0.07,0.52,0.03,0.02,0.63,0.04,0.05,0.19,1.93,0.48,0.38,0.05,0.08,0.08,1.09,0.16,0.14,0.47,0.08,0.81,0.13,0.03,0.03,0.06,0.08,0.03,0.19,0.18,0.46,0.33,0.4,0.64,0.11,1.38,0.42,2.9,0.11,0.45,0.15,0.15,0.21,0.03,1.82,0.79,4.47,0.22,0.17,0.02,0.12,0.02,0.16,0.63,0.76,0.02,0.29,0.18,0.9,0.09,0.02,0.07,0.82,0.93,0.64,0.21,0.02,0.98,0.03,0.62,0.36,0.24,0.09,1.48,0.77,1.52,0.33,0.27,0.19,0.4,0.1,0.13,0.55,0.19,0.27,0.8,0.06,0.02,0.24,0.03,3.19,0.17,0.38,0.46,0.09,0.52,0.58,0.24,0.04,0.02,0.01,1.19,0.16,0.19,0.49,0.09,0.08,8.24,0.15,0.1,0.18,0.28,1.76,0.35,0.22,0.09,0.24,0.54,1.16,0.37,0.23,0.78,0.09,0.11,0.02,0.04,0.2,0.18,1.15,0.24,0.21,0.15,1.94,1.05,3.53,0.02,0.21,0.75,0.02,0.67,0.06,0.03,4.47,0.05,0.1,0.91,0.59,0.24,0.16,0.12,0.03,0.06,0.17,0.33,0.1,0.54,1.67,0.12,0.04,0.02,0.38,0.02,0.32,0.06,0.01,0.06,0.4,0.13,0.85,0.03,0.04,40.24,0.05,0.26,0.02,0.02,0.05,0.42,0.26,0.06,0.08,0.16,0.56,0.35,0.03,1.28,0.02,0.02,0.14,2.71,0.07,0.15,0.03,0.18,0.76,1.07,0.06,0.69,0.13,0.22,0.07,1.9,0.02,0.02,0.22,0.27,0.05,0.56,0.2,0.65,0.11,0.04,0.05,1.41,0.79,0.06,0.79,0.71,0.62,3.42,0.26,0.01,0.02,0.02,1.62,0.36,0.96,0.02,0.17,0.02,0.02,0.06,0.35,0.3,0.3,0.05,0.08,0.37,0.02,0.1,0.51,2.3,0.11,1.47,0.1,0.01,0.34,0.01,0.24,0.24,0.17,0.24,0.1,0.62,0.01,6.43,0.05,0.29,0.23,0.1,0.01,0.22,2.91,0.02,0.69,0.84,0.56,0.29,0.03,0.41,0.97,0.09,0.17,0.98,8.49,0.36,0.04,0.14,0.64,0.24,0.07,0.08,0.01,0.18,0.05,0.04,0.48,0.2,0.02,0.31,0.02,1.52,0.12,0.02,2.98,0.22,0.31,0.03,0.1,0.29,0.11,0.6,0.22,0.18,0.29,0.07,0.86,0.05,4.16,0.07,1.07,0.01,0.17,0.16,0.61,1.17,0.04,0.02,0.03,0.24,0.09,0.01,0.44,1.67,0.52,0.09,0.14,1.21,0.17,0.1,0.07,0.09,0.07,0.01,0.19,0.56,0.09,0.24,0.18,0.09,0.58,0.31,0.1,0.06,0.15,1.37,0.04,0.43,0.21,0.12,0.39,0.67,0.01,0.92,0.48,0.08,0.88,0.14,0.15,1.41,0.03,1.65,0.02,0.27,5.13,0.07,0.02,1.19,0.02,1.26,0.19,0.21,0.02,0.54,3.0,0.08,0.24,0.13,0.08,0.07,0.2,0.01,0.03,0.04,0.07,0.08,0.02,0.03,0.96,0.11,0.32,1.2,5.19,0.48,0.12,0.77,1.36,0.02,0.21,0.03,0.09,0.04,0.28,1.04,0.12,5.99,0.12,0.64,0.56,0.15,0.03,3.52,0.13,1.74,0.41,0.03,0.16,1.77,0.23,0.55,1.61,0.08,0.39,0.23,2.04,0.02,0.05,1.31,0.06,0.05,0.13,0.31,0.01,0.17,4.55,0.01,0.24,0.25,2.2,0.02,0.03,0.05,0.01,0.05,2.29,0.61,0.07,0.14,0.02,3.17,0.41,0.02,0.09,0.36,1.69,1.61,0.64,0.04,2.06,0.36,0.02,1.75,0.68,0.14,0.03,0.62,0.14,0.03,0.05,0.09,0.05,0.14,0.81,1.25,0.13,1.96,0.44,0.02,0.05,0.08,1.8,0.09,0.09,0.03,0.14,0.16,0.25,0.08,7.58,0.94,0.15,0.1,0.06,0.3,0.39,0.48,0.11,0.02,0.38,0.02,0.14,0.05,0.31,0.62,0.27,0.07,0.79,0.09,0.08,0.21,0.08,0.01,0.15,0.07,0.28,0.03,0.75,1.14,0.33,0.24,1.52,0.04,0.02,0.01,5.26,0.68,0.02,0.32,0.21,1.39,0.08,0.03,0.02,0.63,0.07,0.11,0.7,0.66,0.15,0.27,1.67,1.07,0.08,0.03,0.09,0.03,0.2,0.28,0.02,0.27,0.08,0.12,0.19,0.03,0.49,0.13,0.03,0.01,0.37,0.15,0.03,0.03,0.1,0.14,0.63,0.02,0.16,0.23,0.08,0.95,0.02,0.23,0.04,1.86,0.01,0.4,0.32,1.35,0.13,0.02,0.25,1.28,0.05,1.35,0.08,0.11,0.03,0.23,0.32,13.51,0.26,0.71,0.53,0.65,0.32,0.33,0.12,0.04,1.2,0.09,0.21,0.02,0.22,0.02,0.05,0.06,0.23,0.08,0.03,0.77,0.02,0.06,0.02,0.22,0.51,0.05,0.15,0.03,0.01,0.12,0.57,0.05,1.64,0.23,0.79,0.14,0.24,0.05,2.06,0.29,0.62,0.12,0.05,0.16,0.22,6.83,0.02,0.42,0.1,0.07,0.03,0.08,0.1,0.09,0.53,0.54,0.31,0.83,0.38,0.91,0.01,0.12,0.01,0.3,0.05,2.19,5.83,0.1,0.02,0.07,0.07,0.34,0.49,0.31,0.05,0.02,0.05,0.02,0.12,0.15,0.14,0.05,1.01,0.26,0.05,0.28,0.04,0.03,0.02,0.79,0.44,0.52,0.52,0.14,0.19,0.21,0.06,0.4,2.81,0.07,0.14,0.02,0.13,0.19,0.12,0.02,0.05,0.02,0.01,0.13,0.06,1.73,0.01,0.04,0.05,0.5,0.11,0.07,0.03,0.02,0.37,1.31,5.34,0.02,0.01,0.23,0.91,0.11,0.52,0.12,0.02,0.27,0.02,0.12,0.01,0.15,0.54,0.07,0.06,0.06,0.29,0.07,0.02,0.3,0.58,0.98,0.11,0.22,1.04,2.06,0.07,0.23,0.59,0.1,0.53,0.32,0.07,0.12,0.15,0.02,0.07,0.67,0.01,0.08,0.31,0.49,0.03,0.57,0.22,0.45,0.13,0.07,0.19,0.43,0.3,0.06,0.66,0.8,0.06,0.06,0.55,0.2,0.19,0.02,0.16,0.12,0.15,0.06,0.08,0.87,0.95,0.15,0.03,0.02,0.01,0.16,0.03,0.36,0.03,0.11,0.36,0.09,0.03,0.03,0.59,0.82,1.54,0.12,0.04,0.46,0.06,0.08,0.06,4.2,0.23,0.15,0.51,4.84,0.16,0.19,0.08,0.08,0.24,0.2,0.08,0.22,0.09,2.34,0.06,0.03,0.5,0.19,0.02,0.15,0.88,0.03,0.83,0.7,0.05,0.01,0.18,0.14,0.17,0.08,0.22,4.1,1.64,0.19,0.31,5.13,0.18,0.14,0.05,0.04,0.27,0.09,0.02,0.05,0.02,0.01,0.02,0.19,0.42,0.22,0.02,3.69,2.75,1.05,0.14,3.27,0.12,0.23,0.02,0.21,0.01,1.76,0.48,0.23,0.14,0.95,0.41,1.4,1.11,0.02,0.1,1.02,0.13,0.35,1.06,0.53,0.13,0.3,0.1,0.39,0.37,0.11,0.13,0.17,0.7,0.05,0.99,0.78,0.02,0.21,0.04,0.33,0.42,0.41,0.07,0.03,0.03,0.44,0.02,0.11,0.06,0.41,0.04,0.15,1.15,0.28,0.03,0.33,0.2,0.77,0.32,0.6,0.16,0.88,0.06,0.37,1.16,0.15,0.17,0.31,2.36,0.1,1.28,1.1,0.42,0.03,0.14,0.04,0.38,0.02,0.07,0.14,1.19,0.18,0.13,0.54,0.3,1.0,0.04,0.08,0.1,0.02,0.05,0.13,2.83,0.2,0.04,0.19,2.86,0.17,0.03,0.03,0.02,0.46,0.18,0.21,0.42,0.05,0.05,0.09,0.16,0.08,0.08,0.03,0.21,0.76,0.81,0.14,0.03,0.21,0.02,0.18,0.06,1.08,0.19,0.39,11.33,0.31,1.92,0.12,0.82,0.5,0.03,0.15,0.03,0.21,0.42,0.34,1.23,0.25,0.64,0.38,0.15,1.75,0.03,0.19,0.18,0.04,1.63,0.11,0.49,0.26,0.02,0.31,0.3,0.04,0.24,0.12,0.22,1.46,0.09,0.11,0.02,0.1,0.31,0.07,0.06,0.26,0.55,3.63,0.04,0.44,0.05,0.24,0.08,0.89,0.59,0.04,0.18,0.09,0.04,0.11,0.15,0.03,0.26,0.12,0.44,0.03,0.18,0.27,0.06,0.3,6.41,1.37,0.13,0.03,0.25,0.05,0.14,0.88,0.12,0.09,0.07,0.01,0.49,0.26,0.22,4.31,0.09,0.02,0.02,0.07,0.21,1.12,0.13,0.1,0.34,0.25,0.18,0.02,0.04,0.02,0.14,0.17,0.02,0.56,0.74,0.13,0.06,0.15,0.19,0.02,1.2,0.05,0.2,0.11,0.89,0.25,0.01,1.36,0.25,0.07,0.03,1.51,0.78,0.01,0.35,0.13,5.15,0.17,0.49,0.03,0.23,0.06,0.13,0.22,0.19,0.21,0.38,0.3,0.09,0.13,0.14,0.08,0.02,0.02,0.34,0.04,0.57,0.05,0.24,0.51,0.17,0.03,0.44,0.04,0.19,0.3,0.15,0.17,0.11,0.05,0.94,1.08,0.01,0.01,1.04,1.1,0.1,0.45,0.36,0.09,0.9,0.15,0.21,0.41,0.36,0.03,0.06,0.67,0.03,0.02,6.9,0.33,0.25,0.36,0.24,0.4,0.12,0.33,0.12,0.07,0.14,0.3,0.02,0.24,0.05,0.11,1.11,0.02,0.31,0.05,2.67,0.25,0.1,0.01,0.08,3.22,0.31,1.31,0.62,0.2,0.28,0.03,0.13,0.08,4.9,0.02,0.1,0.14,0.17,0.01,0.06,0.22,0.59,0.33,0.05,0.03,0.03,0.22,0.01,1.25,0.58,0.65,0.05,1.12,0.04,0.08,0.22,0.94,0.02,0.16,0.23,0.41,0.31,0.54,0.11,0.05,0.02,0.12,0.09,0.19,0.24,0.06,0.24,0.46,0.21,0.55,0.16,0.36,0.07,0.16,0.02,0.01,1.44,0.4,0.2,0.03,7.27,1.0,0.47,0.02,0.01,0.1,0.01,0.08,0.15,0.17,0.02,0.09,1.7,0.04,0.02,0.26,0.05,0.31,2.58,0.61,0.02,0.2,0.13,0.09,0.22,0.08,0.15,0.01,0.2,0.17,0.5,0.09,0.03,0.29,0.1,0.06,0.1,0.47,0.05,0.15,2.37,0.67,0.25,0.06,0.17,0.27,0.4,0.48,0.13,2.62,0.06,0.03,0.89,1.0,0.08,0.11,0.01,0.15,2.36,3.92,0.06,0.82,2.77,0.11,0.05,0.04,0.16,0.01,2.1,0.03,0.62,0.14,0.04,0.19,0.01,0.03,0.05,0.5,0.14,0.67,0.05,0.93,0.39,0.4,0.75,0.29,0.17,0.17,0.42,0.5,0.48,0.02,0.97,0.33,0.04,0.19,0.02,0.03,0.85,0.38,0.09,0.18,0.27,1.19,0.43,0.25,0.1,0.9,0.01,0.12,0.08,1.54,0.42,0.83,0.04,0.14,0.02,0.02,0.26,0.8,0.09,0.19,0.01,0.21,0.06,0.01,0.4,0.39,1.17,0.02,0.11,0.03,0.59,0.33,3.18,0.08,0.63,0.33,0.34,0.3,0.87,0.27,0.23,0.51,1.24,0.03,0.45,0.09,0.51,0.22,0.09,0.03,0.09,0.55,0.04,0.05,0.81,0.28,1.55,0.29,0.04,0.14,0.29,0.17,0.07,0.25,0.01,0.28,0.03,0.24,0.19,0.96,1.58,0.46,35.82,0.22,0.42,1.16,0.93,0.36,1.51,0.02,0.17,0.21,1.02,0.21,0.07,0.51,0.5,0.08,0.04,0.09,0.49,0.24,0.02,0.07,0.24,0.22,0.1,0.35,0.03,0.2,0.05,0.04,0.09,0.04,0.27,0.2,0.19,0.04,0.79,0.12,0.01,0.01,0.02,8.49,0.05,0.4,1.01,0.98,0.26,0.36,0.21,0.15,11.66,1.21,0.01,1.19,0.16,0.16,0.06,0.05,0.04,0.28,0.56,0.09,0.05,0.01,0.02,0.14,0.08,0.04,0.02,0.3,33.0,0.02,0.03,0.06,0.02,0.04,0.31,1.21,0.2,0.01,0.58,0.51,0.02,0.04,0.47,1.83,1.34,0.03,0.01,0.37,0.06,0.02,1.54,0.03,0.03,0.41,0.13,12.73,0.4,0.02,0.03,0.07,0.11,0.23,1.63,0.52,0.03,0.59,0.04,0.06,0.1,0.08,0.27,0.12,0.26,0.05,0.46,0.23,10.79,0.03,0.59,0.12,0.14,0.15,0.1,0.03,0.13,0.02,0.78,0.22,0.07,0.18,0.21,0.22,0.14,0.39,0.63,0.21,0.01,0.03,0.18,2.63,0.33,0.03,0.12,0.24,0.09,0.08,1.68,0.09,0.03,0.18,1.35,0.06,0.16,0.05,0.11,0.23,0.61,0.18,0.11,0.3,0.05,0.12,0.15,0.13,0.27,0.23,0.04,0.34,0.01,0.04,0.85,0.07,1.64,0.04,0.92,0.08,0.62,0.01,0.03,0.01,0.12,0.06,0.45,2.16,0.17,0.09,0.04,0.18,0.08,0.03,1.04,0.07,0.03,0.03,0.02,0.21,0.33,0.11,1.33,0.11,0.85,0.05,0.08,0.08,0.11,0.21,0.14,1.5,0.9,0.83,0.08,0.68,0.08,0.02,0.07,5.72,0.28,0.09,0.71,0.02,0.46,0.4,0.38,1.51,0.06,0.05,0.02,0.57,0.03,0.16,0.99,0.17,0.27,0.3,0.1,0.43,0.08,0.16,0.39,0.17,0.13,0.02,2.81,0.09,0.04,0.03,1.08,0.31,0.41,0.41,0.84,0.03,0.13,0.19,0.04,0.1,0.06,0.09,1.15,0.57,0.07,0.94,0.27,0.12,0.07,0.31,0.7,0.92,0.11,0.07,0.41,0.35,0.03,0.02,12.14,0.06,0.45,0.04,0.1,1.31,0.57,0.01,0.88,1.7,0.17,0.58,0.16,0.02,0.1,0.49,1.65,0.48,0.26,1.45,0.02,0.16,0.05,0.23,0.32,0.12,0.01,0.03,0.03,0.01,0.55,0.11,0.08,0.25,3.15,0.06,0.01,0.17,0.07,0.11,0.59,1.06,0.08,0.1,0.01,1.08,0.03,0.97,0.15,0.35,4.68,0.04,0.44,0.08,4.25,2.1,0.47,0.02,0.31,0.18,0.64,0.03,0.19,0.03,1.08,0.03,0.09,1.61,1.61,0.58,0.05,1.75,0.03,0.05,0.1,0.11,0.02,0.04,2.87,0.05,1.28,0.14,3.44,0.28,6.67,0.02,0.04,0.13,0.05,0.05,0.07,0.47,0.63,0.02,0.15,0.02,0.05,0.02,0.39,0.13,0.31,0.49,0.56,0.02,2.38,0.11,0.05,0.07,0.29,0.2,0.65,0.04,0.46,0.15,13.73,0.98,0.19,0.11,0.57,0.02,0.04,0.26,0.17,2.39,0.02,0.21,1.59,0.52,0.03,0.07,0.26,0.57,0.08,0.17,0.27,0.01,0.29,0.01,0.23,0.39,0.09,0.27,0.14,0.72,3.34,0.16,0.62,0.52,0.16,0.05,0.19,0.13,0.22,0.9,0.06,0.13,0.39,0.07,0.19,0.22,0.33,0.17,0.05,0.06,0.06,0.18,0.15,0.92,0.1,0.21,0.39,0.95,0.2,0.06,0.11,0.13,0.31,0.05,0.03,0.13,1.22,0.33,4.24,0.11,0.02,0.05,0.09,0.42,0.55,0.07,1.23,1.81,0.07,0.29,0.07,1.13,0.1,0.05,0.39,0.16,1.21,1.14,3.62,0.05,0.2,0.09,0.07,0.06,0.04,0.74,2.03,0.19,0.34,0.06,0.02,3.09,0.19,0.04,0.12,0.09,0.1,1.41,0.72,0.04,0.04,0.73,0.82,0.05,0.28,0.07,0.1,0.05,0.08,0.16,2.25,0.24,0.13,1.48,0.91,0.45,0.06,0.02,0.05,1.43,0.02,0.14,0.14,1.16,0.88,0.27,0.32,0.02,0.05,0.04,0.15,0.05,0.15,0.15,0.13,1.54,1.86,0.04,0.42,0.73,0.01,0.03,0.35,1.39,0.04,4.21,0.6,0.65,0.04,0.03,0.1,0.09,0.17,0.02,0.53,0.05,0.44,0.4,0.18,0.18,0.31,1.95,0.03,0.06,1.0,0.09,0.02,0.03,0.88,0.67,0.29,0.08,0.18,1.7,0.02,0.04,0.03,0.02,0.08,0.96,0.12,0.8,0.5,0.5,0.16,0.11,0.99,0.42,0.41,0.02,0.05,0.79,0.09,0.05,0.03,0.61,1.16,0.23,0.15,0.29,0.17,0.05,0.04,0.22,0.08,2.54,0.13,0.06,0.3,0.02,0.03,0.18,0.14,0.01,3.54,0.9,0.14,0.21,0.05,0.35,0.12,0.26,1.0,0.02,0.09,0.01,0.01,0.06,2.94,0.62,1.85,0.77,0.27,0.3,0.23,0.15,0.42,0.18,0.01,0.12,0.02,0.06,0.03,0.13,0.24,0.19,0.09,0.03,0.13,0.08,0.19,0.49,0.13,0.2,0.19,0.28,0.02,0.79,0.06,0.24,0.05,0.87,0.87,0.07,0.07,0.82,0.17,0.3,0.2,0.1,0.03,0.25,0.02,1.35,0.05,1.36,0.05,0.75,0.21,0.01,0.37,0.04,0.14,0.06,0.38,0.03,0.02,0.14,0.39,0.16,0.26,0.4,0.16,0.13,0.09,0.03,0.66,0.24,0.02,0.1,1.08,0.07,0.03,0.56,0.08,0.54,0.07,0.29,0.61,0.02,0.29,0.12,0.02,0.22,0.11,0.17,0.03,0.03,0.63,0.09,0.15,1.06,1.1,0.13,1.06,0.51,0.25,0.11,0.16,0.13,0.52,0.89,0.05,0.28,3.9,0.26,0.02,0.02,1.13,0.33,0.01,0.37,0.21,0.07,0.11,0.51,0.07,0.07,0.44,3.0,0.08,0.07,0.23,0.42,0.11,0.04,0.37,0.24,0.11,0.04,1.42,0.35,0.04,0.56,0.87,0.16,0.24,0.34,0.32,0.04,0.65,0.2,0.16,0.14,0.23,0.12,0.03,0.02,0.1,0.07,0.21,0.23,4.6,0.04,0.03,0.13,0.11,0.67,0.18,0.14,0.13,3.49,0.32,0.5,1.41,0.08,0.02,0.14,0.06,0.65,1.78,0.19,0.47,0.05,0.87,0.01,0.18,0.45,0.25,0.06,1.01,2.18,0.61,0.2,0.38,0.37,0.06,0.52,0.78,0.75,2.31,0.03,0.04,0.36,0.55,0.16,0.13,0.03,0.02,0.53,0.48,0.48,0.08,0.78,0.05,3.45,0.22,0.02,0.21,2.04,0.42,0.25,0.36,0.27,0.71,0.11,0.01,0.21,1.05,0.01,1.27,0.36,0.02,0.13,0.8,0.13,0.43,2.78,0.92,1.35,0.2,1.15,0.03,0.36,1.58,0.21,0.45,0.03,0.02,0.57,0.26,0.13,1.17,0.02,0.08,0.04,2.38,0.05,0.29,0.43,1.01,0.85,5.11,0.48,0.07,0.64,1.26,0.45,0.15,0.06,0.19,0.19,1.77,0.01,0.03,0.05,0.04,0.73,0.08,0.01,0.13,0.01,0.19,0.18,1.16,0.27,0.03,0.8,10.26,1.73,0.33,0.1,0.11,0.08,0.06,0.02,1.27,2.79,0.12,0.09,0.11,0.02,0.08,0.14,0.01,0.27,0.14,0.08,0.03,3.5,0.04,0.91,0.11,0.03,0.19,0.12,0.27,0.08,0.45,0.15,0.17,0.05,0.13,0.09,0.22,0.01,0.06,0.15,0.43,0.16,0.42,0.01,0.22,0.11,0.03,0.23,0.58,0.05,0.04,0.03,0.09,0.56,0.06,0.03,0.14,0.53,0.03,0.15,0.03,0.06,0.03,2.2,2.14,0.16,0.57,0.07,0.19,1.25,0.05,0.05,0.43,1.16,0.05,0.06,0.03,1.52,1.77,1.14,4.14,0.04,0.28,0.02,0.12,0.21,0.06,0.04,0.08,0.36,0.14,1.27,0.07,0.43,0.04,0.62,0.02,0.11,0.02,1.45,0.46,0.9,0.06,0.13,0.02,0.11,0.03,0.31,0.15,0.06,6.28,2.9,0.29,0.4,0.2,0.11,0.16,0.03,0.12,0.09,0.3,0.1,0.2,0.02,0.1,5.2,1.4,0.3,0.09,0.06,0.73,0.03,0.1,0.45,2.1,0.15,0.84,0.55,0.27,0.14,4.67,0.18,1.19,0.07,1.13,0.09,1.58,0.06,0.95,0.08,0.02,0.21,0.01,0.02,0.02,0.65,0.02,0.07,0.25,0.08,0.13,1.92,0.37,0.12,0.01,0.09,0.35,0.09,0.89,1.52,0.12,0.45,0.07,0.15,0.39,0.07,0.71,0.01,5.01,1.84,0.19,0.24,0.2,0.11,0.13,0.18,0.03,0.06,0.8,0.09,0.55,0.04,3.16,0.48,0.02,0.04,0.92,0.02,0.05,0.04,0.1,0.48,0.05,0.39,1.07,0.17,0.1,0.04,0.71,0.24,0.08,0.79,0.75,0.14,6.6,0.42,0.46,0.2,0.13,0.12,0.08,0.39,0.28,0.03,0.59,0.2,0.73,2.65,0.21,0.15,0.16,1.09,0.01,1.0,0.14,0.54,0.17,0.72,0.63,0.12,0.51,3.41,0.03,1.25,0.04,10.21,0.72,0.05,0.09,2.4,0.14,0.02,0.06,0.76,1.34,0.06,0.12,0.61,0.76,0.3,0.04,0.6,0.43,0.02,1.53,0.05,0.13,0.46,5.08,0.13,0.43,0.1,0.68,0.05,4.62,0.11,0.78,0.03,0.95,0.18,0.24,0.03,1.08,0.93,0.33,0.04,0.05,0.49,0.06,0.03,0.03,0.02,0.22,0.16,0.04,0.42,0.39,0.17,8.09,0.05,1.16,0.17,1.13,0.36,0.27,28.62,0.21,0.19,0.11,0.22,0.14,0.04,0.21,0.08,0.1,0.01,0.13,0.04,0.01,0.64,0.06,0.03,0.36,0.67,0.05,0.23,2.73,0.13,0.6,0.06,0.3,0.32,0.26,0.11,1.87,0.51,0.39,0.01,0.01,0.02,0.08,0.06,0.09,0.14,0.15,0.12,0.13,1.31,0.12,0.09,0.01,0.02,3.51,0.04,0.06,0.06,0.24,0.05,0.01,0.17,0.02,0.19,0.27,1.29,0.52,1.03,0.2,0.55,0.46,0.35,0.07,0.02,0.1,0.57,0.18,0.04,0.11,0.2,5.84,0.17,0.28,0.38,0.25,0.29,1.23,1.05,0.87,0.06,0.31,0.39,0.46,0.33,0.33,0.02,0.01,0.12,0.16,0.15,0.11,0.08,0.23,0.02,0.58,0.48,1.66,0.42,0.31,0.36,0.04,1.25,0.48,0.03,0.04,0.49,0.41,0.21,1.72,0.16,2.4,0.05,1.79,5.08,0.08,0.09,1.58,1.38,0.01,0.02,0.02,0.03,0.08,0.04,0.05,3.0,0.01,0.42,0.12,0.19,0.25,0.07,1.32,0.1,0.02,0.18,0.08,0.62,0.09,0.46,0.14,0.03,0.18,0.02,0.13,0.45,0.59,0.03,0.23,1.89,0.33,0.37,0.06,0.56,2.11,0.09,0.05,0.58,0.39,0.4,0.12,0.08,0.16,0.23,3.23,0.51,2.85,0.17,0.54,0.03,0.05,0.01,0.63,2.25,0.57,0.2,0.25,0.2,0.05,0.01,0.07,0.11,0.02,0.09,0.04,0.05,0.12,0.19,0.12,0.24,0.03,0.5,0.3,0.02,0.27,0.12,0.75,0.22,3.51,0.06,0.26,0.03,0.5,0.95,0.12,0.77,0.05,0.08,0.07,0.08,0.06,0.28,0.46,0.25,0.15,0.21,0.22,0.23,0.15,0.15,0.04,0.95,0.15,0.25,0.17,0.08,0.03,0.03,0.11,0.07,0.1,0.24,0.07,0.02,0.32,1.43,0.19,0.44,0.01,0.48,0.06,1.48,0.27,0.24,0.12,0.74,0.06,0.11,0.04,0.07,0.53,2.54,0.16,0.08,0.03,0.64,0.13,0.14,0.4,0.06,0.74,0.14,1.18,0.23,10.77,0.36,0.54,0.02,0.71,0.52,0.47,0.06,1.04,0.07,0.19,0.04,0.15,0.13,1.22,0.41,0.53,0.02,1.33,0.17,0.04,0.1,1.07,0.34,0.19,0.14,0.04,0.78,0.06,0.28,0.13,0.38,0.06,0.57,0.13,0.03,2.64,0.19,0.13,0.03,0.46,0.17,0.57,3.42,0.01,0.13,0.29,0.26,0.5,0.29,0.05,1.07,0.08,1.66,0.38,0.26,0.04,0.18,2.68,0.03,0.68,0.06,0.22,0.19,0.25,0.06,0.21,0.14,0.05,0.06,0.02,0.11,2.47,0.19,0.04,0.02,0.32,2.06,0.16,0.19,0.13,0.12,0.18,0.4,0.95,0.08,2.86,0.21,0.07,0.18,0.32,0.25,0.27,0.33,0.12,0.07,0.11,0.11,0.07,1.2,0.21,0.36,0.33,0.05,0.1,0.42,0.36,0.34,0.53,0.11,0.01,0.23,0.06,0.15,0.03,0.17,0.12,0.64,0.1,0.1,0.06,3.77,1.67,4.5,0.18,1.1,0.5,0.19,0.18,0.06,0.04,0.69,0.25,0.98,1.6,0.54,0.76,0.6,0.54,0.06,0.04,0.03,0.14,0.16,0.41,0.13,1.4,0.03,0.42,1.14,0.01,1.6,0.08,0.01,0.51,0.04,0.15,0.3,0.32,0.12,0.06,0.28,2.21,0.03,0.08,0.23,30.26,0.06,0.15,0.1,0.65,0.17,0.03,0.3,0.29,0.14,1.65,0.11,0.25,0.02,0.67,0.03,0.33,0.09,0.24,0.03,0.36,0.01,0.19,0.19,0.02,0.01,0.55,0.02,3.24,0.21,0.13,0.02,0.05,0.5,0.21,0.15,0.11,0.08,2.26,0.03,0.18,0.96,2.92,1.83,0.8,0.26,0.15,0.46,0.09,0.06,0.88,6.03,0.53,0.15,0.15,1.63,0.02,0.13,0.13,1.2,0.01,0.11,0.75,0.14,0.07,1.01,0.03,0.23,0.2,0.12,0.1,0.05,1.33,0.05,0.39,0.06,0.07,0.05,0.2,0.05,0.42,0.66,0.41,0.15,0.14,0.13,0.02,0.02,0.28,0.01,0.08,0.44,0.31,0.66,0.09,0.5,0.04,0.04,0.04,2.28,0.27,0.02,0.19,0.67,0.26,0.22,0.07,0.01,0.23,1.47,0.09,0.15,0.04,0.16,0.17,0.81,0.04,0.08,0.03,0.07,1.08,0.21,0.27,0.03,0.84,0.5,0.22,0.1,0.42,0.04,0.16,0.28,0.04,0.16,1.25,0.16,0.15,0.03,0.63,0.97,0.06,0.23,0.26,0.35,0.02,0.18,4.05,0.01,0.46,0.21,0.14,0.29,1.7,0.04,0.14,0.19,0.27,1.66,0.07,0.12,0.11,0.06,0.02,0.12,0.05,0.21,0.11,4.41,0.77,2.02,0.08,0.01,0.22,0.2,0.3,0.01,0.17,0.04,0.2,0.14,0.11,0.58,0.05,0.17,0.29,0.18,0.88,0.28,0.47,0.37,0.02,1.22,0.07,0.02,0.23,0.07,6.24,0.04,0.27,0.06,6.3,0.08,0.25,2.42,0.08,0.78,0.27,0.31,0.18,1.68,0.46,0.07,0.29,1.42,0.25,0.74,0.72,0.94,0.87,0.01,3.98,0.39,0.05,0.06,0.3,0.03,0.16,0.12,0.26,0.03,0.09,0.22,0.07,0.06,0.16,0.02,0.12,0.02,0.31,0.03,0.53,0.64,0.26,0.08,0.03,0.06,0.01,0.06,2.51,0.09,0.13,0.45,0.66,0.03,0.18,0.34,0.39,1.33,0.05,0.43,0.29,0.09,14.35,0.04,0.02,0.08,5.24,1.4,0.06,0.06,0.07,0.11,0.09,0.01,0.63,0.09,0.29,0.68,0.04,0.6,1.0,0.06,0.02,1.76,1.46,3.48,0.04,0.45,0.04,0.03,0.05,0.89,0.09,0.29,0.63,0.03,0.12,0.56,2.63,0.13,0.22,0.01,0.02,0.11,0.02,0.26,2.38,0.53,0.49,0.48,0.25,1.0,1.12,0.02,0.08,0.23,0.01,0.04,0.01,0.08,1.05,0.24,0.03,0.02,0.27,0.03,0.7,0.1,0.02,0.03,5.57,0.12,1.26,0.05,2.43,0.67,0.25,0.18,0.2,1.39,1.19,0.05,0.32,0.59,0.63,0.38,0.06,0.47,0.89,0.49,0.05,0.45,0.11,0.03,0.25,0.06,0.03,0.15,0.01,0.28,0.14,0.16,0.06,0.11,0.01,0.02,0.01,0.12,2.28,0.02,0.2,0.24,0.06,0.08,0.14,0.23,0.06,0.03,0.81,0.21,0.02,0.05,0.77,0.17,0.51,0.14,0.24,0.18,4.87,0.02,0.02,0.34,0.73,0.79,0.07,0.63,0.04,0.45,0.07,0.01,0.1,0.19,0.87,0.44,0.02,0.43,0.05,0.93,0.08,0.29,0.14,0.03,0.02,0.02,0.01,0.01,0.06,0.29,0.02,0.1,0.09,1.92,0.12,0.02,0.01,0.08,0.4,0.39,0.19,1.92,1.0,1.02,0.23,0.01,0.04,0.8,0.76,0.01,0.53,0.05,0.04,0.13,0.28,1.61,0.18,0.1,0.63,1.91,0.96,0.09,0.03,0.2,0.68,0.15,0.03,0.33,0.02,0.76,0.11,1.08,0.22,0.06,0.04,0.05,0.1,0.02,0.52,0.15,0.06,0.24,0.02,0.08,0.1,0.02,0.4,1.89,0.26,0.03,0.44,5.08,0.69,0.03,0.09,1.67,0.87,0.03,1.06,0.12,0.99,0.15,0.12,0.04,0.71,0.04,2.06,0.04,0.03,1.28,0.06,2.4,0.51,0.05,0.1,0.02,0.04,0.2,1.33,0.1,23.1,0.02,0.06,0.51,0.32,0.04,0.33,0.15,0.14,0.01,1.24,0.32,0.07,1.09,0.58,0.11,0.45,0.03,0.24,0.08,0.49,0.02,0.74,0.22,0.02,0.06,0.02,0.27,0.45,0.14,0.06,0.05,0.03,0.07,0.38,0.15,0.2,0.08,0.02,2.18,0.4,0.15,0.02,0.58,0.05,0.41,0.09,0.26,2.65,0.06,3.15,0.29,0.01,1.69,0.1,0.56,1.3,0.05,0.11,1.74,0.12,0.42,0.09,0.02,0.35,0.1,0.42,0.55,7.6,0.99,0.01,0.81,0.05,2.39,0.04,1.11,1.37,0.73,0.1,0.04,0.25,0.19,2.3,0.05,0.21,0.3,4.2,0.07,0.4,0.83,0.14,0.36,0.06,0.71,0.51,0.69,0.02,0.96,0.5,0.3,0.03,0.01,0.1,3.19,0.4,0.1,0.05,0.95,0.09,0.02,0.03,0.62,0.03,1.1,0.06,0.11,0.09,2.49,0.09,0.17,0.09,0.21,0.01,0.15,1.02,0.17,0.01,0.04,0.08,0.4,0.03,0.29,0.11,0.71,0.01,0.22,0.45,0.05,0.08,0.47,10.69,0.33,4.03,0.25,0.38,0.07,0.1,1.15,0.13,0.01,0.29,0.02,0.06,0.38,0.87,0.33,0.03,0.82,0.18,0.12,2.9,0.29,0.11,0.07,0.57,0.09,0.33,0.25,0.22,0.65,1.17,1.06,0.25,0.02,1.11,6.72,0.01,0.46,0.04,0.11,0.1,0.41,0.09,0.61,0.03,0.09,0.02,2.37,0.82,1.0,0.81,0.1,0.01,0.42,1.39,2.04,0.46,0.17,1.68,0.12,0.16,0.16,0.12,0.11,0.06,0.38,0.06,0.09,0.03,0.19,0.15,0.02,0.69,0.02,0.01,0.11,0.02,0.27,2.81,0.08,0.02,0.01,0.42,0.59,1.2,0.12,0.12,0.33,0.13,0.02,0.32,0.9,0.2,0.14,0.05,1.56,0.03,0.12,0.03,0.07,0.44,0.96,0.06,0.03,0.41,0.94,0.15,0.22,0.1,0.21,0.01,0.01,0.03,0.4,0.03,0.7,0.07,0.32,0.23,0.11,0.08,0.21,0.02,0.05,0.03,0.28,1.35,0.2,0.84,0.06,2.88,1.32,0.98,0.69,0.31,0.11,0.1,0.15,0.04,0.02,0.01,0.42,0.06,0.18,0.14,2.04,0.08,2.99,0.28,0.03,0.01,0.08,0.31,0.57,0.21,0.03,0.05,0.47,0.27,0.83,4.24,0.51,0.05,1.15,1.65,0.14,2.32,0.06,0.34,0.29,0.08,0.3,0.01,0.32,0.1,0.06,0.15,0.03,0.1,1.32,0.11,0.38,0.25,0.77,0.12,0.28,0.04,0.17,0.65,0.03,0.15,0.02,0.03,1.76,0.22,0.2,0.01,1.32,0.01,0.08,0.05,0.03,0.08,0.02,0.15,0.02,0.05,2.32,1.05,0.32,0.04,0.07,0.13,0.07,0.1,0.19,0.04,0.02,0.21,0.42,0.05,1.69,0.17,0.11,0.78,0.68,0.06,0.02,0.68,0.75,0.2,0.16,0.05,0.52,0.03,0.3,1.06,0.97,1.0,0.03,0.17,0.21,0.07,0.04,0.03,0.2,1.56,0.36,0.49,0.18,0.37,1.0,0.18,0.15,0.07,0.21,0.01,0.2,0.94,0.15,0.45,0.25,0.03,0.36,0.04,0.01,0.98,1.45,0.09,2.13,0.4,0.27,0.64,0.15,0.14,0.77,0.27,1.47,0.26,0.87,0.2,0.59,0.11,0.06,0.09,0.9,0.07,1.19,0.5,0.51,0.85,1.14,0.3,0.09,5.42,0.54,1.36,0.33,2.99,0.05,0.01,1.54,0.36,0.09,0.24,0.11,0.06,0.51,0.04,0.02,0.13,0.04,0.39,0.35,0.64,0.05,0.3,0.06,0.11,0.09,0.22,0.54,0.08,0.32,0.29,0.26,0.1,0.71,11.52,0.29,1.34,0.06,0.35,1.08,0.04,0.39,0.5,0.52,0.44,0.85,0.08,1.16,0.18,0.36,0.06,0.1,0.54,0.01,0.02,0.17,0.15,0.04,0.14,0.07,0.61,0.13,2.27,0.1,0.03,2.78,0.35,0.01,0.93,0.18,2.88,0.27,0.37,0.03,0.94,6.83,0.38,0.3,0.07,0.54,0.05,0.18,0.06,2.31,0.02,0.3,0.09,0.2,0.23,0.01,0.02,1.75,0.37,2.13,0.02,0.27,0.09,1.0,0.52,0.52,0.45,0.03,0.37,0.02,0.38,0.05,0.13,0.66,0.11,0.1,0.02,0.03,0.81,0.09,0.46,0.06,0.24,0.32,0.15,0.63,0.08,0.25,1.02,0.02,0.04,0.05,0.08,0.07,0.18,0.42,0.2,0.15,0.34,0.26,0.24,0.05,0.65,0.15,0.23,0.2,0.05,0.02,0.41,0.15,0.19,3.07,0.51,0.29,1.62,0.4,1.74,0.02,8.06,0.04,0.34,1.23,0.12,2.45,2.27,0.01,1.03,3.88,0.07,0.08,3.19,0.02,0.23,0.03,0.01,0.33,0.19,0.04,0.3,2.22,0.72,1.44,0.04,0.05,0.25,0.1,0.1,1.04,1.11,0.17,0.15,3.73,0.04,1.11,0.03,0.5,0.1,0.12,0.18,0.03,2.57,0.21,0.03,0.07,0.07,0.11,0.2,0.97,0.02,0.35,0.03,0.03,0.02,0.11,0.09,0.14,0.18,0.9,0.44,0.24,0.33,0.09,4.21,1.08,0.51,0.02,0.88,0.05,0.02,0.07,1.0,0.03,0.03,5.43,0.99,0.31,0.02,0.29,0.14,0.49,1.23,0.25,1.64,0.29,0.8,0.19,0.01,0.2,0.42,0.1,1.59,0.17,0.04,0.05,0.01,0.17,0.12,0.02,0.2,0.01,0.03,2.37,0.38,0.01,0.07,0.29,0.34,0.09,0.67,0.06,0.27,0.58,0.02,0.35,0.06,0.11,0.12,0.41,0.07,0.61,0.19,0.06,0.1,1.6,0.02,1.38,0.27,0.49,1.52,0.23,0.07,0.08,0.33,0.07,0.78,0.04,0.09,1.51,0.19,1.23,0.45,0.28,0.05,0.45,0.08,0.22,0.41,0.07,0.11,2.41,0.08,0.23,3.14,0.43,0.03,0.23,1.19,3.07,0.37,0.33,0.04,0.53,0.06,0.01,0.22,0.14,0.13,0.07,0.09,1.37,0.02,0.51,0.08,0.06,0.09,0.93,0.14,0.01,0.12,0.85,0.16,0.16,0.08,0.07,0.07,0.08,0.53,0.07,0.64,0.17,0.07,0.01,0.8,0.61,0.31,0.14,0.17,0.01,0.03,0.42,0.05,0.98,0.34,0.57,0.12,0.2,0.12,0.11,0.08,0.2,0.19,1.21,3.61,0.06,0.09,0.06,1.98,0.08,0.07,0.44,0.39,0.02,0.36,0.45,0.46,0.03,1.05,0.23,0.16,0.03,0.69,1.62,0.17,0.1,0.05,0.47,0.37,0.14,0.81,0.59,0.64,0.02,0.01,2.08,0.67,1.04,0.33,20.81,0.52,0.11,0.29,0.04,0.07,0.46,0.04,0.9,0.37,0.03,0.7,0.33,0.26,0.27,0.08,0.97,0.22,0.02,0.66,0.58,0.06,0.16,2.0,0.09,6.69,4.96,0.25,0.23,0.61,0.07,2.02,0.87,0.23,0.67,0.01,0.43,0.01,0.27,0.11,0.07,0.17,0.03,0.07,0.03,2.38,0.08,0.02,0.09,3.12,0.47,0.27,0.05,0.25,0.03,0.34,0.02,0.23,1.0,0.14,0.14,0.02,1.41,0.04,0.16,6.96,0.14,0.62,0.38,2.57,0.09,0.02,0.29,0.05,0.05,0.04,0.02,1.56,0.76,1.72,0.32,0.02,0.21,0.18,0.01,0.58,2.28,0.04,0.17,0.31,0.03,1.41,0.71,0.1,0.05,0.14,0.1,0.54,1.2,0.11,0.02,6.91,0.02,0.05,0.38,0.11,0.02,2.25,0.67,1.1,1.67,0.12,0.01,0.83,0.3,0.02,0.17,0.71,0.37,0.28,0.43,0.01,0.47,0.15,0.04,0.17,0.79,0.15,0.01,0.17,0.16,0.08,0.59,0.45,0.27,0.05,0.03,0.2,0.24,3.44,0.1,0.01,0.08,2.89,0.11,0.38,1.15,0.89,0.86,0.04,2.26,0.41,0.13,0.19,1.93,0.14,0.34,0.12,0.32,0.07,0.46,0.21,0.12,0.62,0.62,2.08,0.02,0.43,0.04,0.19,0.86,0.06,0.04,0.34,0.01,0.09,0.14,0.02,0.03,0.05,0.04,0.81,0.18,0.21,0.48,0.12,0.02,2.27,0.08,0.79,0.04,0.23,0.2,0.02,0.13,0.23,0.33,0.49,1.22,0.28,0.76,0.03,0.27,0.44,0.04,0.51,2.69,0.47,0.29,0.13,0.02,0.07,0.03,0.01,0.02,0.11,0.2,0.07,0.34,1.78,0.07,0.61,0.04,0.71,0.17,0.73,0.07,0.38,0.1,0.02,0.4,0.39,0.07,0.03,0.57,0.12,0.66,0.09,0.11,0.25,0.02,0.19,0.02,0.49,4.0,0.06,0.03,0.55,0.44,0.03,1.59,0.1,0.06,0.09,0.49,0.04,0.11,0.14,0.02,0.02,1.05,0.04,0.17,0.07,0.01,0.68,0.15,0.51,0.06,0.17,0.22,0.01,0.03,0.08,0.2,0.47,0.12,1.88,0.65,1.04,0.4,0.12,0.41,2.18,0.19,0.21,0.24,0.07,3.76,0.32,0.04,0.05,0.02,0.3,0.06,2.97,0.02,1.23,0.27,7.23,1.21,1.12,0.05,1.19,0.04,0.29,0.22,0.28,0.15,0.26,1.33,0.3,0.29,0.1,1.55,0.59,0.38,31.37,0.06,0.14,0.1,0.08,0.1,1.46,0.52,0.03,0.26,0.31,0.08,0.73,1.18,0.18,0.5,0.2,0.09,0.12,0.24,0.4,0.09,0.15,0.53,0.12,0.75,0.32,0.22,0.03,0.14,0.31,5.0,0.27,0.04,0.23,0.05,0.08,1.52,0.18,0.07,0.52,0.5,0.29,0.21,0.65,0.58,0.14,0.36,0.37,0.09,0.04,0.02,0.78,1.94,0.1,0.54,0.87,0.06,0.02,0.03,0.05,0.23,0.16,0.06,0.11,0.54,0.07,0.19,0.13,0.58,4.09,0.91,0.87,0.8,0.39,0.29,0.66,0.75,0.89,0.05,0.19,0.57,3.11,0.09,0.8,0.95,0.18,0.04,0.05,0.03,0.11,0.07,0.09,0.13,1.4,0.32,0.56,0.1,0.11,0.09,0.04,0.31,0.04,0.01,0.15,0.16,0.74,0.35,0.03,2.56,0.08,0.07,0.1,0.02,0.43,0.28,0.09,0.02,0.01,0.77,0.03,0.02,0.05,0.56,0.08,0.08,0.42,0.03,0.98,0.18,0.06,0.07,0.16,0.53,0.51,0.02,1.52,1.09,0.21,0.39,7.81,0.08,0.44,0.08,1.04,0.76,0.05,0.12,0.02,0.16,0.02,0.36,3.03,0.53,0.02,0.26,0.23,0.17,0.01,0.47,0.21,0.15,0.19,0.06,0.32,0.2,0.87,0.1,0.07,0.65,0.02,0.02,0.11,0.09,0.15,0.1,0.36,0.35,1.1,0.06,0.17,0.33,0.02,16.38,0.31,0.08,0.32,0.11,0.08,0.29,0.11,0.01,0.06,2.65,0.04,0.19,0.28,0.01,0.14,6.59,0.02,0.03,0.04,0.02,0.5,0.03,0.76,0.08,0.18,1.04,0.16,0.01,0.03,0.02,0.14,0.29,0.04,0.36,0.12,0.1,4.22,0.09,0.29,0.14,1.44,0.18,0.03,0.43,0.03,0.14,0.36,0.14,0.12,1.18,0.53,0.9,0.26,3.63,0.06,0.98,0.25,0.02,0.1,1.22,0.34,0.38,0.01,0.03,0.09,0.08,1.1,0.45,0.09,0.19,0.01,0.04,0.32,0.03,0.13,0.16,0.3,0.63,0.02,0.06,0.04,0.4,0.29,0.29,0.06,0.07,0.01,0.95,1.68,0.02,0.1,0.11,0.19,0.13,0.02,0.06,0.09,0.04,0.05,2.18,0.18,0.21,0.02,0.17,0.07,0.36,0.03,0.15,0.18,0.02,0.63,0.01,3.84,0.08,0.29,0.37,0.11,0.02,0.06,0.02,0.07,0.05,0.17,0.08,0.03,0.1,0.19,0.14,0.06,0.84,0.02,0.09,3.26,0.04,0.19,0.06,0.07,0.3,0.43,0.03,0.02,1.3,0.09,0.17,0.34,0.08,0.49,0.34,0.11,0.23,0.1,0.4,6.03,0.17,0.3,0.25,0.13,0.02,0.05,0.24,0.04,0.27,0.18,0.39,0.73,0.86,0.06,0.04,0.02,0.32,0.13,1.0,0.39,0.04,0.13,0.01,0.17,0.21,0.26,0.22,0.05,0.01,0.03,0.09,0.75,0.02,0.04,0.19,0.2,0.63,0.23,0.38,0.05,0.38,5.36,0.06,1.33,0.1,0.55,3.46,0.02,0.21,0.6,0.16,0.07,0.12,0.04,0.03,0.25,0.08,0.13,0.36,0.42,0.18,0.38,0.05,0.01,0.08,0.26,0.11,0.06,0.01,0.02,0.01,0.08,0.78,6.39,0.34,0.03,0.08,0.02,0.02,0.2,0.22,0.1,0.04,0.01,0.05,0.19,0.12,0.01,0.03,0.3,0.07,0.08,1.17,0.23,0.05,1.41,0.05,0.46,0.3,2.65,0.47,1.11,0.12,0.18,0.71,2.12,0.06,0.22,0.01,0.05,0.63,0.19,0.99,0.03,0.04,0.04,0.4,0.23,2.25,0.05,0.04,0.12,2.85,0.19,0.19,0.38,0.01,0.47,0.23,0.31,1.14,0.05,0.01,0.14,0.03,0.66,0.26,0.06,0.08,2.95,0.02,0.11,0.08,0.17,0.18,0.06,0.4,0.68,1.44,0.43,0.16,0.11,0.24,0.06,1.22,0.01,0.12,0.18,0.47,0.27,0.06,0.4,0.02,0.05,0.03,0.08,0.02,0.1,0.02,0.16,0.12,1.33,0.17,0.02,2.56,0.83,0.02,0.49,0.58,0.01,0.1,1.36,0.02,0.03,0.02,0.09,0.13,0.03,0.03,0.16,0.42,0.1,0.03,0.56,0.07,0.9,0.35,0.3,1.17,0.19,0.2,0.01,2.22,0.04,0.05,0.03,3.77,0.02,0.4,0.72,1.56,0.16,0.54,0.03,0.63,0.2,0.03,0.79,0.05,0.88,0.07,0.1,2.48,0.29,0.36,1.53,0.3,0.12,2.67,1.38,1.47,0.17,4.39,1.46,0.02,0.09,0.03,0.03,0.12,0.03,0.97,1.76,1.46,0.61,0.25,1.12,0.07,0.01,0.11,0.11,0.02,0.34,2.82,0.1,0.23,0.4,0.5,1.21,1.69,0.26,5.2,0.17,6.34,1.62,1.76,1.2,1.1,0.04,0.24,0.05,0.12,0.55,0.13,0.26,0.3,0.51,0.42,0.07,0.12,0.33,0.1,0.14,1.44,0.62,0.04,0.63,0.07,0.02,0.07,0.35,0.4,0.01,0.07,0.77,0.03,0.04,0.05,0.16,0.14,0.93,0.08,0.05,0.4,0.55,0.41,0.05,0.13,1.67,0.06,0.24,0.15,0.02,0.03,0.13,3.36,1.66,0.16,0.06,1.19,0.31,0.05,0.02,0.02,0.39,0.19,0.17,0.05,0.03,0.22,0.08,0.31,1.31,0.09,0.28,0.55,0.21,0.62,0.03,0.92,0.21,0.03,0.04,0.19,0.22,0.01,0.04,0.05,0.2,0.51,0.31,0.48,0.04,0.1,0.07,0.03,0.09,0.02,0.72,0.12,1.15,0.03,0.25,0.15,0.98,0.07,0.06,1.23,0.05,0.21,0.13,0.19,0.02,0.53,0.24,0.05,0.05,0.13,0.87,0.31,0.11,0.61,0.18,0.38,0.05,1.86,0.32,0.5,0.12,0.02,0.39,0.15,2.52,0.4,1.44,0.85,0.03,0.17,0.06,1.1,1.5,0.12,0.03,0.71,4.16,0.43,0.39,0.31,0.14,0.22,0.51,0.02,1.08,1.4,0.29,2.44,0.68,0.13,0.49,0.05,0.06,0.41,2.28,3.81,0.12,0.68,0.18,0.28,1.35,0.64,0.44,0.2,0.56,0.03,0.33,0.05,0.47,1.25,3.28,0.35,0.15,0.12,0.03,0.11,0.08,0.09,0.37,0.02,0.03,0.05,0.84,0.05,1.09,0.04,1.17,1.95,0.11,1.55,0.8,0.02,0.11,0.29,0.15,0.08,0.23,1.04,0.2,0.07,0.36,0.31,0.52,0.02,0.29,0.36,0.01,1.73,0.04,0.21,0.45,1.32,0.59,0.02,0.37,0.08,0.02,0.43,1.18,1.43,0.63,0.33,0.03,2.09,0.06,0.02,0.04,0.14,1.43,0.07,0.38,0.04,0.02,0.17,0.3,0.43,0.12,0.28,1.1,0.58,7.46,1.11,1.22,0.09,1.59,0.09,0.62,0.11,0.02,1.04,0.25,0.01,0.47,0.02,0.57,0.43,0.38,0.93,0.43,0.31,0.02,2.91,0.13,0.02,0.14,0.1,0.21,0.12,0.13,0.03,0.48,0.59,0.07,0.05,0.04,0.07,0.34,1.64,0.36,0.39,0.02,1.36,0.68,0.07,0.11,1.76,0.05,0.12,0.25,0.15,1.43,0.04,0.07,4.02,1.12,0.09,0.13,0.06,0.07,0.01,0.14,0.2,0.02,0.05,0.09,0.1,0.16,0.07,0.81,0.11,0.01,0.18,0.03,0.18,0.3,0.04,0.47,0.13,1.24,0.13,0.11,0.89,0.15,0.64,1.18,0.8,0.06,0.69,0.55,0.72,0.4,0.04,0.03,0.13,0.06,0.1,0.6,0.02,0.09,0.67,0.34,0.01,0.06,1.74,0.02,0.02,0.94,0.14,0.03,0.07,0.02,0.33,0.01,0.1,0.03,0.69,0.01,0.06,0.14,0.45,0.05,0.02,0.1,0.1,0.05,0.04,0.48,0.88,0.08,0.12,0.05,0.15,0.02,0.41,0.4,0.12,0.15,2.05,0.2,0.84,0.51,0.31,2.65,0.09,0.18,0.05,0.14,0.15,0.99,0.33,0.08,0.16,0.02,0.14,0.06,0.38,0.79,0.06,1.07,0.07,0.17,0.53,0.23,0.02,0.23,0.5,0.29,0.09,0.16,0.63,0.23,0.23,0.13,0.03,3.58,0.02,0.02,0.17,0.59,0.17,1.58,0.01,0.06,0.11,0.14,0.26,0.12,0.07,0.07,1.35,0.1,0.13,0.28,0.02,1.62,0.87,0.04,0.82,0.03,0.12,1.39,1.97,0.15,0.27,0.09,0.15,0.15,0.47,0.24,0.25,0.35,0.03,0.03,0.16,0.1,0.04,0.36,0.04,0.04,0.22,0.05,0.08,0.19,0.02,0.25,0.02,0.02,0.46,0.45,0.03,0.01,0.08,0.54,0.15,0.03,0.26,0.08,0.1,0.07,0.26,0.07,0.02,0.24,0.15,0.28,0.02,0.28,0.14,0.48,0.16,0.14,0.29,0.05,0.09,4.63,0.81,0.05,0.03,0.1,0.03,0.27,0.72,0.01,0.09,0.07,3.52,0.32,0.03,0.07,0.04,0.05,0.12,0.03,0.79,0.13,0.1,0.02,0.96,0.16,0.03,0.39,0.82,0.03,0.26,0.08,0.32,0.26,0.07,0.03,0.03,1.83,0.02,0.76,0.09,0.37,0.45,0.13,1.35,2.96,0.03,1.2,1.32,0.2,0.01,0.01,0.09,0.12,0.03,0.03,0.45,0.1,0.5,0.04,0.45,0.53,0.23,0.67,0.59,0.65,0.03,0.12,0.11,0.16,0.32,0.1,0.73,0.08,0.24,0.19,0.53,0.04,1.01,0.15,0.41,0.1,0.14,0.26,1.16,0.15,0.28,0.69,0.03,0.09,0.13,0.04,0.61,0.16,5.47,0.08,0.99,0.03,0.55,0.06,0.11,0.33,0.21,0.04,0.23,3.53,0.29,0.05,0.44,0.67,0.12,0.23,1.45,3.2,0.06,0.09,0.26,0.34,0.11,0.13,0.07,0.2,0.24,0.05,0.56,0.71,0.3,0.25,0.51,6.4,0.07,0.03,0.2,0.07,0.02,0.15,0.06,0.09,0.05,0.04,0.02,0.74,0.04,0.12,0.1,0.4,0.23,0.1,0.11,0.16,0.02,0.02,0.04,0.08,0.7,2.86,0.02,0.66,0.02,0.41,0.24,0.41,0.41,0.23,0.08,0.01,0.14,0.22,2.39,1.64,0.21,0.02,0.2,1.15,0.07,0.2,0.68,1.27,0.23,0.02,0.26,2.13,0.09,0.06,0.13,0.15,0.24,4.14,0.02,0.41,0.07,0.06,3.83,0.24,2.62,0.05,5.49,0.16,0.14,0.1,0.09,1.45,0.58,1.0,0.01,0.6,0.25,0.02,0.23,0.1,0.06,0.45,0.14,0.4,0.03,0.23,0.02,2.13,0.01,0.11,0.06,0.15,0.12,1.1,1.6,1.24,0.2,0.06,0.7,0.07,0.53,0.07,1.26,0.19,0.28,0.02,0.01,4.06,0.06,0.54,0.19,0.47,0.26,0.71,0.11,0.02,0.12,0.18,0.6,0.86,0.02,0.34,0.3,0.79,0.11,0.55,0.03,1.09,0.16,0.51,0.32,0.01,0.06,0.02,0.1,0.02,1.04,0.02,0.15,0.05,0.07,0.98,0.09,0.4,0.04,0.33,0.05,0.28,0.11,0.1,0.02,0.67,0.37,0.14,1.32,0.21,0.27,0.16,0.17,0.04,0.23,0.12,0.48,0.02,0.13,0.46,0.37,0.48,1.93,0.1,0.37,0.24,0.25,0.02,0.04,0.41,0.32,1.91,0.12,0.05,0.97,0.41,0.3,0.27,2.39,0.18,1.78,1.72,0.06,0.18,0.01,2.65,4.33,0.83,0.14,0.12,0.58,0.38,0.11,0.14,2.14,0.39,0.11,0.14,0.08,0.11,1.5,0.41,0.23,0.09,0.02,3.4,0.13,0.05,0.03,0.03,0.1,0.23,0.76,0.46,0.01,0.09,0.09,0.2,0.01,0.37,0.01,0.07,0.76,0.81,1.01,0.08,0.45,0.29,0.32,0.61,0.02,0.49,0.03,0.42,2.25,0.19,1.24,0.22,0.1,0.08,7.13,0.03,0.11,0.02,0.1,0.19,0.07,0.03,0.03,0.06,0.07,0.8,2.0,0.7,0.19,1.27,0.29,0.66,0.58,0.44,0.04,0.25,0.19,0.51,1.69,0.66,0.07,0.02,0.23,0.06,0.08,0.56,0.13,0.11,0.19,1.06,0.26,0.3,0.13,0.84,0.02,1.26,0.09,0.02,0.52,0.18,0.22,0.11,0.71,0.12,0.03,0.61,0.07,0.11,0.09,0.34,1.45,0.01,0.32,0.03,0.06,0.12,0.74,0.92,1.42,0.19,0.04,0.15,0.05,0.2,0.21,6.76,0.08,0.06,0.02,0.13,0.32,0.13,1.7,1.17,0.07,0.03,0.09,0.36,0.1,0.33,0.38,0.02,0.16,0.35,0.02,1.24,0.33,0.02,0.25,0.33,0.13,0.03,0.28,0.04,0.19,0.25,0.21,30.01,0.13,0.65,0.02,0.05,2.96,0.01,0.04,0.28,0.32,0.68,0.1,0.16,0.03,0.04,0.27,0.46,3.5,0.01,0.03,0.11,0.07,0.27,0.5,0.09,0.02,0.07,1.53,0.2,0.14,0.4,0.05,0.03,1.16,0.34,0.29,0.03,0.02,0.7,4.34,0.03,0.93,0.08,0.07,0.03,3.49,0.82,1.12,2.08,0.19,0.18,0.64,0.02,0.02,3.87,0.19,0.02,0.06,0.13,0.74,0.07,0.39,0.13,0.58,0.12,0.11,0.27,0.52,0.68,0.05,0.14,0.03,1.26,0.1,0.04,0.02,0.02,0.45,0.48,2.59,1.17,0.02,0.67,0.95,0.29,0.02,0.27,0.05,0.33,0.1,1.42,0.1,0.09,3.7,0.4,0.04,0.07,0.15,0.1,0.78,0.14,0.4,0.02,0.47,0.01,0.36,3.27,0.13,0.48,0.05,0.02,1.42,0.14,0.14,1.1,0.58,15.32,0.03,0.05,0.44,0.27,0.61,0.51,0.14,0.19,2.32,0.29,0.03,0.14,0.07,0.14,0.18,1.9,0.32,0.07,0.04,0.15,0.28,0.03,0.17,0.05,0.04,0.12,0.03,0.12,0.02,0.14,0.1,0.11,0.57,0.45,4.08,0.42,1.5,0.05,0.33,0.54,0.24,0.72,0.21,0.27,0.07,1.59,0.02,0.04,0.47,0.04,0.41,0.11,0.1,1.45,1.56,0.17,0.14,0.1,0.02,0.03,0.22,0.03,0.48,0.16,0.27,2.12,0.03,1.32,0.03,0.36,0.02,0.11,0.04,0.07,0.27,1.23,3.42,0.74,0.47,0.81,0.27,0.01,0.14,0.13,0.51,0.01,0.13,0.4,0.06,0.1,0.01,0.34,0.06,0.11,0.15,0.15,0.01,0.15,0.04,0.04,0.11,0.28,0.08,1.55,0.03,0.51,0.31,1.27,0.2,0.03,5.0,0.27,0.24,2.39,0.04,0.46,0.43,0.15,0.12,0.61,0.53,0.08,0.27,0.7,0.13,0.04,0.29,0.08,0.05,0.03,0.22,0.11,0.26,0.01,0.55,0.17,0.19,0.47,0.44,0.39,0.11,0.03,1.28,0.93,0.08,0.78,0.02,0.02,0.01,1.06,0.84,0.32,1.43,0.02,0.19,0.05,0.02,0.31,0.14,0.12,0.12,0.07,0.04,1.19,0.04,1.35,0.02,0.06,0.05,0.09,0.05,0.05,0.78,0.53,0.17,0.32,0.09,0.01,0.65,0.02,0.34,0.55,0.02,1.98,0.03,1.52,0.03,0.17,0.65,0.09,0.12,0.11,0.93,0.13,0.11,0.04,0.21,0.49,0.11,0.03,0.33,0.13,1.88,0.24,0.11,0.19,0.03,0.23,0.51,1.2,0.03,0.21,0.19,0.1,0.07,0.05,0.53,0.06,0.7,0.57,0.06,0.03,0.95,0.07,0.69,0.26,0.06,0.08,0.02,0.12,0.71,0.05,0.03,0.1,0.06,0.33,0.35,0.85,0.41,0.01,0.06,0.09,0.54,0.07,1.22,0.08,0.02,0.02,0.17,0.13,0.08,0.2,0.02,0.55,0.16,1.5,3.76,0.05,0.06,0.17,0.21,2.27,0.12,0.18,0.02,0.2,0.33,0.14,0.45,0.13,0.08,0.06,0.7,0.09,0.56,0.01,0.11,1.3,0.04,0.82,0.47,0.19,0.04,0.12,0.03,0.26,0.23,0.27,3.02,0.12,0.53,0.5,0.23,0.04,0.56,0.16,0.12,0.39,0.32,0.25,0.6,0.36,0.45,0.02,0.55,0.63,0.76,0.78,0.24,0.01,0.09,0.01,0.3,0.03,0.02,0.53,0.28,0.04,0.27,0.25,0.2,0.14,0.17,0.56,0.11,0.3,0.41,0.07,0.02,0.03,0.14,2.48,0.18,0.2,0.07,0.03,0.27,0.95,0.06,0.2,1.3,0.03,0.1,0.55,0.39,1.07,0.08,0.36,1.58,0.02,0.51,0.53,0.16,0.7,1.13,0.06,0.47,0.09,0.13,0.23,0.06,0.1,0.11,0.28,0.27,0.17,0.4,2.04,0.06,0.02,0.35,0.42,0.08,0.39,0.07,0.56,0.04,0.48,0.04,0.07,0.14,0.03,0.07,0.12,0.12,0.87,0.01,0.06,0.02,1.16,0.03,0.26,0.61,0.04,2.72,0.1,0.53,0.08,0.05,0.47,0.05,1.72,0.23,0.03,0.86,0.13,0.19,0.03,1.46,0.45,0.01,0.27,0.07,3.19,0.15,0.73,0.08,0.47,0.22,0.58,0.64,0.07,0.07,0.97,0.07,0.07,0.01,0.16,0.09,0.7,0.07,0.12,0.16,0.12,0.1,0.19,0.34,0.05,0.17,0.05,0.23,2.97,0.17,0.14,0.16,0.1,0.01,0.55,0.02,0.16,0.08,0.01,0.23,0.02,2.28,0.25,0.09,0.42,0.1,0.19,0.03,0.02,0.08,0.05,0.24,0.04,0.06,1.67,0.04,6.27,0.4,0.5,1.5,0.21,0.26,0.71,1.36,0.09,0.23,0.03,0.03,0.24,0.04,0.09,0.04,0.02,0.13,0.17,0.07,0.16,0.05,0.17,0.04,0.03,0.02,0.81,0.1,0.15,0.73,0.05,0.2,0.58,0.17,0.04,0.03,0.9,1.22,0.1,0.02,0.15,0.25,0.05,0.07,1.26,0.93,0.38,0.13,1.2,2.5,0.54,0.48,0.33,1.03,0.06,0.03,1.03,0.06,0.26,0.21,0.02,0.26,0.33,0.04,0.01,1.18,0.74,0.18,0.02,0.11,0.03,0.1,0.16,0.21,0.02,0.62,0.03,0.74,0.9,0.02,0.14,4.2,0.7,0.24,0.2,0.26,0.08,0.61,0.19,0.67,0.02,0.58,0.28,0.13,1.73,0.13,0.07,0.01,0.87,0.71,0.02,1.1,0.04,0.46,0.47,0.05,0.05,0.06,0.31,0.01,0.25,0.25,0.02,0.14,0.2,0.6,0.12,0.01,0.12,0.13,0.18,0.09,0.02,0.03,0.12,0.22,0.24,0.57,0.08,0.13,0.1,0.12,4.35,1.46,20.22,0.22,0.56,2.48,1.38,0.15,0.42,0.88,0.02,0.52,0.02,0.01,0.37,0.07,0.14,0.09,0.1,0.11,0.31,0.04,0.21,0.22,0.06,0.37,2.15,0.02,0.29,0.15,0.33,0.03,0.11,0.08,0.31,0.09,0.07,0.15,1.69,0.31,1.29,1.62,0.08,1.55,1.37,2.29,0.41,3.56,0.82,0.17,1.19,0.03,0.19,0.69,0.02,0.3,0.17,0.13,0.07,0.09,6.51,0.35,0.25,0.45,8.05,0.02,0.03,0.14,0.5,1.13,0.89,0.21,1.54,0.1,0.08,2.38,0.17,1.08,0.34,3.63,0.22,0.09,0.17,0.12,0.4,0.01,3.53,1.97,0.11,0.07,0.05,0.69,0.46,0.09,0.07,0.07,0.61,1.51,0.13,0.42,0.47,0.14,0.03,0.05,0.33,0.16,0.09,1.57,0.14,0.36,0.66,0.06,0.12,0.82,0.03,0.02,0.07,0.26,0.62,0.46,0.6,7.31,0.14,0.03,0.12,0.07,0.11,0.17,0.04,0.12,0.94,0.51,0.03,0.05,0.64,0.01,0.66,0.05,0.06,0.87,0.6,0.05,0.12,0.03,0.04,0.33,0.33,0.17,0.19,0.06,0.04,0.9,0.06,0.07,0.93,0.03,0.07,0.37,0.09,0.56,0.12,0.01,0.08,0.03,0.14,0.33,0.1,0.07,0.02,0.37,0.01,0.85,0.13,3.91,0.32,0.28,1.64,0.03,0.19,0.01,0.05,0.06,0.02,0.83,0.07,0.09,0.15,0.84,0.08,0.16,0.05,0.08,1.02,0.41,0.07,0.03,1.4,0.15,0.15,0.02,0.5,0.15,0.45,0.06,0.22,0.03,0.32,0.04,0.09,0.18,0.29,0.22,0.03,0.08,0.03,0.07,0.6,0.03,0.55,0.1,0.04,0.79,1.85,1.74,1.17,0.49,0.44,0.11,1.67,0.01,0.15,0.03,0.06,0.16,0.23,0.36,1.3,1.42,0.24,0.1,0.15,0.03,0.14,0.34,0.02,0.16,0.86,0.02,0.05,0.17,0.55,0.02,1.82,0.02,0.18,0.91,0.03,0.2,0.42,0.05,0.31,0.33,0.13,0.11,0.05,0.07,0.17,0.34,0.02,0.03,0.1,1.1,0.2,0.1,1.39,0.17,24.76,0.04,0.07,0.17,0.39,0.09,0.33,0.2,0.21,0.07,0.08,0.04,0.25,0.33,0.22,0.2,0.52,0.12,0.01,0.17,0.39,0.21,0.32,0.05,1.23,0.02,0.14,0.05,0.04,0.07,0.12,0.11,0.08,0.08,0.12,0.02,0.48,0.11,1.28,0.11,0.05,0.28,0.03,2.47,0.11,1.72,0.02,0.09,1.04,0.54,0.21,1.27,0.1,0.79,0.08,0.24,0.45,0.16,0.72,0.27,0.74,0.27,0.12,0.11,0.19,0.08,0.15,0.11,0.01,0.09,0.03,0.02,0.06,0.1,0.2,0.1,1.05,0.15,1.16,0.04,0.52,1.49,2.11,0.05,1.84,0.05,0.05,0.09,4.39,0.24,0.27,0.1,0.29,0.27,0.29,2.33,0.05,10.95,0.58,0.07,0.04,0.01,0.04,1.42,0.56,4.21,0.11,0.04,0.19,0.02,0.03,0.15,0.19,0.08,0.02,0.61,0.16,0.45,1.53,1.04,1.8,0.11,1.5,0.06,0.34,1.59,0.03,0.65,0.09,0.03,0.64,0.22,0.15,1.18,0.49,0.01,0.17,0.33,0.41,0.01,0.66,0.58,0.24,0.04,0.36,1.03,1.38,3.18,0.61,0.6,0.11,0.42,0.07,0.01,0.02,0.05,0.25,0.02,2.7,0.21,0.03,1.44,0.19,0.1,0.14,0.13,0.12,0.03,1.97,0.18,0.47,0.03,1.46,0.1,1.39,0.19,0.06,0.1,0.37,1.94,0.17,0.02,0.08,2.5,0.06,0.14,0.04,0.41,0.05,0.2,0.12,0.61,0.18,0.15,0.81,0.91,0.66,0.02,0.01,0.06,0.03,0.01,0.19,0.05,0.42,0.2,0.65,0.03,1.25,0.02,22.72,0.06,0.18,0.51,0.03,0.03,0.06,0.02,0.16,0.11,0.28,0.3,0.35,0.14,0.06,0.03,0.01,0.2,1.29,0.05,0.46,1.67,1.82,0.09,0.33,0.43,0.15,0.11,0.16,0.14,0.51,2.96,2.19,0.17,0.24,0.07,0.28,0.04,0.05,0.16,0.05,0.19,0.1,0.21,0.09,0.07,0.01,3.2,0.02,0.02,0.04,0.15,0.76,1.38,0.04,2.79,0.04,0.84,0.62,0.46,3.67,0.05,0.04,0.08,0.04,0.38,0.07,0.52,1.67,0.34,0.08,0.25,0.18,0.03,0.05,0.07,0.92,0.04,0.36,0.39,0.04,0.1,0.65,0.11,3.36,0.07,0.05,0.28,2.61,0.28,0.02,0.02,0.28,0.11,0.1,0.54,0.57,0.17,0.28,0.03,0.4,0.1,0.2,0.21,0.06,0.3,0.24,0.62,0.35,0.03,0.38,0.03,3.38,0.08,0.67,0.08,4.76,0.57,0.23,0.13,0.43,0.29,0.6,0.18,0.21,0.12,0.01,0.49,0.02,0.03,0.94,0.11,0.08,0.42,0.78,0.04,0.2,0.3,0.84,0.36,0.03,0.35,0.01,0.08,1.36,0.26,0.11,0.1,0.88,0.11,0.41,0.17,0.19,0.11,0.03,0.09,0.17,0.31,0.81,0.56,0.02,0.03,0.13,0.02,0.51,0.13,0.56,1.22,0.11,0.01,0.27,0.07,0.55,0.12,0.07,0.32,0.04,0.23,0.01,1.76,0.02,0.19,0.19,0.06,0.17,0.22,1.12,0.11,0.27,0.16,0.05,0.48,0.25,1.11,0.05,0.05,0.02,0.28,0.58,0.29,10.55,0.04,0.17,0.24,0.44,0.07,0.13,0.09,1.16,2.28,0.22,0.09,0.03,0.1,2.22,0.33,0.02,0.3,0.03,0.08,0.08,0.16,1.49,0.02,0.14,0.51,0.92,0.09,0.03,0.13,9.49,0.26,0.05,0.12,0.36,0.11,0.19,0.02,0.11,0.46,0.02,0.12,0.46,0.29,0.28,1.02,0.11,0.11,3.87,1.14,0.04,0.6,0.49,0.01,0.05,0.12,0.04,0.16,0.04,0.07,0.25,0.04,0.01,3.33,0.3,0.57,0.15,1.79,0.02,0.5,0.17,0.07,0.62,0.07,0.01,3.85,1.45,0.37,0.12,0.25,0.27,0.24,0.17,0.41,3.33,0.03,0.52,0.54,0.12,0.2,0.09,0.27,0.18,0.4,1.52,0.05,0.04,0.2,0.21,1.09,0.27,0.13,0.02,0.04,0.27,0.06,1.09,0.04,1.0,0.29,1.66,0.13,0.01,0.59,0.08,0.02,3.63,0.02,0.68,0.26,0.35,0.11,0.19,0.01,0.64,0.71,0.11,0.13,0.71,0.19,0.06,0.24,0.56,1.63,0.64,0.07,4.82,0.4,0.07,0.02,0.04,0.14,0.06,0.03,0.1,0.08,0.92,0.29,0.01,0.11,0.2,0.07,0.31,0.17,0.94,0.7,0.04,0.2,0.21,0.2,0.36,0.64,0.04,0.54,0.06,0.32,0.04,0.05,0.08,0.06,0.28,0.18,0.15,0.28,0.03,0.01,0.55,1.1,0.05,0.47,0.01,0.1,0.06,0.72,0.05,0.32,1.68,0.45,0.03,0.82,0.28,0.04,2.09,0.05,0.12,0.92,0.75,0.14,0.04,0.05,0.01,0.08,0.26,0.44,0.55,0.18,0.89,0.65,0.4,0.21,0.45,0.57,0.04,0.09,0.01,0.2,1.92,0.14,14.24,0.1,0.15,0.12,0.09,0.01,0.05,0.19,0.03,0.26,0.69,0.09,0.34,3.22,0.05,0.32,0.12,0.14,0.28,0.29,0.36,0.01,0.44,0.08,0.12,0.49,0.74,0.23,0.4,0.41,4.09,0.01,0.24,1.6,0.13,0.34,0.44,1.26,0.19,0.66,0.11,1.93,0.3,0.1,1.05,0.92,0.01,0.07,0.02,0.18,0.15,0.62,0.69,0.11,0.18,0.16,0.04,3.36,0.19,2.45,0.24,0.14,0.58,0.04,0.02,0.14,0.22,0.32,2.31,0.05,0.03,0.7,0.04,0.02,0.2,0.03,0.1,0.26,5.58,0.47,0.01,0.06,0.03,0.02,0.02,0.52,4.58,0.01,0.94,0.1,0.36,0.22,0.1,0.61,0.24,0.28,0.08,0.37,0.01,0.01,0.05,0.17,0.46,0.35,0.02,3.21,0.07,0.28,0.48,0.66,7.16,1.64,0.22,1.63,0.41,0.04,0.1,0.02,0.12,0.5,0.3,3.32,0.05,0.23,0.15,0.09,0.55,0.11,0.69,0.27,0.02,0.43,0.22,0.1,0.29,0.23,0.2,0.25,1.71,1.72,0.03,1.54,4.98,0.13,0.18,4.53,0.72,0.31,2.99,0.01,0.64,0.22,0.06,0.06,0.07,0.16,0.57,0.76,0.17,0.3,0.37,0.04,0.04,0.1,0.07,0.01,0.12,0.48,0.07,0.01,0.06,0.51,0.16,0.1,0.03,0.32,0.45,0.06,0.26,0.01,0.08,0.78,0.01,0.28,0.08,0.4,0.25,0.65,0.26,0.12,0.02,0.02,0.28,0.15,0.17,0.44,0.9,0.71,0.32,0.31,0.5,0.23,0.35,0.06,0.04,0.17,0.09,0.45,0.02,0.17,0.02,0.18,0.05,0.01,0.21,0.23,0.05,0.27,0.13,2.25,0.04,0.14,0.01,0.05,0.54,0.2,1.23,0.2,0.28,1.36,0.16,0.12,0.21,0.04,0.06,0.03,0.89,0.16,0.06,1.65,0.19,0.47,0.43,2.28,0.02,0.41,0.1,0.09,0.48,0.37,1.06,0.34,0.34,0.07,0.04,0.06,0.29,0.08,0.05,0.05,0.67,0.05,0.6,0.06,0.12,0.15,0.46,2.21,0.08,0.02,0.04,0.02,0.49,0.21,4.57,0.07,0.22,0.01,0.28,1.02,1.59,0.21,1.14,0.25,0.01,0.36,0.21,2.01,0.28,0.02,0.21,0.77,0.05,2.37,1.08,0.75,0.29,0.04,0.14,0.09,0.35,0.09,1.07,0.55,0.04,0.02,0.52,0.32,0.15,0.38,0.06,0.42,0.07,0.27,5.5,0.16,0.09,0.26,0.03,0.01,0.09,0.35,0.03,0.61,2.0,0.3,0.3,0.01,0.06,0.01,0.13,0.04,0.02,0.15,0.88,0.02,0.05,0.02,0.02,0.05,0.9,0.71,1.09,0.11,0.04,0.05,1.33,0.08,1.83,0.23,0.02,0.11,0.01,0.14,0.24,0.32,0.04,0.23,0.09,1.09,1.3,0.3,0.5,0.08,0.04,0.56,0.45,0.01,0.01,0.3,0.06,0.09,0.02,0.09,0.1,0.07,0.17,2.13,0.2,0.14,0.1,0.01,0.12,0.31,0.02,0.33,0.75,0.18,0.8,3.89,0.07,0.79,0.07,0.09,0.15,0.03,1.04,0.1,0.02,0.14,0.03,0.1,1.76,0.55,3.28,0.16,0.44,0.16,0.47,0.26,0.77,0.52,0.09,2.41,0.1,0.04,0.4,0.54,0.07,0.1,0.02,0.39,0.01,0.19,0.4,0.04,0.07,1.48,0.07,1.85,0.33,0.14,0.15,0.61,0.61,0.23,0.07,0.02,0.46,0.47,0.34,0.38,0.02,0.8,0.09,0.07,0.31,0.56,0.07,0.54,0.21,0.04,0.52,0.13,0.17,1.48,2.38,0.17,0.06,0.01,0.55,0.11,0.41,0.11,0.43,2.77,0.54,0.25,0.52,0.04,0.97,0.09,0.16,0.09,1.5,0.25,0.26,0.02,0.26,0.1,0.06,0.02,2.09,0.38,0.08,0.11,0.19,0.38,0.41,0.2,1.02,0.35,0.06,0.03,0.03,0.19,5.31,0.43,2.59,13.46,0.21,0.46,0.02,0.03,0.53,0.03,0.87,0.38,0.08,1.06,0.5,0.12,0.25,0.78,0.11,0.2,0.07,1.7,0.12,0.24,0.49,0.29,2.85,1.18,0.03,0.03,0.07,0.19,2.08,0.2,0.28,0.38,0.41,1.17,0.02,0.09,0.03,0.05,1.4,1.2,0.88,0.07,0.19,0.42,0.39,0.07,0.29,0.04,0.07,0.94,0.21,0.04,0.11,1.66,0.04,0.24,0.05,0.25,3.64,2.76,0.06,0.03,0.36,0.18,0.08,0.1,0.44,0.11,0.82,0.31,0.08,2.79,0.41,0.25,0.04,0.14,0.45,0.03,0.5,0.04,0.33,5.13,0.51,0.18,0.19,0.04,1.19,0.11,0.26,0.26,0.11,0.14,0.08,0.23,0.02,0.31,20.61,0.22,0.16,0.01,0.01,0.13,0.41,0.01,0.14,0.04,0.06,0.07,0.59,0.16,0.03,0.72,0.02,0.25,0.01,0.18,0.32,0.26,0.17,0.02,0.21,0.38,0.25,0.6,2.09,0.18,0.05,0.56,0.07,0.13,0.03,1.15,0.36,0.31,0.73,0.1,1.77,0.01,0.28,0.09,0.82,0.06,0.08,0.13,0.47,0.74,0.02,0.41,0.03,0.81,0.08,0.3,0.19,0.7,0.51,0.11,0.46,0.02,0.01,0.54,0.38,0.02,0.03,0.51,0.28,0.61,0.07,0.1,0.3,0.09,0.21,0.25,0.1,0.06,0.01,0.62,0.58,0.17,0.06,0.43,0.05,2.78,0.32,0.12,0.55,0.08,2.21,0.27,0.3,0.09,0.64,0.29,0.44,1.13,0.27,0.18,0.81,0.01,0.47,0.03,0.68,0.03,1.29,1.26,1.03,0.53,0.34,0.08,1.78,1.72,0.13,0.19,0.07,0.06,0.37,0.3,0.62,0.13,0.04,0.06,0.25,0.11,0.06,2.53,0.17,0.64,0.35,0.2,0.27,0.07,0.02,0.1,0.01,0.56,0.45,0.08,0.01,0.36,0.13,0.02,0.27,0.03,0.07,0.1,0.03,0.87,1.17,0.31,0.25,0.97,0.02,0.08,0.66,1.53,0.61,0.15,0.03,0.95,0.1,0.12,0.41,0.07,0.08,0.55,0.44,0.04,0.04,0.08,0.05,0.33,0.08,0.29,0.03,0.06,0.25,0.14,0.21,0.14,0.04,0.24,0.18,0.08,0.54,0.13,0.31,0.85,3.54,1.04,2.11,0.04,0.49,0.28,0.84,0.48,0.06,0.05,0.05,0.04,0.74,0.2,0.32,0.07,0.05,0.45,0.05,0.37,0.55,0.19,0.06,0.13,0.16,0.18,0.02,0.07,0.17,0.69,0.02,5.92,13.1,0.02,0.04,0.08,0.03,0.66,0.07,0.35,1.2,0.84,0.4,0.18,2.23,0.2,0.29,0.09,0.1,0.09,0.32,0.79,0.05,0.03,0.05,0.14,0.14,0.31,0.32,0.16,0.75,0.09,0.06,0.12,0.53,0.93,1.15,0.26,0.29,0.47,0.02,0.08,0.04,0.16,0.02,0.38,0.1,1.22,0.32,0.29,0.33,0.25,2.68,0.06,0.92,0.4,0.02,0.1,0.06,0.19,0.27,0.33,17.28,4.77,0.03,1.2,0.14,0.48,0.07,0.07,0.07,0.14,0.07,0.11,0.02,0.12,0.05,0.26,1.88,0.12,1.35,0.16,0.57,0.04,0.11,0.04,0.2,1.08,1.34,0.06,0.05,0.08,0.07,2.03,0.12,0.07,0.57,0.24,0.06,0.1,0.01,0.47,0.02,0.07,0.04,0.09,4.91,0.13,0.02,0.11,0.44,0.69,0.07,0.03,0.1,0.42,0.33,1.97,0.21,0.07,0.03,0.21,1.73,0.04,0.05,0.73,0.05,0.02,0.44,0.51,0.01,0.47,0.4,0.23,0.78,0.1,0.06,0.44,0.04,0.03,0.29,0.1,0.38,0.39,0.15,0.01,0.01,0.26,0.63,0.63,0.41,0.01,0.04,0.07,0.29,0.15,0.04,1.23,0.11,0.02,0.03,0.04,0.04,0.48,0.65,0.08,0.08,0.02,0.14,0.04,0.16,0.06,1.18,0.19,0.15,0.03,1.35,0.15,0.84,0.14,0.31,0.94,0.09,0.17,3.31,0.4,0.05,0.08,0.56,0.06,1.77,0.08,0.37,0.16,0.18,0.2,0.41,0.01,0.01,0.05,0.17,0.19,0.1,0.18,0.05,0.4,0.03,0.74,0.02,0.3,0.03,0.91,0.19,0.13,0.99,5.15,0.05,0.72,1.94,1.48,4.07,0.1,0.04,0.57,0.07,0.28,6.82,0.05,0.05,0.06,2.15,0.16,3.07,2.31,0.97,0.47,0.14,0.29,0.04,0.17,1.87,0.03,0.99,0.26,1.21,0.16,0.1,6.59,0.31,0.57,0.46,0.05,0.39,1.07,2.07,0.73,0.23,0.04,1.64,1.39,0.04,2.8,0.62,0.03,1.12,0.6,0.32,0.81,0.04,0.52,0.02,0.02,0.11,0.37,0.11,0.14,0.02,0.09,0.33,0.08,0.01,0.07,0.18,0.03,0.05,0.17,0.04,0.55,0.19,0.14,0.02,1.04,0.06,0.92,0.58,0.04,0.04,0.02,0.09,0.35,0.18,0.16,0.02,0.02,0.05,0.24,0.16,0.12,0.06,0.58,0.53,0.08,0.01,0.17,0.3,0.34,0.38,0.06,0.41,0.2,1.02,0.3,0.18,0.02,0.24,0.87,0.3,0.2,0.38,0.04,0.01,0.57,1.73,0.12,0.1,0.15,0.2,0.2,1.63,0.15,0.29,0.13,0.01,0.35,0.06,0.15,0.01,0.04,0.76,0.07,0.86,0.09,0.18,0.34,0.6,0.08,0.02,0.06,0.03,0.39,0.18,2.28,0.02,0.16,0.16,0.1,0.11,1.15,0.2,0.01,0.03,0.02,0.09,0.03,0.27,0.09,0.09,0.07,0.09,0.02,0.47,0.56,0.02,0.02,0.19,0.12,0.01,0.01,0.02,0.03,0.02,0.38,0.1,1.46,0.01,0.03,0.05,0.2,0.64,0.42,0.04,0.12,0.13,0.47,0.12,1.05,0.09,0.7,0.08,0.19,0.05,2.05,0.08,0.12,0.15,0.03,0.31,0.02,0.3,0.05,0.16,0.19,0.86,0.27,0.01,0.89,0.18,0.44,0.12,0.45,0.05,0.05,0.09,0.04,0.14,0.47,0.15,0.17,0.02,0.03,0.06,0.07,0.4,0.02,0.05,0.23,0.02,0.25,14.64,0.03,0.24,0.31,0.85,0.27,0.98,0.33,0.16,0.05,3.17,0.75,0.02,0.02,0.06,0.01,0.01,0.11,0.61,3.13,2.8,0.8,0.02,0.43,0.05,0.07,0.09,0.12,1.79,1.45,2.39,0.65,0.05,0.08,0.02,21.82,9.52,0.09,0.03,0.1,0.01,0.02,0.04,0.49,4.23,0.79,0.17,0.46,0.28,0.08,0.05,0.02,0.04,0.95,0.71,1.74,0.08,0.25,0.26,0.11,0.23,0.2,0.01,0.39,0.29,0.03,0.28,0.3,0.03,0.05,0.47,0.47,0.22,0.17,0.17,0.64,0.29,0.11,0.13,0.13,0.05,0.57,0.13,0.01,0.23,1.11,1.92,0.11,1.43,1.13,0.7,2.07,0.17,1.53,0.16,0.17,0.72,0.14,0.66,0.09,0.36,0.38,1.09,2.54,0.08,0.67,0.08,0.02,0.05,0.16,0.89,0.33,0.06,0.07,0.05,0.07,0.64,6.36,0.08,0.43,0.01,0.01,0.64,0.01,0.07,0.08,11.02,0.14,0.02,0.04,0.04,0.8,0.05,2.08,0.8,0.07,0.58,4.61,0.21,0.02,1.55,0.12,0.06,0.36,1.41,0.05,0.44,0.03,0.04,0.05,0.37,0.26,6.81,0.21,0.67,0.05,1.77,0.53,4.45,0.11,0.03,0.57,0.43,0.03,0.49,0.76,0.1,0.24,0.06,0.03,0.53,0.1,2.78,1.13,0.18,0.1,0.06,0.27,3.38,0.46,0.03,0.33,0.1,0.36,0.04,0.36,0.31,1.35,0.85,1.25,0.15,2.83,0.48,0.02,0.02,0.01,0.36,0.49,0.02,2.94,0.15,0.63,0.06,1.67,0.2,0.01,0.04,5.23,0.59,0.08,0.13,0.06,0.3,0.47,0.25,0.02,0.06,0.38,0.24,0.01,0.17,0.01,0.18,1.31,0.32,0.01,0.06,2.22,0.43,0.02,0.75,0.14,0.21,0.4,0.13,0.08,0.1,0.07,0.01,0.18,0.01,2.83,0.21,0.46,0.07,0.28,0.08,0.14,0.15,1.46,0.14,0.21,0.18,0.07,0.47,0.03,0.55,2.05,0.16,0.02,0.09,0.05,0.61,0.08,0.12,0.02,0.7,1.92,0.9,2.67,0.04,0.15,0.11,0.45,0.06,0.31,0.92,0.03,0.34,0.03,0.08,1.91,0.23,0.05,1.66,0.46,0.19,0.23,1.16,0.31,3.52,0.84,0.02,0.24,14.76,0.69,0.22,0.41,0.3,1.33,0.27,28.31,0.04,0.46,0.29,0.32,0.07,0.07,0.02,0.19,0.46,0.1,0.03,0.1,0.23,0.01,0.02,0.71,0.15,0.75,0.95,4.25,0.07,0.03,0.02,0.35,0.61,0.62,0.36,0.52,0.07,0.3,0.5,0.45,0.17,0.74,0.12,0.06,0.58,0.04,0.05,0.2,0.05,0.38,0.48,0.04,0.14,2.09,0.46,0.02,0.09,0.12,0.56,0.58,0.16,0.54,0.16,0.19,1.46,0.08,0.13,0.96,0.05,0.11,0.24,0.04,0.08,0.27,0.07,0.28,0.01,0.06,0.89,0.27,2.56,0.76,0.63,0.12,0.03,2.48,0.3,0.07,0.04,0.09,0.09,0.12,0.08,0.04,0.13,0.06,0.38,0.78,0.07,0.27,0.04,0.09,0.01,0.21,0.09,0.56,0.2,0.12,0.06,0.24,0.06,0.48,0.04,1.81,0.89,0.26,0.05,1.68,0.05,0.02,0.32,0.07,0.03,0.85,0.16,1.5,0.01,0.04,0.53,0.01,0.18,0.31,0.11,0.39,0.04,0.42,0.02,0.62,0.13,0.02,0.11,0.12,0.1,0.06,0.54,0.44,0.06,0.62,0.2,0.03,1.3,0.06,0.46,0.58,0.06,0.11,0.11,0.05,0.57,0.03,0.26,0.33,0.59,0.52,0.17,0.08,0.27,0.06,0.02,0.96,2.15,0.46,0.25,3.02,0.19,0.4,0.07,0.07,0.1,0.02,0.1,0.29,0.02,3.82,0.04,0.02,0.06,0.75,0.71,0.3,0.23,1.7,1.15,0.16,0.03,0.45,0.24,1.78,0.09,0.03,0.14,0.41,0.3,0.1,0.32,0.08,0.44,4.17,0.13,0.87,0.2,0.28,0.04,8.76,0.1,0.1,0.04,0.24,0.09,1.35,0.03,2.62,0.02,0.14,0.01,0.02,0.16,0.03,0.35,0.28,0.08,0.44,0.26,0.15,0.09,0.19,0.03,0.68,0.21,0.09,0.66,0.03,0.02,0.05,0.07,1.1,0.26,0.01,2.11,0.12,0.02,0.76,0.75,0.06,0.31,0.32,0.03,0.46,0.05,0.32,0.16,0.02,0.26,0.3,0.03,0.23,0.02,0.05,0.74,1.23,0.59,0.32,0.66,1.25,0.02,0.02,0.02,1.95,0.06,0.06,0.06,0.85,0.02,0.09,0.71,1.27,0.37,1.93,0.04,2.0,0.01,0.07,0.08,0.02,1.0,0.03,0.01,0.3,1.17,0.15,0.07,0.11,0.16,0.55,0.21,0.15,0.07,0.56,0.09,2.49,0.22,0.11,0.13,0.06,0.03,0.28,0.02,0.04,0.75,1.45,0.22,1.38,0.13,0.59,1.96,0.03,0.14,0.68,0.51,0.06,1.56,0.35,0.15,1.12,0.25,1.21,0.04,0.08,0.01,0.02,0.83,0.18,0.28,1.12,1.34,0.03,0.02,2.0,3.07,2.2,0.42,0.01,0.02,0.66,0.03,0.02,0.05,3.65,0.97,0.35,1.86,0.04,0.06,0.17,1.96,1.41,0.02,0.13,0.42,2.35,1.09,1.29,0.91,0.01,0.15,4.79,0.32,0.03,0.33,0.05,0.75,0.38,0.24,0.02,0.05,0.43,0.3,1.07,0.54,0.05,0.53,0.07,0.75,0.32,0.48,0.12,0.06,0.04,0.11,0.16,0.86,0.33,0.91,0.12,0.16,0.54,0.12,0.01,0.27,0.17,7.37,0.89,0.28,0.39,0.39,0.12,0.14,0.13,0.02,1.13,0.36,0.04,0.02,0.41,0.51,0.11,0.04,0.58,0.16,0.11,0.11,0.2,0.16,0.88,0.6,0.23,0.45,0.02,4.94,0.17,4.31,0.01,0.59,0.27,0.57,0.02,0.17,0.02,0.14,0.49,0.13,0.03,0.04,0.72,0.04,0.63,0.17,0.22,0.7,0.06,0.81,0.02,0.18,0.57,0.2,0.01,0.04,0.03,0.01,0.05,0.12,0.02,0.99,0.51,0.29,0.27,0.11,0.11,0.08,1.61,0.41,0.04,0.46,0.15,0.02,0.16,0.82,0.09,0.24,0.09,0.14,0.5,0.11,0.26,0.06,0.13,2.06,0.02,0.62,0.03,0.06,0.01,0.05,0.27,0.25,1.5,0.86,0.08,0.52,0.26,0.03,0.02,0.08,2.88,1.68,0.13,0.82,0.4,0.06,0.02,0.06,0.1,0.06,0.4,1.52,0.43,0.02,0.27,0.16,0.06,0.76,0.12,0.03,0.39,0.03,0.1,0.47,0.3,0.13,0.1,0.04,1.24,0.58,0.21,0.72,0.94,0.03,0.03,0.43,0.28,0.19,0.02,0.33,0.05,0.09,0.14,0.46,0.59,2.1,0.25,0.18,0.29,0.04,0.36,0.03,0.36,0.03,0.09,0.16,0.08,0.02,0.07,0.35,11.89,0.01,0.39,1.11,0.03,0.18,0.05,0.02,0.57,0.07,0.02,0.02,0.02,0.11,0.21,0.03,0.09,0.01,0.03,0.19,0.06,0.23,3.66,3.89,0.02,0.29,1.83,0.04,0.22,1.25,0.02,0.44,0.17,1.18,0.44,0.45,0.17,0.43,0.16,0.45,0.19,0.76,0.09,0.11,0.73,0.41,0.14,1.27,0.24,0.08,0.09,0.25,0.42,0.76,0.34,1.2,0.14,0.17,0.11,0.26,0.32,0.03,0.06,3.08,0.58,0.08,0.2,0.13,0.29,0.15,0.38,0.29,0.07,3.17,0.22,4.01,0.29,0.89,0.03,0.28,2.41,0.11,0.04,0.06,0.1,0.1,0.29,0.19,0.13,0.07,0.01,1.09,0.14,2.12,0.6,0.08,2.35,1.82,0.25,0.02,0.05,0.33,0.1,0.11,0.08,1.44,0.28,0.07,0.39,0.49,0.09,0.25,1.14,0.11,4.44,0.04,0.5,0.01,0.05,0.05,0.6,0.09,0.17,0.31,0.05,0.13,0.02,1.08,0.15,0.7,0.18,0.31,0.03,0.1,0.11,0.02,0.6,0.82,0.07,0.09,0.89,0.06,0.13,0.08,0.02,0.01,0.2,0.63,0.54,0.01,0.08,0.89,0.05,0.33,0.6,0.07,0.03,1.42,0.28,0.26,0.98,1.86,0.08,0.03,0.63,0.05,0.03,0.11,0.13,2.93,2.52,0.22,0.17,1.86,0.01,0.12,0.38,0.24,0.11,0.11,0.47,0.05,0.28,0.03,0.79,0.62,0.01,0.08,1.45,0.42,0.8,0.35,0.53,0.14,0.12,0.08,1.06,0.27,0.02,0.06,0.16,0.09,0.02,0.03,0.14,0.25,0.01,0.71,1.69,0.34,1.32,0.16,15.3,1.14,0.07,2.05,0.02,0.41,0.15,0.39,0.32,0.7,0.02,0.06,0.08,1.42,0.06,0.2,0.45,0.54,0.74,0.06,2.23,0.01,0.44,0.08,0.13,0.01,0.01,0.11,0.02,0.93,0.29,0.08,0.1,0.26,0.01,0.13,0.04,0.14,0.24,0.36,0.09,0.03,0.36,0.17,0.05,0.31,0.93,0.22,0.85,0.01,0.05,0.03,0.01,0.35,1.49,0.02,1.25,0.02,0.19,0.48,0.02,0.01,0.03,0.41,0.08,0.01,0.57,1.8,2.44,0.05,0.04,0.06,0.05,1.44,0.19,0.01,0.38,0.5,2.63,0.17,0.04,0.78,0.35,0.07,3.69,2.94,0.07,0.08,0.02,0.32,0.37,1.48,1.01,0.12,0.2,0.45,0.19,0.78,0.2,2.68,5.55,0.05,0.04,0.3,0.23,3.33,0.41,0.04,0.71,0.15,4.42,0.13,0.04,0.03,0.18,0.02,0.44,0.68,0.02,0.11,0.14,0.14,0.09,0.76,0.51,0.3,0.16,0.09,0.02,1.09,0.33,0.02,0.06,0.03,0.03,0.59,0.03,0.03,0.02,0.21,0.2,0.03,0.01,0.16,0.03,0.01,0.13,0.1,0.58,0.22,0.21,0.65,0.14,0.04,0.04,0.7,3.05,0.01,82.74,0.41,0.06,0.01,0.03,0.19,0.03,0.03,0.94,0.39,0.14,1.05,0.02,0.02,0.15,0.02,0.02,0.31,0.06,0.03,0.08,3.6,0.03,0.14,0.17,0.06,0.38,0.92,0.5,0.11,0.36,0.22,0.33,2.48,0.24,0.06,0.26,2.58,0.03,0.25,0.06,0.21,1.01,0.54,0.24,0.03,0.53,0.02,0.15,0.76,0.01,0.03,0.06,0.05,0.03,0.02,0.5,1.58,0.02,1.27,0.33,1.01,0.05,0.76,1.22,0.02,0.02,0.28,0.14,0.04,0.04,0.01,0.27,0.2,0.14,0.01,1.58,0.35,0.28,0.59,0.1,2.69,0.2,0.91,0.11,0.11,0.12,0.93,0.27,0.11,3.65,1.66,0.21,1.19,0.61,0.03,0.03,0.02,0.02,0.01,0.15,0.26,0.06,1.47,0.12,0.28,0.04,0.07,0.47,0.41,1.86,8.42,0.17,0.08,1.33,0.09,0.27,0.01,8.33,0.48,0.11,0.17,0.16,2.41,0.05,0.34,0.01,0.04,1.63,0.26,0.97,0.54,0.13,0.42,0.02,0.09,0.14,0.12,1.73,0.15,0.1,0.08,0.22,0.15,0.01,0.07,0.19,0.02,0.02,0.59,0.02,0.45,0.9,0.2,0.17,0.44,0.56,0.04,0.41,0.18,0.23,0.26,0.04,1.09,0.24,0.16,0.43,0.04,0.15,0.35,2.17,0.19,0.61,0.67,0.23,0.17,1.35,0.14,1.22,0.14,0.03,0.04,0.08,0.02,0.16,1.31,0.57,0.34,0.24,0.69,1.71,0.09,0.2,0.03,0.52,0.24,0.34,0.08,0.3,0.45,0.24,0.6,0.07,0.26,0.23,0.1,0.57,0.08,0.62,0.35,0.4,0.28,0.04,0.25,6.31,0.25,0.02,0.58,0.07,0.34,0.19,0.04,0.01,0.07,0.2,0.8,0.06,0.43,0.21,1.06,0.04,0.04,0.01,0.19,4.58,0.57,0.03,1.37,0.22,0.45,0.16,0.32,0.36,0.02,0.19,0.01,0.1,0.46,0.51,0.19,0.06,0.49,0.6,0.07,0.18,0.05,3.84,0.13,0.12,0.12,0.53,0.56,12.27,0.07,0.17,0.05,0.01,0.08,0.2,0.58,0.07,0.07,0.05,0.68,0.65,0.16,1.11,0.05,3.5,6.5,2.52,0.14,0.01,2.05,0.12,0.06,0.05,0.27,0.04,0.06,1.42,0.02,0.5,0.01,0.14,0.24,0.11,0.22,0.69,0.17,0.05,0.23,0.06,0.02,0.22,0.17,0.33,0.99,0.22,0.01,2.09,1.06,1.35,0.91,0.07,0.13,0.11,0.14,0.76,0.38,0.52,0.12,0.11,0.89,0.09,0.02,0.27,0.28,0.02,4.06,0.49,0.01,7.72,0.76,0.03,1.53,0.47,0.34,0.02,0.5,0.06,0.05,0.5,0.08,0.02,0.27,0.07,0.22,0.59,0.1,0.31,0.1,0.36,0.55,0.04,0.17,1.3,0.54,0.13,0.09,0.1,0.13,0.12,0.11,0.02,0.71,0.02,0.05,0.03,0.02,0.02,0.08,0.26,0.14,0.43,0.01,0.41,0.02,0.15,0.05,0.18,0.09,1.99,0.19,0.57,0.02,0.17,1.71,0.05,0.96,0.08,0.13,0.06,0.03,0.9,0.01,4.1,0.34,0.06,0.37,0.84,0.05,0.8,0.36,0.25,0.63,0.39,0.02,0.16,0.36,0.25,2.79,0.08,1.5,0.11,5.19,0.27,0.49,0.08,1.16,0.02,2.2,0.03,0.14,0.16,0.22,0.16,0.12,0.06,0.15,0.02,0.05,0.38,0.2,0.01,1.7,3.52,0.04,0.9,0.24,0.14,1.68,0.58,0.1,2.01,1.08,0.24,0.34,0.38,0.05,0.12,0.36,0.89,0.3,0.02,1.47,0.19,0.11,1.52,0.13,0.03,0.03,0.76,0.92,0.11,1.13,0.08,0.09,0.55,1.69,0.14,0.15,0.67,0.06,0.89,0.27,0.04,0.27,0.11,0.07,0.24,0.12,1.01,2.79,0.05,0.03,0.45,0.04,1.62,0.21,0.41,0.02,0.01,0.8,0.1,0.45,0.33,0.02,1.17,0.38,0.11,0.13,0.97,0.02,1.67,0.6,0.2,0.2,0.23,0.48,0.02,0.02,0.1,0.04,0.02,0.21,0.39,0.89,0.02,0.2,0.2,0.06,0.48,0.15,0.07,0.05,0.06,0.39,0.02,0.05,0.06,0.07,0.02,0.04,0.25,0.08,0.08,0.18,0.68,1.16,0.02,0.02,0.13,0.35,0.96,0.14,0.12,0.28,0.01,0.89,0.13,0.02,2.1,0.01,0.02,0.14,0.72,0.01,0.09,0.02,0.65,0.63,0.03,0.1,1.05,0.05,0.05,0.28,0.18,0.46,0.25,0.06,1.47,0.36,0.05,0.23,0.02,0.05,2.28,0.25,0.92,0.71,0.06,0.15,0.26,0.01,0.03,0.5,11.98,0.45,0.07,0.12,0.41,0.2,0.2,0.12,0.28,0.57,1.47,0.34,0.02,0.71,0.06,0.46,0.09,0.02,0.12,0.32,1.22,0.1,0.03,0.01,0.02,0.18,0.06,0.03,0.19,1.5,0.63,0.93,0.07,0.02,0.11,1.46,0.27,0.16,0.01,0.49,0.04,0.11,0.07,0.08,0.08,0.02,0.23,0.01,0.03,0.83,0.03,0.04,0.21,0.61,0.53,0.04,0.16,0.6,1.55,0.04,0.03,0.19,1.54,0.16,0.22,0.04,0.13,0.1,0.02,0.03,0.1,0.08,0.04,0.5,0.08,0.06,0.68,0.27,0.08,0.31,0.91,0.14,0.83,0.2,0.14,1.02,0.42,0.16,0.08,0.84,0.25,0.11,0.05,0.02,0.01,0.28,0.04,0.02,0.58,0.09,2.17,0.1,0.05,0.5,0.27,1.54,0.94,0.05,0.05,0.2,0.09,0.08,0.28,0.24,0.04,0.04,0.79,0.35,0.03,0.05,0.01,0.22,0.02,0.49,1.11,0.05,0.17,0.02,0.1,1.58,0.39,0.04,0.42,0.17,0.76,0.43,0.01,0.04,0.22,0.11,0.12,0.02,0.06,0.04,0.56,0.26,0.06,3.83,0.81,0.33,0.09,0.24,1.71,0.29,0.06,0.14,0.23,0.04,0.12,0.26,0.26,0.09,0.15,0.01,0.01,0.05,0.48,0.42,0.15,0.8,0.03,0.01,1.64,0.43,0.66,0.2,0.65,0.1,0.03,0.09,0.23,0.05,1.38,0.22,2.82,0.02,0.09,0.43,1.29,0.19,0.3,0.11,0.07,0.02,0.03,0.02,0.07,0.03,0.05,0.27,0.03,0.3,0.18,0.08,0.02,0.04,0.05,0.1,0.04,0.04,0.28,0.28,1.23,0.1,0.21,0.11,0.47,0.09,0.01,0.12,0.02,0.09,0.01,0.66,0.06,0.41,0.63,0.25,0.39,0.1,0.03,0.01,0.02,0.2,0.09,0.33,0.16,0.05,0.13,0.53,0.02,0.02,0.04,0.02,0.01,0.15,0.67,0.02,0.05,0.06,0.13,0.22,0.02,2.07,0.53,0.13,0.16,0.22,1.03,0.03,0.06,0.04,0.1,0.06,0.13,1.14,0.46,0.11,0.05,0.73,0.45,0.1,0.12,0.68,0.03,0.06,2.9,0.84,1.32,0.66,0.04,0.26,0.04,0.41,0.02,0.16,0.08,1.46,0.06,0.47,0.69,0.12,0.05,0.16,1.37,0.63,0.11,0.11,0.01,0.28,0.07,0.16,0.01,1.21,0.37,3.38,0.06,0.19,0.45,0.27,0.14,2.38,0.04,0.66,0.18,0.16,0.32,0.02,0.32,6.11,0.38,0.03,1.94,0.09,0.03,0.14,0.08,0.34,0.33,0.11,0.66,0.33,0.59,0.3,0.24,0.02,0.03,0.54,0.17,0.02,0.18,0.08,1.69,0.05,0.1,0.01,0.01,0.05,1.83,0.02,0.25,0.11,1.34,0.06,0.04,0.08,0.05,0.43,0.01,0.3,0.08,1.56,0.4,0.41,0.03,0.05,0.06,0.02,0.28,0.05,0.23,0.24,0.27,0.08,0.19,0.58,1.08,0.04,0.59,0.22,0.03,0.02,0.09,0.67,0.22,0.25,0.11,0.05,0.44,0.59,0.03,0.06,0.03,0.05,0.11,1.73,0.01,0.07,2.97,0.29,0.12,0.02,0.06,0.09,0.34,0.17,0.06,0.42,0.06,1.42,0.02,0.03,0.08,0.19,0.13,0.13,0.33,0.23,0.72,3.27,0.02,0.33,0.13,0.11,0.09,0.04,0.26,0.09,0.12,0.39,0.22,0.15,0.08,0.07,0.05,0.27,1.07,0.72,0.06,0.35,16.15,0.28,9.87,0.07,0.18,0.27,2.57,13.04,0.38,0.02,0.26,1.08,0.15,1.23,0.26,0.21,0.23,0.03,0.21,0.03,0.14,1.49,1.32,0.01,0.26,0.96,0.65,0.01,0.33,0.25,1.85,0.1,0.4,0.22,0.58,0.13,0.66,0.07,0.05,0.09,0.46,0.06,0.01,0.27,0.01,0.05,0.4,0.04,0.08,0.33,1.21,0.37,0.15,0.31,0.02,0.08,0.33,0.01,0.03,0.13,0.07,0.86,0.84,0.22,0.14,0.04,0.23,0.1,0.08,0.41,0.02,0.26,0.27,1.45,0.44,0.13,0.31,0.17,2.68,0.96,4.88,0.04,0.24,0.06,0.01,0.02,0.03,0.02,0.13,0.01,0.03,0.01,0.17,0.03,0.11,2.79,0.06,0.32,0.62,0.08,0.41,1.03,0.12,0.1,0.11,0.03,0.13,0.23,1.26,0.87,0.02,0.2,0.12,0.03,0.29,0.01,0.3,0.02,0.11,0.48,0.15,2.37,0.08,1.19,0.29,0.02,0.63,0.03,0.05,0.1,0.05,0.04,0.47,0.12,0.5,0.02,0.09,0.09,0.24,0.36,0.07,0.06,0.11,0.27,0.11,1.37,0.24,0.03,0.42,0.13,0.04,0.02,22.0,0.08,0.56,0.11,2.11,3.15,0.16,0.17,0.6,0.12,0.17,0.17,0.16,0.94,0.05,0.02,0.11,0.12,1.12,2.69,0.13,0.06,0.11,0.14,0.06,6.05,0.05,0.08,0.11,0.07,0.56,0.16,0.31,0.38,0.04,0.09,0.03,0.1,0.09,0.02,0.05,0.86,0.25,0.03,0.07,0.02,0.05,0.02,1.45,0.06,0.22,0.42,0.07,0.98,0.21,0.4,0.17,0.02,0.19,0.06,0.13,0.01,0.03,0.25,1.07,0.05,0.08,4.19,0.02,0.03,0.28,0.37,0.16,0.01,0.09,0.13,0.27,3.5,0.3,1.19,0.06,0.81,0.01,0.26,0.19,0.19,0.1,3.99,1.93,0.02,1.88,0.09,0.1,0.23,1.32,1.59,1.35,0.02,5.17,0.25,0.04,0.47,0.09,0.07,1.14,0.01,0.37,0.53,1.51,0.04,0.09,1.01,0.31,0.03,3.04,0.15,0.19,0.2,0.05,0.02,0.02,0.24,0.06,0.08,2.42,0.03,0.03,0.73,0.65,0.06,0.03,0.16,0.11,0.36,6.73,0.06,0.19,0.59,0.04,0.24,0.12,0.02,0.48,0.63,18.36,0.49,0.06,0.09,0.09,0.12,1.46,0.33,0.1,1.38,0.02,0.91,0.16,0.02,0.03,0.01,0.08,0.14,0.06,0.06,1.0,0.64,0.4,0.28,2.4,0.54,0.02,0.63,2.3,0.14,0.22,0.01,0.83,0.09,0.1,0.11,0.23,0.34,0.93,0.03,0.35,0.01,0.96,0.04,0.22,0.07,0.11,1.49,0.12,0.14,0.17,0.19,0.29,8.49,0.46,1.15,0.24,0.1,0.13,0.08,0.01,4.19,0.54,0.14,0.54,0.75,0.4,1.06,0.16,1.74,1.46,0.09,0.54,0.25,0.22,0.08,0.03,0.28,0.09,0.1,0.12,0.19,1.86,0.06,0.53,0.13,0.15,0.08,0.07,0.44,0.03,2.77,0.15,1.04,0.36,0.12,0.55,0.77,0.6,0.09,0.21,0.26,0.33,0.96,0.37,0.07,1.21,0.58,1.08,1.11,0.55,0.09,0.23,2.29,2.24,2.17,0.76,2.89,0.62,0.05,0.04,0.32,0.19,0.02,0.17,1.1,0.06,0.1,1.38,0.28,0.02,1.76,1.07,0.05,0.64,0.31,0.33,0.24,0.09,0.14,0.07,0.14,0.09,0.35,0.02,0.02,0.03,0.26,0.01,1.17,0.1,1.86,0.01,0.19,0.03,0.03,0.5,0.04,0.02,0.19,5.95,4.05,0.24,0.04,0.02,6.96,0.09,0.1,1.29,0.17,0.01,0.58,0.06,0.03,1.24,0.53,0.29,0.05,0.02,1.09,0.36,0.08,0.1,0.05,0.04,0.08,0.13,1.25,0.05,0.35,0.02,0.05,0.24,0.17,0.04,0.01,0.1,0.07,1.46,0.21,0.05,0.22,1.71,0.22,0.68,0.09,1.05,1.41,0.13,1.26,0.12,0.21,0.55,0.1,0.42,0.29,0.44,0.03,1.56,0.19,0.05,0.42,0.07,0.12,1.06,0.01,0.19,1.19,0.32,0.5,0.14,0.07,0.09,0.02,0.08,0.14,0.56,0.08,0.07,0.19,0.19,0.01,0.09,0.72,0.02,0.04,0.02,0.06,0.37,0.09,0.2,0.02,0.45,0.05,0.13,3.39,0.21,0.47,0.22,0.31,0.22,0.31,0.03,0.02,0.33,0.05,0.17,0.1,0.56,0.56,23.42,0.06,0.21,0.23,0.13,0.08,0.15,0.04,0.13,0.18,0.29,1.77,0.2,0.02,0.33,0.06,0.42,2.11,0.24,0.03,0.15,0.07,0.5,0.35,0.33,0.31,0.12,0.06,0.32,0.22,0.01,0.02,0.08,0.16,0.02,0.02,0.08,1.56,2.41,2.08,0.08,0.35,0.42,0.06,1.23,0.1,0.36,0.03,1.92,0.47,0.21,0.21,0.67,0.05,0.96,0.01,0.1,0.04,3.34,0.03,0.83,0.11,0.13,0.28,0.11,1.97,0.07,0.07,0.38,0.27,0.43,0.12,0.06,0.67,4.7,0.15,1.33,0.01,1.94,0.01,0.11,0.14,0.05,0.02,0.03,0.49,0.24,1.74,0.03,0.41,0.66,1.89,0.12,0.32,0.05,0.41,0.44,0.07,1.06,0.49,0.07,0.17,0.03,0.64,0.21,0.14,0.16,0.01,0.2,0.03,0.2,0.06,1.51,0.3,0.04,0.29,0.07,0.16,0.23,6.24,0.21,0.18,0.5,0.13,2.99,0.12,0.01,3.02,0.05,0.44,0.3,0.08,0.03,0.05,0.03,0.03,0.13,0.06,0.76,0.02,0.28,0.03,0.92,0.13,0.58,0.04,0.55,0.01,0.2,0.04,0.01,0.48,0.06,0.23,0.07,0.26,0.31,0.13,0.38,0.46,0.02,0.05,0.28,0.37,0.12,0.08,0.23,0.06,0.74,0.1,1.35,0.15,0.01,0.02,0.52,1.05,0.05,1.51,0.52,0.02,0.14,0.29,0.07,0.41,0.2,0.71,0.12,0.04,0.62,0.3,0.01,0.03,0.2,0.12,0.1,0.34,0.32,0.03,0.35,0.03,0.06,0.05,0.2,0.05,0.94,0.07,0.28,0.47,1.96,0.26,0.37,0.05,0.34,0.15,0.09,0.48,0.27,0.2,0.73,0.14,0.66,0.05,1.3,0.2,1.45,0.04,0.27,0.23,0.6,0.14,0.08,0.05,0.39,3.32,0.94,0.12,0.14,0.39,10.42,0.04,0.2,0.2,6.95,0.02,0.26,0.08,0.26,0.05,0.02,7.84,0.18,0.14,0.02,0.63,0.12,0.01,0.11,0.14,0.09,0.06,0.45,0.05,0.15,0.05,0.03,0.17,0.22,2.62,0.03,0.08,0.23,0.14,0.5,0.09,0.6,0.89,0.4,0.09,0.24,0.09,0.17,0.22,0.57,0.25,0.11,0.67,0.1,0.27,0.66,0.04,0.07,0.03,0.32,0.04,0.09,0.38,1.09,0.6,0.06,0.24,0.82,0.07,0.09,2.06,0.63,0.13,2.05,0.1,0.05,0.26,0.19,0.32,0.75,0.04,0.15,0.85,0.05,2.19,0.2,1.68,0.42,1.16,0.29,0.08,0.08,0.02,0.18,0.12,0.24,1.33,0.06,0.19,0.19,0.03,1.13,0.14,0.97,0.2,0.68,0.02,0.12,0.03,0.51,0.49,2.9,0.03,0.39,0.07,0.01,1.03,2.6,0.09,0.29,1.23,0.91,0.01,0.22,0.46,2.61,0.07,0.21,0.04,0.08,0.82,0.03,1.09,0.01,0.34,0.32,1.91,0.22,0.02,0.12,0.2,0.02,0.18,4.64,0.35,0.04,0.4,0.09,0.24,0.37,1.92,0.03,0.02,0.12,0.31,1.15,0.03,0.56,1.47,0.4,0.2,0.02,0.05,0.08,0.15,0.3,1.77,0.12,0.85,3.43,0.02,0.03,0.17,0.32,0.02,0.13,0.12,0.1,0.18,0.08,0.83,0.13,0.54,0.08,0.02,0.09,0.08,0.11,0.1,0.18,0.05,0.06,0.02,0.12,0.19,0.12,0.11,0.04,5.12,0.05,0.29,0.14,0.02,1.68,0.18,1.19,0.16,0.2,0.02,2.84,0.42,0.04,0.11,0.01,3.23,0.11,0.13,1.69,1.6,0.82,0.21,0.03,0.53,0.05,0.04,0.54,0.42,0.15,0.12,0.08,0.01,0.1,0.09,0.23,0.04,0.21,0.11,0.22,0.42,0.22,1.75,0.04,0.77,0.2,0.05,0.56,0.94,0.16,0.02,0.31,0.09,0.14,0.28,0.3,0.08,0.6,9.88,0.08,0.19,0.1,0.11,0.08,0.44,0.41,0.02,0.01,0.46,0.34,0.96,0.09,0.5,0.12,0.11,0.02,0.08,0.05,0.09,0.11,0.19,0.37,0.56,0.33,0.42,0.11,0.72,0.09,0.27,0.43,0.09,0.11,0.01,0.07,0.07,0.04,0.04,0.1,0.27,0.03,0.64,0.16,0.32,0.69,0.15,0.08,0.14,0.02,1.51,0.03,0.13,1.07,0.43,0.04,0.98,0.92,0.44,0.22,0.02,0.52,0.39,0.76,0.02,3.61,0.05,0.49,0.12,0.07,0.03,0.26,0.44,0.06,0.66,0.36,0.32,1.32,0.01,0.6,0.24,0.17,0.11,0.16,2.85,0.01,0.2,0.34,0.92,2.49,0.42,0.05,0.67,0.23,0.65,1.22,1.08,0.1,0.39,0.25,0.43,0.02,0.04,1.06,1.66,0.59,0.58,0.06,0.02,0.03,0.15,1.49,2.83,1.55,0.13,6.9,0.04,0.9,0.06,0.07,0.06,0.1,0.31,0.59,0.87,0.05,0.09,0.22,2.03,0.28,0.04,0.01,0.09,0.95,0.07,0.01,0.13,2.07,0.21,1.1,0.42,0.27,0.61,0.06,0.16,0.05,0.53,0.03,0.01,0.12,0.25,0.67,0.15,0.31,0.02,0.06,0.14,0.04,0.03,1.32,0.07,1.36,2.2,1.26,0.06,0.02,1.94,0.32,0.07,0.25,3.87,0.09,1.44,0.25,0.4,0.13,0.14,0.07,0.02,0.1,0.43,0.58,0.08,0.05,0.5,0.06,0.1,0.36,5.12,0.54,0.02,0.19,1.06,0.01,0.08,0.1,0.08,0.07,0.07,0.2,0.07,0.67,0.02,0.24,0.08,0.05,0.12,0.41,0.01,0.35,0.45,0.15,0.2,0.07,0.02,0.04,1.03,0.11,0.52,4.83,0.02,0.41,2.44,0.19,0.99,0.06,0.05,0.05,0.16,0.1,0.19,0.01,0.16,0.11,0.42,0.12,0.02,0.79,0.38,0.29,0.16,0.05,0.26,0.26,0.4,0.03,0.15,0.18,0.56,0.02,0.07,0.17,0.11,0.39,1.6,0.05,0.07,0.24,0.14,0.09,0.17,0.15,0.03,0.08,0.2,0.13,0.04,0.22,0.27,0.05,0.09,14.64,0.01,0.02,0.05,0.33,0.05,0.02,0.12,0.02,0.11,0.24,0.19,1.47,1.1,0.06,0.75,1.8,0.09,3.02,0.17,0.06,0.1,0.25,0.02,0.01,0.04,0.04,0.03,9.59,1.46,0.19,0.51,1.6,0.19,0.26,0.4,0.19,0.42,0.2,0.02,0.14,0.07,0.08,0.02,0.02,0.04,0.07,1.32,0.02,0.01,0.1,0.03,0.02,0.08,0.22,0.26,1.14,0.06,0.01,0.16,1.31,0.02,0.13,0.47,0.01,0.09,2.43,0.16,0.07,0.18,0.23,0.02,0.08,0.42,2.25,0.07,0.05,0.19,0.34,0.05,0.32,0.22,0.01,0.03,0.37,0.01,0.01,0.64,0.1,0.26,0.08,0.19,0.2,0.19,0.04,0.06,0.04,0.02,0.1,0.03,0.69,0.68,0.05,0.02,0.23,0.01,0.03,0.13,0.06,0.95,0.19,0.03,0.38,0.83,1.27,0.11,0.6,0.01,0.04,0.72,0.17,0.01,0.42,0.04,0.13,0.02,0.72,1.3,0.11,0.15,0.04,1.04,0.02,0.05,0.2,0.14,0.16,0.23,0.18,0.45,1.47,0.16,0.14,1.17,2.42,0.23,0.02,0.13,1.19,0.02,1.45,0.24,0.68,3.67,0.02,0.43,0.81,0.02,0.02,0.09,0.4,0.06,0.45,0.08,0.77,0.25,0.06,0.04,0.74,0.02,0.02,0.53,0.02,0.52,0.13,0.02,0.48,0.23,0.5,0.14,0.11,0.19,1.41,0.01,0.21,1.51,0.33,1.07,0.05,0.42,0.25,3.78,0.07,0.64,5.3,0.02,0.13,0.08,0.02,0.19,0.09,0.27,0.07,0.02,0.13,0.03,0.05,0.56,0.27,0.09,1.76,0.03,0.17,0.04,0.17,0.14,0.81,0.14,0.11,0.04,0.2,1.05,0.14,0.11,0.04,0.22,0.14,0.01,0.1,0.55,0.08,0.11,0.95,5.07],\"yaxis\":\"y\",\"type\":\"scattergl\"},{\"hovertemplate\":\"variable=Other_Sales<br>value=%{x}<br>Global_Sales=%{y}<extra></extra>\",\"legendgroup\":\"Other_Sales\",\"marker\":{\"color\":\"#ab63fa\",\"symbol\":\"circle\"},\"mode\":\"markers\",\"name\":\"Other_Sales\",\"showlegend\":true,\"x\":[0.0,0.0,0.0,0.02,0.23,0.0,0.0,0.01,0.04,0.04,0.09,0.03,0.5,0.0,0.01,0.05,0.05,0.0,0.0,0.03,0.01,0.18,0.02,0.0,0.06,0.06,0.01,0.16,0.0,0.04,0.0,0.0,0.0,0.16,0.01,0.0,0.02,0.01,0.07,0.01,0.02,0.0,0.0,0.0,0.05,0.04,0.02,0.02,0.09,0.01,0.03,0.0,0.03,0.0,0.0,0.96,0.01,0.02,0.01,0.01,0.0,0.05,0.0,0.01,0.07,0.0,0.09,0.0,0.0,0.02,0.01,0.0,0.03,0.02,0.03,0.0,0.0,0.03,0.06,0.0,1.16,0.01,0.0,0.02,0.0,0.0,0.03,0.04,0.09,0.01,0.0,0.04,0.0,0.0,0.0,0.14,0.0,0.06,0.01,0.11,0.0,0.01,0.02,0.01,0.0,0.0,0.0,0.0,0.0,0.0,0.0,0.02,0.01,0.17,0.0,0.14,0.02,0.01,0.01,0.01,0.06,0.15,0.02,0.05,0.05,0.04,0.06,0.01,0.0,0.0,0.09,0.0,0.16,0.0,0.02,0.09,0.0,0.2,0.0,0.02,0.01,0.0,0.0,0.12,0.05,0.0,0.0,0.0,0.24,0.0,0.0,0.01,0.01,0.02,0.0,0.0,0.0,0.09,0.01,0.01,0.05,0.0,0.0,0.0,0.02,0.01,0.01,0.02,0.0,0.0,0.0,0.01,0.01,0.0,0.01,0.0,0.0,0.0,0.16,0.0,0.04,0.01,0.0,0.16,0.01,0.16,0.18,0.01,0.0,0.0,0.0,0.0,0.0,0.0,0.01,0.04,0.0,0.0,0.0,0.0,0.0,0.17,0.07,0.12,0.01,0.0,0.01,0.14,0.02,0.0,0.0,0.04,0.03,0.03,0.02,0.02,0.02,0.0,0.0,0.0,0.03,0.05,0.01,0.06,0.02,0.23,0.0,0.05,0.05,0.0,0.0,0.03,0.0,0.01,0.01,0.01,0.01,0.01,0.0,0.01,0.02,0.11,0.04,0.14,0.0,0.01,0.02,0.04,0.01,0.23,0.0,0.0,0.0,0.0,0.17,0.09,0.46,0.01,0.0,0.0,0.03,0.02,0.0,0.0,0.01,0.01,0.0,0.02,0.0,0.0,0.0,0.0,0.02,0.0,0.0,0.06,0.0,0.0,0.01,0.16,0.09,0.07,0.0,0.02,0.01,0.15,0.01,0.0,0.03,0.01,0.0,0.01,0.0,0.0,0.0,0.0,0.01,0.01,0.04,0.06,0.0,0.01,0.1,0.01,0.18,0.01,0.45,0.01,0.01,0.01,0.01,0.01,0.0,0.0,0.04,0.02,0.02,0.01,0.0,0.0,0.0,0.01,0.01,0.1,0.0,0.03,0.0,0.12,0.01,0.0,0.0,0.09,0.14,0.05,0.01,0.0,0.02,0.0,0.09,0.05,0.01,0.0,0.04,0.05,0.13,0.02,0.02,0.01,0.0,0.01,0.01,0.04,0.0,0.01,0.12,0.0,0.0,0.0,0.01,0.44,0.0,0.05,0.05,0.01,0.03,0.05,0.02,0.0,0.0,0.0,0.16,0.02,0.0,0.03,0.01,0.0,2.01,0.01,0.01,0.01,0.02,0.04,0.03,0.01,0.0,0.01,0.11,0.05,0.06,0.04,0.61,0.01,0.01,0.0,0.0,0.01,0.01,0.19,0.01,0.04,0.03,0.12,0.12,0.29,0.0,0.03,0.06,0.0,0.01,0.0,0.0,0.74,0.0,0.01,0.08,0.07,0.01,0.02,0.0,0.0,0.0,0.01,0.01,0.01,0.05,0.22,0.01,0.0,0.0,0.01,0.0,0.0,0.01,0.0,0.01,0.05,0.01,0.06,0.0,0.0,0.77,0.0,0.02,0.0,0.0,0.01,0.03,0.0,0.0,0.0,0.01,0.04,0.04,0.0,0.14,0.0,0.0,0.0,0.27,0.0,0.02,0.0,0.02,0.08,0.25,0.0,0.1,0.02,0.0,0.01,0.32,0.0,0.0,0.0,0.02,0.0,0.05,0.03,0.04,0.01,0.01,0.0,0.17,0.11,0.01,0.16,0.02,0.0,0.22,0.02,0.0,0.0,0.0,0.04,0.03,0.07,0.0,0.0,0.0,0.0,0.0,0.0,0.04,0.03,0.0,0.0,0.01,0.0,0.01,0.0,0.29,0.0,0.28,0.01,0.0,0.02,0.0,0.02,0.05,0.0,0.0,0.0,0.02,0.0,0.07,0.0,0.02,0.02,0.0,0.0,0.02,0.09,0.0,0.13,0.06,0.07,0.02,0.0,0.05,0.01,0.0,0.01,0.1,0.08,0.04,0.0,0.02,0.05,0.0,0.01,0.01,0.0,0.01,0.0,0.0,0.06,0.03,0.0,0.02,0.0,0.39,0.0,0.0,0.12,0.01,0.02,0.0,0.0,0.02,0.01,0.08,0.01,0.0,0.01,0.0,0.0,0.01,0.11,0.01,0.1,0.0,0.02,0.0,0.05,0.05,0.0,0.0,0.0,0.01,0.0,0.0,0.08,0.04,0.05,0.01,0.0,0.37,0.0,0.0,0.0,0.0,0.01,0.0,0.02,0.05,0.0,0.03,0.05,0.01,0.04,0.02,0.0,0.0,0.01,0.13,0.0,0.02,0.03,0.0,0.03,0.06,0.0,0.06,0.04,0.01,0.11,0.01,0.01,0.13,0.0,0.05,0.0,0.01,0.8,0.01,0.0,0.02,0.0,0.05,0.0,0.05,0.0,0.05,0.19,0.0,0.01,0.0,0.0,0.0,0.02,0.0,0.0,0.0,0.01,0.0,0.0,0.0,0.15,0.01,0.09,0.04,0.31,0.06,0.01,0.01,0.09,0.0,0.01,0.0,0.01,0.0,0.0,0.03,0.01,1.01,0.0,0.08,0.04,0.01,0.0,0.3,0.0,0.25,0.0,0.0,0.01,0.24,0.03,0.09,0.03,0.01,0.03,0.0,0.14,0.0,0.0,0.02,0.0,0.0,0.01,0.04,0.0,0.01,0.82,0.0,0.02,0.04,0.21,0.0,0.0,0.0,0.0,0.01,0.13,0.05,0.01,0.01,0.0,0.14,0.11,0.0,0.0,0.02,0.07,0.13,0.1,0.0,0.34,0.02,0.0,0.18,0.02,0.01,0.0,0.04,0.02,0.0,0.0,0.01,0.0,0.01,0.13,0.22,0.01,0.2,0.0,0.0,0.0,0.01,0.12,0.0,0.0,0.0,0.0,0.0,0.04,0.0,0.31,0.13,0.0,0.0,0.0,0.0,0.09,0.02,0.01,0.0,0.02,0.0,0.0,0.01,0.03,0.02,0.0,0.0,0.08,0.01,0.01,0.03,0.0,0.0,0.01,0.0,0.0,0.0,0.05,0.62,0.01,0.03,0.01,0.0,0.0,0.0,0.52,0.04,0.0,0.06,0.02,0.03,0.01,0.0,0.0,0.04,0.0,0.01,0.06,0.26,0.01,0.02,0.1,0.07,0.01,0.0,0.01,0.01,0.01,0.04,0.0,0.01,0.0,0.01,0.01,0.0,0.05,0.02,0.0,0.0,0.03,0.0,0.01,0.0,0.01,0.0,0.06,0.0,0.0,0.02,0.01,0.02,0.0,0.0,0.0,0.02,0.0,0.01,0.0,0.04,0.01,0.0,0.0,0.0,0.01,0.18,0.0,0.0,0.01,0.03,0.03,1.29,0.02,0.0,0.12,0.1,0.0,0.03,0.02,0.0,0.04,0.01,0.03,0.0,0.05,0.0,0.0,0.0,0.01,0.0,0.0,0.1,0.0,0.0,0.0,0.02,0.05,0.0,0.01,0.0,0.0,0.0,0.02,0.0,0.02,0.03,0.01,0.01,0.0,0.0,0.1,0.02,0.07,0.01,0.01,0.01,0.0,0.99,0.0,0.06,0.01,0.0,0.0,0.01,0.01,0.01,0.07,0.04,0.05,0.06,0.06,0.15,0.0,0.01,0.0,0.02,0.0,0.45,0.53,0.01,0.0,0.01,0.0,0.03,0.0,0.04,0.0,0.0,0.0,0.0,0.01,0.01,0.01,0.0,0.18,0.02,0.01,0.03,0.0,0.0,0.0,0.01,0.05,0.02,0.04,0.01,0.01,0.01,0.0,0.0,0.0,0.01,0.03,0.0,0.0,0.0,0.0,0.0,0.0,0.0,0.0,0.01,0.0,0.22,0.0,0.01,0.0,0.06,0.01,0.01,0.0,0.0,0.02,0.07,0.2,0.0,0.0,0.03,0.15,0.0,0.05,0.01,0.0,0.04,0.0,0.0,0.0,0.08,0.05,0.0,0.0,0.01,0.05,0.0,0.0,0.02,0.04,0.07,0.0,0.01,0.07,0.08,0.0,0.02,0.1,0.0,0.03,0.0,0.0,0.01,0.01,0.0,0.0,0.05,0.0,0.0,0.04,0.03,0.0,0.02,0.0,0.0,0.02,0.0,0.02,0.05,0.05,0.0,0.02,0.06,0.01,0.01,0.04,0.01,0.02,0.0,0.02,0.01,0.01,0.0,0.01,0.02,0.04,0.01,0.0,0.0,0.0,0.0,0.0,0.05,0.0,0.01,0.05,0.01,0.0,0.01,0.0,0.09,0.12,0.0,0.0,0.0,0.0,0.01,0.0,0.83,0.02,0.01,0.04,0.63,0.0,0.01,0.01,0.0,0.02,0.02,0.0,0.02,0.01,0.21,0.0,0.0,0.06,0.0,0.0,0.02,0.17,0.0,0.01,0.06,0.0,0.0,0.01,0.01,0.01,0.01,0.02,0.07,0.21,0.02,0.04,0.38,0.02,0.01,0.0,0.0,0.02,0.0,0.0,0.0,0.0,0.0,0.0,0.01,0.0,0.01,0.0,0.61,0.07,0.13,0.02,0.87,0.0,0.02,0.0,0.03,0.0,0.26,0.07,0.02,0.02,0.12,0.2,0.05,0.15,0.0,0.01,0.11,0.01,0.03,0.13,0.04,0.01,0.02,0.01,0.01,0.03,0.01,0.02,0.01,0.07,0.0,0.1,0.0,0.0,0.0,0.0,0.03,0.05,0.06,0.0,0.0,0.0,0.05,0.0,0.01,0.0,0.03,0.0,0.02,0.0,0.01,0.0,0.05,0.03,0.06,0.02,0.01,0.02,0.06,0.0,0.0,0.2,0.01,0.02,0.0,0.22,0.0,0.2,0.03,0.0,0.0,0.0,0.0,0.01,0.0,0.01,0.02,0.08,0.0,0.02,0.07,0.0,0.07,0.0,0.0,0.0,0.0,0.01,0.0,0.22,0.03,0.0,0.0,0.17,0.01,0.0,0.0,0.01,0.02,0.01,0.05,0.0,0.01,0.01,0.01,0.0,0.0,0.01,0.0,0.01,0.0,0.06,0.01,0.0,0.02,0.0,0.01,0.0,0.11,0.02,0.05,0.65,0.01,0.18,0.0,0.22,0.01,0.0,0.01,0.0,0.01,0.02,0.08,0.02,0.02,0.01,0.07,0.02,0.04,0.0,0.0,0.01,0.0,0.07,0.01,0.02,0.03,0.0,0.03,0.02,0.0,0.01,0.0,0.02,0.1,0.0,0.0,0.0,0.01,0.0,0.0,0.0,0.01,0.0,0.06,0.01,0.0,0.0,0.02,0.01,0.14,0.01,0.01,0.0,0.0,0.01,0.0,0.01,0.0,0.06,0.01,0.0,0.0,0.01,0.01,0.0,0.0,0.21,0.09,0.02,0.0,0.02,0.0,0.01,0.06,0.01,0.02,0.0,0.0,0.0,0.02,0.01,0.05,0.01,0.0,0.0,0.01,0.01,0.04,0.0,0.01,0.03,0.0,0.04,0.0,0.0,0.0,0.01,0.02,0.0,0.07,0.02,0.01,0.0,0.0,0.01,0.0,0.15,0.0,0.01,0.01,0.07,0.01,0.0,0.01,0.03,0.0,0.01,0.11,0.07,0.0,0.04,0.0,0.11,0.01,0.06,0.0,0.03,0.0,0.01,0.01,0.02,0.0,0.0,0.02,0.01,0.0,0.01,0.0,0.0,0.0,0.03,0.0,0.02,0.01,0.02,0.04,0.02,0.0,0.03,0.0,0.01,0.02,0.02,0.0,0.0,0.0,0.08,0.08,0.0,0.0,0.05,0.09,0.0,0.05,0.01,0.01,0.18,0.01,0.02,0.03,0.0,0.01,0.0,0.09,0.0,0.0,1.09,0.05,0.0,0.05,0.05,0.04,0.01,0.05,0.0,0.01,0.01,0.0,0.0,0.02,0.0,0.01,0.2,0.0,0.0,0.0,0.25,0.02,0.0,0.0,0.0,0.0,0.01,0.09,0.04,0.01,0.02,0.0,0.01,0.01,0.46,0.0,0.0,0.01,0.02,0.0,0.0,0.02,0.02,0.0,0.0,0.0,0.01,0.04,0.0,0.01,0.03,0.01,0.0,0.01,0.0,0.01,0.01,0.06,0.0,0.02,0.03,0.05,0.0,0.04,0.0,0.01,0.0,0.01,0.01,0.02,0.02,0.0,0.0,0.04,0.03,0.04,0.01,0.03,0.0,0.01,0.0,0.0,0.02,0.05,0.02,0.0,0.73,0.07,0.04,0.0,0.0,0.01,0.0,0.01,0.01,0.01,0.0,0.01,0.19,0.0,0.0,0.0,0.01,0.02,0.27,0.0,0.0,0.01,0.02,0.01,0.01,0.0,0.01,0.0,0.01,0.0,0.01,0.0,0.01,0.01,0.01,0.0,0.01,0.08,0.0,0.01,0.0,0.11,0.02,0.01,0.03,0.04,0.0,0.05,0.01,0.23,0.0,0.0,0.14,0.08,0.01,0.01,0.0,0.02,0.05,0.7,0.0,0.01,0.3,0.01,0.0,0.0,0.01,0.0,0.07,0.0,0.06,0.01,0.0,0.03,0.0,0.0,0.0,0.05,0.0,0.09,0.0,0.1,0.03,0.0,0.18,0.02,0.01,0.02,0.0,0.06,0.01,0.0,0.08,0.02,0.01,0.02,0.0,0.0,0.03,0.03,0.01,0.01,0.0,0.22,0.03,0.02,0.01,0.06,0.0,0.01,0.0,0.09,0.01,0.05,0.0,0.01,0.0,0.0,0.03,0.06,0.01,0.0,0.0,0.01,0.01,0.0,0.01,0.05,0.0,0.01,0.01,0.0,0.04,0.04,0.19,0.0,0.06,0.01,0.03,0.02,0.06,0.02,0.01,0.03,0.06,0.0,0.03,0.01,0.03,0.02,0.0,0.0,0.01,0.01,0.0,0.0,0.1,0.04,0.14,0.0,0.01,0.0,0.02,0.0,0.01,0.02,0.0,0.02,0.0,0.02,0.01,0.1,0.15,0.0,3.31,0.0,0.03,0.11,0.06,0.02,0.01,0.0,0.02,0.01,0.03,0.0,0.0,0.02,0.03,0.01,0.0,0.0,0.03,0.05,0.0,0.0,0.0,0.04,0.01,0.06,0.0,0.0,0.01,0.0,0.01,0.0,0.01,0.0,0.03,0.0,0.08,0.0,0.0,0.0,0.0,1.26,0.0,0.0,0.09,0.08,0.03,0.05,0.01,0.0,7.53,0.04,0.0,0.1,0.01,0.02,0.0,0.01,0.0,0.01,0.02,0.0,0.01,0.0,0.0,0.0,0.0,0.0,0.0,0.01,2.96,0.0,0.0,0.0,0.0,0.0,0.02,0.16,0.0,0.0,0.03,0.01,0.0,0.0,0.03,0.02,0.18,0.0,0.0,0.1,0.0,0.0,0.1,0.0,0.0,0.03,0.0,1.83,0.05,0.0,0.0,0.0,0.02,0.01,0.11,0.0,0.0,0.06,0.0,0.0,0.0,0.0,0.03,0.0,0.02,0.0,0.01,0.01,0.78,0.01,0.04,0.01,0.01,0.0,0.01,0.0,0.0,0.0,0.07,0.01,0.0,0.01,0.01,0.0,0.01,0.06,0.06,0.02,0.0,0.0,0.01,0.65,0.0,0.0,0.01,0.0,0.0,0.0,0.17,0.01,0.0,0.02,0.14,0.0,0.0,0.0,0.02,0.0,0.11,0.02,0.01,0.04,0.0,0.01,0.01,0.0,0.01,0.0,0.0,0.03,0.0,0.0,0.07,0.0,0.14,0.0,0.08,0.0,0.08,0.0,0.0,0.0,0.01,0.01,0.02,0.18,0.01,0.0,0.0,0.01,0.01,0.01,0.14,0.0,0.0,0.0,0.0,0.01,0.03,0.0,0.06,0.01,0.07,0.0,0.0,0.0,0.0,0.0,0.0,0.23,0.09,0.09,0.0,0.03,0.0,0.0,0.01,0.58,0.04,0.0,0.01,0.0,0.03,0.03,0.0,1.13,0.0,0.0,0.0,0.06,0.0,0.01,0.18,0.01,0.02,0.04,0.0,0.03,0.01,0.0,0.03,0.01,0.01,0.0,0.3,0.02,0.0,0.0,0.02,0.02,0.07,0.09,0.01,0.0,0.0,0.01,0.0,0.01,0.0,0.01,0.03,0.0,0.0,0.06,0.02,0.0,0.01,0.03,0.05,0.15,0.0,0.0,0.06,0.04,0.01,0.0,1.21,0.0,0.0,0.0,0.01,0.09,0.11,0.0,0.07,0.08,0.02,0.05,0.0,0.0,0.0,0.03,0.05,0.02,0.0,0.02,0.0,0.0,0.0,0.02,0.02,0.0,0.0,0.0,0.0,0.0,0.09,0.01,0.01,0.02,0.29,0.01,0.0,0.0,0.0,0.01,0.08,0.17,0.01,0.0,0.0,0.06,0.0,0.04,0.01,0.03,0.37,0.0,0.06,0.02,0.61,0.18,0.0,0.01,0.03,0.01,0.09,0.0,0.0,0.0,0.11,0.0,0.0,0.13,0.11,0.04,0.0,0.02,0.0,0.0,0.0,0.0,0.0,0.0,0.22,0.0,0.04,0.01,0.29,0.01,0.62,0.0,0.0,0.01,0.0,0.0,0.0,0.05,0.0,0.0,0.01,0.0,0.0,0.0,0.06,0.02,0.02,0.03,0.01,0.0,0.36,0.01,0.01,0.01,0.0,0.03,0.04,0.0,0.04,0.01,1.12,0.17,0.02,0.01,0.06,0.0,0.0,0.16,0.01,0.22,0.0,0.0,0.0,0.05,0.0,0.0,0.03,0.09,0.01,0.0,0.04,0.0,0.02,0.0,0.02,0.05,0.0,0.0,0.0,0.07,0.18,0.02,0.01,0.04,0.01,0.0,0.03,0.01,0.0,0.04,0.0,0.02,0.05,0.0,0.0,0.0,0.01,0.0,0.0,0.0,0.01,0.01,0.01,0.01,0.01,0.0,0.01,0.16,0.03,0.0,0.01,0.0,0.0,0.0,0.0,0.0,0.08,0.04,0.72,0.0,0.0,0.0,0.0,0.0,0.07,0.01,0.16,0.08,0.0,0.02,0.01,0.15,0.0,0.0,0.0,0.01,0.01,0.03,0.25,0.0,0.0,0.0,0.0,0.0,0.0,0.02,0.05,0.0,0.02,0.0,0.0,0.08,0.01,0.01,0.01,0.0,0.0,0.05,0.03,0.01,0.01,0.05,0.15,0.0,0.04,0.0,0.01,0.0,0.01,0.02,0.06,0.0,0.02,0.07,0.16,0.0,0.0,0.0,0.0,0.03,0.0,0.01,0.01,0.12,0.5,0.02,0.02,0.0,0.0,0.0,0.01,0.0,0.0,0.01,0.01,0.14,0.06,0.0,0.03,0.06,0.0,0.0,0.04,0.26,0.0,0.3,0.07,0.06,0.0,0.0,0.01,0.01,0.01,0.0,0.04,0.0,0.04,0.04,0.01,0.0,0.02,0.09,0.0,0.0,0.0,0.01,0.0,0.0,0.08,0.0,0.05,0.0,0.01,0.23,0.0,0.0,0.01,0.0,0.02,0.0,0.0,0.1,0.04,0.08,0.01,0.0,0.07,0.03,0.03,0.0,0.01,0.11,0.01,0.0,0.0,0.06,0.08,0.02,0.01,0.03,0.02,0.0,0.0,0.01,0.01,0.25,0.01,0.01,0.04,0.0,0.0,0.01,0.01,0.0,0.18,0.12,0.01,0.02,0.01,0.06,0.0,0.03,0.0,0.0,0.0,0.0,0.0,0.01,0.33,0.0,0.11,0.01,0.08,0.02,0.0,0.01,0.05,0.0,0.0,0.01,0.0,0.0,0.0,0.01,0.0,0.02,0.01,0.0,0.01,0.01,0.01,0.04,0.0,0.01,0.02,0.04,0.0,0.11,0.0,0.01,0.0,0.06,0.12,0.0,0.0,0.01,0.01,0.0,0.01,0.01,0.01,0.02,0.0,0.03,0.0,0.13,0.0,0.11,0.04,0.0,0.03,0.0,0.02,0.0,0.06,0.0,0.0,0.01,0.03,0.01,0.04,0.05,0.02,0.01,0.01,0.01,0.08,0.04,0.0,0.0,0.14,0.01,0.01,0.06,0.01,0.0,0.0,0.03,0.15,0.0,0.02,0.01,0.0,0.0,0.01,0.01,0.01,0.0,0.04,0.01,0.0,0.08,0.12,0.0,0.19,0.04,0.02,0.01,0.0,0.01,0.04,0.0,0.0,0.02,0.42,0.02,0.0,0.0,0.01,0.0,0.0,0.0,0.01,0.0,0.0,0.04,0.0,0.01,0.01,0.41,0.01,0.01,0.02,0.03,0.01,0.0,0.03,0.02,0.0,0.0,0.01,0.04,0.01,0.07,0.07,0.02,0.03,0.02,0.02,0.0,0.07,0.01,0.0,0.01,0.02,0.01,0.0,0.0,0.01,0.0,0.02,0.02,0.13,0.0,0.0,0.02,0.01,0.04,0.02,0.01,0.0,0.31,0.01,0.07,0.05,0.0,0.0,0.0,0.0,0.09,0.36,0.02,0.03,0.0,0.11,0.0,0.0,0.08,0.03,0.0,0.21,0.12,0.05,0.01,0.02,0.06,0.0,0.0,0.02,0.06,0.09,0.0,0.0,0.0,0.05,0.0,0.0,0.0,0.0,0.07,0.03,0.04,0.0,0.01,0.0,0.72,0.01,0.0,0.0,0.23,0.0,0.02,0.05,0.02,0.05,0.0,0.0,0.03,0.18,0.0,0.06,0.05,0.0,0.01,0.25,0.0,0.01,0.36,0.17,0.02,0.01,0.0,0.0,0.01,0.08,0.0,0.04,0.0,0.0,0.05,0.0,0.01,0.0,0.0,0.01,0.0,0.39,0.0,0.04,0.03,0.18,0.09,0.65,0.05,0.0,0.09,0.14,0.01,0.0,0.0,0.01,0.01,0.06,0.0,0.0,0.0,0.0,0.01,0.01,0.0,0.0,0.0,0.01,0.01,0.02,0.02,0.0,0.0,1.07,0.14,0.03,0.0,0.0,0.0,0.01,0.0,0.13,0.11,0.0,0.01,0.0,0.0,0.01,0.01,0.0,0.05,0.02,0.01,0.0,0.35,0.0,0.13,0.01,0.0,0.02,0.0,0.02,0.01,0.08,0.0,0.03,0.01,0.01,0.01,0.0,0.0,0.0,0.02,0.02,0.02,0.04,0.0,0.21,0.0,0.01,0.03,0.04,0.0,0.0,0.01,0.01,0.03,0.0,0.0,0.01,0.06,0.0,0.0,0.0,0.0,0.01,0.02,0.1,0.01,0.07,0.0,0.02,0.0,0.0,0.0,0.05,0.1,0.0,0.0,0.0,0.04,0.16,0.05,0.77,0.01,0.0,0.0,0.0,0.03,0.01,0.0,0.0,0.03,0.02,0.11,0.0,0.05,0.01,0.08,0.0,0.02,0.0,0.18,0.03,0.1,0.0,0.02,0.0,0.0,0.0,0.02,0.0,0.01,0.0,0.22,0.02,0.01,0.0,0.01,0.01,0.0,0.01,0.0,0.02,0.01,0.01,0.0,0.01,0.62,0.06,0.01,0.0,0.0,0.09,0.0,0.0,0.0,0.22,0.0,0.19,0.04,0.03,0.0,0.7,0.0,0.09,0.01,0.07,0.01,0.09,0.0,0.13,0.01,0.0,0.02,0.0,0.0,0.0,0.0,0.0,0.0,0.03,0.01,0.02,0.17,0.07,0.0,0.0,0.02,0.08,0.01,0.02,0.27,0.01,0.03,0.0,0.01,0.07,0.0,0.06,0.0,0.33,0.33,0.01,0.02,0.02,0.0,0.01,0.02,0.0,0.0,0.05,0.01,0.01,0.0,0.3,0.05,0.0,0.0,0.17,0.0,0.0,0.0,0.0,0.06,0.0,0.04,0.15,0.01,0.0,0.0,0.04,0.03,0.0,0.11,0.1,0.01,1.03,0.01,0.0,0.03,0.01,0.01,0.01,0.04,0.04,0.01,0.04,0.03,0.06,0.0,0.02,0.01,0.02,0.11,0.0,0.02,0.01,0.04,0.01,0.02,0.02,0.02,0.01,0.4,0.0,0.23,0.0,0.82,0.05,0.0,0.0,0.26,0.02,0.0,0.0,0.0,0.04,0.0,0.0,0.02,0.06,0.02,0.0,0.0,0.02,0.0,0.05,0.01,0.02,0.04,1.13,0.0,0.06,0.0,0.05,0.0,0.44,0.0,0.05,0.0,0.13,0.03,0.02,0.01,0.08,0.0,0.03,0.0,0.0,0.06,0.0,0.0,0.0,0.0,0.07,0.0,0.0,0.0,0.03,0.0,0.15,0.01,0.01,0.02,0.1,0.02,0.03,2.26,0.02,0.01,0.01,0.04,0.01,0.0,0.01,0.01,0.0,0.0,0.0,0.0,0.0,0.05,0.0,0.0,0.04,0.04,0.0,0.01,0.05,0.01,0.1,0.0,0.0,0.02,0.0,0.0,0.12,0.0,0.04,0.0,0.0,0.0,0.01,0.01,0.01,0.0,0.01,0.01,0.02,0.17,0.01,0.01,0.0,0.0,0.08,0.0,0.0,0.0,0.02,0.0,0.0,0.02,0.0,0.01,0.01,0.1,0.04,0.02,0.0,0.04,0.04,0.02,0.0,0.0,0.0,0.04,0.0,0.01,0.0,0.0,0.15,0.01,0.0,0.03,0.02,0.05,0.22,0.13,0.08,0.0,0.02,0.03,0.01,0.08,0.03,0.0,0.0,0.01,0.0,0.0,0.01,0.0,0.02,0.0,0.03,0.03,0.04,0.03,0.0,0.0,0.0,0.04,0.0,0.0,0.0,0.01,0.03,0.03,0.22,0.04,0.07,0.01,0.06,0.41,0.0,0.01,0.12,0.13,0.0,0.0,0.0,0.0,0.0,0.0,0.0,0.31,0.0,0.05,0.0,0.01,0.0,0.01,0.1,0.01,0.0,0.01,0.0,0.11,0.01,0.01,0.01,0.0,0.03,0.0,0.0,0.05,0.23,0.0,0.02,0.22,0.02,0.0,0.0,0.0,0.2,0.0,0.0,0.05,0.0,0.05,0.01,0.01,0.01,0.0,0.51,0.02,0.32,0.03,0.06,0.0,0.01,0.0,0.04,0.32,0.12,0.0,0.02,0.0,0.0,0.0,0.01,0.02,0.0,0.01,0.0,0.0,0.01,0.0,0.01,0.02,0.0,0.05,0.03,0.0,0.03,0.02,0.54,0.01,0.34,0.01,0.01,0.0,0.06,0.1,0.01,0.1,0.0,0.0,0.0,0.0,0.0,0.02,0.04,0.03,0.01,0.03,0.01,0.02,0.0,0.06,0.01,0.08,0.01,0.0,0.01,0.0,0.0,0.0,0.01,0.0,0.02,0.0,0.0,0.0,0.06,0.03,0.0,0.01,0.0,0.03,0.0,0.02,0.0,0.03,0.0,0.1,0.0,0.01,0.0,0.0,0.05,0.2,0.01,0.01,0.0,0.11,0.0,0.01,0.05,0.0,0.09,0.01,0.08,0.0,2.12,0.05,0.02,0.0,0.05,0.07,0.01,0.01,0.03,0.0,0.01,0.0,0.01,0.0,0.21,0.03,0.03,0.0,0.13,0.01,0.0,0.01,0.34,0.03,0.01,0.02,0.0,0.05,0.01,0.04,0.0,0.04,0.0,0.02,0.01,0.0,0.24,0.01,0.01,0.0,0.12,0.01,0.04,0.02,0.0,0.0,0.01,0.0,0.06,0.02,0.0,0.09,0.0,0.26,0.03,0.02,0.0,0.0,0.53,0.0,0.02,0.0,0.0,0.0,0.02,0.0,0.01,0.01,0.0,0.0,0.0,0.03,0.07,0.01,0.0,0.0,0.03,0.13,0.0,0.02,0.01,0.01,0.0,0.0,0.09,0.01,0.22,0.02,0.0,0.02,0.04,0.01,0.02,0.04,0.01,0.0,0.01,0.02,0.01,0.07,0.01,0.0,0.04,0.0,0.01,0.0,0.0,0.03,0.07,0.0,0.0,0.03,0.0,0.02,0.0,0.01,0.0,0.44,0.01,0.01,0.0,0.25,0.04,0.05,0.0,0.13,0.01,0.01,0.01,0.0,0.01,0.07,0.04,0.02,0.07,0.07,0.05,0.04,0.01,0.01,0.0,0.0,0.02,0.01,0.0,0.02,0.01,0.0,0.05,0.07,0.0,0.02,0.01,0.0,0.06,0.0,0.02,0.04,0.03,0.02,0.01,0.04,0.28,0.0,0.01,0.03,0.58,0.0,0.0,0.01,0.01,0.01,0.0,0.01,0.0,0.0,0.16,0.01,0.02,0.0,0.14,0.0,0.07,0.01,0.04,0.0,0.02,0.0,0.04,0.01,0.0,0.0,0.04,0.0,0.22,0.0,0.01,0.0,0.0,0.0,0.02,0.01,0.02,0.01,0.23,0.0,0.03,0.14,0.26,0.03,0.04,0.0,0.02,0.05,0.0,0.0,0.06,0.83,0.04,0.01,0.0,0.1,0.0,0.0,0.01,0.12,0.0,0.01,0.14,0.0,0.0,0.1,0.01,0.01,0.0,0.01,0.0,0.01,0.05,0.0,0.01,0.0,0.0,0.01,0.03,0.0,0.01,0.04,0.03,0.02,0.03,0.01,0.0,0.0,0.02,0.0,0.01,0.01,0.02,0.0,0.01,0.07,0.0,0.0,0.0,0.18,0.01,0.0,0.02,0.14,0.01,0.02,0.01,0.0,0.01,0.09,0.0,0.02,0.0,0.01,0.0,0.07,0.0,0.0,0.0,0.0,0.16,0.01,0.02,0.0,0.07,0.04,0.0,0.01,0.02,0.01,0.01,0.0,0.0,0.0,0.0,0.0,0.0,0.0,0.01,0.03,0.0,0.01,0.01,0.0,0.0,0.03,0.35,0.0,0.01,0.01,0.0,0.04,1.23,0.0,0.01,0.02,0.02,0.22,0.0,0.01,0.0,0.0,0.0,0.01,0.0,0.03,0.01,0.46,0.19,0.15,0.01,0.0,0.0,0.01,0.05,0.0,0.01,0.0,0.0,0.0,0.01,0.08,0.01,0.0,0.03,0.01,0.08,0.02,0.01,0.05,0.0,0.25,0.0,0.0,0.02,0.0,0.51,0.0,0.0,0.0,0.12,0.01,0.02,0.08,0.01,0.1,0.01,0.01,0.02,0.0,0.05,0.0,0.04,0.18,0.02,0.06,0.05,0.08,0.06,0.0,0.54,0.04,0.0,0.0,0.02,0.0,0.0,0.02,0.0,0.0,0.01,0.02,0.0,0.0,0.01,0.0,0.01,0.0,0.02,0.0,0.02,0.04,0.03,0.0,0.0,0.0,0.0,0.0,0.52,0.0,0.01,0.05,0.07,0.0,0.0,0.01,0.03,0.11,0.01,0.08,0.0,0.01,0.79,0.0,0.0,0.0,0.28,0.27,0.0,0.0,0.0,0.0,0.01,0.0,0.1,0.01,0.04,0.06,0.0,0.08,0.15,0.01,0.0,0.22,0.15,0.32,0.0,0.0,0.0,0.0,0.0,0.07,0.01,0.03,0.44,0.0,0.0,0.07,0.14,0.01,0.05,0.0,0.0,0.01,0.0,0.0,0.18,0.01,0.04,0.06,0.0,0.01,0.02,0.0,0.01,0.01,0.0,0.01,0.0,0.01,0.13,0.02,0.0,0.0,0.02,0.0,0.05,0.01,0.0,0.0,0.87,0.0,0.11,0.0,0.1,0.07,0.03,0.01,0.03,0.02,0.08,0.0,0.03,0.04,0.05,0.04,0.0,0.12,0.09,0.04,0.0,0.03,0.01,0.0,0.03,0.01,0.0,0.01,0.0,0.16,0.01,0.03,0.01,0.0,0.0,0.0,0.0,0.01,0.26,0.0,0.03,0.02,0.01,0.0,0.02,0.02,0.01,0.0,0.0,0.02,0.0,0.0,0.1,0.03,0.03,0.01,0.02,0.0,0.0,0.0,0.0,0.03,0.03,0.07,0.0,0.09,0.0,0.03,0.0,0.0,0.01,0.02,0.12,0.06,0.0,0.06,0.0,0.03,0.01,0.02,0.02,0.0,0.0,0.0,0.0,0.0,0.0,0.03,0.0,0.01,0.0,0.2,0.01,0.0,0.0,0.0,0.01,0.03,0.0,0.06,0.0,0.11,0.03,0.0,0.0,0.07,0.09,0.0,0.09,0.01,0.0,0.01,0.0,0.21,0.02,0.0,0.05,0.31,0.11,0.01,0.0,0.01,0.04,0.02,0.0,0.04,0.0,0.07,0.01,0.02,0.04,0.01,0.0,0.0,0.01,0.0,0.04,0.03,0.0,0.04,0.0,0.01,0.01,0.0,0.04,0.18,0.02,0.0,0.0,1.21,0.02,0.0,0.0,0.2,0.09,0.0,0.14,0.0,0.05,0.01,0.02,0.01,0.07,0.0,0.13,0.01,0.0,0.11,0.0,0.0,0.07,0.0,0.0,0.0,0.01,0.01,0.09,0.02,0.71,0.0,0.01,0.09,0.02,0.0,0.0,0.01,0.0,0.0,0.28,0.02,0.01,0.07,0.03,0.0,0.01,0.0,0.0,0.0,0.0,0.0,0.08,0.01,0.0,0.0,0.0,0.02,0.03,0.01,0.0,0.0,0.0,0.0,0.02,0.0,0.02,0.0,0.0,0.01,0.05,0.0,0.0,0.07,0.0,0.05,0.01,0.0,0.26,0.0,0.42,0.02,0.0,0.3,0.0,0.01,0.05,0.01,0.01,0.27,0.01,0.03,0.0,0.0,0.05,0.0,0.06,0.02,1.37,0.08,0.0,0.05,0.01,0.2,0.0,0.03,0.26,0.06,0.01,0.0,0.03,0.02,0.18,0.0,0.03,0.27,0.65,0.0,0.04,0.06,0.02,0.02,0.0,0.14,0.04,0.02,0.0,0.0,0.01,0.02,0.0,0.0,0.0,0.26,0.0,0.01,0.0,0.09,0.01,0.0,0.0,0.09,0.0,0.21,0.0,0.01,0.01,0.09,0.0,0.02,0.0,0.0,0.0,0.01,0.11,0.02,0.0,0.0,0.01,0.05,0.01,0.04,0.01,0.02,0.0,0.0,0.03,0.0,0.0,0.18,1.63,0.01,0.69,0.02,0.04,0.01,0.01,0.01,0.01,0.0,0.02,0.0,0.0,0.02,0.06,0.03,0.0,0.09,0.01,0.07,0.28,0.05,0.0,0.0,0.05,0.01,0.03,0.01,0.0,0.41,0.03,0.16,0.02,0.0,0.17,1.04,0.0,0.08,0.0,0.01,0.01,0.04,0.01,0.0,0.0,0.0,0.0,0.18,0.14,0.15,0.07,0.01,0.0,0.03,0.12,0.16,0.04,0.01,0.14,0.0,0.01,0.0,0.01,0.0,0.0,0.03,0.0,0.0,0.0,0.02,0.0,0.0,0.05,0.0,0.0,0.0,0.0,0.03,0.48,0.01,0.0,0.0,0.14,0.11,0.06,0.01,0.0,0.01,0.01,0.0,0.03,0.01,0.0,0.02,0.0,0.2,0.0,0.01,0.0,0.03,0.06,0.09,0.0,0.01,0.04,0.04,0.03,0.03,0.0,0.01,0.0,0.0,0.0,0.0,0.0,0.04,0.01,0.06,0.0,0.0,0.01,0.01,0.0,0.0,0.0,0.02,0.31,0.0,0.05,0.0,0.31,0.18,0.09,0.02,0.03,0.0,0.01,0.02,0.0,0.0,0.0,0.06,0.01,0.01,0.01,0.07,0.0,0.13,0.02,0.0,0.0,0.01,0.05,0.04,0.03,0.0,0.0,0.03,0.03,0.05,0.07,0.01,0.01,0.15,0.16,0.12,0.19,0.0,0.0,0.02,0.0,0.04,0.0,0.01,0.01,0.01,0.01,0.0,0.0,0.12,0.01,0.01,0.02,0.05,0.01,0.0,0.0,0.0,0.06,0.0,0.0,0.0,0.0,0.07,0.01,0.01,0.0,0.11,0.0,0.0,0.0,0.0,0.0,0.0,0.0,0.0,0.0,0.24,0.01,0.03,0.0,0.0,0.0,0.01,0.0,0.0,0.0,0.0,0.02,0.02,0.0,0.1,0.02,0.0,0.0,0.11,0.0,0.0,0.01,0.08,0.0,0.02,0.0,0.01,0.0,0.02,0.0,0.13,0.07,0.0,0.0,0.02,0.0,0.0,0.0,0.02,0.21,0.0,0.0,0.01,0.03,0.08,0.02,0.02,0.01,0.01,0.0,0.03,0.05,0.01,0.06,0.02,0.0,0.02,0.0,0.0,0.1,0.07,0.0,0.05,0.03,0.06,0.04,0.01,0.02,0.02,0.0,0.33,0.02,0.06,0.02,0.09,0.0,0.01,0.01,0.08,0.0,0.02,0.04,0.01,0.01,0.03,0.02,0.01,0.94,0.02,1.09,0.03,0.07,0.0,0.0,0.21,0.05,0.01,0.01,0.02,0.0,0.03,0.01,0.0,0.0,0.0,0.04,0.07,0.01,0.0,0.0,0.0,0.01,0.01,0.04,0.04,0.0,0.01,0.02,0.02,0.01,0.09,0.76,0.02,0.01,0.0,0.02,0.07,0.01,0.0,0.04,0.03,0.06,0.08,0.01,0.15,0.0,0.01,0.0,0.02,0.0,0.0,0.0,0.02,0.01,0.01,0.0,0.0,0.01,0.0,0.24,0.01,0.0,0.25,0.04,0.0,0.02,0.01,0.28,0.02,0.01,0.0,0.06,1.06,0.05,0.02,0.0,0.01,0.0,0.01,0.0,0.1,0.0,0.01,0.0,0.0,0.03,0.0,0.0,0.27,0.0,0.27,0.0,0.02,0.0,0.07,0.0,0.06,0.03,0.0,0.02,0.0,0.03,0.0,0.0,0.05,0.01,0.01,0.0,0.0,0.05,0.0,0.01,0.0,0.01,0.0,0.01,0.05,0.01,0.06,0.08,0.0,0.0,0.0,0.01,0.0,0.0,0.01,0.01,0.01,0.03,0.02,0.02,0.01,0.03,0.0,0.0,0.0,0.0,0.0,0.03,0.0,0.0,0.14,0.05,0.03,0.22,0.01,0.04,0.0,0.91,0.0,0.05,0.13,0.0,0.31,0.12,0.0,0.18,0.67,0.01,0.0,0.0,0.0,0.0,0.0,0.0,0.03,0.01,0.0,0.02,0.16,0.1,0.21,0.01,0.01,0.04,0.02,0.02,0.09,0.06,0.02,0.0,0.56,0.0,0.01,0.0,0.08,0.01,0.02,0.0,0.0,0.22,0.02,0.0,0.0,0.0,0.0,0.03,0.08,0.0,0.02,0.0,0.0,0.0,0.02,0.01,0.01,0.18,0.09,0.03,0.02,0.04,0.01,0.84,0.09,0.01,0.0,0.05,0.0,0.0,0.0,0.07,0.0,0.0,0.84,0.11,0.0,0.0,0.04,0.0,0.07,0.23,0.0,0.08,0.03,0.06,0.02,0.0,0.02,0.03,0.0,0.14,0.03,0.0,0.0,0.0,0.0,0.01,0.0,0.03,0.0,0.0,0.26,0.04,0.0,0.0,0.01,0.0,0.0,0.11,0.0,0.05,0.06,0.0,0.02,0.0,0.01,0.0,0.07,0.0,0.05,0.01,0.01,0.0,0.22,0.0,0.15,0.02,0.04,0.26,0.02,0.01,0.0,0.02,0.0,0.06,0.0,0.01,0.15,0.02,0.02,0.03,0.05,0.0,0.03,0.01,0.01,0.04,0.0,0.04,0.22,0.01,0.02,2.46,0.01,0.0,0.04,0.02,0.24,0.03,0.02,0.01,0.02,0.0,0.0,0.03,0.01,0.02,0.01,0.0,0.26,0.0,0.04,0.01,0.01,0.0,0.02,0.0,0.0,0.01,0.11,0.0,0.0,0.0,0.0,0.0,0.0,0.08,0.01,0.01,0.01,0.01,0.0,0.07,0.06,0.02,0.02,0.02,0.0,0.0,0.05,0.01,0.25,0.03,0.07,0.0,0.01,0.02,0.0,0.0,0.03,0.01,0.02,0.39,0.0,0.02,0.01,0.16,0.0,0.01,0.04,0.03,0.0,0.02,0.2,0.05,0.01,0.03,0.07,0.02,0.0,0.12,0.11,0.01,0.01,0.0,0.06,0.02,0.02,0.0,0.01,0.15,0.0,0.0,0.36,0.03,0.07,0.0,10.57,0.04,0.01,0.02,0.0,0.0,0.07,0.0,0.08,0.02,0.0,0.05,0.03,0.02,0.02,0.0,0.06,0.02,0.0,0.16,0.04,0.0,0.0,0.13,0.01,1.42,0.37,0.08,0.01,0.05,0.0,0.18,0.03,0.02,0.01,0.0,0.06,0.0,0.0,0.01,0.0,0.02,0.0,0.0,0.0,0.3,0.0,0.0,0.01,0.17,0.01,0.02,0.0,0.03,0.0,0.02,0.0,0.0,0.0,0.0,0.01,0.0,0.14,0.0,0.02,1.1,0.0,0.08,0.04,0.22,0.0,0.0,0.0,0.0,0.0,0.0,0.0,0.05,0.02,0.33,0.02,0.0,0.0,0.0,0.0,0.07,0.2,0.0,0.01,0.02,0.0,0.28,0.19,0.01,0.0,0.01,0.0,0.04,0.09,0.0,0.0,0.56,0.0,0.0,0.01,0.0,0.0,0.13,0.09,0.25,0.22,0.0,0.0,0.08,0.02,0.0,0.01,0.09,0.02,0.02,0.07,0.0,0.04,0.01,0.0,0.0,0.05,0.0,0.0,0.02,0.02,0.0,0.04,0.06,0.0,0.0,0.0,0.01,0.02,0.0,0.01,0.0,0.0,0.2,0.01,0.01,0.15,0.06,0.08,0.0,0.3,0.03,0.0,0.0,0.03,0.01,0.02,0.0,0.0,0.0,0.09,0.01,0.0,0.02,0.0,0.35,0.0,0.04,0.0,0.02,0.11,0.0,0.0,0.03,0.0,0.01,0.01,0.0,0.0,0.0,0.0,0.07,0.01,0.01,0.04,0.01,0.0,0.31,0.01,0.06,0.0,0.05,0.0,0.0,0.01,0.0,0.06,0.02,0.02,0.02,0.1,0.0,0.02,0.06,0.0,0.01,0.19,0.03,0.0,0.01,0.0,0.01,0.0,0.0,0.0,0.0,0.02,0.0,0.02,0.03,0.01,0.01,0.0,0.06,0.0,0.0,0.0,0.03,0.0,0.0,0.03,0.0,0.0,0.0,0.02,0.01,0.14,0.01,0.01,0.03,0.0,0.0,0.0,0.01,0.37,0.0,0.0,0.0,0.03,0.0,0.04,0.01,0.0,0.01,0.04,0.01,0.01,0.02,0.0,0.0,0.02,0.0,0.01,0.01,0.0,0.09,0.0,0.04,0.0,0.0,0.01,0.0,0.0,0.01,0.02,0.07,0.01,0.21,0.6,0.07,0.02,0.02,0.0,0.17,0.02,0.02,0.02,0.0,0.32,0.02,0.0,0.01,0.0,0.0,0.0,0.29,0.0,0.04,0.0,1.1,0.12,0.1,0.0,0.05,0.0,0.02,0.01,0.04,0.02,0.01,0.18,0.03,0.01,0.01,0.13,0.09,0.01,1.0,0.0,0.0,0.02,0.01,0.0,0.1,0.03,0.0,0.03,0.01,0.0,0.07,0.0,0.01,0.07,0.01,0.0,0.01,0.02,0.03,0.01,0.0,0.01,0.01,0.09,0.2,0.03,0.0,0.01,0.01,0.21,0.02,0.0,0.02,0.0,0.0,0.04,0.01,0.0,0.07,0.03,0.01,0.01,0.06,0.04,0.01,0.05,0.06,0.01,0.0,0.0,0.16,0.18,0.01,0.01,0.07,0.0,0.0,0.0,0.0,0.02,0.01,0.0,0.01,0.03,0.0,0.01,0.01,0.04,0.37,0.08,0.12,0.05,0.07,0.15,0.06,0.11,0.02,0.01,0.0,0.06,0.3,0.01,0.22,0.17,0.01,0.0,0.0,0.0,0.01,0.01,0.01,0.01,0.3,0.08,0.06,0.01,0.0,0.0,0.01,0.02,0.01,0.0,0.0,0.01,0.06,0.0,0.0,0.22,0.0,0.0,0.01,0.0,0.02,0.03,0.01,0.0,0.0,0.04,0.0,0.0,0.0,0.03,0.0,0.0,0.03,0.0,0.05,0.02,0.0,0.01,0.0,0.0,0.09,0.0,0.26,0.16,0.0,0.04,0.08,0.0,0.07,0.01,0.22,0.01,0.0,0.02,0.0,0.01,0.0,0.03,0.27,0.01,0.0,0.02,0.02,0.0,0.0,0.03,0.05,0.0,0.01,0.0,0.02,0.02,0.18,0.01,0.0,0.05,0.0,0.0,0.01,0.01,0.01,0.0,0.02,0.03,0.01,0.01,0.01,0.03,0.0,1.38,0.03,0.0,0.04,0.02,0.01,0.0,0.0,0.0,0.0,0.4,0.0,0.0,0.0,0.0,0.0,0.47,0.0,0.0,0.0,0.0,0.01,0.0,0.03,0.0,0.0,0.03,0.01,0.0,0.0,0.0,0.02,0.0,0.0,0.02,0.0,0.0,0.75,0.01,0.0,0.0,0.09,0.01,0.0,0.05,0.0,0.01,0.03,0.0,0.0,0.1,0.03,0.12,0.0,0.38,0.0,0.05,0.01,0.0,0.01,0.07,0.01,0.05,0.0,0.0,0.01,0.0,0.0,0.12,0.0,0.02,0.0,0.0,0.04,0.0,0.02,0.0,0.0,0.04,0.0,0.0,0.0,0.07,0.01,0.02,0.0,0.01,0.0,0.06,0.04,0.0,0.01,0.01,0.02,0.01,0.0,0.0,0.0,0.0,0.0,0.13,0.0,0.01,0.0,0.0,0.0,0.02,0.0,0.01,0.03,0.0,0.07,0.0,0.06,0.0,0.01,0.05,0.0,0.0,0.0,0.0,0.0,0.0,0.02,0.01,0.0,0.0,0.02,0.01,0.0,0.05,0.0,0.0,0.04,0.01,0.01,0.0,0.0,0.07,0.0,0.0,0.0,0.08,0.01,0.01,0.01,0.0,0.03,0.0,0.0,0.02,0.01,0.03,0.24,0.01,0.03,0.02,0.01,0.0,0.0,0.01,0.0,0.0,0.02,0.07,0.05,0.01,0.01,0.0,0.0,0.04,0.01,0.17,0.06,0.0,0.0,0.0,0.01,0.02,0.01,0.02,0.01,0.0,0.01,0.0,0.05,0.0,0.0,0.01,0.03,0.34,0.02,0.03,0.0,0.02,0.52,0.0,0.11,0.0,0.01,0.3,0.0,0.02,0.06,0.02,0.0,0.01,0.0,0.0,0.0,0.01,0.0,0.0,0.07,0.0,0.0,0.0,0.0,0.0,0.03,0.01,0.0,0.0,0.0,0.0,0.01,0.07,0.99,0.0,0.0,0.01,0.0,0.0,0.01,0.03,0.02,0.01,0.0,0.01,0.0,0.0,0.0,0.0,0.04,0.01,0.01,0.11,0.03,0.0,0.25,0.0,0.0,0.02,0.22,0.06,0.12,0.0,0.01,0.04,0.21,0.0,0.01,0.0,0.0,0.1,0.01,0.08,0.0,0.0,0.0,0.0,0.0,0.11,0.0,0.01,0.0,0.14,0.01,0.01,0.0,0.0,0.02,0.02,0.02,0.14,0.0,0.0,0.0,0.0,0.09,0.02,0.0,0.01,0.26,0.0,0.0,0.0,0.01,0.02,0.0,0.08,0.09,0.13,0.06,0.0,0.01,0.0,0.0,0.16,0.0,0.01,0.02,0.0,0.03,0.0,0.0,0.0,0.0,0.0,0.0,0.0,0.01,0.0,0.0,0.01,0.02,0.01,0.0,0.07,0.14,0.0,0.03,0.0,0.0,0.01,0.07,0.0,0.0,0.0,0.01,0.02,0.0,0.0,0.01,0.05,0.0,0.0,0.04,0.0,0.14,0.03,0.01,0.08,0.01,0.02,0.0,0.18,0.0,0.0,0.0,0.87,0.0,0.01,0.05,0.02,0.01,0.07,0.0,0.04,0.02,0.0,0.12,0.0,0.14,0.01,0.02,0.13,0.03,0.03,0.21,0.04,0.01,0.14,0.02,0.06,0.02,0.4,0.05,0.0,0.0,0.0,0.0,0.01,0.0,0.08,0.07,0.19,0.01,0.02,0.15,0.01,0.0,0.0,0.01,0.0,0.06,0.09,0.01,0.03,0.0,0.03,0.08,0.19,0.03,0.2,0.02,0.57,0.17,0.07,0.11,0.18,0.0,0.0,0.0,0.0,0.02,0.01,0.02,0.0,0.0,0.05,0.0,0.0,0.04,0.01,0.02,0.12,0.0,0.0,0.04,0.01,0.0,0.0,0.01,0.07,0.0,0.0,0.07,0.0,0.0,0.0,0.0,0.01,0.15,0.0,0.0,0.05,0.05,0.0,0.0,0.0,0.23,0.0,0.03,0.0,0.0,0.0,0.01,0.13,0.14,0.03,0.0,0.12,0.02,0.0,0.0,0.0,0.03,0.03,0.01,0.01,0.0,0.0,0.0,0.0,0.13,0.01,0.02,0.07,0.0,0.14,0.0,0.06,0.01,0.0,0.0,0.0,0.0,0.0,0.0,0.0,0.01,0.04,0.02,0.0,0.0,0.02,0.01,0.0,0.0,0.0,0.01,0.01,0.03,0.0,0.0,0.02,0.14,0.0,0.0,0.14,0.0,0.05,0.0,0.0,0.0,0.08,0.0,0.0,0.0,0.03,0.06,0.01,0.01,0.06,0.01,0.03,0.0,0.1,0.04,0.06,0.01,0.0,0.0,0.01,0.06,0.0,0.31,0.08,0.0,0.01,0.0,0.04,0.17,0.01,0.0,0.01,0.07,0.01,0.03,0.03,0.0,0.02,0.07,0.0,0.09,0.16,0.0,0.07,0.02,0.01,0.04,0.0,0.01,0.04,0.36,0.27,0.0,0.06,0.02,0.0,0.07,0.05,0.04,0.0,0.06,0.0,0.0,0.01,0.08,0.17,0.46,0.0,0.01,0.01,0.0,0.01,0.01,0.01,0.07,0.0,0.0,0.0,0.14,0.0,0.11,0.0,0.1,0.09,0.01,0.23,0.07,0.0,0.01,0.02,0.01,0.01,0.03,0.05,0.02,0.0,0.05,0.04,0.0,0.0,0.0,0.01,0.0,0.08,0.0,0.02,0.03,0.11,0.07,0.0,0.11,0.01,0.0,0.0,0.66,0.09,0.07,0.16,0.0,0.22,0.0,0.0,0.0,0.02,0.13,0.0,0.02,0.0,0.0,0.0,0.03,0.03,0.03,0.03,0.02,0.05,0.19,0.05,0.04,0.0,0.21,0.0,0.04,0.02,0.0,0.3,0.0,0.0,0.05,0.0,0.04,0.01,0.01,0.01,0.06,0.02,0.0,0.3,0.0,0.0,0.03,0.0,0.0,0.0,0.01,0.0,0.04,0.04,0.0,0.0,0.0,0.01,0.0,0.03,0.0,0.01,0.0,0.11,0.04,0.0,0.0,0.31,0.0,0.0,0.0,0.02,0.14,0.0,0.0,0.65,0.08,0.01,0.01,0.01,0.0,0.0,0.01,0.03,0.0,0.01,0.01,0.0,0.01,0.0,0.05,0.01,0.0,0.0,0.0,0.01,0.05,0.0,0.06,0.02,0.14,0.0,0.01,0.16,0.0,0.01,0.06,0.05,0.0,0.05,0.04,0.1,0.05,0.0,0.0,0.01,0.0,0.01,0.04,0.0,0.0,0.05,0.0,0.0,0.0,0.1,0.0,0.0,0.13,0.01,0.0,0.01,0.0,0.05,0.0,0.01,0.0,0.07,0.0,0.01,0.01,0.01,0.0,0.0,0.0,0.0,0.0,0.0,0.02,0.11,0.0,0.0,0.0,0.01,0.0,0.03,0.01,0.0,0.0,0.05,0.01,0.12,0.04,0.01,0.03,0.01,0.05,0.0,0.01,0.02,0.17,0.06,0.02,0.01,0.0,0.03,0.0,0.05,0.05,0.01,0.2,0.0,0.02,0.05,0.0,0.0,0.03,0.03,0.02,0.01,0.01,0.06,0.01,0.05,0.02,0.0,0.16,0.0,0.0,0.0,0.02,0.0,0.17,0.0,0.01,0.0,0.01,0.0,0.01,0.0,0.0,0.13,0.01,0.0,0.02,0.0,0.22,0.09,0.0,0.11,0.01,0.0,0.1,0.28,0.02,0.02,0.0,0.0,0.01,0.05,0.03,0.04,0.02,0.0,0.0,0.01,0.01,0.0,0.05,0.0,0.0,0.01,0.01,0.01,0.01,0.0,0.02,0.0,0.0,0.1,0.04,0.0,0.0,0.01,0.0,0.02,0.0,0.04,0.0,0.01,0.0,0.01,0.0,0.0,0.0,0.01,0.02,0.0,0.04,0.01,0.0,0.01,0.02,0.02,0.0,0.0,0.24,0.04,0.0,0.0,0.0,0.0,0.0,0.05,0.0,0.01,0.0,0.17,0.04,0.0,0.01,0.0,0.01,0.0,0.0,0.07,0.01,0.01,0.0,0.04,0.02,0.0,0.02,0.13,0.0,0.02,0.01,0.04,0.01,0.0,0.0,0.0,0.07,0.0,0.1,0.01,0.03,0.34,0.0,0.09,0.49,0.0,0.19,0.01,0.02,0.0,0.0,0.01,0.0,0.0,0.0,0.0,0.0,0.04,0.0,0.06,0.07,0.01,0.04,0.0,0.14,0.0,0.01,0.01,0.01,0.05,0.0,0.01,0.0,0.02,0.0,0.07,0.0,0.2,0.02,0.16,0.01,0.01,0.02,0.32,0.0,0.02,0.06,0.0,0.0,0.0,0.01,0.06,0.0,0.23,0.01,0.08,0.0,0.04,0.0,0.03,0.01,0.01,0.0,0.0,0.41,0.01,0.0,0.0,0.0,0.0,0.01,0.13,0.1,0.0,0.0,0.02,0.04,0.01,0.0,0.0,0.01,0.02,0.0,0.0,0.16,0.02,0.03,0.08,0.07,0.0,0.0,0.01,0.0,0.01,0.01,0.0,0.01,0.0,0.0,0.0,0.01,0.0,0.0,0.0,0.0,0.04,0.02,0.01,0.02,0.0,0.0,0.0,0.0,0.03,0.11,0.0,0.01,0.0,0.06,0.02,0.02,0.06,0.01,0.0,0.0,0.01,0.03,0.1,0.03,0.0,0.0,0.01,0.13,0.01,0.02,0.09,0.02,0.02,0.0,0.02,0.33,0.0,0.0,0.0,0.01,0.01,0.56,0.0,0.04,0.0,0.0,0.13,0.03,0.36,0.0,0.2,0.0,0.01,0.01,0.01,0.16,0.07,0.04,0.0,0.08,0.02,0.0,0.0,0.0,0.01,0.04,0.02,0.04,0.0,0.01,0.0,0.02,0.0,0.0,0.01,0.01,0.0,0.12,0.04,0.03,0.0,0.01,0.05,0.0,0.05,0.0,0.25,0.02,0.0,0.0,0.0,0.77,0.0,0.05,0.02,0.01,0.0,0.11,0.0,0.0,0.0,0.02,0.08,0.05,0.0,0.01,0.01,0.1,0.01,0.04,0.0,0.09,0.01,0.06,0.03,0.0,0.0,0.0,0.01,0.0,0.07,0.0,0.02,0.0,0.0,0.08,0.01,0.02,0.0,0.02,0.01,0.01,0.01,0.0,0.0,0.1,0.03,0.01,0.19,0.02,0.02,0.02,0.02,0.0,0.02,0.0,0.11,0.0,0.02,0.0,0.01,0.01,0.37,0.0,0.04,0.02,0.02,0.0,0.0,0.03,0.03,0.02,0.01,0.0,0.0,0.0,0.02,0.0,0.36,0.01,0.14,0.94,0.0,0.01,0.0,0.66,0.17,0.06,0.0,0.01,0.07,0.02,0.0,0.01,0.59,0.05,0.0,0.0,0.0,0.01,0.12,0.05,0.0,0.0,0.0,0.61,0.01,0.01,0.0,0.01,0.01,0.03,0.05,0.06,0.0,0.01,0.01,0.01,0.0,0.02,0.0,0.01,0.08,0.05,0.09,0.01,0.05,0.04,0.04,0.05,0.0,0.01,0.01,0.03,0.08,0.0,0.19,0.0,0.0,0.0,0.28,0.0,0.01,0.0,0.0,0.03,0.01,0.01,0.01,0.0,0.01,0.07,0.33,0.1,0.02,0.22,0.0,0.02,0.07,0.01,0.0,0.0,0.01,0.05,0.14,0.02,0.0,0.0,0.02,0.0,0.0,0.04,0.01,0.01,0.0,0.22,0.0,0.01,0.01,0.1,0.0,0.21,0.01,0.0,0.07,0.01,0.0,0.01,0.02,0.01,0.0,0.04,0.01,0.01,0.02,0.02,0.01,0.0,0.02,0.0,0.0,0.02,0.05,0.08,0.02,0.04,0.0,0.0,0.0,0.03,0.04,0.64,0.01,0.0,0.0,0.0,0.06,0.01,0.09,0.15,0.0,0.0,0.02,0.03,0.01,0.01,0.0,0.0,0.02,0.01,0.0,0.1,0.02,0.0,0.03,0.03,0.01,0.0,0.02,0.0,0.01,0.0,0.01,2.9,0.01,0.02,0.0,0.0,0.15,0.0,0.01,0.02,0.01,0.01,0.01,0.01,0.0,0.0,0.02,0.03,0.24,0.0,0.0,0.0,0.0,0.0,0.0,0.0,0.0,0.0,0.1,0.02,0.0,0.03,0.0,0.0,0.25,0.04,0.03,0.0,0.0,0.02,0.13,0.0,0.15,0.0,0.0,0.0,0.51,0.07,0.1,0.0,0.03,0.01,0.06,0.0,0.0,0.51,0.01,0.0,0.0,0.01,0.07,0.01,0.01,0.02,0.1,0.02,0.0,0.01,0.03,0.06,0.0,0.01,0.0,0.12,0.0,0.0,0.0,0.0,0.01,0.04,0.35,0.08,0.0,0.16,0.13,0.0,0.0,0.0,0.0,0.05,0.0,0.19,0.0,0.0,0.1,0.0,0.0,0.01,0.0,0.0,0.01,0.02,0.03,0.0,0.04,0.0,0.02,0.32,0.0,0.04,0.0,0.0,0.0,0.01,0.01,0.23,0.08,0.82,0.0,0.0,0.1,0.03,0.01,0.06,0.0,0.02,0.17,0.03,0.0,0.01,0.0,0.0,0.0,0.09,0.02,0.0,0.0,0.0,0.03,0.0,0.01,0.0,0.01,0.0,0.0,0.0,0.0,0.0,0.0,0.01,0.07,0.03,0.33,0.05,0.05,0.0,0.08,0.08,0.05,0.05,0.02,0.0,0.01,0.1,0.0,0.0,0.0,0.0,0.06,0.01,0.0,0.01,0.03,0.01,0.0,0.0,0.0,0.0,0.03,0.0,0.04,0.01,0.14,0.04,0.0,1.18,0.0,0.03,0.0,0.0,0.0,0.0,0.0,0.13,0.47,0.01,0.03,0.1,0.02,0.0,0.0,0.01,0.15,0.0,0.0,0.06,0.0,0.01,0.0,0.04,0.01,0.0,0.02,0.0,0.0,0.02,0.0,0.0,0.0,0.14,0.01,0.15,0.0,0.09,0.02,0.0,0.01,0.0,0.46,0.02,0.03,0.18,0.0,0.06,0.07,0.02,0.02,0.05,0.04,0.0,0.02,0.02,0.02,0.01,0.02,0.0,0.01,0.0,0.0,0.0,0.01,0.0,0.08,0.0,0.03,0.04,0.0,0.05,0.01,0.0,0.11,0.08,0.01,0.06,0.0,0.0,0.0,0.18,0.06,0.03,0.09,0.0,0.01,0.01,0.0,0.02,0.0,0.0,0.01,0.0,0.0,0.15,0.0,0.09,0.0,0.0,0.0,0.01,0.0,0.0,0.08,0.07,0.0,0.03,0.0,0.0,0.07,0.0,0.01,0.07,0.0,0.04,0.0,0.03,0.0,0.0,0.12,0.0,0.02,0.01,0.01,0.01,0.0,0.0,0.03,0.11,0.01,0.0,0.01,0.01,0.08,0.0,0.01,0.03,0.0,0.0,0.04,0.1,0.01,0.01,0.01,0.01,0.0,0.0,0.03,0.0,0.05,0.04,0.0,0.0,0.08,0.0,0.09,0.0,0.0,0.0,0.0,0.0,0.06,0.01,0.01,0.0,0.0,0.02,0.07,0.07,0.04,0.0,0.0,0.01,0.07,0.0,0.08,0.0,0.0,0.0,0.01,0.01,0.0,0.03,0.0,0.02,0.01,0.08,0.17,0.0,0.0,0.02,0.02,0.04,0.02,0.0,0.0,0.01,0.0,0.01,0.07,0.0,0.01,0.0,0.0,0.01,0.07,0.0,0.01,0.01,0.0,0.15,0.01,0.0,0.0,0.01,0.0,0.03,0.01,0.03,0.47,0.01,0.0,0.13,0.01,0.0,0.07,0.02,0.0,0.03,0.04,0.01,0.1,0.03,0.03,0.0,0.02,0.06,0.06,0.24,0.0,0.0,0.01,0.0,0.03,0.0,0.0,0.0,0.04,0.01,0.02,0.04,0.02,0.01,0.02,0.03,0.01,0.01,0.04,0.0,0.0,0.0,0.01,0.27,0.01,0.01,0.0,0.0,0.02,0.08,0.0,0.02,0.11,0.0,0.0,0.05,0.05,0.07,0.01,0.0,0.15,0.0,0.02,0.07,0.01,0.09,0.07,0.01,0.01,0.01,0.0,0.04,0.01,0.0,0.0,0.0,0.0,0.01,0.06,0.31,0.01,0.0,0.01,0.01,0.01,0.04,0.01,0.07,0.01,0.07,0.0,0.01,0.01,0.0,0.01,0.01,0.0,0.08,0.0,0.0,0.0,0.14,0.0,0.02,0.03,0.01,0.24,0.01,0.04,0.0,0.0,0.01,0.0,0.19,0.03,0.0,0.11,0.01,0.01,0.0,0.06,0.01,0.0,0.03,0.01,0.66,0.01,0.0,0.01,0.08,0.0,0.02,0.08,0.0,0.0,0.13,0.01,0.0,0.0,0.01,0.01,0.01,0.01,0.01,0.02,0.0,0.0,0.02,0.02,0.0,0.01,0.0,0.02,0.45,0.04,0.0,0.01,0.01,0.0,0.07,0.0,0.01,0.0,0.0,0.02,0.0,0.1,0.0,0.02,0.0,0.01,0.01,0.0,0.0,0.01,0.0,0.04,0.0,0.01,0.15,0.0,0.33,0.04,0.04,0.23,0.0,0.01,0.05,0.22,0.0,0.0,0.0,0.0,0.02,0.0,0.01,0.0,0.0,0.01,0.01,0.0,0.01,0.0,0.01,0.0,0.0,0.0,0.02,0.01,0.01,0.09,0.01,0.0,0.03,0.0,0.0,0.0,0.06,0.02,0.01,0.0,0.01,0.04,0.0,0.01,0.11,0.12,0.03,0.01,0.2,0.19,0.06,0.03,0.04,0.08,0.0,0.0,0.0,0.0,0.03,0.01,0.0,0.02,0.03,0.0,0.0,0.08,0.05,0.01,0.0,0.01,0.0,0.01,0.0,0.0,0.0,0.05,0.0,0.12,0.01,0.0,0.02,0.53,0.01,0.02,0.02,0.01,0.01,0.0,0.01,0.05,0.0,0.03,0.01,0.02,0.26,0.01,0.01,0.0,0.06,0.14,0.0,0.01,0.0,0.0,0.03,0.0,0.0,0.0,0.02,0.0,0.02,0.03,0.0,0.02,0.02,0.06,0.0,0.0,0.0,0.0,0.01,0.0,0.0,0.0,0.02,0.02,0.02,0.08,0.0,0.0,0.01,0.02,0.75,0.17,2.05,0.01,0.07,0.21,0.05,0.01,0.03,0.08,0.0,0.04,0.0,0.0,0.04,0.01,0.0,0.01,0.01,0.01,0.03,0.0,0.03,0.02,0.0,0.07,0.32,0.0,0.02,0.0,0.03,0.0,0.01,0.01,0.03,0.02,0.0,0.01,0.15,0.06,0.1,0.19,0.01,0.12,0.0,0.31,0.05,0.2,0.03,0.01,0.09,0.0,0.01,0.05,0.0,0.01,0.01,0.01,0.01,0.0,0.14,0.01,0.0,0.07,0.33,0.0,0.0,0.01,0.02,0.02,0.18,0.03,0.15,0.01,0.01,0.37,0.0,0.12,0.02,0.52,0.01,0.01,0.02,0.01,0.01,0.0,0.41,0.02,0.01,0.0,0.01,0.02,0.04,0.0,0.01,0.0,0.08,0.0,0.01,0.11,0.0,0.0,0.0,0.01,0.03,0.0,0.01,0.06,0.02,0.04,0.06,0.01,0.02,0.07,0.0,0.0,0.01,0.01,0.06,0.06,0.09,0.7,0.0,0.0,0.01,0.0,0.0,0.01,0.0,0.01,0.07,0.12,0.0,0.0,0.05,0.0,0.04,0.0,0.01,0.23,0.04,0.0,0.03,0.0,0.01,0.01,0.02,0.0,0.01,0.02,0.0,0.05,0.01,0.0,0.11,0.0,0.01,0.02,0.01,0.01,0.01,0.0,0.01,0.0,0.01,0.02,0.01,0.02,0.0,0.01,0.0,0.12,0.01,0.11,0.03,0.01,0.16,0.0,0.03,0.0,0.0,0.01,0.0,0.11,0.0,0.01,0.01,0.02,0.0,0.02,0.01,0.01,0.07,0.05,0.0,0.0,0.93,0.0,0.01,0.0,0.03,0.01,0.06,0.0,0.02,0.0,0.0,0.01,0.01,0.0,0.05,0.0,0.01,0.0,0.0,0.01,0.01,0.0,0.02,0.01,0.0,0.1,0.06,0.16,0.12,0.03,0.04,0.01,0.19,0.0,0.01,0.0,0.0,0.01,0.02,0.03,0.1,0.05,0.02,0.01,0.0,0.0,0.01,0.03,0.0,0.0,0.0,0.0,0.01,0.01,0.07,0.0,0.02,0.0,0.02,0.0,0.0,0.0,0.07,0.01,0.02,0.03,0.01,0.0,0.0,0.01,0.01,0.03,0.0,0.0,0.0,0.12,0.03,0.0,0.23,0.01,2.75,0.0,0.0,0.02,0.09,0.01,0.05,0.0,0.02,0.0,0.01,0.0,0.0,0.03,0.03,0.01,0.1,0.02,0.0,0.01,0.03,0.0,0.02,0.0,0.25,0.0,0.01,0.01,0.0,0.01,0.0,0.0,0.01,0.0,0.01,0.0,0.0,0.0,0.04,0.01,0.0,0.0,0.0,0.17,0.01,0.08,0.0,0.01,0.13,0.04,0.02,0.01,0.01,0.05,0.01,0.02,0.03,0.02,0.07,0.01,0.08,0.03,0.02,0.01,0.0,0.01,0.01,0.01,0.0,0.01,0.01,0.0,0.01,0.0,0.0,0.01,0.01,0.02,0.25,0.0,0.06,0.15,0.13,0.01,0.25,0.01,0.0,0.0,0.86,0.02,0.02,0.0,0.01,0.02,0.01,0.2,0.0,0.52,0.0,0.0,0.0,0.0,0.0,0.02,0.07,0.23,0.01,0.01,0.01,0.0,0.0,0.01,0.04,0.01,0.0,0.08,0.01,0.0,0.1,0.11,0.07,0.02,0.0,0.0,0.02,0.02,0.0,0.09,0.01,0.0,0.08,0.02,0.02,0.02,0.04,0.0,0.02,0.02,0.05,0.0,0.08,0.07,0.01,0.0,0.02,0.14,0.33,0.2,0.05,0.05,0.01,0.01,0.0,0.0,0.0,0.0,0.03,0.01,0.05,0.03,0.0,0.23,0.0,0.0,0.0,0.01,0.01,0.0,0.18,0.01,0.06,0.0,0.02,0.0,0.06,0.0,0.0,0.0,0.1,0.0,0.0,0.0,0.0,2.05,0.0,0.01,0.0,0.06,0.0,0.0,0.0,0.04,0.02,0.01,0.13,0.09,0.02,0.0,0.0,0.0,0.0,0.0,0.02,0.01,0.05,0.0,0.05,0.0,0.0,0.0,2.15,0.0,0.02,0.03,0.01,0.0,0.0,0.0,0.02,0.0,0.03,0.0,0.04,0.01,0.0,0.0,0.0,0.0,0.04,0.0,0.01,0.07,0.12,0.0,0.02,0.04,0.01,0.01,0.01,0.01,0.02,0.41,0.33,0.01,0.0,0.0,0.04,0.0,0.0,0.01,0.0,0.02,0.0,0.01,0.01,0.0,0.0,0.02,0.0,0.0,0.0,0.02,0.05,0.09,0.0,0.18,0.01,0.1,0.04,0.03,0.0,0.01,0.0,0.01,0.01,0.02,0.01,0.07,0.26,0.01,0.0,0.0,0.0,0.0,0.0,0.0,0.06,0.0,0.02,0.04,0.0,0.0,0.08,0.0,0.28,0.0,0.0,0.0,0.44,0.04,0.0,0.0,0.03,0.0,0.02,0.04,0.04,0.01,0.03,0.01,0.03,0.01,0.02,0.02,0.0,0.0,0.02,0.03,0.03,0.01,0.01,0.0,0.32,0.01,0.13,0.0,0.41,0.08,0.02,0.01,0.03,0.0,0.04,0.02,0.01,0.0,0.0,0.02,0.0,0.0,0.13,0.0,0.01,0.06,0.06,0.0,0.01,0.02,0.16,0.0,0.0,0.03,0.0,0.01,0.01,0.02,0.01,0.0,0.08,0.01,0.0,0.01,0.01,0.01,0.0,0.0,0.0,0.0,0.05,0.04,0.0,0.0,0.01,0.0,0.04,0.02,0.01,0.18,0.01,0.0,0.09,0.01,0.02,0.0,0.01,0.02,0.0,0.03,0.0,0.03,0.0,0.03,0.02,0.01,0.0,0.03,0.09,0.0,0.02,0.01,0.0,0.01,0.04,0.04,0.0,0.0,0.0,0.0,0.07,0.0,0.29,0.01,0.0,0.01,0.01,0.0,0.0,0.02,0.1,0.37,0.0,0.01,0.0,0.01,0.21,0.01,0.0,0.05,0.0,0.01,0.0,0.0,0.13,0.0,0.01,0.02,0.08,0.01,0.0,0.02,0.5,0.03,0.0,0.02,0.03,0.01,0.01,0.0,0.01,0.03,0.0,0.02,0.05,0.02,0.03,0.06,0.01,0.0,0.0,0.02,0.0,0.06,0.04,0.0,0.01,0.01,0.0,0.01,0.0,0.01,0.03,0.0,0.0,0.02,0.03,0.04,0.01,0.27,0.0,0.05,0.01,0.0,0.0,0.01,0.0,0.68,0.01,0.1,0.01,0.02,0.03,0.03,0.0,0.09,0.46,0.0,0.04,0.14,0.0,0.03,0.01,0.01,0.01,0.04,0.04,0.0,0.0,0.0,0.0,0.07,0.02,0.0,0.0,0.0,0.04,0.0,0.22,0.0,0.13,0.0,0.21,0.01,0.0,0.14,0.0,0.0,2.93,0.0,0.1,0.02,0.03,0.0,0.01,0.0,0.14,0.07,0.0,0.0,0.11,0.02,0.0,0.05,0.02,0.24,0.05,0.0,1.07,0.03,0.01,0.0,0.0,0.0,0.0,0.0,0.01,0.0,0.05,0.0,0.0,0.01,0.02,0.0,0.01,0.01,0.13,0.05,0.0,0.0,0.0,0.0,0.01,0.02,0.0,0.01,0.0,0.0,0.0,0.0,0.01,0.0,0.01,0.0,0.0,0.01,0.0,0.0,0.0,0.0,0.0,0.04,0.0,0.01,0.0,0.06,0.01,0.0,0.03,0.03,0.0,0.07,0.0,0.0,0.18,0.01,0.0,0.07,0.03,0.01,0.0,0.0,0.0,0.0,0.0,0.0,0.07,0.01,0.12,0.08,0.01,0.04,0.03,0.01,0.0,0.01,0.0,0.02,0.2,0.01,2.31,0.0,0.01,0.03,0.0,0.0,0.0,0.01,0.0,0.01,0.05,0.0,0.04,0.59,0.01,0.02,0.02,0.01,0.02,0.03,0.05,0.0,0.08,0.01,0.0,0.07,0.06,0.0,0.07,0.04,0.0,0.0,0.0,0.02,0.0,0.01,0.04,0.04,0.01,0.14,0.01,0.21,0.0,0.01,0.01,0.06,0.0,0.0,0.0,0.0,0.0,0.08,0.0,0.01,0.02,0.0,0.0,0.06,0.0,0.06,0.0,0.01,0.04,0.0,0.0,0.0,0.02,0.02,0.32,0.0,0.0,0.09,0.0,0.0,0.01,0.0,0.0,0.02,0.11,0.0,0.0,0.0,0.0,0.0,0.0,0.07,0.3,0.0,0.12,0.01,0.0,0.01,0.01,0.57,0.02,0.01,0.0,0.07,0.0,0.0,0.0,0.01,0.07,0.01,0.0,0.16,0.0,0.02,0.04,0.04,0.29,0.22,0.0,0.04,0.0,0.0,0.01,0.0,0.0,0.0,0.01,0.43,0.0,0.01,0.01,0.0,0.1,0.01,0.05,0.02,0.0,0.03,0.01,0.0,0.03,0.02,0.02,0.01,0.06,0.27,0.0,0.1,1.48,0.0,0.04,0.08,0.04,0.02,0.45,0.0,0.06,0.01,0.0,0.01,0.0,0.01,0.06,0.1,0.02,0.05,0.0,0.0,0.01,0.0,0.01,0.0,0.01,0.04,0.0,0.0,0.0,0.06,0.0,0.01,0.0,0.01,0.04,0.0,0.02,0.0,0.0,0.09,0.0,0.05,0.01,0.0,0.01,0.05,0.03,0.01,0.0,0.0,0.04,0.01,0.01,0.03,0.22,0.02,0.02,0.0,0.06,0.01,0.07,0.01,0.0,0.01,0.03,0.01,0.0,0.03,0.0,0.0,0.0,0.0,0.01,0.03,0.0,0.02,0.02,0.32,0.0,0.02,0.0,0.0,0.02,0.02,0.12,0.01,0.02,0.06,0.02,0.01,0.01,0.0,0.0,0.01,0.11,0.01,0.0,0.02,0.02,0.04,0.01,1.82,0.0,0.01,0.0,0.0,0.03,0.04,0.14,0.01,0.01,0.01,0.01,0.01,0.02,0.0,0.0,0.0,0.07,0.0,0.04,0.0,0.01,0.01,0.06,0.19,0.01,0.0,0.0,0.0,0.01,0.01,0.43,0.0,0.02,0.0,0.05,0.17,0.13,0.03,0.03,0.01,0.0,0.0,0.01,0.25,0.0,0.0,0.03,0.03,0.0,0.21,0.22,0.01,0.0,0.01,0.01,0.0,0.02,0.0,0.54,0.04,0.0,0.0,0.03,0.02,0.0,0.05,0.0,0.04,0.0,0.0,0.34,0.01,0.02,0.01,0.0,0.0,0.01,0.02,0.0,0.01,0.03,0.06,0.03,0.0,0.0,0.0,0.0,0.0,0.0,0.01,0.08,0.0,0.0,0.0,0.0,0.0,0.05,0.05,0.05,0.01,0.0,0.0,0.02,0.01,0.17,0.01,0.0,0.0,0.0,0.01,0.01,0.0,0.0,0.03,0.01,0.1,0.13,0.0,0.07,0.01,0.0,0.01,0.0,0.0,0.0,0.0,0.0,0.01,0.0,0.01,0.01,0.01,0.0,0.08,0.02,0.0,0.0,0.0,0.01,0.03,0.0,0.03,0.07,0.01,0.0,0.73,0.01,0.06,0.0,0.01,0.01,0.0,0.09,0.01,0.0,0.01,0.0,0.01,0.16,0.0,0.23,0.01,0.03,0.01,0.04,0.02,0.1,0.07,0.01,0.06,0.0,0.0,0.03,0.09,0.01,0.01,0.0,0.02,0.0,0.0,0.04,0.01,0.0,0.14,0.0,0.2,0.01,0.0,0.0,0.02,0.06,0.02,0.01,0.0,0.06,0.02,0.05,0.02,0.0,0.02,0.01,0.01,0.04,0.07,0.0,0.03,0.02,0.0,0.01,0.02,0.02,0.12,0.19,0.02,0.0,0.0,0.05,0.01,0.04,0.0,0.03,0.3,0.04,0.02,0.04,0.0,0.01,0.01,0.02,0.01,0.04,0.0,0.03,0.0,0.0,0.01,0.0,0.0,0.19,0.03,0.01,0.0,0.0,0.06,0.03,0.01,0.02,0.04,0.01,0.0,0.0,0.01,0.16,0.04,0.45,1.62,0.02,0.05,0.0,0.0,0.04,0.0,0.01,0.03,0.01,0.14,0.06,0.0,0.03,0.01,0.01,0.03,0.0,0.01,0.01,0.03,0.03,0.03,0.31,0.2,0.0,0.01,0.01,0.02,0.11,0.0,0.02,0.09,0.0,0.08,0.0,0.01,0.0,0.0,0.05,0.16,0.07,0.0,0.02,0.01,0.0,0.0,0.02,0.0,0.0,0.12,0.02,0.0,0.01,0.2,0.0,0.02,0.0,0.02,0.74,0.03,0.01,0.0,0.06,0.01,0.0,0.0,0.04,0.0,0.08,0.05,0.01,0.01,0.04,0.0,0.0,0.02,0.05,0.0,0.01,0.0,0.01,0.11,0.06,0.03,0.0,0.0,0.21,0.01,0.02,0.02,0.02,0.0,0.01,0.02,0.0,0.02,0.55,0.01,0.01,0.0,0.0,0.0,0.03,0.0,0.01,0.0,0.0,0.0,0.03,0.01,0.0,0.13,0.0,0.0,0.0,0.0,0.02,0.03,0.0,0.0,0.03,0.05,0.02,0.07,0.13,0.0,0.0,0.04,0.0,0.02,0.0,0.18,0.01,0.04,0.0,0.01,0.13,0.0,0.01,0.01,0.02,0.01,0.01,0.01,0.06,0.03,0.0,0.03,0.0,0.09,0.01,0.02,0.02,0.05,0.04,0.0,0.04,0.0,0.0,0.0,0.02,0.0,0.0,0.01,0.04,0.05,0.0,0.01,0.0,0.01,0.02,0.02,0.01,0.0,0.0,0.06,0.04,0.01,0.0,0.04,0.0,0.43,0.01,0.0,0.07,0.01,0.19,0.02,0.0,0.01,0.05,0.01,0.01,0.08,0.03,0.01,0.01,0.0,0.04,0.0,0.12,0.0,0.1,0.08,0.13,0.03,0.02,0.01,0.08,0.15,0.02,0.01,0.01,0.0,0.03,0.01,0.03,0.01,0.0,0.0,0.02,0.01,0.01,0.03,0.01,0.1,0.05,0.0,0.03,0.0,0.0,0.01,0.0,0.02,0.06,0.01,0.0,0.1,0.01,0.0,0.02,0.0,0.0,0.01,0.0,0.06,0.13,0.0,0.02,0.12,0.0,0.01,0.04,0.17,0.03,0.01,0.0,0.03,0.01,0.0,0.02,0.01,0.01,0.05,0.03,0.0,0.0,0.0,0.0,0.02,0.0,0.02,0.0,0.0,0.02,0.01,0.05,0.01,0.0,0.02,0.02,0.01,0.03,0.01,0.04,0.53,0.49,0.19,0.18,0.0,0.22,0.02,0.13,0.04,0.01,0.0,0.0,0.0,0.15,0.01,0.05,0.01,0.0,0.03,0.0,0.0,0.02,0.0,0.0,0.01,0.02,0.02,0.0,0.0,0.02,0.06,0.0,0.9,1.3,0.0,0.01,0.0,0.0,0.09,0.0,0.0,0.02,0.0,0.06,0.02,0.28,0.03,0.03,0.01,0.0,0.0,0.05,0.01,0.0,0.0,0.0,0.01,0.01,0.03,0.02,0.02,0.08,0.01,0.0,0.03,0.1,0.2,0.07,0.02,0.01,0.0,0.0,0.01,0.0,0.01,0.0,0.01,0.01,0.2,0.0,0.02,0.03,0.01,0.26,0.0,0.12,0.04,0.0,0.0,0.0,0.0,0.02,0.04,0.46,0.69,0.0,0.15,0.01,0.02,0.0,0.0,0.0,0.01,0.0,0.0,0.0,0.01,0.01,0.02,0.26,0.01,0.14,0.02,0.05,0.0,0.01,0.0,0.03,0.18,0.08,0.0,0.01,0.01,0.01,0.27,0.01,0.0,0.02,0.03,0.0,0.01,0.0,0.06,0.0,0.0,0.01,0.0,0.66,0.01,0.0,0.0,0.02,0.01,0.01,0.0,0.01,0.05,0.02,0.19,0.01,0.0,0.0,0.01,0.05,0.0,0.0,0.03,0.0,0.0,0.04,0.06,0.0,0.04,0.03,0.02,0.06,0.01,0.01,0.03,0.01,0.0,0.02,0.01,0.05,0.03,0.01,0.0,0.0,0.02,0.04,0.06,0.06,0.0,0.0,0.0,0.04,0.02,0.0,0.1,0.01,0.0,0.0,0.01,0.0,0.0,0.05,0.01,0.01,0.0,0.03,0.0,0.02,0.0,0.29,0.01,0.0,0.0,0.13,0.01,0.09,0.01,0.03,0.07,0.01,0.02,0.22,0.03,0.0,0.01,0.04,0.0,0.15,0.0,0.03,0.01,0.01,0.0,0.03,0.0,0.0,0.0,0.01,0.02,0.0,0.02,0.0,0.03,0.0,0.14,0.0,0.05,0.0,0.12,0.02,0.0,0.09,0.28,0.0,0.05,0.07,0.2,1.67,0.0,0.0,0.33,0.01,0.02,0.3,0.0,0.01,0.0,0.0,0.01,0.22,0.13,0.03,0.04,0.01,0.03,0.0,0.01,0.14,0.0,0.11,0.0,0.1,0.0,0.01,1.47,0.04,0.05,0.03,0.0,0.05,0.07,0.08,0.06,0.01,0.0,0.03,0.13,0.01,0.26,0.0,0.0,0.02,0.08,0.02,0.0,0.01,0.05,0.0,0.0,0.01,0.03,0.01,0.01,0.0,0.01,0.04,0.01,0.0,0.01,0.01,0.0,0.01,0.0,0.0,0.05,0.01,0.0,0.0,0.1,0.01,0.09,0.07,0.01,0.0,0.0,0.01,0.04,0.02,0.01,0.0,0.0,0.0,0.02,0.01,0.02,0.0,0.01,0.03,0.0,0.0,0.02,0.0,0.02,0.01,0.0,0.05,0.0,0.03,0.03,0.02,0.0,0.02,0.07,0.01,0.0,0.04,0.01,0.0,0.0,0.14,0.01,0.01,0.0,0.01,0.02,0.28,0.03,0.04,0.02,0.0,0.03,0.0,0.0,0.0,0.0,0.08,0.0,0.06,0.01,0.02,0.02,0.02,0.01,0.0,0.0,0.0,0.0,0.01,0.02,0.0,0.02,0.01,0.0,0.01,0.01,0.03,0.0,0.0,0.0,0.02,0.0,0.03,0.01,0.0,0.01,0.01,0.0,0.0,0.06,0.0,0.0,0.01,0.01,0.0,0.0,0.0,0.01,0.0,0.03,0.0,0.12,0.0,0.0,0.0,0.0,0.12,0.05,0.0,0.0,0.02,0.06,0.0,0.1,0.02,0.05,0.01,0.01,0.0,0.19,0.0,0.01,0.01,0.0,0.02,0.0,0.0,0.0,0.02,0.02,0.1,0.0,0.0,0.07,0.01,0.03,0.0,0.06,0.0,0.0,0.01,0.01,0.01,0.03,0.02,0.02,0.0,0.0,0.0,0.01,0.03,0.0,0.0,0.07,0.0,0.02,1.13,0.0,0.01,0.02,0.06,0.17,0.17,0.02,0.01,0.0,0.29,0.07,0.0,0.0,0.01,0.0,0.0,0.01,0.01,0.16,0.38,0.17,0.0,0.03,0.0,0.0,0.0,0.02,0.34,0.0,0.4,0.0,0.0,0.0,0.0,1.67,0.78,0.01,0.0,0.0,0.0,0.0,0.0,0.0,1.93,0.07,0.0,0.03,0.05,0.0,0.01,0.0,0.0,0.14,0.02,0.01,0.0,0.02,0.0,0.01,0.06,0.01,0.0,0.05,0.01,0.0,0.01,0.08,0.0,0.0,0.01,0.04,0.04,0.01,0.01,0.05,0.02,0.01,0.01,0.01,0.01,0.04,0.01,0.0,0.0,0.07,0.25,0.01,0.13,0.06,0.15,0.26,0.0,0.04,0.01,0.0,0.02,0.01,0.0,0.01,0.01,0.26,0.16,0.07,0.0,0.05,0.01,0.0,0.0,0.0,0.09,0.02,0.0,0.0,0.01,0.01,0.05,0.61,0.01,0.03,0.0,0.0,0.08,0.0,0.01,0.0,1.03,0.01,0.0,0.0,0.0,0.13,0.01,0.39,0.14,0.0,0.09,0.13,0.03,0.0,0.25,0.01,0.01,0.09,0.04,0.0,0.04,0.0,0.0,0.0,0.21,0.0,0.67,0.01,0.07,0.0,0.12,0.08,0.43,0.01,0.0,0.05,0.03,0.0,0.04,0.11,0.0,0.02,0.0,0.0,0.03,0.01,0.47,0.02,0.03,0.01,0.0,0.02,0.27,0.06,0.0,0.03,0.0,0.01,0.0,0.07,0.04,0.27,0.06,0.03,0.01,0.39,0.07,0.0,0.0,0.0,0.05,0.02,0.0,0.37,0.0,0.11,0.0,0.14,0.01,0.0,0.0,0.71,0.04,0.0,0.01,0.0,0.04,0.01,0.03,0.0,0.01,0.02,0.01,0.0,0.03,0.0,0.0,0.12,0.01,0.0,0.0,0.31,0.01,0.0,0.09,0.01,0.01,0.03,0.0,0.0,0.0,0.01,0.0,0.01,0.0,0.28,0.0,0.03,0.01,0.01,0.0,0.0,0.03,0.12,0.0,0.01,0.01,0.0,0.03,0.0,0.07,0.37,0.03,0.0,0.01,0.0,0.01,0.01,0.01,0.0,0.0,0.03,0.1,0.26,0.0,0.01,0.0,0.04,0.01,0.0,0.12,0.0,0.04,0.0,0.01,0.19,0.02,0.0,0.04,0.02,0.01,0.01,0.16,0.1,0.23,0.02,0.0,0.01,1.32,0.04,0.02,0.07,0.01,0.12,0.01,0.47,0.0,0.03,0.03,0.01,0.0,0.01,0.0,0.01,0.05,0.01,0.0,0.01,0.03,0.0,0.0,0.09,0.01,0.19,0.07,0.3,0.01,0.0,0.0,0.04,0.06,0.01,0.02,0.04,0.01,0.02,0.0,0.01,0.0,0.04,0.01,0.01,0.07,0.0,0.0,0.01,0.0,0.0,0.03,0.0,0.02,0.14,0.01,0.0,0.01,0.01,0.06,0.05,0.02,0.07,0.0,0.02,0.11,0.01,0.01,0.03,0.0,0.01,0.0,0.0,0.01,0.02,0.01,0.04,0.0,0.0,0.2,0.01,0.0,0.13,0.03,0.01,0.0,0.39,0.02,0.01,0.0,0.01,0.01,0.0,0.01,0.0,0.02,0.0,0.05,0.06,0.01,0.0,0.01,0.0,0.0,0.02,0.01,0.03,0.01,0.02,0.01,0.02,0.0,0.05,0.0,0.03,0.06,0.02,0.0,0.15,0.0,0.0,0.02,0.0,0.01,0.04,0.02,0.17,0.0,0.01,0.0,0.0,0.02,0.02,0.0,0.07,0.0,0.05,0.0,0.0,0.01,0.0,0.01,0.01,0.0,0.0,0.0,0.04,0.0,0.09,0.02,0.0,0.21,0.0,0.04,0.06,0.0,0.01,0.0,0.0,0.13,0.0,0.0,0.03,0.07,0.03,0.01,0.0,0.02,0.0,0.0,0.22,0.14,0.09,0.02,0.38,0.02,0.05,0.0,0.0,0.01,0.0,0.0,0.01,0.0,0.43,0.0,0.0,0.02,0.05,0.01,0.01,0.03,0.15,0.03,0.02,0.0,0.03,0.0,0.33,0.01,0.0,0.0,0.03,0.0,0.01,0.02,0.0,0.03,0.04,0.01,0.16,0.19,0.01,0.0,0.18,0.01,0.0,0.0,0.03,0.01,0.14,0.0,0.16,0.0,0.0,0.0,0.0,0.0,0.0,0.04,0.01,0.0,0.01,0.02,0.01,0.01,0.01,0.0,0.05,0.03,0.01,0.08,0.0,0.0,0.0,0.01,0.22,0.03,0.0,0.29,0.0,0.0,0.36,0.07,0.0,0.05,0.0,0.01,0.04,0.0,0.02,0.01,0.0,0.0,0.04,0.0,0.02,0.0,0.0,0.09,0.17,0.08,0.04,0.0,0.16,0.0,0.0,0.0,0.06,0.0,0.0,0.0,0.12,0.0,0.0,0.03,0.05,0.0,0.07,0.0,0.37,0.0,0.0,0.0,0.0,0.07,0.0,0.0,0.04,0.18,0.01,0.01,0.0,0.0,0.03,0.01,0.01,0.0,0.01,0.01,0.23,0.0,0.0,0.0,0.0,0.0,0.0,0.0,0.0,0.07,0.02,0.01,0.07,0.02,0.09,0.15,0.0,0.02,0.05,0.07,0.0,0.25,0.01,0.0,0.05,0.0,0.03,0.0,0.01,0.0,0.0,0.07,0.0,0.01,0.08,0.04,0.0,0.0,0.22,0.34,0.23,0.0,0.0,0.0,0.1,0.0,0.0,0.0,0.35,0.16,0.05,0.24,0.0,0.01,0.0,0.33,0.05,0.0,0.01,0.02,0.08,0.02,0.13,0.01,0.0,0.01,0.21,0.02,0.0,0.01,0.01,0.11,0.03,0.0,0.0,0.0,0.0,0.02,0.06,0.19,0.01,0.13,0.01,0.12,0.0,0.03,0.0,0.0,0.0,0.01,0.01,0.04,0.07,0.14,0.0,0.02,0.11,0.01,0.0,0.01,0.0,0.69,0.1,0.04,0.05,0.03,0.01,0.0,0.0,0.0,0.16,0.02,0.0,0.0,0.03,0.02,0.01,0.0,0.06,0.01,0.02,0.01,0.02,0.0,0.06,0.11,0.02,0.03,0.0,0.78,0.04,0.37,0.0,0.07,0.0,0.04,0.0,0.0,0.0,0.0,0.05,0.01,0.0,0.0,0.1,0.0,0.0,0.01,0.01,0.06,0.0,0.0,0.0,0.01,0.04,0.03,0.0,0.01,0.0,0.0,0.0,0.01,0.0,0.09,0.03,0.02,0.03,0.0,0.01,0.0,0.13,0.03,0.0,0.06,0.0,0.0,0.02,0.08,0.01,0.02,0.0,0.0,0.03,0.0,0.02,0.0,0.01,0.19,0.0,0.06,0.0,0.01,0.0,0.0,0.03,0.0,0.02,0.05,0.0,0.39,0.0,0.0,0.0,0.0,0.11,0.1,0.0,0.12,0.03,0.01,0.0,0.01,0.01,0.0,0.05,0.12,0.03,0.0,0.03,0.01,0.0,0.14,0.0,0.0,0.06,0.0,0.0,0.03,0.02,0.01,0.0,0.0,0.16,0.04,0.01,0.05,0.05,0.0,0.0,0.06,0.01,0.01,0.0,0.03,0.0,0.01,0.0,0.05,0.04,0.04,0.03,0.02,0.02,0.0,0.05,0.0,0.03,0.01,0.0,0.0,0.01,0.0,0.0,0.03,0.23,0.0,0.03,0.17,0.0,0.02,0.0,0.0,0.04,0.0,0.0,0.0,0.0,0.02,0.02,0.0,0.0,0.0,0.01,0.0,0.01,0.02,0.79,0.11,0.0,0.03,0.23,0.0,0.02,0.08,0.0,0.01,0.0,0.04,0.0,0.02,0.0,0.03,0.01,0.05,0.01,0.09,0.01,0.0,0.09,0.05,0.02,0.08,0.0,0.0,0.01,0.02,0.01,0.1,0.0,0.0,0.01,0.0,0.0,0.02,0.03,0.0,0.0,0.07,0.0,0.02,0.01,0.0,0.02,0.0,0.03,0.04,0.01,0.17,0.03,0.04,0.03,0.06,0.0,0.05,0.14,0.0,0.0,0.0,0.0,0.01,0.04,0.02,0.0,0.01,0.0,0.31,0.02,0.09,0.14,0.01,0.23,0.09,0.02,0.0,0.0,0.05,0.0,0.01,0.0,0.19,0.01,0.01,0.05,0.05,0.01,0.02,0.13,0.01,0.33,0.0,0.04,0.0,0.01,0.0,0.01,0.01,0.0,0.02,0.0,0.01,0.0,0.14,0.0,0.08,0.02,0.0,0.0,0.01,0.01,0.0,0.04,0.07,0.0,0.0,0.02,0.0,0.02,0.01,0.0,0.0,0.03,0.01,0.02,0.0,0.0,0.1,0.0,0.02,0.0,0.01,0.0,0.13,0.04,0.0,0.18,0.15,0.01,0.0,0.0,0.0,0.0,0.01,0.0,0.27,0.22,0.03,0.0,0.12,0.0,0.02,0.05,0.03,0.01,0.01,0.0,0.0,0.01,0.0,0.07,0.01,0.0,0.01,0.0,0.08,0.01,0.05,0.01,0.01,0.0,0.0,0.14,0.02,0.0,0.0,0.01,0.01,0.0,0.0,0.01,0.01,0.0,0.05,0.11,0.03,0.19,0.01,1.18,0.16,0.01,0.0,0.0,0.03,0.01,0.05,0.03,0.01,0.0,0.0,0.01,0.19,0.0,0.02,0.02,0.0,0.03,0.0,0.21,0.0,0.03,0.01,0.02,0.0,0.0,0.0,0.0,0.07,0.0,0.0,0.01,0.0,0.0,0.01,0.01,0.01,0.01,0.03,0.01,0.0,0.0,0.0,0.0,0.01,0.0,0.02,0.07,0.0,0.01,0.0,0.0,0.01,0.06,0.0,0.04,0.0,0.0,0.05,0.0,0.0,0.0,0.0,0.01,0.0,0.0,0.13,0.59,0.0,0.0,0.01,0.01,0.13,0.0,0.0,0.02,0.02,0.24,0.0,0.0,0.05,0.01,0.0,0.41,0.05,0.0,0.0,0.0,0.03,0.06,0.18,0.07,0.01,0.01,0.04,0.0,0.1,0.0,0.24,0.55,0.0,0.01,0.03,0.0,0.3,0.04,0.0,0.05,0.01,0.39,0.01,0.0,0.0,0.02,0.0,0.01,0.03,0.0,0.01,0.01,0.01,0.0,0.13,0.04,0.02,0.01,0.0,0.0,0.09,0.08,0.0,0.0,0.0,0.0,0.06,0.0,0.0,0.0,0.01,0.02,0.0,0.0,0.01,0.0,0.0,0.0,0.01,0.04,0.02,0.0,0.07,0.02,0.01,0.0,0.09,0.29,0.0,8.46,0.06,0.0,0.0,0.0,0.02,0.01,0.0,0.03,0.0,0.04,0.11,0.0,0.0,0.01,0.0,0.0,0.04,0.0,0.0,0.0,0.1,0.0,0.01,0.02,0.0,0.02,0.06,0.06,0.01,0.03,0.01,0.03,0.25,0.0,0.0,0.0,0.18,0.0,0.01,0.0,0.02,0.08,0.04,0.0,0.01,0.07,0.0,0.02,0.12,0.0,0.0,0.0,0.01,0.0,0.0,0.05,0.1,0.0,0.52,0.02,0.1,0.0,0.08,0.15,0.0,0.0,0.04,0.01,0.0,0.0,0.0,0.01,0.0,0.0,0.0,0.15,0.0,0.04,0.1,0.0,0.18,0.0,0.07,0.01,0.01,0.0,0.01,0.04,0.01,0.1,0.18,0.02,0.04,0.05,0.0,0.0,0.0,0.0,0.0,0.01,0.02,0.0,0.12,0.0,0.0,0.0,0.01,0.1,0.0,0.04,0.73,0.01,0.01,0.04,0.0,0.0,0.0,0.43,0.06,0.01,0.01,0.01,1.68,0.01,0.25,0.0,0.0,0.15,0.05,0.08,0.07,0.0,0.01,0.0,0.01,0.01,0.0,0.27,0.01,0.02,0.0,0.04,0.02,0.0,0.01,0.0,0.0,0.0,0.1,0.0,0.06,0.06,0.01,0.02,0.01,0.05,0.01,0.04,0.01,0.0,0.01,0.0,0.13,0.02,0.01,0.03,0.0,0.01,0.03,0.03,0.0,0.11,0.05,0.03,0.0,0.09,0.01,0.03,0.0,0.0,0.0,0.01,0.0,0.04,0.07,0.07,0.03,0.02,0.0,0.08,0.0,0.01,0.0,0.01,0.04,0.0,0.0,0.02,0.04,0.02,0.09,0.0,0.02,0.03,0.0,0.0,0.0,0.04,0.04,0.01,0.02,0.01,0.05,0.17,0.01,0.0,0.04,0.0,0.03,0.0,0.0,0.0,0.01,0.01,0.11,0.0,0.01,0.01,0.23,0.0,0.0,0.0,0.01,0.48,0.09,0.0,0.05,0.0,0.08,0.0,0.03,0.01,0.0,0.02,0.0,0.0,0.02,0.03,0.04,0.01,0.03,0.05,0.01,0.02,0.0,0.35,0.0,0.0,0.01,0.02,0.07,0.88,0.01,0.02,0.0,0.0,0.02,0.0,0.01,0.0,0.0,0.0,0.12,0.01,0.01,0.23,0.0,0.06,1.14,1.51,0.02,0.0,0.06,0.01,0.0,0.01,0.02,0.0,0.01,0.03,0.0,0.02,0.0,0.0,0.0,0.02,0.02,0.01,0.01,0.0,0.01,0.0,0.0,0.02,0.02,0.01,0.04,0.01,0.0,0.2,0.08,0.17,0.07,0.0,0.01,0.0,0.02,0.05,0.03,0.02,0.01,0.0,0.02,0.0,0.0,0.03,0.01,0.0,0.41,0.03,0.0,1.75,0.0,0.0,0.04,0.05,0.05,0.0,0.04,0.0,0.0,0.01,0.0,0.0,0.0,0.01,0.02,0.05,0.0,0.02,0.0,0.01,0.0,0.0,0.0,0.17,0.1,0.01,0.0,0.01,0.01,0.01,0.0,0.0,0.03,0.0,0.0,0.0,0.0,0.0,0.0,0.01,0.01,0.06,0.0,0.03,0.0,0.01,0.0,0.02,0.01,0.13,0.01,0.06,0.0,0.01,0.25,0.0,0.15,0.01,0.02,0.01,0.0,0.12,0.0,0.42,0.0,0.01,0.06,0.14,0.01,0.05,0.05,0.0,0.05,0.03,0.0,0.02,0.02,0.03,0.34,0.02,0.2,0.01,0.15,0.02,0.0,0.0,0.13,0.0,0.0,0.0,0.02,0.02,0.02,0.0,0.0,0.0,0.02,0.0,0.0,0.05,0.03,0.0,0.26,0.38,0.0,0.03,0.01,0.01,0.22,0.04,0.01,0.18,0.1,0.05,0.03,0.03,0.0,0.01,0.0,0.0,0.0,0.0,0.2,0.02,0.01,0.06,0.01,0.0,0.0,0.05,0.16,0.0,0.03,0.01,0.01,0.01,0.02,0.02,0.0,0.01,0.01,0.07,0.02,0.01,0.03,0.01,0.0,0.03,0.01,0.02,0.38,0.01,0.0,0.04,0.0,0.1,0.02,0.03,0.0,0.0,0.06,0.01,0.01,0.06,0.0,0.11,0.05,0.01,0.0,0.1,0.0,0.06,0.08,0.03,0.01,0.02,0.01,0.0,0.0,0.0,0.0,0.0,0.01,0.03,0.03,0.0,0.02,0.0,0.01,0.06,0.02,0.0,0.0,0.01,0.05,0.0,0.0,0.0,0.01,0.0,0.0,0.08,0.0,0.0,0.0,0.05,0.08,0.0,0.0,0.02,0.04,0.07,0.0,0.0,0.01,0.0,0.1,0.0,0.0,0.17,0.0,0.0,0.02,0.09,0.0,0.01,0.0,0.04,0.07,0.0,0.01,0.07,0.0,0.0,0.02,0.03,0.03,0.01,0.01,0.12,0.03,0.0,0.0,0.0,0.0,0.0,0.02,0.09,0.03,0.0,0.01,0.02,0.0,0.0,0.04,2.02,0.04,0.0,0.01,0.0,0.0,0.0,0.01,0.0,0.02,0.18,0.01,0.0,0.07,0.0,0.04,0.01,0.0,0.02,0.02,0.15,0.0,0.0,0.0,0.0,0.01,0.0,0.0,0.01,0.02,0.15,0.04,0.0,0.0,0.01,0.1,0.01,0.01,0.0,0.04,0.0,0.0,0.01,0.0,0.01,0.0,0.01,0.0,0.0,0.11,0.0,0.01,0.01,0.08,0.14,0.0,0.04,0.0,0.22,0.0,0.0,0.01,0.19,0.01,0.02,0.0,0.01,0.01,0.0,0.0,0.01,0.01,0.0,0.04,0.01,0.0,0.04,0.05,0.0,0.02,0.08,0.01,0.03,0.0,0.02,0.08,0.05,0.03,0.01,0.11,0.01,0.0,0.01,0.0,0.0,0.0,0.01,0.0,0.06,0.01,0.02,0.01,0.0,0.05,0.0,0.1,0.08,0.01,0.0,0.02,0.0,0.01,0.02,0.02,0.0,0.01,0.02,0.03,0.0,0.0,0.0,0.0,0.0,0.05,0.01,0.0,0.02,0.0,0.01,0.16,0.03,0.0,0.01,0.01,0.06,0.0,0.0,0.0,0.01,0.0,0.01,0.0,0.0,0.0,0.04,0.01,0.0,0.27,0.08,0.0,0.0,0.02,0.18,0.02,0.0,0.0,0.0,0.0,0.0,0.05,0.0,0.01,0.01,0.0,0.0,0.0,0.05,0.05,0.0,0.07,0.01,0.0,0.25,0.02,0.16,0.0,0.05,0.0,0.0,0.0,0.02,0.0,0.13,0.02,0.14,0.0,0.01,0.01,0.03,0.01,0.05,0.01,0.0,0.0,0.0,0.0,0.0,0.0,0.0,0.0,0.0,0.03,0.01,0.0,0.0,0.0,0.01,0.01,0.0,0.0,0.05,0.04,0.08,0.01,0.02,0.0,0.04,0.01,0.0,0.01,0.0,0.0,0.0,0.03,0.01,0.0,0.03,0.01,0.04,0.0,0.0,0.0,0.0,0.01,0.01,0.06,0.01,0.0,0.01,0.1,0.0,0.0,0.0,0.0,0.0,0.0,0.02,0.0,0.0,0.0,0.02,0.0,0.0,0.19,0.16,0.0,0.0,0.0,0.04,0.0,0.0,0.01,0.0,0.0,0.01,0.11,0.03,0.02,0.0,0.08,0.05,0.01,0.02,0.04,0.0,0.0,0.33,0.05,0.11,0.12,0.0,0.13,0.0,0.05,0.0,0.01,0.0,0.28,0.0,0.07,0.07,0.02,0.0,0.0,0.23,0.04,0.0,0.01,0.0,0.02,0.01,0.02,0.0,0.03,0.03,0.47,0.01,0.0,0.39,0.0,0.01,0.07,0.0,0.07,0.02,0.03,0.0,0.0,0.0,0.6,0.0,0.0,0.05,0.0,0.0,0.03,0.0,0.04,0.02,0.0,0.01,0.03,0.01,0.01,0.03,0.0,0.0,0.05,0.01,0.0,0.01,0.0,0.18,0.0,0.0,0.0,0.0,0.0,0.0,0.0,0.0,0.01,0.17,0.0,0.0,0.0,0.01,0.03,0.0,0.01,0.0,0.21,0.0,0.04,0.0,0.0,0.0,0.0,0.02,0.0,0.02,0.02,0.01,0.0,0.03,0.06,0.21,0.0,0.08,0.02,0.0,0.0,0.01,0.11,0.0,0.02,0.01,0.0,0.06,0.06,0.0,0.0,0.0,0.0,0.01,0.07,0.0,0.0,0.38,0.02,0.02,0.0,0.0,0.0,0.01,0.0,0.01,0.03,0.0,0.1,0.0,0.0,0.01,0.0,0.0,0.0,0.03,0.02,0.01,0.31,0.0,0.02,0.01,0.01,0.01,0.01,0.01,0.01,0.0,0.0,0.03,0.01,0.0,0.0,0.0,0.01,0.07,0.06,0.0,0.02,1.78,0.01,0.15,0.0,0.01,0.03,0.28,1.02,0.03,0.0,0.06,0.03,0.01,0.07,0.03,0.02,0.01,0.0,0.03,0.0,0.03,0.27,0.17,0.0,0.03,0.07,0.1,0.0,0.03,0.01,0.03,0.01,0.08,0.01,0.07,0.0,0.1,0.0,0.0,0.01,0.03,0.01,0.0,0.02,0.0,0.0,0.03,0.0,0.01,0.03,0.04,0.01,0.0,0.02,0.0,0.01,0.0,0.0,0.0,0.01,0.0,0.12,0.16,0.02,0.01,0.0,0.03,0.01,0.01,0.01,0.0,0.0,0.01,0.13,0.0,0.01,0.02,0.02,0.0,0.12,0.1,0.0,0.03,0.01,0.0,0.0,0.0,0.0,0.0,0.0,0.0,0.0,0.0,0.0,0.0,0.48,0.0,0.01,0.03,0.01,0.0,0.0,0.01,0.01,0.01,0.0,0.0,0.03,0.1,0.09,0.0,0.02,0.0,0.0,0.03,0.0,0.02,0.0,0.01,0.1,0.01,0.3,0.01,0.04,0.02,0.0,0.06,0.0,0.0,0.01,0.0,0.01,0.04,0.01,0.06,0.0,0.0,0.01,0.02,0.03,0.01,0.0,0.01,0.0,0.01,0.76,0.02,0.0,0.01,0.01,0.0,0.0,1.79,0.0,0.05,0.0,0.15,0.24,0.01,0.0,0.08,0.01,0.0,0.0,0.01,0.21,0.0,0.0,0.01,0.01,0.0,0.18,0.0,0.0,0.01,0.01,0.0,0.72,0.0,0.0,0.0,0.0,0.02,0.01,0.0,0.07,0.0,0.01,0.0,0.0,0.0,0.0,0.0,0.15,0.01,0.0,0.0,0.0,0.0,0.0,0.21,0.0,0.02,0.03,0.0,0.01,0.01,0.0,0.0,0.0,0.02,0.01,0.02,0.0,0.0,0.01,0.07,0.0,0.0,0.43,0.0,0.0,0.02,0.05,0.01,0.0,0.0,0.0,0.02,0.31,0.0,0.28,0.0,0.01,0.0,0.0,0.02,0.01,0.01,0.37,0.27,0.0,0.03,0.01,0.01,0.04,0.09,0.21,0.21,0.0,0.49,0.02,0.0,0.04,0.0,0.01,0.02,0.0,0.03,0.0,0.12,0.01,0.01,0.3,0.02,0.0,0.22,0.01,0.0,0.03,0.01,0.0,0.0,0.02,0.01,0.0,0.05,0.0,0.0,0.08,0.07,0.0,0.01,0.03,0.0,0.03,1.0,0.0,0.02,0.04,0.0,0.0,0.01,0.0,0.06,0.05,1.37,0.07,0.0,0.0,0.01,0.01,0.04,0.01,0.0,0.22,0.0,0.04,0.04,0.0,0.01,0.0,0.0,0.01,0.01,0.0,0.07,0.01,0.03,0.05,0.03,0.01,0.0,0.08,0.21,0.01,0.02,0.0,0.05,0.01,0.01,0.01,0.03,0.02,0.02,0.0,0.02,0.0,0.01,0.01,0.0,0.01,0.01,0.04,0.01,0.01,0.0,0.0,0.03,0.68,0.09,0.07,0.02,0.0,0.0,0.01,0.0,0.53,0.04,0.01,0.48,0.06,0.0,0.1,0.01,0.3,0.35,0.01,0.04,0.02,0.01,0.01,0.0,0.05,0.01,0.01,0.0,0.08,0.16,0.0,0.0,0.0,0.02,0.01,0.0,0.0,0.0,0.24,0.01,0.09,0.03,0.01,0.05,0.01,0.06,0.0,0.02,0.02,0.0,0.07,0.05,0.01,0.04,0.01,0.14,0.35,0.04,0.01,0.0,0.34,0.13,0.2,0.04,0.61,0.0,0.0,0.0,0.04,0.01,0.0,0.02,0.07,0.0,0.0,0.21,0.04,0.0,0.02,0.05,0.0,0.06,0.01,0.05,0.01,0.01,0.01,0.0,0.0,0.0,0.04,0.0,0.0,0.0,0.03,0.0,0.09,0.0,0.49,0.0,0.01,0.0,0.0,0.03,0.0,0.0,0.02,1.74,0.06,0.02,0.0,0.0,0.49,0.0,0.01,0.16,0.01,0.0,0.07,0.0,0.0,0.09,0.07,0.01,0.0,0.0,0.02,0.04,0.0,0.01,0.0,0.0,0.0,0.01,0.13,0.0,0.03,0.0,0.0,0.01,0.0,0.0,0.0,0.0,0.01,0.21,0.01,0.0,0.0,0.12,0.0,0.13,0.01,0.11,0.11,0.01,0.1,0.02,0.01,0.0,0.01,0.04,0.01,0.03,0.0,0.1,0.0,0.0,0.05,0.0,0.02,0.07,0.0,0.0,0.01,0.0,0.05,0.01,0.0,0.01,0.0,0.01,0.02,0.06,0.01,0.0,0.0,0.02,0.0,0.0,0.03,0.0,0.0,0.0,0.0,0.04,0.01,0.01,0.0,0.14,0.0,0.0,0.17,0.02,0.02,0.0,0.03,0.02,0.02,0.0,0.0,0.03,0.0,0.01,0.01,0.02,0.02,1.92,0.0,0.0,0.03,0.01,0.01,0.0,0.01,0.02,0.02,0.02,0.04,0.02,0.0,0.02,0.0,0.04,0.13,0.02,0.01,0.01,0.0,0.04,0.01,0.01,0.02,0.0,0.0,0.05,0.02,0.0,0.0,0.01,0.01,0.0,0.0,0.0,0.0,0.08,0.27,0.0,0.01,0.11,0.0,0.08,0.01,0.03,0.01,0.22,0.06,0.01,0.01,0.02,0.0,0.06,0.0,0.01,0.0,0.29,0.0,0.06,0.01,0.0,0.01,0.0,0.17,0.0,0.0,0.04,0.02,0.03,0.02,0.0,0.08,0.79,0.02,0.05,0.0,0.04,0.0,0.0,0.0,0.0,0.0,0.0,0.07,0.01,0.14,0.0,0.05,0.03,0.04,0.01,0.0,0.0,0.03,0.06,0.0,0.1,0.0,0.0,0.02,0.0,0.09,0.01,0.0,0.0,0.0,0.0,0.01,0.01,0.0,0.21,0.01,0.0,0.02,0.0,0.0,0.0,0.49,0.0,0.01,0.04,0.01,0.53,0.01,0.0,0.13,0.0,0.06,0.02,0.0,0.0,0.0,0.0,0.0,0.0,0.0,0.11,0.0,0.01,0.0,0.03,0.01,0.04,0.0,0.06,0.0,0.01,0.0,0.0,0.06,0.01,0.02,0.0,0.0,0.02,0.0,0.06,0.01,0.0,0.01,0.01,0.07,0.01,0.01,0.0,0.0,0.1,0.0,0.12,0.01,0.0,0.0,0.11,0.15,0.01,0.13,0.03,0.0,0.02,0.03,0.0,0.03,0.02,0.05,0.0,0.0,0.06,0.04,0.0,0.0,0.02,0.01,0.0,0.01,0.03,0.01,0.0,0.0,0.0,0.0,0.02,0.0,0.17,0.01,0.02,0.06,0.08,0.08,0.03,0.0,0.06,0.01,0.01,0.05,0.01,0.02,0.04,0.0,0.02,0.0,0.21,0.01,0.12,0.0,0.01,0.01,0.06,0.0,0.0,0.0,0.02,0.24,0.03,0.0,0.01,0.04,0.98,0.01,0.02,0.0,0.19,0.0,0.03,0.01,0.02,0.0,0.0,0.55,0.02,0.01,0.0,0.09,0.01,0.0,0.0,0.01,0.0,0.0,0.03,0.0,0.01,0.0,0.0,0.0,0.03,0.25,0.0,0.0,0.0,0.0,0.06,0.01,0.02,0.12,0.03,0.0,0.02,0.02,0.01,0.01,0.06,0.01,0.0,0.04,0.01,0.02,0.0,0.0,0.01,0.0,0.1,0.0,0.06,0.01,0.2,0.08,0.0,0.02,0.08,0.0,0.0,0.22,0.06,0.01,0.35,0.01,0.0,0.0,0.02,0.02,0.06,0.0,0.0,0.1,0.0,0.13,0.02,0.06,0.04,0.05,0.06,0.01,0.0,0.0,0.0,0.01,0.02,0.21,0.0,0.0,0.03,0.0,0.09,0.0,0.14,0.02,0.11,0.0,0.0,0.0,0.05,0.06,0.22,0.0,0.02,0.01,0.0,0.11,0.08,0.02,0.02,0.01,0.04,0.0,0.02,0.04,0.19,0.0,0.03,0.01,0.0,0.02,0.0,0.08,0.0,0.04,0.05,0.17,0.0,0.0,0.0,0.0,0.0,0.0,0.47,0.04,0.0,0.07,0.0,0.03,0.01,0.09,0.0,0.0,0.02,0.02,0.0,0.0,0.04,0.15,0.03,0.02,0.0,0.0,0.0,0.01,0.01,0.08,0.01,0.07,0.38,0.0,0.0,0.02,0.03,0.0,0.0,0.0,0.0,0.01,0.0,0.0,0.01,0.06,0.01,0.0,0.01,0.01,0.01,0.01,0.01,0.0,0.01,0.0,0.01,0.01,0.02,0.01,0.0,0.2,0.0,0.01,0.01,0.0,0.32,0.01,0.08,0.01,0.02,0.0,0.3,0.04,0.01,0.0,0.0,0.23,0.0,0.0,0.22,0.15,0.02,0.02,0.0,0.07,0.01,0.01,0.04,0.05,0.0,0.01,0.0,0.0,0.01,0.0,0.01,0.0,0.01,0.01,0.1,0.01,0.02,0.03,0.01,0.01,0.03,0.0,0.05,0.08,0.01,0.0,0.08,0.01,0.01,0.02,0.01,0.01,0.02,0.78,0.01,0.0,0.0,0.01,0.01,0.06,0.06,0.0,0.0,0.07,0.03,0.13,0.0,0.03,0.01,0.01,0.0,0.01,0.0,0.0,0.01,0.0,0.05,0.0,0.01,0.03,0.01,0.08,0.0,0.04,0.26,0.01,0.01,0.0,0.01,0.0,0.01,0.0,0.01,0.03,0.0,0.09,0.01,0.06,0.06,0.0,0.01,0.0,0.0,0.05,0.0,0.0,0.1,0.02,0.01,0.15,0.1,0.38,0.01,0.0,0.09,0.03,0.08,0.0,0.16,0.0,0.08,0.01,0.01,0.0,0.01,0.0,0.0,0.09,0.03,0.05,0.16,0.0,0.02,0.03,0.03,0.0,0.01,0.42,0.0,0.02,0.22,0.12,0.15,0.03,0.0,0.02,0.03,0.15,0.04,0.11,0.01,0.05,0.03,0.08,0.0,0.0,0.14,0.3,0.07,0.03,0.01,0.0,0.0,0.01,0.14,0.43,0.07,0.02,1.73,0.0,0.04,0.01,0.0,0.0,0.0,0.0,0.0,0.11,0.0,0.01,0.03,0.16,0.04,0.0,0.0,0.01,0.08,0.0,0.0,0.0,0.23,0.02,0.02,0.01,0.01,0.04,0.0,0.01,0.0,0.02,0.01,0.0,0.0,0.03,0.12,0.01,0.04,0.0,0.0,0.02,0.01,0.0,0.03,0.0,0.15,0.17,0.01,0.0,0.0,0.25,0.28,0.0,0.02,0.7,0.01,0.32,0.0,0.05,0.01,0.01,0.0,0.0,0.0,0.03,0.07,0.0,0.0,0.04,0.0,0.01,0.03,0.68,0.03,0.0,0.02,0.08,0.0,0.0,0.01,0.01,0.0,0.0,0.0,0.0,0.05,0.0,0.0,0.01,0.0,0.01,0.06,0.0,0.04,0.03,0.0,0.02,0.01,0.0,0.0,0.08,0.01,0.01,0.59,0.0,0.04,0.22,0.0,0.09,0.0,0.01,0.0,0.01,0.0,0.0,0.0,0.01,0.01,0.03,0.01,0.0,0.05,0.01,0.02,0.01,0.0,0.0,0.01,0.03,0.0,0.01,0.02,0.02,0.0,0.0,0.02,0.0,0.05,0.1,0.01,0.0,0.0,0.02,0.0,0.02,0.03,0.0,0.01,0.02,0.01,0.01,0.0,0.0,0.0,0.0,0.59,0.0,0.0,0.0,0.01,0.0,0.0,0.0,0.0,0.01,0.02,0.01,0.1,0.17,0.01,0.13,0.77,0.0,0.07,0.01,0.01,0.01,0.01,0.0,0.0,0.01,0.01,0.0,1.38,0.12,0.02,0.07,0.08,0.01,0.02,0.03,0.0,0.03,0.01,0.0,0.0,0.01,0.01,0.0,0.0,0.01,0.01,0.24,0.0,0.0,0.0,0.0,0.0,0.0,0.01,0.03,0.22,0.0,0.0,0.01,0.17,0.0,0.02,0.12,0.0,0.01,0.18,0.0,0.0,0.01,0.02,0.0,0.0,0.0,0.17,0.01,0.0,0.01,0.03,0.0,0.0,0.03,0.0,0.0,0.04,0.0,0.0,0.06,0.0,0.0,0.01,0.04,0.02,0.01,0.0,0.0,0.0,0.0,0.01,0.0,0.06,0.06,0.0,0.0,0.01,0.0,0.0,0.0,0.0,0.08,0.0,0.0,0.02,0.05,0.12,0.01,0.05,0.0,0.0,0.0,0.01,0.0,0.07,0.01,0.0,0.0,0.1,1.02,0.01,0.02,0.0,0.09,0.0,0.0,0.01,0.0,0.0,0.01,0.01,0.0,0.02,0.01,0.0,0.1,0.23,0.03,0.0,0.0,0.04,0.0,0.32,0.02,0.07,0.35,0.0,0.05,0.06,0.0,0.0,0.01,0.03,0.0,0.03,0.01,0.1,0.03,0.0,0.0,0.13,0.0,0.0,0.07,0.0,0.04,0.01,0.0,0.05,0.0,0.01,0.01,0.01,0.01,0.19,0.0,0.0,0.04,0.04,0.09,0.01,0.03,0.0,0.46,0.01,0.01,0.14,0.0,0.01,0.02,0.0,0.02,0.0,0.02,0.01,0.0,0.02,0.0,0.0,0.06,0.01,0.01,0.32,0.0,0.02,0.0,0.01,0.0,0.09,0.0,0.0,0.0,0.01,0.01,0.01,0.0,0.0,0.02,0.01,0.0,0.0,0.04,0.01,0.0,0.15,0.22],\"xaxis\":\"x\",\"y\":[0.02,0.02,0.02,0.2,1.85,0.07,0.02,0.11,0.4,0.42,0.57,0.4,3.12,0.02,0.15,0.53,0.53,0.11,0.21,0.3,0.07,0.8,0.12,0.14,0.71,0.47,0.03,1.95,0.11,0.34,0.02,0.07,0.04,1.28,0.2,0.01,0.27,0.14,0.56,0.08,0.13,0.01,0.04,0.13,0.24,0.52,0.92,0.2,0.62,0.11,0.3,0.03,0.59,0.03,0.06,5.65,0.12,0.17,0.04,0.11,0.05,0.97,0.06,0.72,0.46,0.17,0.68,0.03,0.07,0.14,0.07,0.08,0.4,0.28,0.4,0.04,0.22,0.38,0.44,0.06,1.57,0.13,0.73,0.6,0.02,0.03,0.59,0.37,4.12,0.08,0.03,0.22,0.13,0.1,0.3,1.09,0.15,1.93,0.41,0.99,0.14,0.06,0.06,0.16,0.05,0.04,0.01,0.01,0.02,0.77,0.02,0.2,0.1,1.93,1.2,1.12,0.35,0.12,0.17,0.49,0.76,2.94,0.62,0.26,0.51,0.61,0.38,0.05,0.03,0.07,0.72,0.11,1.76,0.54,0.27,0.91,0.16,1.55,0.04,0.24,0.16,0.13,0.01,0.92,0.77,0.04,0.02,0.01,3.65,0.23,0.03,0.05,0.1,0.18,0.04,0.02,0.03,0.88,0.05,0.19,0.6,0.27,0.02,0.11,0.13,0.07,0.15,0.13,0.02,1.05,0.02,0.06,0.15,0.04,0.44,0.13,0.03,0.02,1.77,1.2,0.29,0.1,0.02,3.2,0.28,1.28,0.72,0.19,0.02,0.07,0.06,0.11,0.17,0.09,0.08,0.54,1.55,0.02,0.28,0.23,0.01,2.02,0.57,1.29,0.31,0.02,0.15,1.42,0.25,0.06,0.18,1.23,1.22,0.38,0.12,0.28,0.26,0.16,0.14,0.11,0.34,0.73,0.15,0.58,0.22,0.87,0.12,1.64,0.55,0.06,0.02,0.19,0.03,0.61,0.14,0.11,0.13,0.16,0.09,0.14,0.44,1.43,0.41,2.7,0.02,0.04,0.18,1.57,0.22,4.48,0.09,0.04,0.1,0.03,1.67,2.11,4.31,0.13,0.09,0.02,0.31,0.3,0.05,0.01,0.28,0.42,0.02,1.96,0.02,0.03,0.71,0.07,0.52,0.03,0.02,0.63,0.04,0.05,0.19,1.93,0.48,0.38,0.05,0.08,0.08,1.09,0.16,0.14,0.47,0.08,0.81,0.13,0.03,0.03,0.06,0.08,0.03,0.19,0.18,0.46,0.33,0.4,0.64,0.11,1.38,0.42,2.9,0.11,0.45,0.15,0.15,0.21,0.03,1.82,0.79,4.47,0.22,0.17,0.02,0.12,0.02,0.16,0.63,0.76,0.02,0.29,0.18,0.9,0.09,0.02,0.07,0.82,0.93,0.64,0.21,0.02,0.98,0.03,0.62,0.36,0.24,0.09,1.48,0.77,1.52,0.33,0.27,0.19,0.4,0.1,0.13,0.55,0.19,0.27,0.8,0.06,0.02,0.24,0.03,3.19,0.17,0.38,0.46,0.09,0.52,0.58,0.24,0.04,0.02,0.01,1.19,0.16,0.19,0.49,0.09,0.08,8.24,0.15,0.1,0.18,0.28,1.76,0.35,0.22,0.09,0.24,0.54,1.16,0.37,0.23,0.78,0.09,0.11,0.02,0.04,0.2,0.18,1.15,0.24,0.21,0.15,1.94,1.05,3.53,0.02,0.21,0.75,0.02,0.67,0.06,0.03,4.47,0.05,0.1,0.91,0.59,0.24,0.16,0.12,0.03,0.06,0.17,0.33,0.1,0.54,1.67,0.12,0.04,0.02,0.38,0.02,0.32,0.06,0.01,0.06,0.4,0.13,0.85,0.03,0.04,40.24,0.05,0.26,0.02,0.02,0.05,0.42,0.26,0.06,0.08,0.16,0.56,0.35,0.03,1.28,0.02,0.02,0.14,2.71,0.07,0.15,0.03,0.18,0.76,1.07,0.06,0.69,0.13,0.22,0.07,1.9,0.02,0.02,0.22,0.27,0.05,0.56,0.2,0.65,0.11,0.04,0.05,1.41,0.79,0.06,0.79,0.71,0.62,3.42,0.26,0.01,0.02,0.02,1.62,0.36,0.96,0.02,0.17,0.02,0.02,0.06,0.35,0.3,0.3,0.05,0.08,0.37,0.02,0.1,0.51,2.3,0.11,1.47,0.1,0.01,0.34,0.01,0.24,0.24,0.17,0.24,0.1,0.62,0.01,6.43,0.05,0.29,0.23,0.1,0.01,0.22,2.91,0.02,0.69,0.84,0.56,0.29,0.03,0.41,0.97,0.09,0.17,0.98,8.49,0.36,0.04,0.14,0.64,0.24,0.07,0.08,0.01,0.18,0.05,0.04,0.48,0.2,0.02,0.31,0.02,1.52,0.12,0.02,2.98,0.22,0.31,0.03,0.1,0.29,0.11,0.6,0.22,0.18,0.29,0.07,0.86,0.05,4.16,0.07,1.07,0.01,0.17,0.16,0.61,1.17,0.04,0.02,0.03,0.24,0.09,0.01,0.44,1.67,0.52,0.09,0.14,1.21,0.17,0.1,0.07,0.09,0.07,0.01,0.19,0.56,0.09,0.24,0.18,0.09,0.58,0.31,0.1,0.06,0.15,1.37,0.04,0.43,0.21,0.12,0.39,0.67,0.01,0.92,0.48,0.08,0.88,0.14,0.15,1.41,0.03,1.65,0.02,0.27,5.13,0.07,0.02,1.19,0.02,1.26,0.19,0.21,0.02,0.54,3.0,0.08,0.24,0.13,0.08,0.07,0.2,0.01,0.03,0.04,0.07,0.08,0.02,0.03,0.96,0.11,0.32,1.2,5.19,0.48,0.12,0.77,1.36,0.02,0.21,0.03,0.09,0.04,0.28,1.04,0.12,5.99,0.12,0.64,0.56,0.15,0.03,3.52,0.13,1.74,0.41,0.03,0.16,1.77,0.23,0.55,1.61,0.08,0.39,0.23,2.04,0.02,0.05,1.31,0.06,0.05,0.13,0.31,0.01,0.17,4.55,0.01,0.24,0.25,2.2,0.02,0.03,0.05,0.01,0.05,2.29,0.61,0.07,0.14,0.02,3.17,0.41,0.02,0.09,0.36,1.69,1.61,0.64,0.04,2.06,0.36,0.02,1.75,0.68,0.14,0.03,0.62,0.14,0.03,0.05,0.09,0.05,0.14,0.81,1.25,0.13,1.96,0.44,0.02,0.05,0.08,1.8,0.09,0.09,0.03,0.14,0.16,0.25,0.08,7.58,0.94,0.15,0.1,0.06,0.3,0.39,0.48,0.11,0.02,0.38,0.02,0.14,0.05,0.31,0.62,0.27,0.07,0.79,0.09,0.08,0.21,0.08,0.01,0.15,0.07,0.28,0.03,0.75,1.14,0.33,0.24,1.52,0.04,0.02,0.01,5.26,0.68,0.02,0.32,0.21,1.39,0.08,0.03,0.02,0.63,0.07,0.11,0.7,0.66,0.15,0.27,1.67,1.07,0.08,0.03,0.09,0.03,0.2,0.28,0.02,0.27,0.08,0.12,0.19,0.03,0.49,0.13,0.03,0.01,0.37,0.15,0.03,0.03,0.1,0.14,0.63,0.02,0.16,0.23,0.08,0.95,0.02,0.23,0.04,1.86,0.01,0.4,0.32,1.35,0.13,0.02,0.25,1.28,0.05,1.35,0.08,0.11,0.03,0.23,0.32,13.51,0.26,0.71,0.53,0.65,0.32,0.33,0.12,0.04,1.2,0.09,0.21,0.02,0.22,0.02,0.05,0.06,0.23,0.08,0.03,0.77,0.02,0.06,0.02,0.22,0.51,0.05,0.15,0.03,0.01,0.12,0.57,0.05,1.64,0.23,0.79,0.14,0.24,0.05,2.06,0.29,0.62,0.12,0.05,0.16,0.22,6.83,0.02,0.42,0.1,0.07,0.03,0.08,0.1,0.09,0.53,0.54,0.31,0.83,0.38,0.91,0.01,0.12,0.01,0.3,0.05,2.19,5.83,0.1,0.02,0.07,0.07,0.34,0.49,0.31,0.05,0.02,0.05,0.02,0.12,0.15,0.14,0.05,1.01,0.26,0.05,0.28,0.04,0.03,0.02,0.79,0.44,0.52,0.52,0.14,0.19,0.21,0.06,0.4,2.81,0.07,0.14,0.02,0.13,0.19,0.12,0.02,0.05,0.02,0.01,0.13,0.06,1.73,0.01,0.04,0.05,0.5,0.11,0.07,0.03,0.02,0.37,1.31,5.34,0.02,0.01,0.23,0.91,0.11,0.52,0.12,0.02,0.27,0.02,0.12,0.01,0.15,0.54,0.07,0.06,0.06,0.29,0.07,0.02,0.3,0.58,0.98,0.11,0.22,1.04,2.06,0.07,0.23,0.59,0.1,0.53,0.32,0.07,0.12,0.15,0.02,0.07,0.67,0.01,0.08,0.31,0.49,0.03,0.57,0.22,0.45,0.13,0.07,0.19,0.43,0.3,0.06,0.66,0.8,0.06,0.06,0.55,0.2,0.19,0.02,0.16,0.12,0.15,0.06,0.08,0.87,0.95,0.15,0.03,0.02,0.01,0.16,0.03,0.36,0.03,0.11,0.36,0.09,0.03,0.03,0.59,0.82,1.54,0.12,0.04,0.46,0.06,0.08,0.06,4.2,0.23,0.15,0.51,4.84,0.16,0.19,0.08,0.08,0.24,0.2,0.08,0.22,0.09,2.34,0.06,0.03,0.5,0.19,0.02,0.15,0.88,0.03,0.83,0.7,0.05,0.01,0.18,0.14,0.17,0.08,0.22,4.1,1.64,0.19,0.31,5.13,0.18,0.14,0.05,0.04,0.27,0.09,0.02,0.05,0.02,0.01,0.02,0.19,0.42,0.22,0.02,3.69,2.75,1.05,0.14,3.27,0.12,0.23,0.02,0.21,0.01,1.76,0.48,0.23,0.14,0.95,0.41,1.4,1.11,0.02,0.1,1.02,0.13,0.35,1.06,0.53,0.13,0.3,0.1,0.39,0.37,0.11,0.13,0.17,0.7,0.05,0.99,0.78,0.02,0.21,0.04,0.33,0.42,0.41,0.07,0.03,0.03,0.44,0.02,0.11,0.06,0.41,0.04,0.15,1.15,0.28,0.03,0.33,0.2,0.77,0.32,0.6,0.16,0.88,0.06,0.37,1.16,0.15,0.17,0.31,2.36,0.1,1.28,1.1,0.42,0.03,0.14,0.04,0.38,0.02,0.07,0.14,1.19,0.18,0.13,0.54,0.3,1.0,0.04,0.08,0.1,0.02,0.05,0.13,2.83,0.2,0.04,0.19,2.86,0.17,0.03,0.03,0.02,0.46,0.18,0.21,0.42,0.05,0.05,0.09,0.16,0.08,0.08,0.03,0.21,0.76,0.81,0.14,0.03,0.21,0.02,0.18,0.06,1.08,0.19,0.39,11.33,0.31,1.92,0.12,0.82,0.5,0.03,0.15,0.03,0.21,0.42,0.34,1.23,0.25,0.64,0.38,0.15,1.75,0.03,0.19,0.18,0.04,1.63,0.11,0.49,0.26,0.02,0.31,0.3,0.04,0.24,0.12,0.22,1.46,0.09,0.11,0.02,0.1,0.31,0.07,0.06,0.26,0.55,3.63,0.04,0.44,0.05,0.24,0.08,0.89,0.59,0.04,0.18,0.09,0.04,0.11,0.15,0.03,0.26,0.12,0.44,0.03,0.18,0.27,0.06,0.3,6.41,1.37,0.13,0.03,0.25,0.05,0.14,0.88,0.12,0.09,0.07,0.01,0.49,0.26,0.22,4.31,0.09,0.02,0.02,0.07,0.21,1.12,0.13,0.1,0.34,0.25,0.18,0.02,0.04,0.02,0.14,0.17,0.02,0.56,0.74,0.13,0.06,0.15,0.19,0.02,1.2,0.05,0.2,0.11,0.89,0.25,0.01,1.36,0.25,0.07,0.03,1.51,0.78,0.01,0.35,0.13,5.15,0.17,0.49,0.03,0.23,0.06,0.13,0.22,0.19,0.21,0.38,0.3,0.09,0.13,0.14,0.08,0.02,0.02,0.34,0.04,0.57,0.05,0.24,0.51,0.17,0.03,0.44,0.04,0.19,0.3,0.15,0.17,0.11,0.05,0.94,1.08,0.01,0.01,1.04,1.1,0.1,0.45,0.36,0.09,0.9,0.15,0.21,0.41,0.36,0.03,0.06,0.67,0.03,0.02,6.9,0.33,0.25,0.36,0.24,0.4,0.12,0.33,0.12,0.07,0.14,0.3,0.02,0.24,0.05,0.11,1.11,0.02,0.31,0.05,2.67,0.25,0.1,0.01,0.08,3.22,0.31,1.31,0.62,0.2,0.28,0.03,0.13,0.08,4.9,0.02,0.1,0.14,0.17,0.01,0.06,0.22,0.59,0.33,0.05,0.03,0.03,0.22,0.01,1.25,0.58,0.65,0.05,1.12,0.04,0.08,0.22,0.94,0.02,0.16,0.23,0.41,0.31,0.54,0.11,0.05,0.02,0.12,0.09,0.19,0.24,0.06,0.24,0.46,0.21,0.55,0.16,0.36,0.07,0.16,0.02,0.01,1.44,0.4,0.2,0.03,7.27,1.0,0.47,0.02,0.01,0.1,0.01,0.08,0.15,0.17,0.02,0.09,1.7,0.04,0.02,0.26,0.05,0.31,2.58,0.61,0.02,0.2,0.13,0.09,0.22,0.08,0.15,0.01,0.2,0.17,0.5,0.09,0.03,0.29,0.1,0.06,0.1,0.47,0.05,0.15,2.37,0.67,0.25,0.06,0.17,0.27,0.4,0.48,0.13,2.62,0.06,0.03,0.89,1.0,0.08,0.11,0.01,0.15,2.36,3.92,0.06,0.82,2.77,0.11,0.05,0.04,0.16,0.01,2.1,0.03,0.62,0.14,0.04,0.19,0.01,0.03,0.05,0.5,0.14,0.67,0.05,0.93,0.39,0.4,0.75,0.29,0.17,0.17,0.42,0.5,0.48,0.02,0.97,0.33,0.04,0.19,0.02,0.03,0.85,0.38,0.09,0.18,0.27,1.19,0.43,0.25,0.1,0.9,0.01,0.12,0.08,1.54,0.42,0.83,0.04,0.14,0.02,0.02,0.26,0.8,0.09,0.19,0.01,0.21,0.06,0.01,0.4,0.39,1.17,0.02,0.11,0.03,0.59,0.33,3.18,0.08,0.63,0.33,0.34,0.3,0.87,0.27,0.23,0.51,1.24,0.03,0.45,0.09,0.51,0.22,0.09,0.03,0.09,0.55,0.04,0.05,0.81,0.28,1.55,0.29,0.04,0.14,0.29,0.17,0.07,0.25,0.01,0.28,0.03,0.24,0.19,0.96,1.58,0.46,35.82,0.22,0.42,1.16,0.93,0.36,1.51,0.02,0.17,0.21,1.02,0.21,0.07,0.51,0.5,0.08,0.04,0.09,0.49,0.24,0.02,0.07,0.24,0.22,0.1,0.35,0.03,0.2,0.05,0.04,0.09,0.04,0.27,0.2,0.19,0.04,0.79,0.12,0.01,0.01,0.02,8.49,0.05,0.4,1.01,0.98,0.26,0.36,0.21,0.15,11.66,1.21,0.01,1.19,0.16,0.16,0.06,0.05,0.04,0.28,0.56,0.09,0.05,0.01,0.02,0.14,0.08,0.04,0.02,0.3,33.0,0.02,0.03,0.06,0.02,0.04,0.31,1.21,0.2,0.01,0.58,0.51,0.02,0.04,0.47,1.83,1.34,0.03,0.01,0.37,0.06,0.02,1.54,0.03,0.03,0.41,0.13,12.73,0.4,0.02,0.03,0.07,0.11,0.23,1.63,0.52,0.03,0.59,0.04,0.06,0.1,0.08,0.27,0.12,0.26,0.05,0.46,0.23,10.79,0.03,0.59,0.12,0.14,0.15,0.1,0.03,0.13,0.02,0.78,0.22,0.07,0.18,0.21,0.22,0.14,0.39,0.63,0.21,0.01,0.03,0.18,2.63,0.33,0.03,0.12,0.24,0.09,0.08,1.68,0.09,0.03,0.18,1.35,0.06,0.16,0.05,0.11,0.23,0.61,0.18,0.11,0.3,0.05,0.12,0.15,0.13,0.27,0.23,0.04,0.34,0.01,0.04,0.85,0.07,1.64,0.04,0.92,0.08,0.62,0.01,0.03,0.01,0.12,0.06,0.45,2.16,0.17,0.09,0.04,0.18,0.08,0.03,1.04,0.07,0.03,0.03,0.02,0.21,0.33,0.11,1.33,0.11,0.85,0.05,0.08,0.08,0.11,0.21,0.14,1.5,0.9,0.83,0.08,0.68,0.08,0.02,0.07,5.72,0.28,0.09,0.71,0.02,0.46,0.4,0.38,1.51,0.06,0.05,0.02,0.57,0.03,0.16,0.99,0.17,0.27,0.3,0.1,0.43,0.08,0.16,0.39,0.17,0.13,0.02,2.81,0.09,0.04,0.03,1.08,0.31,0.41,0.41,0.84,0.03,0.13,0.19,0.04,0.1,0.06,0.09,1.15,0.57,0.07,0.94,0.27,0.12,0.07,0.31,0.7,0.92,0.11,0.07,0.41,0.35,0.03,0.02,12.14,0.06,0.45,0.04,0.1,1.31,0.57,0.01,0.88,1.7,0.17,0.58,0.16,0.02,0.1,0.49,1.65,0.48,0.26,1.45,0.02,0.16,0.05,0.23,0.32,0.12,0.01,0.03,0.03,0.01,0.55,0.11,0.08,0.25,3.15,0.06,0.01,0.17,0.07,0.11,0.59,1.06,0.08,0.1,0.01,1.08,0.03,0.97,0.15,0.35,4.68,0.04,0.44,0.08,4.25,2.1,0.47,0.02,0.31,0.18,0.64,0.03,0.19,0.03,1.08,0.03,0.09,1.61,1.61,0.58,0.05,1.75,0.03,0.05,0.1,0.11,0.02,0.04,2.87,0.05,1.28,0.14,3.44,0.28,6.67,0.02,0.04,0.13,0.05,0.05,0.07,0.47,0.63,0.02,0.15,0.02,0.05,0.02,0.39,0.13,0.31,0.49,0.56,0.02,2.38,0.11,0.05,0.07,0.29,0.2,0.65,0.04,0.46,0.15,13.73,0.98,0.19,0.11,0.57,0.02,0.04,0.26,0.17,2.39,0.02,0.21,1.59,0.52,0.03,0.07,0.26,0.57,0.08,0.17,0.27,0.01,0.29,0.01,0.23,0.39,0.09,0.27,0.14,0.72,3.34,0.16,0.62,0.52,0.16,0.05,0.19,0.13,0.22,0.9,0.06,0.13,0.39,0.07,0.19,0.22,0.33,0.17,0.05,0.06,0.06,0.18,0.15,0.92,0.1,0.21,0.39,0.95,0.2,0.06,0.11,0.13,0.31,0.05,0.03,0.13,1.22,0.33,4.24,0.11,0.02,0.05,0.09,0.42,0.55,0.07,1.23,1.81,0.07,0.29,0.07,1.13,0.1,0.05,0.39,0.16,1.21,1.14,3.62,0.05,0.2,0.09,0.07,0.06,0.04,0.74,2.03,0.19,0.34,0.06,0.02,3.09,0.19,0.04,0.12,0.09,0.1,1.41,0.72,0.04,0.04,0.73,0.82,0.05,0.28,0.07,0.1,0.05,0.08,0.16,2.25,0.24,0.13,1.48,0.91,0.45,0.06,0.02,0.05,1.43,0.02,0.14,0.14,1.16,0.88,0.27,0.32,0.02,0.05,0.04,0.15,0.05,0.15,0.15,0.13,1.54,1.86,0.04,0.42,0.73,0.01,0.03,0.35,1.39,0.04,4.21,0.6,0.65,0.04,0.03,0.1,0.09,0.17,0.02,0.53,0.05,0.44,0.4,0.18,0.18,0.31,1.95,0.03,0.06,1.0,0.09,0.02,0.03,0.88,0.67,0.29,0.08,0.18,1.7,0.02,0.04,0.03,0.02,0.08,0.96,0.12,0.8,0.5,0.5,0.16,0.11,0.99,0.42,0.41,0.02,0.05,0.79,0.09,0.05,0.03,0.61,1.16,0.23,0.15,0.29,0.17,0.05,0.04,0.22,0.08,2.54,0.13,0.06,0.3,0.02,0.03,0.18,0.14,0.01,3.54,0.9,0.14,0.21,0.05,0.35,0.12,0.26,1.0,0.02,0.09,0.01,0.01,0.06,2.94,0.62,1.85,0.77,0.27,0.3,0.23,0.15,0.42,0.18,0.01,0.12,0.02,0.06,0.03,0.13,0.24,0.19,0.09,0.03,0.13,0.08,0.19,0.49,0.13,0.2,0.19,0.28,0.02,0.79,0.06,0.24,0.05,0.87,0.87,0.07,0.07,0.82,0.17,0.3,0.2,0.1,0.03,0.25,0.02,1.35,0.05,1.36,0.05,0.75,0.21,0.01,0.37,0.04,0.14,0.06,0.38,0.03,0.02,0.14,0.39,0.16,0.26,0.4,0.16,0.13,0.09,0.03,0.66,0.24,0.02,0.1,1.08,0.07,0.03,0.56,0.08,0.54,0.07,0.29,0.61,0.02,0.29,0.12,0.02,0.22,0.11,0.17,0.03,0.03,0.63,0.09,0.15,1.06,1.1,0.13,1.06,0.51,0.25,0.11,0.16,0.13,0.52,0.89,0.05,0.28,3.9,0.26,0.02,0.02,1.13,0.33,0.01,0.37,0.21,0.07,0.11,0.51,0.07,0.07,0.44,3.0,0.08,0.07,0.23,0.42,0.11,0.04,0.37,0.24,0.11,0.04,1.42,0.35,0.04,0.56,0.87,0.16,0.24,0.34,0.32,0.04,0.65,0.2,0.16,0.14,0.23,0.12,0.03,0.02,0.1,0.07,0.21,0.23,4.6,0.04,0.03,0.13,0.11,0.67,0.18,0.14,0.13,3.49,0.32,0.5,1.41,0.08,0.02,0.14,0.06,0.65,1.78,0.19,0.47,0.05,0.87,0.01,0.18,0.45,0.25,0.06,1.01,2.18,0.61,0.2,0.38,0.37,0.06,0.52,0.78,0.75,2.31,0.03,0.04,0.36,0.55,0.16,0.13,0.03,0.02,0.53,0.48,0.48,0.08,0.78,0.05,3.45,0.22,0.02,0.21,2.04,0.42,0.25,0.36,0.27,0.71,0.11,0.01,0.21,1.05,0.01,1.27,0.36,0.02,0.13,0.8,0.13,0.43,2.78,0.92,1.35,0.2,1.15,0.03,0.36,1.58,0.21,0.45,0.03,0.02,0.57,0.26,0.13,1.17,0.02,0.08,0.04,2.38,0.05,0.29,0.43,1.01,0.85,5.11,0.48,0.07,0.64,1.26,0.45,0.15,0.06,0.19,0.19,1.77,0.01,0.03,0.05,0.04,0.73,0.08,0.01,0.13,0.01,0.19,0.18,1.16,0.27,0.03,0.8,10.26,1.73,0.33,0.1,0.11,0.08,0.06,0.02,1.27,2.79,0.12,0.09,0.11,0.02,0.08,0.14,0.01,0.27,0.14,0.08,0.03,3.5,0.04,0.91,0.11,0.03,0.19,0.12,0.27,0.08,0.45,0.15,0.17,0.05,0.13,0.09,0.22,0.01,0.06,0.15,0.43,0.16,0.42,0.01,0.22,0.11,0.03,0.23,0.58,0.05,0.04,0.03,0.09,0.56,0.06,0.03,0.14,0.53,0.03,0.15,0.03,0.06,0.03,2.2,2.14,0.16,0.57,0.07,0.19,1.25,0.05,0.05,0.43,1.16,0.05,0.06,0.03,1.52,1.77,1.14,4.14,0.04,0.28,0.02,0.12,0.21,0.06,0.04,0.08,0.36,0.14,1.27,0.07,0.43,0.04,0.62,0.02,0.11,0.02,1.45,0.46,0.9,0.06,0.13,0.02,0.11,0.03,0.31,0.15,0.06,6.28,2.9,0.29,0.4,0.2,0.11,0.16,0.03,0.12,0.09,0.3,0.1,0.2,0.02,0.1,5.2,1.4,0.3,0.09,0.06,0.73,0.03,0.1,0.45,2.1,0.15,0.84,0.55,0.27,0.14,4.67,0.18,1.19,0.07,1.13,0.09,1.58,0.06,0.95,0.08,0.02,0.21,0.01,0.02,0.02,0.65,0.02,0.07,0.25,0.08,0.13,1.92,0.37,0.12,0.01,0.09,0.35,0.09,0.89,1.52,0.12,0.45,0.07,0.15,0.39,0.07,0.71,0.01,5.01,1.84,0.19,0.24,0.2,0.11,0.13,0.18,0.03,0.06,0.8,0.09,0.55,0.04,3.16,0.48,0.02,0.04,0.92,0.02,0.05,0.04,0.1,0.48,0.05,0.39,1.07,0.17,0.1,0.04,0.71,0.24,0.08,0.79,0.75,0.14,6.6,0.42,0.46,0.2,0.13,0.12,0.08,0.39,0.28,0.03,0.59,0.2,0.73,2.65,0.21,0.15,0.16,1.09,0.01,1.0,0.14,0.54,0.17,0.72,0.63,0.12,0.51,3.41,0.03,1.25,0.04,10.21,0.72,0.05,0.09,2.4,0.14,0.02,0.06,0.76,1.34,0.06,0.12,0.61,0.76,0.3,0.04,0.6,0.43,0.02,1.53,0.05,0.13,0.46,5.08,0.13,0.43,0.1,0.68,0.05,4.62,0.11,0.78,0.03,0.95,0.18,0.24,0.03,1.08,0.93,0.33,0.04,0.05,0.49,0.06,0.03,0.03,0.02,0.22,0.16,0.04,0.42,0.39,0.17,8.09,0.05,1.16,0.17,1.13,0.36,0.27,28.62,0.21,0.19,0.11,0.22,0.14,0.04,0.21,0.08,0.1,0.01,0.13,0.04,0.01,0.64,0.06,0.03,0.36,0.67,0.05,0.23,2.73,0.13,0.6,0.06,0.3,0.32,0.26,0.11,1.87,0.51,0.39,0.01,0.01,0.02,0.08,0.06,0.09,0.14,0.15,0.12,0.13,1.31,0.12,0.09,0.01,0.02,3.51,0.04,0.06,0.06,0.24,0.05,0.01,0.17,0.02,0.19,0.27,1.29,0.52,1.03,0.2,0.55,0.46,0.35,0.07,0.02,0.1,0.57,0.18,0.04,0.11,0.2,5.84,0.17,0.28,0.38,0.25,0.29,1.23,1.05,0.87,0.06,0.31,0.39,0.46,0.33,0.33,0.02,0.01,0.12,0.16,0.15,0.11,0.08,0.23,0.02,0.58,0.48,1.66,0.42,0.31,0.36,0.04,1.25,0.48,0.03,0.04,0.49,0.41,0.21,1.72,0.16,2.4,0.05,1.79,5.08,0.08,0.09,1.58,1.38,0.01,0.02,0.02,0.03,0.08,0.04,0.05,3.0,0.01,0.42,0.12,0.19,0.25,0.07,1.32,0.1,0.02,0.18,0.08,0.62,0.09,0.46,0.14,0.03,0.18,0.02,0.13,0.45,0.59,0.03,0.23,1.89,0.33,0.37,0.06,0.56,2.11,0.09,0.05,0.58,0.39,0.4,0.12,0.08,0.16,0.23,3.23,0.51,2.85,0.17,0.54,0.03,0.05,0.01,0.63,2.25,0.57,0.2,0.25,0.2,0.05,0.01,0.07,0.11,0.02,0.09,0.04,0.05,0.12,0.19,0.12,0.24,0.03,0.5,0.3,0.02,0.27,0.12,0.75,0.22,3.51,0.06,0.26,0.03,0.5,0.95,0.12,0.77,0.05,0.08,0.07,0.08,0.06,0.28,0.46,0.25,0.15,0.21,0.22,0.23,0.15,0.15,0.04,0.95,0.15,0.25,0.17,0.08,0.03,0.03,0.11,0.07,0.1,0.24,0.07,0.02,0.32,1.43,0.19,0.44,0.01,0.48,0.06,1.48,0.27,0.24,0.12,0.74,0.06,0.11,0.04,0.07,0.53,2.54,0.16,0.08,0.03,0.64,0.13,0.14,0.4,0.06,0.74,0.14,1.18,0.23,10.77,0.36,0.54,0.02,0.71,0.52,0.47,0.06,1.04,0.07,0.19,0.04,0.15,0.13,1.22,0.41,0.53,0.02,1.33,0.17,0.04,0.1,1.07,0.34,0.19,0.14,0.04,0.78,0.06,0.28,0.13,0.38,0.06,0.57,0.13,0.03,2.64,0.19,0.13,0.03,0.46,0.17,0.57,3.42,0.01,0.13,0.29,0.26,0.5,0.29,0.05,1.07,0.08,1.66,0.38,0.26,0.04,0.18,2.68,0.03,0.68,0.06,0.22,0.19,0.25,0.06,0.21,0.14,0.05,0.06,0.02,0.11,2.47,0.19,0.04,0.02,0.32,2.06,0.16,0.19,0.13,0.12,0.18,0.4,0.95,0.08,2.86,0.21,0.07,0.18,0.32,0.25,0.27,0.33,0.12,0.07,0.11,0.11,0.07,1.2,0.21,0.36,0.33,0.05,0.1,0.42,0.36,0.34,0.53,0.11,0.01,0.23,0.06,0.15,0.03,0.17,0.12,0.64,0.1,0.1,0.06,3.77,1.67,4.5,0.18,1.1,0.5,0.19,0.18,0.06,0.04,0.69,0.25,0.98,1.6,0.54,0.76,0.6,0.54,0.06,0.04,0.03,0.14,0.16,0.41,0.13,1.4,0.03,0.42,1.14,0.01,1.6,0.08,0.01,0.51,0.04,0.15,0.3,0.32,0.12,0.06,0.28,2.21,0.03,0.08,0.23,30.26,0.06,0.15,0.1,0.65,0.17,0.03,0.3,0.29,0.14,1.65,0.11,0.25,0.02,0.67,0.03,0.33,0.09,0.24,0.03,0.36,0.01,0.19,0.19,0.02,0.01,0.55,0.02,3.24,0.21,0.13,0.02,0.05,0.5,0.21,0.15,0.11,0.08,2.26,0.03,0.18,0.96,2.92,1.83,0.8,0.26,0.15,0.46,0.09,0.06,0.88,6.03,0.53,0.15,0.15,1.63,0.02,0.13,0.13,1.2,0.01,0.11,0.75,0.14,0.07,1.01,0.03,0.23,0.2,0.12,0.1,0.05,1.33,0.05,0.39,0.06,0.07,0.05,0.2,0.05,0.42,0.66,0.41,0.15,0.14,0.13,0.02,0.02,0.28,0.01,0.08,0.44,0.31,0.66,0.09,0.5,0.04,0.04,0.04,2.28,0.27,0.02,0.19,0.67,0.26,0.22,0.07,0.01,0.23,1.47,0.09,0.15,0.04,0.16,0.17,0.81,0.04,0.08,0.03,0.07,1.08,0.21,0.27,0.03,0.84,0.5,0.22,0.1,0.42,0.04,0.16,0.28,0.04,0.16,1.25,0.16,0.15,0.03,0.63,0.97,0.06,0.23,0.26,0.35,0.02,0.18,4.05,0.01,0.46,0.21,0.14,0.29,1.7,0.04,0.14,0.19,0.27,1.66,0.07,0.12,0.11,0.06,0.02,0.12,0.05,0.21,0.11,4.41,0.77,2.02,0.08,0.01,0.22,0.2,0.3,0.01,0.17,0.04,0.2,0.14,0.11,0.58,0.05,0.17,0.29,0.18,0.88,0.28,0.47,0.37,0.02,1.22,0.07,0.02,0.23,0.07,6.24,0.04,0.27,0.06,6.3,0.08,0.25,2.42,0.08,0.78,0.27,0.31,0.18,1.68,0.46,0.07,0.29,1.42,0.25,0.74,0.72,0.94,0.87,0.01,3.98,0.39,0.05,0.06,0.3,0.03,0.16,0.12,0.26,0.03,0.09,0.22,0.07,0.06,0.16,0.02,0.12,0.02,0.31,0.03,0.53,0.64,0.26,0.08,0.03,0.06,0.01,0.06,2.51,0.09,0.13,0.45,0.66,0.03,0.18,0.34,0.39,1.33,0.05,0.43,0.29,0.09,14.35,0.04,0.02,0.08,5.24,1.4,0.06,0.06,0.07,0.11,0.09,0.01,0.63,0.09,0.29,0.68,0.04,0.6,1.0,0.06,0.02,1.76,1.46,3.48,0.04,0.45,0.04,0.03,0.05,0.89,0.09,0.29,0.63,0.03,0.12,0.56,2.63,0.13,0.22,0.01,0.02,0.11,0.02,0.26,2.38,0.53,0.49,0.48,0.25,1.0,1.12,0.02,0.08,0.23,0.01,0.04,0.01,0.08,1.05,0.24,0.03,0.02,0.27,0.03,0.7,0.1,0.02,0.03,5.57,0.12,1.26,0.05,2.43,0.67,0.25,0.18,0.2,1.39,1.19,0.05,0.32,0.59,0.63,0.38,0.06,0.47,0.89,0.49,0.05,0.45,0.11,0.03,0.25,0.06,0.03,0.15,0.01,0.28,0.14,0.16,0.06,0.11,0.01,0.02,0.01,0.12,2.28,0.02,0.2,0.24,0.06,0.08,0.14,0.23,0.06,0.03,0.81,0.21,0.02,0.05,0.77,0.17,0.51,0.14,0.24,0.18,4.87,0.02,0.02,0.34,0.73,0.79,0.07,0.63,0.04,0.45,0.07,0.01,0.1,0.19,0.87,0.44,0.02,0.43,0.05,0.93,0.08,0.29,0.14,0.03,0.02,0.02,0.01,0.01,0.06,0.29,0.02,0.1,0.09,1.92,0.12,0.02,0.01,0.08,0.4,0.39,0.19,1.92,1.0,1.02,0.23,0.01,0.04,0.8,0.76,0.01,0.53,0.05,0.04,0.13,0.28,1.61,0.18,0.1,0.63,1.91,0.96,0.09,0.03,0.2,0.68,0.15,0.03,0.33,0.02,0.76,0.11,1.08,0.22,0.06,0.04,0.05,0.1,0.02,0.52,0.15,0.06,0.24,0.02,0.08,0.1,0.02,0.4,1.89,0.26,0.03,0.44,5.08,0.69,0.03,0.09,1.67,0.87,0.03,1.06,0.12,0.99,0.15,0.12,0.04,0.71,0.04,2.06,0.04,0.03,1.28,0.06,2.4,0.51,0.05,0.1,0.02,0.04,0.2,1.33,0.1,23.1,0.02,0.06,0.51,0.32,0.04,0.33,0.15,0.14,0.01,1.24,0.32,0.07,1.09,0.58,0.11,0.45,0.03,0.24,0.08,0.49,0.02,0.74,0.22,0.02,0.06,0.02,0.27,0.45,0.14,0.06,0.05,0.03,0.07,0.38,0.15,0.2,0.08,0.02,2.18,0.4,0.15,0.02,0.58,0.05,0.41,0.09,0.26,2.65,0.06,3.15,0.29,0.01,1.69,0.1,0.56,1.3,0.05,0.11,1.74,0.12,0.42,0.09,0.02,0.35,0.1,0.42,0.55,7.6,0.99,0.01,0.81,0.05,2.39,0.04,1.11,1.37,0.73,0.1,0.04,0.25,0.19,2.3,0.05,0.21,0.3,4.2,0.07,0.4,0.83,0.14,0.36,0.06,0.71,0.51,0.69,0.02,0.96,0.5,0.3,0.03,0.01,0.1,3.19,0.4,0.1,0.05,0.95,0.09,0.02,0.03,0.62,0.03,1.1,0.06,0.11,0.09,2.49,0.09,0.17,0.09,0.21,0.01,0.15,1.02,0.17,0.01,0.04,0.08,0.4,0.03,0.29,0.11,0.71,0.01,0.22,0.45,0.05,0.08,0.47,10.69,0.33,4.03,0.25,0.38,0.07,0.1,1.15,0.13,0.01,0.29,0.02,0.06,0.38,0.87,0.33,0.03,0.82,0.18,0.12,2.9,0.29,0.11,0.07,0.57,0.09,0.33,0.25,0.22,0.65,1.17,1.06,0.25,0.02,1.11,6.72,0.01,0.46,0.04,0.11,0.1,0.41,0.09,0.61,0.03,0.09,0.02,2.37,0.82,1.0,0.81,0.1,0.01,0.42,1.39,2.04,0.46,0.17,1.68,0.12,0.16,0.16,0.12,0.11,0.06,0.38,0.06,0.09,0.03,0.19,0.15,0.02,0.69,0.02,0.01,0.11,0.02,0.27,2.81,0.08,0.02,0.01,0.42,0.59,1.2,0.12,0.12,0.33,0.13,0.02,0.32,0.9,0.2,0.14,0.05,1.56,0.03,0.12,0.03,0.07,0.44,0.96,0.06,0.03,0.41,0.94,0.15,0.22,0.1,0.21,0.01,0.01,0.03,0.4,0.03,0.7,0.07,0.32,0.23,0.11,0.08,0.21,0.02,0.05,0.03,0.28,1.35,0.2,0.84,0.06,2.88,1.32,0.98,0.69,0.31,0.11,0.1,0.15,0.04,0.02,0.01,0.42,0.06,0.18,0.14,2.04,0.08,2.99,0.28,0.03,0.01,0.08,0.31,0.57,0.21,0.03,0.05,0.47,0.27,0.83,4.24,0.51,0.05,1.15,1.65,0.14,2.32,0.06,0.34,0.29,0.08,0.3,0.01,0.32,0.1,0.06,0.15,0.03,0.1,1.32,0.11,0.38,0.25,0.77,0.12,0.28,0.04,0.17,0.65,0.03,0.15,0.02,0.03,1.76,0.22,0.2,0.01,1.32,0.01,0.08,0.05,0.03,0.08,0.02,0.15,0.02,0.05,2.32,1.05,0.32,0.04,0.07,0.13,0.07,0.1,0.19,0.04,0.02,0.21,0.42,0.05,1.69,0.17,0.11,0.78,0.68,0.06,0.02,0.68,0.75,0.2,0.16,0.05,0.52,0.03,0.3,1.06,0.97,1.0,0.03,0.17,0.21,0.07,0.04,0.03,0.2,1.56,0.36,0.49,0.18,0.37,1.0,0.18,0.15,0.07,0.21,0.01,0.2,0.94,0.15,0.45,0.25,0.03,0.36,0.04,0.01,0.98,1.45,0.09,2.13,0.4,0.27,0.64,0.15,0.14,0.77,0.27,1.47,0.26,0.87,0.2,0.59,0.11,0.06,0.09,0.9,0.07,1.19,0.5,0.51,0.85,1.14,0.3,0.09,5.42,0.54,1.36,0.33,2.99,0.05,0.01,1.54,0.36,0.09,0.24,0.11,0.06,0.51,0.04,0.02,0.13,0.04,0.39,0.35,0.64,0.05,0.3,0.06,0.11,0.09,0.22,0.54,0.08,0.32,0.29,0.26,0.1,0.71,11.52,0.29,1.34,0.06,0.35,1.08,0.04,0.39,0.5,0.52,0.44,0.85,0.08,1.16,0.18,0.36,0.06,0.1,0.54,0.01,0.02,0.17,0.15,0.04,0.14,0.07,0.61,0.13,2.27,0.1,0.03,2.78,0.35,0.01,0.93,0.18,2.88,0.27,0.37,0.03,0.94,6.83,0.38,0.3,0.07,0.54,0.05,0.18,0.06,2.31,0.02,0.3,0.09,0.2,0.23,0.01,0.02,1.75,0.37,2.13,0.02,0.27,0.09,1.0,0.52,0.52,0.45,0.03,0.37,0.02,0.38,0.05,0.13,0.66,0.11,0.1,0.02,0.03,0.81,0.09,0.46,0.06,0.24,0.32,0.15,0.63,0.08,0.25,1.02,0.02,0.04,0.05,0.08,0.07,0.18,0.42,0.2,0.15,0.34,0.26,0.24,0.05,0.65,0.15,0.23,0.2,0.05,0.02,0.41,0.15,0.19,3.07,0.51,0.29,1.62,0.4,1.74,0.02,8.06,0.04,0.34,1.23,0.12,2.45,2.27,0.01,1.03,3.88,0.07,0.08,3.19,0.02,0.23,0.03,0.01,0.33,0.19,0.04,0.3,2.22,0.72,1.44,0.04,0.05,0.25,0.1,0.1,1.04,1.11,0.17,0.15,3.73,0.04,1.11,0.03,0.5,0.1,0.12,0.18,0.03,2.57,0.21,0.03,0.07,0.07,0.11,0.2,0.97,0.02,0.35,0.03,0.03,0.02,0.11,0.09,0.14,0.18,0.9,0.44,0.24,0.33,0.09,4.21,1.08,0.51,0.02,0.88,0.05,0.02,0.07,1.0,0.03,0.03,5.43,0.99,0.31,0.02,0.29,0.14,0.49,1.23,0.25,1.64,0.29,0.8,0.19,0.01,0.2,0.42,0.1,1.59,0.17,0.04,0.05,0.01,0.17,0.12,0.02,0.2,0.01,0.03,2.37,0.38,0.01,0.07,0.29,0.34,0.09,0.67,0.06,0.27,0.58,0.02,0.35,0.06,0.11,0.12,0.41,0.07,0.61,0.19,0.06,0.1,1.6,0.02,1.38,0.27,0.49,1.52,0.23,0.07,0.08,0.33,0.07,0.78,0.04,0.09,1.51,0.19,1.23,0.45,0.28,0.05,0.45,0.08,0.22,0.41,0.07,0.11,2.41,0.08,0.23,3.14,0.43,0.03,0.23,1.19,3.07,0.37,0.33,0.04,0.53,0.06,0.01,0.22,0.14,0.13,0.07,0.09,1.37,0.02,0.51,0.08,0.06,0.09,0.93,0.14,0.01,0.12,0.85,0.16,0.16,0.08,0.07,0.07,0.08,0.53,0.07,0.64,0.17,0.07,0.01,0.8,0.61,0.31,0.14,0.17,0.01,0.03,0.42,0.05,0.98,0.34,0.57,0.12,0.2,0.12,0.11,0.08,0.2,0.19,1.21,3.61,0.06,0.09,0.06,1.98,0.08,0.07,0.44,0.39,0.02,0.36,0.45,0.46,0.03,1.05,0.23,0.16,0.03,0.69,1.62,0.17,0.1,0.05,0.47,0.37,0.14,0.81,0.59,0.64,0.02,0.01,2.08,0.67,1.04,0.33,20.81,0.52,0.11,0.29,0.04,0.07,0.46,0.04,0.9,0.37,0.03,0.7,0.33,0.26,0.27,0.08,0.97,0.22,0.02,0.66,0.58,0.06,0.16,2.0,0.09,6.69,4.96,0.25,0.23,0.61,0.07,2.02,0.87,0.23,0.67,0.01,0.43,0.01,0.27,0.11,0.07,0.17,0.03,0.07,0.03,2.38,0.08,0.02,0.09,3.12,0.47,0.27,0.05,0.25,0.03,0.34,0.02,0.23,1.0,0.14,0.14,0.02,1.41,0.04,0.16,6.96,0.14,0.62,0.38,2.57,0.09,0.02,0.29,0.05,0.05,0.04,0.02,1.56,0.76,1.72,0.32,0.02,0.21,0.18,0.01,0.58,2.28,0.04,0.17,0.31,0.03,1.41,0.71,0.1,0.05,0.14,0.1,0.54,1.2,0.11,0.02,6.91,0.02,0.05,0.38,0.11,0.02,2.25,0.67,1.1,1.67,0.12,0.01,0.83,0.3,0.02,0.17,0.71,0.37,0.28,0.43,0.01,0.47,0.15,0.04,0.17,0.79,0.15,0.01,0.17,0.16,0.08,0.59,0.45,0.27,0.05,0.03,0.2,0.24,3.44,0.1,0.01,0.08,2.89,0.11,0.38,1.15,0.89,0.86,0.04,2.26,0.41,0.13,0.19,1.93,0.14,0.34,0.12,0.32,0.07,0.46,0.21,0.12,0.62,0.62,2.08,0.02,0.43,0.04,0.19,0.86,0.06,0.04,0.34,0.01,0.09,0.14,0.02,0.03,0.05,0.04,0.81,0.18,0.21,0.48,0.12,0.02,2.27,0.08,0.79,0.04,0.23,0.2,0.02,0.13,0.23,0.33,0.49,1.22,0.28,0.76,0.03,0.27,0.44,0.04,0.51,2.69,0.47,0.29,0.13,0.02,0.07,0.03,0.01,0.02,0.11,0.2,0.07,0.34,1.78,0.07,0.61,0.04,0.71,0.17,0.73,0.07,0.38,0.1,0.02,0.4,0.39,0.07,0.03,0.57,0.12,0.66,0.09,0.11,0.25,0.02,0.19,0.02,0.49,4.0,0.06,0.03,0.55,0.44,0.03,1.59,0.1,0.06,0.09,0.49,0.04,0.11,0.14,0.02,0.02,1.05,0.04,0.17,0.07,0.01,0.68,0.15,0.51,0.06,0.17,0.22,0.01,0.03,0.08,0.2,0.47,0.12,1.88,0.65,1.04,0.4,0.12,0.41,2.18,0.19,0.21,0.24,0.07,3.76,0.32,0.04,0.05,0.02,0.3,0.06,2.97,0.02,1.23,0.27,7.23,1.21,1.12,0.05,1.19,0.04,0.29,0.22,0.28,0.15,0.26,1.33,0.3,0.29,0.1,1.55,0.59,0.38,31.37,0.06,0.14,0.1,0.08,0.1,1.46,0.52,0.03,0.26,0.31,0.08,0.73,1.18,0.18,0.5,0.2,0.09,0.12,0.24,0.4,0.09,0.15,0.53,0.12,0.75,0.32,0.22,0.03,0.14,0.31,5.0,0.27,0.04,0.23,0.05,0.08,1.52,0.18,0.07,0.52,0.5,0.29,0.21,0.65,0.58,0.14,0.36,0.37,0.09,0.04,0.02,0.78,1.94,0.1,0.54,0.87,0.06,0.02,0.03,0.05,0.23,0.16,0.06,0.11,0.54,0.07,0.19,0.13,0.58,4.09,0.91,0.87,0.8,0.39,0.29,0.66,0.75,0.89,0.05,0.19,0.57,3.11,0.09,0.8,0.95,0.18,0.04,0.05,0.03,0.11,0.07,0.09,0.13,1.4,0.32,0.56,0.1,0.11,0.09,0.04,0.31,0.04,0.01,0.15,0.16,0.74,0.35,0.03,2.56,0.08,0.07,0.1,0.02,0.43,0.28,0.09,0.02,0.01,0.77,0.03,0.02,0.05,0.56,0.08,0.08,0.42,0.03,0.98,0.18,0.06,0.07,0.16,0.53,0.51,0.02,1.52,1.09,0.21,0.39,7.81,0.08,0.44,0.08,1.04,0.76,0.05,0.12,0.02,0.16,0.02,0.36,3.03,0.53,0.02,0.26,0.23,0.17,0.01,0.47,0.21,0.15,0.19,0.06,0.32,0.2,0.87,0.1,0.07,0.65,0.02,0.02,0.11,0.09,0.15,0.1,0.36,0.35,1.1,0.06,0.17,0.33,0.02,16.38,0.31,0.08,0.32,0.11,0.08,0.29,0.11,0.01,0.06,2.65,0.04,0.19,0.28,0.01,0.14,6.59,0.02,0.03,0.04,0.02,0.5,0.03,0.76,0.08,0.18,1.04,0.16,0.01,0.03,0.02,0.14,0.29,0.04,0.36,0.12,0.1,4.22,0.09,0.29,0.14,1.44,0.18,0.03,0.43,0.03,0.14,0.36,0.14,0.12,1.18,0.53,0.9,0.26,3.63,0.06,0.98,0.25,0.02,0.1,1.22,0.34,0.38,0.01,0.03,0.09,0.08,1.1,0.45,0.09,0.19,0.01,0.04,0.32,0.03,0.13,0.16,0.3,0.63,0.02,0.06,0.04,0.4,0.29,0.29,0.06,0.07,0.01,0.95,1.68,0.02,0.1,0.11,0.19,0.13,0.02,0.06,0.09,0.04,0.05,2.18,0.18,0.21,0.02,0.17,0.07,0.36,0.03,0.15,0.18,0.02,0.63,0.01,3.84,0.08,0.29,0.37,0.11,0.02,0.06,0.02,0.07,0.05,0.17,0.08,0.03,0.1,0.19,0.14,0.06,0.84,0.02,0.09,3.26,0.04,0.19,0.06,0.07,0.3,0.43,0.03,0.02,1.3,0.09,0.17,0.34,0.08,0.49,0.34,0.11,0.23,0.1,0.4,6.03,0.17,0.3,0.25,0.13,0.02,0.05,0.24,0.04,0.27,0.18,0.39,0.73,0.86,0.06,0.04,0.02,0.32,0.13,1.0,0.39,0.04,0.13,0.01,0.17,0.21,0.26,0.22,0.05,0.01,0.03,0.09,0.75,0.02,0.04,0.19,0.2,0.63,0.23,0.38,0.05,0.38,5.36,0.06,1.33,0.1,0.55,3.46,0.02,0.21,0.6,0.16,0.07,0.12,0.04,0.03,0.25,0.08,0.13,0.36,0.42,0.18,0.38,0.05,0.01,0.08,0.26,0.11,0.06,0.01,0.02,0.01,0.08,0.78,6.39,0.34,0.03,0.08,0.02,0.02,0.2,0.22,0.1,0.04,0.01,0.05,0.19,0.12,0.01,0.03,0.3,0.07,0.08,1.17,0.23,0.05,1.41,0.05,0.46,0.3,2.65,0.47,1.11,0.12,0.18,0.71,2.12,0.06,0.22,0.01,0.05,0.63,0.19,0.99,0.03,0.04,0.04,0.4,0.23,2.25,0.05,0.04,0.12,2.85,0.19,0.19,0.38,0.01,0.47,0.23,0.31,1.14,0.05,0.01,0.14,0.03,0.66,0.26,0.06,0.08,2.95,0.02,0.11,0.08,0.17,0.18,0.06,0.4,0.68,1.44,0.43,0.16,0.11,0.24,0.06,1.22,0.01,0.12,0.18,0.47,0.27,0.06,0.4,0.02,0.05,0.03,0.08,0.02,0.1,0.02,0.16,0.12,1.33,0.17,0.02,2.56,0.83,0.02,0.49,0.58,0.01,0.1,1.36,0.02,0.03,0.02,0.09,0.13,0.03,0.03,0.16,0.42,0.1,0.03,0.56,0.07,0.9,0.35,0.3,1.17,0.19,0.2,0.01,2.22,0.04,0.05,0.03,3.77,0.02,0.4,0.72,1.56,0.16,0.54,0.03,0.63,0.2,0.03,0.79,0.05,0.88,0.07,0.1,2.48,0.29,0.36,1.53,0.3,0.12,2.67,1.38,1.47,0.17,4.39,1.46,0.02,0.09,0.03,0.03,0.12,0.03,0.97,1.76,1.46,0.61,0.25,1.12,0.07,0.01,0.11,0.11,0.02,0.34,2.82,0.1,0.23,0.4,0.5,1.21,1.69,0.26,5.2,0.17,6.34,1.62,1.76,1.2,1.1,0.04,0.24,0.05,0.12,0.55,0.13,0.26,0.3,0.51,0.42,0.07,0.12,0.33,0.1,0.14,1.44,0.62,0.04,0.63,0.07,0.02,0.07,0.35,0.4,0.01,0.07,0.77,0.03,0.04,0.05,0.16,0.14,0.93,0.08,0.05,0.4,0.55,0.41,0.05,0.13,1.67,0.06,0.24,0.15,0.02,0.03,0.13,3.36,1.66,0.16,0.06,1.19,0.31,0.05,0.02,0.02,0.39,0.19,0.17,0.05,0.03,0.22,0.08,0.31,1.31,0.09,0.28,0.55,0.21,0.62,0.03,0.92,0.21,0.03,0.04,0.19,0.22,0.01,0.04,0.05,0.2,0.51,0.31,0.48,0.04,0.1,0.07,0.03,0.09,0.02,0.72,0.12,1.15,0.03,0.25,0.15,0.98,0.07,0.06,1.23,0.05,0.21,0.13,0.19,0.02,0.53,0.24,0.05,0.05,0.13,0.87,0.31,0.11,0.61,0.18,0.38,0.05,1.86,0.32,0.5,0.12,0.02,0.39,0.15,2.52,0.4,1.44,0.85,0.03,0.17,0.06,1.1,1.5,0.12,0.03,0.71,4.16,0.43,0.39,0.31,0.14,0.22,0.51,0.02,1.08,1.4,0.29,2.44,0.68,0.13,0.49,0.05,0.06,0.41,2.28,3.81,0.12,0.68,0.18,0.28,1.35,0.64,0.44,0.2,0.56,0.03,0.33,0.05,0.47,1.25,3.28,0.35,0.15,0.12,0.03,0.11,0.08,0.09,0.37,0.02,0.03,0.05,0.84,0.05,1.09,0.04,1.17,1.95,0.11,1.55,0.8,0.02,0.11,0.29,0.15,0.08,0.23,1.04,0.2,0.07,0.36,0.31,0.52,0.02,0.29,0.36,0.01,1.73,0.04,0.21,0.45,1.32,0.59,0.02,0.37,0.08,0.02,0.43,1.18,1.43,0.63,0.33,0.03,2.09,0.06,0.02,0.04,0.14,1.43,0.07,0.38,0.04,0.02,0.17,0.3,0.43,0.12,0.28,1.1,0.58,7.46,1.11,1.22,0.09,1.59,0.09,0.62,0.11,0.02,1.04,0.25,0.01,0.47,0.02,0.57,0.43,0.38,0.93,0.43,0.31,0.02,2.91,0.13,0.02,0.14,0.1,0.21,0.12,0.13,0.03,0.48,0.59,0.07,0.05,0.04,0.07,0.34,1.64,0.36,0.39,0.02,1.36,0.68,0.07,0.11,1.76,0.05,0.12,0.25,0.15,1.43,0.04,0.07,4.02,1.12,0.09,0.13,0.06,0.07,0.01,0.14,0.2,0.02,0.05,0.09,0.1,0.16,0.07,0.81,0.11,0.01,0.18,0.03,0.18,0.3,0.04,0.47,0.13,1.24,0.13,0.11,0.89,0.15,0.64,1.18,0.8,0.06,0.69,0.55,0.72,0.4,0.04,0.03,0.13,0.06,0.1,0.6,0.02,0.09,0.67,0.34,0.01,0.06,1.74,0.02,0.02,0.94,0.14,0.03,0.07,0.02,0.33,0.01,0.1,0.03,0.69,0.01,0.06,0.14,0.45,0.05,0.02,0.1,0.1,0.05,0.04,0.48,0.88,0.08,0.12,0.05,0.15,0.02,0.41,0.4,0.12,0.15,2.05,0.2,0.84,0.51,0.31,2.65,0.09,0.18,0.05,0.14,0.15,0.99,0.33,0.08,0.16,0.02,0.14,0.06,0.38,0.79,0.06,1.07,0.07,0.17,0.53,0.23,0.02,0.23,0.5,0.29,0.09,0.16,0.63,0.23,0.23,0.13,0.03,3.58,0.02,0.02,0.17,0.59,0.17,1.58,0.01,0.06,0.11,0.14,0.26,0.12,0.07,0.07,1.35,0.1,0.13,0.28,0.02,1.62,0.87,0.04,0.82,0.03,0.12,1.39,1.97,0.15,0.27,0.09,0.15,0.15,0.47,0.24,0.25,0.35,0.03,0.03,0.16,0.1,0.04,0.36,0.04,0.04,0.22,0.05,0.08,0.19,0.02,0.25,0.02,0.02,0.46,0.45,0.03,0.01,0.08,0.54,0.15,0.03,0.26,0.08,0.1,0.07,0.26,0.07,0.02,0.24,0.15,0.28,0.02,0.28,0.14,0.48,0.16,0.14,0.29,0.05,0.09,4.63,0.81,0.05,0.03,0.1,0.03,0.27,0.72,0.01,0.09,0.07,3.52,0.32,0.03,0.07,0.04,0.05,0.12,0.03,0.79,0.13,0.1,0.02,0.96,0.16,0.03,0.39,0.82,0.03,0.26,0.08,0.32,0.26,0.07,0.03,0.03,1.83,0.02,0.76,0.09,0.37,0.45,0.13,1.35,2.96,0.03,1.2,1.32,0.2,0.01,0.01,0.09,0.12,0.03,0.03,0.45,0.1,0.5,0.04,0.45,0.53,0.23,0.67,0.59,0.65,0.03,0.12,0.11,0.16,0.32,0.1,0.73,0.08,0.24,0.19,0.53,0.04,1.01,0.15,0.41,0.1,0.14,0.26,1.16,0.15,0.28,0.69,0.03,0.09,0.13,0.04,0.61,0.16,5.47,0.08,0.99,0.03,0.55,0.06,0.11,0.33,0.21,0.04,0.23,3.53,0.29,0.05,0.44,0.67,0.12,0.23,1.45,3.2,0.06,0.09,0.26,0.34,0.11,0.13,0.07,0.2,0.24,0.05,0.56,0.71,0.3,0.25,0.51,6.4,0.07,0.03,0.2,0.07,0.02,0.15,0.06,0.09,0.05,0.04,0.02,0.74,0.04,0.12,0.1,0.4,0.23,0.1,0.11,0.16,0.02,0.02,0.04,0.08,0.7,2.86,0.02,0.66,0.02,0.41,0.24,0.41,0.41,0.23,0.08,0.01,0.14,0.22,2.39,1.64,0.21,0.02,0.2,1.15,0.07,0.2,0.68,1.27,0.23,0.02,0.26,2.13,0.09,0.06,0.13,0.15,0.24,4.14,0.02,0.41,0.07,0.06,3.83,0.24,2.62,0.05,5.49,0.16,0.14,0.1,0.09,1.45,0.58,1.0,0.01,0.6,0.25,0.02,0.23,0.1,0.06,0.45,0.14,0.4,0.03,0.23,0.02,2.13,0.01,0.11,0.06,0.15,0.12,1.1,1.6,1.24,0.2,0.06,0.7,0.07,0.53,0.07,1.26,0.19,0.28,0.02,0.01,4.06,0.06,0.54,0.19,0.47,0.26,0.71,0.11,0.02,0.12,0.18,0.6,0.86,0.02,0.34,0.3,0.79,0.11,0.55,0.03,1.09,0.16,0.51,0.32,0.01,0.06,0.02,0.1,0.02,1.04,0.02,0.15,0.05,0.07,0.98,0.09,0.4,0.04,0.33,0.05,0.28,0.11,0.1,0.02,0.67,0.37,0.14,1.32,0.21,0.27,0.16,0.17,0.04,0.23,0.12,0.48,0.02,0.13,0.46,0.37,0.48,1.93,0.1,0.37,0.24,0.25,0.02,0.04,0.41,0.32,1.91,0.12,0.05,0.97,0.41,0.3,0.27,2.39,0.18,1.78,1.72,0.06,0.18,0.01,2.65,4.33,0.83,0.14,0.12,0.58,0.38,0.11,0.14,2.14,0.39,0.11,0.14,0.08,0.11,1.5,0.41,0.23,0.09,0.02,3.4,0.13,0.05,0.03,0.03,0.1,0.23,0.76,0.46,0.01,0.09,0.09,0.2,0.01,0.37,0.01,0.07,0.76,0.81,1.01,0.08,0.45,0.29,0.32,0.61,0.02,0.49,0.03,0.42,2.25,0.19,1.24,0.22,0.1,0.08,7.13,0.03,0.11,0.02,0.1,0.19,0.07,0.03,0.03,0.06,0.07,0.8,2.0,0.7,0.19,1.27,0.29,0.66,0.58,0.44,0.04,0.25,0.19,0.51,1.69,0.66,0.07,0.02,0.23,0.06,0.08,0.56,0.13,0.11,0.19,1.06,0.26,0.3,0.13,0.84,0.02,1.26,0.09,0.02,0.52,0.18,0.22,0.11,0.71,0.12,0.03,0.61,0.07,0.11,0.09,0.34,1.45,0.01,0.32,0.03,0.06,0.12,0.74,0.92,1.42,0.19,0.04,0.15,0.05,0.2,0.21,6.76,0.08,0.06,0.02,0.13,0.32,0.13,1.7,1.17,0.07,0.03,0.09,0.36,0.1,0.33,0.38,0.02,0.16,0.35,0.02,1.24,0.33,0.02,0.25,0.33,0.13,0.03,0.28,0.04,0.19,0.25,0.21,30.01,0.13,0.65,0.02,0.05,2.96,0.01,0.04,0.28,0.32,0.68,0.1,0.16,0.03,0.04,0.27,0.46,3.5,0.01,0.03,0.11,0.07,0.27,0.5,0.09,0.02,0.07,1.53,0.2,0.14,0.4,0.05,0.03,1.16,0.34,0.29,0.03,0.02,0.7,4.34,0.03,0.93,0.08,0.07,0.03,3.49,0.82,1.12,2.08,0.19,0.18,0.64,0.02,0.02,3.87,0.19,0.02,0.06,0.13,0.74,0.07,0.39,0.13,0.58,0.12,0.11,0.27,0.52,0.68,0.05,0.14,0.03,1.26,0.1,0.04,0.02,0.02,0.45,0.48,2.59,1.17,0.02,0.67,0.95,0.29,0.02,0.27,0.05,0.33,0.1,1.42,0.1,0.09,3.7,0.4,0.04,0.07,0.15,0.1,0.78,0.14,0.4,0.02,0.47,0.01,0.36,3.27,0.13,0.48,0.05,0.02,1.42,0.14,0.14,1.1,0.58,15.32,0.03,0.05,0.44,0.27,0.61,0.51,0.14,0.19,2.32,0.29,0.03,0.14,0.07,0.14,0.18,1.9,0.32,0.07,0.04,0.15,0.28,0.03,0.17,0.05,0.04,0.12,0.03,0.12,0.02,0.14,0.1,0.11,0.57,0.45,4.08,0.42,1.5,0.05,0.33,0.54,0.24,0.72,0.21,0.27,0.07,1.59,0.02,0.04,0.47,0.04,0.41,0.11,0.1,1.45,1.56,0.17,0.14,0.1,0.02,0.03,0.22,0.03,0.48,0.16,0.27,2.12,0.03,1.32,0.03,0.36,0.02,0.11,0.04,0.07,0.27,1.23,3.42,0.74,0.47,0.81,0.27,0.01,0.14,0.13,0.51,0.01,0.13,0.4,0.06,0.1,0.01,0.34,0.06,0.11,0.15,0.15,0.01,0.15,0.04,0.04,0.11,0.28,0.08,1.55,0.03,0.51,0.31,1.27,0.2,0.03,5.0,0.27,0.24,2.39,0.04,0.46,0.43,0.15,0.12,0.61,0.53,0.08,0.27,0.7,0.13,0.04,0.29,0.08,0.05,0.03,0.22,0.11,0.26,0.01,0.55,0.17,0.19,0.47,0.44,0.39,0.11,0.03,1.28,0.93,0.08,0.78,0.02,0.02,0.01,1.06,0.84,0.32,1.43,0.02,0.19,0.05,0.02,0.31,0.14,0.12,0.12,0.07,0.04,1.19,0.04,1.35,0.02,0.06,0.05,0.09,0.05,0.05,0.78,0.53,0.17,0.32,0.09,0.01,0.65,0.02,0.34,0.55,0.02,1.98,0.03,1.52,0.03,0.17,0.65,0.09,0.12,0.11,0.93,0.13,0.11,0.04,0.21,0.49,0.11,0.03,0.33,0.13,1.88,0.24,0.11,0.19,0.03,0.23,0.51,1.2,0.03,0.21,0.19,0.1,0.07,0.05,0.53,0.06,0.7,0.57,0.06,0.03,0.95,0.07,0.69,0.26,0.06,0.08,0.02,0.12,0.71,0.05,0.03,0.1,0.06,0.33,0.35,0.85,0.41,0.01,0.06,0.09,0.54,0.07,1.22,0.08,0.02,0.02,0.17,0.13,0.08,0.2,0.02,0.55,0.16,1.5,3.76,0.05,0.06,0.17,0.21,2.27,0.12,0.18,0.02,0.2,0.33,0.14,0.45,0.13,0.08,0.06,0.7,0.09,0.56,0.01,0.11,1.3,0.04,0.82,0.47,0.19,0.04,0.12,0.03,0.26,0.23,0.27,3.02,0.12,0.53,0.5,0.23,0.04,0.56,0.16,0.12,0.39,0.32,0.25,0.6,0.36,0.45,0.02,0.55,0.63,0.76,0.78,0.24,0.01,0.09,0.01,0.3,0.03,0.02,0.53,0.28,0.04,0.27,0.25,0.2,0.14,0.17,0.56,0.11,0.3,0.41,0.07,0.02,0.03,0.14,2.48,0.18,0.2,0.07,0.03,0.27,0.95,0.06,0.2,1.3,0.03,0.1,0.55,0.39,1.07,0.08,0.36,1.58,0.02,0.51,0.53,0.16,0.7,1.13,0.06,0.47,0.09,0.13,0.23,0.06,0.1,0.11,0.28,0.27,0.17,0.4,2.04,0.06,0.02,0.35,0.42,0.08,0.39,0.07,0.56,0.04,0.48,0.04,0.07,0.14,0.03,0.07,0.12,0.12,0.87,0.01,0.06,0.02,1.16,0.03,0.26,0.61,0.04,2.72,0.1,0.53,0.08,0.05,0.47,0.05,1.72,0.23,0.03,0.86,0.13,0.19,0.03,1.46,0.45,0.01,0.27,0.07,3.19,0.15,0.73,0.08,0.47,0.22,0.58,0.64,0.07,0.07,0.97,0.07,0.07,0.01,0.16,0.09,0.7,0.07,0.12,0.16,0.12,0.1,0.19,0.34,0.05,0.17,0.05,0.23,2.97,0.17,0.14,0.16,0.1,0.01,0.55,0.02,0.16,0.08,0.01,0.23,0.02,2.28,0.25,0.09,0.42,0.1,0.19,0.03,0.02,0.08,0.05,0.24,0.04,0.06,1.67,0.04,6.27,0.4,0.5,1.5,0.21,0.26,0.71,1.36,0.09,0.23,0.03,0.03,0.24,0.04,0.09,0.04,0.02,0.13,0.17,0.07,0.16,0.05,0.17,0.04,0.03,0.02,0.81,0.1,0.15,0.73,0.05,0.2,0.58,0.17,0.04,0.03,0.9,1.22,0.1,0.02,0.15,0.25,0.05,0.07,1.26,0.93,0.38,0.13,1.2,2.5,0.54,0.48,0.33,1.03,0.06,0.03,1.03,0.06,0.26,0.21,0.02,0.26,0.33,0.04,0.01,1.18,0.74,0.18,0.02,0.11,0.03,0.1,0.16,0.21,0.02,0.62,0.03,0.74,0.9,0.02,0.14,4.2,0.7,0.24,0.2,0.26,0.08,0.61,0.19,0.67,0.02,0.58,0.28,0.13,1.73,0.13,0.07,0.01,0.87,0.71,0.02,1.1,0.04,0.46,0.47,0.05,0.05,0.06,0.31,0.01,0.25,0.25,0.02,0.14,0.2,0.6,0.12,0.01,0.12,0.13,0.18,0.09,0.02,0.03,0.12,0.22,0.24,0.57,0.08,0.13,0.1,0.12,4.35,1.46,20.22,0.22,0.56,2.48,1.38,0.15,0.42,0.88,0.02,0.52,0.02,0.01,0.37,0.07,0.14,0.09,0.1,0.11,0.31,0.04,0.21,0.22,0.06,0.37,2.15,0.02,0.29,0.15,0.33,0.03,0.11,0.08,0.31,0.09,0.07,0.15,1.69,0.31,1.29,1.62,0.08,1.55,1.37,2.29,0.41,3.56,0.82,0.17,1.19,0.03,0.19,0.69,0.02,0.3,0.17,0.13,0.07,0.09,6.51,0.35,0.25,0.45,8.05,0.02,0.03,0.14,0.5,1.13,0.89,0.21,1.54,0.1,0.08,2.38,0.17,1.08,0.34,3.63,0.22,0.09,0.17,0.12,0.4,0.01,3.53,1.97,0.11,0.07,0.05,0.69,0.46,0.09,0.07,0.07,0.61,1.51,0.13,0.42,0.47,0.14,0.03,0.05,0.33,0.16,0.09,1.57,0.14,0.36,0.66,0.06,0.12,0.82,0.03,0.02,0.07,0.26,0.62,0.46,0.6,7.31,0.14,0.03,0.12,0.07,0.11,0.17,0.04,0.12,0.94,0.51,0.03,0.05,0.64,0.01,0.66,0.05,0.06,0.87,0.6,0.05,0.12,0.03,0.04,0.33,0.33,0.17,0.19,0.06,0.04,0.9,0.06,0.07,0.93,0.03,0.07,0.37,0.09,0.56,0.12,0.01,0.08,0.03,0.14,0.33,0.1,0.07,0.02,0.37,0.01,0.85,0.13,3.91,0.32,0.28,1.64,0.03,0.19,0.01,0.05,0.06,0.02,0.83,0.07,0.09,0.15,0.84,0.08,0.16,0.05,0.08,1.02,0.41,0.07,0.03,1.4,0.15,0.15,0.02,0.5,0.15,0.45,0.06,0.22,0.03,0.32,0.04,0.09,0.18,0.29,0.22,0.03,0.08,0.03,0.07,0.6,0.03,0.55,0.1,0.04,0.79,1.85,1.74,1.17,0.49,0.44,0.11,1.67,0.01,0.15,0.03,0.06,0.16,0.23,0.36,1.3,1.42,0.24,0.1,0.15,0.03,0.14,0.34,0.02,0.16,0.86,0.02,0.05,0.17,0.55,0.02,1.82,0.02,0.18,0.91,0.03,0.2,0.42,0.05,0.31,0.33,0.13,0.11,0.05,0.07,0.17,0.34,0.02,0.03,0.1,1.1,0.2,0.1,1.39,0.17,24.76,0.04,0.07,0.17,0.39,0.09,0.33,0.2,0.21,0.07,0.08,0.04,0.25,0.33,0.22,0.2,0.52,0.12,0.01,0.17,0.39,0.21,0.32,0.05,1.23,0.02,0.14,0.05,0.04,0.07,0.12,0.11,0.08,0.08,0.12,0.02,0.48,0.11,1.28,0.11,0.05,0.28,0.03,2.47,0.11,1.72,0.02,0.09,1.04,0.54,0.21,1.27,0.1,0.79,0.08,0.24,0.45,0.16,0.72,0.27,0.74,0.27,0.12,0.11,0.19,0.08,0.15,0.11,0.01,0.09,0.03,0.02,0.06,0.1,0.2,0.1,1.05,0.15,1.16,0.04,0.52,1.49,2.11,0.05,1.84,0.05,0.05,0.09,4.39,0.24,0.27,0.1,0.29,0.27,0.29,2.33,0.05,10.95,0.58,0.07,0.04,0.01,0.04,1.42,0.56,4.21,0.11,0.04,0.19,0.02,0.03,0.15,0.19,0.08,0.02,0.61,0.16,0.45,1.53,1.04,1.8,0.11,1.5,0.06,0.34,1.59,0.03,0.65,0.09,0.03,0.64,0.22,0.15,1.18,0.49,0.01,0.17,0.33,0.41,0.01,0.66,0.58,0.24,0.04,0.36,1.03,1.38,3.18,0.61,0.6,0.11,0.42,0.07,0.01,0.02,0.05,0.25,0.02,2.7,0.21,0.03,1.44,0.19,0.1,0.14,0.13,0.12,0.03,1.97,0.18,0.47,0.03,1.46,0.1,1.39,0.19,0.06,0.1,0.37,1.94,0.17,0.02,0.08,2.5,0.06,0.14,0.04,0.41,0.05,0.2,0.12,0.61,0.18,0.15,0.81,0.91,0.66,0.02,0.01,0.06,0.03,0.01,0.19,0.05,0.42,0.2,0.65,0.03,1.25,0.02,22.72,0.06,0.18,0.51,0.03,0.03,0.06,0.02,0.16,0.11,0.28,0.3,0.35,0.14,0.06,0.03,0.01,0.2,1.29,0.05,0.46,1.67,1.82,0.09,0.33,0.43,0.15,0.11,0.16,0.14,0.51,2.96,2.19,0.17,0.24,0.07,0.28,0.04,0.05,0.16,0.05,0.19,0.1,0.21,0.09,0.07,0.01,3.2,0.02,0.02,0.04,0.15,0.76,1.38,0.04,2.79,0.04,0.84,0.62,0.46,3.67,0.05,0.04,0.08,0.04,0.38,0.07,0.52,1.67,0.34,0.08,0.25,0.18,0.03,0.05,0.07,0.92,0.04,0.36,0.39,0.04,0.1,0.65,0.11,3.36,0.07,0.05,0.28,2.61,0.28,0.02,0.02,0.28,0.11,0.1,0.54,0.57,0.17,0.28,0.03,0.4,0.1,0.2,0.21,0.06,0.3,0.24,0.62,0.35,0.03,0.38,0.03,3.38,0.08,0.67,0.08,4.76,0.57,0.23,0.13,0.43,0.29,0.6,0.18,0.21,0.12,0.01,0.49,0.02,0.03,0.94,0.11,0.08,0.42,0.78,0.04,0.2,0.3,0.84,0.36,0.03,0.35,0.01,0.08,1.36,0.26,0.11,0.1,0.88,0.11,0.41,0.17,0.19,0.11,0.03,0.09,0.17,0.31,0.81,0.56,0.02,0.03,0.13,0.02,0.51,0.13,0.56,1.22,0.11,0.01,0.27,0.07,0.55,0.12,0.07,0.32,0.04,0.23,0.01,1.76,0.02,0.19,0.19,0.06,0.17,0.22,1.12,0.11,0.27,0.16,0.05,0.48,0.25,1.11,0.05,0.05,0.02,0.28,0.58,0.29,10.55,0.04,0.17,0.24,0.44,0.07,0.13,0.09,1.16,2.28,0.22,0.09,0.03,0.1,2.22,0.33,0.02,0.3,0.03,0.08,0.08,0.16,1.49,0.02,0.14,0.51,0.92,0.09,0.03,0.13,9.49,0.26,0.05,0.12,0.36,0.11,0.19,0.02,0.11,0.46,0.02,0.12,0.46,0.29,0.28,1.02,0.11,0.11,3.87,1.14,0.04,0.6,0.49,0.01,0.05,0.12,0.04,0.16,0.04,0.07,0.25,0.04,0.01,3.33,0.3,0.57,0.15,1.79,0.02,0.5,0.17,0.07,0.62,0.07,0.01,3.85,1.45,0.37,0.12,0.25,0.27,0.24,0.17,0.41,3.33,0.03,0.52,0.54,0.12,0.2,0.09,0.27,0.18,0.4,1.52,0.05,0.04,0.2,0.21,1.09,0.27,0.13,0.02,0.04,0.27,0.06,1.09,0.04,1.0,0.29,1.66,0.13,0.01,0.59,0.08,0.02,3.63,0.02,0.68,0.26,0.35,0.11,0.19,0.01,0.64,0.71,0.11,0.13,0.71,0.19,0.06,0.24,0.56,1.63,0.64,0.07,4.82,0.4,0.07,0.02,0.04,0.14,0.06,0.03,0.1,0.08,0.92,0.29,0.01,0.11,0.2,0.07,0.31,0.17,0.94,0.7,0.04,0.2,0.21,0.2,0.36,0.64,0.04,0.54,0.06,0.32,0.04,0.05,0.08,0.06,0.28,0.18,0.15,0.28,0.03,0.01,0.55,1.1,0.05,0.47,0.01,0.1,0.06,0.72,0.05,0.32,1.68,0.45,0.03,0.82,0.28,0.04,2.09,0.05,0.12,0.92,0.75,0.14,0.04,0.05,0.01,0.08,0.26,0.44,0.55,0.18,0.89,0.65,0.4,0.21,0.45,0.57,0.04,0.09,0.01,0.2,1.92,0.14,14.24,0.1,0.15,0.12,0.09,0.01,0.05,0.19,0.03,0.26,0.69,0.09,0.34,3.22,0.05,0.32,0.12,0.14,0.28,0.29,0.36,0.01,0.44,0.08,0.12,0.49,0.74,0.23,0.4,0.41,4.09,0.01,0.24,1.6,0.13,0.34,0.44,1.26,0.19,0.66,0.11,1.93,0.3,0.1,1.05,0.92,0.01,0.07,0.02,0.18,0.15,0.62,0.69,0.11,0.18,0.16,0.04,3.36,0.19,2.45,0.24,0.14,0.58,0.04,0.02,0.14,0.22,0.32,2.31,0.05,0.03,0.7,0.04,0.02,0.2,0.03,0.1,0.26,5.58,0.47,0.01,0.06,0.03,0.02,0.02,0.52,4.58,0.01,0.94,0.1,0.36,0.22,0.1,0.61,0.24,0.28,0.08,0.37,0.01,0.01,0.05,0.17,0.46,0.35,0.02,3.21,0.07,0.28,0.48,0.66,7.16,1.64,0.22,1.63,0.41,0.04,0.1,0.02,0.12,0.5,0.3,3.32,0.05,0.23,0.15,0.09,0.55,0.11,0.69,0.27,0.02,0.43,0.22,0.1,0.29,0.23,0.2,0.25,1.71,1.72,0.03,1.54,4.98,0.13,0.18,4.53,0.72,0.31,2.99,0.01,0.64,0.22,0.06,0.06,0.07,0.16,0.57,0.76,0.17,0.3,0.37,0.04,0.04,0.1,0.07,0.01,0.12,0.48,0.07,0.01,0.06,0.51,0.16,0.1,0.03,0.32,0.45,0.06,0.26,0.01,0.08,0.78,0.01,0.28,0.08,0.4,0.25,0.65,0.26,0.12,0.02,0.02,0.28,0.15,0.17,0.44,0.9,0.71,0.32,0.31,0.5,0.23,0.35,0.06,0.04,0.17,0.09,0.45,0.02,0.17,0.02,0.18,0.05,0.01,0.21,0.23,0.05,0.27,0.13,2.25,0.04,0.14,0.01,0.05,0.54,0.2,1.23,0.2,0.28,1.36,0.16,0.12,0.21,0.04,0.06,0.03,0.89,0.16,0.06,1.65,0.19,0.47,0.43,2.28,0.02,0.41,0.1,0.09,0.48,0.37,1.06,0.34,0.34,0.07,0.04,0.06,0.29,0.08,0.05,0.05,0.67,0.05,0.6,0.06,0.12,0.15,0.46,2.21,0.08,0.02,0.04,0.02,0.49,0.21,4.57,0.07,0.22,0.01,0.28,1.02,1.59,0.21,1.14,0.25,0.01,0.36,0.21,2.01,0.28,0.02,0.21,0.77,0.05,2.37,1.08,0.75,0.29,0.04,0.14,0.09,0.35,0.09,1.07,0.55,0.04,0.02,0.52,0.32,0.15,0.38,0.06,0.42,0.07,0.27,5.5,0.16,0.09,0.26,0.03,0.01,0.09,0.35,0.03,0.61,2.0,0.3,0.3,0.01,0.06,0.01,0.13,0.04,0.02,0.15,0.88,0.02,0.05,0.02,0.02,0.05,0.9,0.71,1.09,0.11,0.04,0.05,1.33,0.08,1.83,0.23,0.02,0.11,0.01,0.14,0.24,0.32,0.04,0.23,0.09,1.09,1.3,0.3,0.5,0.08,0.04,0.56,0.45,0.01,0.01,0.3,0.06,0.09,0.02,0.09,0.1,0.07,0.17,2.13,0.2,0.14,0.1,0.01,0.12,0.31,0.02,0.33,0.75,0.18,0.8,3.89,0.07,0.79,0.07,0.09,0.15,0.03,1.04,0.1,0.02,0.14,0.03,0.1,1.76,0.55,3.28,0.16,0.44,0.16,0.47,0.26,0.77,0.52,0.09,2.41,0.1,0.04,0.4,0.54,0.07,0.1,0.02,0.39,0.01,0.19,0.4,0.04,0.07,1.48,0.07,1.85,0.33,0.14,0.15,0.61,0.61,0.23,0.07,0.02,0.46,0.47,0.34,0.38,0.02,0.8,0.09,0.07,0.31,0.56,0.07,0.54,0.21,0.04,0.52,0.13,0.17,1.48,2.38,0.17,0.06,0.01,0.55,0.11,0.41,0.11,0.43,2.77,0.54,0.25,0.52,0.04,0.97,0.09,0.16,0.09,1.5,0.25,0.26,0.02,0.26,0.1,0.06,0.02,2.09,0.38,0.08,0.11,0.19,0.38,0.41,0.2,1.02,0.35,0.06,0.03,0.03,0.19,5.31,0.43,2.59,13.46,0.21,0.46,0.02,0.03,0.53,0.03,0.87,0.38,0.08,1.06,0.5,0.12,0.25,0.78,0.11,0.2,0.07,1.7,0.12,0.24,0.49,0.29,2.85,1.18,0.03,0.03,0.07,0.19,2.08,0.2,0.28,0.38,0.41,1.17,0.02,0.09,0.03,0.05,1.4,1.2,0.88,0.07,0.19,0.42,0.39,0.07,0.29,0.04,0.07,0.94,0.21,0.04,0.11,1.66,0.04,0.24,0.05,0.25,3.64,2.76,0.06,0.03,0.36,0.18,0.08,0.1,0.44,0.11,0.82,0.31,0.08,2.79,0.41,0.25,0.04,0.14,0.45,0.03,0.5,0.04,0.33,5.13,0.51,0.18,0.19,0.04,1.19,0.11,0.26,0.26,0.11,0.14,0.08,0.23,0.02,0.31,20.61,0.22,0.16,0.01,0.01,0.13,0.41,0.01,0.14,0.04,0.06,0.07,0.59,0.16,0.03,0.72,0.02,0.25,0.01,0.18,0.32,0.26,0.17,0.02,0.21,0.38,0.25,0.6,2.09,0.18,0.05,0.56,0.07,0.13,0.03,1.15,0.36,0.31,0.73,0.1,1.77,0.01,0.28,0.09,0.82,0.06,0.08,0.13,0.47,0.74,0.02,0.41,0.03,0.81,0.08,0.3,0.19,0.7,0.51,0.11,0.46,0.02,0.01,0.54,0.38,0.02,0.03,0.51,0.28,0.61,0.07,0.1,0.3,0.09,0.21,0.25,0.1,0.06,0.01,0.62,0.58,0.17,0.06,0.43,0.05,2.78,0.32,0.12,0.55,0.08,2.21,0.27,0.3,0.09,0.64,0.29,0.44,1.13,0.27,0.18,0.81,0.01,0.47,0.03,0.68,0.03,1.29,1.26,1.03,0.53,0.34,0.08,1.78,1.72,0.13,0.19,0.07,0.06,0.37,0.3,0.62,0.13,0.04,0.06,0.25,0.11,0.06,2.53,0.17,0.64,0.35,0.2,0.27,0.07,0.02,0.1,0.01,0.56,0.45,0.08,0.01,0.36,0.13,0.02,0.27,0.03,0.07,0.1,0.03,0.87,1.17,0.31,0.25,0.97,0.02,0.08,0.66,1.53,0.61,0.15,0.03,0.95,0.1,0.12,0.41,0.07,0.08,0.55,0.44,0.04,0.04,0.08,0.05,0.33,0.08,0.29,0.03,0.06,0.25,0.14,0.21,0.14,0.04,0.24,0.18,0.08,0.54,0.13,0.31,0.85,3.54,1.04,2.11,0.04,0.49,0.28,0.84,0.48,0.06,0.05,0.05,0.04,0.74,0.2,0.32,0.07,0.05,0.45,0.05,0.37,0.55,0.19,0.06,0.13,0.16,0.18,0.02,0.07,0.17,0.69,0.02,5.92,13.1,0.02,0.04,0.08,0.03,0.66,0.07,0.35,1.2,0.84,0.4,0.18,2.23,0.2,0.29,0.09,0.1,0.09,0.32,0.79,0.05,0.03,0.05,0.14,0.14,0.31,0.32,0.16,0.75,0.09,0.06,0.12,0.53,0.93,1.15,0.26,0.29,0.47,0.02,0.08,0.04,0.16,0.02,0.38,0.1,1.22,0.32,0.29,0.33,0.25,2.68,0.06,0.92,0.4,0.02,0.1,0.06,0.19,0.27,0.33,17.28,4.77,0.03,1.2,0.14,0.48,0.07,0.07,0.07,0.14,0.07,0.11,0.02,0.12,0.05,0.26,1.88,0.12,1.35,0.16,0.57,0.04,0.11,0.04,0.2,1.08,1.34,0.06,0.05,0.08,0.07,2.03,0.12,0.07,0.57,0.24,0.06,0.1,0.01,0.47,0.02,0.07,0.04,0.09,4.91,0.13,0.02,0.11,0.44,0.69,0.07,0.03,0.1,0.42,0.33,1.97,0.21,0.07,0.03,0.21,1.73,0.04,0.05,0.73,0.05,0.02,0.44,0.51,0.01,0.47,0.4,0.23,0.78,0.1,0.06,0.44,0.04,0.03,0.29,0.1,0.38,0.39,0.15,0.01,0.01,0.26,0.63,0.63,0.41,0.01,0.04,0.07,0.29,0.15,0.04,1.23,0.11,0.02,0.03,0.04,0.04,0.48,0.65,0.08,0.08,0.02,0.14,0.04,0.16,0.06,1.18,0.19,0.15,0.03,1.35,0.15,0.84,0.14,0.31,0.94,0.09,0.17,3.31,0.4,0.05,0.08,0.56,0.06,1.77,0.08,0.37,0.16,0.18,0.2,0.41,0.01,0.01,0.05,0.17,0.19,0.1,0.18,0.05,0.4,0.03,0.74,0.02,0.3,0.03,0.91,0.19,0.13,0.99,5.15,0.05,0.72,1.94,1.48,4.07,0.1,0.04,0.57,0.07,0.28,6.82,0.05,0.05,0.06,2.15,0.16,3.07,2.31,0.97,0.47,0.14,0.29,0.04,0.17,1.87,0.03,0.99,0.26,1.21,0.16,0.1,6.59,0.31,0.57,0.46,0.05,0.39,1.07,2.07,0.73,0.23,0.04,1.64,1.39,0.04,2.8,0.62,0.03,1.12,0.6,0.32,0.81,0.04,0.52,0.02,0.02,0.11,0.37,0.11,0.14,0.02,0.09,0.33,0.08,0.01,0.07,0.18,0.03,0.05,0.17,0.04,0.55,0.19,0.14,0.02,1.04,0.06,0.92,0.58,0.04,0.04,0.02,0.09,0.35,0.18,0.16,0.02,0.02,0.05,0.24,0.16,0.12,0.06,0.58,0.53,0.08,0.01,0.17,0.3,0.34,0.38,0.06,0.41,0.2,1.02,0.3,0.18,0.02,0.24,0.87,0.3,0.2,0.38,0.04,0.01,0.57,1.73,0.12,0.1,0.15,0.2,0.2,1.63,0.15,0.29,0.13,0.01,0.35,0.06,0.15,0.01,0.04,0.76,0.07,0.86,0.09,0.18,0.34,0.6,0.08,0.02,0.06,0.03,0.39,0.18,2.28,0.02,0.16,0.16,0.1,0.11,1.15,0.2,0.01,0.03,0.02,0.09,0.03,0.27,0.09,0.09,0.07,0.09,0.02,0.47,0.56,0.02,0.02,0.19,0.12,0.01,0.01,0.02,0.03,0.02,0.38,0.1,1.46,0.01,0.03,0.05,0.2,0.64,0.42,0.04,0.12,0.13,0.47,0.12,1.05,0.09,0.7,0.08,0.19,0.05,2.05,0.08,0.12,0.15,0.03,0.31,0.02,0.3,0.05,0.16,0.19,0.86,0.27,0.01,0.89,0.18,0.44,0.12,0.45,0.05,0.05,0.09,0.04,0.14,0.47,0.15,0.17,0.02,0.03,0.06,0.07,0.4,0.02,0.05,0.23,0.02,0.25,14.64,0.03,0.24,0.31,0.85,0.27,0.98,0.33,0.16,0.05,3.17,0.75,0.02,0.02,0.06,0.01,0.01,0.11,0.61,3.13,2.8,0.8,0.02,0.43,0.05,0.07,0.09,0.12,1.79,1.45,2.39,0.65,0.05,0.08,0.02,21.82,9.52,0.09,0.03,0.1,0.01,0.02,0.04,0.49,4.23,0.79,0.17,0.46,0.28,0.08,0.05,0.02,0.04,0.95,0.71,1.74,0.08,0.25,0.26,0.11,0.23,0.2,0.01,0.39,0.29,0.03,0.28,0.3,0.03,0.05,0.47,0.47,0.22,0.17,0.17,0.64,0.29,0.11,0.13,0.13,0.05,0.57,0.13,0.01,0.23,1.11,1.92,0.11,1.43,1.13,0.7,2.07,0.17,1.53,0.16,0.17,0.72,0.14,0.66,0.09,0.36,0.38,1.09,2.54,0.08,0.67,0.08,0.02,0.05,0.16,0.89,0.33,0.06,0.07,0.05,0.07,0.64,6.36,0.08,0.43,0.01,0.01,0.64,0.01,0.07,0.08,11.02,0.14,0.02,0.04,0.04,0.8,0.05,2.08,0.8,0.07,0.58,4.61,0.21,0.02,1.55,0.12,0.06,0.36,1.41,0.05,0.44,0.03,0.04,0.05,0.37,0.26,6.81,0.21,0.67,0.05,1.77,0.53,4.45,0.11,0.03,0.57,0.43,0.03,0.49,0.76,0.1,0.24,0.06,0.03,0.53,0.1,2.78,1.13,0.18,0.1,0.06,0.27,3.38,0.46,0.03,0.33,0.1,0.36,0.04,0.36,0.31,1.35,0.85,1.25,0.15,2.83,0.48,0.02,0.02,0.01,0.36,0.49,0.02,2.94,0.15,0.63,0.06,1.67,0.2,0.01,0.04,5.23,0.59,0.08,0.13,0.06,0.3,0.47,0.25,0.02,0.06,0.38,0.24,0.01,0.17,0.01,0.18,1.31,0.32,0.01,0.06,2.22,0.43,0.02,0.75,0.14,0.21,0.4,0.13,0.08,0.1,0.07,0.01,0.18,0.01,2.83,0.21,0.46,0.07,0.28,0.08,0.14,0.15,1.46,0.14,0.21,0.18,0.07,0.47,0.03,0.55,2.05,0.16,0.02,0.09,0.05,0.61,0.08,0.12,0.02,0.7,1.92,0.9,2.67,0.04,0.15,0.11,0.45,0.06,0.31,0.92,0.03,0.34,0.03,0.08,1.91,0.23,0.05,1.66,0.46,0.19,0.23,1.16,0.31,3.52,0.84,0.02,0.24,14.76,0.69,0.22,0.41,0.3,1.33,0.27,28.31,0.04,0.46,0.29,0.32,0.07,0.07,0.02,0.19,0.46,0.1,0.03,0.1,0.23,0.01,0.02,0.71,0.15,0.75,0.95,4.25,0.07,0.03,0.02,0.35,0.61,0.62,0.36,0.52,0.07,0.3,0.5,0.45,0.17,0.74,0.12,0.06,0.58,0.04,0.05,0.2,0.05,0.38,0.48,0.04,0.14,2.09,0.46,0.02,0.09,0.12,0.56,0.58,0.16,0.54,0.16,0.19,1.46,0.08,0.13,0.96,0.05,0.11,0.24,0.04,0.08,0.27,0.07,0.28,0.01,0.06,0.89,0.27,2.56,0.76,0.63,0.12,0.03,2.48,0.3,0.07,0.04,0.09,0.09,0.12,0.08,0.04,0.13,0.06,0.38,0.78,0.07,0.27,0.04,0.09,0.01,0.21,0.09,0.56,0.2,0.12,0.06,0.24,0.06,0.48,0.04,1.81,0.89,0.26,0.05,1.68,0.05,0.02,0.32,0.07,0.03,0.85,0.16,1.5,0.01,0.04,0.53,0.01,0.18,0.31,0.11,0.39,0.04,0.42,0.02,0.62,0.13,0.02,0.11,0.12,0.1,0.06,0.54,0.44,0.06,0.62,0.2,0.03,1.3,0.06,0.46,0.58,0.06,0.11,0.11,0.05,0.57,0.03,0.26,0.33,0.59,0.52,0.17,0.08,0.27,0.06,0.02,0.96,2.15,0.46,0.25,3.02,0.19,0.4,0.07,0.07,0.1,0.02,0.1,0.29,0.02,3.82,0.04,0.02,0.06,0.75,0.71,0.3,0.23,1.7,1.15,0.16,0.03,0.45,0.24,1.78,0.09,0.03,0.14,0.41,0.3,0.1,0.32,0.08,0.44,4.17,0.13,0.87,0.2,0.28,0.04,8.76,0.1,0.1,0.04,0.24,0.09,1.35,0.03,2.62,0.02,0.14,0.01,0.02,0.16,0.03,0.35,0.28,0.08,0.44,0.26,0.15,0.09,0.19,0.03,0.68,0.21,0.09,0.66,0.03,0.02,0.05,0.07,1.1,0.26,0.01,2.11,0.12,0.02,0.76,0.75,0.06,0.31,0.32,0.03,0.46,0.05,0.32,0.16,0.02,0.26,0.3,0.03,0.23,0.02,0.05,0.74,1.23,0.59,0.32,0.66,1.25,0.02,0.02,0.02,1.95,0.06,0.06,0.06,0.85,0.02,0.09,0.71,1.27,0.37,1.93,0.04,2.0,0.01,0.07,0.08,0.02,1.0,0.03,0.01,0.3,1.17,0.15,0.07,0.11,0.16,0.55,0.21,0.15,0.07,0.56,0.09,2.49,0.22,0.11,0.13,0.06,0.03,0.28,0.02,0.04,0.75,1.45,0.22,1.38,0.13,0.59,1.96,0.03,0.14,0.68,0.51,0.06,1.56,0.35,0.15,1.12,0.25,1.21,0.04,0.08,0.01,0.02,0.83,0.18,0.28,1.12,1.34,0.03,0.02,2.0,3.07,2.2,0.42,0.01,0.02,0.66,0.03,0.02,0.05,3.65,0.97,0.35,1.86,0.04,0.06,0.17,1.96,1.41,0.02,0.13,0.42,2.35,1.09,1.29,0.91,0.01,0.15,4.79,0.32,0.03,0.33,0.05,0.75,0.38,0.24,0.02,0.05,0.43,0.3,1.07,0.54,0.05,0.53,0.07,0.75,0.32,0.48,0.12,0.06,0.04,0.11,0.16,0.86,0.33,0.91,0.12,0.16,0.54,0.12,0.01,0.27,0.17,7.37,0.89,0.28,0.39,0.39,0.12,0.14,0.13,0.02,1.13,0.36,0.04,0.02,0.41,0.51,0.11,0.04,0.58,0.16,0.11,0.11,0.2,0.16,0.88,0.6,0.23,0.45,0.02,4.94,0.17,4.31,0.01,0.59,0.27,0.57,0.02,0.17,0.02,0.14,0.49,0.13,0.03,0.04,0.72,0.04,0.63,0.17,0.22,0.7,0.06,0.81,0.02,0.18,0.57,0.2,0.01,0.04,0.03,0.01,0.05,0.12,0.02,0.99,0.51,0.29,0.27,0.11,0.11,0.08,1.61,0.41,0.04,0.46,0.15,0.02,0.16,0.82,0.09,0.24,0.09,0.14,0.5,0.11,0.26,0.06,0.13,2.06,0.02,0.62,0.03,0.06,0.01,0.05,0.27,0.25,1.5,0.86,0.08,0.52,0.26,0.03,0.02,0.08,2.88,1.68,0.13,0.82,0.4,0.06,0.02,0.06,0.1,0.06,0.4,1.52,0.43,0.02,0.27,0.16,0.06,0.76,0.12,0.03,0.39,0.03,0.1,0.47,0.3,0.13,0.1,0.04,1.24,0.58,0.21,0.72,0.94,0.03,0.03,0.43,0.28,0.19,0.02,0.33,0.05,0.09,0.14,0.46,0.59,2.1,0.25,0.18,0.29,0.04,0.36,0.03,0.36,0.03,0.09,0.16,0.08,0.02,0.07,0.35,11.89,0.01,0.39,1.11,0.03,0.18,0.05,0.02,0.57,0.07,0.02,0.02,0.02,0.11,0.21,0.03,0.09,0.01,0.03,0.19,0.06,0.23,3.66,3.89,0.02,0.29,1.83,0.04,0.22,1.25,0.02,0.44,0.17,1.18,0.44,0.45,0.17,0.43,0.16,0.45,0.19,0.76,0.09,0.11,0.73,0.41,0.14,1.27,0.24,0.08,0.09,0.25,0.42,0.76,0.34,1.2,0.14,0.17,0.11,0.26,0.32,0.03,0.06,3.08,0.58,0.08,0.2,0.13,0.29,0.15,0.38,0.29,0.07,3.17,0.22,4.01,0.29,0.89,0.03,0.28,2.41,0.11,0.04,0.06,0.1,0.1,0.29,0.19,0.13,0.07,0.01,1.09,0.14,2.12,0.6,0.08,2.35,1.82,0.25,0.02,0.05,0.33,0.1,0.11,0.08,1.44,0.28,0.07,0.39,0.49,0.09,0.25,1.14,0.11,4.44,0.04,0.5,0.01,0.05,0.05,0.6,0.09,0.17,0.31,0.05,0.13,0.02,1.08,0.15,0.7,0.18,0.31,0.03,0.1,0.11,0.02,0.6,0.82,0.07,0.09,0.89,0.06,0.13,0.08,0.02,0.01,0.2,0.63,0.54,0.01,0.08,0.89,0.05,0.33,0.6,0.07,0.03,1.42,0.28,0.26,0.98,1.86,0.08,0.03,0.63,0.05,0.03,0.11,0.13,2.93,2.52,0.22,0.17,1.86,0.01,0.12,0.38,0.24,0.11,0.11,0.47,0.05,0.28,0.03,0.79,0.62,0.01,0.08,1.45,0.42,0.8,0.35,0.53,0.14,0.12,0.08,1.06,0.27,0.02,0.06,0.16,0.09,0.02,0.03,0.14,0.25,0.01,0.71,1.69,0.34,1.32,0.16,15.3,1.14,0.07,2.05,0.02,0.41,0.15,0.39,0.32,0.7,0.02,0.06,0.08,1.42,0.06,0.2,0.45,0.54,0.74,0.06,2.23,0.01,0.44,0.08,0.13,0.01,0.01,0.11,0.02,0.93,0.29,0.08,0.1,0.26,0.01,0.13,0.04,0.14,0.24,0.36,0.09,0.03,0.36,0.17,0.05,0.31,0.93,0.22,0.85,0.01,0.05,0.03,0.01,0.35,1.49,0.02,1.25,0.02,0.19,0.48,0.02,0.01,0.03,0.41,0.08,0.01,0.57,1.8,2.44,0.05,0.04,0.06,0.05,1.44,0.19,0.01,0.38,0.5,2.63,0.17,0.04,0.78,0.35,0.07,3.69,2.94,0.07,0.08,0.02,0.32,0.37,1.48,1.01,0.12,0.2,0.45,0.19,0.78,0.2,2.68,5.55,0.05,0.04,0.3,0.23,3.33,0.41,0.04,0.71,0.15,4.42,0.13,0.04,0.03,0.18,0.02,0.44,0.68,0.02,0.11,0.14,0.14,0.09,0.76,0.51,0.3,0.16,0.09,0.02,1.09,0.33,0.02,0.06,0.03,0.03,0.59,0.03,0.03,0.02,0.21,0.2,0.03,0.01,0.16,0.03,0.01,0.13,0.1,0.58,0.22,0.21,0.65,0.14,0.04,0.04,0.7,3.05,0.01,82.74,0.41,0.06,0.01,0.03,0.19,0.03,0.03,0.94,0.39,0.14,1.05,0.02,0.02,0.15,0.02,0.02,0.31,0.06,0.03,0.08,3.6,0.03,0.14,0.17,0.06,0.38,0.92,0.5,0.11,0.36,0.22,0.33,2.48,0.24,0.06,0.26,2.58,0.03,0.25,0.06,0.21,1.01,0.54,0.24,0.03,0.53,0.02,0.15,0.76,0.01,0.03,0.06,0.05,0.03,0.02,0.5,1.58,0.02,1.27,0.33,1.01,0.05,0.76,1.22,0.02,0.02,0.28,0.14,0.04,0.04,0.01,0.27,0.2,0.14,0.01,1.58,0.35,0.28,0.59,0.1,2.69,0.2,0.91,0.11,0.11,0.12,0.93,0.27,0.11,3.65,1.66,0.21,1.19,0.61,0.03,0.03,0.02,0.02,0.01,0.15,0.26,0.06,1.47,0.12,0.28,0.04,0.07,0.47,0.41,1.86,8.42,0.17,0.08,1.33,0.09,0.27,0.01,8.33,0.48,0.11,0.17,0.16,2.41,0.05,0.34,0.01,0.04,1.63,0.26,0.97,0.54,0.13,0.42,0.02,0.09,0.14,0.12,1.73,0.15,0.1,0.08,0.22,0.15,0.01,0.07,0.19,0.02,0.02,0.59,0.02,0.45,0.9,0.2,0.17,0.44,0.56,0.04,0.41,0.18,0.23,0.26,0.04,1.09,0.24,0.16,0.43,0.04,0.15,0.35,2.17,0.19,0.61,0.67,0.23,0.17,1.35,0.14,1.22,0.14,0.03,0.04,0.08,0.02,0.16,1.31,0.57,0.34,0.24,0.69,1.71,0.09,0.2,0.03,0.52,0.24,0.34,0.08,0.3,0.45,0.24,0.6,0.07,0.26,0.23,0.1,0.57,0.08,0.62,0.35,0.4,0.28,0.04,0.25,6.31,0.25,0.02,0.58,0.07,0.34,0.19,0.04,0.01,0.07,0.2,0.8,0.06,0.43,0.21,1.06,0.04,0.04,0.01,0.19,4.58,0.57,0.03,1.37,0.22,0.45,0.16,0.32,0.36,0.02,0.19,0.01,0.1,0.46,0.51,0.19,0.06,0.49,0.6,0.07,0.18,0.05,3.84,0.13,0.12,0.12,0.53,0.56,12.27,0.07,0.17,0.05,0.01,0.08,0.2,0.58,0.07,0.07,0.05,0.68,0.65,0.16,1.11,0.05,3.5,6.5,2.52,0.14,0.01,2.05,0.12,0.06,0.05,0.27,0.04,0.06,1.42,0.02,0.5,0.01,0.14,0.24,0.11,0.22,0.69,0.17,0.05,0.23,0.06,0.02,0.22,0.17,0.33,0.99,0.22,0.01,2.09,1.06,1.35,0.91,0.07,0.13,0.11,0.14,0.76,0.38,0.52,0.12,0.11,0.89,0.09,0.02,0.27,0.28,0.02,4.06,0.49,0.01,7.72,0.76,0.03,1.53,0.47,0.34,0.02,0.5,0.06,0.05,0.5,0.08,0.02,0.27,0.07,0.22,0.59,0.1,0.31,0.1,0.36,0.55,0.04,0.17,1.3,0.54,0.13,0.09,0.1,0.13,0.12,0.11,0.02,0.71,0.02,0.05,0.03,0.02,0.02,0.08,0.26,0.14,0.43,0.01,0.41,0.02,0.15,0.05,0.18,0.09,1.99,0.19,0.57,0.02,0.17,1.71,0.05,0.96,0.08,0.13,0.06,0.03,0.9,0.01,4.1,0.34,0.06,0.37,0.84,0.05,0.8,0.36,0.25,0.63,0.39,0.02,0.16,0.36,0.25,2.79,0.08,1.5,0.11,5.19,0.27,0.49,0.08,1.16,0.02,2.2,0.03,0.14,0.16,0.22,0.16,0.12,0.06,0.15,0.02,0.05,0.38,0.2,0.01,1.7,3.52,0.04,0.9,0.24,0.14,1.68,0.58,0.1,2.01,1.08,0.24,0.34,0.38,0.05,0.12,0.36,0.89,0.3,0.02,1.47,0.19,0.11,1.52,0.13,0.03,0.03,0.76,0.92,0.11,1.13,0.08,0.09,0.55,1.69,0.14,0.15,0.67,0.06,0.89,0.27,0.04,0.27,0.11,0.07,0.24,0.12,1.01,2.79,0.05,0.03,0.45,0.04,1.62,0.21,0.41,0.02,0.01,0.8,0.1,0.45,0.33,0.02,1.17,0.38,0.11,0.13,0.97,0.02,1.67,0.6,0.2,0.2,0.23,0.48,0.02,0.02,0.1,0.04,0.02,0.21,0.39,0.89,0.02,0.2,0.2,0.06,0.48,0.15,0.07,0.05,0.06,0.39,0.02,0.05,0.06,0.07,0.02,0.04,0.25,0.08,0.08,0.18,0.68,1.16,0.02,0.02,0.13,0.35,0.96,0.14,0.12,0.28,0.01,0.89,0.13,0.02,2.1,0.01,0.02,0.14,0.72,0.01,0.09,0.02,0.65,0.63,0.03,0.1,1.05,0.05,0.05,0.28,0.18,0.46,0.25,0.06,1.47,0.36,0.05,0.23,0.02,0.05,2.28,0.25,0.92,0.71,0.06,0.15,0.26,0.01,0.03,0.5,11.98,0.45,0.07,0.12,0.41,0.2,0.2,0.12,0.28,0.57,1.47,0.34,0.02,0.71,0.06,0.46,0.09,0.02,0.12,0.32,1.22,0.1,0.03,0.01,0.02,0.18,0.06,0.03,0.19,1.5,0.63,0.93,0.07,0.02,0.11,1.46,0.27,0.16,0.01,0.49,0.04,0.11,0.07,0.08,0.08,0.02,0.23,0.01,0.03,0.83,0.03,0.04,0.21,0.61,0.53,0.04,0.16,0.6,1.55,0.04,0.03,0.19,1.54,0.16,0.22,0.04,0.13,0.1,0.02,0.03,0.1,0.08,0.04,0.5,0.08,0.06,0.68,0.27,0.08,0.31,0.91,0.14,0.83,0.2,0.14,1.02,0.42,0.16,0.08,0.84,0.25,0.11,0.05,0.02,0.01,0.28,0.04,0.02,0.58,0.09,2.17,0.1,0.05,0.5,0.27,1.54,0.94,0.05,0.05,0.2,0.09,0.08,0.28,0.24,0.04,0.04,0.79,0.35,0.03,0.05,0.01,0.22,0.02,0.49,1.11,0.05,0.17,0.02,0.1,1.58,0.39,0.04,0.42,0.17,0.76,0.43,0.01,0.04,0.22,0.11,0.12,0.02,0.06,0.04,0.56,0.26,0.06,3.83,0.81,0.33,0.09,0.24,1.71,0.29,0.06,0.14,0.23,0.04,0.12,0.26,0.26,0.09,0.15,0.01,0.01,0.05,0.48,0.42,0.15,0.8,0.03,0.01,1.64,0.43,0.66,0.2,0.65,0.1,0.03,0.09,0.23,0.05,1.38,0.22,2.82,0.02,0.09,0.43,1.29,0.19,0.3,0.11,0.07,0.02,0.03,0.02,0.07,0.03,0.05,0.27,0.03,0.3,0.18,0.08,0.02,0.04,0.05,0.1,0.04,0.04,0.28,0.28,1.23,0.1,0.21,0.11,0.47,0.09,0.01,0.12,0.02,0.09,0.01,0.66,0.06,0.41,0.63,0.25,0.39,0.1,0.03,0.01,0.02,0.2,0.09,0.33,0.16,0.05,0.13,0.53,0.02,0.02,0.04,0.02,0.01,0.15,0.67,0.02,0.05,0.06,0.13,0.22,0.02,2.07,0.53,0.13,0.16,0.22,1.03,0.03,0.06,0.04,0.1,0.06,0.13,1.14,0.46,0.11,0.05,0.73,0.45,0.1,0.12,0.68,0.03,0.06,2.9,0.84,1.32,0.66,0.04,0.26,0.04,0.41,0.02,0.16,0.08,1.46,0.06,0.47,0.69,0.12,0.05,0.16,1.37,0.63,0.11,0.11,0.01,0.28,0.07,0.16,0.01,1.21,0.37,3.38,0.06,0.19,0.45,0.27,0.14,2.38,0.04,0.66,0.18,0.16,0.32,0.02,0.32,6.11,0.38,0.03,1.94,0.09,0.03,0.14,0.08,0.34,0.33,0.11,0.66,0.33,0.59,0.3,0.24,0.02,0.03,0.54,0.17,0.02,0.18,0.08,1.69,0.05,0.1,0.01,0.01,0.05,1.83,0.02,0.25,0.11,1.34,0.06,0.04,0.08,0.05,0.43,0.01,0.3,0.08,1.56,0.4,0.41,0.03,0.05,0.06,0.02,0.28,0.05,0.23,0.24,0.27,0.08,0.19,0.58,1.08,0.04,0.59,0.22,0.03,0.02,0.09,0.67,0.22,0.25,0.11,0.05,0.44,0.59,0.03,0.06,0.03,0.05,0.11,1.73,0.01,0.07,2.97,0.29,0.12,0.02,0.06,0.09,0.34,0.17,0.06,0.42,0.06,1.42,0.02,0.03,0.08,0.19,0.13,0.13,0.33,0.23,0.72,3.27,0.02,0.33,0.13,0.11,0.09,0.04,0.26,0.09,0.12,0.39,0.22,0.15,0.08,0.07,0.05,0.27,1.07,0.72,0.06,0.35,16.15,0.28,9.87,0.07,0.18,0.27,2.57,13.04,0.38,0.02,0.26,1.08,0.15,1.23,0.26,0.21,0.23,0.03,0.21,0.03,0.14,1.49,1.32,0.01,0.26,0.96,0.65,0.01,0.33,0.25,1.85,0.1,0.4,0.22,0.58,0.13,0.66,0.07,0.05,0.09,0.46,0.06,0.01,0.27,0.01,0.05,0.4,0.04,0.08,0.33,1.21,0.37,0.15,0.31,0.02,0.08,0.33,0.01,0.03,0.13,0.07,0.86,0.84,0.22,0.14,0.04,0.23,0.1,0.08,0.41,0.02,0.26,0.27,1.45,0.44,0.13,0.31,0.17,2.68,0.96,4.88,0.04,0.24,0.06,0.01,0.02,0.03,0.02,0.13,0.01,0.03,0.01,0.17,0.03,0.11,2.79,0.06,0.32,0.62,0.08,0.41,1.03,0.12,0.1,0.11,0.03,0.13,0.23,1.26,0.87,0.02,0.2,0.12,0.03,0.29,0.01,0.3,0.02,0.11,0.48,0.15,2.37,0.08,1.19,0.29,0.02,0.63,0.03,0.05,0.1,0.05,0.04,0.47,0.12,0.5,0.02,0.09,0.09,0.24,0.36,0.07,0.06,0.11,0.27,0.11,1.37,0.24,0.03,0.42,0.13,0.04,0.02,22.0,0.08,0.56,0.11,2.11,3.15,0.16,0.17,0.6,0.12,0.17,0.17,0.16,0.94,0.05,0.02,0.11,0.12,1.12,2.69,0.13,0.06,0.11,0.14,0.06,6.05,0.05,0.08,0.11,0.07,0.56,0.16,0.31,0.38,0.04,0.09,0.03,0.1,0.09,0.02,0.05,0.86,0.25,0.03,0.07,0.02,0.05,0.02,1.45,0.06,0.22,0.42,0.07,0.98,0.21,0.4,0.17,0.02,0.19,0.06,0.13,0.01,0.03,0.25,1.07,0.05,0.08,4.19,0.02,0.03,0.28,0.37,0.16,0.01,0.09,0.13,0.27,3.5,0.3,1.19,0.06,0.81,0.01,0.26,0.19,0.19,0.1,3.99,1.93,0.02,1.88,0.09,0.1,0.23,1.32,1.59,1.35,0.02,5.17,0.25,0.04,0.47,0.09,0.07,1.14,0.01,0.37,0.53,1.51,0.04,0.09,1.01,0.31,0.03,3.04,0.15,0.19,0.2,0.05,0.02,0.02,0.24,0.06,0.08,2.42,0.03,0.03,0.73,0.65,0.06,0.03,0.16,0.11,0.36,6.73,0.06,0.19,0.59,0.04,0.24,0.12,0.02,0.48,0.63,18.36,0.49,0.06,0.09,0.09,0.12,1.46,0.33,0.1,1.38,0.02,0.91,0.16,0.02,0.03,0.01,0.08,0.14,0.06,0.06,1.0,0.64,0.4,0.28,2.4,0.54,0.02,0.63,2.3,0.14,0.22,0.01,0.83,0.09,0.1,0.11,0.23,0.34,0.93,0.03,0.35,0.01,0.96,0.04,0.22,0.07,0.11,1.49,0.12,0.14,0.17,0.19,0.29,8.49,0.46,1.15,0.24,0.1,0.13,0.08,0.01,4.19,0.54,0.14,0.54,0.75,0.4,1.06,0.16,1.74,1.46,0.09,0.54,0.25,0.22,0.08,0.03,0.28,0.09,0.1,0.12,0.19,1.86,0.06,0.53,0.13,0.15,0.08,0.07,0.44,0.03,2.77,0.15,1.04,0.36,0.12,0.55,0.77,0.6,0.09,0.21,0.26,0.33,0.96,0.37,0.07,1.21,0.58,1.08,1.11,0.55,0.09,0.23,2.29,2.24,2.17,0.76,2.89,0.62,0.05,0.04,0.32,0.19,0.02,0.17,1.1,0.06,0.1,1.38,0.28,0.02,1.76,1.07,0.05,0.64,0.31,0.33,0.24,0.09,0.14,0.07,0.14,0.09,0.35,0.02,0.02,0.03,0.26,0.01,1.17,0.1,1.86,0.01,0.19,0.03,0.03,0.5,0.04,0.02,0.19,5.95,4.05,0.24,0.04,0.02,6.96,0.09,0.1,1.29,0.17,0.01,0.58,0.06,0.03,1.24,0.53,0.29,0.05,0.02,1.09,0.36,0.08,0.1,0.05,0.04,0.08,0.13,1.25,0.05,0.35,0.02,0.05,0.24,0.17,0.04,0.01,0.1,0.07,1.46,0.21,0.05,0.22,1.71,0.22,0.68,0.09,1.05,1.41,0.13,1.26,0.12,0.21,0.55,0.1,0.42,0.29,0.44,0.03,1.56,0.19,0.05,0.42,0.07,0.12,1.06,0.01,0.19,1.19,0.32,0.5,0.14,0.07,0.09,0.02,0.08,0.14,0.56,0.08,0.07,0.19,0.19,0.01,0.09,0.72,0.02,0.04,0.02,0.06,0.37,0.09,0.2,0.02,0.45,0.05,0.13,3.39,0.21,0.47,0.22,0.31,0.22,0.31,0.03,0.02,0.33,0.05,0.17,0.1,0.56,0.56,23.42,0.06,0.21,0.23,0.13,0.08,0.15,0.04,0.13,0.18,0.29,1.77,0.2,0.02,0.33,0.06,0.42,2.11,0.24,0.03,0.15,0.07,0.5,0.35,0.33,0.31,0.12,0.06,0.32,0.22,0.01,0.02,0.08,0.16,0.02,0.02,0.08,1.56,2.41,2.08,0.08,0.35,0.42,0.06,1.23,0.1,0.36,0.03,1.92,0.47,0.21,0.21,0.67,0.05,0.96,0.01,0.1,0.04,3.34,0.03,0.83,0.11,0.13,0.28,0.11,1.97,0.07,0.07,0.38,0.27,0.43,0.12,0.06,0.67,4.7,0.15,1.33,0.01,1.94,0.01,0.11,0.14,0.05,0.02,0.03,0.49,0.24,1.74,0.03,0.41,0.66,1.89,0.12,0.32,0.05,0.41,0.44,0.07,1.06,0.49,0.07,0.17,0.03,0.64,0.21,0.14,0.16,0.01,0.2,0.03,0.2,0.06,1.51,0.3,0.04,0.29,0.07,0.16,0.23,6.24,0.21,0.18,0.5,0.13,2.99,0.12,0.01,3.02,0.05,0.44,0.3,0.08,0.03,0.05,0.03,0.03,0.13,0.06,0.76,0.02,0.28,0.03,0.92,0.13,0.58,0.04,0.55,0.01,0.2,0.04,0.01,0.48,0.06,0.23,0.07,0.26,0.31,0.13,0.38,0.46,0.02,0.05,0.28,0.37,0.12,0.08,0.23,0.06,0.74,0.1,1.35,0.15,0.01,0.02,0.52,1.05,0.05,1.51,0.52,0.02,0.14,0.29,0.07,0.41,0.2,0.71,0.12,0.04,0.62,0.3,0.01,0.03,0.2,0.12,0.1,0.34,0.32,0.03,0.35,0.03,0.06,0.05,0.2,0.05,0.94,0.07,0.28,0.47,1.96,0.26,0.37,0.05,0.34,0.15,0.09,0.48,0.27,0.2,0.73,0.14,0.66,0.05,1.3,0.2,1.45,0.04,0.27,0.23,0.6,0.14,0.08,0.05,0.39,3.32,0.94,0.12,0.14,0.39,10.42,0.04,0.2,0.2,6.95,0.02,0.26,0.08,0.26,0.05,0.02,7.84,0.18,0.14,0.02,0.63,0.12,0.01,0.11,0.14,0.09,0.06,0.45,0.05,0.15,0.05,0.03,0.17,0.22,2.62,0.03,0.08,0.23,0.14,0.5,0.09,0.6,0.89,0.4,0.09,0.24,0.09,0.17,0.22,0.57,0.25,0.11,0.67,0.1,0.27,0.66,0.04,0.07,0.03,0.32,0.04,0.09,0.38,1.09,0.6,0.06,0.24,0.82,0.07,0.09,2.06,0.63,0.13,2.05,0.1,0.05,0.26,0.19,0.32,0.75,0.04,0.15,0.85,0.05,2.19,0.2,1.68,0.42,1.16,0.29,0.08,0.08,0.02,0.18,0.12,0.24,1.33,0.06,0.19,0.19,0.03,1.13,0.14,0.97,0.2,0.68,0.02,0.12,0.03,0.51,0.49,2.9,0.03,0.39,0.07,0.01,1.03,2.6,0.09,0.29,1.23,0.91,0.01,0.22,0.46,2.61,0.07,0.21,0.04,0.08,0.82,0.03,1.09,0.01,0.34,0.32,1.91,0.22,0.02,0.12,0.2,0.02,0.18,4.64,0.35,0.04,0.4,0.09,0.24,0.37,1.92,0.03,0.02,0.12,0.31,1.15,0.03,0.56,1.47,0.4,0.2,0.02,0.05,0.08,0.15,0.3,1.77,0.12,0.85,3.43,0.02,0.03,0.17,0.32,0.02,0.13,0.12,0.1,0.18,0.08,0.83,0.13,0.54,0.08,0.02,0.09,0.08,0.11,0.1,0.18,0.05,0.06,0.02,0.12,0.19,0.12,0.11,0.04,5.12,0.05,0.29,0.14,0.02,1.68,0.18,1.19,0.16,0.2,0.02,2.84,0.42,0.04,0.11,0.01,3.23,0.11,0.13,1.69,1.6,0.82,0.21,0.03,0.53,0.05,0.04,0.54,0.42,0.15,0.12,0.08,0.01,0.1,0.09,0.23,0.04,0.21,0.11,0.22,0.42,0.22,1.75,0.04,0.77,0.2,0.05,0.56,0.94,0.16,0.02,0.31,0.09,0.14,0.28,0.3,0.08,0.6,9.88,0.08,0.19,0.1,0.11,0.08,0.44,0.41,0.02,0.01,0.46,0.34,0.96,0.09,0.5,0.12,0.11,0.02,0.08,0.05,0.09,0.11,0.19,0.37,0.56,0.33,0.42,0.11,0.72,0.09,0.27,0.43,0.09,0.11,0.01,0.07,0.07,0.04,0.04,0.1,0.27,0.03,0.64,0.16,0.32,0.69,0.15,0.08,0.14,0.02,1.51,0.03,0.13,1.07,0.43,0.04,0.98,0.92,0.44,0.22,0.02,0.52,0.39,0.76,0.02,3.61,0.05,0.49,0.12,0.07,0.03,0.26,0.44,0.06,0.66,0.36,0.32,1.32,0.01,0.6,0.24,0.17,0.11,0.16,2.85,0.01,0.2,0.34,0.92,2.49,0.42,0.05,0.67,0.23,0.65,1.22,1.08,0.1,0.39,0.25,0.43,0.02,0.04,1.06,1.66,0.59,0.58,0.06,0.02,0.03,0.15,1.49,2.83,1.55,0.13,6.9,0.04,0.9,0.06,0.07,0.06,0.1,0.31,0.59,0.87,0.05,0.09,0.22,2.03,0.28,0.04,0.01,0.09,0.95,0.07,0.01,0.13,2.07,0.21,1.1,0.42,0.27,0.61,0.06,0.16,0.05,0.53,0.03,0.01,0.12,0.25,0.67,0.15,0.31,0.02,0.06,0.14,0.04,0.03,1.32,0.07,1.36,2.2,1.26,0.06,0.02,1.94,0.32,0.07,0.25,3.87,0.09,1.44,0.25,0.4,0.13,0.14,0.07,0.02,0.1,0.43,0.58,0.08,0.05,0.5,0.06,0.1,0.36,5.12,0.54,0.02,0.19,1.06,0.01,0.08,0.1,0.08,0.07,0.07,0.2,0.07,0.67,0.02,0.24,0.08,0.05,0.12,0.41,0.01,0.35,0.45,0.15,0.2,0.07,0.02,0.04,1.03,0.11,0.52,4.83,0.02,0.41,2.44,0.19,0.99,0.06,0.05,0.05,0.16,0.1,0.19,0.01,0.16,0.11,0.42,0.12,0.02,0.79,0.38,0.29,0.16,0.05,0.26,0.26,0.4,0.03,0.15,0.18,0.56,0.02,0.07,0.17,0.11,0.39,1.6,0.05,0.07,0.24,0.14,0.09,0.17,0.15,0.03,0.08,0.2,0.13,0.04,0.22,0.27,0.05,0.09,14.64,0.01,0.02,0.05,0.33,0.05,0.02,0.12,0.02,0.11,0.24,0.19,1.47,1.1,0.06,0.75,1.8,0.09,3.02,0.17,0.06,0.1,0.25,0.02,0.01,0.04,0.04,0.03,9.59,1.46,0.19,0.51,1.6,0.19,0.26,0.4,0.19,0.42,0.2,0.02,0.14,0.07,0.08,0.02,0.02,0.04,0.07,1.32,0.02,0.01,0.1,0.03,0.02,0.08,0.22,0.26,1.14,0.06,0.01,0.16,1.31,0.02,0.13,0.47,0.01,0.09,2.43,0.16,0.07,0.18,0.23,0.02,0.08,0.42,2.25,0.07,0.05,0.19,0.34,0.05,0.32,0.22,0.01,0.03,0.37,0.01,0.01,0.64,0.1,0.26,0.08,0.19,0.2,0.19,0.04,0.06,0.04,0.02,0.1,0.03,0.69,0.68,0.05,0.02,0.23,0.01,0.03,0.13,0.06,0.95,0.19,0.03,0.38,0.83,1.27,0.11,0.6,0.01,0.04,0.72,0.17,0.01,0.42,0.04,0.13,0.02,0.72,1.3,0.11,0.15,0.04,1.04,0.02,0.05,0.2,0.14,0.16,0.23,0.18,0.45,1.47,0.16,0.14,1.17,2.42,0.23,0.02,0.13,1.19,0.02,1.45,0.24,0.68,3.67,0.02,0.43,0.81,0.02,0.02,0.09,0.4,0.06,0.45,0.08,0.77,0.25,0.06,0.04,0.74,0.02,0.02,0.53,0.02,0.52,0.13,0.02,0.48,0.23,0.5,0.14,0.11,0.19,1.41,0.01,0.21,1.51,0.33,1.07,0.05,0.42,0.25,3.78,0.07,0.64,5.3,0.02,0.13,0.08,0.02,0.19,0.09,0.27,0.07,0.02,0.13,0.03,0.05,0.56,0.27,0.09,1.76,0.03,0.17,0.04,0.17,0.14,0.81,0.14,0.11,0.04,0.2,1.05,0.14,0.11,0.04,0.22,0.14,0.01,0.1,0.55,0.08,0.11,0.95,5.07],\"yaxis\":\"y\",\"type\":\"scattergl\"}],                        {\"template\":{\"data\":{\"bar\":[{\"error_x\":{\"color\":\"#2a3f5f\"},\"error_y\":{\"color\":\"#2a3f5f\"},\"marker\":{\"line\":{\"color\":\"#E5ECF6\",\"width\":0.5},\"pattern\":{\"fillmode\":\"overlay\",\"size\":10,\"solidity\":0.2}},\"type\":\"bar\"}],\"barpolar\":[{\"marker\":{\"line\":{\"color\":\"#E5ECF6\",\"width\":0.5},\"pattern\":{\"fillmode\":\"overlay\",\"size\":10,\"solidity\":0.2}},\"type\":\"barpolar\"}],\"carpet\":[{\"aaxis\":{\"endlinecolor\":\"#2a3f5f\",\"gridcolor\":\"white\",\"linecolor\":\"white\",\"minorgridcolor\":\"white\",\"startlinecolor\":\"#2a3f5f\"},\"baxis\":{\"endlinecolor\":\"#2a3f5f\",\"gridcolor\":\"white\",\"linecolor\":\"white\",\"minorgridcolor\":\"white\",\"startlinecolor\":\"#2a3f5f\"},\"type\":\"carpet\"}],\"choropleth\":[{\"colorbar\":{\"outlinewidth\":0,\"ticks\":\"\"},\"type\":\"choropleth\"}],\"contour\":[{\"colorbar\":{\"outlinewidth\":0,\"ticks\":\"\"},\"colorscale\":[[0.0,\"#0d0887\"],[0.1111111111111111,\"#46039f\"],[0.2222222222222222,\"#7201a8\"],[0.3333333333333333,\"#9c179e\"],[0.4444444444444444,\"#bd3786\"],[0.5555555555555556,\"#d8576b\"],[0.6666666666666666,\"#ed7953\"],[0.7777777777777778,\"#fb9f3a\"],[0.8888888888888888,\"#fdca26\"],[1.0,\"#f0f921\"]],\"type\":\"contour\"}],\"contourcarpet\":[{\"colorbar\":{\"outlinewidth\":0,\"ticks\":\"\"},\"type\":\"contourcarpet\"}],\"heatmap\":[{\"colorbar\":{\"outlinewidth\":0,\"ticks\":\"\"},\"colorscale\":[[0.0,\"#0d0887\"],[0.1111111111111111,\"#46039f\"],[0.2222222222222222,\"#7201a8\"],[0.3333333333333333,\"#9c179e\"],[0.4444444444444444,\"#bd3786\"],[0.5555555555555556,\"#d8576b\"],[0.6666666666666666,\"#ed7953\"],[0.7777777777777778,\"#fb9f3a\"],[0.8888888888888888,\"#fdca26\"],[1.0,\"#f0f921\"]],\"type\":\"heatmap\"}],\"heatmapgl\":[{\"colorbar\":{\"outlinewidth\":0,\"ticks\":\"\"},\"colorscale\":[[0.0,\"#0d0887\"],[0.1111111111111111,\"#46039f\"],[0.2222222222222222,\"#7201a8\"],[0.3333333333333333,\"#9c179e\"],[0.4444444444444444,\"#bd3786\"],[0.5555555555555556,\"#d8576b\"],[0.6666666666666666,\"#ed7953\"],[0.7777777777777778,\"#fb9f3a\"],[0.8888888888888888,\"#fdca26\"],[1.0,\"#f0f921\"]],\"type\":\"heatmapgl\"}],\"histogram\":[{\"marker\":{\"pattern\":{\"fillmode\":\"overlay\",\"size\":10,\"solidity\":0.2}},\"type\":\"histogram\"}],\"histogram2d\":[{\"colorbar\":{\"outlinewidth\":0,\"ticks\":\"\"},\"colorscale\":[[0.0,\"#0d0887\"],[0.1111111111111111,\"#46039f\"],[0.2222222222222222,\"#7201a8\"],[0.3333333333333333,\"#9c179e\"],[0.4444444444444444,\"#bd3786\"],[0.5555555555555556,\"#d8576b\"],[0.6666666666666666,\"#ed7953\"],[0.7777777777777778,\"#fb9f3a\"],[0.8888888888888888,\"#fdca26\"],[1.0,\"#f0f921\"]],\"type\":\"histogram2d\"}],\"histogram2dcontour\":[{\"colorbar\":{\"outlinewidth\":0,\"ticks\":\"\"},\"colorscale\":[[0.0,\"#0d0887\"],[0.1111111111111111,\"#46039f\"],[0.2222222222222222,\"#7201a8\"],[0.3333333333333333,\"#9c179e\"],[0.4444444444444444,\"#bd3786\"],[0.5555555555555556,\"#d8576b\"],[0.6666666666666666,\"#ed7953\"],[0.7777777777777778,\"#fb9f3a\"],[0.8888888888888888,\"#fdca26\"],[1.0,\"#f0f921\"]],\"type\":\"histogram2dcontour\"}],\"mesh3d\":[{\"colorbar\":{\"outlinewidth\":0,\"ticks\":\"\"},\"type\":\"mesh3d\"}],\"parcoords\":[{\"line\":{\"colorbar\":{\"outlinewidth\":0,\"ticks\":\"\"}},\"type\":\"parcoords\"}],\"pie\":[{\"automargin\":true,\"type\":\"pie\"}],\"scatter\":[{\"marker\":{\"colorbar\":{\"outlinewidth\":0,\"ticks\":\"\"}},\"type\":\"scatter\"}],\"scatter3d\":[{\"line\":{\"colorbar\":{\"outlinewidth\":0,\"ticks\":\"\"}},\"marker\":{\"colorbar\":{\"outlinewidth\":0,\"ticks\":\"\"}},\"type\":\"scatter3d\"}],\"scattercarpet\":[{\"marker\":{\"colorbar\":{\"outlinewidth\":0,\"ticks\":\"\"}},\"type\":\"scattercarpet\"}],\"scattergeo\":[{\"marker\":{\"colorbar\":{\"outlinewidth\":0,\"ticks\":\"\"}},\"type\":\"scattergeo\"}],\"scattergl\":[{\"marker\":{\"colorbar\":{\"outlinewidth\":0,\"ticks\":\"\"}},\"type\":\"scattergl\"}],\"scattermapbox\":[{\"marker\":{\"colorbar\":{\"outlinewidth\":0,\"ticks\":\"\"}},\"type\":\"scattermapbox\"}],\"scatterpolar\":[{\"marker\":{\"colorbar\":{\"outlinewidth\":0,\"ticks\":\"\"}},\"type\":\"scatterpolar\"}],\"scatterpolargl\":[{\"marker\":{\"colorbar\":{\"outlinewidth\":0,\"ticks\":\"\"}},\"type\":\"scatterpolargl\"}],\"scatterternary\":[{\"marker\":{\"colorbar\":{\"outlinewidth\":0,\"ticks\":\"\"}},\"type\":\"scatterternary\"}],\"surface\":[{\"colorbar\":{\"outlinewidth\":0,\"ticks\":\"\"},\"colorscale\":[[0.0,\"#0d0887\"],[0.1111111111111111,\"#46039f\"],[0.2222222222222222,\"#7201a8\"],[0.3333333333333333,\"#9c179e\"],[0.4444444444444444,\"#bd3786\"],[0.5555555555555556,\"#d8576b\"],[0.6666666666666666,\"#ed7953\"],[0.7777777777777778,\"#fb9f3a\"],[0.8888888888888888,\"#fdca26\"],[1.0,\"#f0f921\"]],\"type\":\"surface\"}],\"table\":[{\"cells\":{\"fill\":{\"color\":\"#EBF0F8\"},\"line\":{\"color\":\"white\"}},\"header\":{\"fill\":{\"color\":\"#C8D4E3\"},\"line\":{\"color\":\"white\"}},\"type\":\"table\"}]},\"layout\":{\"annotationdefaults\":{\"arrowcolor\":\"#2a3f5f\",\"arrowhead\":0,\"arrowwidth\":1},\"autotypenumbers\":\"strict\",\"coloraxis\":{\"colorbar\":{\"outlinewidth\":0,\"ticks\":\"\"}},\"colorscale\":{\"diverging\":[[0,\"#8e0152\"],[0.1,\"#c51b7d\"],[0.2,\"#de77ae\"],[0.3,\"#f1b6da\"],[0.4,\"#fde0ef\"],[0.5,\"#f7f7f7\"],[0.6,\"#e6f5d0\"],[0.7,\"#b8e186\"],[0.8,\"#7fbc41\"],[0.9,\"#4d9221\"],[1,\"#276419\"]],\"sequential\":[[0.0,\"#0d0887\"],[0.1111111111111111,\"#46039f\"],[0.2222222222222222,\"#7201a8\"],[0.3333333333333333,\"#9c179e\"],[0.4444444444444444,\"#bd3786\"],[0.5555555555555556,\"#d8576b\"],[0.6666666666666666,\"#ed7953\"],[0.7777777777777778,\"#fb9f3a\"],[0.8888888888888888,\"#fdca26\"],[1.0,\"#f0f921\"]],\"sequentialminus\":[[0.0,\"#0d0887\"],[0.1111111111111111,\"#46039f\"],[0.2222222222222222,\"#7201a8\"],[0.3333333333333333,\"#9c179e\"],[0.4444444444444444,\"#bd3786\"],[0.5555555555555556,\"#d8576b\"],[0.6666666666666666,\"#ed7953\"],[0.7777777777777778,\"#fb9f3a\"],[0.8888888888888888,\"#fdca26\"],[1.0,\"#f0f921\"]]},\"colorway\":[\"#636efa\",\"#EF553B\",\"#00cc96\",\"#ab63fa\",\"#FFA15A\",\"#19d3f3\",\"#FF6692\",\"#B6E880\",\"#FF97FF\",\"#FECB52\"],\"font\":{\"color\":\"#2a3f5f\"},\"geo\":{\"bgcolor\":\"white\",\"lakecolor\":\"white\",\"landcolor\":\"#E5ECF6\",\"showlakes\":true,\"showland\":true,\"subunitcolor\":\"white\"},\"hoverlabel\":{\"align\":\"left\"},\"hovermode\":\"closest\",\"mapbox\":{\"style\":\"light\"},\"paper_bgcolor\":\"white\",\"plot_bgcolor\":\"#E5ECF6\",\"polar\":{\"angularaxis\":{\"gridcolor\":\"white\",\"linecolor\":\"white\",\"ticks\":\"\"},\"bgcolor\":\"#E5ECF6\",\"radialaxis\":{\"gridcolor\":\"white\",\"linecolor\":\"white\",\"ticks\":\"\"}},\"scene\":{\"xaxis\":{\"backgroundcolor\":\"#E5ECF6\",\"gridcolor\":\"white\",\"gridwidth\":2,\"linecolor\":\"white\",\"showbackground\":true,\"ticks\":\"\",\"zerolinecolor\":\"white\"},\"yaxis\":{\"backgroundcolor\":\"#E5ECF6\",\"gridcolor\":\"white\",\"gridwidth\":2,\"linecolor\":\"white\",\"showbackground\":true,\"ticks\":\"\",\"zerolinecolor\":\"white\"},\"zaxis\":{\"backgroundcolor\":\"#E5ECF6\",\"gridcolor\":\"white\",\"gridwidth\":2,\"linecolor\":\"white\",\"showbackground\":true,\"ticks\":\"\",\"zerolinecolor\":\"white\"}},\"shapedefaults\":{\"line\":{\"color\":\"#2a3f5f\"}},\"ternary\":{\"aaxis\":{\"gridcolor\":\"white\",\"linecolor\":\"white\",\"ticks\":\"\"},\"baxis\":{\"gridcolor\":\"white\",\"linecolor\":\"white\",\"ticks\":\"\"},\"bgcolor\":\"#E5ECF6\",\"caxis\":{\"gridcolor\":\"white\",\"linecolor\":\"white\",\"ticks\":\"\"}},\"title\":{\"x\":0.05},\"xaxis\":{\"automargin\":true,\"gridcolor\":\"white\",\"linecolor\":\"white\",\"ticks\":\"\",\"title\":{\"standoff\":15},\"zerolinecolor\":\"white\",\"zerolinewidth\":2},\"yaxis\":{\"automargin\":true,\"gridcolor\":\"white\",\"linecolor\":\"white\",\"ticks\":\"\",\"title\":{\"standoff\":15},\"zerolinecolor\":\"white\",\"zerolinewidth\":2}}},\"xaxis\":{\"anchor\":\"y\",\"domain\":[0.0,1.0],\"title\":{\"text\":\"value\"}},\"yaxis\":{\"anchor\":\"x\",\"domain\":[0.0,1.0],\"title\":{\"text\":\"Global_Sales\"}},\"legend\":{\"title\":{\"text\":\"variable\"},\"tracegroupgap\":0},\"margin\":{\"t\":60}},                        {\"responsive\": true}                    ).then(function(){\n",
              "                            \n",
              "var gd = document.getElementById('866686e2-7790-4036-976f-e29108f0a86c');\n",
              "var x = new MutationObserver(function (mutations, observer) {{\n",
              "        var display = window.getComputedStyle(gd).display;\n",
              "        if (!display || display === 'none') {{\n",
              "            console.log([gd, 'removed!']);\n",
              "            Plotly.purge(gd);\n",
              "            observer.disconnect();\n",
              "        }}\n",
              "}});\n",
              "\n",
              "// Listen for the removal of the full notebook cells\n",
              "var notebookContainer = gd.closest('#notebook-container');\n",
              "if (notebookContainer) {{\n",
              "    x.observe(notebookContainer, {childList: true});\n",
              "}}\n",
              "\n",
              "// Listen for the clearing of the current output cell\n",
              "var outputEl = gd.closest('.output');\n",
              "if (outputEl) {{\n",
              "    x.observe(outputEl, {childList: true});\n",
              "}}\n",
              "\n",
              "                        })                };                            </script>        </div>\n",
              "</body>\n",
              "</html>"
            ]
          },
          "metadata": {}
        }
      ]
    },
    {
      "cell_type": "code",
      "source": [
        "#to find/see outliers using boxplot\n",
        "train_data.boxplot(column=['NA_Sales','EU_Sales', 'JP_Sales', 'Other_Sales'])\n",
        "plt.show()"
      ],
      "metadata": {
        "colab": {
          "base_uri": "https://localhost:8080/",
          "height": 266
        },
        "id": "ZPFJRbzTNCHo",
        "outputId": "910af5ce-bfa1-4351-82d8-e23a13f4053f"
      },
      "execution_count": null,
      "outputs": [
        {
          "output_type": "display_data",
          "data": {
            "text/plain": [
              "<Figure size 432x288 with 1 Axes>"
            ],
            "image/png": "[encoded data removed]"
          },
          "metadata": {
            "needs_background": "light"
          }
        }
      ]
    },
    {
      "cell_type": "markdown",
      "source": [
        "**Dealing with outliers**"
      ],
      "metadata": {
        "id": "INobGMIBqxJ9"
      }
    },
    {
      "cell_type": "code",
      "source": [
        "#capping--> replacing the higher values and lower values\n",
        "def iqr_capping(train_data,cols,factor):\n",
        "\n",
        "  for col in cols:\n",
        "\n",
        "    q1 = train_data[col].quantile(0.25)\n",
        "    q3 = train_data[col].quantile(0.75)\n",
        "\n",
        "    iqr = q3-q1\n",
        "\n",
        "    upper = q3 + (factor*iqr)\n",
        "    lower = q1 - (factor*iqr)\n",
        "#if the data point is higher than upper limit then replace it with upper wisker if the point is lower than lower replace it with lower wisker or leave it.\n",
        "    train_data[col] = np.where(train_data[col]>upper,upper,np.where(train_data[col]<lower,lower,train_data[col]))\n"
      ],
      "metadata": {
        "id": "I_7l4l9oq0n1"
      },
      "execution_count": null,
      "outputs": []
    },
    {
      "cell_type": "code",
      "source": [
        "train_data.columns"
      ],
      "metadata": {
        "colab": {
          "base_uri": "https://localhost:8080/"
        },
        "id": "aEbe4ETNr-Kt",
        "outputId": "f6d8118d-b901-435e-dadd-9bfb3414b5fe"
      },
      "execution_count": null,
      "outputs": [
        {
          "output_type": "execute_result",
          "data": {
            "text/plain": [
              "Index(['Rank', 'Name', 'Platform', 'Year', 'Genre', 'Publisher', 'NA_Sales',\n",
              "       'EU_Sales', 'JP_Sales', 'Other_Sales', 'Global_Sales'],\n",
              "      dtype='object')"
            ]
          },
          "metadata": {},
          "execution_count": 351
        }
      ]
    },
    {
      "cell_type": "code",
      "source": [
        "features = ['NA_Sales',\n",
        "       'EU_Sales', 'JP_Sales', 'Other_Sales']"
      ],
      "metadata": {
        "id": "QOLiY77IsPXY"
      },
      "execution_count": null,
      "outputs": []
    },
    {
      "cell_type": "code",
      "source": [
        "iqr_capping(train_data, features , 1.5)"
      ],
      "metadata": {
        "id": "z5rdE12Msa9d"
      },
      "execution_count": null,
      "outputs": []
    },
    {
      "cell_type": "code",
      "source": [
        "train_data.boxplot(column=['NA_Sales','EU_Sales','JP_Sales','Other_Sales'])\n",
        "plt.show()"
      ],
      "metadata": {
        "colab": {
          "base_uri": "https://localhost:8080/",
          "height": 266
        },
        "id": "Bc3R9l1DshfY",
        "outputId": "0d4afa4d-8b05-41f1-bd3f-ea98fc5f4434"
      },
      "execution_count": null,
      "outputs": [
        {
          "output_type": "display_data",
          "data": {
            "text/plain": [
              "<Figure size 432x288 with 1 Axes>"
            ],
            "image/png": "[encoded data removed]"
          },
          "metadata": {
            "needs_background": "light"
          }
        }
      ]
    },
    {
      "cell_type": "code",
      "source": [
        "train_data = train_data.drop(labels=['Name'],axis=1)\n",
        "train_data.head()\n"
      ],
      "metadata": {
        "colab": {
          "base_uri": "https://localhost:8080/",
          "height": 206
        },
        "id": "CL8zgPALc7wO",
        "outputId": "2ee4743f-ae69-4232-d48b-a5df359810a5"
      },
      "execution_count": null,
      "outputs": [
        {
          "output_type": "execute_result",
          "data": {
            "text/plain": [
              "    Rank Platform    Year      Genre                    Publisher  NA_Sales  \\\n",
              "0  15806       DS  2009.0  Adventure                    Banpresto       0.0   \n",
              "1  15432       PC  2006.0     Sports                         Sega       0.0   \n",
              "2  15337       DS  2011.0  Adventure                 Idea Factory       0.0   \n",
              "3   7732      PS2  2001.0     Sports  Sony Computer Entertainment       0.1   \n",
              "4    941      PS3  2011.0     Action  Sony Computer Entertainment       0.6   \n",
              "\n",
              "   EU_Sales  JP_Sales  Other_Sales  Global_Sales  \n",
              "0     0.000      0.02         0.00          0.02  \n",
              "1     0.020      0.00         0.00          0.02  \n",
              "2     0.000      0.02         0.00          0.02  \n",
              "3     0.070      0.00         0.02          0.20  \n",
              "4     0.275      0.08         0.10          1.85  "
            ],
            "text/html": [
              "\n",
              "  <div id=\"df-22bbff74-407c-4ccc-85df-8210fcdab7e7\">\n",
              "    <div class=\"colab-df-container\">\n",
              "      <div>\n",
              "<style scoped>\n",
              "    .dataframe tbody tr th:only-of-type {\n",
              "        vertical-align: middle;\n",
              "    }\n",
              "\n",
              "    .dataframe tbody tr th {\n",
              "        vertical-align: top;\n",
              "    }\n",
              "\n",
              "    .dataframe thead th {\n",
              "        text-align: right;\n",
              "    }\n",
              "</style>\n",
              "<table border=\"1\" class=\"dataframe\">\n",
              "  <thead>\n",
              "    <tr style=\"text-align: right;\">\n",
              "      <th></th>\n",
              "      <th>Rank</th>\n",
              "      <th>Platform</th>\n",
              "      <th>Year</th>\n",
              "      <th>Genre</th>\n",
              "      <th>Publisher</th>\n",
              "      <th>NA_Sales</th>\n",
              "      <th>EU_Sales</th>\n",
              "      <th>JP_Sales</th>\n",
              "      <th>Other_Sales</th>\n",
              "      <th>Global_Sales</th>\n",
              "    </tr>\n",
              "  </thead>\n",
              "  <tbody>\n",
              "    <tr>\n",
              "      <th>0</th>\n",
              "      <td>15806</td>\n",
              "      <td>DS</td>\n",
              "      <td>2009.0</td>\n",
              "      <td>Adventure</td>\n",
              "      <td>Banpresto</td>\n",
              "      <td>0.0</td>\n",
              "      <td>0.000</td>\n",
              "      <td>0.02</td>\n",
              "      <td>0.00</td>\n",
              "      <td>0.02</td>\n",
              "    </tr>\n",
              "    <tr>\n",
              "      <th>1</th>\n",
              "      <td>15432</td>\n",
              "      <td>PC</td>\n",
              "      <td>2006.0</td>\n",
              "      <td>Sports</td>\n",
              "      <td>Sega</td>\n",
              "      <td>0.0</td>\n",
              "      <td>0.020</td>\n",
              "      <td>0.00</td>\n",
              "      <td>0.00</td>\n",
              "      <td>0.02</td>\n",
              "    </tr>\n",
              "    <tr>\n",
              "      <th>2</th>\n",
              "      <td>15337</td>\n",
              "      <td>DS</td>\n",
              "      <td>2011.0</td>\n",
              "      <td>Adventure</td>\n",
              "      <td>Idea Factory</td>\n",
              "      <td>0.0</td>\n",
              "      <td>0.000</td>\n",
              "      <td>0.02</td>\n",
              "      <td>0.00</td>\n",
              "      <td>0.02</td>\n",
              "    </tr>\n",
              "    <tr>\n",
              "      <th>3</th>\n",
              "      <td>7732</td>\n",
              "      <td>PS2</td>\n",
              "      <td>2001.0</td>\n",
              "      <td>Sports</td>\n",
              "      <td>Sony Computer Entertainment</td>\n",
              "      <td>0.1</td>\n",
              "      <td>0.070</td>\n",
              "      <td>0.00</td>\n",
              "      <td>0.02</td>\n",
              "      <td>0.20</td>\n",
              "    </tr>\n",
              "    <tr>\n",
              "      <th>4</th>\n",
              "      <td>941</td>\n",
              "      <td>PS3</td>\n",
              "      <td>2011.0</td>\n",
              "      <td>Action</td>\n",
              "      <td>Sony Computer Entertainment</td>\n",
              "      <td>0.6</td>\n",
              "      <td>0.275</td>\n",
              "      <td>0.08</td>\n",
              "      <td>0.10</td>\n",
              "      <td>1.85</td>\n",
              "    </tr>\n",
              "  </tbody>\n",
              "</table>\n",
              "</div>\n",
              "      <button class=\"colab-df-convert\" onclick=\"convertToInteractive('df-22bbff74-407c-4ccc-85df-8210fcdab7e7')\"\n",
              "              title=\"Convert this dataframe to an interactive table.\"\n",
              "              style=\"display:none;\">\n",
              "        \n",
              "  <svg xmlns=\"http://www.w3.org/2000/svg\" height=\"24px\"viewBox=\"0 0 24 24\"\n",
              "       width=\"24px\">\n",
              "    <path d=\"M0 0h24v24H0V0z\" fill=\"none\"/>\n",
              "    <path d=\"M18.56 5.44l.94 2.06.94-2.06 2.06-.94-2.06-.94-.94-2.06-.94 2.06-2.06.94zm-11 1L8.5 8.5l.94-2.06 2.06-.94-2.06-.94L8.5 2.5l-.94 2.06-2.06.94zm10 10l.94 2.06.94-2.06 2.06-.94-2.06-.94-.94-2.06-.94 2.06-2.06.94z\"/><path d=\"M17.41 7.96l-1.37-1.37c-.4-.4-.92-.59-1.43-.59-.52 0-1.04.2-1.43.59L10.3 9.45l-7.72 7.72c-.78.78-.78 2.05 0 2.83L4 21.41c.39.39.9.59 1.41.59.51 0 1.02-.2 1.41-.59l7.78-7.78 2.81-2.81c.8-.78.8-2.07 0-2.86zM5.41 20L4 18.59l7.72-7.72 1.47 1.35L5.41 20z\"/>\n",
              "  </svg>\n",
              "      </button>\n",
              "      \n",
              "  <style>\n",
              "    .colab-df-container {\n",
              "      display:flex;\n",
              "      flex-wrap:wrap;\n",
              "      gap: 12px;\n",
              "    }\n",
              "\n",
              "    .colab-df-convert {\n",
              "      background-color: #E8F0FE;\n",
              "      border: none;\n",
              "      border-radius: 50%;\n",
              "      cursor: pointer;\n",
              "      display: none;\n",
              "      fill: #1967D2;\n",
              "      height: 32px;\n",
              "      padding: 0 0 0 0;\n",
              "      width: 32px;\n",
              "    }\n",
              "\n",
              "    .colab-df-convert:hover {\n",
              "      background-color: #E2EBFA;\n",
              "      box-shadow: 0px 1px 2px rgba(60, 64, 67, 0.3), 0px 1px 3px 1px rgba(60, 64, 67, 0.15);\n",
              "      fill: #174EA6;\n",
              "    }\n",
              "\n",
              "    [theme=dark] .colab-df-convert {\n",
              "      background-color: #3B4455;\n",
              "      fill: #D2E3FC;\n",
              "    }\n",
              "\n",
              "    [theme=dark] .colab-df-convert:hover {\n",
              "      background-color: #434B5C;\n",
              "      box-shadow: 0px 1px 3px 1px rgba(0, 0, 0, 0.15);\n",
              "      filter: drop-shadow(0px 1px 2px rgba(0, 0, 0, 0.3));\n",
              "      fill: #FFFFFF;\n",
              "    }\n",
              "  </style>\n",
              "\n",
              "      <script>\n",
              "        const buttonEl =\n",
              "          document.querySelector('#df-22bbff74-407c-4ccc-85df-8210fcdab7e7 button.colab-df-convert');\n",
              "        buttonEl.style.display =\n",
              "          google.colab.kernel.accessAllowed ? 'block' : 'none';\n",
              "\n",
              "        async function convertToInteractive(key) {\n",
              "          const element = document.querySelector('#df-22bbff74-407c-4ccc-85df-8210fcdab7e7');\n",
              "          const dataTable =\n",
              "            await google.colab.kernel.invokeFunction('convertToInteractive',\n",
              "                                                     [key], {});\n",
              "          if (!dataTable) return;\n",
              "\n",
              "          const docLinkHtml = 'Like what you see? Visit the ' +\n",
              "            '<a target=\"_blank\" href=https://colab.research.google.com/notebooks/data_table.ipynb>data table notebook</a>'\n",
              "            + ' to learn more about interactive tables.';\n",
              "          element.innerHTML = '';\n",
              "          dataTable['output_type'] = 'display_data';\n",
              "          await google.colab.output.renderOutput(dataTable, element);\n",
              "          const docLink = document.createElement('div');\n",
              "          docLink.innerHTML = docLinkHtml;\n",
              "          element.appendChild(docLink);\n",
              "        }\n",
              "      </script>\n",
              "    </div>\n",
              "  </div>\n",
              "  "
            ]
          },
          "metadata": {},
          "execution_count": 355
        }
      ]
    },
    {
      "cell_type": "code",
      "source": [
        "train_data.dtypes"
      ],
      "metadata": {
        "colab": {
          "base_uri": "https://localhost:8080/"
        },
        "id": "oEphvJraWBAh",
        "outputId": "62e14c41-2ed2-4058-aa40-401b0c768a9a"
      },
      "execution_count": null,
      "outputs": [
        {
          "output_type": "execute_result",
          "data": {
            "text/plain": [
              "Rank              int64\n",
              "Platform         object\n",
              "Year            float64\n",
              "Genre            object\n",
              "Publisher        object\n",
              "NA_Sales        float64\n",
              "EU_Sales        float64\n",
              "JP_Sales        float64\n",
              "Other_Sales     float64\n",
              "Global_Sales    float64\n",
              "dtype: object"
            ]
          },
          "metadata": {},
          "execution_count": 356
        }
      ]
    },
    {
      "cell_type": "markdown",
      "source": [
        "**Dealing with Null Values**"
      ],
      "metadata": {
        "id": "I2S7WCGxFIOw"
      }
    },
    {
      "cell_type": "code",
      "source": [
        "#gives us the sum of null values present in the dataset\n",
        "train_data.isna().sum()"
      ],
      "metadata": {
        "colab": {
          "base_uri": "https://localhost:8080/"
        },
        "id": "qffPRj8SaCEJ",
        "outputId": "fc1175c5-88a3-4d30-817a-d97d53a3bb2b"
      },
      "execution_count": null,
      "outputs": [
        {
          "output_type": "execute_result",
          "data": {
            "text/plain": [
              "Rank              0\n",
              "Platform          0\n",
              "Year            221\n",
              "Genre             0\n",
              "Publisher        52\n",
              "NA_Sales          0\n",
              "EU_Sales          0\n",
              "JP_Sales          0\n",
              "Other_Sales       0\n",
              "Global_Sales      0\n",
              "dtype: int64"
            ]
          },
          "metadata": {},
          "execution_count": 357
        }
      ]
    },
    {
      "cell_type": "code",
      "source": [
        "#filling the null values with mode\n",
        "#select first mode incase there are multiple modes\n",
        "train_data['Year'] = train_data['Year'].fillna(train_data['Year'].mode()[0])"
      ],
      "metadata": {
        "id": "dseM1GOEd2CG"
      },
      "execution_count": null,
      "outputs": []
    },
    {
      "cell_type": "code",
      "source": [
        "train_data.isna().sum()"
      ],
      "metadata": {
        "colab": {
          "base_uri": "https://localhost:8080/"
        },
        "id": "dYNLO8PnHnEv",
        "outputId": "bd489957-69bf-402b-e66e-967710d5c686"
      },
      "execution_count": null,
      "outputs": [
        {
          "output_type": "execute_result",
          "data": {
            "text/plain": [
              "Rank             0\n",
              "Platform         0\n",
              "Year             0\n",
              "Genre            0\n",
              "Publisher       52\n",
              "NA_Sales         0\n",
              "EU_Sales         0\n",
              "JP_Sales         0\n",
              "Other_Sales      0\n",
              "Global_Sales     0\n",
              "dtype: int64"
            ]
          },
          "metadata": {},
          "execution_count": 359
        }
      ]
    },
    {
      "cell_type": "code",
      "source": [
        "#filling nul values with the most frequent 'publisher'\n",
        "train_data['Publisher'] = train_data['Publisher'].fillna(train_data['Publisher'].mode()[0])"
      ],
      "metadata": {
        "id": "0Es2stCQeY4Y"
      },
      "execution_count": null,
      "outputs": []
    },
    {
      "cell_type": "code",
      "source": [
        "train_data.isna().sum()"
      ],
      "metadata": {
        "colab": {
          "base_uri": "https://localhost:8080/"
        },
        "id": "Fvrt2Kare4J-",
        "outputId": "f433e418-a6f2-44df-c21e-83c685373660"
      },
      "execution_count": null,
      "outputs": [
        {
          "output_type": "execute_result",
          "data": {
            "text/plain": [
              "Rank            0\n",
              "Platform        0\n",
              "Year            0\n",
              "Genre           0\n",
              "Publisher       0\n",
              "NA_Sales        0\n",
              "EU_Sales        0\n",
              "JP_Sales        0\n",
              "Other_Sales     0\n",
              "Global_Sales    0\n",
              "dtype: int64"
            ]
          },
          "metadata": {},
          "execution_count": 361
        }
      ]
    },
    {
      "cell_type": "code",
      "source": [
        "#displays whole values or dataset instead of give top few and bottom few\n",
        "pd.set_option('max_rows',None)"
      ],
      "metadata": {
        "id": "6yw7nNlYJRoo"
      },
      "execution_count": null,
      "outputs": []
    },
    {
      "cell_type": "code",
      "source": [
        "#each how many are there\n",
        "train_data['Platform'].value_counts()"
      ],
      "metadata": {
        "colab": {
          "base_uri": "https://localhost:8080/"
        },
        "id": "RDu6g0mrI3Og",
        "outputId": "474ad064-7504-4df7-c38b-d7c54e20a321"
      },
      "execution_count": null,
      "outputs": [
        {
          "output_type": "execute_result",
          "data": {
            "text/plain": [
              "DS      1735\n",
              "PS2     1725\n",
              "Wii     1082\n",
              "PS3     1057\n",
              "X360    1005\n",
              "PSP      978\n",
              "PS       930\n",
              "PC       787\n",
              "XB       677\n",
              "GBA      659\n",
              "GC       444\n",
              "3DS      403\n",
              "PSV      319\n",
              "PS4      263\n",
              "N64      246\n",
              "SNES     195\n",
              "XOne     170\n",
              "SAT      134\n",
              "WiiU     115\n",
              "2600     101\n",
              "NES       84\n",
              "GB        79\n",
              "DC        41\n",
              "GEN       22\n",
              "NG        11\n",
              "WS         5\n",
              "SCD        4\n",
              "3DO        3\n",
              "TG16       2\n",
              "GG         1\n",
              "PCFX       1\n",
              "Name: Platform, dtype: int64"
            ]
          },
          "metadata": {},
          "execution_count": 363
        }
      ]
    },
    {
      "cell_type": "code",
      "source": [
        "#unique values present the column named 'Platform'\n",
        "len(train_data['Platform'].unique())"
      ],
      "metadata": {
        "colab": {
          "base_uri": "https://localhost:8080/"
        },
        "id": "lziZQ85_MQzt",
        "outputId": "b833a85a-ccb8-484f-f223-14c735642474"
      },
      "execution_count": null,
      "outputs": [
        {
          "output_type": "execute_result",
          "data": {
            "text/plain": [
              "31"
            ]
          },
          "metadata": {},
          "execution_count": 364
        }
      ]
    },
    {
      "cell_type": "code",
      "source": [
        "#unique values present the column named 'Genre'\n",
        "len(train_data['Genre'].unique())"
      ],
      "metadata": {
        "colab": {
          "base_uri": "https://localhost:8080/"
        },
        "id": "yp53iCHeRHsq",
        "outputId": "548fe717-cb6e-4edf-ac26-2e97817043b6"
      },
      "execution_count": null,
      "outputs": [
        {
          "output_type": "execute_result",
          "data": {
            "text/plain": [
              "12"
            ]
          },
          "metadata": {},
          "execution_count": 365
        }
      ]
    },
    {
      "cell_type": "code",
      "source": [
        "train_data['Genre'].value_counts()"
      ],
      "metadata": {
        "colab": {
          "base_uri": "https://localhost:8080/"
        },
        "id": "XBvR4GxYJKqp",
        "outputId": "09fa5890-cae4-4612-e44f-650a1019affd"
      },
      "execution_count": null,
      "outputs": [
        {
          "output_type": "execute_result",
          "data": {
            "text/plain": [
              "Action          2620\n",
              "Sports          1864\n",
              "Misc            1398\n",
              "Role-Playing    1194\n",
              "Shooter         1062\n",
              "Adventure       1025\n",
              "Racing           991\n",
              "Platform         737\n",
              "Simulation       691\n",
              "Fighting         669\n",
              "Strategy         534\n",
              "Puzzle           493\n",
              "Name: Genre, dtype: int64"
            ]
          },
          "metadata": {},
          "execution_count": 366
        }
      ]
    },
    {
      "cell_type": "code",
      "source": [
        "#unique values present the column named 'Publisher'\n",
        "len(train_data['Publisher'].unique())"
      ],
      "metadata": {
        "colab": {
          "base_uri": "https://localhost:8080/"
        },
        "id": "SEBvcUALR9Ys",
        "outputId": "6ae35359-c3f9-4aff-9941-a5f7093a7be5"
      },
      "execution_count": null,
      "outputs": [
        {
          "output_type": "execute_result",
          "data": {
            "text/plain": [
              "532"
            ]
          },
          "metadata": {},
          "execution_count": 367
        }
      ]
    },
    {
      "cell_type": "code",
      "source": [
        "train_data['Publisher'].value_counts()"
      ],
      "metadata": {
        "colab": {
          "base_uri": "https://localhost:8080/"
        },
        "id": "xnp1LMuNSVW6",
        "outputId": "9dd57ca1-0778-478f-f044-240ad20a1ab4"
      },
      "execution_count": null,
      "outputs": [
        {
          "output_type": "execute_result",
          "data": {
            "text/plain": [
              "Electronic Arts                           1125\n",
              "Activision                                 771\n",
              "Namco Bandai Games                         741\n",
              "Ubisoft                                    740\n",
              "Konami Digital Entertainment               641\n",
              "THQ                                        572\n",
              "Nintendo                                   560\n",
              "Sony Computer Entertainment                533\n",
              "Sega                                       508\n",
              "Take-Two Interactive                       333\n",
              "Capcom                                     317\n",
              "Atari                                      302\n",
              "Tecmo Koei                                 275\n",
              "Warner Bros. Interactive Entertainment     187\n",
              "Square Enix                                184\n",
              "Disney Interactive Studios                 182\n",
              "Midway Games                               165\n",
              "Eidos Interactive                          161\n",
              "Unknown                                    161\n",
              "505 Games                                  159\n",
              "Microsoft Game Studios                     147\n",
              "Acclaim Entertainment                      143\n",
              "D3Publisher                                137\n",
              "Vivendi Games                              134\n",
              "Codemasters                                130\n",
              "Idea Factory                               106\n",
              "Deep Silver                                 92\n",
              "Nippon Ichi Software                        87\n",
              "Majesco Entertainment                       80\n",
              "Zoo Digital Publishing                      79\n",
              "LucasArts                                   73\n",
              "Rising Star Games                           71\n",
              "Hudson Soft                                 70\n",
              "Crave Entertainment                         58\n",
              "Atlus                                       55\n",
              "Banpresto                                   55\n",
              "5pb                                         50\n",
              "Ignition Entertainment                      49\n",
              "Focus Home Interactive                      48\n",
              "Virgin Interactive                          47\n",
              "Bethesda Softworks                          47\n",
              "Marvelous Interactive                       44\n",
              "Infogrames                                  43\n",
              "Kadokawa Shoten                             42\n",
              "SquareSoft                                  41\n",
              "Empire Interactive                          38\n",
              "DTP Entertainment                           36\n",
              "MTV Games                                   35\n",
              "GT Interactive                              35\n",
              "Destineer                                   34\n",
              "Global Star                                 34\n",
              "Spike                                       33\n",
              "Alchemist                                   32\n",
              "SouthPeak Games                             31\n",
              "Takara Tomy                                 31\n",
              "PQube                                       31\n",
              "BAM! Entertainment                          30\n",
              "Zoo Games                                   30\n",
              "3DO                                         29\n",
              "Psygnosis                                   28\n",
              "Mindscape                                   27\n",
              "Interplay                                   27\n",
              "Kalypso Media                               27\n",
              "Enix Corporation                            26\n",
              "Nordic Games                                25\n",
              "TDK Mediactive                              25\n",
              "Game Factory                                24\n",
              "Black Bean Games                            24\n",
              "Midas Interactive Entertainment             22\n",
              "Avanquest                                   21\n",
              "Prototype                                   21\n",
              "Level 5                                     21\n",
              "FuRyu                                       20\n",
              "Telltale Games                              20\n",
              "Little Orbit                                20\n",
              "Paradox Interactive                         20\n",
              "Jaleco                                      20\n",
              "Arc System Works                            20\n",
              "Universal Interactive                       19\n",
              "Activision Value                            18\n",
              "Oxygen Interactive                          18\n",
              "Storm City Games                            18\n",
              "Broccoli                                    18\n",
              "SNK                                         18\n",
              "Aqua Plus                                   17\n",
              "Kemco                                       17\n",
              "JoWood Productions                          17\n",
              "Zushi Games                                 16\n",
              "Compile Heart                               16\n",
              "Success                                     16\n",
              "SNK Playmore                                16\n",
              "ChunSoft                                    15\n",
              "Hasbro Interactive                          15\n",
              "SCi                                         15\n",
              "Taito                                       15\n",
              "Tomy Corporation                            15\n",
              "Koch Media                                  15\n",
              "Takara                                      14\n",
              "CyberFront                                  14\n",
              "Imagineer                                   14\n",
              "Titus                                       14\n",
              "ASCII Entertainment                         14\n",
              "UFO Interactive                             14\n",
              "PopCap Games                                14\n",
              "Rocket Company                              13\n",
              "Conspiracy Entertainment                    13\n",
              "DreamCatcher Interactive                    13\n",
              "Play It                                     13\n",
              "Sony Computer Entertainment Europe          13\n",
              "Kadokawa Games                              13\n",
              "Mastertronic                                13\n",
              "Ubisoft Annecy                              12\n",
              "City Interactive                            12\n",
              "Enterbrain                                  12\n",
              "From Software                               12\n",
              "GSP                                         12\n",
              "Human Entertainment                         12\n",
              "Natsume                                     12\n",
              "O-Games                                     12\n",
              "Ocean                                       12\n",
              "Mattel Interactive                          11\n",
              "GungHo                                      11\n",
              "Nobilis                                     11\n",
              "Playlogic Game Factory                      11\n",
              "System 3 Arcade Software                    11\n",
              "Rondomedia                                  11\n",
              "Milestone S.r.l.                            11\n",
              "Destination Software, Inc                   11\n",
              "989 Studios                                 11\n",
              "Irem Software Engineering                   11\n",
              "Falcom Corporation                          10\n",
              "Mastiff                                     10\n",
              "Sunsoft                                     10\n",
              "Ghostlight                                  10\n",
              "Marvelous Entertainment                     10\n",
              "Brash Entertainment                         10\n",
              "Hudson Entertainment                        10\n",
              "Sammy Corporation                           10\n",
              "XS Games                                    10\n",
              "Gust                                        10\n",
              "Popcorn Arcade                               9\n",
              "Xplosiv                                      9\n",
              "Acquire                                      9\n",
              "Scholastic Inc.                              9\n",
              "Quinrose                                     9\n",
              "Ackkstudios                                  9\n",
              "Bigben Interactive                           9\n",
              "Yeti                                         9\n",
              "Microids                                     8\n",
              "Avanquest Software                           8\n",
              "Starfish                                     8\n",
              "Fox Interactive                              8\n",
              "Asgard                                       8\n",
              "ASCII Media Works                            8\n",
              "Metro 3D                                     8\n",
              "Sting                                        8\n",
              "Victor Interactive                           8\n",
              "Telegames                                    8\n",
              "Foreign Media Games                          8\n",
              "RTL                                          7\n",
              "LEGO Media                                   7\n",
              "JVC                                          7\n",
              "Aksys Games                                  7\n",
              "Reef Entertainment                           7\n",
              "Nippon Columbia                              7\n",
              "Big Ben Interactive                          7\n",
              "Neko Entertainment                           7\n",
              "Agetec                                       7\n",
              "Cave                                         7\n",
              "Genki                                        6\n",
              "Evolved Games                                6\n",
              "Graffiti                                     6\n",
              "Gremlin Interactive Ltd                      6\n",
              "Valcon Games                                 6\n",
              "Rage Software                                6\n",
              "Screenlife                                   6\n",
              "NewKidCo                                     6\n",
              "Sony Online Entertainment                    6\n",
              "MTO                                          6\n",
              "Astragon                                     6\n",
              "Nihon Falcom Corporation                     6\n",
              "Asylum Entertainment                         6\n",
              "NEC Interchannel                             6\n",
              "Avalon Interactive                           6\n",
              "Epoch                                        6\n",
              "CDV Software Entertainment                   5\n",
              "Gathering of Developers                      5\n",
              "Russel                                       5\n",
              "Gotham Games                                 5\n",
              "bitComposer Games                            5\n",
              "Aspyr                                        5\n",
              "Idea Factory International                   5\n",
              "BMG Interactive Entertainment                5\n",
              "20th Century Fox Video Games                 5\n",
              "IE Institute                                 5\n",
              "Paon                                         5\n",
              "GameMill Entertainment                       5\n",
              "Hip Interactive                              5\n",
              "Nordcurrent                                  5\n",
              "Comfort                                      5\n",
              "ArtDink                                      5\n",
              "Seta Corporation                             5\n",
              "NCSoft                                       5\n",
              "Tru Blu Entertainment                        5\n",
              "Video System                                 4\n",
              "Hackberry                                    4\n",
              "ValuSoft                                     4\n",
              "Parker Bros.                                 4\n",
              "Time Warner Interactive                      4\n",
              "Culture Brain                                4\n",
              "ESP                                          4\n",
              "Touchstone                                   4\n",
              "DSI Games                                    4\n",
              "Phenomedia                                   4\n",
              "Compile                                      4\n",
              "Happinet                                     4\n",
              "Alternative Software                         4\n",
              "Mentor Interactive                           4\n",
              "Blast! Entertainment Ltd                     4\n",
              "Daito                                        4\n",
              "Funsta                                       4\n",
              "Square                                       4\n",
              "Crystal Dynamics                             4\n",
              "Microprose                                   4\n",
              "Swing! Entertainment                         4\n",
              "RedOctane                                    4\n",
              "Pinnacle                                     4\n",
              "Kaga Create                                  4\n",
              "Trion Worlds                                 4\n",
              "Mercury Games                                4\n",
              "Mumbo Jumbo                                  4\n",
              "Valve Software                               3\n",
              "Shogakukan                                   3\n",
              "Yuke's                                       3\n",
              "MC2 Entertainment                            3\n",
              "Global A Entertainment                       3\n",
              "Essential Games                              3\n",
              "Media Works                                  3\n",
              "System 3                                     3\n",
              "Pioneer LDC                                  3\n",
              "1C Company                                   3\n",
              "U.S. Gold                                    3\n",
              "Funbox Media                                 3\n",
              "Tradewest                                    3\n",
              "Ascaron Entertainment GmbH                   3\n",
              "Sony Computer Entertainment America          3\n",
              "System Soft                                  3\n",
              "Arika                                        3\n",
              "Wanadoo                                      3\n",
              "AQ Interactive                               3\n",
              "Accolade                                     3\n",
              "Insomniac Games                              3\n",
              "Red Storm Entertainment                      3\n",
              "Xseed Games                                  3\n",
              "Maxis                                        3\n",
              "Myelin Media                                 3\n",
              "Jack of All Games                            3\n",
              "Laguna                                       3\n",
              "TopWare Interactive                          3\n",
              "Home Entertainment Suppliers                 3\n",
              "Knowledge Adventure                          3\n",
              "Imagic                                       3\n",
              "Creative Core                                3\n",
              "Telstar                                      3\n",
              "Jester Interactive                           3\n",
              "10TACLE Studios                              3\n",
              "Benesse                                      3\n",
              "TGL                                          3\n",
              "LSP Games                                    3\n",
              "Mad Catz                                     3\n",
              "Coleco                                       3\n",
              "Encore                                       3\n",
              "Mojang                                       3\n",
              "Angel Studios                                3\n",
              "Aruze Corp                                   3\n",
              "Vir2L Studios                                3\n",
              "Asmik Ace Entertainment                      3\n",
              "NovaLogic                                    3\n",
              "Interchannel                                 3\n",
              "Micro Cabin                                  3\n",
              "Focus Multimedia                             3\n",
              "Iceberg Interactive                          3\n",
              "Agatsuma Entertainment                       3\n",
              "O3 Entertainment                             3\n",
              "dramatic create                              3\n",
              "7G//AMES                                     3\n",
              "The Adventure Company                        3\n",
              "NCS                                          3\n",
              "Xicat Interactive                            3\n",
              "P2 Games                                     3\n",
              "Tigervision                                  3\n",
              "Licensed 4U                                  3\n",
              "Media Factory                                2\n",
              "Core Design Ltd.                             2\n",
              "Athena                                       2\n",
              "Magix                                        2\n",
              "Minato Station                               2\n",
              "Funcom                                       2\n",
              "Dusenberry Martin Racing                     2\n",
              "Hect                                         2\n",
              "Crimson Cow                                  2\n",
              "Alvion                                       2\n",
              "Gamecock                                     2\n",
              "Yamasa Entertainment                         2\n",
              "Sunrise Interactive                          2\n",
              "Easy Interactive                             2\n",
              "G.Rev                                        2\n",
              "NetRevo                                      2\n",
              "Groove Games                                 2\n",
              "Excalibur Publishing                         2\n",
              "Blue Byte                                    2\n",
              "Gakken                                       2\n",
              "Dorart                                       2\n",
              "Revolution Software                          2\n",
              "Data Design Interactive                      2\n",
              "Indie Games                                  2\n",
              "Nippon Telenet                               2\n",
              "Zenrin                                       2\n",
              "NEC                                          2\n",
              "Yacht Club Games                             2\n",
              "Data Age                                     2\n",
              "DHM Interactive                              2\n",
              "Red Orb                                      2\n",
              "Asmik Corp                                   2\n",
              "Lexicon Entertainment                        2\n",
              "Data East                                    2\n",
              "Virtual Play Games                           2\n",
              "Gamebridge                                   2\n",
              "Experience Inc.                              2\n",
              "Nitroplus                                    2\n",
              "Flight-Plan                                  2\n",
              "Tivola                                       2\n",
              "Hamster Corporation                          2\n",
              "BPS                                          2\n",
              "HMH Interactive                              2\n",
              "Views                                        2\n",
              "Vic Tokai                                    2\n",
              "Coconuts Japan                               2\n",
              "GN Software                                  2\n",
              "Harmonix Music Systems                       2\n",
              "ASC Games                                    2\n",
              "Daedalic                                     2\n",
              "Moss                                         2\n",
              "Mamba Games                                  2\n",
              "KID                                          2\n",
              "Misawa                                       2\n",
              "Milestone S.r.l                              2\n",
              "Devolver Digital                             2\n",
              "Mud Duck Productions                         2\n",
              "Electronic Arts Victor                       2\n",
              "Daedalic Entertainment                       2\n",
              "TDK Core                                     2\n",
              "Princess Soft                                2\n",
              "Media Rings                                  2\n",
              "Jorudan                                      2\n",
              "Vatical Entertainment                        1\n",
              "SSI                                          1\n",
              "Sunflowers                                   1\n",
              "Type-Moon                                    1\n",
              "Evolution Games                              1\n",
              "SCS Software                                 1\n",
              "MediaQuest                                   1\n",
              "Nexon                                        1\n",
              "Berkeley                                     1\n",
              "Aerosoft                                     1\n",
              "Phantagram                                   1\n",
              "989 Sports                                   1\n",
              "Navarre Corp                                 1\n",
              "Locus                                        1\n",
              "Kids Station                                 1\n",
              "Playmore                                     1\n",
              "Quelle                                       1\n",
              "Game Life                                    1\n",
              "Black Label Games                            1\n",
              "responDESIGN                                 1\n",
              "Legacy Interactive                           1\n",
              "ASK                                          1\n",
              "Visco                                        1\n",
              "EON Digital Entertainment                    1\n",
              "Giga                                         1\n",
              "General Entertainment                        1\n",
              "Interchannel-Holon                           1\n",
              "Westwood Studios                             1\n",
              "Otomate                                      1\n",
              "Enjoy Gaming ltd.                            1\n",
              "Panther Software                             1\n",
              "Piacci                                       1\n",
              "id Software                                  1\n",
              "DreamWorks Interactive                       1\n",
              "Pack-In-Video                                1\n",
              "Mirai Shounen                                1\n",
              "Game Arts                                    1\n",
              "Tommo                                        1\n",
              "Imax                                         1\n",
              "PM Studios                                   1\n",
              "Gaga                                         1\n",
              "Fortyfive                                    1\n",
              "KSS                                          1\n",
              "Phoenix Games                                1\n",
              "Syscom                                       1\n",
              "Men-A-Vision                                 1\n",
              "Nippon Amuse                                 1\n",
              "Ertain                                       1\n",
              "Team17 Software                              1\n",
              "Performance Designed Products                1\n",
              "Graphsim Entertainment                       1\n",
              "Image Epoch                                  1\n",
              "Sonnet                                       1\n",
              "Takuyo                                       1\n",
              "Ecole                                        1\n",
              "White Park Bay Software                      1\n",
              "inXile Entertainment                         1\n",
              "Commseed                                     1\n",
              "RED Entertainment                            1\n",
              "Phantom EFX                                  1\n",
              "Liquid Games                                 1\n",
              "Palcom                                       1\n",
              "Mycom                                        1\n",
              "Max Five                                     1\n",
              "Office Create                                1\n",
              "Wizard Video Games                           1\n",
              "Ongakukan                                    1\n",
              "Saurus                                       1\n",
              "Masque Publishing                            1\n",
              "Sweets                                       1\n",
              "Illusion Softworks                           1\n",
              "Gainax Network Systems                       1\n",
              "Pack In Soft                                 1\n",
              "49Games                                      1\n",
              "Maximum Family Games                         1\n",
              "Rebellion Developments                       1\n",
              "Codemasters Online                           1\n",
              "Headup Games                                 1\n",
              "mixi, Inc                                    1\n",
              "Mitsui                                       1\n",
              "Number None                                  1\n",
              "Kokopeli Digital Studios                     1\n",
              "Epic Games                                   1\n",
              "Tryfirst                                     1\n",
              "Tripwire Interactive                         1\n",
              "Imageworks                                   1\n",
              "Origin Systems                               1\n",
              "FuRyu Corporation                            1\n",
              "Cloud Imperium Games Corporation             1\n",
              "Universal Gamex                              1\n",
              "SPS                                          1\n",
              "Pony Canyon                                  1\n",
              "Slightly Mad Studios                         1\n",
              "Media Entertainment                          1\n",
              "Glams                                        1\n",
              "Havas Interactive                            1\n",
              "Datam Polystar                               1\n",
              "Aria                                         1\n",
              "Marvel Entertainment                         1\n",
              "Interworks Unlimited, Inc.                   1\n",
              "Warp                                         1\n",
              "Ivolgamus                                    1\n",
              "Pow                                          1\n",
              "Rebellion                                    1\n",
              "Seventh Chord                                1\n",
              "FunSoft                                      1\n",
              "Elite                                        1\n",
              "MLB.com                                      1\n",
              "Bomb                                         1\n",
              "Kamui                                        1\n",
              "Sears                                        1\n",
              "Mystique                                     1\n",
              "Merscom LLC                                  1\n",
              "Slitherine Software                          1\n",
              "CTO SpA                                      1\n",
              "Societa                                      1\n",
              "Lighthouse Interactive                       1\n",
              "Stainless Games                              1\n",
              "Milestone                                    1\n",
              "Just Flight                                  1\n",
              "Giza10                                       1\n",
              "imageepoch Inc.                              1\n",
              "Griffin International                        1\n",
              "UIG Entertainment                            1\n",
              "TalonSoft                                    1\n",
              "On Demand                                    1\n",
              "DigiCube                                     1\n",
              "Karin Entertainment                          1\n",
              "Rain Games                                   1\n",
              "Hearty Robin                                 1\n",
              "ITT Family Games                             1\n",
              "Plenty                                       1\n",
              "King Records                                 1\n",
              "Edia                                         1\n",
              "Starpath Corp.                               1\n",
              "Nichibutsu                                   1\n",
              "Interplay Productions                        1\n",
              "UEP Systems                                  1\n",
              "Her Interactive                              1\n",
              "Genterprise                                  1\n",
              "Cygames                                      1\n",
              "Activision Blizzard                          1\n",
              "EA Games                                     1\n",
              "Extreme Entertainment Group                  1\n",
              "2D Boy                                       1\n",
              "CokeM Interactive                            1\n",
              "T&E Soft                                     1\n",
              "Alawar Entertainment                         1\n",
              "Ascaron Entertainment                        1\n",
              "CCP                                          1\n",
              "Ultravision                                  1\n",
              "Strategy First                               1\n",
              "Technos Japan Corporation                    1\n",
              "Arena Entertainment                          1\n",
              "HAL Laboratory                               1\n",
              "Simon & Schuster Interactive                 1\n",
              "NDA Productions                              1\n",
              "Revolution (Japan)                           1\n",
              "fonfun                                       1\n",
              "Paradox Development                          1\n",
              "Inti Creates                                 1\n",
              "Paon Corporation                             1\n",
              "Valve                                        1\n",
              "Altron                                       1\n",
              "New                                          1\n",
              "PlayV                                        1\n",
              "Square EA                                    1\n",
              "BushiRoad                                    1\n",
              "Yumedia                                      1\n",
              "HuneX                                        1\n",
              "Michaelsoft                                  1\n",
              "Boost On                                     1\n",
              "Pacific Century Cyber Works                  1\n",
              "Playmates                                    1\n",
              "Quintet                                      1\n",
              "Intergrow                                    1\n",
              "Fuji                                         1\n",
              "Name: Publisher, dtype: int64"
            ]
          },
          "metadata": {},
          "execution_count": 368
        }
      ]
    },
    {
      "cell_type": "markdown",
      "source": [
        "**Encoding**"
      ],
      "metadata": {
        "id": "TLg8Dii9FOD3"
      }
    },
    {
      "cell_type": "code",
      "source": [
        "#categorical variables into numerical labels\n",
        "from sklearn.preprocessing import LabelEncoder\n",
        "\n",
        "for i in train_data.columns:\n",
        "  if train_data[i].dtype == 'object':\n",
        "    lable_encoder = LabelEncoder()\n",
        "    train_data[i] = lable_encoder.fit_transform(train_data[i])"
      ],
      "metadata": {
        "id": "1TW08WxbcQSm"
      },
      "execution_count": null,
      "outputs": []
    },
    {
      "cell_type": "code",
      "source": [
        "train_data.head()"
      ],
      "metadata": {
        "colab": {
          "base_uri": "https://localhost:8080/",
          "height": 206
        },
        "id": "5iZFpQjsey67",
        "outputId": "317139f9-f2a9-49ef-b8dc-f879403deeda"
      },
      "execution_count": null,
      "outputs": [
        {
          "output_type": "execute_result",
          "data": {
            "text/plain": [
              "    Rank  Platform    Year  Genre  Publisher  NA_Sales  EU_Sales  JP_Sales  \\\n",
              "0  15806         4  2009.0      1         57       0.0     0.000      0.02   \n",
              "1  15432        13  2006.0     10        414       0.0     0.020      0.00   \n",
              "2  15337         4  2011.0      1        210       0.0     0.000      0.02   \n",
              "3   7732        16  2001.0     10        423       0.1     0.070      0.00   \n",
              "4    941        17  2011.0      0        423       0.6     0.275      0.08   \n",
              "\n",
              "   Other_Sales  Global_Sales  \n",
              "0         0.00          0.02  \n",
              "1         0.00          0.02  \n",
              "2         0.00          0.02  \n",
              "3         0.02          0.20  \n",
              "4         0.10          1.85  "
            ],
            "text/html": [
              "\n",
              "  <div id=\"df-78b2e651-b3ec-4a34-9921-6daec09a181b\">\n",
              "    <div class=\"colab-df-container\">\n",
              "      <div>\n",
              "<style scoped>\n",
              "    .dataframe tbody tr th:only-of-type {\n",
              "        vertical-align: middle;\n",
              "    }\n",
              "\n",
              "    .dataframe tbody tr th {\n",
              "        vertical-align: top;\n",
              "    }\n",
              "\n",
              "    .dataframe thead th {\n",
              "        text-align: right;\n",
              "    }\n",
              "</style>\n",
              "<table border=\"1\" class=\"dataframe\">\n",
              "  <thead>\n",
              "    <tr style=\"text-align: right;\">\n",
              "      <th></th>\n",
              "      <th>Rank</th>\n",
              "      <th>Platform</th>\n",
              "      <th>Year</th>\n",
              "      <th>Genre</th>\n",
              "      <th>Publisher</th>\n",
              "      <th>NA_Sales</th>\n",
              "      <th>EU_Sales</th>\n",
              "      <th>JP_Sales</th>\n",
              "      <th>Other_Sales</th>\n",
              "      <th>Global_Sales</th>\n",
              "    </tr>\n",
              "  </thead>\n",
              "  <tbody>\n",
              "    <tr>\n",
              "      <th>0</th>\n",
              "      <td>15806</td>\n",
              "      <td>4</td>\n",
              "      <td>2009.0</td>\n",
              "      <td>1</td>\n",
              "      <td>57</td>\n",
              "      <td>0.0</td>\n",
              "      <td>0.000</td>\n",
              "      <td>0.02</td>\n",
              "      <td>0.00</td>\n",
              "      <td>0.02</td>\n",
              "    </tr>\n",
              "    <tr>\n",
              "      <th>1</th>\n",
              "      <td>15432</td>\n",
              "      <td>13</td>\n",
              "      <td>2006.0</td>\n",
              "      <td>10</td>\n",
              "      <td>414</td>\n",
              "      <td>0.0</td>\n",
              "      <td>0.020</td>\n",
              "      <td>0.00</td>\n",
              "      <td>0.00</td>\n",
              "      <td>0.02</td>\n",
              "    </tr>\n",
              "    <tr>\n",
              "      <th>2</th>\n",
              "      <td>15337</td>\n",
              "      <td>4</td>\n",
              "      <td>2011.0</td>\n",
              "      <td>1</td>\n",
              "      <td>210</td>\n",
              "      <td>0.0</td>\n",
              "      <td>0.000</td>\n",
              "      <td>0.02</td>\n",
              "      <td>0.00</td>\n",
              "      <td>0.02</td>\n",
              "    </tr>\n",
              "    <tr>\n",
              "      <th>3</th>\n",
              "      <td>7732</td>\n",
              "      <td>16</td>\n",
              "      <td>2001.0</td>\n",
              "      <td>10</td>\n",
              "      <td>423</td>\n",
              "      <td>0.1</td>\n",
              "      <td>0.070</td>\n",
              "      <td>0.00</td>\n",
              "      <td>0.02</td>\n",
              "      <td>0.20</td>\n",
              "    </tr>\n",
              "    <tr>\n",
              "      <th>4</th>\n",
              "      <td>941</td>\n",
              "      <td>17</td>\n",
              "      <td>2011.0</td>\n",
              "      <td>0</td>\n",
              "      <td>423</td>\n",
              "      <td>0.6</td>\n",
              "      <td>0.275</td>\n",
              "      <td>0.08</td>\n",
              "      <td>0.10</td>\n",
              "      <td>1.85</td>\n",
              "    </tr>\n",
              "  </tbody>\n",
              "</table>\n",
              "</div>\n",
              "      <button class=\"colab-df-convert\" onclick=\"convertToInteractive('df-78b2e651-b3ec-4a34-9921-6daec09a181b')\"\n",
              "              title=\"Convert this dataframe to an interactive table.\"\n",
              "              style=\"display:none;\">\n",
              "        \n",
              "  <svg xmlns=\"http://www.w3.org/2000/svg\" height=\"24px\"viewBox=\"0 0 24 24\"\n",
              "       width=\"24px\">\n",
              "    <path d=\"M0 0h24v24H0V0z\" fill=\"none\"/>\n",
              "    <path d=\"M18.56 5.44l.94 2.06.94-2.06 2.06-.94-2.06-.94-.94-2.06-.94 2.06-2.06.94zm-11 1L8.5 8.5l.94-2.06 2.06-.94-2.06-.94L8.5 2.5l-.94 2.06-2.06.94zm10 10l.94 2.06.94-2.06 2.06-.94-2.06-.94-.94-2.06-.94 2.06-2.06.94z\"/><path d=\"M17.41 7.96l-1.37-1.37c-.4-.4-.92-.59-1.43-.59-.52 0-1.04.2-1.43.59L10.3 9.45l-7.72 7.72c-.78.78-.78 2.05 0 2.83L4 21.41c.39.39.9.59 1.41.59.51 0 1.02-.2 1.41-.59l7.78-7.78 2.81-2.81c.8-.78.8-2.07 0-2.86zM5.41 20L4 18.59l7.72-7.72 1.47 1.35L5.41 20z\"/>\n",
              "  </svg>\n",
              "      </button>\n",
              "      \n",
              "  <style>\n",
              "    .colab-df-container {\n",
              "      display:flex;\n",
              "      flex-wrap:wrap;\n",
              "      gap: 12px;\n",
              "    }\n",
              "\n",
              "    .colab-df-convert {\n",
              "      background-color: #E8F0FE;\n",
              "      border: none;\n",
              "      border-radius: 50%;\n",
              "      cursor: pointer;\n",
              "      display: none;\n",
              "      fill: #1967D2;\n",
              "      height: 32px;\n",
              "      padding: 0 0 0 0;\n",
              "      width: 32px;\n",
              "    }\n",
              "\n",
              "    .colab-df-convert:hover {\n",
              "      background-color: #E2EBFA;\n",
              "      box-shadow: 0px 1px 2px rgba(60, 64, 67, 0.3), 0px 1px 3px 1px rgba(60, 64, 67, 0.15);\n",
              "      fill: #174EA6;\n",
              "    }\n",
              "\n",
              "    [theme=dark] .colab-df-convert {\n",
              "      background-color: #3B4455;\n",
              "      fill: #D2E3FC;\n",
              "    }\n",
              "\n",
              "    [theme=dark] .colab-df-convert:hover {\n",
              "      background-color: #434B5C;\n",
              "      box-shadow: 0px 1px 3px 1px rgba(0, 0, 0, 0.15);\n",
              "      filter: drop-shadow(0px 1px 2px rgba(0, 0, 0, 0.3));\n",
              "      fill: #FFFFFF;\n",
              "    }\n",
              "  </style>\n",
              "\n",
              "      <script>\n",
              "        const buttonEl =\n",
              "          document.querySelector('#df-78b2e651-b3ec-4a34-9921-6daec09a181b button.colab-df-convert');\n",
              "        buttonEl.style.display =\n",
              "          google.colab.kernel.accessAllowed ? 'block' : 'none';\n",
              "\n",
              "        async function convertToInteractive(key) {\n",
              "          const element = document.querySelector('#df-78b2e651-b3ec-4a34-9921-6daec09a181b');\n",
              "          const dataTable =\n",
              "            await google.colab.kernel.invokeFunction('convertToInteractive',\n",
              "                                                     [key], {});\n",
              "          if (!dataTable) return;\n",
              "\n",
              "          const docLinkHtml = 'Like what you see? Visit the ' +\n",
              "            '<a target=\"_blank\" href=https://colab.research.google.com/notebooks/data_table.ipynb>data table notebook</a>'\n",
              "            + ' to learn more about interactive tables.';\n",
              "          element.innerHTML = '';\n",
              "          dataTable['output_type'] = 'display_data';\n",
              "          await google.colab.output.renderOutput(dataTable, element);\n",
              "          const docLink = document.createElement('div');\n",
              "          docLink.innerHTML = docLinkHtml;\n",
              "          element.appendChild(docLink);\n",
              "        }\n",
              "      </script>\n",
              "    </div>\n",
              "  </div>\n",
              "  "
            ]
          },
          "metadata": {},
          "execution_count": 370
        }
      ]
    },
    {
      "cell_type": "markdown",
      "source": [
        "**Splitting the Dataset**"
      ],
      "metadata": {
        "id": "vgNRdt3-FTLE"
      }
    },
    {
      "cell_type": "code",
      "source": [
        "from sklearn.model_selection import train_test_split\n",
        "X = train_data.drop(['Global_Sales'],axis=1)\n",
        "y = train_data['Global_Sales']\n",
        "\n",
        "X_train,X_test,y_train,y_test = train_test_split(X,y,test_size=0.2,random_state=563)\n",
        "print(X_train.shape)\n",
        "print(X_test.shape)"
      ],
      "metadata": {
        "colab": {
          "base_uri": "https://localhost:8080/"
        },
        "id": "HhBmZpy9kMGT",
        "outputId": "b21c071c-559b-4847-c8fe-5fd56d863880"
      },
      "execution_count": null,
      "outputs": [
        {
          "output_type": "stream",
          "name": "stdout",
          "text": [
            "(10622, 9)\n",
            "(2656, 9)\n"
          ]
        }
      ]
    },
    {
      "cell_type": "markdown",
      "source": [
        "**Standarizing the dataset**"
      ],
      "metadata": {
        "id": "rQiN6AWeFYwb"
      }
    },
    {
      "cell_type": "code",
      "source": [
        "#making the std = 1 and mean to 0 for better accuracy and performance\n",
        "from sklearn.preprocessing import StandardScaler\n",
        "standardizer = StandardScaler()\n",
        "train_data = standardizer.fit(train_data).transform(train_data)"
      ],
      "metadata": {
        "id": "9SVG1GCeicgn"
      },
      "execution_count": null,
      "outputs": []
    },
    {
      "cell_type": "code",
      "source": [
        "#x_mean = train_data.mean()\n",
        "#x_std = train_data.std()\n",
        "#Standardized\n",
        "#train_data = (train_data - x_mean) / x_std\n",
        "#train_data.describe()"
      ],
      "metadata": {
        "id": "OfkbKWhbN9Mf"
      },
      "execution_count": null,
      "outputs": []
    },
    {
      "cell_type": "markdown",
      "source": [
        "**Model**"
      ],
      "metadata": {
        "id": "zbRZOYpnFczU"
      }
    },
    {
      "cell_type": "code",
      "source": [
        "from sklearn.linear_model import Ridge\n",
        "r1 = Ridge()\n",
        "r1.fit(X_train,y_train)\n",
        "train_prediction = r1.predict(X_train)\n",
        "test_prediction = r1.predict(X_test)"
      ],
      "metadata": {
        "id": "-mCzP9vFoshw"
      },
      "execution_count": null,
      "outputs": []
    },
    {
      "cell_type": "markdown",
      "source": [
        "**Evaluation**"
      ],
      "metadata": {
        "id": "AahUmgGvFftT"
      }
    },
    {
      "cell_type": "code",
      "source": [
        "from sklearn.metrics import mean_absolute_error\n",
        "#avg. of the absolute differences between the predicted and actual values\n",
        "print('train (MAE)error:',mean_absolute_error(y_train,train_prediction))\n",
        "print('test (MAE)error:',mean_absolute_error(y_test,test_prediction))"
      ],
      "metadata": {
        "colab": {
          "base_uri": "https://localhost:8080/"
        },
        "id": "MxLV7Ws4pHJA",
        "outputId": "d6bc7403-f18a-4ef0-dded-3652e6c28cdd"
      },
      "execution_count": null,
      "outputs": [
        {
          "output_type": "stream",
          "name": "stdout",
          "text": [
            "train (MAE)error: 0.3953547801329389\n",
            "test (MAE)error: 0.3846844752747673\n"
          ]
        }
      ]
    },
    {
      "cell_type": "code",
      "source": [
        "r1.coef_"
      ],
      "metadata": {
        "colab": {
          "base_uri": "https://localhost:8080/"
        },
        "id": "zA12aSYKpl3Y",
        "outputId": "c5d34550-0592-4fea-a04a-1f5145a9ec85"
      },
      "execution_count": null,
      "outputs": [
        {
          "output_type": "execute_result",
          "data": {
            "text/plain": [
              "array([ 7.40428619e-05, -4.07117930e-04, -1.21601768e-02,  8.30412459e-03,\n",
              "        6.08771892e-05,  3.26514548e+00,  3.11787335e+00,  1.05000484e+01,\n",
              "        6.97638421e+00])"
            ]
          },
          "metadata": {},
          "execution_count": 376
        }
      ]
    },
    {
      "cell_type": "code",
      "source": [
        "y_pred = r1.predict(X_test)\n",
        "from sklearn.metrics import r2_score\n",
        "#explains how well the model fits the data\n",
        "#r2 = 1-(SSE/SST)\n",
        "#SSE = (predicted values - actual target values)^2\n",
        "#SST = (actual target values - mean of the target values)^2\n",
        "r2 = r2_score(y_test,y_pred)\n",
        "print(\"R-square:\",r2)"
      ],
      "metadata": {
        "colab": {
          "base_uri": "https://localhost:8080/"
        },
        "id": "NOZZs-g4A3w_",
        "outputId": "42712525-4bf9-4443-ba06-dec04e61553a"
      },
      "execution_count": null,
      "outputs": [
        {
          "output_type": "stream",
          "name": "stdout",
          "text": [
            "R-square: 0.4349548253180706\n"
          ]
        }
      ]
    },
    {
      "cell_type": "code",
      "source": [
        "from sklearn.metrics import mean_squared_error\n",
        "#avg. of the squared differences between the predicted and actual values\n",
        "mse = mean_squared_error(y_test,y_pred)\n",
        "print(\"Mean Square Error:\",mse)"
      ],
      "metadata": {
        "colab": {
          "base_uri": "https://localhost:8080/"
        },
        "id": "3Wn3Vhv54pLG",
        "outputId": "e1a0d146-4b95-401d-8554-960f97f8b4c3"
      },
      "execution_count": null,
      "outputs": [
        {
          "output_type": "stream",
          "name": "stdout",
          "text": [
            "Mean Square Error: 0.983116864215302\n"
          ]
        }
      ]
    },
    {
      "cell_type": "code",
      "source": [
        "rmse = np.sqrt(mse)\n",
        "print(\"Root Mean Square Error:\",rmse)"
      ],
      "metadata": {
        "colab": {
          "base_uri": "https://localhost:8080/"
        },
        "id": "uv58ZbPN4LgN",
        "outputId": "1dd41e86-235f-47cd-98af-6188dd9a3332"
      },
      "execution_count": null,
      "outputs": [
        {
          "output_type": "stream",
          "name": "stdout",
          "text": [
            "Root Mean Square Error: 0.9915224980883197\n"
          ]
        }
      ]
    },
    {
      "cell_type": "markdown",
      "source": [
        "**Tuning Hyperparameter**"
      ],
      "metadata": {
        "id": "-Vus4rdGxxN2"
      }
    },
    {
      "cell_type": "code",
      "source": [
        "#to find the optimal alpha value we use grid search\n",
        "from sklearn.model_selection import GridSearchCV\n",
        "#refers to a list of hyperparameters and their corresponding values to be tuned.\n",
        "param_grid = {'alpha':[0.01,0.1,1,10,100]}\n",
        "#cv --> the number of cross-validation folds\n",
        "tuning = GridSearchCV(r1, param_grid,cv=5)\n",
        "tuning.fit(X_train,y_train)\n",
        "print(\"optimal alpha value:\",tuning.best_params_)"
      ],
      "metadata": {
        "colab": {
          "base_uri": "https://localhost:8080/"
        },
        "id": "mteQQZP7x3O3",
        "outputId": "e8467bbe-9cc5-43f3-8ccd-271aeebb74a5"
      },
      "execution_count": null,
      "outputs": [
        {
          "output_type": "stream",
          "name": "stdout",
          "text": [
            "optimal alpha value: {'alpha': 1}\n"
          ]
        }
      ]
    },
    {
      "cell_type": "code",
      "source": [
        "r1 = Ridge(alpha=tuning.best_params_['alpha'])\n",
        "r1.fit(X_train,y_train)"
      ],
      "metadata": {
        "colab": {
          "base_uri": "https://localhost:8080/",
          "height": 75
        },
        "id": "5KagYPZw2Cer",
        "outputId": "a036cb2a-d0e4-4482-9deb-1cbec9d569c8"
      },
      "execution_count": null,
      "outputs": [
        {
          "output_type": "execute_result",
          "data": {
            "text/plain": [
              "Ridge(alpha=1)"
            ],
            "text/html": [
              "<style>#sk-container-id-4 {color: black;background-color: white;}#sk-container-id-4 pre{padding: 0;}#sk-container-id-4 div.sk-toggleable {background-color: white;}#sk-container-id-4 label.sk-toggleable__label {cursor: pointer;display: block;width: 100%;margin-bottom: 0;padding: 0.3em;box-sizing: border-box;text-align: center;}#sk-container-id-4 label.sk-toggleable__label-arrow:before {content: \"▸\";float: left;margin-right: 0.25em;color: #696969;}#sk-container-id-4 label.sk-toggleable__label-arrow:hover:before {color: black;}#sk-container-id-4 div.sk-estimator:hover label.sk-toggleable__label-arrow:before {color: black;}#sk-container-id-4 div.sk-toggleable__content {max-height: 0;max-width: 0;overflow: hidden;text-align: left;background-color: #f0f8ff;}#sk-container-id-4 div.sk-toggleable__content pre {margin: 0.2em;color: black;border-radius: 0.25em;background-color: #f0f8ff;}#sk-container-id-4 input.sk-toggleable__control:checked~div.sk-toggleable__content {max-height: 200px;max-width: 100%;overflow: auto;}#sk-container-id-4 input.sk-toggleable__control:checked~label.sk-toggleable__label-arrow:before {content: \"▾\";}#sk-container-id-4 div.sk-estimator input.sk-toggleable__control:checked~label.sk-toggleable__label {background-color: #d4ebff;}#sk-container-id-4 div.sk-label input.sk-toggleable__control:checked~label.sk-toggleable__label {background-color: #d4ebff;}#sk-container-id-4 input.sk-hidden--visually {border: 0;clip: rect(1px 1px 1px 1px);clip: rect(1px, 1px, 1px, 1px);height: 1px;margin: -1px;overflow: hidden;padding: 0;position: absolute;width: 1px;}#sk-container-id-4 div.sk-estimator {font-family: monospace;background-color: #f0f8ff;border: 1px dotted black;border-radius: 0.25em;box-sizing: border-box;margin-bottom: 0.5em;}#sk-container-id-4 div.sk-estimator:hover {background-color: #d4ebff;}#sk-container-id-4 div.sk-parallel-item::after {content: \"\";width: 100%;border-bottom: 1px solid gray;flex-grow: 1;}#sk-container-id-4 div.sk-label:hover label.sk-toggleable__label {background-color: #d4ebff;}#sk-container-id-4 div.sk-serial::before {content: \"\";position: absolute;border-left: 1px solid gray;box-sizing: border-box;top: 0;bottom: 0;left: 50%;z-index: 0;}#sk-container-id-4 div.sk-serial {display: flex;flex-direction: column;align-items: center;background-color: white;padding-right: 0.2em;padding-left: 0.2em;position: relative;}#sk-container-id-4 div.sk-item {position: relative;z-index: 1;}#sk-container-id-4 div.sk-parallel {display: flex;align-items: stretch;justify-content: center;background-color: white;position: relative;}#sk-container-id-4 div.sk-item::before, #sk-container-id-4 div.sk-parallel-item::before {content: \"\";position: absolute;border-left: 1px solid gray;box-sizing: border-box;top: 0;bottom: 0;left: 50%;z-index: -1;}#sk-container-id-4 div.sk-parallel-item {display: flex;flex-direction: column;z-index: 1;position: relative;background-color: white;}#sk-container-id-4 div.sk-parallel-item:first-child::after {align-self: flex-end;width: 50%;}#sk-container-id-4 div.sk-parallel-item:last-child::after {align-self: flex-start;width: 50%;}#sk-container-id-4 div.sk-parallel-item:only-child::after {width: 0;}#sk-container-id-4 div.sk-dashed-wrapped {border: 1px dashed gray;margin: 0 0.4em 0.5em 0.4em;box-sizing: border-box;padding-bottom: 0.4em;background-color: white;}#sk-container-id-4 div.sk-label label {font-family: monospace;font-weight: bold;display: inline-block;line-height: 1.2em;}#sk-container-id-4 div.sk-label-container {text-align: center;}#sk-container-id-4 div.sk-container {/* jupyter's `normalize.less` sets `[hidden] { display: none; }` but bootstrap.min.css set `[hidden] { display: none !important; }` so we also need the `!important` here to be able to override the default hidden behavior on the sphinx rendered scikit-learn.org. See: https://github.com/scikit-learn/scikit-learn/issues/21755 */display: inline-block !important;position: relative;}#sk-container-id-4 div.sk-text-repr-fallback {display: none;}</style><div id=\"sk-container-id-4\" class=\"sk-top-container\"><div class=\"sk-text-repr-fallback\"><pre>Ridge(alpha=1)</pre><b>In a Jupyter environment, please rerun this cell to show the HTML representation or trust the notebook. <br />On GitHub, the HTML representation is unable to render, please try loading this page with nbviewer.org.</b></div><div class=\"sk-container\" hidden><div class=\"sk-item\"><div class=\"sk-estimator sk-toggleable\"><input class=\"sk-toggleable__control sk-hidden--visually\" id=\"sk-estimator-id-4\" type=\"checkbox\" checked><label for=\"sk-estimator-id-4\" class=\"sk-toggleable__label sk-toggleable__label-arrow\">Ridge</label><div class=\"sk-toggleable__content\"><pre>Ridge(alpha=1)</pre></div></div></div></div></div>"
            ]
          },
          "metadata": {},
          "execution_count": 381
        }
      ]
    },
    {
      "cell_type": "code",
      "source": [
        "r2 = r2_score(y_test,y_pred)\n",
        "print(\"R^2:\",r2)\n",
        "mse = mean_squared_error(y_test,y_pred)\n",
        "print(\"Mean Square Error:\",mse)\n",
        "rmse = np.sqrt(mse)\n",
        "print(\"Root Mean Square Error:\",rmse)\n",
        "mae = mean_absolute_error(y_test, y_pred)\n",
        "print(\"Mean Abolute Error:\",mae)"
      ],
      "metadata": {
        "colab": {
          "base_uri": "https://localhost:8080/"
        },
        "id": "rCcXh_t02WGv",
        "outputId": "30e583a2-3108-4ab7-e4ae-228f35176d1a"
      },
      "execution_count": null,
      "outputs": [
        {
          "output_type": "stream",
          "name": "stdout",
          "text": [
            "R^2: 0.4349548253180706\n",
            "Mean Square Error: 0.983116864215302\n",
            "Root Mean Square Error: 0.9915224980883197\n",
            "Mean Abolute Error: 0.3846844752747673\n"
          ]
        }
      ]
    },
    {
      "cell_type": "markdown",
      "source": [
        "**Boosting Techniques** "
      ],
      "metadata": {
        "id": "ehcDOpzZvFvi"
      }
    },
    {
      "cell_type": "code",
      "source": [
        "#We use XGBoost(Extreme Gradient Boosting) used for preventing overfitting,\n",
        "#improve generalization, usefl for high-dimensional datasets.\n",
        "#Its is know for its speed and scalability\n",
        "from xgboost import XGBRegressor\n",
        "boosting = XGBRegressor()\n",
        "boosting.fit(X_train,y_train)\n",
        "sales_pred_train = boosting.predict(X_train)\n",
        "sales_pred_test = boosting.predict(X_test)"
      ],
      "metadata": {
        "id": "ijyMoNOY8HL2"
      },
      "execution_count": null,
      "outputs": []
    },
    {
      "cell_type": "code",
      "source": [
        "r2 = r2_score(y_train,sales_pred_train)\n",
        "print(\"R^2:\",r2)\n",
        "mse = mean_squared_error(y_train,sales_pred_train)\n",
        "print(\"Mean Square Error:\",mse)\n",
        "rmse = np.sqrt(mse)\n",
        "print(\"Root Mean Square Error:\",rmse)\n",
        "mae = mean_absolute_error(y_train,sales_pred_train)\n",
        "print(\"Mean Abolute Error:\",mae)"
      ],
      "metadata": {
        "colab": {
          "base_uri": "https://localhost:8080/"
        },
        "id": "36RrUmJz8HAP",
        "outputId": "5ebc3408-ac58-4a69-a590-2f6cae787970"
      },
      "execution_count": null,
      "outputs": [
        {
          "output_type": "stream",
          "name": "stdout",
          "text": [
            "R^2: 0.9999972151464319\n",
            "Mean Square Error: 7.76086823731025e-06\n",
            "Root Mean Square Error: 0.0027858334905931205\n",
            "Mean Abolute Error: 0.0012176426495768234\n"
          ]
        }
      ]
    },
    {
      "cell_type": "code",
      "source": [
        "r2_test = r2_score(y_test,sales_pred_test)\n",
        "print(\"R^2 with test:\",r2_test)"
      ],
      "metadata": {
        "colab": {
          "base_uri": "https://localhost:8080/"
        },
        "id": "uDuNPBw6ay-t",
        "outputId": "2b59f38c-580f-4fdb-c092-89de02d5c538"
      },
      "execution_count": null,
      "outputs": [
        {
          "output_type": "stream",
          "name": "stdout",
          "text": [
            "R^2 with test: 0.997974556995927\n"
          ]
        }
      ]
    },
    {
      "cell_type": "markdown",
      "source": [
        "**test**"
      ],
      "metadata": {
        "id": "n5hNSyuJq-M9"
      }
    },
    {
      "cell_type": "markdown",
      "source": [
        "**PreProcessing**"
      ],
      "metadata": {
        "id": "1BN6qOdgn-5P"
      }
    },
    {
      "cell_type": "code",
      "source": [
        "test_data.shape"
      ],
      "metadata": {
        "colab": {
          "base_uri": "https://localhost:8080/"
        },
        "id": "03ApBuBrqPro",
        "outputId": "a3db1e4e-16a7-46cc-dfaf-702af3f0ede0"
      },
      "execution_count": null,
      "outputs": [
        {
          "output_type": "execute_result",
          "data": {
            "text/plain": [
              "(3320, 10)"
            ]
          },
          "metadata": {},
          "execution_count": 386
        }
      ]
    },
    {
      "cell_type": "code",
      "source": [
        "test_data.head()"
      ],
      "metadata": {
        "colab": {
          "base_uri": "https://localhost:8080/",
          "height": 206
        },
        "id": "fose6TPUnVbZ",
        "outputId": "160e1c1b-f2e8-498f-98bf-a07677aa15f5"
      },
      "execution_count": null,
      "outputs": [
        {
          "output_type": "execute_result",
          "data": {
            "text/plain": [
              "    Rank                         Name Platform    Year     Genre  \\\n",
              "0   5242           Tomb Raider (2013)       PC     NaN    Action   \n",
              "1   5500             MLB 09: The Show      PS2  2009.0    Sports   \n",
              "2  10183         Smash Court Tennis 3     X360  2007.0    Sports   \n",
              "3   5050  Dai-4-Ji Super Robot Taisen     SNES  1995.0  Strategy   \n",
              "4   4697           Cool Boarders 2001       PS  2000.0    Sports   \n",
              "\n",
              "                     Publisher  NA_Sales  EU_Sales  JP_Sales  Other_Sales  \n",
              "0                  Square Enix      0.06      0.25      0.00         0.05  \n",
              "1  Sony Computer Entertainment      0.16      0.13      0.00         0.04  \n",
              "2                        Atari      0.08      0.02      0.00         0.01  \n",
              "3                    Banpresto      0.00      0.00      0.38         0.00  \n",
              "4  Sony Computer Entertainment      0.23      0.16      0.00         0.03  "
            ],
            "text/html": [
              "\n",
              "  <div id=\"df-f8fce5b4-658c-4cf0-99fd-8d8cf6f9ad4b\">\n",
              "    <div class=\"colab-df-container\">\n",
              "      <div>\n",
              "<style scoped>\n",
              "    .dataframe tbody tr th:only-of-type {\n",
              "        vertical-align: middle;\n",
              "    }\n",
              "\n",
              "    .dataframe tbody tr th {\n",
              "        vertical-align: top;\n",
              "    }\n",
              "\n",
              "    .dataframe thead th {\n",
              "        text-align: right;\n",
              "    }\n",
              "</style>\n",
              "<table border=\"1\" class=\"dataframe\">\n",
              "  <thead>\n",
              "    <tr style=\"text-align: right;\">\n",
              "      <th></th>\n",
              "      <th>Rank</th>\n",
              "      <th>Name</th>\n",
              "      <th>Platform</th>\n",
              "      <th>Year</th>\n",
              "      <th>Genre</th>\n",
              "      <th>Publisher</th>\n",
              "      <th>NA_Sales</th>\n",
              "      <th>EU_Sales</th>\n",
              "      <th>JP_Sales</th>\n",
              "      <th>Other_Sales</th>\n",
              "    </tr>\n",
              "  </thead>\n",
              "  <tbody>\n",
              "    <tr>\n",
              "      <th>0</th>\n",
              "      <td>5242</td>\n",
              "      <td>Tomb Raider (2013)</td>\n",
              "      <td>PC</td>\n",
              "      <td>NaN</td>\n",
              "      <td>Action</td>\n",
              "      <td>Square Enix</td>\n",
              "      <td>0.06</td>\n",
              "      <td>0.25</td>\n",
              "      <td>0.00</td>\n",
              "      <td>0.05</td>\n",
              "    </tr>\n",
              "    <tr>\n",
              "      <th>1</th>\n",
              "      <td>5500</td>\n",
              "      <td>MLB 09: The Show</td>\n",
              "      <td>PS2</td>\n",
              "      <td>2009.0</td>\n",
              "      <td>Sports</td>\n",
              "      <td>Sony Computer Entertainment</td>\n",
              "      <td>0.16</td>\n",
              "      <td>0.13</td>\n",
              "      <td>0.00</td>\n",
              "      <td>0.04</td>\n",
              "    </tr>\n",
              "    <tr>\n",
              "      <th>2</th>\n",
              "      <td>10183</td>\n",
              "      <td>Smash Court Tennis 3</td>\n",
              "      <td>X360</td>\n",
              "      <td>2007.0</td>\n",
              "      <td>Sports</td>\n",
              "      <td>Atari</td>\n",
              "      <td>0.08</td>\n",
              "      <td>0.02</td>\n",
              "      <td>0.00</td>\n",
              "      <td>0.01</td>\n",
              "    </tr>\n",
              "    <tr>\n",
              "      <th>3</th>\n",
              "      <td>5050</td>\n",
              "      <td>Dai-4-Ji Super Robot Taisen</td>\n",
              "      <td>SNES</td>\n",
              "      <td>1995.0</td>\n",
              "      <td>Strategy</td>\n",
              "      <td>Banpresto</td>\n",
              "      <td>0.00</td>\n",
              "      <td>0.00</td>\n",
              "      <td>0.38</td>\n",
              "      <td>0.00</td>\n",
              "    </tr>\n",
              "    <tr>\n",
              "      <th>4</th>\n",
              "      <td>4697</td>\n",
              "      <td>Cool Boarders 2001</td>\n",
              "      <td>PS</td>\n",
              "      <td>2000.0</td>\n",
              "      <td>Sports</td>\n",
              "      <td>Sony Computer Entertainment</td>\n",
              "      <td>0.23</td>\n",
              "      <td>0.16</td>\n",
              "      <td>0.00</td>\n",
              "      <td>0.03</td>\n",
              "    </tr>\n",
              "  </tbody>\n",
              "</table>\n",
              "</div>\n",
              "      <button class=\"colab-df-convert\" onclick=\"convertToInteractive('df-f8fce5b4-658c-4cf0-99fd-8d8cf6f9ad4b')\"\n",
              "              title=\"Convert this dataframe to an interactive table.\"\n",
              "              style=\"display:none;\">\n",
              "        \n",
              "  <svg xmlns=\"http://www.w3.org/2000/svg\" height=\"24px\"viewBox=\"0 0 24 24\"\n",
              "       width=\"24px\">\n",
              "    <path d=\"M0 0h24v24H0V0z\" fill=\"none\"/>\n",
              "    <path d=\"M18.56 5.44l.94 2.06.94-2.06 2.06-.94-2.06-.94-.94-2.06-.94 2.06-2.06.94zm-11 1L8.5 8.5l.94-2.06 2.06-.94-2.06-.94L8.5 2.5l-.94 2.06-2.06.94zm10 10l.94 2.06.94-2.06 2.06-.94-2.06-.94-.94-2.06-.94 2.06-2.06.94z\"/><path d=\"M17.41 7.96l-1.37-1.37c-.4-.4-.92-.59-1.43-.59-.52 0-1.04.2-1.43.59L10.3 9.45l-7.72 7.72c-.78.78-.78 2.05 0 2.83L4 21.41c.39.39.9.59 1.41.59.51 0 1.02-.2 1.41-.59l7.78-7.78 2.81-2.81c.8-.78.8-2.07 0-2.86zM5.41 20L4 18.59l7.72-7.72 1.47 1.35L5.41 20z\"/>\n",
              "  </svg>\n",
              "      </button>\n",
              "      \n",
              "  <style>\n",
              "    .colab-df-container {\n",
              "      display:flex;\n",
              "      flex-wrap:wrap;\n",
              "      gap: 12px;\n",
              "    }\n",
              "\n",
              "    .colab-df-convert {\n",
              "      background-color: #E8F0FE;\n",
              "      border: none;\n",
              "      border-radius: 50%;\n",
              "      cursor: pointer;\n",
              "      display: none;\n",
              "      fill: #1967D2;\n",
              "      height: 32px;\n",
              "      padding: 0 0 0 0;\n",
              "      width: 32px;\n",
              "    }\n",
              "\n",
              "    .colab-df-convert:hover {\n",
              "      background-color: #E2EBFA;\n",
              "      box-shadow: 0px 1px 2px rgba(60, 64, 67, 0.3), 0px 1px 3px 1px rgba(60, 64, 67, 0.15);\n",
              "      fill: #174EA6;\n",
              "    }\n",
              "\n",
              "    [theme=dark] .colab-df-convert {\n",
              "      background-color: #3B4455;\n",
              "      fill: #D2E3FC;\n",
              "    }\n",
              "\n",
              "    [theme=dark] .colab-df-convert:hover {\n",
              "      background-color: #434B5C;\n",
              "      box-shadow: 0px 1px 3px 1px rgba(0, 0, 0, 0.15);\n",
              "      filter: drop-shadow(0px 1px 2px rgba(0, 0, 0, 0.3));\n",
              "      fill: #FFFFFF;\n",
              "    }\n",
              "  </style>\n",
              "\n",
              "      <script>\n",
              "        const buttonEl =\n",
              "          document.querySelector('#df-f8fce5b4-658c-4cf0-99fd-8d8cf6f9ad4b button.colab-df-convert');\n",
              "        buttonEl.style.display =\n",
              "          google.colab.kernel.accessAllowed ? 'block' : 'none';\n",
              "\n",
              "        async function convertToInteractive(key) {\n",
              "          const element = document.querySelector('#df-f8fce5b4-658c-4cf0-99fd-8d8cf6f9ad4b');\n",
              "          const dataTable =\n",
              "            await google.colab.kernel.invokeFunction('convertToInteractive',\n",
              "                                                     [key], {});\n",
              "          if (!dataTable) return;\n",
              "\n",
              "          const docLinkHtml = 'Like what you see? Visit the ' +\n",
              "            '<a target=\"_blank\" href=https://colab.research.google.com/notebooks/data_table.ipynb>data table notebook</a>'\n",
              "            + ' to learn more about interactive tables.';\n",
              "          element.innerHTML = '';\n",
              "          dataTable['output_type'] = 'display_data';\n",
              "          await google.colab.output.renderOutput(dataTable, element);\n",
              "          const docLink = document.createElement('div');\n",
              "          docLink.innerHTML = docLinkHtml;\n",
              "          element.appendChild(docLink);\n",
              "        }\n",
              "      </script>\n",
              "    </div>\n",
              "  </div>\n",
              "  "
            ]
          },
          "metadata": {},
          "execution_count": 387
        }
      ]
    },
    {
      "cell_type": "code",
      "source": [
        "test_data.tail()"
      ],
      "metadata": {
        "colab": {
          "base_uri": "https://localhost:8080/",
          "height": 206
        },
        "id": "OZPi9ZoMnVRK",
        "outputId": "bc2f279f-e400-4fc6-e1e8-806417f70c0a"
      },
      "execution_count": null,
      "outputs": [
        {
          "output_type": "execute_result",
          "data": {
            "text/plain": [
              "       Rank                                               Name Platform  \\\n",
              "3315   5298              One Piece: Gigant Battle 2 Shin Sekai       DS   \n",
              "3316   8193                       Fancy Nancy: Tea Party Time!       DS   \n",
              "3317  14514  Hiiro no Kakera: Shin Tamayori Hime Denshou - ...      PSP   \n",
              "3318   5837                     Dai-2-Ji Super Robot Taisen OG      PS3   \n",
              "3319   8533                              Crash Tag Team Racing       GC   \n",
              "\n",
              "        Year      Genre           Publisher  NA_Sales  EU_Sales  JP_Sales  \\\n",
              "3315  2011.0   Fighting  Namco Bandai Games      0.00      0.00      0.35   \n",
              "3316  2010.0  Adventure                 THQ      0.17      0.00      0.00   \n",
              "3317  2011.0  Adventure        Idea Factory      0.00      0.00      0.03   \n",
              "3318  2012.0   Strategy  Namco Bandai Games      0.00      0.00      0.30   \n",
              "3319  2005.0     Racing       Vivendi Games      0.12      0.03      0.00   \n",
              "\n",
              "      Other_Sales  \n",
              "3315         0.00  \n",
              "3316         0.01  \n",
              "3317         0.00  \n",
              "3318         0.00  \n",
              "3319         0.00  "
            ],
            "text/html": [
              "\n",
              "  <div id=\"df-d3b8522d-c51d-4f3e-aff8-319a63b601d6\">\n",
              "    <div class=\"colab-df-container\">\n",
              "      <div>\n",
              "<style scoped>\n",
              "    .dataframe tbody tr th:only-of-type {\n",
              "        vertical-align: middle;\n",
              "    }\n",
              "\n",
              "    .dataframe tbody tr th {\n",
              "        vertical-align: top;\n",
              "    }\n",
              "\n",
              "    .dataframe thead th {\n",
              "        text-align: right;\n",
              "    }\n",
              "</style>\n",
              "<table border=\"1\" class=\"dataframe\">\n",
              "  <thead>\n",
              "    <tr style=\"text-align: right;\">\n",
              "      <th></th>\n",
              "      <th>Rank</th>\n",
              "      <th>Name</th>\n",
              "      <th>Platform</th>\n",
              "      <th>Year</th>\n",
              "      <th>Genre</th>\n",
              "      <th>Publisher</th>\n",
              "      <th>NA_Sales</th>\n",
              "      <th>EU_Sales</th>\n",
              "      <th>JP_Sales</th>\n",
              "      <th>Other_Sales</th>\n",
              "    </tr>\n",
              "  </thead>\n",
              "  <tbody>\n",
              "    <tr>\n",
              "      <th>3315</th>\n",
              "      <td>5298</td>\n",
              "      <td>One Piece: Gigant Battle 2 Shin Sekai</td>\n",
              "      <td>DS</td>\n",
              "      <td>2011.0</td>\n",
              "      <td>Fighting</td>\n",
              "      <td>Namco Bandai Games</td>\n",
              "      <td>0.00</td>\n",
              "      <td>0.00</td>\n",
              "      <td>0.35</td>\n",
              "      <td>0.00</td>\n",
              "    </tr>\n",
              "    <tr>\n",
              "      <th>3316</th>\n",
              "      <td>8193</td>\n",
              "      <td>Fancy Nancy: Tea Party Time!</td>\n",
              "      <td>DS</td>\n",
              "      <td>2010.0</td>\n",
              "      <td>Adventure</td>\n",
              "      <td>THQ</td>\n",
              "      <td>0.17</td>\n",
              "      <td>0.00</td>\n",
              "      <td>0.00</td>\n",
              "      <td>0.01</td>\n",
              "    </tr>\n",
              "    <tr>\n",
              "      <th>3317</th>\n",
              "      <td>14514</td>\n",
              "      <td>Hiiro no Kakera: Shin Tamayori Hime Denshou - ...</td>\n",
              "      <td>PSP</td>\n",
              "      <td>2011.0</td>\n",
              "      <td>Adventure</td>\n",
              "      <td>Idea Factory</td>\n",
              "      <td>0.00</td>\n",
              "      <td>0.00</td>\n",
              "      <td>0.03</td>\n",
              "      <td>0.00</td>\n",
              "    </tr>\n",
              "    <tr>\n",
              "      <th>3318</th>\n",
              "      <td>5837</td>\n",
              "      <td>Dai-2-Ji Super Robot Taisen OG</td>\n",
              "      <td>PS3</td>\n",
              "      <td>2012.0</td>\n",
              "      <td>Strategy</td>\n",
              "      <td>Namco Bandai Games</td>\n",
              "      <td>0.00</td>\n",
              "      <td>0.00</td>\n",
              "      <td>0.30</td>\n",
              "      <td>0.00</td>\n",
              "    </tr>\n",
              "    <tr>\n",
              "      <th>3319</th>\n",
              "      <td>8533</td>\n",
              "      <td>Crash Tag Team Racing</td>\n",
              "      <td>GC</td>\n",
              "      <td>2005.0</td>\n",
              "      <td>Racing</td>\n",
              "      <td>Vivendi Games</td>\n",
              "      <td>0.12</td>\n",
              "      <td>0.03</td>\n",
              "      <td>0.00</td>\n",
              "      <td>0.00</td>\n",
              "    </tr>\n",
              "  </tbody>\n",
              "</table>\n",
              "</div>\n",
              "      <button class=\"colab-df-convert\" onclick=\"convertToInteractive('df-d3b8522d-c51d-4f3e-aff8-319a63b601d6')\"\n",
              "              title=\"Convert this dataframe to an interactive table.\"\n",
              "              style=\"display:none;\">\n",
              "        \n",
              "  <svg xmlns=\"http://www.w3.org/2000/svg\" height=\"24px\"viewBox=\"0 0 24 24\"\n",
              "       width=\"24px\">\n",
              "    <path d=\"M0 0h24v24H0V0z\" fill=\"none\"/>\n",
              "    <path d=\"M18.56 5.44l.94 2.06.94-2.06 2.06-.94-2.06-.94-.94-2.06-.94 2.06-2.06.94zm-11 1L8.5 8.5l.94-2.06 2.06-.94-2.06-.94L8.5 2.5l-.94 2.06-2.06.94zm10 10l.94 2.06.94-2.06 2.06-.94-2.06-.94-.94-2.06-.94 2.06-2.06.94z\"/><path d=\"M17.41 7.96l-1.37-1.37c-.4-.4-.92-.59-1.43-.59-.52 0-1.04.2-1.43.59L10.3 9.45l-7.72 7.72c-.78.78-.78 2.05 0 2.83L4 21.41c.39.39.9.59 1.41.59.51 0 1.02-.2 1.41-.59l7.78-7.78 2.81-2.81c.8-.78.8-2.07 0-2.86zM5.41 20L4 18.59l7.72-7.72 1.47 1.35L5.41 20z\"/>\n",
              "  </svg>\n",
              "      </button>\n",
              "      \n",
              "  <style>\n",
              "    .colab-df-container {\n",
              "      display:flex;\n",
              "      flex-wrap:wrap;\n",
              "      gap: 12px;\n",
              "    }\n",
              "\n",
              "    .colab-df-convert {\n",
              "      background-color: #E8F0FE;\n",
              "      border: none;\n",
              "      border-radius: 50%;\n",
              "      cursor: pointer;\n",
              "      display: none;\n",
              "      fill: #1967D2;\n",
              "      height: 32px;\n",
              "      padding: 0 0 0 0;\n",
              "      width: 32px;\n",
              "    }\n",
              "\n",
              "    .colab-df-convert:hover {\n",
              "      background-color: #E2EBFA;\n",
              "      box-shadow: 0px 1px 2px rgba(60, 64, 67, 0.3), 0px 1px 3px 1px rgba(60, 64, 67, 0.15);\n",
              "      fill: #174EA6;\n",
              "    }\n",
              "\n",
              "    [theme=dark] .colab-df-convert {\n",
              "      background-color: #3B4455;\n",
              "      fill: #D2E3FC;\n",
              "    }\n",
              "\n",
              "    [theme=dark] .colab-df-convert:hover {\n",
              "      background-color: #434B5C;\n",
              "      box-shadow: 0px 1px 3px 1px rgba(0, 0, 0, 0.15);\n",
              "      filter: drop-shadow(0px 1px 2px rgba(0, 0, 0, 0.3));\n",
              "      fill: #FFFFFF;\n",
              "    }\n",
              "  </style>\n",
              "\n",
              "      <script>\n",
              "        const buttonEl =\n",
              "          document.querySelector('#df-d3b8522d-c51d-4f3e-aff8-319a63b601d6 button.colab-df-convert');\n",
              "        buttonEl.style.display =\n",
              "          google.colab.kernel.accessAllowed ? 'block' : 'none';\n",
              "\n",
              "        async function convertToInteractive(key) {\n",
              "          const element = document.querySelector('#df-d3b8522d-c51d-4f3e-aff8-319a63b601d6');\n",
              "          const dataTable =\n",
              "            await google.colab.kernel.invokeFunction('convertToInteractive',\n",
              "                                                     [key], {});\n",
              "          if (!dataTable) return;\n",
              "\n",
              "          const docLinkHtml = 'Like what you see? Visit the ' +\n",
              "            '<a target=\"_blank\" href=https://colab.research.google.com/notebooks/data_table.ipynb>data table notebook</a>'\n",
              "            + ' to learn more about interactive tables.';\n",
              "          element.innerHTML = '';\n",
              "          dataTable['output_type'] = 'display_data';\n",
              "          await google.colab.output.renderOutput(dataTable, element);\n",
              "          const docLink = document.createElement('div');\n",
              "          docLink.innerHTML = docLinkHtml;\n",
              "          element.appendChild(docLink);\n",
              "        }\n",
              "      </script>\n",
              "    </div>\n",
              "  </div>\n",
              "  "
            ]
          },
          "metadata": {},
          "execution_count": 388
        }
      ]
    },
    {
      "cell_type": "code",
      "source": [
        "test_data.info()"
      ],
      "metadata": {
        "colab": {
          "base_uri": "https://localhost:8080/"
        },
        "id": "-XU36BXynVYG",
        "outputId": "2c89cc64-022d-4f5c-95a5-80a9f34ac5b1"
      },
      "execution_count": null,
      "outputs": [
        {
          "output_type": "stream",
          "name": "stdout",
          "text": [
            "<class 'pandas.core.frame.DataFrame'>\n",
            "RangeIndex: 3320 entries, 0 to 3319\n",
            "Data columns (total 10 columns):\n",
            " #   Column       Non-Null Count  Dtype  \n",
            "---  ------       --------------  -----  \n",
            " 0   Rank         3320 non-null   int64  \n",
            " 1   Name         3320 non-null   object \n",
            " 2   Platform     3320 non-null   object \n",
            " 3   Year         3270 non-null   float64\n",
            " 4   Genre        3320 non-null   object \n",
            " 5   Publisher    3314 non-null   object \n",
            " 6   NA_Sales     3320 non-null   float64\n",
            " 7   EU_Sales     3320 non-null   float64\n",
            " 8   JP_Sales     3320 non-null   float64\n",
            " 9   Other_Sales  3320 non-null   float64\n",
            "dtypes: float64(5), int64(1), object(4)\n",
            "memory usage: 259.5+ KB\n"
          ]
        }
      ]
    },
    {
      "cell_type": "code",
      "source": [
        "pd.set_option('max_rows',False)"
      ],
      "metadata": {
        "id": "J82sKJDWunTd"
      },
      "execution_count": null,
      "outputs": []
    },
    {
      "cell_type": "code",
      "source": [
        "test_data.columns"
      ],
      "metadata": {
        "colab": {
          "base_uri": "https://localhost:8080/"
        },
        "id": "WpfFU6M_0fic",
        "outputId": "08108475-2143-41fd-c401-2639d57daf79"
      },
      "execution_count": null,
      "outputs": [
        {
          "output_type": "execute_result",
          "data": {
            "text/plain": [
              "Index(['Rank', 'Name', 'Platform', 'Year', 'Genre', 'Publisher', 'NA_Sales',\n",
              "       'EU_Sales', 'JP_Sales', 'Other_Sales'],\n",
              "      dtype='object')"
            ]
          },
          "metadata": {},
          "execution_count": 391
        }
      ]
    },
    {
      "cell_type": "code",
      "source": [
        "test_data = test_data.drop(labels=['Name'],axis=1)\n",
        "test_data.head()"
      ],
      "metadata": {
        "colab": {
          "base_uri": "https://localhost:8080/",
          "height": 206
        },
        "id": "zh5skCOdsUy1",
        "outputId": "0ed4f8f6-eb6e-4df3-ffc0-115f394960bf"
      },
      "execution_count": null,
      "outputs": [
        {
          "output_type": "execute_result",
          "data": {
            "text/plain": [
              "    Rank Platform    Year     Genre                    Publisher  NA_Sales  \\\n",
              "0   5242       PC     NaN    Action                  Square Enix      0.06   \n",
              "1   5500      PS2  2009.0    Sports  Sony Computer Entertainment      0.16   \n",
              "2  10183     X360  2007.0    Sports                        Atari      0.08   \n",
              "3   5050     SNES  1995.0  Strategy                    Banpresto      0.00   \n",
              "4   4697       PS  2000.0    Sports  Sony Computer Entertainment      0.23   \n",
              "\n",
              "   EU_Sales  JP_Sales  Other_Sales  \n",
              "0      0.25      0.00         0.05  \n",
              "1      0.13      0.00         0.04  \n",
              "2      0.02      0.00         0.01  \n",
              "3      0.00      0.38         0.00  \n",
              "4      0.16      0.00         0.03  "
            ],
            "text/html": [
              "\n",
              "  <div id=\"df-67bae06c-740b-4e1f-9d4d-84ba60064f5a\">\n",
              "    <div class=\"colab-df-container\">\n",
              "      <div>\n",
              "<style scoped>\n",
              "    .dataframe tbody tr th:only-of-type {\n",
              "        vertical-align: middle;\n",
              "    }\n",
              "\n",
              "    .dataframe tbody tr th {\n",
              "        vertical-align: top;\n",
              "    }\n",
              "\n",
              "    .dataframe thead th {\n",
              "        text-align: right;\n",
              "    }\n",
              "</style>\n",
              "<table border=\"1\" class=\"dataframe\">\n",
              "  <thead>\n",
              "    <tr style=\"text-align: right;\">\n",
              "      <th></th>\n",
              "      <th>Rank</th>\n",
              "      <th>Platform</th>\n",
              "      <th>Year</th>\n",
              "      <th>Genre</th>\n",
              "      <th>Publisher</th>\n",
              "      <th>NA_Sales</th>\n",
              "      <th>EU_Sales</th>\n",
              "      <th>JP_Sales</th>\n",
              "      <th>Other_Sales</th>\n",
              "    </tr>\n",
              "  </thead>\n",
              "  <tbody>\n",
              "    <tr>\n",
              "      <th>0</th>\n",
              "      <td>5242</td>\n",
              "      <td>PC</td>\n",
              "      <td>NaN</td>\n",
              "      <td>Action</td>\n",
              "      <td>Square Enix</td>\n",
              "      <td>0.06</td>\n",
              "      <td>0.25</td>\n",
              "      <td>0.00</td>\n",
              "      <td>0.05</td>\n",
              "    </tr>\n",
              "    <tr>\n",
              "      <th>1</th>\n",
              "      <td>5500</td>\n",
              "      <td>PS2</td>\n",
              "      <td>2009.0</td>\n",
              "      <td>Sports</td>\n",
              "      <td>Sony Computer Entertainment</td>\n",
              "      <td>0.16</td>\n",
              "      <td>0.13</td>\n",
              "      <td>0.00</td>\n",
              "      <td>0.04</td>\n",
              "    </tr>\n",
              "    <tr>\n",
              "      <th>2</th>\n",
              "      <td>10183</td>\n",
              "      <td>X360</td>\n",
              "      <td>2007.0</td>\n",
              "      <td>Sports</td>\n",
              "      <td>Atari</td>\n",
              "      <td>0.08</td>\n",
              "      <td>0.02</td>\n",
              "      <td>0.00</td>\n",
              "      <td>0.01</td>\n",
              "    </tr>\n",
              "    <tr>\n",
              "      <th>3</th>\n",
              "      <td>5050</td>\n",
              "      <td>SNES</td>\n",
              "      <td>1995.0</td>\n",
              "      <td>Strategy</td>\n",
              "      <td>Banpresto</td>\n",
              "      <td>0.00</td>\n",
              "      <td>0.00</td>\n",
              "      <td>0.38</td>\n",
              "      <td>0.00</td>\n",
              "    </tr>\n",
              "    <tr>\n",
              "      <th>4</th>\n",
              "      <td>4697</td>\n",
              "      <td>PS</td>\n",
              "      <td>2000.0</td>\n",
              "      <td>Sports</td>\n",
              "      <td>Sony Computer Entertainment</td>\n",
              "      <td>0.23</td>\n",
              "      <td>0.16</td>\n",
              "      <td>0.00</td>\n",
              "      <td>0.03</td>\n",
              "    </tr>\n",
              "  </tbody>\n",
              "</table>\n",
              "</div>\n",
              "      <button class=\"colab-df-convert\" onclick=\"convertToInteractive('df-67bae06c-740b-4e1f-9d4d-84ba60064f5a')\"\n",
              "              title=\"Convert this dataframe to an interactive table.\"\n",
              "              style=\"display:none;\">\n",
              "        \n",
              "  <svg xmlns=\"http://www.w3.org/2000/svg\" height=\"24px\"viewBox=\"0 0 24 24\"\n",
              "       width=\"24px\">\n",
              "    <path d=\"M0 0h24v24H0V0z\" fill=\"none\"/>\n",
              "    <path d=\"M18.56 5.44l.94 2.06.94-2.06 2.06-.94-2.06-.94-.94-2.06-.94 2.06-2.06.94zm-11 1L8.5 8.5l.94-2.06 2.06-.94-2.06-.94L8.5 2.5l-.94 2.06-2.06.94zm10 10l.94 2.06.94-2.06 2.06-.94-2.06-.94-.94-2.06-.94 2.06-2.06.94z\"/><path d=\"M17.41 7.96l-1.37-1.37c-.4-.4-.92-.59-1.43-.59-.52 0-1.04.2-1.43.59L10.3 9.45l-7.72 7.72c-.78.78-.78 2.05 0 2.83L4 21.41c.39.39.9.59 1.41.59.51 0 1.02-.2 1.41-.59l7.78-7.78 2.81-2.81c.8-.78.8-2.07 0-2.86zM5.41 20L4 18.59l7.72-7.72 1.47 1.35L5.41 20z\"/>\n",
              "  </svg>\n",
              "      </button>\n",
              "      \n",
              "  <style>\n",
              "    .colab-df-container {\n",
              "      display:flex;\n",
              "      flex-wrap:wrap;\n",
              "      gap: 12px;\n",
              "    }\n",
              "\n",
              "    .colab-df-convert {\n",
              "      background-color: #E8F0FE;\n",
              "      border: none;\n",
              "      border-radius: 50%;\n",
              "      cursor: pointer;\n",
              "      display: none;\n",
              "      fill: #1967D2;\n",
              "      height: 32px;\n",
              "      padding: 0 0 0 0;\n",
              "      width: 32px;\n",
              "    }\n",
              "\n",
              "    .colab-df-convert:hover {\n",
              "      background-color: #E2EBFA;\n",
              "      box-shadow: 0px 1px 2px rgba(60, 64, 67, 0.3), 0px 1px 3px 1px rgba(60, 64, 67, 0.15);\n",
              "      fill: #174EA6;\n",
              "    }\n",
              "\n",
              "    [theme=dark] .colab-df-convert {\n",
              "      background-color: #3B4455;\n",
              "      fill: #D2E3FC;\n",
              "    }\n",
              "\n",
              "    [theme=dark] .colab-df-convert:hover {\n",
              "      background-color: #434B5C;\n",
              "      box-shadow: 0px 1px 3px 1px rgba(0, 0, 0, 0.15);\n",
              "      filter: drop-shadow(0px 1px 2px rgba(0, 0, 0, 0.3));\n",
              "      fill: #FFFFFF;\n",
              "    }\n",
              "  </style>\n",
              "\n",
              "      <script>\n",
              "        const buttonEl =\n",
              "          document.querySelector('#df-67bae06c-740b-4e1f-9d4d-84ba60064f5a button.colab-df-convert');\n",
              "        buttonEl.style.display =\n",
              "          google.colab.kernel.accessAllowed ? 'block' : 'none';\n",
              "\n",
              "        async function convertToInteractive(key) {\n",
              "          const element = document.querySelector('#df-67bae06c-740b-4e1f-9d4d-84ba60064f5a');\n",
              "          const dataTable =\n",
              "            await google.colab.kernel.invokeFunction('convertToInteractive',\n",
              "                                                     [key], {});\n",
              "          if (!dataTable) return;\n",
              "\n",
              "          const docLinkHtml = 'Like what you see? Visit the ' +\n",
              "            '<a target=\"_blank\" href=https://colab.research.google.com/notebooks/data_table.ipynb>data table notebook</a>'\n",
              "            + ' to learn more about interactive tables.';\n",
              "          element.innerHTML = '';\n",
              "          dataTable['output_type'] = 'display_data';\n",
              "          await google.colab.output.renderOutput(dataTable, element);\n",
              "          const docLink = document.createElement('div');\n",
              "          docLink.innerHTML = docLinkHtml;\n",
              "          element.appendChild(docLink);\n",
              "        }\n",
              "      </script>\n",
              "    </div>\n",
              "  </div>\n",
              "  "
            ]
          },
          "metadata": {},
          "execution_count": 392
        }
      ]
    },
    {
      "cell_type": "markdown",
      "source": [
        "**Dealing with null values**"
      ],
      "metadata": {
        "id": "OaF79FDHoEWH"
      }
    },
    {
      "cell_type": "code",
      "source": [
        "test_data.isna().sum()"
      ],
      "metadata": {
        "colab": {
          "base_uri": "https://localhost:8080/"
        },
        "id": "_hX13WmosUvo",
        "outputId": "98ca9c68-f467-447e-bc1c-843c50384af5"
      },
      "execution_count": null,
      "outputs": [
        {
          "output_type": "execute_result",
          "data": {
            "text/plain": [
              "Rank            0\n",
              "Platform        0\n",
              "Year           50\n",
              "Genre           0\n",
              "Publisher       6\n",
              "NA_Sales        0\n",
              "EU_Sales        0\n",
              "JP_Sales        0\n",
              "Other_Sales     0\n",
              "dtype: int64"
            ]
          },
          "metadata": {},
          "execution_count": 393
        }
      ]
    },
    {
      "cell_type": "code",
      "source": [
        "test_data['Year'] = test_data['Year'].fillna(test_data['Year'].mode()[0])"
      ],
      "metadata": {
        "id": "p0jeZ0AOvI6X"
      },
      "execution_count": null,
      "outputs": []
    },
    {
      "cell_type": "code",
      "source": [
        "test_data.isna().sum()"
      ],
      "metadata": {
        "colab": {
          "base_uri": "https://localhost:8080/"
        },
        "id": "_5LQmo7evI2w",
        "outputId": "6147602d-e405-462d-ee65-269641d89410"
      },
      "execution_count": null,
      "outputs": [
        {
          "output_type": "execute_result",
          "data": {
            "text/plain": [
              "Rank           0\n",
              "Platform       0\n",
              "Year           0\n",
              "Genre          0\n",
              "Publisher      6\n",
              "NA_Sales       0\n",
              "EU_Sales       0\n",
              "JP_Sales       0\n",
              "Other_Sales    0\n",
              "dtype: int64"
            ]
          },
          "metadata": {},
          "execution_count": 395
        }
      ]
    },
    {
      "cell_type": "code",
      "source": [
        "test_data['Publisher'] = test_data['Publisher'].fillna(test_data['Publisher'].mode()[0])"
      ],
      "metadata": {
        "id": "4lqSEIUivIzu"
      },
      "execution_count": null,
      "outputs": []
    },
    {
      "cell_type": "code",
      "source": [
        "test_data.isna().sum()"
      ],
      "metadata": {
        "colab": {
          "base_uri": "https://localhost:8080/"
        },
        "id": "ix8AoxfhvIwT",
        "outputId": "ac5323f7-2c6d-475a-b471-0639a747c871"
      },
      "execution_count": null,
      "outputs": [
        {
          "output_type": "execute_result",
          "data": {
            "text/plain": [
              "Rank           0\n",
              "Platform       0\n",
              "Year           0\n",
              "Genre          0\n",
              "Publisher      0\n",
              "NA_Sales       0\n",
              "EU_Sales       0\n",
              "JP_Sales       0\n",
              "Other_Sales    0\n",
              "dtype: int64"
            ]
          },
          "metadata": {},
          "execution_count": 397
        }
      ]
    },
    {
      "cell_type": "code",
      "source": [
        "test_data.dtypes"
      ],
      "metadata": {
        "colab": {
          "base_uri": "https://localhost:8080/"
        },
        "id": "S3N05Oe6vwud",
        "outputId": "4cd951d6-76ea-480c-f1d7-476c3afd4b4e"
      },
      "execution_count": null,
      "outputs": [
        {
          "output_type": "execute_result",
          "data": {
            "text/plain": [
              "Rank             int64\n",
              "Platform        object\n",
              "Year           float64\n",
              "Genre           object\n",
              "Publisher       object\n",
              "NA_Sales       float64\n",
              "EU_Sales       float64\n",
              "JP_Sales       float64\n",
              "Other_Sales    float64\n",
              "dtype: object"
            ]
          },
          "metadata": {},
          "execution_count": 398
        }
      ]
    },
    {
      "cell_type": "markdown",
      "source": [
        "**Encoding**"
      ],
      "metadata": {
        "id": "OmuCUP59oJXe"
      }
    },
    {
      "cell_type": "code",
      "source": [
        "from sklearn.preprocessing import LabelEncoder\n",
        "\n",
        "for i in test_data.columns:\n",
        "  if test_data[i].dtype == 'object':\n",
        "    lable_encoder = LabelEncoder()\n",
        "    test_data[i] = lable_encoder.fit_transform(test_data[i])"
      ],
      "metadata": {
        "id": "nlxLQMvPvItN"
      },
      "execution_count": null,
      "outputs": []
    },
    {
      "cell_type": "code",
      "source": [
        "test_data.head()"
      ],
      "metadata": {
        "colab": {
          "base_uri": "https://localhost:8080/",
          "height": 206
        },
        "id": "F_MnzjSuvj0W",
        "outputId": "3d4bbcc5-4e23-4aa4-9466-c4535670c22c"
      },
      "execution_count": null,
      "outputs": [
        {
          "output_type": "execute_result",
          "data": {
            "text/plain": [
              "    Rank  Platform    Year  Genre  Publisher  NA_Sales  EU_Sales  JP_Sales  \\\n",
              "0   5242        11  2009.0      0        252      0.06      0.25      0.00   \n",
              "1   5500        13  2009.0     10        245      0.16      0.13      0.00   \n",
              "2  10183        24  2007.0     10         30      0.08      0.02      0.00   \n",
              "3   5050        20  1995.0     11         37      0.00      0.00      0.38   \n",
              "4   4697        12  2000.0     10        245      0.23      0.16      0.00   \n",
              "\n",
              "   Other_Sales  \n",
              "0         0.05  \n",
              "1         0.04  \n",
              "2         0.01  \n",
              "3         0.00  \n",
              "4         0.03  "
            ],
            "text/html": [
              "\n",
              "  <div id=\"df-2f5277c5-a706-4f42-a431-542cad9d0edf\">\n",
              "    <div class=\"colab-df-container\">\n",
              "      <div>\n",
              "<style scoped>\n",
              "    .dataframe tbody tr th:only-of-type {\n",
              "        vertical-align: middle;\n",
              "    }\n",
              "\n",
              "    .dataframe tbody tr th {\n",
              "        vertical-align: top;\n",
              "    }\n",
              "\n",
              "    .dataframe thead th {\n",
              "        text-align: right;\n",
              "    }\n",
              "</style>\n",
              "<table border=\"1\" class=\"dataframe\">\n",
              "  <thead>\n",
              "    <tr style=\"text-align: right;\">\n",
              "      <th></th>\n",
              "      <th>Rank</th>\n",
              "      <th>Platform</th>\n",
              "      <th>Year</th>\n",
              "      <th>Genre</th>\n",
              "      <th>Publisher</th>\n",
              "      <th>NA_Sales</th>\n",
              "      <th>EU_Sales</th>\n",
              "      <th>JP_Sales</th>\n",
              "      <th>Other_Sales</th>\n",
              "    </tr>\n",
              "  </thead>\n",
              "  <tbody>\n",
              "    <tr>\n",
              "      <th>0</th>\n",
              "      <td>5242</td>\n",
              "      <td>11</td>\n",
              "      <td>2009.0</td>\n",
              "      <td>0</td>\n",
              "      <td>252</td>\n",
              "      <td>0.06</td>\n",
              "      <td>0.25</td>\n",
              "      <td>0.00</td>\n",
              "      <td>0.05</td>\n",
              "    </tr>\n",
              "    <tr>\n",
              "      <th>1</th>\n",
              "      <td>5500</td>\n",
              "      <td>13</td>\n",
              "      <td>2009.0</td>\n",
              "      <td>10</td>\n",
              "      <td>245</td>\n",
              "      <td>0.16</td>\n",
              "      <td>0.13</td>\n",
              "      <td>0.00</td>\n",
              "      <td>0.04</td>\n",
              "    </tr>\n",
              "    <tr>\n",
              "      <th>2</th>\n",
              "      <td>10183</td>\n",
              "      <td>24</td>\n",
              "      <td>2007.0</td>\n",
              "      <td>10</td>\n",
              "      <td>30</td>\n",
              "      <td>0.08</td>\n",
              "      <td>0.02</td>\n",
              "      <td>0.00</td>\n",
              "      <td>0.01</td>\n",
              "    </tr>\n",
              "    <tr>\n",
              "      <th>3</th>\n",
              "      <td>5050</td>\n",
              "      <td>20</td>\n",
              "      <td>1995.0</td>\n",
              "      <td>11</td>\n",
              "      <td>37</td>\n",
              "      <td>0.00</td>\n",
              "      <td>0.00</td>\n",
              "      <td>0.38</td>\n",
              "      <td>0.00</td>\n",
              "    </tr>\n",
              "    <tr>\n",
              "      <th>4</th>\n",
              "      <td>4697</td>\n",
              "      <td>12</td>\n",
              "      <td>2000.0</td>\n",
              "      <td>10</td>\n",
              "      <td>245</td>\n",
              "      <td>0.23</td>\n",
              "      <td>0.16</td>\n",
              "      <td>0.00</td>\n",
              "      <td>0.03</td>\n",
              "    </tr>\n",
              "  </tbody>\n",
              "</table>\n",
              "</div>\n",
              "      <button class=\"colab-df-convert\" onclick=\"convertToInteractive('df-2f5277c5-a706-4f42-a431-542cad9d0edf')\"\n",
              "              title=\"Convert this dataframe to an interactive table.\"\n",
              "              style=\"display:none;\">\n",
              "        \n",
              "  <svg xmlns=\"http://www.w3.org/2000/svg\" height=\"24px\"viewBox=\"0 0 24 24\"\n",
              "       width=\"24px\">\n",
              "    <path d=\"M0 0h24v24H0V0z\" fill=\"none\"/>\n",
              "    <path d=\"M18.56 5.44l.94 2.06.94-2.06 2.06-.94-2.06-.94-.94-2.06-.94 2.06-2.06.94zm-11 1L8.5 8.5l.94-2.06 2.06-.94-2.06-.94L8.5 2.5l-.94 2.06-2.06.94zm10 10l.94 2.06.94-2.06 2.06-.94-2.06-.94-.94-2.06-.94 2.06-2.06.94z\"/><path d=\"M17.41 7.96l-1.37-1.37c-.4-.4-.92-.59-1.43-.59-.52 0-1.04.2-1.43.59L10.3 9.45l-7.72 7.72c-.78.78-.78 2.05 0 2.83L4 21.41c.39.39.9.59 1.41.59.51 0 1.02-.2 1.41-.59l7.78-7.78 2.81-2.81c.8-.78.8-2.07 0-2.86zM5.41 20L4 18.59l7.72-7.72 1.47 1.35L5.41 20z\"/>\n",
              "  </svg>\n",
              "      </button>\n",
              "      \n",
              "  <style>\n",
              "    .colab-df-container {\n",
              "      display:flex;\n",
              "      flex-wrap:wrap;\n",
              "      gap: 12px;\n",
              "    }\n",
              "\n",
              "    .colab-df-convert {\n",
              "      background-color: #E8F0FE;\n",
              "      border: none;\n",
              "      border-radius: 50%;\n",
              "      cursor: pointer;\n",
              "      display: none;\n",
              "      fill: #1967D2;\n",
              "      height: 32px;\n",
              "      padding: 0 0 0 0;\n",
              "      width: 32px;\n",
              "    }\n",
              "\n",
              "    .colab-df-convert:hover {\n",
              "      background-color: #E2EBFA;\n",
              "      box-shadow: 0px 1px 2px rgba(60, 64, 67, 0.3), 0px 1px 3px 1px rgba(60, 64, 67, 0.15);\n",
              "      fill: #174EA6;\n",
              "    }\n",
              "\n",
              "    [theme=dark] .colab-df-convert {\n",
              "      background-color: #3B4455;\n",
              "      fill: #D2E3FC;\n",
              "    }\n",
              "\n",
              "    [theme=dark] .colab-df-convert:hover {\n",
              "      background-color: #434B5C;\n",
              "      box-shadow: 0px 1px 3px 1px rgba(0, 0, 0, 0.15);\n",
              "      filter: drop-shadow(0px 1px 2px rgba(0, 0, 0, 0.3));\n",
              "      fill: #FFFFFF;\n",
              "    }\n",
              "  </style>\n",
              "\n",
              "      <script>\n",
              "        const buttonEl =\n",
              "          document.querySelector('#df-2f5277c5-a706-4f42-a431-542cad9d0edf button.colab-df-convert');\n",
              "        buttonEl.style.display =\n",
              "          google.colab.kernel.accessAllowed ? 'block' : 'none';\n",
              "\n",
              "        async function convertToInteractive(key) {\n",
              "          const element = document.querySelector('#df-2f5277c5-a706-4f42-a431-542cad9d0edf');\n",
              "          const dataTable =\n",
              "            await google.colab.kernel.invokeFunction('convertToInteractive',\n",
              "                                                     [key], {});\n",
              "          if (!dataTable) return;\n",
              "\n",
              "          const docLinkHtml = 'Like what you see? Visit the ' +\n",
              "            '<a target=\"_blank\" href=https://colab.research.google.com/notebooks/data_table.ipynb>data table notebook</a>'\n",
              "            + ' to learn more about interactive tables.';\n",
              "          element.innerHTML = '';\n",
              "          dataTable['output_type'] = 'display_data';\n",
              "          await google.colab.output.renderOutput(dataTable, element);\n",
              "          const docLink = document.createElement('div');\n",
              "          docLink.innerHTML = docLinkHtml;\n",
              "          element.appendChild(docLink);\n",
              "        }\n",
              "      </script>\n",
              "    </div>\n",
              "  </div>\n",
              "  "
            ]
          },
          "metadata": {},
          "execution_count": 400
        }
      ]
    },
    {
      "cell_type": "markdown",
      "source": [
        "**Standardizing the data**"
      ],
      "metadata": {
        "id": "5Roj7DOvoMPn"
      }
    },
    {
      "cell_type": "code",
      "source": [
        "#manual Standardizing\n",
        "x_test_mean = test_data.mean()\n",
        "print('mean \\n',x_test_mean)\n",
        "x_test_std = test_data.std()\n",
        "print('std \\n',x_test_std)"
      ],
      "metadata": {
        "colab": {
          "base_uri": "https://localhost:8080/"
        },
        "id": "tUvun7Mjvjxd",
        "outputId": "1be649cf-5185-431b-f01d-fd51baeae64c"
      },
      "execution_count": null,
      "outputs": [
        {
          "output_type": "stream",
          "name": "stdout",
          "text": [
            "mean \n",
            " Rank           8258.380120\n",
            "Platform         13.077711\n",
            "Year           2006.417169\n",
            "Genre             4.907831\n",
            "Publisher       161.459940\n",
            "NA_Sales          0.267331\n",
            "EU_Sales          0.146030\n",
            "JP_Sales          0.080370\n",
            "Other_Sales       0.047211\n",
            "dtype: float64\n",
            "std \n",
            " Rank           4761.105671\n",
            "Platform          7.266833\n",
            "Year              5.883196\n",
            "Genre             3.822508\n",
            "Publisher        96.001266\n",
            "NA_Sales          0.661116\n",
            "EU_Sales          0.441512\n",
            "JP_Sales          0.303601\n",
            "Other_Sales       0.149022\n",
            "dtype: float64\n"
          ]
        }
      ]
    },
    {
      "cell_type": "code",
      "source": [
        "test_data = (test_data - x_test_mean) / x_test_std\n",
        "test_data.describe()"
      ],
      "metadata": {
        "colab": {
          "base_uri": "https://localhost:8080/",
          "height": 300
        },
        "id": "UkfewnZKw6Q8",
        "outputId": "7c3a2e71-82c6-4ff6-e51b-642988c76344"
      },
      "execution_count": null,
      "outputs": [
        {
          "output_type": "execute_result",
          "data": {
            "text/plain": [
              "               Rank      Platform          Year         Genre     Publisher  \\\n",
              "count  3.320000e+03  3.320000e+03  3.320000e+03  3.320000e+03  3.320000e+03   \n",
              "mean  -1.305515e-16  7.062624e-17 -3.261648e-15  5.778510e-17  1.412525e-16   \n",
              "std    1.000000e+00  1.000000e+00  1.000000e+00  1.000000e+00  1.000000e+00   \n",
              "min   -1.732871e+00 -1.799644e+00 -4.490275e+00 -1.283930e+00 -1.681852e+00   \n",
              "25%   -8.383830e-01 -9.739747e-01 -5.808354e-01 -1.022321e+00 -8.485299e-01   \n",
              "50%   -6.800967e-03 -1.069391e-02  9.906712e-02  2.411209e-02  1.722900e-01   \n",
              "75%    8.708313e-01  5.397522e-01  6.089940e-01  8.089371e-01  8.701975e-01   \n",
              "max    1.751824e+00  1.778256e+00  1.628848e+00  1.593762e+00  1.620188e+00   \n",
              "\n",
              "           NA_Sales      EU_Sales      JP_Sales   Other_Sales  \n",
              "count  3.320000e+03  3.320000e+03  3.320000e+03  3.320000e+03  \n",
              "mean   4.066359e-17  3.210283e-17 -7.490661e-17 -2.996265e-17  \n",
              "std    1.000000e+00  1.000000e+00  1.000000e+00  1.000000e+00  \n",
              "min   -4.043636e-01 -3.307503e-01 -2.647239e-01 -3.168052e-01  \n",
              "25%   -4.043636e-01 -3.307503e-01 -2.647239e-01 -3.168052e-01  \n",
              "50%   -2.833561e-01 -2.854514e-01 -2.647239e-01 -2.497009e-01  \n",
              "75%   -3.755970e-02 -8.160626e-02 -1.329721e-01 -4.838788e-02  \n",
              "max    2.081732e+01  2.066530e+01  1.745589e+01  2.746439e+01  "
            ],
            "text/html": [
              "\n",
              "  <div id=\"df-0cf7a5be-5ffb-48c0-bfe9-082eb1d53445\">\n",
              "    <div class=\"colab-df-container\">\n",
              "      <div>\n",
              "<style scoped>\n",
              "    .dataframe tbody tr th:only-of-type {\n",
              "        vertical-align: middle;\n",
              "    }\n",
              "\n",
              "    .dataframe tbody tr th {\n",
              "        vertical-align: top;\n",
              "    }\n",
              "\n",
              "    .dataframe thead th {\n",
              "        text-align: right;\n",
              "    }\n",
              "</style>\n",
              "<table border=\"1\" class=\"dataframe\">\n",
              "  <thead>\n",
              "    <tr style=\"text-align: right;\">\n",
              "      <th></th>\n",
              "      <th>Rank</th>\n",
              "      <th>Platform</th>\n",
              "      <th>Year</th>\n",
              "      <th>Genre</th>\n",
              "      <th>Publisher</th>\n",
              "      <th>NA_Sales</th>\n",
              "      <th>EU_Sales</th>\n",
              "      <th>JP_Sales</th>\n",
              "      <th>Other_Sales</th>\n",
              "    </tr>\n",
              "  </thead>\n",
              "  <tbody>\n",
              "    <tr>\n",
              "      <th>count</th>\n",
              "      <td>3.320000e+03</td>\n",
              "      <td>3.320000e+03</td>\n",
              "      <td>3.320000e+03</td>\n",
              "      <td>3.320000e+03</td>\n",
              "      <td>3.320000e+03</td>\n",
              "      <td>3.320000e+03</td>\n",
              "      <td>3.320000e+03</td>\n",
              "      <td>3.320000e+03</td>\n",
              "      <td>3.320000e+03</td>\n",
              "    </tr>\n",
              "    <tr>\n",
              "      <th>mean</th>\n",
              "      <td>-1.305515e-16</td>\n",
              "      <td>7.062624e-17</td>\n",
              "      <td>-3.261648e-15</td>\n",
              "      <td>5.778510e-17</td>\n",
              "      <td>1.412525e-16</td>\n",
              "      <td>4.066359e-17</td>\n",
              "      <td>3.210283e-17</td>\n",
              "      <td>-7.490661e-17</td>\n",
              "      <td>-2.996265e-17</td>\n",
              "    </tr>\n",
              "    <tr>\n",
              "      <th>std</th>\n",
              "      <td>1.000000e+00</td>\n",
              "      <td>1.000000e+00</td>\n",
              "      <td>1.000000e+00</td>\n",
              "      <td>1.000000e+00</td>\n",
              "      <td>1.000000e+00</td>\n",
              "      <td>1.000000e+00</td>\n",
              "      <td>1.000000e+00</td>\n",
              "      <td>1.000000e+00</td>\n",
              "      <td>1.000000e+00</td>\n",
              "    </tr>\n",
              "    <tr>\n",
              "      <th>min</th>\n",
              "      <td>-1.732871e+00</td>\n",
              "      <td>-1.799644e+00</td>\n",
              "      <td>-4.490275e+00</td>\n",
              "      <td>-1.283930e+00</td>\n",
              "      <td>-1.681852e+00</td>\n",
              "      <td>-4.043636e-01</td>\n",
              "      <td>-3.307503e-01</td>\n",
              "      <td>-2.647239e-01</td>\n",
              "      <td>-3.168052e-01</td>\n",
              "    </tr>\n",
              "    <tr>\n",
              "      <th>25%</th>\n",
              "      <td>-8.383830e-01</td>\n",
              "      <td>-9.739747e-01</td>\n",
              "      <td>-5.808354e-01</td>\n",
              "      <td>-1.022321e+00</td>\n",
              "      <td>-8.485299e-01</td>\n",
              "      <td>-4.043636e-01</td>\n",
              "      <td>-3.307503e-01</td>\n",
              "      <td>-2.647239e-01</td>\n",
              "      <td>-3.168052e-01</td>\n",
              "    </tr>\n",
              "    <tr>\n",
              "      <th>50%</th>\n",
              "      <td>-6.800967e-03</td>\n",
              "      <td>-1.069391e-02</td>\n",
              "      <td>9.906712e-02</td>\n",
              "      <td>2.411209e-02</td>\n",
              "      <td>1.722900e-01</td>\n",
              "      <td>-2.833561e-01</td>\n",
              "      <td>-2.854514e-01</td>\n",
              "      <td>-2.647239e-01</td>\n",
              "      <td>-2.497009e-01</td>\n",
              "    </tr>\n",
              "    <tr>\n",
              "      <th>75%</th>\n",
              "      <td>8.708313e-01</td>\n",
              "      <td>5.397522e-01</td>\n",
              "      <td>6.089940e-01</td>\n",
              "      <td>8.089371e-01</td>\n",
              "      <td>8.701975e-01</td>\n",
              "      <td>-3.755970e-02</td>\n",
              "      <td>-8.160626e-02</td>\n",
              "      <td>-1.329721e-01</td>\n",
              "      <td>-4.838788e-02</td>\n",
              "    </tr>\n",
              "    <tr>\n",
              "      <th>max</th>\n",
              "      <td>1.751824e+00</td>\n",
              "      <td>1.778256e+00</td>\n",
              "      <td>1.628848e+00</td>\n",
              "      <td>1.593762e+00</td>\n",
              "      <td>1.620188e+00</td>\n",
              "      <td>2.081732e+01</td>\n",
              "      <td>2.066530e+01</td>\n",
              "      <td>1.745589e+01</td>\n",
              "      <td>2.746439e+01</td>\n",
              "    </tr>\n",
              "  </tbody>\n",
              "</table>\n",
              "</div>\n",
              "      <button class=\"colab-df-convert\" onclick=\"convertToInteractive('df-0cf7a5be-5ffb-48c0-bfe9-082eb1d53445')\"\n",
              "              title=\"Convert this dataframe to an interactive table.\"\n",
              "              style=\"display:none;\">\n",
              "        \n",
              "  <svg xmlns=\"http://www.w3.org/2000/svg\" height=\"24px\"viewBox=\"0 0 24 24\"\n",
              "       width=\"24px\">\n",
              "    <path d=\"M0 0h24v24H0V0z\" fill=\"none\"/>\n",
              "    <path d=\"M18.56 5.44l.94 2.06.94-2.06 2.06-.94-2.06-.94-.94-2.06-.94 2.06-2.06.94zm-11 1L8.5 8.5l.94-2.06 2.06-.94-2.06-.94L8.5 2.5l-.94 2.06-2.06.94zm10 10l.94 2.06.94-2.06 2.06-.94-2.06-.94-.94-2.06-.94 2.06-2.06.94z\"/><path d=\"M17.41 7.96l-1.37-1.37c-.4-.4-.92-.59-1.43-.59-.52 0-1.04.2-1.43.59L10.3 9.45l-7.72 7.72c-.78.78-.78 2.05 0 2.83L4 21.41c.39.39.9.59 1.41.59.51 0 1.02-.2 1.41-.59l7.78-7.78 2.81-2.81c.8-.78.8-2.07 0-2.86zM5.41 20L4 18.59l7.72-7.72 1.47 1.35L5.41 20z\"/>\n",
              "  </svg>\n",
              "      </button>\n",
              "      \n",
              "  <style>\n",
              "    .colab-df-container {\n",
              "      display:flex;\n",
              "      flex-wrap:wrap;\n",
              "      gap: 12px;\n",
              "    }\n",
              "\n",
              "    .colab-df-convert {\n",
              "      background-color: #E8F0FE;\n",
              "      border: none;\n",
              "      border-radius: 50%;\n",
              "      cursor: pointer;\n",
              "      display: none;\n",
              "      fill: #1967D2;\n",
              "      height: 32px;\n",
              "      padding: 0 0 0 0;\n",
              "      width: 32px;\n",
              "    }\n",
              "\n",
              "    .colab-df-convert:hover {\n",
              "      background-color: #E2EBFA;\n",
              "      box-shadow: 0px 1px 2px rgba(60, 64, 67, 0.3), 0px 1px 3px 1px rgba(60, 64, 67, 0.15);\n",
              "      fill: #174EA6;\n",
              "    }\n",
              "\n",
              "    [theme=dark] .colab-df-convert {\n",
              "      background-color: #3B4455;\n",
              "      fill: #D2E3FC;\n",
              "    }\n",
              "\n",
              "    [theme=dark] .colab-df-convert:hover {\n",
              "      background-color: #434B5C;\n",
              "      box-shadow: 0px 1px 3px 1px rgba(0, 0, 0, 0.15);\n",
              "      filter: drop-shadow(0px 1px 2px rgba(0, 0, 0, 0.3));\n",
              "      fill: #FFFFFF;\n",
              "    }\n",
              "  </style>\n",
              "\n",
              "      <script>\n",
              "        const buttonEl =\n",
              "          document.querySelector('#df-0cf7a5be-5ffb-48c0-bfe9-082eb1d53445 button.colab-df-convert');\n",
              "        buttonEl.style.display =\n",
              "          google.colab.kernel.accessAllowed ? 'block' : 'none';\n",
              "\n",
              "        async function convertToInteractive(key) {\n",
              "          const element = document.querySelector('#df-0cf7a5be-5ffb-48c0-bfe9-082eb1d53445');\n",
              "          const dataTable =\n",
              "            await google.colab.kernel.invokeFunction('convertToInteractive',\n",
              "                                                     [key], {});\n",
              "          if (!dataTable) return;\n",
              "\n",
              "          const docLinkHtml = 'Like what you see? Visit the ' +\n",
              "            '<a target=\"_blank\" href=https://colab.research.google.com/notebooks/data_table.ipynb>data table notebook</a>'\n",
              "            + ' to learn more about interactive tables.';\n",
              "          element.innerHTML = '';\n",
              "          dataTable['output_type'] = 'display_data';\n",
              "          await google.colab.output.renderOutput(dataTable, element);\n",
              "          const docLink = document.createElement('div');\n",
              "          docLink.innerHTML = docLinkHtml;\n",
              "          element.appendChild(docLink);\n",
              "        }\n",
              "      </script>\n",
              "    </div>\n",
              "  </div>\n",
              "  "
            ]
          },
          "metadata": {},
          "execution_count": 402
        }
      ]
    },
    {
      "cell_type": "code",
      "source": [
        "test_data.shape"
      ],
      "metadata": {
        "colab": {
          "base_uri": "https://localhost:8080/"
        },
        "id": "7g0kSFmSzhNL",
        "outputId": "336f87b9-2e80-4553-d0b2-bcd8ee8889e9"
      },
      "execution_count": null,
      "outputs": [
        {
          "output_type": "execute_result",
          "data": {
            "text/plain": [
              "(3320, 9)"
            ]
          },
          "metadata": {},
          "execution_count": 403
        }
      ]
    },
    {
      "cell_type": "markdown",
      "source": [
        "**Prediction**"
      ],
      "metadata": {
        "id": "4bKlDIUooRRW"
      }
    },
    {
      "cell_type": "code",
      "source": [
        "#predict() for doing prediction on test data\n",
        "train_prediction = boosting.predict(test_data)"
      ],
      "metadata": {
        "id": "GAKHFGGFDxL2"
      },
      "execution_count": null,
      "outputs": []
    },
    {
      "cell_type": "code",
      "source": [
        "prediction_Sales = pd.DataFrame({'Global':train_prediction})\n",
        "prediction_Sales.to_csv('prediction_Sales.csv',index=False)"
      ],
      "metadata": {
        "id": "iFmAo0qQDxGR"
      },
      "execution_count": null,
      "outputs": []
    },
    {
      "cell_type": "code",
      "source": [
        "prediction_Sales.shape"
      ],
      "metadata": {
        "colab": {
          "base_uri": "https://localhost:8080/"
        },
        "id": "wFwrg_o8J9Qb",
        "outputId": "5ca63bb7-857f-4c4a-ee71-c8669ef76375"
      },
      "execution_count": null,
      "outputs": [
        {
          "output_type": "execute_result",
          "data": {
            "text/plain": [
              "(3320, 1)"
            ]
          },
          "metadata": {},
          "execution_count": 406
        }
      ]
    },
    {
      "cell_type": "code",
      "source": [
        "prediction_Sales.head()"
      ],
      "metadata": {
        "id": "rDNorVtdj_vD",
        "colab": {
          "base_uri": "https://localhost:8080/",
          "height": 206
        },
        "outputId": "9741a57a-9dee-4f25-e9cb-84de3aa0db56"
      },
      "execution_count": null,
      "outputs": [
        {
          "output_type": "execute_result",
          "data": {
            "text/plain": [
              "      Global\n",
              "0  82.729568\n",
              "1  82.728508\n",
              "2  82.728508\n",
              "3  82.718575\n",
              "4  82.728508"
            ],
            "text/html": [
              "\n",
              "  <div id=\"df-3e6fb99a-6812-4487-bd38-60a81251129e\">\n",
              "    <div class=\"colab-df-container\">\n",
              "      <div>\n",
              "<style scoped>\n",
              "    .dataframe tbody tr th:only-of-type {\n",
              "        vertical-align: middle;\n",
              "    }\n",
              "\n",
              "    .dataframe tbody tr th {\n",
              "        vertical-align: top;\n",
              "    }\n",
              "\n",
              "    .dataframe thead th {\n",
              "        text-align: right;\n",
              "    }\n",
              "</style>\n",
              "<table border=\"1\" class=\"dataframe\">\n",
              "  <thead>\n",
              "    <tr style=\"text-align: right;\">\n",
              "      <th></th>\n",
              "      <th>Global</th>\n",
              "    </tr>\n",
              "  </thead>\n",
              "  <tbody>\n",
              "    <tr>\n",
              "      <th>0</th>\n",
              "      <td>82.729568</td>\n",
              "    </tr>\n",
              "    <tr>\n",
              "      <th>1</th>\n",
              "      <td>82.728508</td>\n",
              "    </tr>\n",
              "    <tr>\n",
              "      <th>2</th>\n",
              "      <td>82.728508</td>\n",
              "    </tr>\n",
              "    <tr>\n",
              "      <th>3</th>\n",
              "      <td>82.718575</td>\n",
              "    </tr>\n",
              "    <tr>\n",
              "      <th>4</th>\n",
              "      <td>82.728508</td>\n",
              "    </tr>\n",
              "  </tbody>\n",
              "</table>\n",
              "</div>\n",
              "      <button class=\"colab-df-convert\" onclick=\"convertToInteractive('df-3e6fb99a-6812-4487-bd38-60a81251129e')\"\n",
              "              title=\"Convert this dataframe to an interactive table.\"\n",
              "              style=\"display:none;\">\n",
              "        \n",
              "  <svg xmlns=\"http://www.w3.org/2000/svg\" height=\"24px\"viewBox=\"0 0 24 24\"\n",
              "       width=\"24px\">\n",
              "    <path d=\"M0 0h24v24H0V0z\" fill=\"none\"/>\n",
              "    <path d=\"M18.56 5.44l.94 2.06.94-2.06 2.06-.94-2.06-.94-.94-2.06-.94 2.06-2.06.94zm-11 1L8.5 8.5l.94-2.06 2.06-.94-2.06-.94L8.5 2.5l-.94 2.06-2.06.94zm10 10l.94 2.06.94-2.06 2.06-.94-2.06-.94-.94-2.06-.94 2.06-2.06.94z\"/><path d=\"M17.41 7.96l-1.37-1.37c-.4-.4-.92-.59-1.43-.59-.52 0-1.04.2-1.43.59L10.3 9.45l-7.72 7.72c-.78.78-.78 2.05 0 2.83L4 21.41c.39.39.9.59 1.41.59.51 0 1.02-.2 1.41-.59l7.78-7.78 2.81-2.81c.8-.78.8-2.07 0-2.86zM5.41 20L4 18.59l7.72-7.72 1.47 1.35L5.41 20z\"/>\n",
              "  </svg>\n",
              "      </button>\n",
              "      \n",
              "  <style>\n",
              "    .colab-df-container {\n",
              "      display:flex;\n",
              "      flex-wrap:wrap;\n",
              "      gap: 12px;\n",
              "    }\n",
              "\n",
              "    .colab-df-convert {\n",
              "      background-color: #E8F0FE;\n",
              "      border: none;\n",
              "      border-radius: 50%;\n",
              "      cursor: pointer;\n",
              "      display: none;\n",
              "      fill: #1967D2;\n",
              "      height: 32px;\n",
              "      padding: 0 0 0 0;\n",
              "      width: 32px;\n",
              "    }\n",
              "\n",
              "    .colab-df-convert:hover {\n",
              "      background-color: #E2EBFA;\n",
              "      box-shadow: 0px 1px 2px rgba(60, 64, 67, 0.3), 0px 1px 3px 1px rgba(60, 64, 67, 0.15);\n",
              "      fill: #174EA6;\n",
              "    }\n",
              "\n",
              "    [theme=dark] .colab-df-convert {\n",
              "      background-color: #3B4455;\n",
              "      fill: #D2E3FC;\n",
              "    }\n",
              "\n",
              "    [theme=dark] .colab-df-convert:hover {\n",
              "      background-color: #434B5C;\n",
              "      box-shadow: 0px 1px 3px 1px rgba(0, 0, 0, 0.15);\n",
              "      filter: drop-shadow(0px 1px 2px rgba(0, 0, 0, 0.3));\n",
              "      fill: #FFFFFF;\n",
              "    }\n",
              "  </style>\n",
              "\n",
              "      <script>\n",
              "        const buttonEl =\n",
              "          document.querySelector('#df-3e6fb99a-6812-4487-bd38-60a81251129e button.colab-df-convert');\n",
              "        buttonEl.style.display =\n",
              "          google.colab.kernel.accessAllowed ? 'block' : 'none';\n",
              "\n",
              "        async function convertToInteractive(key) {\n",
              "          const element = document.querySelector('#df-3e6fb99a-6812-4487-bd38-60a81251129e');\n",
              "          const dataTable =\n",
              "            await google.colab.kernel.invokeFunction('convertToInteractive',\n",
              "                                                     [key], {});\n",
              "          if (!dataTable) return;\n",
              "\n",
              "          const docLinkHtml = 'Like what you see? Visit the ' +\n",
              "            '<a target=\"_blank\" href=https://colab.research.google.com/notebooks/data_table.ipynb>data table notebook</a>'\n",
              "            + ' to learn more about interactive tables.';\n",
              "          element.innerHTML = '';\n",
              "          dataTable['output_type'] = 'display_data';\n",
              "          await google.colab.output.renderOutput(dataTable, element);\n",
              "          const docLink = document.createElement('div');\n",
              "          docLink.innerHTML = docLinkHtml;\n",
              "          element.appendChild(docLink);\n",
              "        }\n",
              "      </script>\n",
              "    </div>\n",
              "  </div>\n",
              "  "
            ]
          },
          "metadata": {},
          "execution_count": 407
        }
      ]
    },
    {
      "cell_type": "code",
      "source": [],
      "metadata": {
        "id": "MUXKSM2PxRZp"
      },
      "execution_count": null,
      "outputs": []
    },
    {
      "cell_type": "code",
      "source": [],
      "metadata": {
        "id": "ZcPgzrvTxgKm"
      },
      "execution_count": null,
      "outputs": []
    }
  ]
}